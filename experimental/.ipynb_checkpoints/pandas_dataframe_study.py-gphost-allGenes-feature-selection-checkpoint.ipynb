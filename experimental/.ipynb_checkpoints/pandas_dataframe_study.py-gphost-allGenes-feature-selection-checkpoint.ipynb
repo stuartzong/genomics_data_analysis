{
 "cells": [
  {
   "cell_type": "code",
   "execution_count": 1,
   "metadata": {
    "collapsed": true
   },
   "outputs": [],
   "source": [
    "import matplotlib\n",
    "import seaborn\n",
    "import numpy as np\n",
    "import matplotlib.pyplot as plt\n",
    "from scipy.stats import ttest_ind\n",
    "import scipy.stats as ss\n",
    "from matplotlib import style\n",
    "matplotlib.style.use('ggplot')\n",
    "%matplotlib inline\n",
    "matplotlib.rcParams['figure.figsize'] = (15, 9)\n",
    "import pandas as pd\n",
    "\n",
    "from sklearn.decomposition import RandomizedPCA, PCA, TruncatedSVD\n",
    "from sklearn.linear_model import LogisticRegression\n",
    "from sklearn.manifold import TSNE\n",
    "from sklearn.preprocessing import StandardScaler\n",
    "import seaborn"
   ]
  },
  {
   "cell_type": "code",
   "execution_count": 2,
   "metadata": {
    "collapsed": false
   },
   "outputs": [
    {
     "name": "stdout",
     "output_type": "stream",
     "text": [
      "CPU times: user 24.3 s, sys: 1.12 s, total: 25.5 s\n",
      "Wall time: 25.4 s\n"
     ]
    }
   ],
   "source": [
    "%time df_expr = pd.read_csv('/projects/trans_scratch/validations/workspace/szong/Cervical/immune_expression/expression_matrix.dedup.txt')"
   ]
  },
  {
   "cell_type": "code",
   "execution_count": 3,
   "metadata": {
    "collapsed": false
   },
   "outputs": [
    {
     "data": {
      "text/html": [
       "<div>\n",
       "<table border=\"1\" class=\"dataframe\">\n",
       "  <thead>\n",
       "    <tr style=\"text-align: right;\">\n",
       "      <th></th>\n",
       "      <th>lib</th>\n",
       "      <th>SCYL3</th>\n",
       "      <th>C1orf112</th>\n",
       "      <th>FGR</th>\n",
       "      <th>CFH</th>\n",
       "      <th>STPG1</th>\n",
       "      <th>NIPAL3</th>\n",
       "      <th>AK2</th>\n",
       "      <th>KDM1A</th>\n",
       "      <th>TTC22</th>\n",
       "      <th>...</th>\n",
       "      <th>EIF4A1P2</th>\n",
       "      <th>MXRA5P1</th>\n",
       "      <th>CTBP2P1</th>\n",
       "      <th>ATP5JP1</th>\n",
       "      <th>PARP4P1</th>\n",
       "      <th>KALP</th>\n",
       "      <th>AC006157.2</th>\n",
       "      <th>RP11-886I11.1</th>\n",
       "      <th>RP11-886I11.3</th>\n",
       "      <th>RP11-886I11.2</th>\n",
       "    </tr>\n",
       "  </thead>\n",
       "  <tbody>\n",
       "    <tr>\n",
       "      <th>0</th>\n",
       "      <td>A37700</td>\n",
       "      <td>3.6416</td>\n",
       "      <td>4.8082</td>\n",
       "      <td>0.7059</td>\n",
       "      <td>14.3879</td>\n",
       "      <td>1.6436</td>\n",
       "      <td>8.7098</td>\n",
       "      <td>29.0268</td>\n",
       "      <td>43.5168</td>\n",
       "      <td>18.7297</td>\n",
       "      <td>...</td>\n",
       "      <td>0.0</td>\n",
       "      <td>0.0799</td>\n",
       "      <td>0.0369</td>\n",
       "      <td>0.0</td>\n",
       "      <td>0.0000</td>\n",
       "      <td>0.0</td>\n",
       "      <td>0.0</td>\n",
       "      <td>0.0</td>\n",
       "      <td>0.0</td>\n",
       "      <td>0.0</td>\n",
       "    </tr>\n",
       "    <tr>\n",
       "      <th>1</th>\n",
       "      <td>A37701</td>\n",
       "      <td>5.9656</td>\n",
       "      <td>3.9581</td>\n",
       "      <td>2.1283</td>\n",
       "      <td>22.7599</td>\n",
       "      <td>1.2715</td>\n",
       "      <td>6.1969</td>\n",
       "      <td>18.3112</td>\n",
       "      <td>21.3308</td>\n",
       "      <td>30.3388</td>\n",
       "      <td>...</td>\n",
       "      <td>0.0</td>\n",
       "      <td>0.0000</td>\n",
       "      <td>0.0000</td>\n",
       "      <td>0.0</td>\n",
       "      <td>0.0081</td>\n",
       "      <td>0.0</td>\n",
       "      <td>0.0</td>\n",
       "      <td>0.0</td>\n",
       "      <td>0.0</td>\n",
       "      <td>0.0</td>\n",
       "    </tr>\n",
       "  </tbody>\n",
       "</table>\n",
       "<p>2 rows × 42585 columns</p>\n",
       "</div>"
      ],
      "text/plain": [
       "      lib   SCYL3  C1orf112     FGR      CFH   STPG1  NIPAL3      AK2  \\\n",
       "0  A37700  3.6416    4.8082  0.7059  14.3879  1.6436  8.7098  29.0268   \n",
       "1  A37701  5.9656    3.9581  2.1283  22.7599  1.2715  6.1969  18.3112   \n",
       "\n",
       "     KDM1A    TTC22      ...        EIF4A1P2  MXRA5P1  CTBP2P1  ATP5JP1  \\\n",
       "0  43.5168  18.7297      ...             0.0   0.0799   0.0369      0.0   \n",
       "1  21.3308  30.3388      ...             0.0   0.0000   0.0000      0.0   \n",
       "\n",
       "   PARP4P1  KALP  AC006157.2  RP11-886I11.1  RP11-886I11.3  RP11-886I11.2  \n",
       "0   0.0000   0.0         0.0            0.0            0.0            0.0  \n",
       "1   0.0081   0.0         0.0            0.0            0.0            0.0  \n",
       "\n",
       "[2 rows x 42585 columns]"
      ]
     },
     "execution_count": 3,
     "metadata": {},
     "output_type": "execute_result"
    }
   ],
   "source": [
    "df_expr.head(2)"
   ]
  },
  {
   "cell_type": "code",
   "execution_count": 4,
   "metadata": {
    "collapsed": false
   },
   "outputs": [
    {
     "data": {
      "text/plain": [
       "(82, 42585)"
      ]
     },
     "execution_count": 4,
     "metadata": {},
     "output_type": "execute_result"
    }
   ],
   "source": [
    "df_expr.shape"
   ]
  },
  {
   "cell_type": "code",
   "execution_count": 5,
   "metadata": {
    "collapsed": false
   },
   "outputs": [],
   "source": [
    "gene_cols = df_expr.drop('lib', axis=1).columns.values"
   ]
  },
  {
   "cell_type": "code",
   "execution_count": 6,
   "metadata": {
    "collapsed": true
   },
   "outputs": [],
   "source": [
    "df_stat = pd.read_csv('/projects/trans_scratch/validations/workspace/szong/Cervical/immune_expression/hiv_status.txt', sep='\\t',header= None, names=['lib','hiv'])"
   ]
  },
  {
   "cell_type": "code",
   "execution_count": 7,
   "metadata": {
    "collapsed": false
   },
   "outputs": [
    {
     "data": {
      "text/plain": [
       "(82, 2)"
      ]
     },
     "execution_count": 7,
     "metadata": {},
     "output_type": "execute_result"
    }
   ],
   "source": [
    "df_stat.shape"
   ]
  },
  {
   "cell_type": "code",
   "execution_count": 8,
   "metadata": {
    "collapsed": false
   },
   "outputs": [
    {
     "data": {
      "text/html": [
       "<div>\n",
       "<table border=\"1\" class=\"dataframe\">\n",
       "  <thead>\n",
       "    <tr style=\"text-align: right;\">\n",
       "      <th></th>\n",
       "      <th>lib</th>\n",
       "      <th>hiv</th>\n",
       "    </tr>\n",
       "  </thead>\n",
       "  <tbody>\n",
       "    <tr>\n",
       "      <th>0</th>\n",
       "      <td>A37700</td>\n",
       "      <td>Positive</td>\n",
       "    </tr>\n",
       "    <tr>\n",
       "      <th>1</th>\n",
       "      <td>A37701</td>\n",
       "      <td>Negative</td>\n",
       "    </tr>\n",
       "  </tbody>\n",
       "</table>\n",
       "</div>"
      ],
      "text/plain": [
       "      lib       hiv\n",
       "0  A37700  Positive\n",
       "1  A37701  Negative"
      ]
     },
     "execution_count": 8,
     "metadata": {},
     "output_type": "execute_result"
    }
   ],
   "source": [
    "df_stat.head(2)"
   ]
  },
  {
   "cell_type": "code",
   "execution_count": 9,
   "metadata": {
    "collapsed": true
   },
   "outputs": [],
   "source": [
    "df_hist = pd.read_csv('/projects/trans_scratch/validations/workspace/szong/Cervical/variant_bwamem/82_patients/patient_histology_miRNA_prediction.csv', sep='\\t')"
   ]
  },
  {
   "cell_type": "code",
   "execution_count": 10,
   "metadata": {
    "collapsed": false
   },
   "outputs": [
    {
     "data": {
      "text/plain": [
       "(82, 23)"
      ]
     },
     "execution_count": 10,
     "metadata": {},
     "output_type": "execute_result"
    }
   ],
   "source": [
    "df_hist.shape"
   ]
  },
  {
   "cell_type": "code",
   "execution_count": 11,
   "metadata": {
    "collapsed": false
   },
   "outputs": [
    {
     "data": {
      "text/html": [
       "<div>\n",
       "<table border=\"1\" class=\"dataframe\">\n",
       "  <thead>\n",
       "    <tr style=\"text-align: right;\">\n",
       "      <th></th>\n",
       "      <th>mRNA_library</th>\n",
       "      <th>patient</th>\n",
       "      <th>putative_Histology</th>\n",
       "      <th>clinical_histolgy</th>\n",
       "      <th>Purity</th>\n",
       "      <th>num_mutated_genes</th>\n",
       "      <th>num_HPV_strains</th>\n",
       "      <th>PIK3CA</th>\n",
       "      <th>HLA-B</th>\n",
       "      <th>HLA-A</th>\n",
       "      <th>...</th>\n",
       "      <th>NFE2L2</th>\n",
       "      <th>ARID1A</th>\n",
       "      <th>CASP8</th>\n",
       "      <th>ERBB3</th>\n",
       "      <th>KRAS</th>\n",
       "      <th>PTEN</th>\n",
       "      <th>TGFBR2</th>\n",
       "      <th>MAPK1</th>\n",
       "      <th>MED1</th>\n",
       "      <th>HIV_status</th>\n",
       "    </tr>\n",
       "  </thead>\n",
       "  <tbody>\n",
       "    <tr>\n",
       "      <th>0</th>\n",
       "      <td>A37700</td>\n",
       "      <td>HTMCP-03-06-02001</td>\n",
       "      <td>Squamous</td>\n",
       "      <td>NaN</td>\n",
       "      <td>60.00</td>\n",
       "      <td>247</td>\n",
       "      <td>1</td>\n",
       "      <td>Yes</td>\n",
       "      <td>No</td>\n",
       "      <td>No</td>\n",
       "      <td>...</td>\n",
       "      <td>No</td>\n",
       "      <td>No</td>\n",
       "      <td>No</td>\n",
       "      <td>No</td>\n",
       "      <td>No</td>\n",
       "      <td>No</td>\n",
       "      <td>No</td>\n",
       "      <td>No</td>\n",
       "      <td>No</td>\n",
       "      <td>Positive</td>\n",
       "    </tr>\n",
       "    <tr>\n",
       "      <th>1</th>\n",
       "      <td>A37701</td>\n",
       "      <td>HTMCP-03-06-02002</td>\n",
       "      <td>Squamous</td>\n",
       "      <td>NaN</td>\n",
       "      <td>71.25</td>\n",
       "      <td>180</td>\n",
       "      <td>1</td>\n",
       "      <td>Yes</td>\n",
       "      <td>No</td>\n",
       "      <td>Yes</td>\n",
       "      <td>...</td>\n",
       "      <td>Yes</td>\n",
       "      <td>No</td>\n",
       "      <td>No</td>\n",
       "      <td>No</td>\n",
       "      <td>No</td>\n",
       "      <td>No</td>\n",
       "      <td>No</td>\n",
       "      <td>No</td>\n",
       "      <td>No</td>\n",
       "      <td>Negative</td>\n",
       "    </tr>\n",
       "  </tbody>\n",
       "</table>\n",
       "<p>2 rows × 23 columns</p>\n",
       "</div>"
      ],
      "text/plain": [
       "  mRNA_library            patient putative_Histology clinical_histolgy  \\\n",
       "0       A37700  HTMCP-03-06-02001           Squamous               NaN   \n",
       "1       A37701  HTMCP-03-06-02002           Squamous               NaN   \n",
       "\n",
       "   Purity  num_mutated_genes  num_HPV_strains PIK3CA HLA-B HLA-A    ...      \\\n",
       "0   60.00                247                1    Yes    No    No    ...       \n",
       "1   71.25                180                1    Yes    No   Yes    ...       \n",
       "\n",
       "  NFE2L2 ARID1A CASP8 ERBB3 KRAS PTEN TGFBR2 MAPK1 MED1 HIV_status  \n",
       "0     No     No    No    No   No   No     No    No   No   Positive  \n",
       "1    Yes     No    No    No   No   No     No    No   No   Negative  \n",
       "\n",
       "[2 rows x 23 columns]"
      ]
     },
     "execution_count": 11,
     "metadata": {},
     "output_type": "execute_result"
    }
   ],
   "source": [
    "df_hist.head(2)"
   ]
  },
  {
   "cell_type": "code",
   "execution_count": 12,
   "metadata": {
    "collapsed": false
   },
   "outputs": [],
   "source": [
    "df_hist.rename(columns={'mRNA_library': 'lib', 'HIV_status': 'hiv'}, inplace=True)"
   ]
  },
  {
   "cell_type": "code",
   "execution_count": 13,
   "metadata": {
    "collapsed": true
   },
   "outputs": [],
   "source": [
    "_mut_genes = ['PIK3CA', 'HLA-B', 'HLA-A', 'FBXW7', 'EP300', 'ERBB2', 'NFE2L2', 'ARID1A', 'CASP8', 'ERBB3', 'KRAS', 'PTEN', 'TGFBR2', 'MAPK1', 'MED1']\n",
    "mut_genes = ['{0}_mut'.format(_) for _ in _mut_genes]"
   ]
  },
  {
   "cell_type": "code",
   "execution_count": 14,
   "metadata": {
    "collapsed": false
   },
   "outputs": [],
   "source": [
    "df_hist.rename(columns=dict(zip(_mut_genes, mut_genes)), inplace=True)"
   ]
  },
  {
   "cell_type": "code",
   "execution_count": 15,
   "metadata": {
    "collapsed": false
   },
   "outputs": [],
   "source": [
    "df_hist[mut_genes] = df_hist[mut_genes].replace({'Yes': 1, 'No': 0})"
   ]
  },
  {
   "cell_type": "code",
   "execution_count": 16,
   "metadata": {
    "collapsed": false
   },
   "outputs": [],
   "source": [
    "merged = pd.merge(df_expr, df_stat, on='lib')"
   ]
  },
  {
   "cell_type": "code",
   "execution_count": 17,
   "metadata": {
    "collapsed": true
   },
   "outputs": [],
   "source": [
    "merged = merged.merge(df_hist, on=['lib', 'hiv'])"
   ]
  },
  {
   "cell_type": "code",
   "execution_count": 18,
   "metadata": {
    "collapsed": false
   },
   "outputs": [
    {
     "data": {
      "text/plain": [
       "(82, 42607)"
      ]
     },
     "execution_count": 18,
     "metadata": {},
     "output_type": "execute_result"
    }
   ],
   "source": [
    "merged.shape"
   ]
  },
  {
   "cell_type": "code",
   "execution_count": 19,
   "metadata": {
    "collapsed": false,
    "scrolled": true
   },
   "outputs": [
    {
     "data": {
      "text/plain": [
       "Index([u'lib', u'SCYL3', u'C1orf112', u'FGR', u'CFH', u'STPG1', u'NIPAL3',\n",
       "       u'AK2', u'KDM1A', u'TTC22',\n",
       "       ...\n",
       "       u'ERBB2_mut', u'NFE2L2_mut', u'ARID1A_mut', u'CASP8_mut', u'ERBB3_mut',\n",
       "       u'KRAS_mut', u'PTEN_mut', u'TGFBR2_mut', u'MAPK1_mut', u'MED1_mut'],\n",
       "      dtype='object', length=42607)"
      ]
     },
     "execution_count": 19,
     "metadata": {},
     "output_type": "execute_result"
    }
   ],
   "source": [
    "merged.columns"
   ]
  },
  {
   "cell_type": "code",
   "execution_count": 20,
   "metadata": {
    "collapsed": false
   },
   "outputs": [
    {
     "data": {
      "text/plain": [
       "(82, 42607)"
      ]
     },
     "execution_count": 20,
     "metadata": {},
     "output_type": "execute_result"
    }
   ],
   "source": [
    "merged.shape"
   ]
  },
  {
   "cell_type": "code",
   "execution_count": 21,
   "metadata": {
    "collapsed": false
   },
   "outputs": [
    {
     "data": {
      "text/html": [
       "<div>\n",
       "<table border=\"1\" class=\"dataframe\">\n",
       "  <thead>\n",
       "    <tr style=\"text-align: right;\">\n",
       "      <th></th>\n",
       "      <th>lib</th>\n",
       "      <th>SCYL3</th>\n",
       "      <th>C1orf112</th>\n",
       "      <th>FGR</th>\n",
       "      <th>CFH</th>\n",
       "      <th>STPG1</th>\n",
       "      <th>NIPAL3</th>\n",
       "      <th>AK2</th>\n",
       "      <th>KDM1A</th>\n",
       "      <th>TTC22</th>\n",
       "      <th>...</th>\n",
       "      <th>ERBB2_mut</th>\n",
       "      <th>NFE2L2_mut</th>\n",
       "      <th>ARID1A_mut</th>\n",
       "      <th>CASP8_mut</th>\n",
       "      <th>ERBB3_mut</th>\n",
       "      <th>KRAS_mut</th>\n",
       "      <th>PTEN_mut</th>\n",
       "      <th>TGFBR2_mut</th>\n",
       "      <th>MAPK1_mut</th>\n",
       "      <th>MED1_mut</th>\n",
       "    </tr>\n",
       "  </thead>\n",
       "  <tbody>\n",
       "    <tr>\n",
       "      <th>0</th>\n",
       "      <td>A37700</td>\n",
       "      <td>3.6416</td>\n",
       "      <td>4.8082</td>\n",
       "      <td>0.7059</td>\n",
       "      <td>14.3879</td>\n",
       "      <td>1.6436</td>\n",
       "      <td>8.7098</td>\n",
       "      <td>29.0268</td>\n",
       "      <td>43.5168</td>\n",
       "      <td>18.7297</td>\n",
       "      <td>...</td>\n",
       "      <td>0</td>\n",
       "      <td>0</td>\n",
       "      <td>0</td>\n",
       "      <td>0</td>\n",
       "      <td>0</td>\n",
       "      <td>0</td>\n",
       "      <td>0</td>\n",
       "      <td>0</td>\n",
       "      <td>0</td>\n",
       "      <td>0</td>\n",
       "    </tr>\n",
       "    <tr>\n",
       "      <th>1</th>\n",
       "      <td>A37701</td>\n",
       "      <td>5.9656</td>\n",
       "      <td>3.9581</td>\n",
       "      <td>2.1283</td>\n",
       "      <td>22.7599</td>\n",
       "      <td>1.2715</td>\n",
       "      <td>6.1969</td>\n",
       "      <td>18.3112</td>\n",
       "      <td>21.3308</td>\n",
       "      <td>30.3388</td>\n",
       "      <td>...</td>\n",
       "      <td>0</td>\n",
       "      <td>1</td>\n",
       "      <td>0</td>\n",
       "      <td>0</td>\n",
       "      <td>0</td>\n",
       "      <td>0</td>\n",
       "      <td>0</td>\n",
       "      <td>0</td>\n",
       "      <td>0</td>\n",
       "      <td>0</td>\n",
       "    </tr>\n",
       "  </tbody>\n",
       "</table>\n",
       "<p>2 rows × 42607 columns</p>\n",
       "</div>"
      ],
      "text/plain": [
       "      lib   SCYL3  C1orf112     FGR      CFH   STPG1  NIPAL3      AK2  \\\n",
       "0  A37700  3.6416    4.8082  0.7059  14.3879  1.6436  8.7098  29.0268   \n",
       "1  A37701  5.9656    3.9581  2.1283  22.7599  1.2715  6.1969  18.3112   \n",
       "\n",
       "     KDM1A    TTC22    ...     ERBB2_mut  NFE2L2_mut  ARID1A_mut  CASP8_mut  \\\n",
       "0  43.5168  18.7297    ...             0           0           0          0   \n",
       "1  21.3308  30.3388    ...             0           1           0          0   \n",
       "\n",
       "   ERBB3_mut  KRAS_mut  PTEN_mut  TGFBR2_mut  MAPK1_mut  MED1_mut  \n",
       "0          0         0         0           0          0         0  \n",
       "1          0         0         0           0          0         0  \n",
       "\n",
       "[2 rows x 42607 columns]"
      ]
     },
     "execution_count": 21,
     "metadata": {},
     "output_type": "execute_result"
    }
   ],
   "source": [
    "merged.head(2)"
   ]
  },
  {
   "cell_type": "code",
   "execution_count": 22,
   "metadata": {
    "collapsed": false
   },
   "outputs": [
    {
     "data": {
      "text/plain": [
       "(42584,)"
      ]
     },
     "execution_count": 22,
     "metadata": {},
     "output_type": "execute_result"
    }
   ],
   "source": [
    "gene_cols.shape"
   ]
  },
  {
   "cell_type": "code",
   "execution_count": 23,
   "metadata": {
    "collapsed": true
   },
   "outputs": [],
   "source": [
    "val_cols = gene_cols.tolist() + mut_genes"
   ]
  },
  {
   "cell_type": "code",
   "execution_count": 24,
   "metadata": {
    "collapsed": false
   },
   "outputs": [],
   "source": [
    "df_expr_scaled = merged[val_cols].copy()"
   ]
  },
  {
   "cell_type": "code",
   "execution_count": 25,
   "metadata": {
    "collapsed": false
   },
   "outputs": [
    {
     "data": {
      "text/plain": [
       "(82, 42599)"
      ]
     },
     "execution_count": 25,
     "metadata": {},
     "output_type": "execute_result"
    }
   ],
   "source": [
    "df_expr_scaled.shape"
   ]
  },
  {
   "cell_type": "code",
   "execution_count": 26,
   "metadata": {
    "collapsed": false
   },
   "outputs": [
    {
     "data": {
      "text/plain": [
       "(42599,)"
      ]
     },
     "execution_count": 26,
     "metadata": {},
     "output_type": "execute_result"
    }
   ],
   "source": [
    "df_expr_scaled.columns.unique().shape"
   ]
  },
  {
   "cell_type": "code",
   "execution_count": 27,
   "metadata": {
    "collapsed": false
   },
   "outputs": [
    {
     "data": {
      "text/html": [
       "<div>\n",
       "<table border=\"1\" class=\"dataframe\">\n",
       "  <thead>\n",
       "    <tr style=\"text-align: right;\">\n",
       "      <th></th>\n",
       "      <th>SCYL3</th>\n",
       "      <th>C1orf112</th>\n",
       "      <th>FGR</th>\n",
       "      <th>CFH</th>\n",
       "      <th>STPG1</th>\n",
       "      <th>NIPAL3</th>\n",
       "      <th>AK2</th>\n",
       "      <th>KDM1A</th>\n",
       "      <th>TTC22</th>\n",
       "      <th>ST7L</th>\n",
       "      <th>...</th>\n",
       "      <th>ERBB2_mut</th>\n",
       "      <th>NFE2L2_mut</th>\n",
       "      <th>ARID1A_mut</th>\n",
       "      <th>CASP8_mut</th>\n",
       "      <th>ERBB3_mut</th>\n",
       "      <th>KRAS_mut</th>\n",
       "      <th>PTEN_mut</th>\n",
       "      <th>TGFBR2_mut</th>\n",
       "      <th>MAPK1_mut</th>\n",
       "      <th>MED1_mut</th>\n",
       "    </tr>\n",
       "  </thead>\n",
       "  <tbody>\n",
       "    <tr>\n",
       "      <th>0</th>\n",
       "      <td>3.6416</td>\n",
       "      <td>4.8082</td>\n",
       "      <td>0.7059</td>\n",
       "      <td>14.3879</td>\n",
       "      <td>1.6436</td>\n",
       "      <td>8.7098</td>\n",
       "      <td>29.0268</td>\n",
       "      <td>43.5168</td>\n",
       "      <td>18.7297</td>\n",
       "      <td>1.3490</td>\n",
       "      <td>...</td>\n",
       "      <td>0</td>\n",
       "      <td>0</td>\n",
       "      <td>0</td>\n",
       "      <td>0</td>\n",
       "      <td>0</td>\n",
       "      <td>0</td>\n",
       "      <td>0</td>\n",
       "      <td>0</td>\n",
       "      <td>0</td>\n",
       "      <td>0</td>\n",
       "    </tr>\n",
       "    <tr>\n",
       "      <th>1</th>\n",
       "      <td>5.9656</td>\n",
       "      <td>3.9581</td>\n",
       "      <td>2.1283</td>\n",
       "      <td>22.7599</td>\n",
       "      <td>1.2715</td>\n",
       "      <td>6.1969</td>\n",
       "      <td>18.3112</td>\n",
       "      <td>21.3308</td>\n",
       "      <td>30.3388</td>\n",
       "      <td>1.8652</td>\n",
       "      <td>...</td>\n",
       "      <td>0</td>\n",
       "      <td>1</td>\n",
       "      <td>0</td>\n",
       "      <td>0</td>\n",
       "      <td>0</td>\n",
       "      <td>0</td>\n",
       "      <td>0</td>\n",
       "      <td>0</td>\n",
       "      <td>0</td>\n",
       "      <td>0</td>\n",
       "    </tr>\n",
       "    <tr>\n",
       "      <th>2</th>\n",
       "      <td>4.1159</td>\n",
       "      <td>3.6884</td>\n",
       "      <td>2.5235</td>\n",
       "      <td>31.4999</td>\n",
       "      <td>1.5497</td>\n",
       "      <td>5.8850</td>\n",
       "      <td>18.4245</td>\n",
       "      <td>30.6941</td>\n",
       "      <td>6.5238</td>\n",
       "      <td>1.5273</td>\n",
       "      <td>...</td>\n",
       "      <td>0</td>\n",
       "      <td>0</td>\n",
       "      <td>0</td>\n",
       "      <td>0</td>\n",
       "      <td>0</td>\n",
       "      <td>0</td>\n",
       "      <td>0</td>\n",
       "      <td>0</td>\n",
       "      <td>0</td>\n",
       "      <td>0</td>\n",
       "    </tr>\n",
       "    <tr>\n",
       "      <th>3</th>\n",
       "      <td>5.5611</td>\n",
       "      <td>7.3219</td>\n",
       "      <td>1.4132</td>\n",
       "      <td>38.0311</td>\n",
       "      <td>1.7007</td>\n",
       "      <td>5.3582</td>\n",
       "      <td>16.8159</td>\n",
       "      <td>26.8179</td>\n",
       "      <td>5.2079</td>\n",
       "      <td>1.2286</td>\n",
       "      <td>...</td>\n",
       "      <td>0</td>\n",
       "      <td>0</td>\n",
       "      <td>0</td>\n",
       "      <td>0</td>\n",
       "      <td>0</td>\n",
       "      <td>0</td>\n",
       "      <td>0</td>\n",
       "      <td>0</td>\n",
       "      <td>0</td>\n",
       "      <td>0</td>\n",
       "    </tr>\n",
       "    <tr>\n",
       "      <th>4</th>\n",
       "      <td>4.7210</td>\n",
       "      <td>3.1647</td>\n",
       "      <td>4.8690</td>\n",
       "      <td>10.7216</td>\n",
       "      <td>2.0805</td>\n",
       "      <td>4.6086</td>\n",
       "      <td>15.4853</td>\n",
       "      <td>63.0492</td>\n",
       "      <td>0.7716</td>\n",
       "      <td>2.0728</td>\n",
       "      <td>...</td>\n",
       "      <td>0</td>\n",
       "      <td>0</td>\n",
       "      <td>1</td>\n",
       "      <td>1</td>\n",
       "      <td>1</td>\n",
       "      <td>1</td>\n",
       "      <td>1</td>\n",
       "      <td>1</td>\n",
       "      <td>0</td>\n",
       "      <td>0</td>\n",
       "    </tr>\n",
       "  </tbody>\n",
       "</table>\n",
       "<p>5 rows × 42599 columns</p>\n",
       "</div>"
      ],
      "text/plain": [
       "    SCYL3  C1orf112     FGR      CFH   STPG1  NIPAL3      AK2    KDM1A  \\\n",
       "0  3.6416    4.8082  0.7059  14.3879  1.6436  8.7098  29.0268  43.5168   \n",
       "1  5.9656    3.9581  2.1283  22.7599  1.2715  6.1969  18.3112  21.3308   \n",
       "2  4.1159    3.6884  2.5235  31.4999  1.5497  5.8850  18.4245  30.6941   \n",
       "3  5.5611    7.3219  1.4132  38.0311  1.7007  5.3582  16.8159  26.8179   \n",
       "4  4.7210    3.1647  4.8690  10.7216  2.0805  4.6086  15.4853  63.0492   \n",
       "\n",
       "     TTC22    ST7L    ...     ERBB2_mut  NFE2L2_mut  ARID1A_mut  CASP8_mut  \\\n",
       "0  18.7297  1.3490    ...             0           0           0          0   \n",
       "1  30.3388  1.8652    ...             0           1           0          0   \n",
       "2   6.5238  1.5273    ...             0           0           0          0   \n",
       "3   5.2079  1.2286    ...             0           0           0          0   \n",
       "4   0.7716  2.0728    ...             0           0           1          1   \n",
       "\n",
       "   ERBB3_mut  KRAS_mut  PTEN_mut  TGFBR2_mut  MAPK1_mut  MED1_mut  \n",
       "0          0         0         0           0          0         0  \n",
       "1          0         0         0           0          0         0  \n",
       "2          0         0         0           0          0         0  \n",
       "3          0         0         0           0          0         0  \n",
       "4          1         1         1           1          0         0  \n",
       "\n",
       "[5 rows x 42599 columns]"
      ]
     },
     "execution_count": 27,
     "metadata": {},
     "output_type": "execute_result"
    }
   ],
   "source": [
    "df_expr_scaled.head()"
   ]
  },
  {
   "cell_type": "code",
   "execution_count": 28,
   "metadata": {
    "collapsed": false
   },
   "outputs": [],
   "source": [
    "# %time df_expr_scaled[val_cols] = StandardScaler().fit_transform(df_expr_scaled.values)"
   ]
  },
  {
   "cell_type": "code",
   "execution_count": 29,
   "metadata": {
    "collapsed": false,
    "scrolled": true
   },
   "outputs": [
    {
     "data": {
      "text/html": [
       "<div>\n",
       "<table border=\"1\" class=\"dataframe\">\n",
       "  <thead>\n",
       "    <tr style=\"text-align: right;\">\n",
       "      <th></th>\n",
       "      <th>SCYL3</th>\n",
       "      <th>C1orf112</th>\n",
       "      <th>FGR</th>\n",
       "      <th>CFH</th>\n",
       "      <th>STPG1</th>\n",
       "      <th>NIPAL3</th>\n",
       "      <th>AK2</th>\n",
       "      <th>KDM1A</th>\n",
       "      <th>TTC22</th>\n",
       "      <th>ST7L</th>\n",
       "      <th>...</th>\n",
       "      <th>ERBB2_mut</th>\n",
       "      <th>NFE2L2_mut</th>\n",
       "      <th>ARID1A_mut</th>\n",
       "      <th>CASP8_mut</th>\n",
       "      <th>ERBB3_mut</th>\n",
       "      <th>KRAS_mut</th>\n",
       "      <th>PTEN_mut</th>\n",
       "      <th>TGFBR2_mut</th>\n",
       "      <th>MAPK1_mut</th>\n",
       "      <th>MED1_mut</th>\n",
       "    </tr>\n",
       "  </thead>\n",
       "  <tbody>\n",
       "    <tr>\n",
       "      <th>0</th>\n",
       "      <td>3.6416</td>\n",
       "      <td>4.8082</td>\n",
       "      <td>0.7059</td>\n",
       "      <td>14.3879</td>\n",
       "      <td>1.6436</td>\n",
       "      <td>8.7098</td>\n",
       "      <td>29.0268</td>\n",
       "      <td>43.5168</td>\n",
       "      <td>18.7297</td>\n",
       "      <td>1.3490</td>\n",
       "      <td>...</td>\n",
       "      <td>0</td>\n",
       "      <td>0</td>\n",
       "      <td>0</td>\n",
       "      <td>0</td>\n",
       "      <td>0</td>\n",
       "      <td>0</td>\n",
       "      <td>0</td>\n",
       "      <td>0</td>\n",
       "      <td>0</td>\n",
       "      <td>0</td>\n",
       "    </tr>\n",
       "    <tr>\n",
       "      <th>1</th>\n",
       "      <td>5.9656</td>\n",
       "      <td>3.9581</td>\n",
       "      <td>2.1283</td>\n",
       "      <td>22.7599</td>\n",
       "      <td>1.2715</td>\n",
       "      <td>6.1969</td>\n",
       "      <td>18.3112</td>\n",
       "      <td>21.3308</td>\n",
       "      <td>30.3388</td>\n",
       "      <td>1.8652</td>\n",
       "      <td>...</td>\n",
       "      <td>0</td>\n",
       "      <td>1</td>\n",
       "      <td>0</td>\n",
       "      <td>0</td>\n",
       "      <td>0</td>\n",
       "      <td>0</td>\n",
       "      <td>0</td>\n",
       "      <td>0</td>\n",
       "      <td>0</td>\n",
       "      <td>0</td>\n",
       "    </tr>\n",
       "  </tbody>\n",
       "</table>\n",
       "<p>2 rows × 42599 columns</p>\n",
       "</div>"
      ],
      "text/plain": [
       "    SCYL3  C1orf112     FGR      CFH   STPG1  NIPAL3      AK2    KDM1A  \\\n",
       "0  3.6416    4.8082  0.7059  14.3879  1.6436  8.7098  29.0268  43.5168   \n",
       "1  5.9656    3.9581  2.1283  22.7599  1.2715  6.1969  18.3112  21.3308   \n",
       "\n",
       "     TTC22    ST7L    ...     ERBB2_mut  NFE2L2_mut  ARID1A_mut  CASP8_mut  \\\n",
       "0  18.7297  1.3490    ...             0           0           0          0   \n",
       "1  30.3388  1.8652    ...             0           1           0          0   \n",
       "\n",
       "   ERBB3_mut  KRAS_mut  PTEN_mut  TGFBR2_mut  MAPK1_mut  MED1_mut  \n",
       "0          0         0         0           0          0         0  \n",
       "1          0         0         0           0          0         0  \n",
       "\n",
       "[2 rows x 42599 columns]"
      ]
     },
     "execution_count": 29,
     "metadata": {},
     "output_type": "execute_result"
    }
   ],
   "source": [
    "df_expr_scaled.head(2)"
   ]
  },
  {
   "cell_type": "code",
   "execution_count": 30,
   "metadata": {
    "collapsed": true
   },
   "outputs": [],
   "source": [
    "# pca_2c = PCA(n_components=2)\n",
    "\n",
    "# reduced = pca_2c.fit_transform(df_expr_scaled)\n",
    "\n",
    "# reduced.shape\n",
    "\n",
    "# reduced_df = pd.DataFrame(reduced, columns=['x', 'y'])\n",
    "# reduced_df['hiv'] = merged.hiv.values\n",
    "\n",
    "# ax = plt.axes()\n",
    "# for i in ['Positive', 'Negative']:\n",
    "#     col = 'blue' if i == 'Positive' else 'red'\n",
    "#     _df = reduced_df.query('hiv == \"{0}\"'.format(i))\n",
    "#     ax.scatter(_df['x'].values, _df['y'].values, color=col)"
   ]
  },
  {
   "cell_type": "code",
   "execution_count": 31,
   "metadata": {
    "collapsed": true
   },
   "outputs": [],
   "source": [
    "pca = PCA(n_components=50)"
   ]
  },
  {
   "cell_type": "code",
   "execution_count": 32,
   "metadata": {
    "collapsed": false
   },
   "outputs": [
    {
     "name": "stdout",
     "output_type": "stream",
     "text": [
      "CPU times: user 25.2 s, sys: 42.9 s, total: 1min 8s\n",
      "Wall time: 52.5 s\n"
     ]
    }
   ],
   "source": [
    "%time expression = pca.fit_transform(df_expr_scaled)"
   ]
  },
  {
   "cell_type": "code",
   "execution_count": null,
   "metadata": {
    "collapsed": true
   },
   "outputs": [],
   "source": []
  },
  {
   "cell_type": "code",
   "execution_count": 123,
   "metadata": {
    "collapsed": false
   },
   "outputs": [
    {
     "name": "stdout",
     "output_type": "stream",
     "text": [
      "CPU times: user 28.9 s, sys: 1.45 s, total: 30.3 s\n",
      "Wall time: 1.92 s\n"
     ]
    }
   ],
   "source": [
    "svd = TruncatedSVD(n_components=50)\n",
    "%time reduced = svd.fit_transform(df_expr_scaled)"
   ]
  },
  {
   "cell_type": "code",
   "execution_count": 79,
   "metadata": {
    "collapsed": false
   },
   "outputs": [
    {
     "data": {
      "text/plain": [
       "(82, 50)"
      ]
     },
     "execution_count": 79,
     "metadata": {},
     "output_type": "execute_result"
    }
   ],
   "source": [
    "expression.shape"
   ]
  },
  {
   "cell_type": "code",
   "execution_count": 37,
   "metadata": {
    "collapsed": false
   },
   "outputs": [
    {
     "name": "stdout",
     "output_type": "stream",
     "text": [
      "[t-SNE] Computing pairwise distances...\n",
      "[t-SNE] Computing 81 nearest neighbors...\n",
      "[t-SNE] Computed conditional probabilities for sample 82 / 82\n",
      "[t-SNE] Mean sigma: 7645.926497\n",
      "[t-SNE] KL divergence after 100 iterations with early exaggeration: 0.131199\n",
      "[t-SNE] Error after 150 iterations: 0.131199\n"
     ]
    }
   ],
   "source": [
    "# Create a Randomized PCA model that takes two components\n",
    "randomized_tsne = TSNE(n_components=2, learning_rate=50, perplexity=30, verbose=True)\n",
    "# randomized_tsne = RandomizedPCA(n_components=2)\n",
    "# randomized_tsne = PCA(n_components=2)\n",
    "# Fit and transform the data to the model\n",
    "reduced_data_rtsne = randomized_tsne.fit_transform(expression)\n",
    "\n",
    "# reduced_data_rtsne.shape\n",
    "# print(reduced_data_rtsne)"
   ]
  },
  {
   "cell_type": "code",
   "execution_count": 38,
   "metadata": {
    "collapsed": false
   },
   "outputs": [
    {
     "data": {
      "text/plain": [
       "Squamous    63\n",
       "Adeno       19\n",
       "Name: putative_Histology, dtype: int64"
      ]
     },
     "execution_count": 38,
     "metadata": {},
     "output_type": "execute_result"
    }
   ],
   "source": [
    "merged.putative_Histology.value_counts()"
   ]
  },
  {
   "cell_type": "code",
   "execution_count": 39,
   "metadata": {
    "collapsed": false
   },
   "outputs": [],
   "source": [
    "reduced_df = pd.DataFrame(reduced_data_rtsne, columns=['x', 'y'])\n",
    "reduced_df['hiv'] = merged.hiv.values\n",
    "reduced_df['putative_Histology'] = merged.putative_Histology.values"
   ]
  },
  {
   "cell_type": "code",
   "execution_count": 40,
   "metadata": {
    "collapsed": false
   },
   "outputs": [
    {
     "data": {
      "image/png": "[encoded data removed]",
      "text/plain": [
       "<matplotlib.figure.Figure at 0x7f3867870890>"
      ]
     },
     "metadata": {},
     "output_type": "display_data"
    }
   ],
   "source": [
    "ax = plt.axes()\n",
    "for i in ['Squamous', 'Adeno']:\n",
    "    col = 'blue' if i == 'Squamous' else 'red'\n",
    "    _df = reduced_df.query('putative_Histology == \"{0}\"'.format(i))\n",
    "    ax.scatter(_df['x'].values, _df['y'].values, color=col)"
   ]
  },
  {
   "cell_type": "code",
   "execution_count": null,
   "metadata": {
    "collapsed": true
   },
   "outputs": [],
   "source": []
  },
  {
   "cell_type": "code",
   "execution_count": null,
   "metadata": {
    "collapsed": true
   },
   "outputs": [],
   "source": []
  },
  {
   "cell_type": "code",
   "execution_count": 104,
   "metadata": {
    "collapsed": false
   },
   "outputs": [
    {
     "data": {
      "image/png": "[encoded data removed]",
      "text/plain": [
       "<matplotlib.figure.Figure at 0x7f1c0261f410>"
      ]
     },
     "metadata": {},
     "output_type": "display_data"
    }
   ],
   "source": [
    "# ax = plt.axes()\n",
    "# for i in ['Positive', 'Negative']:\n",
    "#     col = 'blue' if i == 'Positive' else 'red'\n",
    "#     _df = reduced_df.query('hiv == \"{0}\"'.format(i))\n",
    "#     ax.scatter(_df['x'].values, _df['y'].values, color=col)"
   ]
  },
  {
   "cell_type": "code",
   "execution_count": null,
   "metadata": {
    "collapsed": true
   },
   "outputs": [],
   "source": []
  },
  {
   "cell_type": "code",
   "execution_count": null,
   "metadata": {
    "collapsed": true
   },
   "outputs": [],
   "source": []
  },
  {
   "cell_type": "code",
   "execution_count": null,
   "metadata": {
    "collapsed": true
   },
   "outputs": [],
   "source": [
    "statuses = merged['hiv']\n",
    "\n",
    "for i in range(len(statuses)):\n",
    "#     print(i)\n",
    "    if statuses[i]=='Positive':\n",
    "        x = reduced_data_rtsne[i][0]\n",
    "        y = reduced_data_rtsne[i][1]\n",
    "        plt.scatter(x,y,c='red')\n",
    "    elif statuses[i]=='Negative':\n",
    "        x = reduced_data_rtsne[i][0]\n",
    "        y = reduced_data_rtsne[i][1]\n",
    "        plt.scatter(x,y,c='blue')    \n",
    "# plt.legend(digits.target_names, bbox_to_anchor=(1.05, 1), loc=2, borderaxespad=0.)\n",
    "plt.xlabel('tsne1')\n",
    "plt.ylabel('tnse2')\n",
    "# plt.title(\"tsne Scatter Plot\")\n",
    "# plt.show()"
   ]
  },
  {
   "cell_type": "code",
   "execution_count": 38,
   "metadata": {
    "collapsed": false
   },
   "outputs": [
    {
     "data": {
      "text/plain": [
       "<matplotlib.text.Text at 0x7f87e82b9450>"
      ]
     },
     "execution_count": 38,
     "metadata": {},
     "output_type": "execute_result"
    },
    {
     "data": {
      "image/png": "[encoded data removed]",
      "text/plain": [
       "<matplotlib.figure.Figure at 0x7f87e81da3d0>"
      ]
     },
     "metadata": {},
     "output_type": "display_data"
    }
   ],
   "source": [
    "statuses = merged['hiv']\n",
    "\n",
    "for i in range(len(statuses)):\n",
    "#     print(i)\n",
    "    if statuses[i]=='Positive':\n",
    "        x = reduced_data_rtsne[i][0]\n",
    "        y = reduced_data_rtsne[i][1]\n",
    "        plt.scatter(x,y,c='red')\n",
    "    elif statuses[i]=='Negative':\n",
    "        x = reduced_data_rtsne[i][0]\n",
    "        y = reduced_data_rtsne[i][1]\n",
    "        plt.scatter(x,y,c='blue')    \n",
    "# plt.legend(digits.target_names, bbox_to_anchor=(1.05, 1), loc=2, borderaxespad=0.)\n",
    "plt.xlabel('tsne1')\n",
    "plt.ylabel('tnse2')\n",
    "# plt.title(\"tsne Scatter Plot\")\n",
    "# plt.show()"
   ]
  },
  {
   "cell_type": "code",
   "execution_count": null,
   "metadata": {
    "collapsed": true
   },
   "outputs": [],
   "source": []
  },
  {
   "cell_type": "code",
   "execution_count": null,
   "metadata": {
    "collapsed": true
   },
   "outputs": [],
   "source": []
  }
 ],
 "metadata": {
  "kernelspec": {
   "display_name": "Python 2",
   "language": "python",
   "name": "python2"
  },
  "language_info": {
   "codemirror_mode": {
    "name": "ipython",
    "version": 2
   },
   "file_extension": ".py",
   "mimetype": "text/x-python",
   "name": "python",
   "nbconvert_exporter": "python",
   "pygments_lexer": "ipython2",
   "version": "2.7.12"
  }
 },
 "nbformat": 4,
 "nbformat_minor": 0
}
