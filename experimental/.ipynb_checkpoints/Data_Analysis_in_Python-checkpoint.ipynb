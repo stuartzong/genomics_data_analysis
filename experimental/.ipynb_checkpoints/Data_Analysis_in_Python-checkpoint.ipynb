{
 "cells": [
  {
   "cell_type": "markdown",
   "metadata": {},
   "source": [
    "## Statistical Analysis in Python\n",
    "\n",
    "In this section, we introduce a few useful methods for analyzing your data in Python.\n",
    "Namely, we cover how to compute the mean, variance, and standard error of a data set.\n",
    "For more advanced statistical analysis, we cover how to perform a\n",
    "Mann-Whitney-Wilcoxon (MWW) RankSum test, how to perform an Analysis of variance (ANOVA)\n",
    "between multiple data sets, and how to compute bootstrapped 95% confidence intervals for\n",
    "non-normally distributed data sets.\n",
    "\n",
    "### Python's SciPy Module\n",
    "\n",
    "The majority of data analysis in Python can be performed with the SciPy module. SciPy\n",
    "provides a plethora of statistical functions and tests that will handle the majority of\n",
    "your analytical needs. If we don't cover a statistical function or test that you require\n",
    "for your research, SciPy's full statistical library is described in detail at:\n",
    "http://docs.scipy.org/doc/scipy/reference/tutorial/stats.html\n",
    "\n",
    "### Python's pandas Module\n",
    "\n",
    "The pandas module provides powerful, efficient, R-like DataFrame objects capable of\n",
    "calculating statistics en masse on the entire DataFrame. DataFrames are useful for when\n",
    "you need to compute statistics over multiple replicate runs.\n",
    "\n",
    "For the purposes of this tutorial, we will use Luis' parasite data set:"
   ]
  },
  {
   "cell_type": "code",
   "execution_count": 47,
   "metadata": {
    "collapsed": false
   },
   "outputs": [
    {
     "name": "stdout",
     "output_type": "stream",
     "text": [
      "<class 'pandas.core.frame.DataFrame'>\n",
      "Int64Index: 350 entries, 0 to 349\n",
      "Data columns:\n",
      "Virulence           300  non-null values\n",
      "Replicate           350  non-null values\n",
      "ShannonDiversity    350  non-null values\n",
      "dtypes: float64(2), int64(1)\n"
     ]
    }
   ],
   "source": [
    "from pandas import *\n",
    "\n",
    "# must specify that blank space \" \" is NaN\n",
    "experimentDF = read_csv(\"data-analysis-python/parasite_data.csv\", na_values=[\" \"])\n",
    "\n",
    "print experimentDF"
   ]
  },
  {
   "cell_type": "markdown",
   "metadata": {},
   "source": [
    "### Accessing data in pandas DataFrames\n",
    "\n",
    "You can directly access any column and row by indexing the DataFrame."
   ]
  },
  {
   "cell_type": "code",
   "execution_count": 48,
   "metadata": {
    "collapsed": false
   },
   "outputs": [
    {
     "name": "stdout",
     "output_type": "stream",
     "text": [
      "0     0.5\n",
      "1     0.5\n",
      "2     0.5\n",
      "3     0.5\n",
      "4     0.5\n",
      "5     0.5\n",
      "6     0.5\n",
      "7     0.5\n",
      "8     0.5\n",
      "9     0.5\n",
      "10    0.5\n",
      "11    0.5\n",
      "12    0.5\n",
      "13    0.5\n",
      "14    0.5\n",
      "...\n",
      "335   NaN\n",
      "336   NaN\n",
      "337   NaN\n",
      "338   NaN\n",
      "339   NaN\n",
      "340   NaN\n",
      "341   NaN\n",
      "342   NaN\n",
      "343   NaN\n",
      "344   NaN\n",
      "345   NaN\n",
      "346   NaN\n",
      "347   NaN\n",
      "348   NaN\n",
      "349   NaN\n",
      "Name: Virulence, Length: 350\n"
     ]
    }
   ],
   "source": [
    "# show all entries in the Virulence column\n",
    "print experimentDF[\"Virulence\"]"
   ]
  },
  {
   "cell_type": "code",
   "execution_count": 49,
   "metadata": {
    "collapsed": false
   },
   "outputs": [
    {
     "name": "stdout",
     "output_type": "stream",
     "text": [
      "1.58981\n"
     ]
    }
   ],
   "source": [
    "# show the 12th row in the ShannonDiversity column\n",
    "print experimentDF[\"ShannonDiversity\"][12]"
   ]
  },
  {
   "cell_type": "markdown",
   "metadata": {},
   "source": [
    "You can also access all of the values in a column meeting a certain criteria."
   ]
  },
  {
   "cell_type": "code",
   "execution_count": 50,
   "metadata": {
    "collapsed": false
   },
   "outputs": [
    {
     "name": "stdout",
     "output_type": "stream",
     "text": [
      "     Virulence  Replicate  ShannonDiversity\n",
      "8          0.5          9           2.04768\n",
      "89         0.6         40           2.01066\n",
      "92         0.6         43           2.90081\n",
      "96         0.6         47           2.02915\n",
      "105        0.7          6           2.23427\n",
      "117        0.7         18           2.14296\n",
      "127        0.7         28           2.23599\n",
      "129        0.7         30           2.48422\n",
      "133        0.7         34           2.18506\n",
      "134        0.7         35           2.42177\n",
      "139        0.7         40           2.25737\n",
      "142        0.7         43           2.07258\n",
      "148        0.7         49           2.38326\n",
      "151        0.8          2           2.07970\n",
      "153        0.8          4           2.38474\n",
      "163        0.8         14           2.03252\n",
      "165        0.8         16           2.38415\n",
      "170        0.8         21           2.02297\n",
      "172        0.8         23           2.13882\n",
      "173        0.8         24           2.53339\n",
      "182        0.8         33           2.17865\n",
      "196        0.8         47           2.07718\n",
      "208        0.9          9           2.12240\n",
      "209        0.9         10           2.46144\n",
      "212        0.9         13           2.20476\n",
      "229        0.9         30           2.28026\n",
      "235        0.9         36           2.19565\n",
      "237        0.9         38           2.16535\n",
      "243        0.9         44           2.17578\n",
      "251        1.0          2           2.16044\n"
     ]
    }
   ],
   "source": [
    "# show all entries in the ShannonDiversity column > 2.0\n",
    "print experimentDF[experimentDF[\"ShannonDiversity\"] > 2.0]"
   ]
  },
  {
   "cell_type": "markdown",
   "metadata": {},
   "source": [
    "### Blank/omitted data (NA or NaN) in pandas DataFrames\n",
    "\n",
    "Blank/omitted data is a piece of cake to handle in pandas. Here's an example data\n",
    "set with NA/NaN values."
   ]
  },
  {
   "cell_type": "code",
   "execution_count": 51,
   "metadata": {
    "collapsed": false
   },
   "outputs": [
    {
     "name": "stdout",
     "output_type": "stream",
     "text": [
      "     Virulence  Replicate  ShannonDiversity\n",
      "300        NaN          1          0.000000\n",
      "301        NaN          2          0.000000\n",
      "302        NaN          3          0.833645\n",
      "303        NaN          4          0.000000\n",
      "304        NaN          5          0.990309\n",
      "305        NaN          6          0.000000\n",
      "306        NaN          7          0.000000\n",
      "307        NaN          8          0.000000\n",
      "308        NaN          9          0.061414\n",
      "309        NaN         10          0.316439\n",
      "310        NaN         11          0.904773\n",
      "311        NaN         12          0.884122\n",
      "312        NaN         13          0.000000\n",
      "313        NaN         14          0.000000\n",
      "314        NaN         15          0.000000\n",
      "315        NaN         16          0.000000\n",
      "316        NaN         17          0.013495\n",
      "317        NaN         18          0.882519\n",
      "318        NaN         19          0.000000\n",
      "319        NaN         20          0.986830\n",
      "320        NaN         21          0.000000\n",
      "321        NaN         22          0.000000\n",
      "322        NaN         23          0.000000\n",
      "323        NaN         24          0.000000\n",
      "324        NaN         25          0.000000\n",
      "325        NaN         26          0.000000\n",
      "326        NaN         27          1.702720\n",
      "327        NaN         28          0.169556\n",
      "328        NaN         29          0.949750\n",
      "329        NaN         30          0.240084\n",
      "330        NaN         31          0.925913\n",
      "331        NaN         32          0.000000\n",
      "332        NaN         33          0.693356\n",
      "333        NaN         34          0.000000\n",
      "334        NaN         35          0.310170\n",
      "335        NaN         36          0.000000\n",
      "336        NaN         37          0.000000\n",
      "337        NaN         38          0.000000\n",
      "338        NaN         39          0.000000\n",
      "339        NaN         40          0.000000\n",
      "340        NaN         41          0.000000\n",
      "341        NaN         42          0.000000\n",
      "342        NaN         43          0.000000\n",
      "343        NaN         44          0.000000\n",
      "344        NaN         45          0.391061\n",
      "345        NaN         46          0.001669\n",
      "346        NaN         47          0.000000\n",
      "347        NaN         48          0.444463\n",
      "348        NaN         49          0.383512\n",
      "349        NaN         50          0.511329\n"
     ]
    }
   ],
   "source": [
    "print experimentDF[isnan(experimentDF[\"Virulence\"])]"
   ]
  },
  {
   "cell_type": "markdown",
   "metadata": {},
   "source": [
    "DataFrame methods automatically ignore NA/NaN values."
   ]
  },
  {
   "cell_type": "code",
   "execution_count": 52,
   "metadata": {
    "collapsed": false
   },
   "outputs": [
    {
     "name": "stdout",
     "output_type": "stream",
     "text": [
      "Mean virulence across all treatments: 0.75\n"
     ]
    }
   ],
   "source": [
    "print \"Mean virulence across all treatments:\", experimentDF[\"Virulence\"].mean()"
   ]
  },
  {
   "cell_type": "markdown",
   "metadata": {},
   "source": [
    "However, not all methods in Python are guaranteed to handle NA/NaN values properly."
   ]
  },
  {
   "cell_type": "code",
   "execution_count": 53,
   "metadata": {
    "collapsed": false
   },
   "outputs": [
    {
     "name": "stdout",
     "output_type": "stream",
     "text": [
      "Mean virulence across all treatments: nan\n"
     ]
    }
   ],
   "source": [
    "from scipy import stats\n",
    "\n",
    "print \"Mean virulence across all treatments:\", stats.sem(experimentDF[\"Virulence\"])"
   ]
  },
  {
   "cell_type": "markdown",
   "metadata": {},
   "source": [
    "Thus, it behooves you to take care of the NA/NaN values before performing your analysis. You can either:\n",
    "\n",
    "**(1) filter out all of the entries with NA/NaN**"
   ]
  },
  {
   "cell_type": "code",
   "execution_count": 54,
   "metadata": {
    "collapsed": false
   },
   "outputs": [
    {
     "name": "stdout",
     "output_type": "stream",
     "text": [
      "<class 'pandas.core.frame.DataFrame'>\n",
      "Int64Index: 300 entries, 0 to 299\n",
      "Data columns:\n",
      "Virulence           300  non-null values\n",
      "Replicate           300  non-null values\n",
      "ShannonDiversity    300  non-null values\n",
      "dtypes: float64(2), int64(1)\n"
     ]
    }
   ],
   "source": [
    "# NOTE: this drops the entire row if any of its entries are NA/NaN!\n",
    "print experimentDF.dropna()"
   ]
  },
  {
   "cell_type": "markdown",
   "metadata": {},
   "source": [
    "If you only care about NA/NaN values in a specific column, you can specify the\n",
    "column name first."
   ]
  },
  {
   "cell_type": "code",
   "execution_count": 55,
   "metadata": {
    "collapsed": false
   },
   "outputs": [
    {
     "name": "stdout",
     "output_type": "stream",
     "text": [
      "0     0.5\n",
      "1     0.5\n",
      "2     0.5\n",
      "3     0.5\n",
      "4     0.5\n",
      "5     0.5\n",
      "6     0.5\n",
      "7     0.5\n",
      "8     0.5\n",
      "9     0.5\n",
      "10    0.5\n",
      "11    0.5\n",
      "12    0.5\n",
      "13    0.5\n",
      "14    0.5\n",
      "...\n",
      "285    1\n",
      "286    1\n",
      "287    1\n",
      "288    1\n",
      "289    1\n",
      "290    1\n",
      "291    1\n",
      "292    1\n",
      "293    1\n",
      "294    1\n",
      "295    1\n",
      "296    1\n",
      "297    1\n",
      "298    1\n",
      "299    1\n",
      "Name: Virulence, Length: 300\n"
     ]
    }
   ],
   "source": [
    "print experimentDF[\"Virulence\"].dropna()"
   ]
  },
  {
   "cell_type": "markdown",
   "metadata": {},
   "source": [
    "**(2) replace all of the NA/NaN entries with a valid value**"
   ]
  },
  {
   "cell_type": "code",
   "execution_count": 56,
   "metadata": {
    "collapsed": false
   },
   "outputs": [
    {
     "name": "stdout",
     "output_type": "stream",
     "text": [
      "0     0.5\n",
      "1     0.5\n",
      "2     0.5\n",
      "3     0.5\n",
      "4     0.5\n",
      "5     0.5\n",
      "6     0.5\n",
      "7     0.5\n",
      "8     0.5\n",
      "9     0.5\n",
      "10    0.5\n",
      "11    0.5\n",
      "12    0.5\n",
      "13    0.5\n",
      "14    0.5\n",
      "...\n",
      "335    0\n",
      "336    0\n",
      "337    0\n",
      "338    0\n",
      "339    0\n",
      "340    0\n",
      "341    0\n",
      "342    0\n",
      "343    0\n",
      "344    0\n",
      "345    0\n",
      "346    0\n",
      "347    0\n",
      "348    0\n",
      "349    0\n",
      "Name: Virulence, Length: 350\n"
     ]
    }
   ],
   "source": [
    "print experimentDF.fillna(0.0)[\"Virulence\"]"
   ]
  },
  {
   "cell_type": "markdown",
   "metadata": {},
   "source": [
    "Take care when deciding what to do with NA/NaN entries. It can have a significant\n",
    "impact on your results!"
   ]
  },
  {
   "cell_type": "code",
   "execution_count": 57,
   "metadata": {
    "collapsed": false
   },
   "outputs": [
    {
     "name": "stdout",
     "output_type": "stream",
     "text": [
      "Mean virulence across all treatments w/ dropped NaN: 0.75\n",
      "Mean virulence across all treatments w/ filled NaN: 0.642857142857\n"
     ]
    }
   ],
   "source": [
    "print \"Mean virulence across all treatments w/ dropped NaN:\", experimentDF[\"Virulence\"].dropna().mean()\n",
    "\n",
    "print \"Mean virulence across all treatments w/ filled NaN:\", experimentDF.fillna(0.0)[\"Virulence\"].mean()"
   ]
  },
  {
   "cell_type": "markdown",
   "metadata": {},
   "source": [
    "### Mean\n",
    "\n",
    "The mean performance of an experiment gives a good idea of how the experiment will\n",
    "turn out *on average* under a given treatment.\n",
    "\n",
    "Conveniently, DataFrames have all kinds of built-in functions to perform standard\n",
    "operations on them en masse: `add()`, `sub()`, `mul()`, `div()`, `mean()`, `std()`, etc.\n",
    "The full list is located at: http://pandas.sourceforge.net/generated/pandas.DataFrame.html\n",
    "\n",
    "Thus, computing the mean of a DataFrame only takes one line of code:"
   ]
  },
  {
   "cell_type": "code",
   "execution_count": 58,
   "metadata": {
    "collapsed": false
   },
   "outputs": [
    {
     "name": "stdout",
     "output_type": "stream",
     "text": [
      "Mean Shannon Diversity w/ 0.8 Parasite Virulence = 1.2691338188\n"
     ]
    }
   ],
   "source": [
    "from pandas import *\n",
    "\n",
    "print \"Mean Shannon Diversity w/ 0.8 Parasite Virulence =\", experimentDF[experimentDF[\"Virulence\"] == 0.8][\"ShannonDiversity\"].mean()"
   ]
  },
  {
   "cell_type": "markdown",
   "metadata": {},
   "source": [
    "### Variance\n",
    "\n",
    "The variance in the performance provides a measurement of how consistent the results\n",
    "of an experiment are. The lower the variance, the more consistent the results are, and\n",
    "vice versa.\n",
    "\n",
    "Computing the variance is also built in to pandas DataFrames:"
   ]
  },
  {
   "cell_type": "code",
   "execution_count": 59,
   "metadata": {
    "collapsed": false
   },
   "outputs": [
    {
     "name": "stdout",
     "output_type": "stream",
     "text": [
      "Variance in Shannon Diversity w/ 0.8 Parasite Virulence = 0.611038433313\n"
     ]
    }
   ],
   "source": [
    "from pandas import *\n",
    "\n",
    "print \"Variance in Shannon Diversity w/ 0.8 Parasite Virulence =\", experimentDF[experimentDF[\"Virulence\"] == 0.8][\"ShannonDiversity\"].var()"
   ]
  },
  {
   "cell_type": "markdown",
   "metadata": {},
   "source": [
    "### Standard Error of the Mean (SEM)\n",
    "\n",
    "Combined with the mean, the SEM enables you to establish a range around a mean that\n",
    "the majority of any future replicate experiments will most likely fall within.\n",
    "\n",
    "pandas DataFrames don't have methods like SEM built in, but since DataFrame\n",
    "rows/columns are treated as lists, you can use any NumPy/SciPy method you like on them."
   ]
  },
  {
   "cell_type": "code",
   "execution_count": 60,
   "metadata": {
    "collapsed": false
   },
   "outputs": [
    {
     "name": "stdout",
     "output_type": "stream",
     "text": [
      "SEM of Shannon Diversity w/ 0.8 Parasite Virulence = 0.110547585529\n"
     ]
    }
   ],
   "source": [
    "from pandas import *\n",
    "from scipy import stats\n",
    "\n",
    "print \"SEM of Shannon Diversity w/ 0.8 Parasite Virulence =\", stats.sem(experimentDF[experimentDF[\"Virulence\"] == 0.8][\"ShannonDiversity\"])"
   ]
  },
  {
   "cell_type": "markdown",
   "metadata": {},
   "source": [
    "A single SEM will usually envelop 68% of the possible replicate means\n",
    "and two SEMs envelop 95% of the possible replicate means. Two\n",
    "SEMs are called the \"estimated 95% confidence interval.\" The confidence\n",
    "interval is estimated because the exact width depend on how many replicates\n",
    "you have; this approximation is good when you have more than 20 replicates.\n",
    "\n",
    "### Mann-Whitney-Wilcoxon (MWW) RankSum test\n",
    "\n",
    "The MWW RankSum test is a useful test to determine if two distributions are significantly\n",
    "different or not. Unlike the t-test, the RankSum test does not assume that the data\n",
    "are normally distributed, potentially providing a more accurate assessment of the data sets.\n",
    "\n",
    "As an example, let's say we want to determine if the results of the two following\n",
    "treatments significantly differ or not:"
   ]
  },
  {
   "cell_type": "code",
   "execution_count": 61,
   "metadata": {
    "collapsed": false
   },
   "outputs": [
    {
     "name": "stdout",
     "output_type": "stream",
     "text": [
      "Data set 1:\n",
      "0     0.059262\n",
      "1     1.093600\n",
      "2     1.139390\n",
      "3     0.547651\n",
      "4     0.065928\n",
      "5     1.344330\n",
      "6     1.680480\n",
      "7     0.000000\n",
      "8     2.047680\n",
      "9     0.000000\n",
      "10    1.507140\n",
      "11    0.000000\n",
      "12    1.589810\n",
      "13    1.144800\n",
      "14    1.011190\n",
      "15    0.000000\n",
      "16    0.776665\n",
      "17    0.001749\n",
      "18    1.761200\n",
      "19    0.021091\n",
      "20    0.790915\n",
      "21    0.000000\n",
      "22    0.018867\n",
      "23    0.994268\n",
      "24    1.729620\n",
      "25    0.967537\n",
      "26    0.457318\n",
      "27    0.992525\n",
      "28    1.506640\n",
      "29    0.697241\n",
      "30    1.790580\n",
      "31    1.787710\n",
      "32    0.857742\n",
      "33    0.000000\n",
      "34    0.445267\n",
      "35    0.045471\n",
      "36    0.003490\n",
      "37    0.000000\n",
      "38    0.115830\n",
      "39    0.980076\n",
      "40    0.000000\n",
      "41    0.820405\n",
      "42    0.124755\n",
      "43    0.719755\n",
      "44    0.584252\n",
      "45    1.937930\n",
      "46    1.284150\n",
      "47    1.651680\n",
      "48    0.000000\n",
      "49    0.000000\n",
      "Name: ShannonDiversity\n",
      "Data set 2:\n",
      "150    1.433800\n",
      "151    2.079700\n",
      "152    0.892139\n",
      "153    2.384740\n",
      "154    0.006980\n",
      "155    1.971760\n",
      "156    0.000000\n",
      "157    1.428470\n",
      "158    1.715950\n",
      "159    0.000000\n",
      "160    0.421927\n",
      "161    1.179920\n",
      "162    0.932470\n",
      "163    2.032520\n",
      "164    0.960912\n",
      "165    2.384150\n",
      "166    1.879130\n",
      "167    1.238890\n",
      "168    1.584300\n",
      "169    1.118490\n",
      "170    2.022970\n",
      "171    0.000000\n",
      "172    2.138820\n",
      "173    2.533390\n",
      "174    1.212340\n",
      "175    0.059135\n",
      "176    1.578260\n",
      "177    1.725210\n",
      "178    0.293153\n",
      "179    0.000000\n",
      "180    0.000000\n",
      "181    1.699600\n",
      "182    2.178650\n",
      "183    1.792580\n",
      "184    1.920800\n",
      "185    0.000000\n",
      "186    1.583250\n",
      "187    0.343235\n",
      "188    1.980010\n",
      "189    0.980876\n",
      "190    1.089380\n",
      "191    0.979254\n",
      "192    1.190450\n",
      "193    1.738880\n",
      "194    1.154100\n",
      "195    1.981610\n",
      "196    2.077180\n",
      "197    1.566410\n",
      "198    0.000000\n",
      "199    1.990900\n",
      "Name: ShannonDiversity\n"
     ]
    }
   ],
   "source": [
    "# select two treatment data sets from the parasite data\n",
    "treatment1 = experimentDF[experimentDF[\"Virulence\"] == 0.5][\"ShannonDiversity\"]\n",
    "treatment2 = experimentDF[experimentDF[\"Virulence\"] == 0.8][\"ShannonDiversity\"]\n",
    "\n",
    "print \"Data set 1:\\n\", treatment1\n",
    "print \"Data set 2:\\n\", treatment2"
   ]
  },
  {
   "cell_type": "markdown",
   "metadata": {},
   "source": [
    "A RankSum test will provide a P value indicating whether or not the two\n",
    "distributions are the same."
   ]
  },
  {
   "cell_type": "code",
   "execution_count": 62,
   "metadata": {
    "collapsed": false
   },
   "outputs": [
    {
     "name": "stdout",
     "output_type": "stream",
     "text": [
      "MWW RankSum P for treatments 1 and 2 = 0.000983355902735\n"
     ]
    }
   ],
   "source": [
    "from scipy import stats\n",
    "\n",
    "z_stat, p_val = stats.ranksums(treatment1, treatment2)\n",
    "\n",
    "print \"MWW RankSum P for treatments 1 and 2 =\", p_val"
   ]
  },
  {
   "cell_type": "markdown",
   "metadata": {},
   "source": [
    "If P <= 0.05, we are highly confident that the distributions significantly differ, and\n",
    "can claim that the treatments had a significant impact on the measured value.\n",
    "\n",
    "If the treatments do *not* significantly differ, we could expect a result such as\n",
    "the following:"
   ]
  },
  {
   "cell_type": "code",
   "execution_count": 63,
   "metadata": {
    "collapsed": false
   },
   "outputs": [
    {
     "name": "stdout",
     "output_type": "stream",
     "text": [
      "Data set 3:\n",
      "150    1.433800\n",
      "151    2.079700\n",
      "152    0.892139\n",
      "153    2.384740\n",
      "154    0.006980\n",
      "155    1.971760\n",
      "156    0.000000\n",
      "157    1.428470\n",
      "158    1.715950\n",
      "159    0.000000\n",
      "160    0.421927\n",
      "161    1.179920\n",
      "162    0.932470\n",
      "163    2.032520\n",
      "164    0.960912\n",
      "165    2.384150\n",
      "166    1.879130\n",
      "167    1.238890\n",
      "168    1.584300\n",
      "169    1.118490\n",
      "170    2.022970\n",
      "171    0.000000\n",
      "172    2.138820\n",
      "173    2.533390\n",
      "174    1.212340\n",
      "175    0.059135\n",
      "176    1.578260\n",
      "177    1.725210\n",
      "178    0.293153\n",
      "179    0.000000\n",
      "180    0.000000\n",
      "181    1.699600\n",
      "182    2.178650\n",
      "183    1.792580\n",
      "184    1.920800\n",
      "185    0.000000\n",
      "186    1.583250\n",
      "187    0.343235\n",
      "188    1.980010\n",
      "189    0.980876\n",
      "190    1.089380\n",
      "191    0.979254\n",
      "192    1.190450\n",
      "193    1.738880\n",
      "194    1.154100\n",
      "195    1.981610\n",
      "196    2.077180\n",
      "197    1.566410\n",
      "198    0.000000\n",
      "199    1.990900\n",
      "Name: ShannonDiversity\n",
      "Data set 4:\n",
      "200    1.036930\n",
      "201    0.938018\n",
      "202    0.995956\n",
      "203    1.006970\n",
      "204    0.968258\n",
      "205    0.000000\n",
      "206    0.416046\n",
      "207    1.570310\n",
      "208    2.122400\n",
      "209    2.461440\n",
      "210    0.969003\n",
      "211    0.000000\n",
      "212    2.204760\n",
      "213    0.999556\n",
      "214    1.820140\n",
      "215    1.581250\n",
      "216    1.950260\n",
      "217    1.633000\n",
      "218    1.854850\n",
      "219    0.159017\n",
      "220    0.997556\n",
      "221    1.935620\n",
      "222    1.814500\n",
      "223    0.999802\n",
      "224    0.000000\n",
      "225    0.186966\n",
      "226    1.569840\n",
      "227    1.660550\n",
      "228    0.998564\n",
      "229    2.280260\n",
      "230    1.560220\n",
      "231    0.992335\n",
      "232    1.557250\n",
      "233    1.536150\n",
      "234    1.584580\n",
      "235    2.195650\n",
      "236    1.327320\n",
      "237    2.165350\n",
      "238    1.711200\n",
      "239    1.885540\n",
      "240    0.960891\n",
      "241    0.958280\n",
      "242    0.990460\n",
      "243    2.175780\n",
      "244    0.890169\n",
      "245    1.922790\n",
      "246    1.564330\n",
      "247    1.870380\n",
      "248    1.262280\n",
      "249    0.000000\n",
      "Name: ShannonDiversity\n"
     ]
    }
   ],
   "source": [
    "treatment3 = experimentDF[experimentDF[\"Virulence\"] == 0.8][\"ShannonDiversity\"]\n",
    "treatment4 = experimentDF[experimentDF[\"Virulence\"] == 0.9][\"ShannonDiversity\"]\n",
    "\n",
    "print \"Data set 3:\\n\", treatment3\n",
    "print \"Data set 4:\\n\", treatment4"
   ]
  },
  {
   "cell_type": "code",
   "execution_count": 64,
   "metadata": {
    "collapsed": false
   },
   "outputs": [
    {
     "name": "stdout",
     "output_type": "stream",
     "text": [
      "MWW RankSum P for treatments 3 and 4 = 0.994499571124\n"
     ]
    }
   ],
   "source": [
    "z_stat, p_val = stats.ranksums(treatment3, treatment4)\n",
    "\n",
    "print \"MWW RankSum P for treatments 3 and 4 =\", p_val"
   ]
  },
  {
   "cell_type": "markdown",
   "metadata": {},
   "source": [
    "With P > 0.05, we must say that the distributions do not significantly differ.\n",
    "Thus changing the parasite virulence between 0.8 and 0.9 does not result in a\n",
    "significant change in Shannon Diversity.\n",
    "\n",
    "### One-way analysis of variance (ANOVA)\n",
    "\n",
    "If you need to compare more than two data sets at a time, an ANOVA is your best bet. For\n",
    "example, we have the results from three experiments with overlapping 95% confidence\n",
    "intervals, and we want to confirm that the results for all three experiments are not\n",
    "significantly different."
   ]
  },
  {
   "cell_type": "code",
   "execution_count": 65,
   "metadata": {
    "collapsed": false
   },
   "outputs": [
    {
     "name": "stdout",
     "output_type": "stream",
     "text": [
      "Data set 1:\n",
      "100    1.595440\n",
      "101    1.419730\n",
      "102    0.000000\n",
      "103    0.000000\n",
      "104    0.787591\n",
      "105    2.234270\n",
      "106    1.700440\n",
      "107    0.954747\n",
      "108    1.127320\n",
      "109    1.761330\n",
      "110    0.000000\n",
      "111    0.374074\n",
      "112    1.836250\n",
      "113    1.583900\n",
      "114    0.998377\n",
      "115    0.341714\n",
      "116    0.892717\n",
      "117    2.142960\n",
      "118    1.824870\n",
      "119    0.999703\n",
      "120    0.957757\n",
      "121    1.152910\n",
      "122    0.597295\n",
      "123    1.959020\n",
      "124    0.764003\n",
      "125    0.614147\n",
      "126    0.617618\n",
      "127    2.235990\n",
      "128    0.000000\n",
      "129    2.484220\n",
      "130    0.008294\n",
      "131    1.003480\n",
      "132    1.292820\n",
      "133    2.185060\n",
      "134    2.421770\n",
      "135    0.713224\n",
      "136    0.551367\n",
      "137    0.006377\n",
      "138    0.948393\n",
      "139    2.257370\n",
      "140    1.394850\n",
      "141    0.547157\n",
      "142    2.072580\n",
      "143    1.323440\n",
      "144    1.001340\n",
      "145    1.042600\n",
      "146    0.000000\n",
      "147    1.139100\n",
      "148    2.383260\n",
      "149    0.056819\n",
      "Name: ShannonDiversity\n",
      "Data set 2:\n",
      "150    1.433800\n",
      "151    2.079700\n",
      "152    0.892139\n",
      "153    2.384740\n",
      "154    0.006980\n",
      "155    1.971760\n",
      "156    0.000000\n",
      "157    1.428470\n",
      "158    1.715950\n",
      "159    0.000000\n",
      "160    0.421927\n",
      "161    1.179920\n",
      "162    0.932470\n",
      "163    2.032520\n",
      "164    0.960912\n",
      "165    2.384150\n",
      "166    1.879130\n",
      "167    1.238890\n",
      "168    1.584300\n",
      "169    1.118490\n",
      "170    2.022970\n",
      "171    0.000000\n",
      "172    2.138820\n",
      "173    2.533390\n",
      "174    1.212340\n",
      "175    0.059135\n",
      "176    1.578260\n",
      "177    1.725210\n",
      "178    0.293153\n",
      "179    0.000000\n",
      "180    0.000000\n",
      "181    1.699600\n",
      "182    2.178650\n",
      "183    1.792580\n",
      "184    1.920800\n",
      "185    0.000000\n",
      "186    1.583250\n",
      "187    0.343235\n",
      "188    1.980010\n",
      "189    0.980876\n",
      "190    1.089380\n",
      "191    0.979254\n",
      "192    1.190450\n",
      "193    1.738880\n",
      "194    1.154100\n",
      "195    1.981610\n",
      "196    2.077180\n",
      "197    1.566410\n",
      "198    0.000000\n",
      "199    1.990900\n",
      "Name: ShannonDiversity\n",
      "Data set 3:\n",
      "200    1.036930\n",
      "201    0.938018\n",
      "202    0.995956\n",
      "203    1.006970\n",
      "204    0.968258\n",
      "205    0.000000\n",
      "206    0.416046\n",
      "207    1.570310\n",
      "208    2.122400\n",
      "209    2.461440\n",
      "210    0.969003\n",
      "211    0.000000\n",
      "212    2.204760\n",
      "213    0.999556\n",
      "214    1.820140\n",
      "215    1.581250\n",
      "216    1.950260\n",
      "217    1.633000\n",
      "218    1.854850\n",
      "219    0.159017\n",
      "220    0.997556\n",
      "221    1.935620\n",
      "222    1.814500\n",
      "223    0.999802\n",
      "224    0.000000\n",
      "225    0.186966\n",
      "226    1.569840\n",
      "227    1.660550\n",
      "228    0.998564\n",
      "229    2.280260\n",
      "230    1.560220\n",
      "231    0.992335\n",
      "232    1.557250\n",
      "233    1.536150\n",
      "234    1.584580\n",
      "235    2.195650\n",
      "236    1.327320\n",
      "237    2.165350\n",
      "238    1.711200\n",
      "239    1.885540\n",
      "240    0.960891\n",
      "241    0.958280\n",
      "242    0.990460\n",
      "243    2.175780\n",
      "244    0.890169\n",
      "245    1.922790\n",
      "246    1.564330\n",
      "247    1.870380\n",
      "248    1.262280\n",
      "249    0.000000\n",
      "Name: ShannonDiversity\n"
     ]
    }
   ],
   "source": [
    "treatment1 = experimentDF[experimentDF[\"Virulence\"] == 0.7][\"ShannonDiversity\"]\n",
    "treatment2 = experimentDF[experimentDF[\"Virulence\"] == 0.8][\"ShannonDiversity\"]\n",
    "treatment3 = experimentDF[experimentDF[\"Virulence\"] == 0.9][\"ShannonDiversity\"]\n",
    "\n",
    "print \"Data set 1:\\n\", treatment1\n",
    "print \"Data set 2:\\n\", treatment2\n",
    "print \"Data set 3:\\n\", treatment3"
   ]
  },
  {
   "cell_type": "code",
   "execution_count": 66,
   "metadata": {
    "collapsed": false
   },
   "outputs": [
    {
     "name": "stdout",
     "output_type": "stream",
     "text": [
      "One-way ANOVA P = 0.381509481874\n"
     ]
    }
   ],
   "source": [
    "from scipy import stats\n",
    "\t\n",
    "f_val, p_val = stats.f_oneway(treatment1, treatment2, treatment3)\n",
    "\n",
    "print \"One-way ANOVA P =\", p_val"
   ]
  },
  {
   "cell_type": "markdown",
   "metadata": {},
   "source": [
    "If P > 0.05, we can claim with high confidence that the means of the results of all three\n",
    "experiments are not significantly different.\n",
    "\n",
    "### Bootstrapped 95% confidence intervals\n",
    "\n",
    "Oftentimes in wet lab research, it's difficult to perform the 20 replicate runs\n",
    "recommended for computing reliable confidence intervals with SEM.\n",
    "\n",
    "In this case, bootstrapping the confidence intervals is a much more accurate method of\n",
    "determining the 95% confidence interval around your experiment's mean performance.\n",
    "\n",
    "Unfortunately, SciPy doesn't have bootstrapping built into its standard library yet.\n",
    "However, there is already a scikit out there for bootstrapping. Enter the following\n",
    "command to install it:\n",
    "\n",
    "> sudo pip install -e git+http://github.org/cgevans/scikits-bootstrap.git#egg=Package\n",
    "\n",
    "You may need to install `pip` first, e.g., for Mac:\n",
    "\n",
    "> sudo easy_install pip"
   ]
  },
  {
   "cell_type": "markdown",
   "metadata": {},
   "source": [
    "Bootstrapping 95% confidence intervals around the mean with this function is simple:"
   ]
  },
  {
   "cell_type": "code",
   "execution_count": 77,
   "metadata": {
    "collapsed": false
   },
   "outputs": [
    {
     "name": "stdout",
     "output_type": "stream",
     "text": [
      "Small data set:\n",
      "150    1.433800\n",
      "151    2.079700\n",
      "152    0.892139\n",
      "153    2.384740\n",
      "154    0.006980\n",
      "155    1.971760\n",
      "156    0.000000\n",
      "157    1.428470\n",
      "158    1.715950\n",
      "159    0.000000\n",
      "Name: ShannonDiversity\n"
     ]
    }
   ],
   "source": [
    "# subset a list of 10 data points\n",
    "treatment1 = experimentDF[experimentDF[\"Virulence\"] == 0.8][\"ShannonDiversity\"][:10]\n",
    "\n",
    "print \"Small data set:\\n\", treatment1"
   ]
  },
  {
   "cell_type": "code",
   "execution_count": 68,
   "metadata": {
    "collapsed": false
   },
   "outputs": [
    {
     "name": "stdout",
     "output_type": "stream",
     "text": [
      "Bootstrapped 95% confidence intervals\n",
      "Low: 0.650358748 \n",
      "High: 1.727339024\n"
     ]
    }
   ],
   "source": [
    "import scipy\n",
    "import scikits.bootstrap as bootstrap\n",
    "\n",
    "CIs = bootstrap.ci(data=treatment1, statfunction=scipy.mean)\n",
    "\n",
    "print \"Bootstrapped 95% confidence intervals\\nLow:\", CIs[0], \"\\nHigh:\", CIs[1]"
   ]
  },
  {
   "cell_type": "markdown",
   "metadata": {},
   "source": [
    "Note that you can change the range of the confidence interval by setting the alpha:"
   ]
  },
  {
   "cell_type": "code",
   "execution_count": 69,
   "metadata": {
    "collapsed": false
   },
   "outputs": [
    {
     "name": "stdout",
     "output_type": "stream",
     "text": [
      "Bootstrapped 80% confidence interval\n",
      "Low: 0.827824024 \n",
      "High: 1.5390109\n"
     ]
    }
   ],
   "source": [
    "# 80% confidence interval\n",
    "CIs = bootstrap.ci(treatment1, scipy.mean, alpha=0.2)\n",
    "print \"Bootstrapped 80% confidence interval\\nLow:\", CIs[0], \"\\nHigh:\", CIs[1]"
   ]
  },
  {
   "cell_type": "markdown",
   "metadata": {},
   "source": [
    "And also modify the size of the bootstrapped sample pool that the confidence intervals\n",
    "are taken from:"
   ]
  },
  {
   "cell_type": "code",
   "execution_count": 76,
   "metadata": {
    "collapsed": false
   },
   "outputs": [
    {
     "name": "stdout",
     "output_type": "stream",
     "text": [
      "Bootstrapped 95% confidence interval w/ 20,000 samples\n",
      "Low: 0.649929948 \n",
      "High: 1.72177\n"
     ]
    }
   ],
   "source": [
    "# bootstrap 20,000 samples instead of only 10,000\n",
    "CIs = bootstrap.ci(treatment1, scipy.mean, n_samples=20000)\n",
    "print \"Bootstrapped 95% confidence interval w/ 20,000 samples\\nLow:\", CIs[0], \"\\nHigh:\", CIs[1]"
   ]
  },
  {
   "cell_type": "markdown",
   "metadata": {},
   "source": [
    "Generally, bootstrapped 95% confidence intervals provide more accurate confidence\n",
    "intervals than 95% confidence intervals estimated from the SEM."
   ]
  },
  {
   "cell_type": "code",
   "execution_count": 70,
   "metadata": {
    "collapsed": false
   },
   "outputs": [],
   "source": []
  }
 ],
 "metadata": {
  "kernelspec": {
   "display_name": "Python 2",
   "language": "python",
   "name": "python2"
  }
 },
 "nbformat": 4,
 "nbformat_minor": 0
}
