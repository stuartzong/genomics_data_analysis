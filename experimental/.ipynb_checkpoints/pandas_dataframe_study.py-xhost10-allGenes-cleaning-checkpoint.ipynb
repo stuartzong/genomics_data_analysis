{
 "cells": [
  {
   "cell_type": "code",
   "execution_count": 1,
   "metadata": {
    "collapsed": true
   },
   "outputs": [],
   "source": [
    "import matplotlib\n",
    "import seaborn\n",
    "import numpy as np\n",
    "import matplotlib.pyplot as plt\n",
    "from scipy.stats import ttest_ind\n",
    "import scipy.stats as ss\n",
    "from matplotlib import style\n",
    "matplotlib.style.use('ggplot')\n",
    "%matplotlib inline\n",
    "matplotlib.rcParams['figure.figsize'] = (15, 9)\n",
    "import pandas as pd\n",
    "\n",
    "from sklearn.decomposition import RandomizedPCA, PCA\n",
    "from sklearn.linear_model import LogisticRegression\n",
    "from sklearn.manifold import TSNE\n",
    "from sklearn.preprocessing import StandardScaler\n",
    "import seaborn"
   ]
  },
  {
   "cell_type": "code",
   "execution_count": 3,
   "metadata": {
    "collapsed": false
   },
   "outputs": [],
   "source": [
    "df_expr = pd.read_csv('/projects/trans_scratch/validations/workspace/szong/Cervical/immune_expression/expression_matrix.txt', sep='\\t', index_col='genes')"
   ]
  },
  {
   "cell_type": "code",
   "execution_count": 4,
   "metadata": {
    "collapsed": false
   },
   "outputs": [
    {
     "data": {
      "text/plain": [
       "(58450, 82)"
      ]
     },
     "execution_count": 4,
     "metadata": {},
     "output_type": "execute_result"
    }
   ],
   "source": [
    "df_expr.shape"
   ]
  },
  {
   "cell_type": "code",
   "execution_count": 6,
   "metadata": {
    "collapsed": true
   },
   "outputs": [],
   "source": [
    "df_expr = df_expr.drop_duplicates()"
   ]
  },
  {
   "cell_type": "code",
   "execution_count": 7,
   "metadata": {
    "collapsed": false
   },
   "outputs": [
    {
     "data": {
      "text/plain": [
       "(45534, 82)"
      ]
     },
     "execution_count": 7,
     "metadata": {},
     "output_type": "execute_result"
    }
   ],
   "source": [
    "df_expr.shape"
   ]
  },
  {
   "cell_type": "code",
   "execution_count": 16,
   "metadata": {
    "collapsed": true
   },
   "outputs": [],
   "source": [
    "df_expr = df_expr.T"
   ]
  },
  {
   "cell_type": "code",
   "execution_count": 17,
   "metadata": {
    "collapsed": false
   },
   "outputs": [],
   "source": [
    "dup_gene_names = df_expr.columns.value_counts().to_frame(name='count').query('count > 1').index.values"
   ]
  },
  {
   "cell_type": "code",
   "execution_count": 18,
   "metadata": {
    "collapsed": false
   },
   "outputs": [
    {
     "data": {
      "text/plain": [
       "(183,)"
      ]
     },
     "execution_count": 18,
     "metadata": {},
     "output_type": "execute_result"
    }
   ],
   "source": [
    "dup_gene_names.shape"
   ]
  },
  {
   "cell_type": "code",
   "execution_count": 19,
   "metadata": {
    "collapsed": false
   },
   "outputs": [
    {
     "data": {
      "text/plain": [
       "(82, 45534)"
      ]
     },
     "execution_count": 19,
     "metadata": {},
     "output_type": "execute_result"
    }
   ],
   "source": [
    "df_expr.shape"
   ]
  },
  {
   "cell_type": "code",
   "execution_count": 20,
   "metadata": {
    "collapsed": true
   },
   "outputs": [],
   "source": [
    "df_expr.drop(dup_gene_names, axis=1, inplace=True)"
   ]
  },
  {
   "cell_type": "code",
   "execution_count": 21,
   "metadata": {
    "collapsed": false
   },
   "outputs": [
    {
     "data": {
      "text/plain": [
       "(82, 42584)"
      ]
     },
     "execution_count": 21,
     "metadata": {},
     "output_type": "execute_result"
    }
   ],
   "source": [
    "df_expr.shape"
   ]
  },
  {
   "cell_type": "code",
   "execution_count": 22,
   "metadata": {
    "collapsed": false
   },
   "outputs": [
    {
     "data": {
      "text/html": [
       "<div>\n",
       "<table border=\"1\" class=\"dataframe\">\n",
       "  <thead>\n",
       "    <tr style=\"text-align: right;\">\n",
       "      <th>genes</th>\n",
       "      <th>SCYL3</th>\n",
       "      <th>C1orf112</th>\n",
       "      <th>FGR</th>\n",
       "      <th>CFH</th>\n",
       "      <th>STPG1</th>\n",
       "      <th>NIPAL3</th>\n",
       "      <th>AK2</th>\n",
       "      <th>KDM1A</th>\n",
       "      <th>TTC22</th>\n",
       "      <th>ST7L</th>\n",
       "      <th>...</th>\n",
       "      <th>EIF4A1P2</th>\n",
       "      <th>MXRA5P1</th>\n",
       "      <th>CTBP2P1</th>\n",
       "      <th>ATP5JP1</th>\n",
       "      <th>PARP4P1</th>\n",
       "      <th>KALP</th>\n",
       "      <th>AC006157.2</th>\n",
       "      <th>RP11-886I11.1</th>\n",
       "      <th>RP11-886I11.3</th>\n",
       "      <th>RP11-886I11.2</th>\n",
       "    </tr>\n",
       "  </thead>\n",
       "  <tbody>\n",
       "    <tr>\n",
       "      <th>A37700</th>\n",
       "      <td>3.6416</td>\n",
       "      <td>4.8082</td>\n",
       "      <td>0.7059</td>\n",
       "      <td>14.3879</td>\n",
       "      <td>1.6436</td>\n",
       "      <td>8.7098</td>\n",
       "      <td>29.0268</td>\n",
       "      <td>43.5168</td>\n",
       "      <td>18.7297</td>\n",
       "      <td>1.3490</td>\n",
       "      <td>...</td>\n",
       "      <td>0.0</td>\n",
       "      <td>0.0799</td>\n",
       "      <td>0.0369</td>\n",
       "      <td>0.0</td>\n",
       "      <td>0.0000</td>\n",
       "      <td>0.0</td>\n",
       "      <td>0.0</td>\n",
       "      <td>0.0</td>\n",
       "      <td>0.0</td>\n",
       "      <td>0.0</td>\n",
       "    </tr>\n",
       "    <tr>\n",
       "      <th>A37701</th>\n",
       "      <td>5.9656</td>\n",
       "      <td>3.9581</td>\n",
       "      <td>2.1283</td>\n",
       "      <td>22.7599</td>\n",
       "      <td>1.2715</td>\n",
       "      <td>6.1969</td>\n",
       "      <td>18.3112</td>\n",
       "      <td>21.3308</td>\n",
       "      <td>30.3388</td>\n",
       "      <td>1.8652</td>\n",
       "      <td>...</td>\n",
       "      <td>0.0</td>\n",
       "      <td>0.0000</td>\n",
       "      <td>0.0000</td>\n",
       "      <td>0.0</td>\n",
       "      <td>0.0081</td>\n",
       "      <td>0.0</td>\n",
       "      <td>0.0</td>\n",
       "      <td>0.0</td>\n",
       "      <td>0.0</td>\n",
       "      <td>0.0</td>\n",
       "    </tr>\n",
       "  </tbody>\n",
       "</table>\n",
       "<p>2 rows × 42584 columns</p>\n",
       "</div>"
      ],
      "text/plain": [
       "genes    SCYL3  C1orf112     FGR      CFH   STPG1  NIPAL3      AK2    KDM1A  \\\n",
       "A37700  3.6416    4.8082  0.7059  14.3879  1.6436  8.7098  29.0268  43.5168   \n",
       "A37701  5.9656    3.9581  2.1283  22.7599  1.2715  6.1969  18.3112  21.3308   \n",
       "\n",
       "genes     TTC22    ST7L      ...        EIF4A1P2  MXRA5P1  CTBP2P1  ATP5JP1  \\\n",
       "A37700  18.7297  1.3490      ...             0.0   0.0799   0.0369      0.0   \n",
       "A37701  30.3388  1.8652      ...             0.0   0.0000   0.0000      0.0   \n",
       "\n",
       "genes   PARP4P1  KALP  AC006157.2  RP11-886I11.1  RP11-886I11.3  RP11-886I11.2  \n",
       "A37700   0.0000   0.0         0.0            0.0            0.0            0.0  \n",
       "A37701   0.0081   0.0         0.0            0.0            0.0            0.0  \n",
       "\n",
       "[2 rows x 42584 columns]"
      ]
     },
     "execution_count": 22,
     "metadata": {},
     "output_type": "execute_result"
    }
   ],
   "source": [
    "df_expr.head(2)"
   ]
  },
  {
   "cell_type": "code",
   "execution_count": 25,
   "metadata": {
    "collapsed": false
   },
   "outputs": [],
   "source": [
    "df_expr = df_expr.reset_index().rename(columns={'index': 'lib'})"
   ]
  },
  {
   "cell_type": "code",
   "execution_count": 26,
   "metadata": {
    "collapsed": false
   },
   "outputs": [
    {
     "data": {
      "text/html": [
       "<div>\n",
       "<table border=\"1\" class=\"dataframe\">\n",
       "  <thead>\n",
       "    <tr style=\"text-align: right;\">\n",
       "      <th>genes</th>\n",
       "      <th>lib</th>\n",
       "      <th>SCYL3</th>\n",
       "      <th>C1orf112</th>\n",
       "      <th>FGR</th>\n",
       "      <th>CFH</th>\n",
       "      <th>STPG1</th>\n",
       "      <th>NIPAL3</th>\n",
       "      <th>AK2</th>\n",
       "      <th>KDM1A</th>\n",
       "      <th>TTC22</th>\n",
       "      <th>...</th>\n",
       "      <th>EIF4A1P2</th>\n",
       "      <th>MXRA5P1</th>\n",
       "      <th>CTBP2P1</th>\n",
       "      <th>ATP5JP1</th>\n",
       "      <th>PARP4P1</th>\n",
       "      <th>KALP</th>\n",
       "      <th>AC006157.2</th>\n",
       "      <th>RP11-886I11.1</th>\n",
       "      <th>RP11-886I11.3</th>\n",
       "      <th>RP11-886I11.2</th>\n",
       "    </tr>\n",
       "  </thead>\n",
       "  <tbody>\n",
       "    <tr>\n",
       "      <th>0</th>\n",
       "      <td>A37700</td>\n",
       "      <td>3.6416</td>\n",
       "      <td>4.8082</td>\n",
       "      <td>0.7059</td>\n",
       "      <td>14.3879</td>\n",
       "      <td>1.6436</td>\n",
       "      <td>8.7098</td>\n",
       "      <td>29.0268</td>\n",
       "      <td>43.5168</td>\n",
       "      <td>18.7297</td>\n",
       "      <td>...</td>\n",
       "      <td>0.0</td>\n",
       "      <td>0.0799</td>\n",
       "      <td>0.0369</td>\n",
       "      <td>0.0</td>\n",
       "      <td>0.0000</td>\n",
       "      <td>0.0</td>\n",
       "      <td>0.0</td>\n",
       "      <td>0.0</td>\n",
       "      <td>0.0</td>\n",
       "      <td>0.0</td>\n",
       "    </tr>\n",
       "    <tr>\n",
       "      <th>1</th>\n",
       "      <td>A37701</td>\n",
       "      <td>5.9656</td>\n",
       "      <td>3.9581</td>\n",
       "      <td>2.1283</td>\n",
       "      <td>22.7599</td>\n",
       "      <td>1.2715</td>\n",
       "      <td>6.1969</td>\n",
       "      <td>18.3112</td>\n",
       "      <td>21.3308</td>\n",
       "      <td>30.3388</td>\n",
       "      <td>...</td>\n",
       "      <td>0.0</td>\n",
       "      <td>0.0000</td>\n",
       "      <td>0.0000</td>\n",
       "      <td>0.0</td>\n",
       "      <td>0.0081</td>\n",
       "      <td>0.0</td>\n",
       "      <td>0.0</td>\n",
       "      <td>0.0</td>\n",
       "      <td>0.0</td>\n",
       "      <td>0.0</td>\n",
       "    </tr>\n",
       "  </tbody>\n",
       "</table>\n",
       "<p>2 rows × 42585 columns</p>\n",
       "</div>"
      ],
      "text/plain": [
       "genes     lib   SCYL3  C1orf112     FGR      CFH   STPG1  NIPAL3      AK2  \\\n",
       "0      A37700  3.6416    4.8082  0.7059  14.3879  1.6436  8.7098  29.0268   \n",
       "1      A37701  5.9656    3.9581  2.1283  22.7599  1.2715  6.1969  18.3112   \n",
       "\n",
       "genes    KDM1A    TTC22      ...        EIF4A1P2  MXRA5P1  CTBP2P1  ATP5JP1  \\\n",
       "0      43.5168  18.7297      ...             0.0   0.0799   0.0369      0.0   \n",
       "1      21.3308  30.3388      ...             0.0   0.0000   0.0000      0.0   \n",
       "\n",
       "genes  PARP4P1  KALP  AC006157.2  RP11-886I11.1  RP11-886I11.3  RP11-886I11.2  \n",
       "0       0.0000   0.0         0.0            0.0            0.0            0.0  \n",
       "1       0.0081   0.0         0.0            0.0            0.0            0.0  \n",
       "\n",
       "[2 rows x 42585 columns]"
      ]
     },
     "execution_count": 26,
     "metadata": {},
     "output_type": "execute_result"
    }
   ],
   "source": [
    "df_expr.head(2)"
   ]
  },
  {
   "cell_type": "code",
   "execution_count": 27,
   "metadata": {
    "collapsed": true
   },
   "outputs": [],
   "source": [
    "df_expr.to_csv('/projects/trans_scratch/validations/workspace/szong/Cervical/immune_expression/expression_matrix.dedup.txt', index=False)"
   ]
  }
 ],
 "metadata": {
  "kernelspec": {
   "display_name": "Python 2",
   "language": "python",
   "name": "python2"
  },
  "language_info": {
   "codemirror_mode": {
    "name": "ipython",
    "version": 2
   },
   "file_extension": ".py",
   "mimetype": "text/x-python",
   "name": "python",
   "nbconvert_exporter": "python",
   "pygments_lexer": "ipython2",
   "version": "2.7.12"
  }
 },
 "nbformat": 4,
 "nbformat_minor": 0
}
