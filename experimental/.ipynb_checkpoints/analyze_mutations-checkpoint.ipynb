{
 "cells": [
  {
   "cell_type": "code",
   "execution_count": 117,
   "metadata": {
    "collapsed": true
   },
   "outputs": [],
   "source": [
    "# make boxplot with individual data points\n",
    "import csv\n",
    "import matplotlib\n",
    "import seaborn\n",
    "import numpy as np\n",
    "import pandas as pd\n",
    "import matplotlib.pyplot as plt\n",
    "from scipy.stats import ttest_ind\n",
    "import scipy.stats as ss\n",
    "from matplotlib import style\n",
    "from matplotlib.lines import Line2D\n",
    "\n",
    "#pretty display\n",
    "# from IPython.core.interactiveshell import InteractiveShell\n",
    "# InteractiveShell.ast_node_interactivity = \"all\"\n",
    "\n",
    "matplotlib.style.use('ggplot')\n",
    "%matplotlib inline\n",
    "matplotlib.rcParams['figure.figsize'] = (15, 9)\n",
    "\n",
    "\n",
    "# %config InlineBackend.figure_format = 'retina'\n",
    "# figure out number of indels"
   ]
  },
  {
   "cell_type": "markdown",
   "metadata": {},
   "source": [
    "# comparing number of SNVS + INDELS (high and moderate impact variants only) between hiv + and - "
   ]
  },
  {
   "cell_type": "code",
   "execution_count": 118,
   "metadata": {
    "collapsed": false
   },
   "outputs": [
    {
     "data": {
      "text/html": [
       "<div>\n",
       "<table border=\"1\" class=\"dataframe\">\n",
       "  <thead>\n",
       "    <tr style=\"text-align: right;\">\n",
       "      <th></th>\n",
       "      <th>num_snvs</th>\n",
       "      <th>num_indels</th>\n",
       "    </tr>\n",
       "  </thead>\n",
       "  <tbody>\n",
       "    <tr>\n",
       "      <th>HTMCP-03-06-02007_Malignant</th>\n",
       "      <td>16449</td>\n",
       "      <td>50</td>\n",
       "    </tr>\n",
       "    <tr>\n",
       "      <th>HTMCP-03-06-02185_Malignant</th>\n",
       "      <td>401</td>\n",
       "      <td>24</td>\n",
       "    </tr>\n",
       "    <tr>\n",
       "      <th>HTMCP-03-06-02006_Malignant</th>\n",
       "      <td>206</td>\n",
       "      <td>16</td>\n",
       "    </tr>\n",
       "    <tr>\n",
       "      <th>HTMCP-03-06-02157_Malignant</th>\n",
       "      <td>197</td>\n",
       "      <td>14</td>\n",
       "    </tr>\n",
       "    <tr>\n",
       "      <th>HTMCP-03-06-02037_Malignant</th>\n",
       "      <td>105</td>\n",
       "      <td>12</td>\n",
       "    </tr>\n",
       "  </tbody>\n",
       "</table>\n",
       "</div>"
      ],
      "text/plain": [
       "                             num_snvs  num_indels\n",
       "HTMCP-03-06-02007_Malignant     16449          50\n",
       "HTMCP-03-06-02185_Malignant       401          24\n",
       "HTMCP-03-06-02006_Malignant       206          16\n",
       "HTMCP-03-06-02157_Malignant       197          14\n",
       "HTMCP-03-06-02037_Malignant       105          12"
      ]
     },
     "execution_count": 118,
     "metadata": {},
     "output_type": "execute_result"
    }
   ],
   "source": [
    "# get somatic snvs\n",
    "df_snvs = pd.read_csv('/projects/trans_scratch/validations/workspace/szong/Cervical/variant_bwamem/101_patients/HIGH_MODERATE_SNV_summary_with_normal_with_AF_filtered.tsv', skiprows=312,sep='\\t')\n",
    "# df_snvs.head(2)\n",
    "\n",
    "# df_snvs.query('gene == \"PIK3CA\"')[['gene', 'patient_ID']].sort_values('patient_ID')['patient_ID'].unique().shape\n",
    "\n",
    "df_snvC = pd.DataFrame(df_snvs['patient_ID'].value_counts())\n",
    "df_snvC.rename(columns ={'patient_ID':'num_snvs'}, inplace=True)\n",
    "# df_snvC.describe()\n",
    "\n",
    "# df_snvC.head(2)\n",
    "\n",
    "# get strelka indel calls\n",
    "df_indels = pd.read_csv('/projects/trans_scratch/validations/workspace/szong/Cervical/variant_bwamem/101_patients/HIGH_MODERATE_INDEL_summary_with_normal_strelka_only.tsv', sep='\\t')\n",
    "# df_indels.head()\n",
    "\n",
    "# indel counts\n",
    "df_indC = pd.DataFrame(df_indels['patient_ID'].value_counts())\n",
    "df_indC.rename(columns ={'patient_ID':'num_indels'}, inplace=True)\n",
    "# df_indC.describe()\n",
    "\n",
    "\n",
    "# df_indC.head(2)\n",
    "\n",
    "df_mrg = pd.merge(df_snvC, df_indC, left_index=True, right_index=True)\n",
    "df_mrg.head()"
   ]
  },
  {
   "cell_type": "code",
   "execution_count": 119,
   "metadata": {
    "collapsed": false
   },
   "outputs": [],
   "source": [
    "df_mrg['xxx']=df_mrg.index\n",
    "df_mrg['patient'] = df_mrg['xxx'].apply(lambda x: x.replace('_Malignant', ''))\n",
    "df_mrg.drop('xxx', axis=1, inplace=True)"
   ]
  },
  {
   "cell_type": "code",
   "execution_count": 120,
   "metadata": {
    "collapsed": false
   },
   "outputs": [
    {
     "data": {
      "text/html": [
       "<div>\n",
       "<table border=\"1\" class=\"dataframe\">\n",
       "  <thead>\n",
       "    <tr style=\"text-align: right;\">\n",
       "      <th></th>\n",
       "      <th>num_snvs</th>\n",
       "      <th>num_indels</th>\n",
       "      <th>log10</th>\n",
       "    </tr>\n",
       "    <tr>\n",
       "      <th>patient</th>\n",
       "      <th></th>\n",
       "      <th></th>\n",
       "      <th></th>\n",
       "    </tr>\n",
       "  </thead>\n",
       "  <tbody>\n",
       "    <tr>\n",
       "      <th>HTMCP-03-06-02007</th>\n",
       "      <td>16449</td>\n",
       "      <td>50</td>\n",
       "      <td>4.217458</td>\n",
       "    </tr>\n",
       "    <tr>\n",
       "      <th>HTMCP-03-06-02185</th>\n",
       "      <td>401</td>\n",
       "      <td>24</td>\n",
       "      <td>2.628389</td>\n",
       "    </tr>\n",
       "  </tbody>\n",
       "</table>\n",
       "</div>"
      ],
      "text/plain": [
       "                   num_snvs  num_indels     log10\n",
       "patient                                          \n",
       "HTMCP-03-06-02007     16449          50  4.217458\n",
       "HTMCP-03-06-02185       401          24  2.628389"
      ]
     },
     "execution_count": 120,
     "metadata": {},
     "output_type": "execute_result"
    }
   ],
   "source": [
    "df_mrg.set_index('patient', inplace=True)\n",
    "\n",
    "df_mrg['log10'] = np.log10(df_mrg.sum(axis=1))\n",
    "df_mrg.head(2)"
   ]
  },
  {
   "cell_type": "code",
   "execution_count": 121,
   "metadata": {
    "collapsed": false
   },
   "outputs": [
    {
     "data": {
      "text/html": [
       "<div>\n",
       "<table border=\"1\" class=\"dataframe\">\n",
       "  <thead>\n",
       "    <tr style=\"text-align: right;\">\n",
       "      <th></th>\n",
       "      <th>hiv_nationwide</th>\n",
       "      <th>cd4counts_nationwide</th>\n",
       "      <th>hist_nationwide</th>\n",
       "      <th>keratinization_nationwide</th>\n",
       "      <th>dna_library</th>\n",
       "      <th>source_ID</th>\n",
       "      <th>putative_Histology</th>\n",
       "      <th>library_RNA</th>\n",
       "      <th>RNA_all_strains_integration_status</th>\n",
       "      <th>HIV_status</th>\n",
       "      <th>...</th>\n",
       "      <th>hist_col</th>\n",
       "      <th>integration</th>\n",
       "      <th>x</th>\n",
       "      <th>hpv16_2_E6</th>\n",
       "      <th>hpv16_2_E7</th>\n",
       "      <th>hpv16_E6</th>\n",
       "      <th>hpv16_E7</th>\n",
       "      <th>hpv18_E6</th>\n",
       "      <th>hpv18_E7</th>\n",
       "      <th>rna_chastity_passed_reads</th>\n",
       "    </tr>\n",
       "    <tr>\n",
       "      <th>patient</th>\n",
       "      <th></th>\n",
       "      <th></th>\n",
       "      <th></th>\n",
       "      <th></th>\n",
       "      <th></th>\n",
       "      <th></th>\n",
       "      <th></th>\n",
       "      <th></th>\n",
       "      <th></th>\n",
       "      <th></th>\n",
       "      <th></th>\n",
       "      <th></th>\n",
       "      <th></th>\n",
       "      <th></th>\n",
       "      <th></th>\n",
       "      <th></th>\n",
       "      <th></th>\n",
       "      <th></th>\n",
       "      <th></th>\n",
       "      <th></th>\n",
       "      <th></th>\n",
       "    </tr>\n",
       "  </thead>\n",
       "  <tbody>\n",
       "    <tr>\n",
       "      <th>HTMCP-03-06-02202</th>\n",
       "      <td>Positive</td>\n",
       "      <td>437</td>\n",
       "      <td>squamouscellcarcinoma</td>\n",
       "      <td>Keratinizing</td>\n",
       "      <td>A57085</td>\n",
       "      <td>HTMCP_400</td>\n",
       "      <td>Squamous</td>\n",
       "      <td>A57112</td>\n",
       "      <td>integrated</td>\n",
       "      <td>Positive</td>\n",
       "      <td>...</td>\n",
       "      <td>red</td>\n",
       "      <td>0</td>\n",
       "      <td>-0.7</td>\n",
       "      <td>1237.2</td>\n",
       "      <td>4162.1</td>\n",
       "      <td>1315.8</td>\n",
       "      <td>4155.4</td>\n",
       "      <td>0</td>\n",
       "      <td>0</td>\n",
       "      <td>307193606</td>\n",
       "    </tr>\n",
       "    <tr>\n",
       "      <th>HTMCP-03-06-02240</th>\n",
       "      <td>Positive</td>\n",
       "      <td>611</td>\n",
       "      <td>squamouscellcarcinoma</td>\n",
       "      <td>Non-Keratinizing</td>\n",
       "      <td>A57096</td>\n",
       "      <td>HTMCP_411</td>\n",
       "      <td>Squamous</td>\n",
       "      <td>A57123</td>\n",
       "      <td>integrated</td>\n",
       "      <td>Positive</td>\n",
       "      <td>...</td>\n",
       "      <td>red</td>\n",
       "      <td>0</td>\n",
       "      <td>-1</td>\n",
       "      <td>0</td>\n",
       "      <td>0</td>\n",
       "      <td>0</td>\n",
       "      <td>0</td>\n",
       "      <td>0</td>\n",
       "      <td>0</td>\n",
       "      <td>311167934</td>\n",
       "    </tr>\n",
       "  </tbody>\n",
       "</table>\n",
       "<p>2 rows × 42 columns</p>\n",
       "</div>"
      ],
      "text/plain": [
       "                  hiv_nationwide cd4counts_nationwide        hist_nationwide  \\\n",
       "patient                                                                        \n",
       "HTMCP-03-06-02202       Positive                  437  squamouscellcarcinoma   \n",
       "HTMCP-03-06-02240       Positive                  611  squamouscellcarcinoma   \n",
       "\n",
       "                  keratinization_nationwide dna_library  source_ID  \\\n",
       "patient                                                              \n",
       "HTMCP-03-06-02202              Keratinizing      A57085  HTMCP_400   \n",
       "HTMCP-03-06-02240          Non-Keratinizing      A57096  HTMCP_411   \n",
       "\n",
       "                  putative_Histology library_RNA  \\\n",
       "patient                                            \n",
       "HTMCP-03-06-02202           Squamous      A57112   \n",
       "HTMCP-03-06-02240           Squamous      A57123   \n",
       "\n",
       "                  RNA_all_strains_integration_status HIV_status  \\\n",
       "patient                                                           \n",
       "HTMCP-03-06-02202                         integrated   Positive   \n",
       "HTMCP-03-06-02240                         integrated   Positive   \n",
       "\n",
       "                             ...            hist_col integration    x  \\\n",
       "patient                      ...                                        \n",
       "HTMCP-03-06-02202            ...                 red           0 -0.7   \n",
       "HTMCP-03-06-02240            ...                 red           0   -1   \n",
       "\n",
       "                  hpv16_2_E6 hpv16_2_E7 hpv16_E6 hpv16_E7 hpv18_E6 hpv18_E7  \\\n",
       "patient                                                                       \n",
       "HTMCP-03-06-02202     1237.2     4162.1   1315.8   4155.4        0        0   \n",
       "HTMCP-03-06-02240          0          0        0        0        0        0   \n",
       "\n",
       "                  rna_chastity_passed_reads  \n",
       "patient                                      \n",
       "HTMCP-03-06-02202                 307193606  \n",
       "HTMCP-03-06-02240                 311167934  \n",
       "\n",
       "[2 rows x 42 columns]"
      ]
     },
     "execution_count": 121,
     "metadata": {},
     "output_type": "execute_result"
    },
    {
     "data": {
      "text/html": [
       "<div>\n",
       "<table border=\"1\" class=\"dataframe\">\n",
       "  <thead>\n",
       "    <tr style=\"text-align: right;\">\n",
       "      <th></th>\n",
       "      <th>putative_Histology</th>\n",
       "      <th>HIV_status</th>\n",
       "    </tr>\n",
       "    <tr>\n",
       "      <th>patient</th>\n",
       "      <th></th>\n",
       "      <th></th>\n",
       "    </tr>\n",
       "  </thead>\n",
       "  <tbody>\n",
       "    <tr>\n",
       "      <th>HTMCP-03-06-02202</th>\n",
       "      <td>Squamous</td>\n",
       "      <td>Positive</td>\n",
       "    </tr>\n",
       "    <tr>\n",
       "      <th>HTMCP-03-06-02240</th>\n",
       "      <td>Squamous</td>\n",
       "      <td>Positive</td>\n",
       "    </tr>\n",
       "  </tbody>\n",
       "</table>\n",
       "</div>"
      ],
      "text/plain": [
       "                  putative_Histology HIV_status\n",
       "patient                                        \n",
       "HTMCP-03-06-02202           Squamous   Positive\n",
       "HTMCP-03-06-02240           Squamous   Positive"
      ]
     },
     "execution_count": 121,
     "metadata": {},
     "output_type": "execute_result"
    },
    {
     "data": {
      "text/plain": [
       "(101, 2)"
      ]
     },
     "execution_count": 121,
     "metadata": {},
     "output_type": "execute_result"
    }
   ],
   "source": [
    "df_clinic = pd.read_excel('/projects/trans_scratch/validations/workspace/szong/Cervical/E6_E7_expression/Cervical_integration_expression_mastertable_reviewed.xls')\n",
    "df_clinic.set_index('patient', inplace=True)\n",
    "df_clinic.head(2)\n",
    "# df_raw.columns\n",
    "\n",
    "df_clinic = df_clinic[['putative_Histology', 'HIV_status']]\n",
    "df_clinic.head(2)\n",
    "\n",
    "df_clinic.shape"
   ]
  },
  {
   "cell_type": "code",
   "execution_count": 122,
   "metadata": {
    "collapsed": false
   },
   "outputs": [],
   "source": [
    "df_jnt = df_mrg.join(df_clinic, how='outer')\n",
    "\n",
    "df_jnt.fillna(0, inplace=True);"
   ]
  },
  {
   "cell_type": "code",
   "execution_count": 127,
   "metadata": {
    "collapsed": false
   },
   "outputs": [
    {
     "data": {
      "text/plain": [
       "<matplotlib.text.Text at 0x7f421e9436d0>"
      ]
     },
     "execution_count": 127,
     "metadata": {},
     "output_type": "execute_result"
    },
    {
     "name": "stdout",
     "output_type": "stream",
     "text": [
      "Positive\n"
     ]
    },
    {
     "data": {
      "text/plain": [
       "[<matplotlib.lines.Line2D at 0x7f421ce7a110>]"
      ]
     },
     "execution_count": 127,
     "metadata": {},
     "output_type": "execute_result"
    },
    {
     "name": "stdout",
     "output_type": "stream",
     "text": [
      "Negative\n"
     ]
    },
    {
     "data": {
      "text/plain": [
       "[<matplotlib.lines.Line2D at 0x7f421b845f10>]"
      ]
     },
     "execution_count": 127,
     "metadata": {},
     "output_type": "execute_result"
    },
    {
     "data": {
      "text/plain": [
       "<matplotlib.text.Text at 0x7f421f6fc050>"
      ]
     },
     "execution_count": 127,
     "metadata": {},
     "output_type": "execute_result"
    },
    {
     "data": {
      "text/plain": [
       "<matplotlib.text.Text at 0x7f421f357ad0>"
      ]
     },
     "execution_count": 127,
     "metadata": {},
     "output_type": "execute_result"
    },
    {
     "data": {
      "text/plain": [
       "<matplotlib.text.Text at 0x7f421e938f10>"
      ]
     },
     "execution_count": 127,
     "metadata": {},
     "output_type": "execute_result"
    },
    {
     "name": "stdout",
     "output_type": "stream",
     "text": [
      "Mann Whitney U test on log10 comparing HIV_status\n"
     ]
    },
    {
     "data": {
      "text/plain": [
       "MannwhitneyuResult(statistic=756.0, pvalue=0.00020858563362011841)"
      ]
     },
     "execution_count": 127,
     "metadata": {},
     "output_type": "execute_result"
    },
    {
     "data": {
      "text/plain": [
       "<matplotlib.figure.Figure at 0x7f421cf440d0>"
      ]
     },
     "metadata": {},
     "output_type": "display_data"
    },
    {
     "data": {
      "image/png": "[encoded data removed]",
      "text/plain": [
       "<matplotlib.figure.Figure at 0x7f421b77aa50>"
      ]
     },
     "metadata": {
      "image/png": {
       "height": 487,
       "width": 473
      }
     },
     "output_type": "display_data"
    }
   ],
   "source": [
    "fig = plt.figure()\n",
    "group_col = 'HIV_status'\n",
    "value_col = 'log10'\n",
    "ax = df_jnt.boxplot(column=value_col, by=group_col, showfliers=False, widths=(0.6,0.6), figsize=(5,5))\n",
    "plt.title('') # this removes the column as subtitle of the plot\n",
    "fig = ax.get_figure()\n",
    "# fig.suptitle('')\n",
    "\n",
    "np.random.seed(0)\n",
    "# overlay actuall data points\n",
    "categories = df_jnt[group_col].unique().tolist()\n",
    "for category in categories:\n",
    "    y = df_jnt[value_col][df_jnt[group_col]==category]\n",
    "#     i = categories.index(category) + 1\n",
    "    print category\n",
    "    if category == 'Positive':\n",
    "#     if category == 'Adeno':\n",
    "        i = 2\n",
    "    elif category == 'Negative':\n",
    "#     elif category == 'Squamous':\n",
    "        i = 1\n",
    "    # add jitter and specify maker facecolor and edgecolor\n",
    "    x = np.random.normal(i, 0.1, size=len(y))\n",
    "    plt.plot(x, y, 'o', markerfacecolor='black',markeredgecolor='red', markersize=7, alpha=0.8)\n",
    "\n",
    "# ax.set_ylim(0,0.1)\n",
    "ax.set_axis_bgcolor('whitesmoke') #specify plot backgroup color\n",
    "ax.tick_params(axis='x', labelsize=14) #specify x tick label size\n",
    "plt.xlabel(\"HIV status\", fontsize=14) \n",
    "plt.ylabel('log10_mutations', fontsize=14)\n",
    "plt.suptitle('genome mutation load HIV + vs -', fontsize=14)  # get rid of the automatically generated title\n",
    "plt.savefig('/projects/trans_scratch/validations/workspace/szong/Cervical/bbt/101_patients/mutation_load_101_patients.png', dpi=200)\n",
    "\n",
    "# statistical test \n",
    "print('Mann Whitney U test on {0} comparing {1}'.format(value_col, group_col))\n",
    "Negative = df_jnt[df_jnt[group_col]=='Negative']\n",
    "# Negative = df_jnt[df_jnt[group_col]=='Squamous']\n",
    "Positive = df_jnt[df_jnt[group_col]=='Positive']\n",
    "# Positive = df_jnt[df_jnt[group_col]=='Adeno']\n",
    "# tie corrected Mann Whitney U test,\n",
    "ss.mannwhitneyu(Negative[value_col], Positive[value_col], use_continuity=True, alternative=None)"
   ]
  },
  {
   "cell_type": "markdown",
   "metadata": {
    "collapsed": false
   },
   "source": [
    "# Also we could you all calls from strelka: this is prefered since this takes into consideration of all soamtic calls:snvs and indels, high/moderate/low/modifier impacts."
   ]
  },
  {
   "cell_type": "code",
   "execution_count": 1,
   "metadata": {
    "collapsed": true
   },
   "outputs": [],
   "source": [
    "import matplotlib\n",
    "import matplotlib.pyplot as plt\n",
    "from matplotlib import style\n",
    "from scipy.stats import ttest_ind\n",
    "import scipy.stats as ss\n",
    "matplotlib.style.use('ggplot')\n",
    "%matplotlib inline\n",
    "matplotlib.rcParams['figure.figsize'] = (15, 9)\n",
    "# matplotlib.rcParams['figure.figsize'] = (3.75, 2.25)\n",
    "import pandas as pd\n",
    "import numpy as np"
   ]
  },
  {
   "cell_type": "code",
   "execution_count": 34,
   "metadata": {
    "collapsed": false
   },
   "outputs": [
    {
     "data": {
      "text/html": [
       "<div>\n",
       "<table border=\"1\" class=\"dataframe\">\n",
       "  <thead>\n",
       "    <tr style=\"text-align: right;\">\n",
       "      <th></th>\n",
       "      <th>indel</th>\n",
       "      <th>snv</th>\n",
       "      <th>sum</th>\n",
       "    </tr>\n",
       "    <tr>\n",
       "      <th>patient</th>\n",
       "      <th></th>\n",
       "      <th></th>\n",
       "      <th></th>\n",
       "    </tr>\n",
       "  </thead>\n",
       "  <tbody>\n",
       "    <tr>\n",
       "      <th>HTMCP-03-06-02001</th>\n",
       "      <td>1242</td>\n",
       "      <td>25732</td>\n",
       "      <td>26974</td>\n",
       "    </tr>\n",
       "    <tr>\n",
       "      <th>HTMCP-03-06-02002</th>\n",
       "      <td>697</td>\n",
       "      <td>15964</td>\n",
       "      <td>16661</td>\n",
       "    </tr>\n",
       "  </tbody>\n",
       "</table>\n",
       "</div>"
      ],
      "text/plain": [
       "                   indel    snv    sum\n",
       "patient                               \n",
       "HTMCP-03-06-02001   1242  25732  26974\n",
       "HTMCP-03-06-02002    697  15964  16661"
      ]
     },
     "execution_count": 34,
     "metadata": {},
     "output_type": "execute_result"
    }
   ],
   "source": [
    "df_strelka = pd.read_csv('/projects/trans_scratch/validations/workspace/szong/Cervical/variant_bwamem/101_patients/number_of_strelka_indel_snv_calls.csv', index_col='patient')\n",
    "df_strelka.head(2)"
   ]
  },
  {
   "cell_type": "code",
   "execution_count": 35,
   "metadata": {
    "collapsed": true
   },
   "outputs": [],
   "source": [
    "df_strelka['log10_indel'] = np.log10(df_strelka.indel +1)"
   ]
  },
  {
   "cell_type": "code",
   "execution_count": 36,
   "metadata": {
    "collapsed": false
   },
   "outputs": [],
   "source": [
    "df_strelka['log10_snv'] = np.log10(df_strelka.snv +1)\n",
    "df_strelka['log10_sum'] = np.log10(df_strelka['sum']+1)"
   ]
  },
  {
   "cell_type": "code",
   "execution_count": 37,
   "metadata": {
    "collapsed": false
   },
   "outputs": [
    {
     "data": {
      "text/html": [
       "<div>\n",
       "<table border=\"1\" class=\"dataframe\">\n",
       "  <thead>\n",
       "    <tr style=\"text-align: right;\">\n",
       "      <th></th>\n",
       "      <th>indel</th>\n",
       "      <th>snv</th>\n",
       "      <th>sum</th>\n",
       "      <th>log10_indel</th>\n",
       "      <th>log10_snv</th>\n",
       "      <th>log10_sum</th>\n",
       "    </tr>\n",
       "    <tr>\n",
       "      <th>patient</th>\n",
       "      <th></th>\n",
       "      <th></th>\n",
       "      <th></th>\n",
       "      <th></th>\n",
       "      <th></th>\n",
       "      <th></th>\n",
       "    </tr>\n",
       "  </thead>\n",
       "  <tbody>\n",
       "    <tr>\n",
       "      <th>HTMCP-03-06-02001</th>\n",
       "      <td>1242</td>\n",
       "      <td>25732</td>\n",
       "      <td>26974</td>\n",
       "      <td>3.094471</td>\n",
       "      <td>4.410490</td>\n",
       "      <td>4.430961</td>\n",
       "    </tr>\n",
       "    <tr>\n",
       "      <th>HTMCP-03-06-02002</th>\n",
       "      <td>697</td>\n",
       "      <td>15964</td>\n",
       "      <td>16661</td>\n",
       "      <td>2.843855</td>\n",
       "      <td>4.203169</td>\n",
       "      <td>4.221727</td>\n",
       "    </tr>\n",
       "  </tbody>\n",
       "</table>\n",
       "</div>"
      ],
      "text/plain": [
       "                   indel    snv    sum  log10_indel  log10_snv  log10_sum\n",
       "patient                                                                  \n",
       "HTMCP-03-06-02001   1242  25732  26974     3.094471   4.410490   4.430961\n",
       "HTMCP-03-06-02002    697  15964  16661     2.843855   4.203169   4.221727"
      ]
     },
     "execution_count": 37,
     "metadata": {},
     "output_type": "execute_result"
    }
   ],
   "source": [
    "df_strelka.head(2)"
   ]
  },
  {
   "cell_type": "code",
   "execution_count": 38,
   "metadata": {
    "collapsed": true
   },
   "outputs": [],
   "source": [
    "# df_strelka.sort_values('log10_sum')\n",
    "# outliers here:\n",
    "# two hyper mutated cases:\n",
    "# HTMCP-03-06-02026 \t6854 \t1245363 \t1252217 \t3.836007 \t6.095296 \t6.097680\n",
    "# HTMCP-03-06-02007 \t29850 \t2928432 \t2958282 \t4.474959 \t6.466635 \t6.471040\n",
    "# two cases with almost no mutations:\n",
    "# HTMCP-03-06-02261 \t0 \t0 \t0 \t0.000000 \t0.000000 \t0.000000\n",
    "# HTMCP-03-06-02262 \t1 \t0 \t1 \t0.301030 \t0.000000 \t0.301030"
   ]
  },
  {
   "cell_type": "code",
   "execution_count": 39,
   "metadata": {
    "collapsed": false
   },
   "outputs": [
    {
     "data": {
      "text/plain": [
       "(101, 2)"
      ]
     },
     "execution_count": 39,
     "metadata": {},
     "output_type": "execute_result"
    }
   ],
   "source": [
    "df_clinic = pd.read_excel('/projects/trans_scratch/validations/workspace/szong/Cervical/E6_E7_expression/Cervical_integration_expression_mastertable_reviewed.xls')\n",
    "df_clinic.set_index('patient', inplace=True)\n",
    "df_clinic.head(2)\n",
    "# df_raw.columns\n",
    "\n",
    "df_clinic = df_clinic[['putative_Histology', 'HIV_status']]\n",
    "df_clinic.head(2)\n",
    "\n",
    "df_clinic.shape"
   ]
  },
  {
   "cell_type": "code",
   "execution_count": null,
   "metadata": {
    "collapsed": true
   },
   "outputs": [],
   "source": []
  },
  {
   "cell_type": "code",
   "execution_count": 40,
   "metadata": {
    "collapsed": true
   },
   "outputs": [],
   "source": [
    "df_jnt = df_strelka.join(df_clinic, how='outer')\n",
    "\n",
    "df_jnt.fillna(0, inplace=True);"
   ]
  },
  {
   "cell_type": "code",
   "execution_count": 41,
   "metadata": {
    "collapsed": false,
    "scrolled": true
   },
   "outputs": [
    {
     "data": {
      "text/plain": [
       "Positive    51\n",
       "Negative    50\n",
       "Name: HIV_status, dtype: int64"
      ]
     },
     "execution_count": 41,
     "metadata": {},
     "output_type": "execute_result"
    }
   ],
   "source": [
    "df_jnt['HIV_status'].value_counts()"
   ]
  },
  {
   "cell_type": "code",
   "execution_count": 42,
   "metadata": {
    "collapsed": false
   },
   "outputs": [
    {
     "data": {
      "text/plain": [
       "Squamous    79\n",
       "Adeno       22\n",
       "Name: putative_Histology, dtype: int64"
      ]
     },
     "execution_count": 42,
     "metadata": {},
     "output_type": "execute_result"
    }
   ],
   "source": [
    "df_jnt['putative_Histology'].value_counts()"
   ]
  },
  {
   "cell_type": "code",
   "execution_count": 43,
   "metadata": {
    "collapsed": false
   },
   "outputs": [
    {
     "data": {
      "text/plain": [
       "<matplotlib.axes._subplots.AxesSubplot at 0x7f31f21d6750>"
      ]
     },
     "execution_count": 43,
     "metadata": {},
     "output_type": "execute_result"
    },
    {
     "data": {
      "image/png": "[encoded data removed]",
      "text/plain": [
       "<matplotlib.figure.Figure at 0x7f31ee91f5d0>"
      ]
     },
     "metadata": {},
     "output_type": "display_data"
    }
   ],
   "source": [
    "colors = ['red' if i==\"Positive\" else 'blue' for i in df_jnt['HIV_status']]\n",
    "df_jnt.plot('log10_snv', 'log10_indel', kind='scatter', c=colors)"
   ]
  },
  {
   "cell_type": "code",
   "execution_count": 44,
   "metadata": {
    "collapsed": false
   },
   "outputs": [
    {
     "data": {
      "text/html": [
       "<div>\n",
       "<table border=\"1\" class=\"dataframe\">\n",
       "  <thead>\n",
       "    <tr style=\"text-align: right;\">\n",
       "      <th></th>\n",
       "      <th>indel</th>\n",
       "      <th>snv</th>\n",
       "      <th>sum</th>\n",
       "      <th>log10_indel</th>\n",
       "      <th>log10_snv</th>\n",
       "      <th>log10_sum</th>\n",
       "    </tr>\n",
       "  </thead>\n",
       "  <tbody>\n",
       "    <tr>\n",
       "      <th>count</th>\n",
       "      <td>101.000000</td>\n",
       "      <td>1.010000e+02</td>\n",
       "      <td>1.010000e+02</td>\n",
       "      <td>101.000000</td>\n",
       "      <td>101.000000</td>\n",
       "      <td>101.000000</td>\n",
       "    </tr>\n",
       "    <tr>\n",
       "      <th>mean</th>\n",
       "      <td>1381.851485</td>\n",
       "      <td>6.240694e+04</td>\n",
       "      <td>6.378879e+04</td>\n",
       "      <td>2.732287</td>\n",
       "      <td>4.214563</td>\n",
       "      <td>4.266354</td>\n",
       "    </tr>\n",
       "    <tr>\n",
       "      <th>std</th>\n",
       "      <td>4195.281488</td>\n",
       "      <td>3.136570e+05</td>\n",
       "      <td>3.165105e+05</td>\n",
       "      <td>0.444424</td>\n",
       "      <td>0.490769</td>\n",
       "      <td>0.418854</td>\n",
       "    </tr>\n",
       "    <tr>\n",
       "      <th>min</th>\n",
       "      <td>31.000000</td>\n",
       "      <td>2.050000e+02</td>\n",
       "      <td>3.033000e+03</td>\n",
       "      <td>1.505150</td>\n",
       "      <td>2.313867</td>\n",
       "      <td>3.482016</td>\n",
       "    </tr>\n",
       "    <tr>\n",
       "      <th>25%</th>\n",
       "      <td>350.000000</td>\n",
       "      <td>9.532000e+03</td>\n",
       "      <td>1.036900e+04</td>\n",
       "      <td>2.545307</td>\n",
       "      <td>3.979230</td>\n",
       "      <td>4.015779</td>\n",
       "    </tr>\n",
       "    <tr>\n",
       "      <th>50%</th>\n",
       "      <td>514.000000</td>\n",
       "      <td>1.619100e+04</td>\n",
       "      <td>1.685700e+04</td>\n",
       "      <td>2.711807</td>\n",
       "      <td>4.209300</td>\n",
       "      <td>4.226806</td>\n",
       "    </tr>\n",
       "    <tr>\n",
       "      <th>75%</th>\n",
       "      <td>720.000000</td>\n",
       "      <td>2.228100e+04</td>\n",
       "      <td>2.331500e+04</td>\n",
       "      <td>2.857935</td>\n",
       "      <td>4.347954</td>\n",
       "      <td>4.367654</td>\n",
       "    </tr>\n",
       "    <tr>\n",
       "      <th>max</th>\n",
       "      <td>29850.000000</td>\n",
       "      <td>2.928432e+06</td>\n",
       "      <td>2.958282e+06</td>\n",
       "      <td>4.474959</td>\n",
       "      <td>6.466635</td>\n",
       "      <td>6.471040</td>\n",
       "    </tr>\n",
       "  </tbody>\n",
       "</table>\n",
       "</div>"
      ],
      "text/plain": [
       "              indel           snv           sum  log10_indel   log10_snv  \\\n",
       "count    101.000000  1.010000e+02  1.010000e+02   101.000000  101.000000   \n",
       "mean    1381.851485  6.240694e+04  6.378879e+04     2.732287    4.214563   \n",
       "std     4195.281488  3.136570e+05  3.165105e+05     0.444424    0.490769   \n",
       "min       31.000000  2.050000e+02  3.033000e+03     1.505150    2.313867   \n",
       "25%      350.000000  9.532000e+03  1.036900e+04     2.545307    3.979230   \n",
       "50%      514.000000  1.619100e+04  1.685700e+04     2.711807    4.209300   \n",
       "75%      720.000000  2.228100e+04  2.331500e+04     2.857935    4.347954   \n",
       "max    29850.000000  2.928432e+06  2.958282e+06     4.474959    6.466635   \n",
       "\n",
       "        log10_sum  \n",
       "count  101.000000  \n",
       "mean     4.266354  \n",
       "std      0.418854  \n",
       "min      3.482016  \n",
       "25%      4.015779  \n",
       "50%      4.226806  \n",
       "75%      4.367654  \n",
       "max      6.471040  "
      ]
     },
     "execution_count": 44,
     "metadata": {},
     "output_type": "execute_result"
    }
   ],
   "source": [
    "df_jnt.sort_values('sum').describe()"
   ]
  },
  {
   "cell_type": "code",
   "execution_count": 45,
   "metadata": {
    "collapsed": false
   },
   "outputs": [],
   "source": [
    "# drop outliers to see if this results in better box plot and /or mann whiteney u test results (nonparametric test, should not matter)\n",
    "# result still significant p=0.030, intead of p= 0.007\n",
    "# df_jnt.drop(['HTMCP-03-06-02026', 'HTMCP-03-06-02007', 'HTMCP-03-06-02261', 'HTMCP-03-06-02262'], inplace=True)"
   ]
  },
  {
   "cell_type": "code",
   "execution_count": 46,
   "metadata": {
    "collapsed": true
   },
   "outputs": [],
   "source": [
    "df_jnt.to_csv('/projects/trans_scratch/validations/workspace/szong/Cervical/variant_bwamem/101_patients/mutation_load.txt', sep='\\t')"
   ]
  },
  {
   "cell_type": "code",
   "execution_count": 47,
   "metadata": {
    "collapsed": false
   },
   "outputs": [
    {
     "name": "stdout",
     "output_type": "stream",
     "text": [
      "Positive\n",
      "Negative\n",
      "Mann Whitney U test on log10_sum comparing HIV_status\n"
     ]
    },
    {
     "data": {
      "text/plain": [
       "MannwhitneyuResult(statistic=975.0, pvalue=0.020960141815779376)"
      ]
     },
     "execution_count": 47,
     "metadata": {},
     "output_type": "execute_result"
    },
    {
     "data": {
      "text/plain": [
       "<matplotlib.figure.Figure at 0x7f31ee3c3b50>"
      ]
     },
     "metadata": {},
     "output_type": "display_data"
    },
    {
     "data": {
      "image/png": "[encoded data removed]",
      "text/plain": [
       "<matplotlib.figure.Figure at 0x7f31ee8cb1d0>"
      ]
     },
     "metadata": {},
     "output_type": "display_data"
    }
   ],
   "source": [
    "fig = plt.figure()\n",
    "group_col = 'HIV_status'\n",
    "value_col = 'log10_sum'\n",
    "ax = df_jnt.boxplot(column=value_col, by=group_col, showfliers=False, widths=(0.6,0.6), figsize=(5,5))\n",
    "plt.title('') # this removes the column as subtitle of the plot\n",
    "fig = ax.get_figure()\n",
    "# fig.suptitle('')\n",
    "\n",
    "np.random.seed(0)\n",
    "# overlay actuall data points\n",
    "categories = df_jnt[group_col].unique().tolist()\n",
    "for category in categories:\n",
    "    y = df_jnt[value_col][df_jnt[group_col]==category]\n",
    "#     i = categories.index(category) + 1\n",
    "    print category\n",
    "    if category == 'Positive':\n",
    "#     if category == 'Adeno':\n",
    "        i = 2\n",
    "    elif category == 'Negative':\n",
    "#     elif category == 'Squamous':\n",
    "        i = 1\n",
    "    # add jitter and specify maker facecolor and edgecolor\n",
    "    x = np.random.normal(i, 0.1, size=len(y))\n",
    "    plt.plot(x, y, 'o', markerfacecolor='white',markeredgecolor='black', markersize=7, alpha=0.8)\n",
    "\n",
    "# ax.set_ylim(0,0.1)\n",
    "ax.set_axis_bgcolor('whitesmoke') #specify plot backgroup color\n",
    "ax.tick_params(axis='x', labelsize=14) #specify x tick label size\n",
    "ax.set_ylim(3.0,5.5)\n",
    "plt.xlabel(\"HIV status\", fontsize=14) \n",
    "plt.ylabel('log10_mutations', fontsize=14)\n",
    "plt.suptitle('  ', fontsize=14)  # get rid of the automatically generated title\n",
    "plt.tight_layout()\n",
    "# plt.savefig('/projects/trans_scratch/validations/workspace/szong/Cervical/variant_bwamem/101_patients/mutation_load_101_patients.png', dpi=200)\n",
    "\n",
    "# statistical test \n",
    "print('Mann Whitney U test on {0} comparing {1}'.format(value_col, group_col))\n",
    "Negative = df_jnt[df_jnt[group_col]=='Negative']\n",
    "# Negative = df_jnt[df_jnt[group_col]=='Squamous']\n",
    "Positive = df_jnt[df_jnt[group_col]=='Positive']\n",
    "# Positive = df_jnt[df_jnt[group_col]=='Adeno']\n",
    "# tie corrected Mann Whitney U test,\n",
    "ss.mannwhitneyu(Negative[value_col], Positive[value_col], use_continuity=True, alternative=None)"
   ]
  },
  {
   "cell_type": "code",
   "execution_count": null,
   "metadata": {
    "collapsed": true
   },
   "outputs": [],
   "source": [
    "# Nonparametric statistics refer to a statistical method wherein the data is not required to fit a normal distribution.\n",
    "# Nonparametric statistics uses data that is often ordinal, meaning it does not rely on numbers, \n",
    "# but rather a ranking or order of sorts."
   ]
  },
  {
   "cell_type": "code",
   "execution_count": 17,
   "metadata": {
    "collapsed": false,
    "scrolled": true
   },
   "outputs": [
    {
     "data": {
      "text/plain": [
       "indel            417.000000\n",
       "snv            12278.000000\n",
       "sum            15856.000000\n",
       "log10_indel        2.621176\n",
       "log10_snv          4.089163\n",
       "log10_sum          4.200221\n",
       "dtype: float64"
      ]
     },
     "execution_count": 17,
     "metadata": {},
     "output_type": "execute_result"
    }
   ],
   "source": [
    "Positive.median()"
   ]
  },
  {
   "cell_type": "code",
   "execution_count": 18,
   "metadata": {
    "collapsed": false
   },
   "outputs": [
    {
     "data": {
      "text/plain": [
       "indel            573.000000\n",
       "snv            17554.500000\n",
       "sum            18158.500000\n",
       "log10_indel        2.758621\n",
       "log10_snv          4.244014\n",
       "log10_sum          4.259051\n",
       "dtype: float64"
      ]
     },
     "execution_count": 18,
     "metadata": {},
     "output_type": "execute_result"
    }
   ],
   "source": [
    "Negative.median()"
   ]
  },
  {
   "cell_type": "code",
   "execution_count": null,
   "metadata": {
    "collapsed": true
   },
   "outputs": [],
   "source": [
    "# This shows that number of indel/snvs/sum are not normally distributed. so a nonparametric statitiscal analysis is appropriate"
   ]
  },
  {
   "cell_type": "code",
   "execution_count": 45,
   "metadata": {
    "collapsed": false
   },
   "outputs": [
    {
     "data": {
      "text/plain": [
       "array([[<matplotlib.axes._subplots.AxesSubplot object at 0x7f160deed750>,\n",
       "        <matplotlib.axes._subplots.AxesSubplot object at 0x7f160dcbc710>],\n",
       "       [<matplotlib.axes._subplots.AxesSubplot object at 0x7f160dc3b690>,\n",
       "        <matplotlib.axes._subplots.AxesSubplot object at 0x7f160dc1ed90>],\n",
       "       [<matplotlib.axes._subplots.AxesSubplot object at 0x7f160db9fd10>,\n",
       "        <matplotlib.axes._subplots.AxesSubplot object at 0x7f160db07b10>]], dtype=object)"
      ]
     },
     "execution_count": 45,
     "metadata": {},
     "output_type": "execute_result"
    },
    {
     "data": {
      "image/png": "[encoded data removed]",
      "text/plain": [
       "<matplotlib.figure.Figure at 0x7f160dff3950>"
      ]
     },
     "metadata": {},
     "output_type": "display_data"
    }
   ],
   "source": [
    "Positive.hist()"
   ]
  },
  {
   "cell_type": "code",
   "execution_count": 44,
   "metadata": {
    "collapsed": false
   },
   "outputs": [
    {
     "data": {
      "text/plain": [
       "array([[<matplotlib.axes._subplots.AxesSubplot object at 0x7f160f1694d0>,\n",
       "        <matplotlib.axes._subplots.AxesSubplot object at 0x7f160e2325d0>],\n",
       "       [<matplotlib.axes._subplots.AxesSubplot object at 0x7f160e1e3310>,\n",
       "        <matplotlib.axes._subplots.AxesSubplot object at 0x7f160e0e2510>],\n",
       "       [<matplotlib.axes._subplots.AxesSubplot object at 0x7f160e0647d0>,\n",
       "        <matplotlib.axes._subplots.AxesSubplot object at 0x7f160e044d90>]], dtype=object)"
      ]
     },
     "execution_count": 44,
     "metadata": {},
     "output_type": "execute_result"
    },
    {
     "data": {
      "image/png": "[encoded data removed]",
      "text/plain": [
       "<matplotlib.figure.Figure at 0x7f160e310150>"
      ]
     },
     "metadata": {},
     "output_type": "display_data"
    }
   ],
   "source": [
    "Negative.hist()"
   ]
  },
  {
   "cell_type": "code",
   "execution_count": null,
   "metadata": {
    "collapsed": true
   },
   "outputs": [],
   "source": []
  },
  {
   "cell_type": "code",
   "execution_count": 78,
   "metadata": {
    "collapsed": false
   },
   "outputs": [
    {
     "data": {
      "text/html": [
       "<div>\n",
       "<table border=\"1\" class=\"dataframe\">\n",
       "  <thead>\n",
       "    <tr style=\"text-align: right;\">\n",
       "      <th></th>\n",
       "      <th>gene</th>\n",
       "      <th>num_patients_gene_level</th>\n",
       "      <th>num_SNVs_gene_level</th>\n",
       "      <th>chromosome</th>\n",
       "      <th>position</th>\n",
       "      <th>ref_base</th>\n",
       "      <th>alt_base</th>\n",
       "      <th>num_patients_SNV_level</th>\n",
       "      <th>patient_ID</th>\n",
       "      <th>snp_ID</th>\n",
       "      <th>...</th>\n",
       "      <th>t_RNA_RefC</th>\n",
       "      <th>t_RNA_AltC</th>\n",
       "      <th>t_RNA_AF</th>\n",
       "      <th>adj_t_RNA_cov_valid_bases</th>\n",
       "      <th>RNA_tc</th>\n",
       "      <th>adj_t_Quality_filter</th>\n",
       "      <th>snv_key</th>\n",
       "      <th>filtered_num_patients_gene_level</th>\n",
       "      <th>filtered_num_SNVs_gene_level</th>\n",
       "      <th>filtered_num_patients_SNV_level</th>\n",
       "    </tr>\n",
       "  </thead>\n",
       "  <tbody>\n",
       "    <tr>\n",
       "      <th>0</th>\n",
       "      <td>TACR1</td>\n",
       "      <td>3</td>\n",
       "      <td>4</td>\n",
       "      <td>2</td>\n",
       "      <td>75425843</td>\n",
       "      <td>T</td>\n",
       "      <td>C</td>\n",
       "      <td>1</td>\n",
       "      <td>HTMCP-03-06-02026_Malignant</td>\n",
       "      <td>novel_snp</td>\n",
       "      <td>...</td>\n",
       "      <td>0</td>\n",
       "      <td>0</td>\n",
       "      <td>0.0</td>\n",
       "      <td>na</td>\n",
       "      <td>65</td>\n",
       "      <td>1.0</td>\n",
       "      <td>2:75425843:T:C</td>\n",
       "      <td>2</td>\n",
       "      <td>3</td>\n",
       "      <td>1</td>\n",
       "    </tr>\n",
       "    <tr>\n",
       "      <th>1</th>\n",
       "      <td>TACR1</td>\n",
       "      <td>3</td>\n",
       "      <td>4</td>\n",
       "      <td>2</td>\n",
       "      <td>75425876</td>\n",
       "      <td>C</td>\n",
       "      <td>A</td>\n",
       "      <td>1</td>\n",
       "      <td>HTMCP-03-06-02026_Malignant</td>\n",
       "      <td>novel_snp</td>\n",
       "      <td>...</td>\n",
       "      <td>0</td>\n",
       "      <td>0</td>\n",
       "      <td>0.0</td>\n",
       "      <td>na</td>\n",
       "      <td>65</td>\n",
       "      <td>1.0</td>\n",
       "      <td>2:75425876:C:A</td>\n",
       "      <td>2</td>\n",
       "      <td>3</td>\n",
       "      <td>1</td>\n",
       "    </tr>\n",
       "  </tbody>\n",
       "</table>\n",
       "<p>2 rows × 49 columns</p>\n",
       "</div>"
      ],
      "text/plain": [
       "    gene  num_patients_gene_level  num_SNVs_gene_level chromosome  position  \\\n",
       "0  TACR1                        3                    4          2  75425843   \n",
       "1  TACR1                        3                    4          2  75425876   \n",
       "\n",
       "  ref_base alt_base  num_patients_SNV_level                   patient_ID  \\\n",
       "0        T        C                       1  HTMCP-03-06-02026_Malignant   \n",
       "1        C        A                       1  HTMCP-03-06-02026_Malignant   \n",
       "\n",
       "      snp_ID               ...               t_RNA_RefC t_RNA_AltC t_RNA_AF  \\\n",
       "0  novel_snp               ...                        0          0      0.0   \n",
       "1  novel_snp               ...                        0          0      0.0   \n",
       "\n",
       "  adj_t_RNA_cov_valid_bases RNA_tc adj_t_Quality_filter         snv_key  \\\n",
       "0                        na     65                  1.0  2:75425843:T:C   \n",
       "1                        na     65                  1.0  2:75425876:C:A   \n",
       "\n",
       "  filtered_num_patients_gene_level filtered_num_SNVs_gene_level  \\\n",
       "0                                2                            3   \n",
       "1                                2                            3   \n",
       "\n",
       "  filtered_num_patients_SNV_level  \n",
       "0                               1  \n",
       "1                               1  \n",
       "\n",
       "[2 rows x 49 columns]"
      ]
     },
     "execution_count": 78,
     "metadata": {},
     "output_type": "execute_result"
    }
   ],
   "source": [
    "df_snvs.head(2)"
   ]
  },
  {
   "cell_type": "code",
   "execution_count": null,
   "metadata": {
    "collapsed": true
   },
   "outputs": [],
   "source": [
    "\n",
    "\n",
    "\n"
   ]
  },
  {
   "cell_type": "code",
   "execution_count": null,
   "metadata": {
    "collapsed": true
   },
   "outputs": [],
   "source": []
  },
  {
   "cell_type": "code",
   "execution_count": null,
   "metadata": {
    "collapsed": true
   },
   "outputs": [],
   "source": []
  },
  {
   "cell_type": "code",
   "execution_count": null,
   "metadata": {
    "collapsed": true
   },
   "outputs": [],
   "source": []
  },
  {
   "cell_type": "code",
   "execution_count": null,
   "metadata": {
    "collapsed": true
   },
   "outputs": [],
   "source": []
  },
  {
   "cell_type": "code",
   "execution_count": null,
   "metadata": {
    "collapsed": true
   },
   "outputs": [],
   "source": []
  },
  {
   "cell_type": "markdown",
   "metadata": {
    "collapsed": true
   },
   "source": [
    "# analyze splicesome mutations"
   ]
  },
  {
   "cell_type": "code",
   "execution_count": 112,
   "metadata": {
    "collapsed": false
   },
   "outputs": [
    {
     "data": {
      "text/html": [
       "<div>\n",
       "<table border=\"1\" class=\"dataframe\">\n",
       "  <thead>\n",
       "    <tr style=\"text-align: right;\">\n",
       "      <th></th>\n",
       "      <th>splicing_file</th>\n",
       "    </tr>\n",
       "    <tr>\n",
       "      <th>lib</th>\n",
       "      <th></th>\n",
       "    </tr>\n",
       "  </thead>\n",
       "  <tbody>\n",
       "    <tr>\n",
       "      <th>A37700</th>\n",
       "      <td>/projects/NCI_validation2_assembly/NCI_SAIC_HI...</td>\n",
       "    </tr>\n",
       "    <tr>\n",
       "      <th>A37701</th>\n",
       "      <td>/projects/NCI_validation2_assembly/NCI_SAIC_HI...</td>\n",
       "    </tr>\n",
       "    <tr>\n",
       "      <th>A37702</th>\n",
       "      <td>/projects/NCI_validation2_assembly/NCI_SAIC_HI...</td>\n",
       "    </tr>\n",
       "    <tr>\n",
       "      <th>A37704</th>\n",
       "      <td>/projects/NCI_validation2_assembly/NCI_SAIC_HI...</td>\n",
       "    </tr>\n",
       "    <tr>\n",
       "      <th>A37705</th>\n",
       "      <td>/projects/NCI_validation2_assembly/NCI_SAIC_HI...</td>\n",
       "    </tr>\n",
       "  </tbody>\n",
       "</table>\n",
       "</div>"
      ],
      "text/plain": [
       "                                            splicing_file\n",
       "lib                                                      \n",
       "A37700  /projects/NCI_validation2_assembly/NCI_SAIC_HI...\n",
       "A37701  /projects/NCI_validation2_assembly/NCI_SAIC_HI...\n",
       "A37702  /projects/NCI_validation2_assembly/NCI_SAIC_HI...\n",
       "A37704  /projects/NCI_validation2_assembly/NCI_SAIC_HI...\n",
       "A37705  /projects/NCI_validation2_assembly/NCI_SAIC_HI..."
      ]
     },
     "execution_count": 112,
     "metadata": {},
     "output_type": "execute_result"
    }
   ],
   "source": [
    "df_splic = pd.read_csv('/projects/trans_scratch/validations/workspace/szong/Cervical/variant_bwamem/101_patients/spliceosome/82_splicing_files.txt', index_col=0, names=(['lib', 'splicing_file']), header=None)\n",
    "df_splic.head()"
   ]
  },
  {
   "cell_type": "code",
   "execution_count": 113,
   "metadata": {
    "collapsed": false
   },
   "outputs": [
    {
     "data": {
      "text/plain": [
       "(82, 1)"
      ]
     },
     "execution_count": 113,
     "metadata": {},
     "output_type": "execute_result"
    }
   ],
   "source": [
    "df_splic.shape"
   ]
  },
  {
   "cell_type": "code",
   "execution_count": 114,
   "metadata": {
    "collapsed": false
   },
   "outputs": [
    {
     "data": {
      "text/html": [
       "<div>\n",
       "<table border=\"1\" class=\"dataframe\">\n",
       "  <thead>\n",
       "    <tr style=\"text-align: right;\">\n",
       "      <th></th>\n",
       "      <th>A37700</th>\n",
       "      <th>A37701</th>\n",
       "      <th>A37702</th>\n",
       "      <th>A37704</th>\n",
       "      <th>A37705</th>\n",
       "      <th>A37706</th>\n",
       "      <th>A37707</th>\n",
       "      <th>A37708</th>\n",
       "      <th>A37710</th>\n",
       "      <th>A37711</th>\n",
       "      <th>...</th>\n",
       "      <th>A57113</th>\n",
       "      <th>A57115</th>\n",
       "      <th>A57116</th>\n",
       "      <th>A57118</th>\n",
       "      <th>A57119</th>\n",
       "      <th>A57120</th>\n",
       "      <th>A57121</th>\n",
       "      <th>A57122</th>\n",
       "      <th>A57123</th>\n",
       "      <th>A57124</th>\n",
       "    </tr>\n",
       "    <tr>\n",
       "      <th>0</th>\n",
       "      <th></th>\n",
       "      <th></th>\n",
       "      <th></th>\n",
       "      <th></th>\n",
       "      <th></th>\n",
       "      <th></th>\n",
       "      <th></th>\n",
       "      <th></th>\n",
       "      <th></th>\n",
       "      <th></th>\n",
       "      <th></th>\n",
       "      <th></th>\n",
       "      <th></th>\n",
       "      <th></th>\n",
       "      <th></th>\n",
       "      <th></th>\n",
       "      <th></th>\n",
       "      <th></th>\n",
       "      <th></th>\n",
       "      <th></th>\n",
       "      <th></th>\n",
       "    </tr>\n",
       "  </thead>\n",
       "  <tbody>\n",
       "    <tr>\n",
       "      <th>AS3</th>\n",
       "      <td>1321</td>\n",
       "      <td>1106</td>\n",
       "      <td>1098</td>\n",
       "      <td>903</td>\n",
       "      <td>1278</td>\n",
       "      <td>945</td>\n",
       "      <td>1112</td>\n",
       "      <td>1055</td>\n",
       "      <td>1218</td>\n",
       "      <td>1034</td>\n",
       "      <td>...</td>\n",
       "      <td>511</td>\n",
       "      <td>561</td>\n",
       "      <td>320</td>\n",
       "      <td>403</td>\n",
       "      <td>553</td>\n",
       "      <td>449</td>\n",
       "      <td>392</td>\n",
       "      <td>443</td>\n",
       "      <td>387</td>\n",
       "      <td>375</td>\n",
       "    </tr>\n",
       "    <tr>\n",
       "      <th>AS5</th>\n",
       "      <td>2131</td>\n",
       "      <td>1623</td>\n",
       "      <td>1741</td>\n",
       "      <td>1683</td>\n",
       "      <td>2590</td>\n",
       "      <td>1652</td>\n",
       "      <td>1728</td>\n",
       "      <td>1624</td>\n",
       "      <td>1933</td>\n",
       "      <td>1798</td>\n",
       "      <td>...</td>\n",
       "      <td>795</td>\n",
       "      <td>1088</td>\n",
       "      <td>611</td>\n",
       "      <td>752</td>\n",
       "      <td>982</td>\n",
       "      <td>700</td>\n",
       "      <td>744</td>\n",
       "      <td>807</td>\n",
       "      <td>726</td>\n",
       "      <td>721</td>\n",
       "    </tr>\n",
       "    <tr>\n",
       "      <th>AS53</th>\n",
       "      <td>14</td>\n",
       "      <td>6</td>\n",
       "      <td>12</td>\n",
       "      <td>10</td>\n",
       "      <td>15</td>\n",
       "      <td>10</td>\n",
       "      <td>11</td>\n",
       "      <td>9</td>\n",
       "      <td>12</td>\n",
       "      <td>10</td>\n",
       "      <td>...</td>\n",
       "      <td>5</td>\n",
       "      <td>3</td>\n",
       "      <td>6</td>\n",
       "      <td>4</td>\n",
       "      <td>7</td>\n",
       "      <td>8</td>\n",
       "      <td>4</td>\n",
       "      <td>3</td>\n",
       "      <td>6</td>\n",
       "      <td>4</td>\n",
       "    </tr>\n",
       "    <tr>\n",
       "      <th>novel_exon</th>\n",
       "      <td>1157</td>\n",
       "      <td>772</td>\n",
       "      <td>1103</td>\n",
       "      <td>951</td>\n",
       "      <td>2025</td>\n",
       "      <td>884</td>\n",
       "      <td>1013</td>\n",
       "      <td>1087</td>\n",
       "      <td>1124</td>\n",
       "      <td>857</td>\n",
       "      <td>...</td>\n",
       "      <td>451</td>\n",
       "      <td>741</td>\n",
       "      <td>267</td>\n",
       "      <td>455</td>\n",
       "      <td>505</td>\n",
       "      <td>436</td>\n",
       "      <td>399</td>\n",
       "      <td>477</td>\n",
       "      <td>366</td>\n",
       "      <td>461</td>\n",
       "    </tr>\n",
       "    <tr>\n",
       "      <th>novel_intron</th>\n",
       "      <td>223</td>\n",
       "      <td>163</td>\n",
       "      <td>198</td>\n",
       "      <td>177</td>\n",
       "      <td>274</td>\n",
       "      <td>171</td>\n",
       "      <td>176</td>\n",
       "      <td>188</td>\n",
       "      <td>206</td>\n",
       "      <td>179</td>\n",
       "      <td>...</td>\n",
       "      <td>109</td>\n",
       "      <td>134</td>\n",
       "      <td>64</td>\n",
       "      <td>70</td>\n",
       "      <td>93</td>\n",
       "      <td>72</td>\n",
       "      <td>73</td>\n",
       "      <td>78</td>\n",
       "      <td>85</td>\n",
       "      <td>67</td>\n",
       "    </tr>\n",
       "    <tr>\n",
       "      <th>novel_utr</th>\n",
       "      <td>1541</td>\n",
       "      <td>1226</td>\n",
       "      <td>1412</td>\n",
       "      <td>1285</td>\n",
       "      <td>2299</td>\n",
       "      <td>1471</td>\n",
       "      <td>1557</td>\n",
       "      <td>1485</td>\n",
       "      <td>1490</td>\n",
       "      <td>1309</td>\n",
       "      <td>...</td>\n",
       "      <td>775</td>\n",
       "      <td>1150</td>\n",
       "      <td>500</td>\n",
       "      <td>597</td>\n",
       "      <td>854</td>\n",
       "      <td>700</td>\n",
       "      <td>601</td>\n",
       "      <td>547</td>\n",
       "      <td>749</td>\n",
       "      <td>520</td>\n",
       "    </tr>\n",
       "    <tr>\n",
       "      <th>read-through</th>\n",
       "      <td>91</td>\n",
       "      <td>40</td>\n",
       "      <td>63</td>\n",
       "      <td>73</td>\n",
       "      <td>129</td>\n",
       "      <td>97</td>\n",
       "      <td>169</td>\n",
       "      <td>28</td>\n",
       "      <td>74</td>\n",
       "      <td>87</td>\n",
       "      <td>...</td>\n",
       "      <td>65</td>\n",
       "      <td>74</td>\n",
       "      <td>54</td>\n",
       "      <td>24</td>\n",
       "      <td>41</td>\n",
       "      <td>66</td>\n",
       "      <td>51</td>\n",
       "      <td>28</td>\n",
       "      <td>56</td>\n",
       "      <td>13</td>\n",
       "    </tr>\n",
       "    <tr>\n",
       "      <th>retained_intron</th>\n",
       "      <td>216</td>\n",
       "      <td>138</td>\n",
       "      <td>215</td>\n",
       "      <td>233</td>\n",
       "      <td>463</td>\n",
       "      <td>311</td>\n",
       "      <td>194</td>\n",
       "      <td>239</td>\n",
       "      <td>220</td>\n",
       "      <td>375</td>\n",
       "      <td>...</td>\n",
       "      <td>274</td>\n",
       "      <td>240</td>\n",
       "      <td>203</td>\n",
       "      <td>133</td>\n",
       "      <td>354</td>\n",
       "      <td>329</td>\n",
       "      <td>221</td>\n",
       "      <td>323</td>\n",
       "      <td>315</td>\n",
       "      <td>190</td>\n",
       "    </tr>\n",
       "    <tr>\n",
       "      <th>skipped_exon</th>\n",
       "      <td>3983</td>\n",
       "      <td>2268</td>\n",
       "      <td>2204</td>\n",
       "      <td>2189</td>\n",
       "      <td>4093</td>\n",
       "      <td>2292</td>\n",
       "      <td>2755</td>\n",
       "      <td>1854</td>\n",
       "      <td>3237</td>\n",
       "      <td>2536</td>\n",
       "      <td>...</td>\n",
       "      <td>889</td>\n",
       "      <td>871</td>\n",
       "      <td>515</td>\n",
       "      <td>710</td>\n",
       "      <td>1164</td>\n",
       "      <td>823</td>\n",
       "      <td>606</td>\n",
       "      <td>1274</td>\n",
       "      <td>706</td>\n",
       "      <td>683</td>\n",
       "    </tr>\n",
       "  </tbody>\n",
       "</table>\n",
       "<p>9 rows × 82 columns</p>\n",
       "</div>"
      ],
      "text/plain": [
       "                 A37700  A37701  A37702  A37704  A37705  A37706  A37707  \\\n",
       "0                                                                         \n",
       "AS3                1321    1106    1098     903    1278     945    1112   \n",
       "AS5                2131    1623    1741    1683    2590    1652    1728   \n",
       "AS53                 14       6      12      10      15      10      11   \n",
       "novel_exon         1157     772    1103     951    2025     884    1013   \n",
       "novel_intron        223     163     198     177     274     171     176   \n",
       "novel_utr          1541    1226    1412    1285    2299    1471    1557   \n",
       "read-through         91      40      63      73     129      97     169   \n",
       "retained_intron     216     138     215     233     463     311     194   \n",
       "skipped_exon       3983    2268    2204    2189    4093    2292    2755   \n",
       "\n",
       "                 A37708  A37710  A37711   ...    A57113  A57115  A57116  \\\n",
       "0                                         ...                             \n",
       "AS3                1055    1218    1034   ...       511     561     320   \n",
       "AS5                1624    1933    1798   ...       795    1088     611   \n",
       "AS53                  9      12      10   ...         5       3       6   \n",
       "novel_exon         1087    1124     857   ...       451     741     267   \n",
       "novel_intron        188     206     179   ...       109     134      64   \n",
       "novel_utr          1485    1490    1309   ...       775    1150     500   \n",
       "read-through         28      74      87   ...        65      74      54   \n",
       "retained_intron     239     220     375   ...       274     240     203   \n",
       "skipped_exon       1854    3237    2536   ...       889     871     515   \n",
       "\n",
       "                 A57118  A57119  A57120  A57121  A57122  A57123  A57124  \n",
       "0                                                                        \n",
       "AS3                 403     553     449     392     443     387     375  \n",
       "AS5                 752     982     700     744     807     726     721  \n",
       "AS53                  4       7       8       4       3       6       4  \n",
       "novel_exon          455     505     436     399     477     366     461  \n",
       "novel_intron         70      93      72      73      78      85      67  \n",
       "novel_utr           597     854     700     601     547     749     520  \n",
       "read-through         24      41      66      51      28      56      13  \n",
       "retained_intron     133     354     329     221     323     315     190  \n",
       "skipped_exon        710    1164     823     606    1274     706     683  \n",
       "\n",
       "[9 rows x 82 columns]"
      ]
     },
     "execution_count": 114,
     "metadata": {},
     "output_type": "execute_result"
    }
   ],
   "source": [
    "df_joined = pd.DataFrame()\n",
    "for index, row in df_splic.iterrows():\n",
    "    f = row.splicing_file\n",
    "#     print index, f \n",
    "    df_tmp = pd.read_csv(f, sep='\\t', header=None)\n",
    "    df_tmp.set_index(0, inplace=True)\n",
    "#     col15=rpkm, col16=gene\n",
    "    df_tmp.rename(columns={1:index}, inplace=True)\n",
    "#     df_tmp\n",
    "#     df_e.head(3)\n",
    "\n",
    "    if df_joined.empty:\n",
    "         df_joined = df_tmp\n",
    "    else:\n",
    "        df_joined = df_joined.join(df_tmp, how='outer')\n",
    "        \n",
    "df_joined"
   ]
  },
  {
   "cell_type": "code",
   "execution_count": null,
   "metadata": {
    "collapsed": false
   },
   "outputs": [],
   "source": []
  },
  {
   "cell_type": "code",
   "execution_count": 115,
   "metadata": {
    "collapsed": false
   },
   "outputs": [],
   "source": [
    "df_joined.loc['sum'] = df_joined.sum()"
   ]
  },
  {
   "cell_type": "code",
   "execution_count": 116,
   "metadata": {
    "collapsed": true
   },
   "outputs": [],
   "source": [
    "df_joined = df_joined.T"
   ]
  },
  {
   "cell_type": "code",
   "execution_count": 117,
   "metadata": {
    "collapsed": false
   },
   "outputs": [],
   "source": [
    "df_joined = df_joined.sort_values('sum')"
   ]
  },
  {
   "cell_type": "code",
   "execution_count": 118,
   "metadata": {
    "collapsed": false
   },
   "outputs": [],
   "source": [
    "df_joined.to_csv('novel_splicing_events.txt', sep='\\t')"
   ]
  },
  {
   "cell_type": "code",
   "execution_count": 83,
   "metadata": {
    "collapsed": false,
    "scrolled": false
   },
   "outputs": [
    {
     "data": {
      "image/png": "[encoded data removed]",
      "text/plain": [
       "<matplotlib.figure.Figure at 0x7fe717059890>"
      ]
     },
     "metadata": {},
     "output_type": "display_data"
    }
   ],
   "source": [
    "fig, ax = plt.subplots()\n",
    "\n",
    "df_joined['sum'].plot();\n",
    "ax.set_xticks(np.arange(len(df_joined.index.tolist())));\n",
    "ax.set_xticklabels(df_joined.index.tolist());\n",
    "plt.xticks(rotation='vertical', fontsize=8)\n",
    "\n",
    "plt.savefig('/projects/trans_scratch/validations/workspace/szong/Cervical/variant_bwamem/101_patients/spliceosome/novel_splicing_events.png', dpi=200)"
   ]
  },
  {
   "cell_type": "code",
   "execution_count": 84,
   "metadata": {
    "collapsed": true
   },
   "outputs": [],
   "source": [
    "# lib with mutant spliceosome genes\n",
    "mut_libs =['A37705', 'A37711','A37723','A37734','A50336','A57116']"
   ]
  },
  {
   "cell_type": "code",
   "execution_count": 119,
   "metadata": {
    "collapsed": true
   },
   "outputs": [],
   "source": [
    "# ZRSR2 \n",
    "mut_libs = ['A37705', 'A37734']"
   ]
  },
  {
   "cell_type": "code",
   "execution_count": 120,
   "metadata": {
    "collapsed": true
   },
   "outputs": [],
   "source": [
    "df_joined['mut_status'] = 'no_mutation'"
   ]
  },
  {
   "cell_type": "code",
   "execution_count": 121,
   "metadata": {
    "collapsed": false
   },
   "outputs": [],
   "source": [
    "# df_joined.fillna(0, inplace=True)"
   ]
  },
  {
   "cell_type": "code",
   "execution_count": 122,
   "metadata": {
    "collapsed": false
   },
   "outputs": [],
   "source": [
    "for lib in mut_libs:\n",
    "    df_joined.set_value(lib, 'mut_status', 'mutated')\n",
    "#     print(df_joined.loc[lib, 'sum'])"
   ]
  },
  {
   "cell_type": "code",
   "execution_count": 88,
   "metadata": {
    "collapsed": false
   },
   "outputs": [],
   "source": [
    "types = df_joined.columns.tolist()\n",
    "types.remove('mut_status')"
   ]
  },
  {
   "cell_type": "code",
   "execution_count": 89,
   "metadata": {
    "collapsed": false
   },
   "outputs": [
    {
     "data": {
      "text/plain": [
       "array(['no_mutation'], dtype=object)"
      ]
     },
     "execution_count": 89,
     "metadata": {},
     "output_type": "execute_result"
    }
   ],
   "source": [
    "df_jnt.mut_status.unique()"
   ]
  },
  {
   "cell_type": "code",
   "execution_count": 125,
   "metadata": {
    "collapsed": false,
    "scrolled": true
   },
   "outputs": [
    {
     "name": "stdout",
     "output_type": "stream",
     "text": [
      "no_mutation\n",
      "mutated\n",
      "Mann Whitney U test on novel_exon comparing mut_status\n"
     ]
    },
    {
     "data": {
      "text/plain": [
       "MannwhitneyuResult(statistic=15.0, pvalue=0.026252735355013813)"
      ]
     },
     "execution_count": 125,
     "metadata": {},
     "output_type": "execute_result"
    },
    {
     "data": {
      "text/plain": [
       "<matplotlib.figure.Figure at 0x7fe717047090>"
      ]
     },
     "metadata": {},
     "output_type": "display_data"
    },
    {
     "data": {
      "image/png": "[encoded data removed]",
      "text/plain": [
       "<matplotlib.figure.Figure at 0x7fe71779a310>"
      ]
     },
     "metadata": {},
     "output_type": "display_data"
    }
   ],
   "source": [
    "df_jnt = df_joined\n",
    "fig = plt.figure()\n",
    "\n",
    "# for splicing in ['sum']:\n",
    "group_col = 'mut_status'\n",
    "value_col = 'novel_exon'\n",
    "# value_col = 'retained_intron'\n",
    "#     value_col = splicing\n",
    "ax = df_jnt.boxplot(column=value_col, by=group_col, showfliers=False, widths=(0.6,0.6), figsize=(5,5))\n",
    "plt.title('') # this removes the column as subtitle of the plot\n",
    "fig = ax.get_figure()\n",
    "# fig.suptitle('')\n",
    "\n",
    "np.random.seed(0)\n",
    "# overlay actuall data points\n",
    "categories = df_jnt[group_col].unique().tolist()\n",
    "for category in categories:\n",
    "    y = df_jnt[value_col][df_jnt[group_col]==category]\n",
    "#     i = categories.index(category) + 1\n",
    "    print category\n",
    "    if category == 'mutated':\n",
    "#     if category == 'Adeno':\n",
    "        i = 1\n",
    "    elif category == 'no_mutation':\n",
    "#     elif category == 'Squamous':\n",
    "        i = 2\n",
    "    # add jitter and specify maker facecolor and edgecolor\n",
    "    x = np.random.normal(i, 0.1, size=len(y))\n",
    "    plt.plot(x, y, 'o', markerfacecolor='white',markeredgecolor='black', markersize=7, alpha=0.8)\n",
    "\n",
    "# ax.set_ylim(0,0.1)\n",
    "ax.set_axis_bgcolor('whitesmoke') #specify plot backgroup color\n",
    "ax.tick_params(axis='x', labelsize=14) #specify x tick label size\n",
    "# ax.set_ylim(0,200000)\n",
    "plt.xlabel(\"mutation status\", fontsize=14) \n",
    "plt.ylabel('number of novel splicing events', fontsize=14)\n",
    "# plt.suptitle(splicing, fontsize=14)  # get rid of the automatically generated title\n",
    "plt.tight_layout()\n",
    "plt.savefig('/projects/trans_scratch/validations/workspace/szong/Cervical/variant_bwamem/101_patients/read_through.png', dpi=200)\n",
    "\n",
    "# statistical test \n",
    "print('Mann Whitney U test on {0} comparing {1}'.format(value_col, group_col))\n",
    "Negative = df_jnt[df_jnt[group_col]=='mutated']\n",
    "# Negative = df_jnt[df_jnt[group_col]=='Squamous']\n",
    "Positive = df_jnt[df_jnt[group_col]=='no_mutation']\n",
    "# Positive = df_jnt[df_jnt[group_col]=='Adeno']\n",
    "# tie corrected Mann Whitney U test,\n",
    "ss.mannwhitneyu(Negative[value_col], Positive[value_col], use_continuity=True, alternative=None)"
   ]
  },
  {
   "cell_type": "code",
   "execution_count": 96,
   "metadata": {
    "collapsed": false
   },
   "outputs": [
    {
     "data": {
      "text/plain": [
       "A57116     2540.0\n",
       "A50336     3407.0\n",
       "A37734     6935.0\n",
       "A37711     8185.0\n",
       "A37723     8215.0\n",
       "A37705    13166.0\n",
       "Name: sum, dtype: float64"
      ]
     },
     "execution_count": 96,
     "metadata": {},
     "output_type": "execute_result"
    }
   ],
   "source": [
    "Negative[value_col]"
   ]
  },
  {
   "cell_type": "code",
   "execution_count": 128,
   "metadata": {
    "collapsed": false
   },
   "outputs": [
    {
     "data": {
      "text/plain": [
       "0\n",
       "AS3                 320.0\n",
       "AS5                 611.0\n",
       "AS53                  6.0\n",
       "novel_exon          267.0\n",
       "novel_intron         64.0\n",
       "novel_utr           500.0\n",
       "read-through         54.0\n",
       "retained_intron     203.0\n",
       "skipped_exon        515.0\n",
       "sum                2540.0\n",
       "Name: A57116, dtype: float64"
      ]
     },
     "execution_count": 128,
     "metadata": {},
     "output_type": "execute_result"
    }
   ],
   "source": [
    "df_joined.loc['A57116']"
   ]
  }
 ],
 "metadata": {
  "kernelspec": {
   "display_name": "Python 2",
   "language": "python",
   "name": "python2"
  },
  "language_info": {
   "codemirror_mode": {
    "name": "ipython",
    "version": 2
   },
   "file_extension": ".py",
   "mimetype": "text/x-python",
   "name": "python",
   "nbconvert_exporter": "python",
   "pygments_lexer": "ipython2",
   "version": "2.7.12"
  }
 },
 "nbformat": 4,
 "nbformat_minor": 2
}
