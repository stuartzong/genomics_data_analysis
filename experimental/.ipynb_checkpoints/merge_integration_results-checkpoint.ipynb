{
 "cells": [
  {
   "cell_type": "markdown",
   "metadata": {},
   "source": [
    "This script process DNA and RNA  integration results and merge them together side by side. DNA and RNA integration results can be made by concatenating the summary files from the integration pipeline. It is written for Cervical project by Stuart zong in Feburary 2017."
   ]
  },
  {
   "cell_type": "code",
   "execution_count": 47,
   "metadata": {
    "collapsed": false
   },
   "outputs": [],
   "source": [
    "import matplotlib\n",
    "import seaborn\n",
    "import numpy as np\n",
    "import pandas as pd\n",
    "import matplotlib.pyplot as plt\n",
    "from scipy.stats import ttest_ind\n",
    "import scipy.stats as ss\n",
    "from matplotlib import style\n",
    "matplotlib.style.use('ggplot')\n",
    "%matplotlib inline\n",
    "matplotlib.rcParams['figure.figsize'] = (15, 9)"
   ]
  },
  {
   "cell_type": "markdown",
   "metadata": {},
   "source": [
    "This function process groupby object, combine all rows with the same patient/virus indexed entries into one row"
   ]
  },
  {
   "cell_type": "code",
   "execution_count": 48,
   "metadata": {
    "collapsed": false
   },
   "outputs": [],
   "source": [
    "def process_grp(grp):\n",
    "    _df_or_sr = grp.apply(lambda col: ';'.join(col.unique().tolist()))\n",
    "    _df = _df_or_sr.to_frame().T\n",
    "    assert _df.shape[0] == 1\n",
    "    return _df"
   ]
  },
  {
   "cell_type": "code",
   "execution_count": 49,
   "metadata": {
    "collapsed": false
   },
   "outputs": [
    {
     "name": "stdout",
     "output_type": "stream",
     "text": [
      "(271, 7)\n",
      "(226, 7)\n"
     ]
    }
   ],
   "source": [
    "RNA_integration = pd.read_csv('/projects/trans_scratch/validations/workspace/szong/Cervical/integration/82_patients/genome/genome_integration_summary.csv.added', sep='\\t')\n",
    "print(RNA_integration.shape)\n",
    "RNA_integration = RNA_integration[RNA_integration['virus'] != 'No-Hits']\n",
    "print(RNA_integration.shape)\n",
    "# RNA_integration\n",
    "\n",
    "RNA_GRP = RNA_integration.groupby(['patient', 'virus']).apply(process_grp).reset_index(level=2, drop=True)\n",
    "del RNA_GRP['patient']\n",
    "del RNA_GRP['virus']\n",
    "# RNA_GRP\n",
    "RNA_GRP.reset_index(inplace=True)\n",
    "# RNA_GRP"
   ]
  },
  {
   "cell_type": "code",
   "execution_count": 50,
   "metadata": {
    "collapsed": false
   },
   "outputs": [
    {
     "name": "stdout",
     "output_type": "stream",
     "text": [
      "(520, 6)\n",
      "(513, 6)\n"
     ]
    }
   ],
   "source": [
    "DNA_integration = pd.read_csv('/projects/trans_scratch/validations/workspace/szong/Cervical/integration/82_patients/transcriptome/transcriptome_integration_summary.csv.added', sep='\\t')\n",
    "print(DNA_integration.shape)\n",
    "DNA_integration = DNA_integration[DNA_integration['virus'] != 'No-Hits']\n",
    "print(DNA_integration.shape)\n",
    "\n",
    "DNA_GRP = DNA_integration.groupby(['patient', 'virus']).apply(process_grp).reset_index(level=2, drop=True)\n",
    "del DNA_GRP['patient']\n",
    "del DNA_GRP['virus']\n",
    "# DNA_GRP\n",
    "DNA_GRP.reset_index(inplace=True)"
   ]
  },
  {
   "cell_type": "markdown",
   "metadata": {},
   "source": [
    "merge DNA and RNA integration results"
   ]
  },
  {
   "cell_type": "code",
   "execution_count": 93,
   "metadata": {
    "collapsed": false,
    "scrolled": true
   },
   "outputs": [],
   "source": [
    "merged = pd.merge(DNA_GRP, RNA_GRP, on=['patient', 'virus'], how='outer', suffixes=('_RNA', '_DNA'))\n",
    "merged.fillna('na', inplace=True)\n",
    "merged.to_csv('test_final_merged.csv', sep='\\t')\n",
    "merged.head()\n",
    "\n",
    "np.size(merged.patient.unique())\n",
    "strains = merged.virus.unique()\n",
    "strains\n",
    "\n",
    "\n",
    "meta = pd.read_csv('/projects/trans_scratch/validations/workspace/szong/Cervical/variant_bwamem/82_patients/HIV_Cervical_82_pateints_vcfs_bams.csv', sep='\\t')\n",
    "all_patients = meta.patient.unique()\n",
    "np.size(all_patients)\n",
    "merged.set_index(['patient', 'virus'], inplace=True)\n",
    "\n",
    "df_patients = list(set([i[0] for i in merged.index.unique().tolist()]))"
   ]
  },
  {
   "cell_type": "markdown",
   "metadata": {},
   "source": [
    "find all genes hit by integration\n"
   ]
  },
  {
   "cell_type": "code",
   "execution_count": 53,
   "metadata": {
    "collapsed": false
   },
   "outputs": [
    {
     "name": "stdout",
     "output_type": "stream",
     "text": [
      "['FHIT', 'STK11', 'NELFE', 'THADA', 'LYRM7', 'BC066991', 'RREB1', 'DLG2', 'PKD1L1', 'MIB1', 'UPK1B', 'CDC42SE1', 'PRIM2', 'MYC', 'CDH5', 'ERBB2', 'KRT32', 'RNF103-CHMP3', 'KRT26', 'LOC440434', 'CT64', 'KCNN3', 'AK127472', 'C12orf44', 'PTPN13', 'bpl', 'ACSL5', 'DQ515899', 'DQ515898', 'RNF103', 'RNA5-8S5', 'BC042052', 'RASSF6', 'CRTC3', 'CLTA', 'GPR137B', 'FNBP1L', 'MAML3', 'PSMG4', 'SKIV2L', 'RASEF', 'CEACAM6', 'TUBD1', 'B4GALT4', 'ARID2', 'LY86-AS1', 'MLLT11', 'COL4A5', 'GUCY2GP', 'RAB40B', 'ELOVL2', 'CYP21A1P', 'KIAA1958', 'SMIM19', 'BC037497', 'CD5', 'SERHL2', 'RMND5A', 'HINT1', 'TP63', 'HV975509', 'TBC1D3', 'BEAN1', 'C4B_2', 'C2', 'PRUNE', 'SUGT1P3', 'FGF12', 'RAD51B', 'IRS4', 'intergenic', 'IRS1', 'TPTE2P5', 'VARS', 'LOC646762', 'ELF1', 'FAM83B', 'MIEN1', 'LOC727677', 'KLF12', 'LRP1B', 'SCAF11', 'CYP21A2', 'NR4A1', 'TMEM242', 'AK096219', 'SLC20A2', 'MPPED2', 'CFB', 'CLPTM1L', 'ANKFN1', 'WBP4']\n"
     ]
    }
   ],
   "source": [
    "rna_genes = merged['gene_RNA'].tolist()\n",
    "rna_genes = [i.split(';') for i in rna_genes]\n",
    "rna_genes = list(set([item for sublist in rna_genes for item in sublist]))\n",
    "rna_genes = [i.split(',') for i in rna_genes]\n",
    "# print(rna_genes)\n",
    "\n",
    "rna_genes = list(set([item for sublist in rna_genes for item in sublist]))\n",
    "# print(rna_genes)\n",
    "\n",
    "rna_genes.remove('-')\n",
    "rna_genes.remove('na')\n",
    "print(rna_genes)"
   ]
  },
  {
   "cell_type": "markdown",
   "metadata": {},
   "source": [
    "figure out which patients have no integration"
   ]
  },
  {
   "cell_type": "code",
   "execution_count": 57,
   "metadata": {
    "collapsed": false
   },
   "outputs": [
    {
     "name": "stdout",
     "output_type": "stream",
     "text": [
      "['A37705', 'A37711', 'A37714', 'A37724', 'A37733', 'A50336', 'A50337', 'A50341', 'A50343', 'A50344', 'A54469', 'A54470', 'A52346', 'A52349', 'A57109', 'A57112', 'A57113', 'A57115', 'A57121', 'A57122']\n"
     ]
    }
   ],
   "source": [
    "lib_all = meta['RNA_lib'].dropna().tolist()\n",
    "# lib_all\n",
    "libs_intg = merged.reset_index().query('Integration_RNA == \"{0}\"'.format('YES'))['library_RNA'].unique().tolist()\n",
    "libs_unintg = [item for item in lib_all if item not in libs_intg]\n",
    "print(libs_unintg)\n"
   ]
  },
  {
   "cell_type": "markdown",
   "metadata": {},
   "source": [
    "merge 2 dictionaries and create a new data frame"
   ]
  },
  {
   "cell_type": "code",
   "execution_count": 59,
   "metadata": {
    "collapsed": false
   },
   "outputs": [],
   "source": [
    "x = {k: 'integrated' for k in libs_intg}\n",
    "y = {k: 'unintegrated' for k in libs_unintg}\n",
    "z = x.copy()\n",
    "z.update(y)\n",
    "z\n",
    "intgrs = pd.DataFrame(z.items(), columns=['library_RNA', 'integration_status'])"
   ]
  },
  {
   "cell_type": "code",
   "execution_count": 60,
   "metadata": {
    "collapsed": false
   },
   "outputs": [],
   "source": [
    "intgrs.to_csv('integration_status.txt', index=False)"
   ]
  },
  {
   "cell_type": "code",
   "execution_count": 62,
   "metadata": {
    "collapsed": false
   },
   "outputs": [],
   "source": [
    "merged.reset_index(inplace=True)"
   ]
  },
  {
   "cell_type": "code",
   "execution_count": null,
   "metadata": {
    "collapsed": true
   },
   "outputs": [],
   "source": []
  },
  {
   "cell_type": "code",
   "execution_count": 63,
   "metadata": {
    "collapsed": false
   },
   "outputs": [],
   "source": [
    "merge_intg = merged.merge(intgrs, on='library_RNA')"
   ]
  },
  {
   "cell_type": "code",
   "execution_count": 64,
   "metadata": {
    "collapsed": false
   },
   "outputs": [],
   "source": [
    "\n",
    "merge_intg.to_csv('merged_integration_results.txt', index=False)"
   ]
  },
  {
   "cell_type": "markdown",
   "metadata": {},
   "source": [
    "add entries for all patients and strains for those absent from the summary file\n"
   ]
  },
  {
   "cell_type": "code",
   "execution_count": 94,
   "metadata": {
    "collapsed": false,
    "scrolled": true
   },
   "outputs": [],
   "source": [
    "for patient in all_patients:\n",
    "    df_strains = []\n",
    "    if patient in df_patients:\n",
    "        df_strains = merged.loc[(patient)].index.unique().tolist()\n",
    "        for strain in strains:\n",
    "            if strain not in df_strains:\n",
    "                merged.loc[(patient, strain),:] = pd.Series({i:'bbbb' for i in merged.columns}) \n",
    "    else:\n",
    "        for strain in strains:\n",
    "            merged.loc[(patient, strain),:] = pd.Series({i:'bbbb' for i in merged.columns})"
   ]
  },
  {
   "cell_type": "code",
   "execution_count": 70,
   "metadata": {
    "collapsed": false
   },
   "outputs": [],
   "source": [
    "merged.to_csv('final_final_test.csv', sep='\\t')"
   ]
  },
  {
   "cell_type": "code",
   "execution_count": null,
   "metadata": {
    "collapsed": true
   },
   "outputs": [],
   "source": [
    "# below are experiment code"
   ]
  },
  {
   "cell_type": "code",
   "execution_count": 95,
   "metadata": {
    "collapsed": false
   },
   "outputs": [],
   "source": [
    "# need to sort by virus then patient\n",
    "merged.index = merged.index.swaplevel()\n",
    "\n",
    "merged = merged.sortlevel()\n",
    "\n",
    "# merged.index = merged.index.swaplevel()\n",
    "\n",
    "# merged.head(200)\n",
    "# seems not working, use the python script to format RNA and DNA integration results to plot separately"
   ]
  },
  {
   "cell_type": "code",
   "execution_count": null,
   "metadata": {
    "collapsed": true
   },
   "outputs": [],
   "source": []
  },
  {
   "cell_type": "code",
   "execution_count": 227,
   "metadata": {
    "collapsed": false
   },
   "outputs": [
    {
     "data": {
      "text/plain": [
       "['Human papillomavirus type 51',\n",
       " 'Human papillomavirus type 69',\n",
       " 'Human papillomavirus type 82']"
      ]
     },
     "execution_count": 227,
     "metadata": {},
     "output_type": "execute_result"
    }
   ],
   "source": [
    "merged.loc[('HTMCP-03-06-02225')].index.get_level_values('virus').unique().tolist()\n",
    "# multiindex is a tuple\n",
    "merged.loc[('HTMCP-03-06-02225','Human papillomavirus type 69')]\n",
    "# list comprehension to make a dictionary and then to series\n",
    "pd.Series({i:'bbbb' for i in merged.columns})\n",
    "# add a entry for multiindexed data frame\n",
    "merged.loc[('HTMCP-03-06-02225', 'Human papillomavirus type 999'),:] = pd.Series({i:'not_detected' for i in merged.columns})\n",
    "\n",
    "# add all negative patients\n",
    "df_patients = list(set([i[0] for i in merged.index.unique().tolist()]))"
   ]
  },
  {
   "cell_type": "code",
   "execution_count": 56,
   "metadata": {
    "collapsed": false
   },
   "outputs": [
    {
     "data": {
      "text/plain": [
       "patient            virus \n",
       "HTMCP-03-06-02001  HPV_16    YES\n",
       "HTMCP-03-06-02002  HPV_52    YES\n",
       "HTMCP-03-06-02003  HPV_16    YES\n",
       "HTMCP-03-06-02006  HPV_18     NO\n",
       "                   HPV_45    YES\n",
       "Name: Integration_RNA, dtype: object"
      ]
     },
     "execution_count": 56,
     "metadata": {},
     "output_type": "execute_result"
    }
   ],
   "source": [
    "# merged['virus', 'patient', 'Integration_RNA']\n",
    "merged['Integration_RNA'].head()"
   ]
  }
 ],
 "metadata": {
  "kernelspec": {
   "display_name": "Python 2",
   "language": "python",
   "name": "python2"
  },
  "language_info": {
   "codemirror_mode": {
    "name": "ipython",
    "version": 2
   },
   "file_extension": ".py",
   "mimetype": "text/x-python",
   "name": "python",
   "nbconvert_exporter": "python",
   "pygments_lexer": "ipython2",
   "version": "2.7.12"
  }
 },
 "nbformat": 4,
 "nbformat_minor": 2
}
