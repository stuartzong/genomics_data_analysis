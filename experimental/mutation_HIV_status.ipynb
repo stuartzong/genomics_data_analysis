{
 "cells": [
  {
   "cell_type": "code",
   "execution_count": 1,
   "metadata": {
    "collapsed": true
   },
   "outputs": [],
   "source": [
    "import matplotlib\n",
    "import numpy as np\n",
    "import matplotlib.pyplot as plt\n",
    "from scipy.stats import ttest_ind\n",
    "import scipy.stats as ss\n",
    "from matplotlib import style\n",
    "matplotlib.style.use('ggplot')\n",
    "%matplotlib inline\n",
    "matplotlib.rcParams['figure.figsize'] = (15, 9)\n",
    "import pandas as pd"
   ]
  },
  {
   "cell_type": "code",
   "execution_count": 3,
   "metadata": {
    "collapsed": false
   },
   "outputs": [
    {
     "data": {
      "text/html": [
       "<div>\n",
       "<table border=\"1\" class=\"dataframe\">\n",
       "  <thead>\n",
       "    <tr style=\"text-align: right;\">\n",
       "      <th></th>\n",
       "      <th>lib</th>\n",
       "      <th>hiv</th>\n",
       "      <th>Col_1</th>\n",
       "      <th>Col_2</th>\n",
       "      <th>Col_3</th>\n",
       "      <th>Col_4</th>\n",
       "      <th>Col_5</th>\n",
       "      <th>Col_6</th>\n",
       "      <th>Col_7</th>\n",
       "      <th>Col_8</th>\n",
       "      <th>Col_9</th>\n",
       "      <th>Col_10</th>\n",
       "      <th>Col_11</th>\n",
       "      <th>Col_12</th>\n",
       "      <th>Col_13</th>\n",
       "      <th>Col_14</th>\n",
       "      <th>rpkm</th>\n",
       "      <th>Col_15</th>\n",
       "      <th>Col_16</th>\n",
       "      <th>Col_17</th>\n",
       "    </tr>\n",
       "  </thead>\n",
       "  <tbody>\n",
       "    <tr>\n",
       "      <th>0</th>\n",
       "      <td>A37700</td>\n",
       "      <td>Positive</td>\n",
       "      <td>ENSG00000010610</td>\n",
       "      <td>merged_ENSG00000010610</td>\n",
       "      <td>12</td>\n",
       "      <td>6896024</td>\n",
       "      <td>6929974</td>\n",
       "      <td>+</td>\n",
       "      <td>4583</td>\n",
       "      <td>29368</td>\n",
       "      <td>4904.48</td>\n",
       "      <td>367836</td>\n",
       "      <td>120.88</td>\n",
       "      <td>9066</td>\n",
       "      <td>80.261</td>\n",
       "      <td>11.1014</td>\n",
       "      <td>4.9655</td>\n",
       "      <td>CD4</td>\n",
       "      <td>protein_coding</td>\n",
       "      <td>CD4_molecule_[Source:HGNC_Symbol;Acc:1678]</td>\n",
       "    </tr>\n",
       "    <tr>\n",
       "      <th>1</th>\n",
       "      <td>A37701</td>\n",
       "      <td>Negative</td>\n",
       "      <td>ENSG00000010610</td>\n",
       "      <td>merged_ENSG00000010610</td>\n",
       "      <td>12</td>\n",
       "      <td>6896024</td>\n",
       "      <td>6929974</td>\n",
       "      <td>+</td>\n",
       "      <td>4583</td>\n",
       "      <td>29368</td>\n",
       "      <td>12827.16</td>\n",
       "      <td>962037</td>\n",
       "      <td>376.49</td>\n",
       "      <td>28237</td>\n",
       "      <td>209.914</td>\n",
       "      <td>29.1677</td>\n",
       "      <td>13.2054</td>\n",
       "      <td>CD4</td>\n",
       "      <td>protein_coding</td>\n",
       "      <td>CD4_molecule_[Source:HGNC_Symbol;Acc:1678]</td>\n",
       "    </tr>\n",
       "  </tbody>\n",
       "</table>\n",
       "</div>"
      ],
      "text/plain": [
       "      lib       hiv            Col_1                   Col_2  Col_3    Col_4  \\\n",
       "0  A37700  Positive  ENSG00000010610  merged_ENSG00000010610     12  6896024   \n",
       "1  A37701  Negative  ENSG00000010610  merged_ENSG00000010610     12  6896024   \n",
       "\n",
       "     Col_5 Col_6  Col_7  Col_8     Col_9  Col_10  Col_11  Col_12   Col_13  \\\n",
       "0  6929974     +   4583  29368   4904.48  367836  120.88    9066   80.261   \n",
       "1  6929974     +   4583  29368  12827.16  962037  376.49   28237  209.914   \n",
       "\n",
       "    Col_14     rpkm Col_15          Col_16  \\\n",
       "0  11.1014   4.9655    CD4  protein_coding   \n",
       "1  29.1677  13.2054    CD4  protein_coding   \n",
       "\n",
       "                                       Col_17  \n",
       "0  CD4_molecule_[Source:HGNC_Symbol;Acc:1678]  \n",
       "1  CD4_molecule_[Source:HGNC_Symbol;Acc:1678]  "
      ]
     },
     "execution_count": 3,
     "metadata": {},
     "output_type": "execute_result"
    }
   ],
   "source": [
    "df.head(2)"
   ]
  },
  {
   "cell_type": "code",
   "execution_count": 2,
   "metadata": {
    "collapsed": false
   },
   "outputs": [
    {
     "name": "stdout",
     "output_type": "stream",
     "text": [
      "Positive\n",
      "Negative\n"
     ]
    },
    {
     "data": {
      "text/plain": [
       "MannwhitneyuResult(statistic=595.0, pvalue=0.012026822822777727)"
      ]
     },
     "execution_count": 2,
     "metadata": {},
     "output_type": "execute_result"
    },
    {
     "data": {
      "text/plain": [
       "<matplotlib.figure.Figure at 0x7f99f0a61850>"
      ]
     },
     "metadata": {},
     "output_type": "display_data"
    },
    {
     "data": {
      "image/png": "[encoded data removed]",
      "text/plain": [
       "<matplotlib.figure.Figure at 0x7f99f0802190>"
      ]
     },
     "metadata": {},
     "output_type": "display_data"
    }
   ],
   "source": [
    "# df = pd.read_csv('/projects/trans_scratch/validations/workspace/szong/Cervical/variant_bwamem/82_patients/cxcr4_expression.txt', sep='\\t')\n",
    "# df = pd.read_csv('/projects/trans_scratch/validations/workspace/szong/Cervical/variant_bwamem/82_patients/ccr5_expression.txt', sep='\\t')\n",
    "df = pd.read_csv('/projects/trans_scratch/validations/workspace/szong/Cervical/variant_bwamem/82_patients/cd4_expression.txt', sep='\\t')\n",
    "df.head()\n",
    "\n",
    "df.groupby(df['hiv'])['rpkm'].describe()\n",
    "\n",
    "fig = plt.figure()\n",
    "group_col = 'hiv'\n",
    "value_col = 'rpkm'\n",
    "ax = df.boxplot(column=value_col, by=group_col, showfliers=False, widths=(0.6,0.6), figsize=(5,5))\n",
    "plt.title('') # this removes the column as subtitle of the plot\n",
    "fig =ax.get_figure()\n",
    "# fig.suptitle('')\n",
    "\n",
    "# overlay actuall data points\n",
    "categories = df[group_col].unique().tolist()\n",
    "for category in categories:\n",
    "    y = df[value_col][df[group_col]==category]\n",
    "#     i = categories.index(category) + 1\n",
    "    print category\n",
    "    if category == 'Positive':\n",
    "        i = 2\n",
    "    elif category == 'Negative':\n",
    "        i = 1\n",
    "    # add jitter and specify maker facecolor and edgecolor\n",
    "    x = np.random.normal(i, 0.1, size=len(y))\n",
    "    plt.plot(x, y, 'o', markerfacecolor='white',markeredgecolor='red', markersize=7, alpha=0.8)\n",
    "\n",
    "# ax.set_ylim(0,0.1)\n",
    "ax.set_axis_bgcolor('whitesmoke') #specify plot backgroup color\n",
    "ax.tick_params(axis='x', labelsize=14) #specify x tick label size\n",
    "plt.xlabel(\"HIV status\", fontsize=14) \n",
    "plt.ylabel('rpkm', fontsize=14)\n",
    "plt.suptitle('cd4 expression HIV + vs -', fontsize=14)  # get rid of the automatically generated title\n",
    "\n",
    "# increase resolution\n",
    "# plt.savefig('mutation_load_and_HIV_status.png', dpi=200)\n",
    "\n",
    "# statistical test \n",
    "Negative = df[df['hiv']=='Negative']\n",
    "Positive = df[df['hiv']=='Positive']\n",
    "# tie corrected Mann Whitney U test,\n",
    "ss.mannwhitneyu(Negative['rpkm'], Positive['rpkm'], use_continuity=True, alternative=None)\n",
    "# ss.mannwhitneyu(Negative['log_RPM'], Positive['log_RPM'], use_continuity=True, alternative=None)"
   ]
  },
  {
   "cell_type": "code",
   "execution_count": 338,
   "metadata": {
    "collapsed": false
   },
   "outputs": [
    {
     "data": {
      "text/html": [
       "<div>\n",
       "<table border=\"1\" class=\"dataframe\">\n",
       "  <thead>\n",
       "    <tr style=\"text-align: right;\">\n",
       "      <th></th>\n",
       "      <th>TN</th>\n",
       "      <th>Burkholderia</th>\n",
       "      <th>Campylobacter</th>\n",
       "      <th>Chlamydia</th>\n",
       "      <th>Clostridium</th>\n",
       "      <th>Escherichia_coli</th>\n",
       "      <th>Bacteriodes</th>\n",
       "      <th>other_bacteria</th>\n",
       "      <th>Fusobacterium_nucleatum</th>\n",
       "      <th>Helicobacter_pylori</th>\n",
       "      <th>...</th>\n",
       "      <th>Human_papillomavirus</th>\n",
       "      <th>Human_T_lymphotropic_virus</th>\n",
       "      <th>other_viruses</th>\n",
       "      <th>phiX</th>\n",
       "      <th>Polyomaviruses</th>\n",
       "      <th>Rotaviruses</th>\n",
       "      <th>Sphingomonas</th>\n",
       "      <th>multiMatch</th>\n",
       "      <th>noMatch</th>\n",
       "      <th>total</th>\n",
       "    </tr>\n",
       "    <tr>\n",
       "      <th>patient</th>\n",
       "      <th></th>\n",
       "      <th></th>\n",
       "      <th></th>\n",
       "      <th></th>\n",
       "      <th></th>\n",
       "      <th></th>\n",
       "      <th></th>\n",
       "      <th></th>\n",
       "      <th></th>\n",
       "      <th></th>\n",
       "      <th></th>\n",
       "      <th></th>\n",
       "      <th></th>\n",
       "      <th></th>\n",
       "      <th></th>\n",
       "      <th></th>\n",
       "      <th></th>\n",
       "      <th></th>\n",
       "      <th></th>\n",
       "      <th></th>\n",
       "      <th></th>\n",
       "    </tr>\n",
       "  </thead>\n",
       "  <tbody>\n",
       "    <tr>\n",
       "      <th>HTMCP-03-06-02001</th>\n",
       "      <td>diseased_1</td>\n",
       "      <td>1521</td>\n",
       "      <td>270</td>\n",
       "      <td>0</td>\n",
       "      <td>0</td>\n",
       "      <td>1276</td>\n",
       "      <td>28</td>\n",
       "      <td>4192</td>\n",
       "      <td>0</td>\n",
       "      <td>1358</td>\n",
       "      <td>...</td>\n",
       "      <td>33698</td>\n",
       "      <td>0</td>\n",
       "      <td>3145</td>\n",
       "      <td>7</td>\n",
       "      <td>15</td>\n",
       "      <td>0</td>\n",
       "      <td>5</td>\n",
       "      <td>6805</td>\n",
       "      <td>3231898</td>\n",
       "      <td>8500929</td>\n",
       "    </tr>\n",
       "    <tr>\n",
       "      <th>HTMCP-03-06-02002</th>\n",
       "      <td>diseased_2</td>\n",
       "      <td>19</td>\n",
       "      <td>464</td>\n",
       "      <td>0</td>\n",
       "      <td>1</td>\n",
       "      <td>2655</td>\n",
       "      <td>64</td>\n",
       "      <td>4462</td>\n",
       "      <td>0</td>\n",
       "      <td>1</td>\n",
       "      <td>...</td>\n",
       "      <td>0</td>\n",
       "      <td>0</td>\n",
       "      <td>3085</td>\n",
       "      <td>24</td>\n",
       "      <td>24</td>\n",
       "      <td>0</td>\n",
       "      <td>7</td>\n",
       "      <td>8201</td>\n",
       "      <td>3741268</td>\n",
       "      <td>10141960</td>\n",
       "    </tr>\n",
       "  </tbody>\n",
       "</table>\n",
       "<p>2 rows × 52 columns</p>\n",
       "</div>"
      ],
      "text/plain": [
       "                           TN  Burkholderia  Campylobacter  Chlamydia  \\\n",
       "patient                                                                 \n",
       "HTMCP-03-06-02001  diseased_1          1521            270          0   \n",
       "HTMCP-03-06-02002  diseased_2            19            464          0   \n",
       "\n",
       "                   Clostridium  Escherichia_coli  Bacteriodes  other_bacteria  \\\n",
       "patient                                                                         \n",
       "HTMCP-03-06-02001            0              1276           28            4192   \n",
       "HTMCP-03-06-02002            1              2655           64            4462   \n",
       "\n",
       "                   Fusobacterium_nucleatum  Helicobacter_pylori    ...     \\\n",
       "patient                                                            ...      \n",
       "HTMCP-03-06-02001                        0                 1358    ...      \n",
       "HTMCP-03-06-02002                        0                    1    ...      \n",
       "\n",
       "                   Human_papillomavirus  Human_T_lymphotropic_virus  \\\n",
       "patient                                                               \n",
       "HTMCP-03-06-02001                 33698                           0   \n",
       "HTMCP-03-06-02002                     0                           0   \n",
       "\n",
       "                   other_viruses  phiX  Polyomaviruses  Rotaviruses  \\\n",
       "patient                                                               \n",
       "HTMCP-03-06-02001           3145     7              15            0   \n",
       "HTMCP-03-06-02002           3085    24              24            0   \n",
       "\n",
       "                   Sphingomonas  multiMatch  noMatch     total  \n",
       "patient                                                         \n",
       "HTMCP-03-06-02001             5        6805  3231898   8500929  \n",
       "HTMCP-03-06-02002             7        8201  3741268  10141960  \n",
       "\n",
       "[2 rows x 52 columns]"
      ]
     },
     "execution_count": 338,
     "metadata": {},
     "output_type": "execute_result"
    }
   ],
   "source": [
    "# use dan and rna raw counts to see if the microbial load differ between HIV positive and negative\n",
    "df_rna = pd.read_csv('/projects/trans_scratch/validations/workspace/szong/Cervical/bbt/82_patients/bbt_raw_counts.txt', sep='\\t', index_col='patient')\n",
    "df_rna.head(2)"
   ]
  },
  {
   "cell_type": "code",
   "execution_count": 339,
   "metadata": {
    "collapsed": false
   },
   "outputs": [
    {
     "data": {
      "text/html": [
       "<div>\n",
       "<table border=\"1\" class=\"dataframe\">\n",
       "  <thead>\n",
       "    <tr style=\"text-align: right;\">\n",
       "      <th></th>\n",
       "      <th>Burkholderia</th>\n",
       "      <th>Campylobacter</th>\n",
       "      <th>Chlamydia</th>\n",
       "      <th>Clostridium</th>\n",
       "      <th>Escherichia_coli</th>\n",
       "      <th>Bacteriodes</th>\n",
       "      <th>other_bacteria</th>\n",
       "      <th>Fusobacterium_nucleatum</th>\n",
       "      <th>Helicobacter_pylori</th>\n",
       "      <th>Klebsiella</th>\n",
       "      <th>...</th>\n",
       "      <th>Human_herpesvirus_7</th>\n",
       "      <th>Human_herpesvirus_8</th>\n",
       "      <th>Human_immunodeficiency_virus</th>\n",
       "      <th>Human_papillomavirus</th>\n",
       "      <th>Human_T_lymphotropic_virus</th>\n",
       "      <th>other_viruses</th>\n",
       "      <th>Polyomaviruses</th>\n",
       "      <th>Rotaviruses</th>\n",
       "      <th>Sphingomonas</th>\n",
       "      <th>total</th>\n",
       "    </tr>\n",
       "    <tr>\n",
       "      <th>patient</th>\n",
       "      <th></th>\n",
       "      <th></th>\n",
       "      <th></th>\n",
       "      <th></th>\n",
       "      <th></th>\n",
       "      <th></th>\n",
       "      <th></th>\n",
       "      <th></th>\n",
       "      <th></th>\n",
       "      <th></th>\n",
       "      <th></th>\n",
       "      <th></th>\n",
       "      <th></th>\n",
       "      <th></th>\n",
       "      <th></th>\n",
       "      <th></th>\n",
       "      <th></th>\n",
       "      <th></th>\n",
       "      <th></th>\n",
       "      <th></th>\n",
       "      <th></th>\n",
       "    </tr>\n",
       "  </thead>\n",
       "  <tbody>\n",
       "    <tr>\n",
       "      <th>HTMCP-03-06-02001</th>\n",
       "      <td>1521</td>\n",
       "      <td>270</td>\n",
       "      <td>0</td>\n",
       "      <td>0</td>\n",
       "      <td>1276</td>\n",
       "      <td>28</td>\n",
       "      <td>4192</td>\n",
       "      <td>0</td>\n",
       "      <td>1358</td>\n",
       "      <td>148</td>\n",
       "      <td>...</td>\n",
       "      <td>0</td>\n",
       "      <td>0</td>\n",
       "      <td>0</td>\n",
       "      <td>33698</td>\n",
       "      <td>0</td>\n",
       "      <td>3145</td>\n",
       "      <td>15</td>\n",
       "      <td>0</td>\n",
       "      <td>5</td>\n",
       "      <td>8500929</td>\n",
       "    </tr>\n",
       "    <tr>\n",
       "      <th>HTMCP-03-06-02002</th>\n",
       "      <td>19</td>\n",
       "      <td>464</td>\n",
       "      <td>0</td>\n",
       "      <td>1</td>\n",
       "      <td>2655</td>\n",
       "      <td>64</td>\n",
       "      <td>4462</td>\n",
       "      <td>0</td>\n",
       "      <td>1</td>\n",
       "      <td>423</td>\n",
       "      <td>...</td>\n",
       "      <td>0</td>\n",
       "      <td>0</td>\n",
       "      <td>0</td>\n",
       "      <td>0</td>\n",
       "      <td>0</td>\n",
       "      <td>3085</td>\n",
       "      <td>24</td>\n",
       "      <td>0</td>\n",
       "      <td>7</td>\n",
       "      <td>10141960</td>\n",
       "    </tr>\n",
       "  </tbody>\n",
       "</table>\n",
       "<p>2 rows × 47 columns</p>\n",
       "</div>"
      ],
      "text/plain": [
       "                   Burkholderia  Campylobacter  Chlamydia  Clostridium  \\\n",
       "patient                                                                  \n",
       "HTMCP-03-06-02001          1521            270          0            0   \n",
       "HTMCP-03-06-02002            19            464          0            1   \n",
       "\n",
       "                   Escherichia_coli  Bacteriodes  other_bacteria  \\\n",
       "patient                                                            \n",
       "HTMCP-03-06-02001              1276           28            4192   \n",
       "HTMCP-03-06-02002              2655           64            4462   \n",
       "\n",
       "                   Fusobacterium_nucleatum  Helicobacter_pylori  Klebsiella  \\\n",
       "patient                                                                       \n",
       "HTMCP-03-06-02001                        0                 1358         148   \n",
       "HTMCP-03-06-02002                        0                    1         423   \n",
       "\n",
       "                     ...     Human_herpesvirus_7  Human_herpesvirus_8  \\\n",
       "patient              ...                                                \n",
       "HTMCP-03-06-02001    ...                       0                    0   \n",
       "HTMCP-03-06-02002    ...                       0                    0   \n",
       "\n",
       "                   Human_immunodeficiency_virus  Human_papillomavirus  \\\n",
       "patient                                                                 \n",
       "HTMCP-03-06-02001                             0                 33698   \n",
       "HTMCP-03-06-02002                             0                     0   \n",
       "\n",
       "                   Human_T_lymphotropic_virus  other_viruses  Polyomaviruses  \\\n",
       "patient                                                                        \n",
       "HTMCP-03-06-02001                           0           3145              15   \n",
       "HTMCP-03-06-02002                           0           3085              24   \n",
       "\n",
       "                   Rotaviruses  Sphingomonas     total  \n",
       "patient                                                 \n",
       "HTMCP-03-06-02001            0             5   8500929  \n",
       "HTMCP-03-06-02002            0             7  10141960  \n",
       "\n",
       "[2 rows x 47 columns]"
      ]
     },
     "execution_count": 339,
     "metadata": {},
     "output_type": "execute_result"
    }
   ],
   "source": [
    "df_rna = df_rna.drop(['TN', 'vectors', 'phiX', 'multiMatch', 'noMatch'], axis=1)\n",
    "df_rna.head(2)"
   ]
  },
  {
   "cell_type": "code",
   "execution_count": 329,
   "metadata": {
    "collapsed": false
   },
   "outputs": [],
   "source": [
    "col_list= list(df_rna)\n",
    "col_list.remove('total')\n",
    "# col_list"
   ]
  },
  {
   "cell_type": "code",
   "execution_count": 348,
   "metadata": {
    "collapsed": false
   },
   "outputs": [
    {
     "data": {
      "text/html": [
       "<div>\n",
       "<table border=\"1\" class=\"dataframe\">\n",
       "  <thead>\n",
       "    <tr style=\"text-align: right;\">\n",
       "      <th></th>\n",
       "      <th>Burkholderia</th>\n",
       "      <th>Campylobacter</th>\n",
       "      <th>Chlamydia</th>\n",
       "      <th>Clostridium</th>\n",
       "      <th>Escherichia_coli</th>\n",
       "      <th>Bacteriodes</th>\n",
       "      <th>other_bacteria</th>\n",
       "      <th>Fusobacterium_nucleatum</th>\n",
       "      <th>Helicobacter_pylori</th>\n",
       "      <th>Klebsiella</th>\n",
       "      <th>...</th>\n",
       "      <th>Human_herpesvirus_8</th>\n",
       "      <th>Human_immunodeficiency_virus</th>\n",
       "      <th>Human_papillomavirus</th>\n",
       "      <th>Human_T_lymphotropic_virus</th>\n",
       "      <th>other_viruses</th>\n",
       "      <th>Polyomaviruses</th>\n",
       "      <th>Rotaviruses</th>\n",
       "      <th>Sphingomonas</th>\n",
       "      <th>total</th>\n",
       "      <th>microbes</th>\n",
       "    </tr>\n",
       "    <tr>\n",
       "      <th>patient</th>\n",
       "      <th></th>\n",
       "      <th></th>\n",
       "      <th></th>\n",
       "      <th></th>\n",
       "      <th></th>\n",
       "      <th></th>\n",
       "      <th></th>\n",
       "      <th></th>\n",
       "      <th></th>\n",
       "      <th></th>\n",
       "      <th></th>\n",
       "      <th></th>\n",
       "      <th></th>\n",
       "      <th></th>\n",
       "      <th></th>\n",
       "      <th></th>\n",
       "      <th></th>\n",
       "      <th></th>\n",
       "      <th></th>\n",
       "      <th></th>\n",
       "      <th></th>\n",
       "    </tr>\n",
       "  </thead>\n",
       "  <tbody>\n",
       "    <tr>\n",
       "      <th>HTMCP-03-06-02001</th>\n",
       "      <td>1521</td>\n",
       "      <td>270</td>\n",
       "      <td>0</td>\n",
       "      <td>0</td>\n",
       "      <td>1276</td>\n",
       "      <td>28</td>\n",
       "      <td>4192</td>\n",
       "      <td>0</td>\n",
       "      <td>1358</td>\n",
       "      <td>148</td>\n",
       "      <td>...</td>\n",
       "      <td>0</td>\n",
       "      <td>0</td>\n",
       "      <td>33698</td>\n",
       "      <td>0</td>\n",
       "      <td>3145</td>\n",
       "      <td>15</td>\n",
       "      <td>0</td>\n",
       "      <td>5</td>\n",
       "      <td>8500929</td>\n",
       "      <td>618621.800041</td>\n",
       "    </tr>\n",
       "    <tr>\n",
       "      <th>HTMCP-03-06-02002</th>\n",
       "      <td>19</td>\n",
       "      <td>464</td>\n",
       "      <td>0</td>\n",
       "      <td>1</td>\n",
       "      <td>2655</td>\n",
       "      <td>64</td>\n",
       "      <td>4462</td>\n",
       "      <td>0</td>\n",
       "      <td>1</td>\n",
       "      <td>423</td>\n",
       "      <td>...</td>\n",
       "      <td>0</td>\n",
       "      <td>0</td>\n",
       "      <td>0</td>\n",
       "      <td>0</td>\n",
       "      <td>3085</td>\n",
       "      <td>24</td>\n",
       "      <td>0</td>\n",
       "      <td>7</td>\n",
       "      <td>10141960</td>\n",
       "      <td>630000.907122</td>\n",
       "    </tr>\n",
       "    <tr>\n",
       "      <th>HTMCP-03-06-02003</th>\n",
       "      <td>22</td>\n",
       "      <td>311</td>\n",
       "      <td>0</td>\n",
       "      <td>101</td>\n",
       "      <td>1636</td>\n",
       "      <td>222</td>\n",
       "      <td>3723</td>\n",
       "      <td>2</td>\n",
       "      <td>11</td>\n",
       "      <td>238</td>\n",
       "      <td>...</td>\n",
       "      <td>0</td>\n",
       "      <td>0</td>\n",
       "      <td>12921</td>\n",
       "      <td>0</td>\n",
       "      <td>1926</td>\n",
       "      <td>14</td>\n",
       "      <td>0</td>\n",
       "      <td>9</td>\n",
       "      <td>8176449</td>\n",
       "      <td>608350.519890</td>\n",
       "    </tr>\n",
       "    <tr>\n",
       "      <th>HTMCP-03-06-02006</th>\n",
       "      <td>10</td>\n",
       "      <td>654</td>\n",
       "      <td>0</td>\n",
       "      <td>41</td>\n",
       "      <td>1723</td>\n",
       "      <td>266</td>\n",
       "      <td>3627</td>\n",
       "      <td>0</td>\n",
       "      <td>4</td>\n",
       "      <td>188</td>\n",
       "      <td>...</td>\n",
       "      <td>0</td>\n",
       "      <td>0</td>\n",
       "      <td>1</td>\n",
       "      <td>0</td>\n",
       "      <td>2202</td>\n",
       "      <td>11</td>\n",
       "      <td>0</td>\n",
       "      <td>8</td>\n",
       "      <td>8463835</td>\n",
       "      <td>620951.377242</td>\n",
       "    </tr>\n",
       "    <tr>\n",
       "      <th>HTMCP-03-06-02007</th>\n",
       "      <td>19</td>\n",
       "      <td>1237</td>\n",
       "      <td>0</td>\n",
       "      <td>47</td>\n",
       "      <td>3244</td>\n",
       "      <td>152</td>\n",
       "      <td>6660</td>\n",
       "      <td>64</td>\n",
       "      <td>7</td>\n",
       "      <td>332</td>\n",
       "      <td>...</td>\n",
       "      <td>0</td>\n",
       "      <td>0</td>\n",
       "      <td>1</td>\n",
       "      <td>0</td>\n",
       "      <td>4243</td>\n",
       "      <td>28</td>\n",
       "      <td>0</td>\n",
       "      <td>22</td>\n",
       "      <td>10879606</td>\n",
       "      <td>633713.389989</td>\n",
       "    </tr>\n",
       "  </tbody>\n",
       "</table>\n",
       "<p>5 rows × 48 columns</p>\n",
       "</div>"
      ],
      "text/plain": [
       "                   Burkholderia  Campylobacter  Chlamydia  Clostridium  \\\n",
       "patient                                                                  \n",
       "HTMCP-03-06-02001          1521            270          0            0   \n",
       "HTMCP-03-06-02002            19            464          0            1   \n",
       "HTMCP-03-06-02003            22            311          0          101   \n",
       "HTMCP-03-06-02006            10            654          0           41   \n",
       "HTMCP-03-06-02007            19           1237          0           47   \n",
       "\n",
       "                   Escherichia_coli  Bacteriodes  other_bacteria  \\\n",
       "patient                                                            \n",
       "HTMCP-03-06-02001              1276           28            4192   \n",
       "HTMCP-03-06-02002              2655           64            4462   \n",
       "HTMCP-03-06-02003              1636          222            3723   \n",
       "HTMCP-03-06-02006              1723          266            3627   \n",
       "HTMCP-03-06-02007              3244          152            6660   \n",
       "\n",
       "                   Fusobacterium_nucleatum  Helicobacter_pylori  Klebsiella  \\\n",
       "patient                                                                       \n",
       "HTMCP-03-06-02001                        0                 1358         148   \n",
       "HTMCP-03-06-02002                        0                    1         423   \n",
       "HTMCP-03-06-02003                        2                   11         238   \n",
       "HTMCP-03-06-02006                        0                    4         188   \n",
       "HTMCP-03-06-02007                       64                    7         332   \n",
       "\n",
       "                       ...        Human_herpesvirus_8  \\\n",
       "patient                ...                              \n",
       "HTMCP-03-06-02001      ...                          0   \n",
       "HTMCP-03-06-02002      ...                          0   \n",
       "HTMCP-03-06-02003      ...                          0   \n",
       "HTMCP-03-06-02006      ...                          0   \n",
       "HTMCP-03-06-02007      ...                          0   \n",
       "\n",
       "                   Human_immunodeficiency_virus  Human_papillomavirus  \\\n",
       "patient                                                                 \n",
       "HTMCP-03-06-02001                             0                 33698   \n",
       "HTMCP-03-06-02002                             0                     0   \n",
       "HTMCP-03-06-02003                             0                 12921   \n",
       "HTMCP-03-06-02006                             0                     1   \n",
       "HTMCP-03-06-02007                             0                     1   \n",
       "\n",
       "                   Human_T_lymphotropic_virus  other_viruses  Polyomaviruses  \\\n",
       "patient                                                                        \n",
       "HTMCP-03-06-02001                           0           3145              15   \n",
       "HTMCP-03-06-02002                           0           3085              24   \n",
       "HTMCP-03-06-02003                           0           1926              14   \n",
       "HTMCP-03-06-02006                           0           2202              11   \n",
       "HTMCP-03-06-02007                           0           4243              28   \n",
       "\n",
       "                   Rotaviruses  Sphingomonas     total       microbes  \n",
       "patient                                                                \n",
       "HTMCP-03-06-02001            0             5   8500929  618621.800041  \n",
       "HTMCP-03-06-02002            0             7  10141960  630000.907122  \n",
       "HTMCP-03-06-02003            0             9   8176449  608350.519890  \n",
       "HTMCP-03-06-02006            0             8   8463835  620951.377242  \n",
       "HTMCP-03-06-02007            0            22  10879606  633713.389989  \n",
       "\n",
       "[5 rows x 48 columns]"
      ]
     },
     "execution_count": 348,
     "metadata": {},
     "output_type": "execute_result"
    }
   ],
   "source": [
    "# get RPM for microbe counts\n",
    "df_rna['microbes'] = df_rna[col_list].sum(axis=1)*1000000/df_rna['total']\n",
    "# df_rna.columns\n",
    "df_rna.head()"
   ]
  },
  {
   "cell_type": "code",
   "execution_count": 349,
   "metadata": {
    "collapsed": true
   },
   "outputs": [],
   "source": [
    "# get full list of patients\n",
    "df_all_patients = pd.read_csv('/projects/trans_scratch/validations/workspace/szong/Cervical/variant_bwamem/82_patients/num_mutations.csv',\n",
    "                             sep='\\t', index_col='patient')"
   ]
  },
  {
   "cell_type": "code",
   "execution_count": 350,
   "metadata": {
    "collapsed": false
   },
   "outputs": [
    {
     "data": {
      "text/html": [
       "<div>\n",
       "<table border=\"1\" class=\"dataframe\">\n",
       "  <thead>\n",
       "    <tr style=\"text-align: right;\">\n",
       "      <th></th>\n",
       "      <th>hiv</th>\n",
       "      <th>mutations</th>\n",
       "    </tr>\n",
       "    <tr>\n",
       "      <th>patient</th>\n",
       "      <th></th>\n",
       "      <th></th>\n",
       "    </tr>\n",
       "  </thead>\n",
       "  <tbody>\n",
       "    <tr>\n",
       "      <th>HTMCP-03-06-02001</th>\n",
       "      <td>Positive</td>\n",
       "      <td>247</td>\n",
       "    </tr>\n",
       "    <tr>\n",
       "      <th>HTMCP-03-06-02002</th>\n",
       "      <td>Negative</td>\n",
       "      <td>180</td>\n",
       "    </tr>\n",
       "    <tr>\n",
       "      <th>HTMCP-03-06-02003</th>\n",
       "      <td>Positive</td>\n",
       "      <td>86</td>\n",
       "    </tr>\n",
       "  </tbody>\n",
       "</table>\n",
       "</div>"
      ],
      "text/plain": [
       "                        hiv  mutations\n",
       "patient                               \n",
       "HTMCP-03-06-02001  Positive        247\n",
       "HTMCP-03-06-02002  Negative        180\n",
       "HTMCP-03-06-02003  Positive         86"
      ]
     },
     "execution_count": 350,
     "metadata": {},
     "output_type": "execute_result"
    }
   ],
   "source": [
    "df_all_patients.head(3)"
   ]
  },
  {
   "cell_type": "code",
   "execution_count": 351,
   "metadata": {
    "collapsed": false
   },
   "outputs": [
    {
     "data": {
      "text/html": [
       "<div>\n",
       "<table border=\"1\" class=\"dataframe\">\n",
       "  <thead>\n",
       "    <tr style=\"text-align: right;\">\n",
       "      <th></th>\n",
       "      <th>Burkholderia</th>\n",
       "      <th>Campylobacter</th>\n",
       "      <th>Chlamydia</th>\n",
       "      <th>Clostridium</th>\n",
       "      <th>Escherichia_coli</th>\n",
       "      <th>Bacteriodes</th>\n",
       "      <th>other_bacteria</th>\n",
       "      <th>Fusobacterium_nucleatum</th>\n",
       "      <th>Helicobacter_pylori</th>\n",
       "      <th>Klebsiella</th>\n",
       "      <th>...</th>\n",
       "      <th>Human_papillomavirus</th>\n",
       "      <th>Human_T_lymphotropic_virus</th>\n",
       "      <th>other_viruses</th>\n",
       "      <th>Polyomaviruses</th>\n",
       "      <th>Rotaviruses</th>\n",
       "      <th>Sphingomonas</th>\n",
       "      <th>total</th>\n",
       "      <th>microbes</th>\n",
       "      <th>hiv</th>\n",
       "      <th>mutations</th>\n",
       "    </tr>\n",
       "    <tr>\n",
       "      <th>patient</th>\n",
       "      <th></th>\n",
       "      <th></th>\n",
       "      <th></th>\n",
       "      <th></th>\n",
       "      <th></th>\n",
       "      <th></th>\n",
       "      <th></th>\n",
       "      <th></th>\n",
       "      <th></th>\n",
       "      <th></th>\n",
       "      <th></th>\n",
       "      <th></th>\n",
       "      <th></th>\n",
       "      <th></th>\n",
       "      <th></th>\n",
       "      <th></th>\n",
       "      <th></th>\n",
       "      <th></th>\n",
       "      <th></th>\n",
       "      <th></th>\n",
       "      <th></th>\n",
       "    </tr>\n",
       "  </thead>\n",
       "  <tbody>\n",
       "    <tr>\n",
       "      <th>HTMCP-03-06-02001</th>\n",
       "      <td>1521</td>\n",
       "      <td>270</td>\n",
       "      <td>0</td>\n",
       "      <td>0</td>\n",
       "      <td>1276</td>\n",
       "      <td>28</td>\n",
       "      <td>4192</td>\n",
       "      <td>0</td>\n",
       "      <td>1358</td>\n",
       "      <td>148</td>\n",
       "      <td>...</td>\n",
       "      <td>33698</td>\n",
       "      <td>0</td>\n",
       "      <td>3145</td>\n",
       "      <td>15</td>\n",
       "      <td>0</td>\n",
       "      <td>5</td>\n",
       "      <td>8500929</td>\n",
       "      <td>618621.800041</td>\n",
       "      <td>Positive</td>\n",
       "      <td>247</td>\n",
       "    </tr>\n",
       "    <tr>\n",
       "      <th>HTMCP-03-06-02002</th>\n",
       "      <td>19</td>\n",
       "      <td>464</td>\n",
       "      <td>0</td>\n",
       "      <td>1</td>\n",
       "      <td>2655</td>\n",
       "      <td>64</td>\n",
       "      <td>4462</td>\n",
       "      <td>0</td>\n",
       "      <td>1</td>\n",
       "      <td>423</td>\n",
       "      <td>...</td>\n",
       "      <td>0</td>\n",
       "      <td>0</td>\n",
       "      <td>3085</td>\n",
       "      <td>24</td>\n",
       "      <td>0</td>\n",
       "      <td>7</td>\n",
       "      <td>10141960</td>\n",
       "      <td>630000.907122</td>\n",
       "      <td>Negative</td>\n",
       "      <td>180</td>\n",
       "    </tr>\n",
       "  </tbody>\n",
       "</table>\n",
       "<p>2 rows × 50 columns</p>\n",
       "</div>"
      ],
      "text/plain": [
       "                   Burkholderia  Campylobacter  Chlamydia  Clostridium  \\\n",
       "patient                                                                  \n",
       "HTMCP-03-06-02001          1521            270          0            0   \n",
       "HTMCP-03-06-02002            19            464          0            1   \n",
       "\n",
       "                   Escherichia_coli  Bacteriodes  other_bacteria  \\\n",
       "patient                                                            \n",
       "HTMCP-03-06-02001              1276           28            4192   \n",
       "HTMCP-03-06-02002              2655           64            4462   \n",
       "\n",
       "                   Fusobacterium_nucleatum  Helicobacter_pylori  Klebsiella  \\\n",
       "patient                                                                       \n",
       "HTMCP-03-06-02001                        0                 1358         148   \n",
       "HTMCP-03-06-02002                        0                    1         423   \n",
       "\n",
       "                     ...      Human_papillomavirus  \\\n",
       "patient              ...                             \n",
       "HTMCP-03-06-02001    ...                     33698   \n",
       "HTMCP-03-06-02002    ...                         0   \n",
       "\n",
       "                   Human_T_lymphotropic_virus  other_viruses  Polyomaviruses  \\\n",
       "patient                                                                        \n",
       "HTMCP-03-06-02001                           0           3145              15   \n",
       "HTMCP-03-06-02002                           0           3085              24   \n",
       "\n",
       "                   Rotaviruses  Sphingomonas     total       microbes  \\\n",
       "patient                                                                 \n",
       "HTMCP-03-06-02001            0             5   8500929  618621.800041   \n",
       "HTMCP-03-06-02002            0             7  10141960  630000.907122   \n",
       "\n",
       "                        hiv  mutations  \n",
       "patient                                 \n",
       "HTMCP-03-06-02001  Positive        247  \n",
       "HTMCP-03-06-02002  Negative        180  \n",
       "\n",
       "[2 rows x 50 columns]"
      ]
     },
     "execution_count": 351,
     "metadata": {},
     "output_type": "execute_result"
    }
   ],
   "source": [
    "micro_merged = pd.merge(df_rna, df_all_patients,left_index=True, right_index=True, how='outer')\n",
    "micro_merged.head(2)"
   ]
  },
  {
   "cell_type": "code",
   "execution_count": 354,
   "metadata": {
    "collapsed": false
   },
   "outputs": [
    {
     "data": {
      "text/html": [
       "<div>\n",
       "<table border=\"1\" class=\"dataframe\">\n",
       "  <thead>\n",
       "    <tr style=\"text-align: right;\">\n",
       "      <th></th>\n",
       "      <th>Burkholderia</th>\n",
       "      <th>Campylobacter</th>\n",
       "      <th>Chlamydia</th>\n",
       "      <th>Clostridium</th>\n",
       "      <th>Escherichia_coli</th>\n",
       "      <th>Bacteriodes</th>\n",
       "      <th>other_bacteria</th>\n",
       "      <th>Fusobacterium_nucleatum</th>\n",
       "      <th>Helicobacter_pylori</th>\n",
       "      <th>Klebsiella</th>\n",
       "      <th>...</th>\n",
       "      <th>Human_papillomavirus</th>\n",
       "      <th>Human_T_lymphotropic_virus</th>\n",
       "      <th>other_viruses</th>\n",
       "      <th>Polyomaviruses</th>\n",
       "      <th>Rotaviruses</th>\n",
       "      <th>Sphingomonas</th>\n",
       "      <th>total</th>\n",
       "      <th>microbes</th>\n",
       "      <th>hiv</th>\n",
       "      <th>mutations</th>\n",
       "    </tr>\n",
       "    <tr>\n",
       "      <th>patient</th>\n",
       "      <th></th>\n",
       "      <th></th>\n",
       "      <th></th>\n",
       "      <th></th>\n",
       "      <th></th>\n",
       "      <th></th>\n",
       "      <th></th>\n",
       "      <th></th>\n",
       "      <th></th>\n",
       "      <th></th>\n",
       "      <th></th>\n",
       "      <th></th>\n",
       "      <th></th>\n",
       "      <th></th>\n",
       "      <th></th>\n",
       "      <th></th>\n",
       "      <th></th>\n",
       "      <th></th>\n",
       "      <th></th>\n",
       "      <th></th>\n",
       "      <th></th>\n",
       "    </tr>\n",
       "  </thead>\n",
       "  <tbody>\n",
       "    <tr>\n",
       "      <th>HTMCP-03-06-02002</th>\n",
       "      <td>19</td>\n",
       "      <td>464</td>\n",
       "      <td>0</td>\n",
       "      <td>1</td>\n",
       "      <td>2655</td>\n",
       "      <td>64</td>\n",
       "      <td>4462</td>\n",
       "      <td>0</td>\n",
       "      <td>1</td>\n",
       "      <td>423</td>\n",
       "      <td>...</td>\n",
       "      <td>0</td>\n",
       "      <td>0</td>\n",
       "      <td>3085</td>\n",
       "      <td>24</td>\n",
       "      <td>0</td>\n",
       "      <td>7</td>\n",
       "      <td>10141960</td>\n",
       "      <td>630000.907122</td>\n",
       "      <td>Negative</td>\n",
       "      <td>180</td>\n",
       "    </tr>\n",
       "    <tr>\n",
       "      <th>HTMCP-03-06-02006</th>\n",
       "      <td>10</td>\n",
       "      <td>654</td>\n",
       "      <td>0</td>\n",
       "      <td>41</td>\n",
       "      <td>1723</td>\n",
       "      <td>266</td>\n",
       "      <td>3627</td>\n",
       "      <td>0</td>\n",
       "      <td>4</td>\n",
       "      <td>188</td>\n",
       "      <td>...</td>\n",
       "      <td>1</td>\n",
       "      <td>0</td>\n",
       "      <td>2202</td>\n",
       "      <td>11</td>\n",
       "      <td>0</td>\n",
       "      <td>8</td>\n",
       "      <td>8463835</td>\n",
       "      <td>620951.377242</td>\n",
       "      <td>Negative</td>\n",
       "      <td>207</td>\n",
       "    </tr>\n",
       "    <tr>\n",
       "      <th>HTMCP-03-06-02007</th>\n",
       "      <td>19</td>\n",
       "      <td>1237</td>\n",
       "      <td>0</td>\n",
       "      <td>47</td>\n",
       "      <td>3244</td>\n",
       "      <td>152</td>\n",
       "      <td>6660</td>\n",
       "      <td>64</td>\n",
       "      <td>7</td>\n",
       "      <td>332</td>\n",
       "      <td>...</td>\n",
       "      <td>1</td>\n",
       "      <td>0</td>\n",
       "      <td>4243</td>\n",
       "      <td>28</td>\n",
       "      <td>0</td>\n",
       "      <td>22</td>\n",
       "      <td>10879606</td>\n",
       "      <td>633713.389989</td>\n",
       "      <td>Negative</td>\n",
       "      <td>8568</td>\n",
       "    </tr>\n",
       "    <tr>\n",
       "      <th>HTMCP-03-06-02008</th>\n",
       "      <td>22</td>\n",
       "      <td>637</td>\n",
       "      <td>0</td>\n",
       "      <td>14</td>\n",
       "      <td>2268</td>\n",
       "      <td>651</td>\n",
       "      <td>4742</td>\n",
       "      <td>496</td>\n",
       "      <td>12</td>\n",
       "      <td>274</td>\n",
       "      <td>...</td>\n",
       "      <td>18497</td>\n",
       "      <td>0</td>\n",
       "      <td>2880</td>\n",
       "      <td>23</td>\n",
       "      <td>0</td>\n",
       "      <td>15</td>\n",
       "      <td>9610241</td>\n",
       "      <td>574267.076133</td>\n",
       "      <td>Negative</td>\n",
       "      <td>91</td>\n",
       "    </tr>\n",
       "    <tr>\n",
       "      <th>HTMCP-03-06-02012</th>\n",
       "      <td>25</td>\n",
       "      <td>459</td>\n",
       "      <td>0</td>\n",
       "      <td>0</td>\n",
       "      <td>2166</td>\n",
       "      <td>59</td>\n",
       "      <td>3805</td>\n",
       "      <td>0</td>\n",
       "      <td>1</td>\n",
       "      <td>295</td>\n",
       "      <td>...</td>\n",
       "      <td>252</td>\n",
       "      <td>0</td>\n",
       "      <td>2618</td>\n",
       "      <td>30</td>\n",
       "      <td>0</td>\n",
       "      <td>15</td>\n",
       "      <td>10571672</td>\n",
       "      <td>592576.179057</td>\n",
       "      <td>Negative</td>\n",
       "      <td>365</td>\n",
       "    </tr>\n",
       "  </tbody>\n",
       "</table>\n",
       "<p>5 rows × 50 columns</p>\n",
       "</div>"
      ],
      "text/plain": [
       "                   Burkholderia  Campylobacter  Chlamydia  Clostridium  \\\n",
       "patient                                                                  \n",
       "HTMCP-03-06-02002            19            464          0            1   \n",
       "HTMCP-03-06-02006            10            654          0           41   \n",
       "HTMCP-03-06-02007            19           1237          0           47   \n",
       "HTMCP-03-06-02008            22            637          0           14   \n",
       "HTMCP-03-06-02012            25            459          0            0   \n",
       "\n",
       "                   Escherichia_coli  Bacteriodes  other_bacteria  \\\n",
       "patient                                                            \n",
       "HTMCP-03-06-02002              2655           64            4462   \n",
       "HTMCP-03-06-02006              1723          266            3627   \n",
       "HTMCP-03-06-02007              3244          152            6660   \n",
       "HTMCP-03-06-02008              2268          651            4742   \n",
       "HTMCP-03-06-02012              2166           59            3805   \n",
       "\n",
       "                   Fusobacterium_nucleatum  Helicobacter_pylori  Klebsiella  \\\n",
       "patient                                                                       \n",
       "HTMCP-03-06-02002                        0                    1         423   \n",
       "HTMCP-03-06-02006                        0                    4         188   \n",
       "HTMCP-03-06-02007                       64                    7         332   \n",
       "HTMCP-03-06-02008                      496                   12         274   \n",
       "HTMCP-03-06-02012                        0                    1         295   \n",
       "\n",
       "                     ...      Human_papillomavirus  \\\n",
       "patient              ...                             \n",
       "HTMCP-03-06-02002    ...                         0   \n",
       "HTMCP-03-06-02006    ...                         1   \n",
       "HTMCP-03-06-02007    ...                         1   \n",
       "HTMCP-03-06-02008    ...                     18497   \n",
       "HTMCP-03-06-02012    ...                       252   \n",
       "\n",
       "                   Human_T_lymphotropic_virus  other_viruses  Polyomaviruses  \\\n",
       "patient                                                                        \n",
       "HTMCP-03-06-02002                           0           3085              24   \n",
       "HTMCP-03-06-02006                           0           2202              11   \n",
       "HTMCP-03-06-02007                           0           4243              28   \n",
       "HTMCP-03-06-02008                           0           2880              23   \n",
       "HTMCP-03-06-02012                           0           2618              30   \n",
       "\n",
       "                   Rotaviruses  Sphingomonas     total       microbes  \\\n",
       "patient                                                                 \n",
       "HTMCP-03-06-02002            0             7  10141960  630000.907122   \n",
       "HTMCP-03-06-02006            0             8   8463835  620951.377242   \n",
       "HTMCP-03-06-02007            0            22  10879606  633713.389989   \n",
       "HTMCP-03-06-02008            0            15   9610241  574267.076133   \n",
       "HTMCP-03-06-02012            0            15  10571672  592576.179057   \n",
       "\n",
       "                        hiv  mutations  \n",
       "patient                                 \n",
       "HTMCP-03-06-02002  Negative        180  \n",
       "HTMCP-03-06-02006  Negative        207  \n",
       "HTMCP-03-06-02007  Negative       8568  \n",
       "HTMCP-03-06-02008  Negative         91  \n",
       "HTMCP-03-06-02012  Negative        365  \n",
       "\n",
       "[5 rows x 50 columns]"
      ]
     },
     "execution_count": 354,
     "metadata": {},
     "output_type": "execute_result"
    }
   ],
   "source": [
    "# statistical test \n",
    "Negative = micro_merged[(micro_merged['hiv']=='Negative')]\n",
    "Positive = micro_merged[micro_merged['hiv']=='Positive']\n",
    "Negative.head()"
   ]
  },
  {
   "cell_type": "code",
   "execution_count": 355,
   "metadata": {
    "collapsed": false
   },
   "outputs": [
    {
     "data": {
      "text/html": [
       "<div>\n",
       "<table border=\"1\" class=\"dataframe\">\n",
       "  <thead>\n",
       "    <tr style=\"text-align: right;\">\n",
       "      <th></th>\n",
       "      <th>Burkholderia</th>\n",
       "      <th>Campylobacter</th>\n",
       "      <th>Chlamydia</th>\n",
       "      <th>Clostridium</th>\n",
       "      <th>Escherichia_coli</th>\n",
       "      <th>Bacteriodes</th>\n",
       "      <th>other_bacteria</th>\n",
       "      <th>Fusobacterium_nucleatum</th>\n",
       "      <th>Helicobacter_pylori</th>\n",
       "      <th>Klebsiella</th>\n",
       "      <th>...</th>\n",
       "      <th>Human_papillomavirus</th>\n",
       "      <th>Human_T_lymphotropic_virus</th>\n",
       "      <th>other_viruses</th>\n",
       "      <th>Polyomaviruses</th>\n",
       "      <th>Rotaviruses</th>\n",
       "      <th>Sphingomonas</th>\n",
       "      <th>total</th>\n",
       "      <th>microbes</th>\n",
       "      <th>hiv</th>\n",
       "      <th>mutations</th>\n",
       "    </tr>\n",
       "    <tr>\n",
       "      <th>patient</th>\n",
       "      <th></th>\n",
       "      <th></th>\n",
       "      <th></th>\n",
       "      <th></th>\n",
       "      <th></th>\n",
       "      <th></th>\n",
       "      <th></th>\n",
       "      <th></th>\n",
       "      <th></th>\n",
       "      <th></th>\n",
       "      <th></th>\n",
       "      <th></th>\n",
       "      <th></th>\n",
       "      <th></th>\n",
       "      <th></th>\n",
       "      <th></th>\n",
       "      <th></th>\n",
       "      <th></th>\n",
       "      <th></th>\n",
       "      <th></th>\n",
       "      <th></th>\n",
       "    </tr>\n",
       "  </thead>\n",
       "  <tbody>\n",
       "    <tr>\n",
       "      <th>HTMCP-03-06-02001</th>\n",
       "      <td>1521</td>\n",
       "      <td>270</td>\n",
       "      <td>0</td>\n",
       "      <td>0</td>\n",
       "      <td>1276</td>\n",
       "      <td>28</td>\n",
       "      <td>4192</td>\n",
       "      <td>0</td>\n",
       "      <td>1358</td>\n",
       "      <td>148</td>\n",
       "      <td>...</td>\n",
       "      <td>33698</td>\n",
       "      <td>0</td>\n",
       "      <td>3145</td>\n",
       "      <td>15</td>\n",
       "      <td>0</td>\n",
       "      <td>5</td>\n",
       "      <td>8500929</td>\n",
       "      <td>618621.800041</td>\n",
       "      <td>Positive</td>\n",
       "      <td>247</td>\n",
       "    </tr>\n",
       "    <tr>\n",
       "      <th>HTMCP-03-06-02003</th>\n",
       "      <td>22</td>\n",
       "      <td>311</td>\n",
       "      <td>0</td>\n",
       "      <td>101</td>\n",
       "      <td>1636</td>\n",
       "      <td>222</td>\n",
       "      <td>3723</td>\n",
       "      <td>2</td>\n",
       "      <td>11</td>\n",
       "      <td>238</td>\n",
       "      <td>...</td>\n",
       "      <td>12921</td>\n",
       "      <td>0</td>\n",
       "      <td>1926</td>\n",
       "      <td>14</td>\n",
       "      <td>0</td>\n",
       "      <td>9</td>\n",
       "      <td>8176449</td>\n",
       "      <td>608350.519890</td>\n",
       "      <td>Positive</td>\n",
       "      <td>86</td>\n",
       "    </tr>\n",
       "    <tr>\n",
       "      <th>HTMCP-03-06-02020</th>\n",
       "      <td>13</td>\n",
       "      <td>1183</td>\n",
       "      <td>0</td>\n",
       "      <td>3</td>\n",
       "      <td>2174</td>\n",
       "      <td>67</td>\n",
       "      <td>4736</td>\n",
       "      <td>0</td>\n",
       "      <td>1</td>\n",
       "      <td>184</td>\n",
       "      <td>...</td>\n",
       "      <td>3</td>\n",
       "      <td>0</td>\n",
       "      <td>3210</td>\n",
       "      <td>6</td>\n",
       "      <td>0</td>\n",
       "      <td>11</td>\n",
       "      <td>10134000</td>\n",
       "      <td>658450.858496</td>\n",
       "      <td>Positive</td>\n",
       "      <td>170</td>\n",
       "    </tr>\n",
       "    <tr>\n",
       "      <th>HTMCP-03-06-02054</th>\n",
       "      <td>11</td>\n",
       "      <td>1042</td>\n",
       "      <td>0</td>\n",
       "      <td>82</td>\n",
       "      <td>2037</td>\n",
       "      <td>435</td>\n",
       "      <td>4513</td>\n",
       "      <td>1</td>\n",
       "      <td>2</td>\n",
       "      <td>162</td>\n",
       "      <td>...</td>\n",
       "      <td>2</td>\n",
       "      <td>0</td>\n",
       "      <td>2985</td>\n",
       "      <td>7</td>\n",
       "      <td>0</td>\n",
       "      <td>8</td>\n",
       "      <td>7786474</td>\n",
       "      <td>648264.927103</td>\n",
       "      <td>Positive</td>\n",
       "      <td>178</td>\n",
       "    </tr>\n",
       "    <tr>\n",
       "      <th>HTMCP-03-06-02057</th>\n",
       "      <td>16</td>\n",
       "      <td>1351</td>\n",
       "      <td>1</td>\n",
       "      <td>94</td>\n",
       "      <td>2588</td>\n",
       "      <td>114</td>\n",
       "      <td>9485</td>\n",
       "      <td>28</td>\n",
       "      <td>6</td>\n",
       "      <td>162</td>\n",
       "      <td>...</td>\n",
       "      <td>2</td>\n",
       "      <td>0</td>\n",
       "      <td>4149</td>\n",
       "      <td>14</td>\n",
       "      <td>0</td>\n",
       "      <td>15</td>\n",
       "      <td>7388190</td>\n",
       "      <td>583647.280322</td>\n",
       "      <td>Positive</td>\n",
       "      <td>76</td>\n",
       "    </tr>\n",
       "  </tbody>\n",
       "</table>\n",
       "<p>5 rows × 50 columns</p>\n",
       "</div>"
      ],
      "text/plain": [
       "                   Burkholderia  Campylobacter  Chlamydia  Clostridium  \\\n",
       "patient                                                                  \n",
       "HTMCP-03-06-02001          1521            270          0            0   \n",
       "HTMCP-03-06-02003            22            311          0          101   \n",
       "HTMCP-03-06-02020            13           1183          0            3   \n",
       "HTMCP-03-06-02054            11           1042          0           82   \n",
       "HTMCP-03-06-02057            16           1351          1           94   \n",
       "\n",
       "                   Escherichia_coli  Bacteriodes  other_bacteria  \\\n",
       "patient                                                            \n",
       "HTMCP-03-06-02001              1276           28            4192   \n",
       "HTMCP-03-06-02003              1636          222            3723   \n",
       "HTMCP-03-06-02020              2174           67            4736   \n",
       "HTMCP-03-06-02054              2037          435            4513   \n",
       "HTMCP-03-06-02057              2588          114            9485   \n",
       "\n",
       "                   Fusobacterium_nucleatum  Helicobacter_pylori  Klebsiella  \\\n",
       "patient                                                                       \n",
       "HTMCP-03-06-02001                        0                 1358         148   \n",
       "HTMCP-03-06-02003                        2                   11         238   \n",
       "HTMCP-03-06-02020                        0                    1         184   \n",
       "HTMCP-03-06-02054                        1                    2         162   \n",
       "HTMCP-03-06-02057                       28                    6         162   \n",
       "\n",
       "                     ...      Human_papillomavirus  \\\n",
       "patient              ...                             \n",
       "HTMCP-03-06-02001    ...                     33698   \n",
       "HTMCP-03-06-02003    ...                     12921   \n",
       "HTMCP-03-06-02020    ...                         3   \n",
       "HTMCP-03-06-02054    ...                         2   \n",
       "HTMCP-03-06-02057    ...                         2   \n",
       "\n",
       "                   Human_T_lymphotropic_virus  other_viruses  Polyomaviruses  \\\n",
       "patient                                                                        \n",
       "HTMCP-03-06-02001                           0           3145              15   \n",
       "HTMCP-03-06-02003                           0           1926              14   \n",
       "HTMCP-03-06-02020                           0           3210               6   \n",
       "HTMCP-03-06-02054                           0           2985               7   \n",
       "HTMCP-03-06-02057                           0           4149              14   \n",
       "\n",
       "                   Rotaviruses  Sphingomonas     total       microbes  \\\n",
       "patient                                                                 \n",
       "HTMCP-03-06-02001            0             5   8500929  618621.800041   \n",
       "HTMCP-03-06-02003            0             9   8176449  608350.519890   \n",
       "HTMCP-03-06-02020            0            11  10134000  658450.858496   \n",
       "HTMCP-03-06-02054            0             8   7786474  648264.927103   \n",
       "HTMCP-03-06-02057            0            15   7388190  583647.280322   \n",
       "\n",
       "                        hiv  mutations  \n",
       "patient                                 \n",
       "HTMCP-03-06-02001  Positive        247  \n",
       "HTMCP-03-06-02003  Positive         86  \n",
       "HTMCP-03-06-02020  Positive        170  \n",
       "HTMCP-03-06-02054  Positive        178  \n",
       "HTMCP-03-06-02057  Positive         76  \n",
       "\n",
       "[5 rows x 50 columns]"
      ]
     },
     "execution_count": 355,
     "metadata": {},
     "output_type": "execute_result"
    }
   ],
   "source": [
    "Positive.head()"
   ]
  },
  {
   "cell_type": "code",
   "execution_count": 357,
   "metadata": {
    "collapsed": false
   },
   "outputs": [
    {
     "data": {
      "text/plain": [
       "MannwhitneyuResult(statistic=670.0, pvalue=0.059392789042685072)"
      ]
     },
     "execution_count": 357,
     "metadata": {},
     "output_type": "execute_result"
    }
   ],
   "source": [
    "# tie corrected Mann Whitney U test,\n",
    "# ss.mannwhitneyu(Negative['total_mutation'], Positive['total_mutation'], use_continuity=True, alternative=None)\n",
    "ss.mannwhitneyu(Negative['microbes'], Positive['microbes'], use_continuity=True, alternative=None)"
   ]
  },
  {
   "cell_type": "code",
   "execution_count": 358,
   "metadata": {
    "collapsed": false
   },
   "outputs": [
    {
     "data": {
      "text/plain": [
       "<matplotlib.collections.PathCollection at 0x7f20fe3fccd0>"
      ]
     },
     "execution_count": 358,
     "metadata": {},
     "output_type": "execute_result"
    },
    {
     "data": {
      "image/png": "[encoded data removed]",
      "text/plain": [
       "<matplotlib.figure.Figure at 0x7f20fe455090>"
      ]
     },
     "metadata": {},
     "output_type": "display_data"
    }
   ],
   "source": [
    "\n",
    "micro_merged['log_RPM']= np.log10(micro_merged['microbes']+1)\n",
    "micro_merged['log_mutations'] =np.log10(micro_merged['total']+1)\n",
    "# micro_merged['log_mutations'] =np.log10(micro_merged['mutations']+1)\n",
    "\n",
    "colors = ['red' if i==\"Positive\" else 'blue' for i in micro_merged['hiv']]\n",
    "fig = plt.figure()\n",
    "ax = plt.subplot(111)\n",
    "# plt.scatter(micro_merged['genome_load'], micro_merged['total_mutation'], c=colors, alpha=1)\n",
    "plt.scatter(micro_merged['log_RPM'], micro_merged['log_mutations'], c=colors, alpha=1)\n",
    "# ax.set_ylim(0,500)\n",
    "# micro_merged.plot('genome_load', 'total_mutation', kind='scatter')"
   ]
  },
  {
   "cell_type": "code",
   "execution_count": null,
   "metadata": {
    "collapsed": true
   },
   "outputs": [],
   "source": []
  },
  {
   "cell_type": "code",
   "execution_count": null,
   "metadata": {
    "collapsed": true
   },
   "outputs": [],
   "source": []
  },
  {
   "cell_type": "markdown",
   "metadata": {},
   "source": [
    "# figure out number of indels"
   ]
  },
  {
   "cell_type": "code",
   "execution_count": 489,
   "metadata": {
    "collapsed": false
   },
   "outputs": [
    {
     "name": "stdout",
     "output_type": "stream",
     "text": [
      "Positive\n",
      "Negative\n"
     ]
    },
    {
     "data": {
      "text/plain": [
       "<matplotlib.figure.Figure at 0x7f20fc414150>"
      ]
     },
     "metadata": {},
     "output_type": "display_data"
    },
    {
     "data": {
      "image/png": "[encoded data removed]",
      "text/plain": [
       "<matplotlib.figure.Figure at 0x7f20fd58a910>"
      ]
     },
     "metadata": {},
     "output_type": "display_data"
    }
   ],
   "source": [
    "df_indels = pd.read_csv('')\n",
    "# df_indels = pd.read_csv('/projects/trans_scratch/validations/workspace/szong/Cervical/variant_bwamem/82_patients/high_moderate_INDEL_summary_with_normal_strelka_calls_only.txt', sep='\\t')\n",
    "with open('number_of_strelka_indels.txt', 'wb') as fh:\n",
    "    counts = df_indels['patient_ID'].value_counts()\n",
    "#     print counts\n",
    "    for i in range(len(counts)):\n",
    "        print >>fh, counts.index[i], counts[i]\n",
    "#         print >>fh, i\n",
    "# for name, group in df_indels.groupby('patient_ID'):\n",
    "#     print name, group['gene'].value_counts()\n",
    "\n",
    "# get number of snvs\n",
    "df_all_patients = pd.read_csv('/projects/trans_scratch/validations/workspace/szong/Cervical/variant_bwamem/82_patients/num_mutations.csv',\n",
    "                             sep='\\t')\n",
    "\n",
    "df_all_patients.head()\n",
    "\n",
    "# get number of indels\n",
    "df_indel_counts = pd.read_csv('/projects/trans_scratch/validations/workspace/szong/Cervical/variant_bwamem/82_patients/number_of_strelka_indels_new.txt', \n",
    "                              sep='\\t')\n",
    "\n",
    "df_indel_counts.head()\n",
    "\n",
    "\n",
    "# merge snv and indels counts\n",
    "merged = pd.merge(df_all_patients, df_indel_counts, how='outer')\n",
    "\n",
    "merged.head()\n",
    "\n",
    "merged.fillna(0, inplace=True)\n",
    "merged['total_mutation']= merged.sum(axis=1)\n",
    "merged.head()\n",
    "merged['log_mutations'] = np.log10(merged['total_mutation'])\n",
    "merged.head()\n",
    "\n",
    "# df.hiv.unique()\n",
    "\n",
    "df = merged\n",
    "\n",
    "# boxplot by groups for mutations\n",
    "# ax = df.boxplot(column='log_mutations', by='hiv', grid=False)\n",
    "# specify box width with a tuble depending on the number of categories\n",
    "fig = plt.figure()\n",
    "group_col = 'hiv'\n",
    "value_col = 'log_mutations'\n",
    "ax = df.boxplot(column=value_col, by=group_col, showfliers=False, widths=(0.6,0.6), figsize=(5,5))\n",
    "plt.title('') # this removes the column as subtitle of the plot\n",
    "fig =ax.get_figure()\n",
    "# fig.suptitle('')\n",
    "\n",
    "# overlay actuall data points\n",
    "categories = df[group_col].unique().tolist()\n",
    "for category in categories:\n",
    "    y = df[value_col][df[group_col]==category]\n",
    "#     i = categories.index(category) + 1\n",
    "    print category\n",
    "    if category == 'Positive':\n",
    "        i = 2\n",
    "    elif category == 'Negative':\n",
    "        i = 1\n",
    "    # add jitter and specify maker facecolor and edgecolor\n",
    "    x = np.random.normal(i, 0.1, size=len(y))\n",
    "    plt.plot(x, y, 'o', markerfacecolor='white',markeredgecolor='red', markersize=7, alpha=0.8)\n",
    "\n",
    "# ax.set_ylim(0,0.1)\n",
    "ax.set_axis_bgcolor('whitesmoke') #specify plot backgroup color\n",
    "ax.tick_params(axis='x', labelsize=14) #specify x tick label size\n",
    "plt.xlabel(\"HIV status\", fontsize=14) \n",
    "plt.ylabel('number of mutations (log10)', fontsize=14)\n",
    "plt.suptitle('Mutation load between HIV positive and negative patients', fontsize=14)  # get rid of the automatically generated title\n",
    "\n",
    "# increase resolution\n",
    "plt.savefig('mutation_load_and_HIV_status.png', dpi=200)\n",
    "# plt.savefig('lele.png', dpi=200)"
   ]
  },
  {
   "cell_type": "code",
   "execution_count": null,
   "metadata": {
    "collapsed": true
   },
   "outputs": [],
   "source": []
  },
  {
   "cell_type": "code",
   "execution_count": 481,
   "metadata": {
    "collapsed": false
   },
   "outputs": [
    {
     "name": "stdout",
     "output_type": "stream",
     "text": [
      "/projects/trans_scratch/validations/workspace/szong/Cervical/variant_bwamem/82_patients\r\n"
     ]
    }
   ],
   "source": [
    "!pwd\n"
   ]
  },
  {
   "cell_type": "code",
   "execution_count": 379,
   "metadata": {
    "collapsed": false
   },
   "outputs": [
    {
     "data": {
      "text/plain": [
       "MannwhitneyuResult(statistic=546.5, pvalue=0.0033961221063484562)"
      ]
     },
     "execution_count": 379,
     "metadata": {},
     "output_type": "execute_result"
    }
   ],
   "source": [
    "# statistical test \n",
    "Negative = merged[(merged['hiv']=='Negative')]\n",
    "Positive = merged[merged['hiv']=='Positive']\n",
    "# tie corrected Mann Whitney U test,\n",
    "ss.mannwhitneyu(Negative['total_mutation'], Positive['total_mutation'], use_continuity=True, alternative=None)\n",
    "# ss.mannwhitneyu(Negative['log_RPM'], Positive['log_RPM'], use_continuity=True, alternative=None)"
   ]
  },
  {
   "cell_type": "code",
   "execution_count": 381,
   "metadata": {
    "collapsed": false
   },
   "outputs": [
    {
     "data": {
      "text/plain": [
       "array(['Positive', 'Negative'], dtype=object)"
      ]
     },
     "execution_count": 381,
     "metadata": {},
     "output_type": "execute_result"
    }
   ],
   "source": [
    "merged.hiv.unique()"
   ]
  },
  {
   "cell_type": "code",
   "execution_count": 287,
   "metadata": {
    "collapsed": true
   },
   "outputs": [],
   "source": [
    "# read in genome microbial load\n",
    "# G_load = pd.read_csv('/projects/trans_scratch/validations/workspace/szong/Cervical/variant_bwamem/82_patients/microbial_load_genome.txt',\n",
    "#                     sep='\\t')\n",
    "\n",
    "G_load = pd.read_csv('/projects/trans_scratch/validations/workspace/szong/Cervical/variant_bwamem/82_patients/microbial_load_transcriptome.txt',\n",
    "                    sep='\\t')\n"
   ]
  },
  {
   "cell_type": "code",
   "execution_count": null,
   "metadata": {
    "collapsed": true
   },
   "outputs": [],
   "source": [
    "G_load.head()\n",
    "# merge microbial load and mutation load\n",
    "merged = pd.merge(merged, G_load, how='outer')\n",
    "merged['log_RPM']= np.log10(merged['genome_load']*10000+1)\n",
    "merged['log_mutations'] =np.log10(merged['total_mutation']+1)\n",
    "# merged['log_mutations'] =np.log10(merged['mutations']+1)\n",
    "\n",
    "colors = ['red' if i==\"Positive\" else 'blue' for i in merged['hiv']]\n",
    "fig = plt.figure()\n",
    "ax = plt.subplot(111)\n",
    "# plt.scatter(merged['genome_load'], merged['total_mutation'], c=colors, alpha=1)\n",
    "plt.scatter(merged['log_RPM'], merged['log_mutations'], c=colors, alpha=1)\n",
    "# ax.set_ylim(0,500)\n",
    "# merged.plot('genome_load', 'total_mutation', kind='scatter')"
   ]
  },
  {
   "cell_type": "code",
   "execution_count": 237,
   "metadata": {
    "collapsed": false
   },
   "outputs": [],
   "source": [
    "# merged"
   ]
  },
  {
   "cell_type": "code",
   "execution_count": 290,
   "metadata": {
    "collapsed": false
   },
   "outputs": [
    {
     "data": {
      "text/plain": [
       "MannwhitneyuResult(statistic=578.0, pvalue=0.3792646742164163)"
      ]
     },
     "execution_count": 290,
     "metadata": {},
     "output_type": "execute_result"
    }
   ],
   "source": [
    "# statistical test \n",
    "Negative = merged[(merged['HIV_status']=='Negative')]\n",
    "Positive = merged[merged['HIV_status']=='Positive']\n",
    "# tie corrected Mann Whitney U test,\n",
    "ss.mannwhitneyu(Negative['total_mutation'], Positive['total_mutation'], use_continuity=True, alternative=None)\n",
    "# ss.mannwhitneyu(Negative['log_RPM'], Positive['log_RPM'], use_continuity=True, alternative=None)"
   ]
  },
  {
   "cell_type": "code",
   "execution_count": 230,
   "metadata": {
    "collapsed": false
   },
   "outputs": [
    {
     "data": {
      "text/plain": [
       "1     180\n",
       "3     207\n",
       "4    8568\n",
       "5      91\n",
       "6     365\n",
       "Name: mutations, dtype: int64"
      ]
     },
     "execution_count": 230,
     "metadata": {},
     "output_type": "execute_result"
    }
   ],
   "source": [
    "Negative['mutations'].head()"
   ]
  },
  {
   "cell_type": "code",
   "execution_count": 164,
   "metadata": {
    "collapsed": false
   },
   "outputs": [
    {
     "data": {
      "text/plain": [
       "'HTMCP-03-06-02007_malignant'"
      ]
     },
     "execution_count": 164,
     "metadata": {},
     "output_type": "execute_result"
    }
   ],
   "source": [
    "df_indels['patient_ID'].value_counts().index[0]"
   ]
  },
  {
   "cell_type": "code",
   "execution_count": 101,
   "metadata": {
    "collapsed": false
   },
   "outputs": [],
   "source": [
    "# df = pd.read_csv('/projects/trans_scratch/validations/workspace/szong/Cervical/variant_bwamem/82_patients/num_mutations.csv', sep='\\t')\n",
    "# df['point'] = np.random.rand(len(df))\n",
    "# df.head()\n",
    "# colors = [1 if i==\"Positive\" else 2 for i in df['hiv']]\n",
    "# fig = plt.figure()\n",
    "# ax = plt.subplot(111)\n",
    "# plt.scatter(df['point'], df['mutations'], c=colors, alpha=1)\n",
    "# ax.set_ylim(0,500)\n",
    "# # t test \n",
    "# Negative = df[df.hiv=='Negative']\n",
    "# Positive = df[df.hiv=='Positive']\n",
    "# ttest_ind(Negative['mutations'], Positive['mutations'])"
   ]
  },
  {
   "cell_type": "code",
   "execution_count": 129,
   "metadata": {
    "collapsed": false
   },
   "outputs": [
    {
     "data": {
      "text/html": [
       "<div>\n",
       "<table border=\"1\" class=\"dataframe\">\n",
       "  <thead>\n",
       "    <tr style=\"text-align: right;\">\n",
       "      <th></th>\n",
       "      <th>mutations</th>\n",
       "      <th>HIV_status</th>\n",
       "    </tr>\n",
       "    <tr>\n",
       "      <th>patient</th>\n",
       "      <th></th>\n",
       "      <th></th>\n",
       "    </tr>\n",
       "  </thead>\n",
       "  <tbody>\n",
       "    <tr>\n",
       "      <th>HTMCP-03-06-02001</th>\n",
       "      <td>267</td>\n",
       "      <td>Positive</td>\n",
       "    </tr>\n",
       "    <tr>\n",
       "      <th>HTMCP-03-06-02002</th>\n",
       "      <td>199</td>\n",
       "      <td>Negative</td>\n",
       "    </tr>\n",
       "    <tr>\n",
       "      <th>HTMCP-03-06-02003</th>\n",
       "      <td>91</td>\n",
       "      <td>Positive</td>\n",
       "    </tr>\n",
       "    <tr>\n",
       "      <th>HTMCP-03-06-02006</th>\n",
       "      <td>223</td>\n",
       "      <td>Negative</td>\n",
       "    </tr>\n",
       "    <tr>\n",
       "      <th>HTMCP-03-06-02007</th>\n",
       "      <td>16370</td>\n",
       "      <td>Negative</td>\n",
       "    </tr>\n",
       "    <tr>\n",
       "      <th>HTMCP-03-06-02008</th>\n",
       "      <td>100</td>\n",
       "      <td>Negative</td>\n",
       "    </tr>\n",
       "    <tr>\n",
       "      <th>HTMCP-03-06-02012</th>\n",
       "      <td>389</td>\n",
       "      <td>Negative</td>\n",
       "    </tr>\n",
       "    <tr>\n",
       "      <th>HTMCP-03-06-02013</th>\n",
       "      <td>108</td>\n",
       "      <td>Negative</td>\n",
       "    </tr>\n",
       "    <tr>\n",
       "      <th>HTMCP-03-06-02020</th>\n",
       "      <td>186</td>\n",
       "      <td>Positive</td>\n",
       "    </tr>\n",
       "    <tr>\n",
       "      <th>HTMCP-03-06-02026</th>\n",
       "      <td>6113</td>\n",
       "      <td>Negative</td>\n",
       "    </tr>\n",
       "    <tr>\n",
       "      <th>HTMCP-03-06-02036</th>\n",
       "      <td>89</td>\n",
       "      <td>Negative</td>\n",
       "    </tr>\n",
       "    <tr>\n",
       "      <th>HTMCP-03-06-02037</th>\n",
       "      <td>120</td>\n",
       "      <td>Negative</td>\n",
       "    </tr>\n",
       "    <tr>\n",
       "      <th>HTMCP-03-06-02040</th>\n",
       "      <td>182</td>\n",
       "      <td>Negative</td>\n",
       "    </tr>\n",
       "    <tr>\n",
       "      <th>HTMCP-03-06-02042</th>\n",
       "      <td>306</td>\n",
       "      <td>Negative</td>\n",
       "    </tr>\n",
       "    <tr>\n",
       "      <th>HTMCP-03-06-02046</th>\n",
       "      <td>45</td>\n",
       "      <td>Negative</td>\n",
       "    </tr>\n",
       "    <tr>\n",
       "      <th>HTMCP-03-06-02047</th>\n",
       "      <td>95</td>\n",
       "      <td>Negative</td>\n",
       "    </tr>\n",
       "    <tr>\n",
       "      <th>HTMCP-03-06-02054</th>\n",
       "      <td>181</td>\n",
       "      <td>Positive</td>\n",
       "    </tr>\n",
       "    <tr>\n",
       "      <th>HTMCP-03-06-02057</th>\n",
       "      <td>83</td>\n",
       "      <td>Positive</td>\n",
       "    </tr>\n",
       "    <tr>\n",
       "      <th>HTMCP-03-06-02058</th>\n",
       "      <td>1305</td>\n",
       "      <td>Positive</td>\n",
       "    </tr>\n",
       "    <tr>\n",
       "      <th>HTMCP-03-06-02061</th>\n",
       "      <td>313</td>\n",
       "      <td>Negative</td>\n",
       "    </tr>\n",
       "    <tr>\n",
       "      <th>HTMCP-03-06-02063</th>\n",
       "      <td>1695</td>\n",
       "      <td>Negative</td>\n",
       "    </tr>\n",
       "    <tr>\n",
       "      <th>HTMCP-03-06-02068</th>\n",
       "      <td>455</td>\n",
       "      <td>Negative</td>\n",
       "    </tr>\n",
       "    <tr>\n",
       "      <th>HTMCP-03-06-02070</th>\n",
       "      <td>160</td>\n",
       "      <td>Positive</td>\n",
       "    </tr>\n",
       "    <tr>\n",
       "      <th>HTMCP-03-06-02071</th>\n",
       "      <td>72</td>\n",
       "      <td>Positive</td>\n",
       "    </tr>\n",
       "    <tr>\n",
       "      <th>HTMCP-03-06-02074</th>\n",
       "      <td>146</td>\n",
       "      <td>Negative</td>\n",
       "    </tr>\n",
       "    <tr>\n",
       "      <th>HTMCP-03-06-02075</th>\n",
       "      <td>343</td>\n",
       "      <td>Negative</td>\n",
       "    </tr>\n",
       "    <tr>\n",
       "      <th>HTMCP-03-06-02076</th>\n",
       "      <td>155</td>\n",
       "      <td>Positive</td>\n",
       "    </tr>\n",
       "    <tr>\n",
       "      <th>HTMCP-03-06-02085</th>\n",
       "      <td>86</td>\n",
       "      <td>Negative</td>\n",
       "    </tr>\n",
       "    <tr>\n",
       "      <th>HTMCP-03-06-02089</th>\n",
       "      <td>192</td>\n",
       "      <td>Positive</td>\n",
       "    </tr>\n",
       "    <tr>\n",
       "      <th>HTMCP-03-06-02092</th>\n",
       "      <td>126</td>\n",
       "      <td>Negative</td>\n",
       "    </tr>\n",
       "    <tr>\n",
       "      <th>...</th>\n",
       "      <td>...</td>\n",
       "      <td>...</td>\n",
       "    </tr>\n",
       "    <tr>\n",
       "      <th>HTMCP-03-06-02157</th>\n",
       "      <td>209</td>\n",
       "      <td>Negative</td>\n",
       "    </tr>\n",
       "    <tr>\n",
       "      <th>HTMCP-03-06-02170</th>\n",
       "      <td>247</td>\n",
       "      <td>Positive</td>\n",
       "    </tr>\n",
       "    <tr>\n",
       "      <th>HTMCP-03-06-02174</th>\n",
       "      <td>174</td>\n",
       "      <td>Negative</td>\n",
       "    </tr>\n",
       "    <tr>\n",
       "      <th>HTMCP-03-06-02175</th>\n",
       "      <td>229</td>\n",
       "      <td>Negative</td>\n",
       "    </tr>\n",
       "    <tr>\n",
       "      <th>HTMCP-03-06-02176</th>\n",
       "      <td>246</td>\n",
       "      <td>Negative</td>\n",
       "    </tr>\n",
       "    <tr>\n",
       "      <th>HTMCP-03-06-02179</th>\n",
       "      <td>171</td>\n",
       "      <td>Positive</td>\n",
       "    </tr>\n",
       "    <tr>\n",
       "      <th>HTMCP-03-06-02180</th>\n",
       "      <td>161</td>\n",
       "      <td>Negative</td>\n",
       "    </tr>\n",
       "    <tr>\n",
       "      <th>HTMCP-03-06-02185</th>\n",
       "      <td>420</td>\n",
       "      <td>Negative</td>\n",
       "    </tr>\n",
       "    <tr>\n",
       "      <th>HTMCP-03-06-02194</th>\n",
       "      <td>153</td>\n",
       "      <td>Negative</td>\n",
       "    </tr>\n",
       "    <tr>\n",
       "      <th>HTMCP-03-06-02195</th>\n",
       "      <td>41</td>\n",
       "      <td>Positive</td>\n",
       "    </tr>\n",
       "    <tr>\n",
       "      <th>HTMCP-03-06-02196</th>\n",
       "      <td>160</td>\n",
       "      <td>Negative</td>\n",
       "    </tr>\n",
       "    <tr>\n",
       "      <th>HTMCP-03-06-02202</th>\n",
       "      <td>104</td>\n",
       "      <td>Positive</td>\n",
       "    </tr>\n",
       "    <tr>\n",
       "      <th>HTMCP-03-06-02203</th>\n",
       "      <td>347</td>\n",
       "      <td>Negative</td>\n",
       "    </tr>\n",
       "    <tr>\n",
       "      <th>HTMCP-03-06-02204</th>\n",
       "      <td>106</td>\n",
       "      <td>Positive</td>\n",
       "    </tr>\n",
       "    <tr>\n",
       "      <th>HTMCP-03-06-02205</th>\n",
       "      <td>116</td>\n",
       "      <td>Positive</td>\n",
       "    </tr>\n",
       "    <tr>\n",
       "      <th>HTMCP-03-06-02209</th>\n",
       "      <td>163</td>\n",
       "      <td>Negative</td>\n",
       "    </tr>\n",
       "    <tr>\n",
       "      <th>HTMCP-03-06-02210</th>\n",
       "      <td>443</td>\n",
       "      <td>Negative</td>\n",
       "    </tr>\n",
       "    <tr>\n",
       "      <th>HTMCP-03-06-02213</th>\n",
       "      <td>107</td>\n",
       "      <td>Positive</td>\n",
       "    </tr>\n",
       "    <tr>\n",
       "      <th>HTMCP-03-06-02214</th>\n",
       "      <td>1056</td>\n",
       "      <td>Negative</td>\n",
       "    </tr>\n",
       "    <tr>\n",
       "      <th>HTMCP-03-06-02215</th>\n",
       "      <td>224</td>\n",
       "      <td>Negative</td>\n",
       "    </tr>\n",
       "    <tr>\n",
       "      <th>HTMCP-03-06-02216</th>\n",
       "      <td>66</td>\n",
       "      <td>Positive</td>\n",
       "    </tr>\n",
       "    <tr>\n",
       "      <th>HTMCP-03-06-02217</th>\n",
       "      <td>77</td>\n",
       "      <td>Positive</td>\n",
       "    </tr>\n",
       "    <tr>\n",
       "      <th>HTMCP-03-06-02219</th>\n",
       "      <td>213</td>\n",
       "      <td>Positive</td>\n",
       "    </tr>\n",
       "    <tr>\n",
       "      <th>HTMCP-03-06-02225</th>\n",
       "      <td>120</td>\n",
       "      <td>Positive</td>\n",
       "    </tr>\n",
       "    <tr>\n",
       "      <th>HTMCP-03-06-02230</th>\n",
       "      <td>78</td>\n",
       "      <td>Positive</td>\n",
       "    </tr>\n",
       "    <tr>\n",
       "      <th>HTMCP-03-06-02235</th>\n",
       "      <td>73</td>\n",
       "      <td>Positive</td>\n",
       "    </tr>\n",
       "    <tr>\n",
       "      <th>HTMCP-03-06-02238</th>\n",
       "      <td>189</td>\n",
       "      <td>Positive</td>\n",
       "    </tr>\n",
       "    <tr>\n",
       "      <th>HTMCP-03-06-02239</th>\n",
       "      <td>76</td>\n",
       "      <td>Positive</td>\n",
       "    </tr>\n",
       "    <tr>\n",
       "      <th>HTMCP-03-06-02240</th>\n",
       "      <td>176</td>\n",
       "      <td>Positive</td>\n",
       "    </tr>\n",
       "    <tr>\n",
       "      <th>HTMCP-03-06-02242</th>\n",
       "      <td>235</td>\n",
       "      <td>Positive</td>\n",
       "    </tr>\n",
       "  </tbody>\n",
       "</table>\n",
       "<p>82 rows × 2 columns</p>\n",
       "</div>"
      ],
      "text/plain": [
       "                   mutations HIV_status\n",
       "patient                                \n",
       "HTMCP-03-06-02001        267   Positive\n",
       "HTMCP-03-06-02002        199   Negative\n",
       "HTMCP-03-06-02003         91   Positive\n",
       "HTMCP-03-06-02006        223   Negative\n",
       "HTMCP-03-06-02007      16370   Negative\n",
       "HTMCP-03-06-02008        100   Negative\n",
       "HTMCP-03-06-02012        389   Negative\n",
       "HTMCP-03-06-02013        108   Negative\n",
       "HTMCP-03-06-02020        186   Positive\n",
       "HTMCP-03-06-02026       6113   Negative\n",
       "HTMCP-03-06-02036         89   Negative\n",
       "HTMCP-03-06-02037        120   Negative\n",
       "HTMCP-03-06-02040        182   Negative\n",
       "HTMCP-03-06-02042        306   Negative\n",
       "HTMCP-03-06-02046         45   Negative\n",
       "HTMCP-03-06-02047         95   Negative\n",
       "HTMCP-03-06-02054        181   Positive\n",
       "HTMCP-03-06-02057         83   Positive\n",
       "HTMCP-03-06-02058       1305   Positive\n",
       "HTMCP-03-06-02061        313   Negative\n",
       "HTMCP-03-06-02063       1695   Negative\n",
       "HTMCP-03-06-02068        455   Negative\n",
       "HTMCP-03-06-02070        160   Positive\n",
       "HTMCP-03-06-02071         72   Positive\n",
       "HTMCP-03-06-02074        146   Negative\n",
       "HTMCP-03-06-02075        343   Negative\n",
       "HTMCP-03-06-02076        155   Positive\n",
       "HTMCP-03-06-02085         86   Negative\n",
       "HTMCP-03-06-02089        192   Positive\n",
       "HTMCP-03-06-02092        126   Negative\n",
       "...                      ...        ...\n",
       "HTMCP-03-06-02157        209   Negative\n",
       "HTMCP-03-06-02170        247   Positive\n",
       "HTMCP-03-06-02174        174   Negative\n",
       "HTMCP-03-06-02175        229   Negative\n",
       "HTMCP-03-06-02176        246   Negative\n",
       "HTMCP-03-06-02179        171   Positive\n",
       "HTMCP-03-06-02180        161   Negative\n",
       "HTMCP-03-06-02185        420   Negative\n",
       "HTMCP-03-06-02194        153   Negative\n",
       "HTMCP-03-06-02195         41   Positive\n",
       "HTMCP-03-06-02196        160   Negative\n",
       "HTMCP-03-06-02202        104   Positive\n",
       "HTMCP-03-06-02203        347   Negative\n",
       "HTMCP-03-06-02204        106   Positive\n",
       "HTMCP-03-06-02205        116   Positive\n",
       "HTMCP-03-06-02209        163   Negative\n",
       "HTMCP-03-06-02210        443   Negative\n",
       "HTMCP-03-06-02213        107   Positive\n",
       "HTMCP-03-06-02214       1056   Negative\n",
       "HTMCP-03-06-02215        224   Negative\n",
       "HTMCP-03-06-02216         66   Positive\n",
       "HTMCP-03-06-02217         77   Positive\n",
       "HTMCP-03-06-02219        213   Positive\n",
       "HTMCP-03-06-02225        120   Positive\n",
       "HTMCP-03-06-02230         78   Positive\n",
       "HTMCP-03-06-02235         73   Positive\n",
       "HTMCP-03-06-02238        189   Positive\n",
       "HTMCP-03-06-02239         76   Positive\n",
       "HTMCP-03-06-02240        176   Positive\n",
       "HTMCP-03-06-02242        235   Positive\n",
       "\n",
       "[82 rows x 2 columns]"
      ]
     },
     "execution_count": 129,
     "metadata": {},
     "output_type": "execute_result"
    }
   ],
   "source": [
    "df"
   ]
  },
  {
   "cell_type": "code",
   "execution_count": 174,
   "metadata": {
    "collapsed": false
   },
   "outputs": [
    {
     "data": {
      "text/plain": [
       "MannwhitneyuResult(statistic=547.5, pvalue=0.0034941628968315664)"
      ]
     },
     "execution_count": 174,
     "metadata": {},
     "output_type": "execute_result"
    },
    {
     "data": {
      "text/plain": [
       "<matplotlib.figure.Figure at 0x7f078b4e5790>"
      ]
     },
     "metadata": {},
     "output_type": "display_data"
    },
    {
     "data": {
      "image/png": "[encoded data removed]",
      "text/plain": [
       "<matplotlib.figure.Figure at 0x7f078b4e5e90>"
      ]
     },
     "metadata": {},
     "output_type": "display_data"
    }
   ],
   "source": [
    "\n",
    "df = pd.read_csv('/projects/trans_scratch/validations/workspace/szong/Cervical/variant_bwamem/82_patients/high_moderate_SNV_summary_with_normal_82_patients.filtered.somatic.txt', sep='\\t')\n",
    "df['point'] = np.random.rand(len(df)) \n",
    "groups = df.groupby('patient_ID')\n",
    "\n",
    "from __future__ import print_function\n",
    "with open(\"test.csv\", 'w') as f:\n",
    "    f.write(\"patient\\tmutations\\n\")\n",
    "    for name, group in groups:\n",
    "        print(\"\\t\".join([name.replace('_malignant', '').replace('_Malignant', ''), str(len(group['gene']))]), file=f)\n",
    "\n",
    "\n",
    "df = pd.read_csv('/projects/trans_scratch/validations/workspace/szong/Cervical/variant_bwamem/82_patients/test.csv', \n",
    "                 sep='\\t')\n",
    "\n",
    "df.set_index('patient', inplace=True)\n",
    "df_hiv = pd.read_csv('/projects/trans_scratch/validations/workspace/szong/Cervical/variant_bwamem/82_patients/HIV_status.txt', \n",
    "                 sep='\\t')\n",
    "df_hiv.set_index('patient', inplace=True)\n",
    "\n",
    "df = df.join(df_hiv, how='outer')\n",
    "df.fillna(0, inplace=True)\n",
    "\n",
    "df.head()\n",
    "\n",
    "\n",
    "\n",
    "# boxplot by groups\n",
    "fig = plt.figure()\n",
    "ax = df.boxplot(column='mutations', by='HIV_status', grid=False)\n",
    "# overlay actuall data points\n",
    "for i in ['Positive', 'Negative']:\n",
    "    y = df['mutations'][df['HIV_status']==i]\n",
    "    if i=='Positive':\n",
    "        i=2\n",
    "    elif i=='Negative':\n",
    "        i=1\n",
    "    # add jitter\n",
    "    x = np.random.normal(i, 0.04, size=len(y))\n",
    "    plt.plot(x, y, 'r.', alpha=0.8)\n",
    "\n",
    "\n",
    "\n",
    "ax.set_ylim(0,500)\n",
    "plt.xlabel(\"HIV status\")\n",
    "plt.ylabel('number of mutations')\n",
    "plt.title('Number of somatic mutations between HIV Positive and Negative Patients')\n",
    "plt.savefig('somatic_mutations_and_HIV_status.png')\n",
    "\n",
    "\n",
    "# df.groupby('HIV_status').plot()\n",
    "\n",
    "# statistic analysis to see if the number of somatic mutations differs between hiv + -\n",
    "# t test, not a good choice since the numbers are skewed, not normally distributed\n",
    "\n",
    "# weird, & can not be replaced by and\n",
    "\n",
    "# Negative = df[(df['HIV_status']=='Negative') & (df['mutations']<2000)]\n",
    "Negative = df[(df['HIV_status']=='Negative')]\n",
    "Positive = df[df['HIV_status']=='Positive']\n",
    "# ttest_ind(Negative['mutations'], Positive['mutations'])\n",
    "\n",
    "\n",
    "# values_per_group = [col for col_name, col in df.groupby('HIV_status')['mutations']]\n",
    "# ss.ranksums(*values_per_group)\n",
    "\n",
    "# Wilcoxon ranksum does not handle ties\n",
    "# ss.ranksums(Negative['mutations'], Positive['mutations'])\n",
    "\n",
    "# tie corrected Mann Whitney U test,\n",
    "ss.mannwhitneyu(Negative['mutations'], Positive['mutations'], use_continuity=True, alternative=None)"
   ]
  },
  {
   "cell_type": "code",
   "execution_count": 175,
   "metadata": {
    "collapsed": false
   },
   "outputs": [
    {
     "data": {
      "text/html": [
       "<div>\n",
       "<table border=\"1\" class=\"dataframe\">\n",
       "  <thead>\n",
       "    <tr style=\"text-align: right;\">\n",
       "      <th></th>\n",
       "      <th>mutations</th>\n",
       "    </tr>\n",
       "  </thead>\n",
       "  <tbody>\n",
       "    <tr>\n",
       "      <th>count</th>\n",
       "      <td>39.000000</td>\n",
       "    </tr>\n",
       "    <tr>\n",
       "      <th>mean</th>\n",
       "      <td>832.410256</td>\n",
       "    </tr>\n",
       "    <tr>\n",
       "      <th>std</th>\n",
       "      <td>2734.821246</td>\n",
       "    </tr>\n",
       "    <tr>\n",
       "      <th>min</th>\n",
       "      <td>45.000000</td>\n",
       "    </tr>\n",
       "    <tr>\n",
       "      <th>25%</th>\n",
       "      <td>136.000000</td>\n",
       "    </tr>\n",
       "    <tr>\n",
       "      <th>50%</th>\n",
       "      <td>199.000000</td>\n",
       "    </tr>\n",
       "    <tr>\n",
       "      <th>75%</th>\n",
       "      <td>328.000000</td>\n",
       "    </tr>\n",
       "    <tr>\n",
       "      <th>max</th>\n",
       "      <td>16370.000000</td>\n",
       "    </tr>\n",
       "  </tbody>\n",
       "</table>\n",
       "</div>"
      ],
      "text/plain": [
       "          mutations\n",
       "count     39.000000\n",
       "mean     832.410256\n",
       "std     2734.821246\n",
       "min       45.000000\n",
       "25%      136.000000\n",
       "50%      199.000000\n",
       "75%      328.000000\n",
       "max    16370.000000"
      ]
     },
     "execution_count": 175,
     "metadata": {},
     "output_type": "execute_result"
    }
   ],
   "source": [
    "Negative.describe()"
   ]
  },
  {
   "cell_type": "code",
   "execution_count": 176,
   "metadata": {
    "collapsed": false
   },
   "outputs": [
    {
     "data": {
      "text/html": [
       "<div>\n",
       "<table border=\"1\" class=\"dataframe\">\n",
       "  <thead>\n",
       "    <tr style=\"text-align: right;\">\n",
       "      <th></th>\n",
       "      <th>mutations</th>\n",
       "    </tr>\n",
       "  </thead>\n",
       "  <tbody>\n",
       "    <tr>\n",
       "      <th>count</th>\n",
       "      <td>43.00000</td>\n",
       "    </tr>\n",
       "    <tr>\n",
       "      <th>mean</th>\n",
       "      <td>181.72093</td>\n",
       "    </tr>\n",
       "    <tr>\n",
       "      <th>std</th>\n",
       "      <td>197.52219</td>\n",
       "    </tr>\n",
       "    <tr>\n",
       "      <th>min</th>\n",
       "      <td>41.00000</td>\n",
       "    </tr>\n",
       "    <tr>\n",
       "      <th>25%</th>\n",
       "      <td>100.50000</td>\n",
       "    </tr>\n",
       "    <tr>\n",
       "      <th>50%</th>\n",
       "      <td>132.00000</td>\n",
       "    </tr>\n",
       "    <tr>\n",
       "      <th>75%</th>\n",
       "      <td>190.50000</td>\n",
       "    </tr>\n",
       "    <tr>\n",
       "      <th>max</th>\n",
       "      <td>1305.00000</td>\n",
       "    </tr>\n",
       "  </tbody>\n",
       "</table>\n",
       "</div>"
      ],
      "text/plain": [
       "        mutations\n",
       "count    43.00000\n",
       "mean    181.72093\n",
       "std     197.52219\n",
       "min      41.00000\n",
       "25%     100.50000\n",
       "50%     132.00000\n",
       "75%     190.50000\n",
       "max    1305.00000"
      ]
     },
     "execution_count": 176,
     "metadata": {},
     "output_type": "execute_result"
    }
   ],
   "source": [
    "Positive.describe()"
   ]
  },
  {
   "cell_type": "code",
   "execution_count": 144,
   "metadata": {
    "collapsed": false
   },
   "outputs": [
    {
     "data": {
      "text/plain": [
       "array([[<matplotlib.axes._subplots.AxesSubplot object at 0x7f0788ece6d0>]], dtype=object)"
      ]
     },
     "execution_count": 144,
     "metadata": {},
     "output_type": "execute_result"
    },
    {
     "data": {
      "image/png": "[encoded data removed]",
      "text/plain": [
       "<matplotlib.figure.Figure at 0x7f0786dd5710>"
      ]
     },
     "metadata": {},
     "output_type": "display_data"
    },
    {
     "data": {
      "image/png": "[encoded data removed]",
      "text/plain": [
       "<matplotlib.figure.Figure at 0x7f078964fb90>"
      ]
     },
     "metadata": {},
     "output_type": "display_data"
    }
   ],
   "source": [
    "# df['mutations'].hist(bins=1000)\n",
    "Negative.hist(bins=100)\n",
    "Positive.hist(bins=100)"
   ]
  },
  {
   "cell_type": "code",
   "execution_count": null,
   "metadata": {
    "collapsed": false
   },
   "outputs": [],
   "source": []
  },
  {
   "cell_type": "code",
   "execution_count": 111,
   "metadata": {
    "collapsed": false
   },
   "outputs": [
    {
     "data": {
      "text/plain": [
       "<matplotlib.collections.PathCollection at 0x7f078b165c50>"
      ]
     },
     "execution_count": 111,
     "metadata": {},
     "output_type": "execute_result"
    },
    {
     "data": {
      "image/png": "[encoded data removed]",
      "text/plain": [
       "<matplotlib.figure.Figure at 0x7f078bfd6810>"
      ]
     },
     "metadata": {},
     "output_type": "display_data"
    }
   ],
   "source": [
    "df['point'] = np.random.rand(len(df)) \n",
    "df.head()\n",
    "colors = [1 if i==\"Negative\" else 2 for i in df['HIV_status']]\n",
    "colors\n",
    "plt.scatter(df['point'], df['mutations'], c=colors, alpha=1)\n"
   ]
  },
  {
   "cell_type": "code",
   "execution_count": 189,
   "metadata": {
    "collapsed": true
   },
   "outputs": [],
   "source": [
    "colors = [1 if i==\"Positive\" else 2 for i in df['hiv']]\n",
    "\n",
    "\n",
    "\n",
    "colors\n",
    "\n",
    "plt.scatter(df['point'], df['mutations'], c=colors, alpha=1)"
   ]
  },
  {
   "cell_type": "code",
   "execution_count": null,
   "metadata": {
    "collapsed": false
   },
   "outputs": [],
   "source": []
  },
  {
   "cell_type": "code",
   "execution_count": 135,
   "metadata": {
    "collapsed": false
   },
   "outputs": [
    {
     "data": {
      "text/plain": [
       "<matplotlib.axes._subplots.AxesSubplot at 0x7faab553a750>"
      ]
     },
     "execution_count": 135,
     "metadata": {},
     "output_type": "execute_result"
    },
    {
     "data": {
      "image/png": "[encoded data removed]",
      "text/plain": [
       "<matplotlib.figure.Figure at 0x7faab58aaed0>"
      ]
     },
     "metadata": {},
     "output_type": "display_data"
    }
   ],
   "source": [
    "df.plot()\n",
    "# data are not normally distributed ?"
   ]
  },
  {
   "cell_type": "code",
   "execution_count": 114,
   "metadata": {
    "collapsed": false
   },
   "outputs": [
    {
     "data": {
      "text/html": [
       "<div>\n",
       "<table border=\"1\" class=\"dataframe\">\n",
       "  <thead>\n",
       "    <tr style=\"text-align: right;\">\n",
       "      <th></th>\n",
       "      <th>patient</th>\n",
       "      <th>mutations</th>\n",
       "      <th>histology</th>\n",
       "      <th>hiv</th>\n",
       "    </tr>\n",
       "  </thead>\n",
       "  <tbody>\n",
       "    <tr>\n",
       "      <th>0</th>\n",
       "      <td>HTMCP-03-06-02046</td>\n",
       "      <td>0</td>\n",
       "      <td>Squamous</td>\n",
       "      <td>Negative</td>\n",
       "    </tr>\n",
       "    <tr>\n",
       "      <th>1</th>\n",
       "      <td>HTMCP-03-06-02057</td>\n",
       "      <td>0</td>\n",
       "      <td>Squamous</td>\n",
       "      <td>Positive</td>\n",
       "    </tr>\n",
       "    <tr>\n",
       "      <th>2</th>\n",
       "      <td>HTMCP-03-06-02089</td>\n",
       "      <td>0</td>\n",
       "      <td>Squamous</td>\n",
       "      <td>Positive</td>\n",
       "    </tr>\n",
       "    <tr>\n",
       "      <th>3</th>\n",
       "      <td>HTMCP-03-06-02099</td>\n",
       "      <td>0</td>\n",
       "      <td>Adeno</td>\n",
       "      <td>Negative</td>\n",
       "    </tr>\n",
       "    <tr>\n",
       "      <th>4</th>\n",
       "      <td>HTMCP-03-06-02109</td>\n",
       "      <td>0</td>\n",
       "      <td>Squamous</td>\n",
       "      <td>Positive</td>\n",
       "    </tr>\n",
       "  </tbody>\n",
       "</table>\n",
       "</div>"
      ],
      "text/plain": [
       "             patient  mutations histology       hiv\n",
       "0  HTMCP-03-06-02046          0  Squamous  Negative\n",
       "1  HTMCP-03-06-02057          0  Squamous  Positive\n",
       "2  HTMCP-03-06-02089          0  Squamous  Positive\n",
       "3  HTMCP-03-06-02099          0     Adeno  Negative\n",
       "4  HTMCP-03-06-02109          0  Squamous  Positive"
      ]
     },
     "execution_count": 114,
     "metadata": {},
     "output_type": "execute_result"
    }
   ],
   "source": [
    "df.head()"
   ]
  },
  {
   "cell_type": "code",
   "execution_count": 118,
   "metadata": {
    "collapsed": false
   },
   "outputs": [
    {
     "data": {
      "text/html": [
       "<div>\n",
       "<table border=\"1\" class=\"dataframe\">\n",
       "  <thead>\n",
       "    <tr style=\"text-align: right;\">\n",
       "      <th></th>\n",
       "      <th></th>\n",
       "      <th>mutations</th>\n",
       "    </tr>\n",
       "    <tr>\n",
       "      <th>hiv</th>\n",
       "      <th></th>\n",
       "      <th></th>\n",
       "    </tr>\n",
       "  </thead>\n",
       "  <tbody>\n",
       "    <tr>\n",
       "      <th rowspan=\"8\" valign=\"top\">Negative</th>\n",
       "      <th>count</th>\n",
       "      <td>39.000000</td>\n",
       "    </tr>\n",
       "    <tr>\n",
       "      <th>mean</th>\n",
       "      <td>4.461538</td>\n",
       "    </tr>\n",
       "    <tr>\n",
       "      <th>std</th>\n",
       "      <td>4.860399</td>\n",
       "    </tr>\n",
       "    <tr>\n",
       "      <th>min</th>\n",
       "      <td>0.000000</td>\n",
       "    </tr>\n",
       "    <tr>\n",
       "      <th>25%</th>\n",
       "      <td>2.000000</td>\n",
       "    </tr>\n",
       "    <tr>\n",
       "      <th>50%</th>\n",
       "      <td>3.000000</td>\n",
       "    </tr>\n",
       "    <tr>\n",
       "      <th>75%</th>\n",
       "      <td>5.500000</td>\n",
       "    </tr>\n",
       "    <tr>\n",
       "      <th>max</th>\n",
       "      <td>25.000000</td>\n",
       "    </tr>\n",
       "    <tr>\n",
       "      <th rowspan=\"8\" valign=\"top\">Positive</th>\n",
       "      <th>count</th>\n",
       "      <td>43.000000</td>\n",
       "    </tr>\n",
       "    <tr>\n",
       "      <th>mean</th>\n",
       "      <td>2.023256</td>\n",
       "    </tr>\n",
       "    <tr>\n",
       "      <th>std</th>\n",
       "      <td>2.121190</td>\n",
       "    </tr>\n",
       "    <tr>\n",
       "      <th>min</th>\n",
       "      <td>0.000000</td>\n",
       "    </tr>\n",
       "    <tr>\n",
       "      <th>25%</th>\n",
       "      <td>1.000000</td>\n",
       "    </tr>\n",
       "    <tr>\n",
       "      <th>50%</th>\n",
       "      <td>2.000000</td>\n",
       "    </tr>\n",
       "    <tr>\n",
       "      <th>75%</th>\n",
       "      <td>2.500000</td>\n",
       "    </tr>\n",
       "    <tr>\n",
       "      <th>max</th>\n",
       "      <td>13.000000</td>\n",
       "    </tr>\n",
       "  </tbody>\n",
       "</table>\n",
       "</div>"
      ],
      "text/plain": [
       "                mutations\n",
       "hiv                      \n",
       "Negative count  39.000000\n",
       "         mean    4.461538\n",
       "         std     4.860399\n",
       "         min     0.000000\n",
       "         25%     2.000000\n",
       "         50%     3.000000\n",
       "         75%     5.500000\n",
       "         max    25.000000\n",
       "Positive count  43.000000\n",
       "         mean    2.023256\n",
       "         std     2.121190\n",
       "         min     0.000000\n",
       "         25%     1.000000\n",
       "         50%     2.000000\n",
       "         75%     2.500000\n",
       "         max    13.000000"
      ]
     },
     "execution_count": 118,
     "metadata": {},
     "output_type": "execute_result"
    }
   ],
   "source": [
    "df.groupby('hiv').describe()"
   ]
  },
  {
   "cell_type": "code",
   "execution_count": 129,
   "metadata": {
    "collapsed": false
   },
   "outputs": [
    {
     "data": {
      "image/png": "[encoded data removed]",
      "text/plain": [
       "<matplotlib.figure.Figure at 0x7faab4c7c390>"
      ]
     },
     "metadata": {},
     "output_type": "display_data"
    }
   ],
   "source": [
    "grouped = df.groupby('hiv')\n",
    "fig, ax = plt.subplots(figsize=(8,6))\n",
    "bp = grouped.plot(ax=ax)\n",
    "# grouped.boxplot()\n",
    "# plt.savefig('hiv_num_mutations_boxplot.png')"
   ]
  },
  {
   "cell_type": "code",
   "execution_count": 134,
   "metadata": {
    "collapsed": false
   },
   "outputs": [
    {
     "data": {
      "image/png": "[encoded data removed]",
      "text/plain": [
       "<matplotlib.figure.Figure at 0x7faab55c61d0>"
      ]
     },
     "metadata": {},
     "output_type": "display_data"
    }
   ],
   "source": [
    "markers = ['^', 'o', 'v', 's', 'd']\n",
    "fig, ax = plt.subplots(figsize=(8,6))\n",
    "bp = grouped.plot(style=markers, ax=ax)\n"
   ]
  },
  {
   "cell_type": "code",
   "execution_count": 117,
   "metadata": {
    "collapsed": false
   },
   "outputs": [
    {
     "data": {
      "text/plain": [
       "Ttest_indResult(statistic=2.9918512495674721, pvalue=0.0036857670786786226)"
      ]
     },
     "execution_count": 117,
     "metadata": {},
     "output_type": "execute_result"
    }
   ],
   "source": [
    "# t test \n",
    "Negative = df[df.hiv=='Negative']\n",
    "Positive = df[df.hiv=='Positive']\n",
    "ttest_ind(Negative['mutations'], Positive['mutations'])"
   ]
  },
  {
   "cell_type": "code",
   "execution_count": null,
   "metadata": {
    "collapsed": false
   },
   "outputs": [],
   "source": []
  },
  {
   "cell_type": "code",
   "execution_count": 119,
   "metadata": {
    "collapsed": false
   },
   "outputs": [],
   "source": [
    "aa = pd.DataFrame([Negative.mutations.tolist(), Positive.mutations.tolist()])"
   ]
  },
  {
   "cell_type": "code",
   "execution_count": 92,
   "metadata": {
    "collapsed": false
   },
   "outputs": [
    {
     "name": "stderr",
     "output_type": "stream",
     "text": [
      "/home/szong/projects/development/coverage/venv/lib/python2.7/site-packages/ipykernel/__main__.py:1: FutureWarning: \n",
      "The default value for 'return_type' will change to 'axes' in a future release.\n",
      " To use the future behavior now, set return_type='axes'.\n",
      " To keep the previous behavior and silence this warning, set return_type='dict'.\n",
      "  if __name__ == '__main__':\n"
     ]
    },
    {
     "data": {
      "text/plain": [
       "{'boxes': [<matplotlib.lines.Line2D at 0x7faab6a4bad0>,\n",
       "  <matplotlib.lines.Line2D at 0x7faab69f2390>],\n",
       " 'caps': [<matplotlib.lines.Line2D at 0x7faab6a5aa10>,\n",
       "  <matplotlib.lines.Line2D at 0x7faab69e7090>,\n",
       "  <matplotlib.lines.Line2D at 0x7faab69fe650>,\n",
       "  <matplotlib.lines.Line2D at 0x7faab69fec90>],\n",
       " 'fliers': [<matplotlib.lines.Line2D at 0x7faab69e7d10>,\n",
       "  <matplotlib.lines.Line2D at 0x7faab6a08950>],\n",
       " 'means': [],\n",
       " 'medians': [<matplotlib.lines.Line2D at 0x7faab69e76d0>,\n",
       "  <matplotlib.lines.Line2D at 0x7faab6a08310>],\n",
       " 'whiskers': [<matplotlib.lines.Line2D at 0x7faab6a4bcd0>,\n",
       "  <matplotlib.lines.Line2D at 0x7faab6a5a3d0>,\n",
       "  <matplotlib.lines.Line2D at 0x7faab69f2990>,\n",
       "  <matplotlib.lines.Line2D at 0x7faab69f2fd0>]}"
      ]
     },
     "execution_count": 92,
     "metadata": {},
     "output_type": "execute_result"
    },
    {
     "data": {
      "image/png": "[encoded data removed]",
      "text/plain": [
       "<matplotlib.figure.Figure at 0x7faab6bb3b90>"
      ]
     },
     "metadata": {},
     "output_type": "display_data"
    }
   ],
   "source": [
    "aa.T.boxplot()"
   ]
  },
  {
   "cell_type": "code",
   "execution_count": null,
   "metadata": {
    "collapsed": false
   },
   "outputs": [],
   "source": []
  },
  {
   "cell_type": "code",
   "execution_count": 34,
   "metadata": {
    "collapsed": false
   },
   "outputs": [
    {
     "data": {
      "text/html": [
       "<div>\n",
       "<table border=\"1\" class=\"dataframe\">\n",
       "  <thead>\n",
       "    <tr style=\"text-align: right;\">\n",
       "      <th></th>\n",
       "      <th>Positive_mutations</th>\n",
       "      <th>Positive_histology</th>\n",
       "      <th>Negative_mutations</th>\n",
       "      <th>Negative_histology</th>\n",
       "    </tr>\n",
       "    <tr>\n",
       "      <th>patient</th>\n",
       "      <th></th>\n",
       "      <th></th>\n",
       "      <th></th>\n",
       "      <th></th>\n",
       "    </tr>\n",
       "  </thead>\n",
       "  <tbody>\n",
       "    <tr>\n",
       "      <th>HTMCP-03-06-02001</th>\n",
       "      <td>4.0</td>\n",
       "      <td>Squamous</td>\n",
       "      <td>NaN</td>\n",
       "      <td>NaN</td>\n",
       "    </tr>\n",
       "    <tr>\n",
       "      <th>HTMCP-03-06-02002</th>\n",
       "      <td>NaN</td>\n",
       "      <td>NaN</td>\n",
       "      <td>5.0</td>\n",
       "      <td>Squamous</td>\n",
       "    </tr>\n",
       "    <tr>\n",
       "      <th>HTMCP-03-06-02003</th>\n",
       "      <td>3.0</td>\n",
       "      <td>Squamous</td>\n",
       "      <td>NaN</td>\n",
       "      <td>NaN</td>\n",
       "    </tr>\n",
       "    <tr>\n",
       "      <th>HTMCP-03-06-02006</th>\n",
       "      <td>NaN</td>\n",
       "      <td>NaN</td>\n",
       "      <td>1.0</td>\n",
       "      <td>Squamous</td>\n",
       "    </tr>\n",
       "    <tr>\n",
       "      <th>HTMCP-03-06-02007</th>\n",
       "      <td>NaN</td>\n",
       "      <td>NaN</td>\n",
       "      <td>25.0</td>\n",
       "      <td>Adeno</td>\n",
       "    </tr>\n",
       "  </tbody>\n",
       "</table>\n",
       "</div>"
      ],
      "text/plain": [
       "                   Positive_mutations Positive_histology  Negative_mutations  \\\n",
       "patient                                                                        \n",
       "HTMCP-03-06-02001                 4.0           Squamous                 NaN   \n",
       "HTMCP-03-06-02002                 NaN                NaN                 5.0   \n",
       "HTMCP-03-06-02003                 3.0           Squamous                 NaN   \n",
       "HTMCP-03-06-02006                 NaN                NaN                 1.0   \n",
       "HTMCP-03-06-02007                 NaN                NaN                25.0   \n",
       "\n",
       "                  Negative_histology  \n",
       "patient                               \n",
       "HTMCP-03-06-02001                NaN  \n",
       "HTMCP-03-06-02002           Squamous  \n",
       "HTMCP-03-06-02003                NaN  \n",
       "HTMCP-03-06-02006           Squamous  \n",
       "HTMCP-03-06-02007              Adeno  "
      ]
     },
     "execution_count": 34,
     "metadata": {},
     "output_type": "execute_result"
    }
   ],
   "source": [
    "df_joined.head()"
   ]
  },
  {
   "cell_type": "code",
   "execution_count": null,
   "metadata": {
    "collapsed": false
   },
   "outputs": [],
   "source": []
  },
  {
   "cell_type": "code",
   "execution_count": 52,
   "metadata": {
    "collapsed": false
   },
   "outputs": [
    {
     "name": "stderr",
     "output_type": "stream",
     "text": [
      "/home/szong/projects/development/coverage/venv/lib/python2.7/site-packages/ipykernel/__main__.py:6: FutureWarning: \n",
      "The default value for 'return_type' will change to 'axes' in a future release.\n",
      " To use the future behavior now, set return_type='axes'.\n",
      " To keep the previous behavior and silence this warning, set return_type='dict'.\n"
     ]
    },
    {
     "ename": "AttributeError",
     "evalue": "'dict' object has no attribute 'set_ylim'",
     "output_type": "error",
     "traceback": [
      "\u001b[0;31m---------------------------------------------------------------------------\u001b[0m",
      "\u001b[0;31mAttributeError\u001b[0m                            Traceback (most recent call last)",
      "\u001b[0;32m<ipython-input-52-b1e65bde74a3>\u001b[0m in \u001b[0;36m<module>\u001b[0;34m()\u001b[0m\n\u001b[1;32m      5\u001b[0m \u001b[0;31m# ax.set_ylim(-1, 30)\u001b[0m\u001b[0;34m\u001b[0m\u001b[0;34m\u001b[0m\u001b[0m\n\u001b[1;32m      6\u001b[0m \u001b[0max\u001b[0m \u001b[0;34m=\u001b[0m \u001b[0mdf_joined\u001b[0m\u001b[0;34m.\u001b[0m\u001b[0mboxplot\u001b[0m\u001b[0;34m(\u001b[0m\u001b[0;34m)\u001b[0m\u001b[0;34m\u001b[0m\u001b[0m\n\u001b[0;32m----> 7\u001b[0;31m \u001b[0max\u001b[0m\u001b[0;34m.\u001b[0m\u001b[0mset_ylim\u001b[0m\u001b[0;34m(\u001b[0m\u001b[0;36m0\u001b[0m\u001b[0;34m,\u001b[0m \u001b[0;36m300\u001b[0m\u001b[0;34m)\u001b[0m\u001b[0;34m\u001b[0m\u001b[0m\n\u001b[0m",
      "\u001b[0;31mAttributeError\u001b[0m: 'dict' object has no attribute 'set_ylim'"
     ]
    },
    {
     "data": {
      "image/png": "[encoded data removed]",
      "text/plain": [
       "<matplotlib.figure.Figure at 0x7faab73e7b90>"
      ]
     },
     "metadata": {},
     "output_type": "display_data"
    }
   ],
   "source": [
    "markers = ['^', 'o', 'v', 's', 'd']\n",
    "colors = df['hiv']\n",
    "\n",
    "# ax = df_joined.plot(style=markers)\n",
    "# ax.set_ylim(-1, 30)\n",
    "ax = df_joined.boxplot()\n"
   ]
  },
  {
   "cell_type": "code",
   "execution_count": null,
   "metadata": {
    "collapsed": true
   },
   "outputs": [],
   "source": [
    "# below are code from tutorial 1"
   ]
  },
  {
   "cell_type": "code",
   "execution_count": 3,
   "metadata": {
    "collapsed": false
   },
   "outputs": [
    {
     "name": "stdout",
     "output_type": "stream",
     "text": [
      "                 Open       High        Low      Close    Volume  Adj Close\n",
      "Date                                                                       \n",
      "2010-01-04  68.720001  69.260002  68.190002  69.150002  27809100  57.203028\n",
      "2010-01-05  69.190002  69.449997  68.800003  69.419998  30174700  57.426378\n",
      "2010-01-06  69.449997  70.599998  69.339996  70.019997  35044700  57.922715\n",
      "2010-01-07  69.900002  70.059998  69.419998  69.800003  27192100  57.740730\n",
      "2010-01-08  69.690002  69.750000  69.220001  69.519997  24891800  57.509100\n"
     ]
    },
    {
     "data": {
      "image/png": "[encoded data removed]",
      "text/plain": [
       "<matplotlib.figure.Figure at 0x7fc97d58ae90>"
      ]
     },
     "metadata": {},
     "output_type": "display_data"
    }
   ],
   "source": [
    "import pandas as pd\n",
    "import datetime\n",
    "import pandas.io.data as web\n",
    "\n",
    "\n",
    "start = datetime.datetime(2010, 1, 1)\n",
    "end = datetime.datetime(2015, 8, 22)\n",
    "df = web.DataReader(\"XOM\", \"yahoo\", start, end)\n",
    "print(df.head())\n",
    "import matplotlib.pyplot as plt\n",
    "from matplotlib import style\n",
    "\n",
    "style.use('fivethirtyeight')\n",
    "df['High'].plot()\n",
    "plt.legend()\n",
    "plt.show()"
   ]
  },
  {
   "cell_type": "code",
   "execution_count": null,
   "metadata": {
    "collapsed": true
   },
   "outputs": [],
   "source": []
  },
  {
   "cell_type": "code",
   "execution_count": null,
   "metadata": {
    "collapsed": true
   },
   "outputs": [],
   "source": []
  },
  {
   "cell_type": "code",
   "execution_count": null,
   "metadata": {
    "collapsed": true
   },
   "outputs": [],
   "source": []
  },
  {
   "cell_type": "code",
   "execution_count": null,
   "metadata": {
    "collapsed": true
   },
   "outputs": [],
   "source": []
  },
  {
   "cell_type": "code",
   "execution_count": null,
   "metadata": {
    "collapsed": true
   },
   "outputs": [],
   "source": [
    "# below are tutorial 2"
   ]
  },
  {
   "cell_type": "code",
   "execution_count": 26,
   "metadata": {
    "collapsed": false
   },
   "outputs": [
    {
     "name": "stdout",
     "output_type": "stream",
     "text": [
      "   Bounce Rate  Day  Visitors\n",
      "0           65    1        43\n",
      "1           67    2        34\n",
      "2           78    3        65\n",
      "3           65    4        56\n",
      "4           45    5        29\n",
      "   Bounce Rate  Day  Visitors\n",
      "4           45    5        29\n",
      "5           52    6        76\n"
     ]
    }
   ],
   "source": [
    "web_stats = {'Day':[1,2,3,4,5,6],\n",
    "             'Visitors':[43,34,65,56,29,76],\n",
    "             'Bounce Rate':[65,67,78,65,45,52]}\n",
    "import pandas as pd\n",
    "\n",
    "web_stats = {'Day':[1,2,3,4,5,6],\n",
    "             'Visitors':[43,34,65,56,29,76],\n",
    "             'Bounce Rate':[65,67,78,65,45,52]}\n",
    "\n",
    "df = pd.DataFrame(web_stats)\n",
    "print(df.head())\n",
    "print(df.tail(2))\n",
    "# df = df.set_index('Day', inplace=True) wont work, set_index return nothing\n",
    "df.set_index('Day', inplace=True)\n",
    "import matplotlib.pyplot as plt\n",
    "from matplotlib import style\n"
   ]
  },
  {
   "cell_type": "code",
   "execution_count": null,
   "metadata": {
    "collapsed": true
   },
   "outputs": [],
   "source": []
  },
  {
   "cell_type": "code",
   "execution_count": 28,
   "metadata": {
    "collapsed": false
   },
   "outputs": [
    {
     "name": "stdout",
     "output_type": "stream",
     "text": [
      "     Bounce Rate  Visitors\n",
      "Day                       \n",
      "1             65        43\n",
      "2             67        34\n",
      "3             78        65\n",
      "4             65        56\n",
      "5             45        29\n"
     ]
    }
   ],
   "source": [
    "print(df.head())"
   ]
  },
  {
   "cell_type": "code",
   "execution_count": 32,
   "metadata": {
    "collapsed": false
   },
   "outputs": [
    {
     "name": "stdout",
     "output_type": "stream",
     "text": [
      "Day\n",
      "1    43\n",
      "2    34\n",
      "3    65\n",
      "4    56\n",
      "5    29\n",
      "6    76\n",
      "Name: Visitors, dtype: int64\n",
      "Day\n",
      "1    43\n",
      "2    34\n",
      "3    65\n",
      "4    56\n",
      "5    29\n",
      "6    76\n",
      "Name: Visitors, dtype: int64\n",
      "     Visitors  Bounce Rate\n",
      "Day                       \n",
      "1          43           65\n",
      "2          34           67\n",
      "3          65           78\n",
      "4          56           65\n",
      "5          29           45\n",
      "6          76           52\n"
     ]
    },
    {
     "data": {
      "image/png": "[encoded data removed]",
      "text/plain": [
       "<matplotlib.figure.Figure at 0x7fc97d45cfd0>"
      ]
     },
     "metadata": {},
     "output_type": "display_data"
    },
    {
     "data": {
      "image/png": "[encoded data removed]",
      "text/plain": [
       "<matplotlib.figure.Figure at 0x7fc97d28ee10>"
      ]
     },
     "metadata": {},
     "output_type": "display_data"
    }
   ],
   "source": [
    "style.use('fivethirtyeight')\n",
    "print(df['Visitors'])\n",
    "print(df.Visitors)\n",
    "print(df[['Visitors','Bounce Rate']])\n",
    "df['Visitors'].plot()\n",
    "plt.show()\n",
    "df.plot()\n",
    "plt.show()"
   ]
  },
  {
   "cell_type": "code",
   "execution_count": null,
   "metadata": {
    "collapsed": true
   },
   "outputs": [],
   "source": []
  },
  {
   "cell_type": "code",
   "execution_count": 46,
   "metadata": {
    "collapsed": false
   },
   "outputs": [
    {
     "name": "stdout",
     "output_type": "stream",
     "text": [
      "         Date     Value\n",
      "0  2016-06-30  481100.0\n",
      "1  2016-05-31  493800.0\n",
      "2  2015-12-31  514000.0\n",
      "3  2015-10-31  510700.0\n"
     ]
    }
   ],
   "source": [
    "import pandas as pd\n",
    "\n",
    "df = pd.read_csv('ZILL-Z91655_3B.csv')\n",
    "print(df.head())"
   ]
  },
  {
   "cell_type": "code",
   "execution_count": 47,
   "metadata": {
    "collapsed": true
   },
   "outputs": [],
   "source": [
    "df.set_index('Date', inplace = True)"
   ]
  },
  {
   "cell_type": "code",
   "execution_count": 48,
   "metadata": {
    "collapsed": false
   },
   "outputs": [
    {
     "name": "stdout",
     "output_type": "stream",
     "text": [
      "Date,Value\r\n",
      "2016-06-30,481100.0\r\n",
      "2016-05-31,493800.0\r\n",
      "2015-12-31,514000.0\r\n",
      "2015-10-31,510700.0\r\n"
     ]
    }
   ],
   "source": [
    "df.to_csv('newcsv2.csv')\n",
    "!cat newcsv2.csv"
   ]
  },
  {
   "cell_type": "code",
   "execution_count": null,
   "metadata": {
    "collapsed": true
   },
   "outputs": [],
   "source": []
  },
  {
   "cell_type": "code",
   "execution_count": null,
   "metadata": {
    "collapsed": true
   },
   "outputs": [],
   "source": []
  },
  {
   "cell_type": "code",
   "execution_count": null,
   "metadata": {
    "collapsed": true
   },
   "outputs": [],
   "source": []
  },
  {
   "cell_type": "code",
   "execution_count": 42,
   "metadata": {
    "collapsed": false
   },
   "outputs": [
    {
     "name": "stdout",
     "output_type": "stream",
     "text": [
      "2016-06-30,481100.0\r\n",
      "2016-05-31,493800.0\r\n",
      "2015-12-31,514000.0\r\n",
      "2015-10-31,510700.0\r\n"
     ]
    }
   ],
   "source": [
    "# df['Value'].to_csv('newcsv2.csv')\n",
    "# !cat newcsv2.csv"
   ]
  },
  {
   "cell_type": "code",
   "execution_count": 43,
   "metadata": {
    "collapsed": false
   },
   "outputs": [
    {
     "name": "stdout",
     "output_type": "stream",
     "text": [
      "   2016-06-30  481100.0\n",
      "0  2016-05-31  493800.0\n",
      "1  2015-12-31  514000.0\n",
      "2  2015-10-31  510700.0\n"
     ]
    }
   ],
   "source": [
    "# df = pd.read_csv('newcsv2.csv')\n",
    "# print(df.head())"
   ]
  },
  {
   "cell_type": "code",
   "execution_count": 50,
   "metadata": {
    "collapsed": false
   },
   "outputs": [
    {
     "name": "stdout",
     "output_type": "stream",
     "text": [
      "               Value\n",
      "Date                \n",
      "2016-06-30  481100.0\n",
      "2016-05-31  493800.0\n",
      "2015-12-31  514000.0\n",
      "2015-10-31  510700.0\n"
     ]
    }
   ],
   "source": [
    "df = pd.read_csv('newcsv2.csv', index_col=0)\n",
    "print(df.head())"
   ]
  },
  {
   "cell_type": "code",
   "execution_count": 52,
   "metadata": {
    "collapsed": false
   },
   "outputs": [
    {
     "name": "stdout",
     "output_type": "stream",
     "text": [
      "            House_Prices\n",
      "Date                    \n",
      "2016-06-30      481100.0\n",
      "2016-05-31      493800.0\n",
      "2015-12-31      514000.0\n",
      "2015-10-31      510700.0\n"
     ]
    }
   ],
   "source": [
    "df.columns = ['House_Prices']\n",
    "print(df.head())\n",
    "df.to_csv('newcsv3.csv')"
   ]
  },
  {
   "cell_type": "code",
   "execution_count": 54,
   "metadata": {
    "collapsed": false
   },
   "outputs": [
    {
     "name": "stdout",
     "output_type": "stream",
     "text": [
      "Date,House_Prices\r\n",
      "2016-06-30,481100.0\r\n",
      "2016-05-31,493800.0\r\n",
      "2015-12-31,514000.0\r\n",
      "2015-10-31,510700.0\r\n"
     ]
    }
   ],
   "source": [
    "!cat newcsv3.csv\n",
    "df.to_csv('newcsv4.csv', header=False)"
   ]
  },
  {
   "cell_type": "code",
   "execution_count": null,
   "metadata": {
    "collapsed": true
   },
   "outputs": [],
   "source": []
  },
  {
   "cell_type": "code",
   "execution_count": 55,
   "metadata": {
    "collapsed": false
   },
   "outputs": [
    {
     "name": "stdout",
     "output_type": "stream",
     "text": [
      "            House_Price\n",
      "Date                   \n",
      "2016-06-30     481100.0\n",
      "2016-05-31     493800.0\n",
      "2015-12-31     514000.0\n",
      "2015-10-31     510700.0\n"
     ]
    }
   ],
   "source": [
    "df = pd.read_csv('newcsv4.csv', names = ['Date','House_Price'], index_col=0)\n",
    "print(df.head())"
   ]
  },
  {
   "cell_type": "code",
   "execution_count": 56,
   "metadata": {
    "collapsed": true
   },
   "outputs": [],
   "source": [
    "df.to_html('example.html')"
   ]
  },
  {
   "cell_type": "code",
   "execution_count": 58,
   "metadata": {
    "collapsed": false
   },
   "outputs": [
    {
     "name": "stdout",
     "output_type": "stream",
     "text": [
      "<table border=\"1\" class=\"dataframe\">\r\n",
      "  <thead>\r\n",
      "    <tr style=\"text-align: right;\">\r\n",
      "      <th></th>\r\n",
      "      <th>House_Price</th>\r\n",
      "    </tr>\r\n",
      "    <tr>\r\n",
      "      <th>Date</th>\r\n",
      "      <th></th>\r\n",
      "    </tr>\r\n",
      "  </thead>\r\n",
      "  <tbody>\r\n",
      "    <tr>\r\n",
      "      <th>2016-06-30</th>\r\n",
      "      <td>481100.0</td>\r\n",
      "    </tr>\r\n",
      "    <tr>\r\n",
      "      <th>2016-05-31</th>\r\n",
      "      <td>493800.0</td>\r\n",
      "    </tr>\r\n",
      "    <tr>\r\n",
      "      <th>2015-12-31</th>\r\n",
      "      <td>514000.0</td>\r\n",
      "    </tr>\r\n",
      "    <tr>\r\n",
      "      <th>2015-10-31</th>\r\n",
      "      <td>510700.0</td>\r\n",
      "    </tr>\r\n",
      "  </tbody>\r\n",
      "</table>"
     ]
    }
   ],
   "source": [
    "!cat example.html"
   ]
  },
  {
   "cell_type": "code",
   "execution_count": 63,
   "metadata": {
    "collapsed": false
   },
   "outputs": [
    {
     "name": "stdout",
     "output_type": "stream",
     "text": [
      "         Date  House_Price\n",
      "0  2016-06-30     481100.0\n",
      "1  2016-05-31     493800.0\n",
      "2  2015-12-31     514000.0\n",
      "3  2015-10-31     510700.0\n",
      "         Date    Prices\n",
      "0  2016-06-30  481100.0\n",
      "1  2016-05-31  493800.0\n",
      "2  2015-12-31  514000.0\n",
      "3  2015-10-31  510700.0\n"
     ]
    }
   ],
   "source": [
    "df = pd.read_csv('newcsv4.csv', names = ['Date','House_Price'])\n",
    "print(df.head())\n",
    "\n",
    "df.rename(columns={'House_Price':'Prices'}, inplace=True)\n",
    "print(df.head())"
   ]
  },
  {
   "cell_type": "code",
   "execution_count": 64,
   "metadata": {
    "collapsed": false
   },
   "outputs": [
    {
     "ename": "ImportError",
     "evalue": "No module named Quandl",
     "output_type": "error",
     "traceback": [
      "\u001b[0;31m---------------------------------------------------------------------------\u001b[0m",
      "\u001b[0;31mImportError\u001b[0m                               Traceback (most recent call last)",
      "\u001b[0;32m<ipython-input-64-f73be308e486>\u001b[0m in \u001b[0;36m<module>\u001b[0;34m()\u001b[0m\n\u001b[0;32m----> 1\u001b[0;31m \u001b[0;32mimport\u001b[0m \u001b[0mQuandl\u001b[0m\u001b[0;34m\u001b[0m\u001b[0m\n\u001b[0m",
      "\u001b[0;31mImportError\u001b[0m: No module named Quandl"
     ]
    }
   ],
   "source": [
    "import Quandl"
   ]
  },
  {
   "cell_type": "code",
   "execution_count": null,
   "metadata": {
    "collapsed": true
   },
   "outputs": [],
   "source": [
    "\n",
    "\n",
    "import pandas as pd\n",
    "import matplotlib.pyplot as plt\n",
    "from matplotlib import style\n",
    "\n",
    "df = pd.read_csv('/projects/trans_scratch/validations/workspace/szong/Mick_Bhatia/variants/high_moderate_SNV_summary_with_normal.filtered.somatic.txt', \n",
    "                 sep='\\t')\n",
    "# subset data based on a column value \n",
    "df_4BN =df.loc[(df.patient_ID=='AML-16626_Xengraft-16-4BN'),['gene', 'chromosome', 'position', 'ref_base','alt_base', 't_DNA_AF']]\n",
    "df_4BN.set_index(['gene', 'chromosome', 'position', 'ref_base','alt_base'], inplace=True)\n",
    "df_4BN = df_4BN.rename(columns = {'t_DNA_AF':'4BN'})\n",
    "print(df_4BN.head())\n",
    "\n",
    "# subset data based on a column value \n",
    "df_Leukemic =df.loc[(df.patient_ID=='AML-16626_Leukemic-blast'),['gene', 'chromosome', 'position', 'ref_base','alt_base', 't_DNA_AF']]\n",
    "df_Leukemic.set_index(['gene', 'chromosome', 'position', 'ref_base','alt_base'], inplace=True)\n",
    "df_Leukemic = df_Leukemic.rename(columns = {'t_DNA_AF':'Leukemic'})\n",
    "print(df_Leukemic.head())\n",
    "\n",
    "# subset data based on a column value \n",
    "df_2AL =df.loc[(df.patient_ID=='AML-16626_Xenograft-16-2AL'),['gene', 'chromosome', 'position', 'ref_base','alt_base', 't_DNA_AF']]\n",
    "df_2AL.set_index(['gene', 'chromosome', 'position', 'ref_base','alt_base'], inplace=True)\n",
    "df_2AL = df_2AL.rename(columns = {'t_DNA_AF':'2AL'})\n",
    "print(df_2AL.head())\n",
    "\n",
    "# subset data based on a column value \n",
    "df_2AL =df.loc[(df.patient_ID=='AML-16626_Xenograft-16-2AL'),['gene', 'chromosome', 'position', 'ref_base','alt_base', 't_DNA_AF']]\n",
    "df_2AL.set_index(['gene', 'chromosome', 'position', 'ref_base','alt_base'], inplace=True)\n",
    "df_2AL = df_2AL.rename(columns = {'t_DNA_AF':'2AL'})\n",
    "print(df_2AL.head())\n",
    "\n",
    "# subset data based on a column value \n",
    "df_2AL =df.loc[(df.patient_ID=='AML-16626_Xenograft-16-2AL'),['gene', 'chromosome', 'position', 'ref_base','alt_base', 't_DNA_AF']]\n",
    "df_2AL.set_index(['gene', 'chromosome', 'position', 'ref_base','alt_base'], inplace=True)\n",
    "df_2AL = df_2AL.rename(columns = {'t_DNA_AF':'2AL'})\n",
    "print(df_2AL.head())\n",
    "\n",
    "\n",
    "# df1.t_DNA_AF.plot()\n",
    "# plt.legend()\n",
    "# plt.show()"
   ]
  },
  {
   "cell_type": "code",
   "execution_count": null,
   "metadata": {
    "collapsed": true
   },
   "outputs": [],
   "source": [
    "joined = df_Leukemic.join(df_2AL, how='outer')\n",
    "joined = joined.join(df_4BN, how='outer')\n",
    "joined = joined.sort_values(['2AL', '4BN', 'Leukemic'])\n",
    "joined.plot(linestyle='-', linewidth=1)\n",
    "plt.xticks(rotation='vertical', fontsize=8)\n",
    "plt.show()"
   ]
  },
  {
   "cell_type": "code",
   "execution_count": null,
   "metadata": {
    "collapsed": true
   },
   "outputs": [],
   "source": []
  },
  {
   "cell_type": "code",
   "execution_count": 1,
   "metadata": {
    "collapsed": true
   },
   "outputs": [],
   "source": [
    "# code for integrations stuff\n",
    "import pandas as pd\n",
    "import matplotlib.pyplot as plt\n",
    "from matplotlib import style\n",
    "\n",
    "df = pd.read_csv('/projects/trans_scratch/validations/workspace/szong/Cervical/integration/82_patients/merged_integration_results_82_patients.txt', \n",
    "                 sep='\\t')\n",
    "# subset data based on a column value \n",
    "# df_4BN =df.loc[(df.patient_ID=='AML-16626_Xengraft-16-4BN'),['gene', 'chromosome', 'position', 'ref_base','alt_base', 't_DNA_AF']]\n"
   ]
  },
  {
   "cell_type": "code",
   "execution_count": 40,
   "metadata": {
    "collapsed": false
   },
   "outputs": [
    {
     "name": "stdout",
     "output_type": "stream",
     "text": [
      "46\n",
      "32\n"
     ]
    }
   ],
   "source": [
    "# print(df.head())\n",
    "# {k: list(v) for k,v in df.groupby(\"patient\")[\"virus\"] if len(list(v)) >1}\n",
    "# number of patient with multiple HPV strains\n",
    "patient_multiple_strains = [k for k,v in df.groupby(\"patient\")[\"virus\"] if len(list(v)) >1]\n",
    "print(len(patient_multiple_strains))\n",
    "patient_1_strain = [k for k,v in df.groupby(\"patient\")[\"virus\"] if len(list(v)) ==1]\n",
    "print(len(patient_1_strain))"
   ]
  },
  {
   "cell_type": "code",
   "execution_count": 46,
   "metadata": {
    "collapsed": false
   },
   "outputs": [
    {
     "data": {
      "text/plain": [
       "['HTMCP-03-06-02001',\n",
       " 'HTMCP-03-06-02002',\n",
       " 'HTMCP-03-06-02003',\n",
       " 'HTMCP-03-06-02013',\n",
       " 'HTMCP-03-06-02036',\n",
       " 'HTMCP-03-06-02037',\n",
       " 'HTMCP-03-06-02040',\n",
       " 'HTMCP-03-06-02042',\n",
       " 'HTMCP-03-06-02057',\n",
       " 'HTMCP-03-06-02061',\n",
       " 'HTMCP-03-06-02074',\n",
       " 'HTMCP-03-06-02099',\n",
       " 'HTMCP-03-06-02113',\n",
       " 'HTMCP-03-06-02125',\n",
       " 'HTMCP-03-06-02139',\n",
       " 'HTMCP-03-06-02144',\n",
       " 'HTMCP-03-06-02148',\n",
       " 'HTMCP-03-06-02150',\n",
       " 'HTMCP-03-06-02151',\n",
       " 'HTMCP-03-06-02152',\n",
       " 'HTMCP-03-06-02155',\n",
       " 'HTMCP-03-06-02194',\n",
       " 'HTMCP-03-06-02196',\n",
       " 'HTMCP-03-06-02203',\n",
       " 'HTMCP-03-06-02204',\n",
       " 'HTMCP-03-06-02209',\n",
       " 'HTMCP-03-06-02210',\n",
       " 'HTMCP-03-06-02214',\n",
       " 'HTMCP-03-06-02215',\n",
       " 'HTMCP-03-06-02216',\n",
       " 'HTMCP-03-06-02235',\n",
       " 'HTMCP-03-06-02242']"
      ]
     },
     "execution_count": 46,
     "metadata": {},
     "output_type": "execute_result"
    }
   ],
   "source": [
    "[k for k in patient_1_strain]"
   ]
  },
  {
   "cell_type": "code",
   "execution_count": null,
   "metadata": {
    "collapsed": true
   },
   "outputs": [],
   "source": []
  },
  {
   "cell_type": "code",
   "execution_count": null,
   "metadata": {
    "collapsed": true
   },
   "outputs": [],
   "source": []
  },
  {
   "cell_type": "code",
   "execution_count": null,
   "metadata": {
    "collapsed": true
   },
   "outputs": [],
   "source": []
  },
  {
   "cell_type": "code",
   "execution_count": null,
   "metadata": {
    "collapsed": true
   },
   "outputs": [],
   "source": []
  },
  {
   "cell_type": "code",
   "execution_count": null,
   "metadata": {
    "collapsed": true
   },
   "outputs": [],
   "source": []
  },
  {
   "cell_type": "code",
   "execution_count": null,
   "metadata": {
    "collapsed": true
   },
   "outputs": [],
   "source": [
    "# code Mick Bhatia pyclone results"
   ]
  },
  {
   "cell_type": "code",
   "execution_count": 52,
   "metadata": {
    "collapsed": false
   },
   "outputs": [
    {
     "name": "stdout",
     "output_type": "stream",
     "text": [
      "                                                4BN\n",
      "gene   chromosome position  ref_base alt_base      \n",
      "RBMXL3 X          114426813 C        T         0.11\n",
      "                  114426183 A        G         0.14\n",
      "                  114426031 T        C         0.20\n",
      "                  114426805 A        G         0.13\n",
      "                  114426145 A        G         0.11\n",
      "                                                 Leukemic\n",
      "gene     chromosome position  ref_base alt_base          \n",
      "ZNF701   19         53086240  C        A             0.10\n",
      "RBMXL3   X          114426031 T        C             0.23\n",
      "                    114426145 A        G             0.18\n",
      "                    114425772 T        C             0.24\n",
      "KRTAP2-2 17         39211139  C        A             0.16\n"
     ]
    },
    {
     "data": {
      "image/png": "[encoded data removed]",
      "text/plain": [
       "<matplotlib.figure.Figure at 0x7f22345d5cd0>"
      ]
     },
     "metadata": {},
     "output_type": "display_data"
    }
   ],
   "source": [
    "import pandas as pd\n",
    "import matplotlib.pyplot as plt\n",
    "from matplotlib import style\n",
    "\n",
    "df = pd.read_csv('/projects/trans_scratch/validations/workspace/szong/Mick_Bhatia/pyclone/high_moderate_SNV_summary_with_normal.filtered.somatic.txt', sep='\\t')\n",
    "# df.set_index(['gene', 'chromosome', 'position', 'ref_base','alt_base'], inplace=True)\n",
    "\n",
    "# subset data based on a column value \n",
    "df_4BN =df.loc[(df.patient_ID=='AML-16626_Xengraft-16-4BN'),['gene', 'chromosome', 'position', 'ref_base','alt_base', 't_DNA_AF']]\n",
    "df_4BN.set_index(['gene', 'chromosome', 'position', 'ref_base','alt_base'], inplace=True)\n",
    "df_4BN = df_4BN.rename(columns = {'t_DNA_AF':'4BN'})\n",
    "print(df_4BN.head())\n",
    "\n",
    "# subset data based on a column value \n",
    "df_Leukemic =df.loc[(df.patient_ID=='AML-16626_Leukemic-blast'),['gene', 'chromosome', 'position', 'ref_base','alt_base', 't_DNA_AF']]\n",
    "df_Leukemic.set_index(['gene', 'chromosome', 'position', 'ref_base','alt_base'], inplace=True)\n",
    "df_Leukemic = df_Leukemic.rename(columns = {'t_DNA_AF':'Leukemic'})\n",
    "print(df_Leukemic.head())\n",
    "\n",
    "joined = df_Leukemic.join(df_4BN, how='outer')\n",
    "joined = joined.sort_values(['Leukemic'])\n",
    "joined.plot(linestyle='-', linewidth=1)\n",
    "plt.xticks(rotation='vertical', fontsize=8)\n",
    "plt.show()\n",
    "\n"
   ]
  },
  {
   "cell_type": "code",
   "execution_count": 50,
   "metadata": {
    "collapsed": false
   },
   "outputs": [
    {
     "name": "stdout",
     "output_type": "stream",
     "text": [
      "                                               filtered_num_patients_gene_level  \\\n",
      "gene   chromosome position  ref_base alt_base                                     \n",
      "ZNF701 19         53086240  C        A                                        1   \n",
      "RBMXL3 X          114426813 C        T                                        1   \n",
      "                  114425502 T        C                                        1   \n",
      "                  114426183 A        G                                        1   \n",
      "                                     G                                        1   \n",
      "\n",
      "                                               filtered_num_SNVs_gene_level  \\\n",
      "gene   chromosome position  ref_base alt_base                                 \n",
      "ZNF701 19         53086240  C        A                                    1   \n",
      "RBMXL3 X          114426813 C        T                                   12   \n",
      "                  114425502 T        C                                   12   \n",
      "                  114426183 A        G                                   12   \n",
      "                                     G                                   12   \n",
      "\n",
      "                                               num_patients_gene_level  \\\n",
      "gene   chromosome position  ref_base alt_base                            \n",
      "ZNF701 19         53086240  C        A                               1   \n",
      "RBMXL3 X          114426813 C        T                               1   \n",
      "                  114425502 T        C                               1   \n",
      "                  114426183 A        G                               1   \n",
      "                                     G                               1   \n",
      "\n",
      "                                               num_SNVs_gene_level  \\\n",
      "gene   chromosome position  ref_base alt_base                        \n",
      "ZNF701 19         53086240  C        A                           6   \n",
      "RBMXL3 X          114426813 C        T                          18   \n",
      "                  114425502 T        C                          18   \n",
      "                  114426183 A        G                          18   \n",
      "                                     G                          18   \n",
      "\n",
      "                                               filtered_num_patients_SNV_level  \\\n",
      "gene   chromosome position  ref_base alt_base                                    \n",
      "ZNF701 19         53086240  C        A                                       1   \n",
      "RBMXL3 X          114426813 C        T                                       1   \n",
      "                  114425502 T        C                                       1   \n",
      "                  114426183 A        G                                       1   \n",
      "                                     G                                       1   \n",
      "\n",
      "                                               num_patients_SNV_level  \\\n",
      "gene   chromosome position  ref_base alt_base                           \n",
      "ZNF701 19         53086240  C        A                              1   \n",
      "RBMXL3 X          114426813 C        T                              1   \n",
      "                  114425502 T        C                              1   \n",
      "                  114426183 A        G                              2   \n",
      "                                     G                              2   \n",
      "\n",
      "                                                               patient_ID  \\\n",
      "gene   chromosome position  ref_base alt_base                               \n",
      "ZNF701 19         53086240  C        A           AML-16626_Leukemic-blast   \n",
      "RBMXL3 X          114426813 C        T          AML-16626_Xengraft-16-4BN   \n",
      "                  114425502 T        C         AML-16626_Xenograft-16-3BL   \n",
      "                  114426183 A        G         AML-16626_Xenograft-16-2AL   \n",
      "                                     G         AML-16626_Xenograft-16-2AN   \n",
      "\n",
      "                                                  snp_ID          gmaf  \\\n",
      "gene   chromosome position  ref_base alt_base                            \n",
      "ZNF701 19         53086240  C        A         novel_snp  gmaf_unknown   \n",
      "RBMXL3 X          114426813 C        T         novel_snp  gmaf_unknown   \n",
      "                  114425502 T        C         novel_snp  gmaf_unknown   \n",
      "                  114426183 A        G         novel_snp  gmaf_unknown   \n",
      "                                     G         novel_snp  gmaf_unknown   \n",
      "\n",
      "                                                   cosmic64_ID   ...    \\\n",
      "gene   chromosome position  ref_base alt_base                    ...     \n",
      "ZNF701 19         53086240  C        A         not_in_cosmic64   ...     \n",
      "RBMXL3 X          114426813 C        T         not_in_cosmic64   ...     \n",
      "                  114425502 T        C         not_in_cosmic64   ...     \n",
      "                  114426183 A        G         not_in_cosmic64   ...     \n",
      "                                     G         not_in_cosmic64   ...     \n",
      "\n",
      "                                              t_RNA_cov t_RNA_RefC t_RNA_AltC  \\\n",
      "gene   chromosome position  ref_base alt_base                                   \n",
      "ZNF701 19         53086240  C        A               na         na         na   \n",
      "RBMXL3 X          114426813 C        T               na         na         na   \n",
      "                  114425502 T        C               na         na         na   \n",
      "                  114426183 A        G               na         na         na   \n",
      "                                     G               na         na         na   \n",
      "\n",
      "                                              t_RNA_AF adj_t_RNA_cov  \\\n",
      "gene   chromosome position  ref_base alt_base                          \n",
      "ZNF701 19         53086240  C        A              na            na   \n",
      "RBMXL3 X          114426813 C        T              na            na   \n",
      "                  114425502 T        C              na            na   \n",
      "                  114426183 A        G              na            na   \n",
      "                                     G              na            na   \n",
      "\n",
      "                                              adj_t_RNA_RefC  adj_t_RNA_AltC  \\\n",
      "gene   chromosome position  ref_base alt_base                                  \n",
      "ZNF701 19         53086240  C        A                    na              na   \n",
      "RBMXL3 X          114426813 C        T                    na              na   \n",
      "                  114425502 T        C                    na              na   \n",
      "                  114426183 A        G                    na              na   \n",
      "                                     G                    na              na   \n",
      "\n",
      "                                               adj_t_RNA_AF  \\\n",
      "gene   chromosome position  ref_base alt_base                 \n",
      "ZNF701 19         53086240  C        A                   na   \n",
      "RBMXL3 X          114426813 C        T                   na   \n",
      "                  114425502 T        C                   na   \n",
      "                  114426183 A        G                   na   \n",
      "                                     G                   na   \n",
      "\n",
      "                                               RNA_fisher_pvalue  RNA_tc  \n",
      "gene   chromosome position  ref_base alt_base                             \n",
      "ZNF701 19         53086240  C        A                        na     NaN  \n",
      "RBMXL3 X          114426813 C        T                        na     NaN  \n",
      "                  114425502 T        C                        na     NaN  \n",
      "                  114426183 A        G                        na     NaN  \n",
      "                                     G                        na     NaN  \n",
      "\n",
      "[5 rows x 44 columns]\n"
     ]
    }
   ],
   "source": [
    "print(df.head())"
   ]
  },
  {
   "cell_type": "code",
   "execution_count": null,
   "metadata": {
    "collapsed": true
   },
   "outputs": [],
   "source": [
    "#Cervical TCGA maf "
   ]
  },
  {
   "cell_type": "code",
   "execution_count": 89,
   "metadata": {
    "collapsed": false
   },
   "outputs": [],
   "source": [
    "df =pd.read_csv('/projects/trans_scratch/validations/workspace/szong/Cervical/tcga_variants/tcga_variants.tmp', sep='\\t')"
   ]
  },
  {
   "cell_type": "code",
   "execution_count": 90,
   "metadata": {
    "collapsed": false
   },
   "outputs": [
    {
     "data": {
      "text/html": [
       "<div>\n",
       "<table border=\"1\" class=\"dataframe\">\n",
       "  <thead>\n",
       "    <tr style=\"text-align: right;\">\n",
       "      <th></th>\n",
       "      <th>gene</th>\n",
       "      <th>nci_all_histology</th>\n",
       "      <th>nci_squamous</th>\n",
       "      <th>tcga_all_histology</th>\n",
       "      <th>tcga_squamous</th>\n",
       "    </tr>\n",
       "  </thead>\n",
       "  <tbody>\n",
       "    <tr>\n",
       "      <th>0</th>\n",
       "      <td>PIK3CA</td>\n",
       "      <td>0.37</td>\n",
       "      <td>0.35</td>\n",
       "      <td>0.26</td>\n",
       "      <td>0.25</td>\n",
       "    </tr>\n",
       "    <tr>\n",
       "      <th>1</th>\n",
       "      <td>HLA-A</td>\n",
       "      <td>0.27</td>\n",
       "      <td>0.25</td>\n",
       "      <td>0.08</td>\n",
       "      <td>0.10</td>\n",
       "    </tr>\n",
       "    <tr>\n",
       "      <th>2</th>\n",
       "      <td>HLA-B</td>\n",
       "      <td>0.24</td>\n",
       "      <td>0.21</td>\n",
       "      <td>0.06</td>\n",
       "      <td>0.08</td>\n",
       "    </tr>\n",
       "    <tr>\n",
       "      <th>3</th>\n",
       "      <td>FAT1</td>\n",
       "      <td>0.18</td>\n",
       "      <td>0.14</td>\n",
       "      <td>0.07</td>\n",
       "      <td>0.08</td>\n",
       "    </tr>\n",
       "    <tr>\n",
       "      <th>4</th>\n",
       "      <td>LRP1B</td>\n",
       "      <td>0.18</td>\n",
       "      <td>0.16</td>\n",
       "      <td>0.08</td>\n",
       "      <td>0.08</td>\n",
       "    </tr>\n",
       "  </tbody>\n",
       "</table>\n",
       "</div>"
      ],
      "text/plain": [
       "     gene  nci_all_histology  nci_squamous  tcga_all_histology  tcga_squamous\n",
       "0  PIK3CA               0.37          0.35                0.26           0.25\n",
       "1   HLA-A               0.27          0.25                0.08           0.10\n",
       "2   HLA-B               0.24          0.21                0.06           0.08\n",
       "3    FAT1               0.18          0.14                0.07           0.08\n",
       "4   LRP1B               0.18          0.16                0.08           0.08"
      ]
     },
     "execution_count": 90,
     "metadata": {},
     "output_type": "execute_result"
    }
   ],
   "source": [
    "df.head()"
   ]
  },
  {
   "cell_type": "code",
   "execution_count": 76,
   "metadata": {
    "collapsed": false
   },
   "outputs": [],
   "source": [
    "df_hist = pd.read_csv('/projects/trans_scratch/validations/workspace/szong/Cervical/tcga_variants/tcga_histology.txt', sep='\\t')"
   ]
  },
  {
   "cell_type": "code",
   "execution_count": 82,
   "metadata": {
    "collapsed": false
   },
   "outputs": [
    {
     "data": {
      "text/html": [
       "<div>\n",
       "<table border=\"1\" class=\"dataframe\">\n",
       "  <thead>\n",
       "    <tr style=\"text-align: right;\">\n",
       "      <th></th>\n",
       "      <th>patient</th>\n",
       "      <th>histology</th>\n",
       "    </tr>\n",
       "  </thead>\n",
       "  <tbody>\n",
       "    <tr>\n",
       "      <th>0</th>\n",
       "      <td>TCGA-BI-A0VR-01A-11D-A10S-08</td>\n",
       "      <td>Squamous</td>\n",
       "    </tr>\n",
       "    <tr>\n",
       "      <th>1</th>\n",
       "      <td>TCGA-BI-A0VS-01A-11D-A10S-08</td>\n",
       "      <td>Squamous</td>\n",
       "    </tr>\n",
       "    <tr>\n",
       "      <th>2</th>\n",
       "      <td>TCGA-BI-A20A-01A-11D-A14W-08</td>\n",
       "      <td>Squamous</td>\n",
       "    </tr>\n",
       "    <tr>\n",
       "      <th>3</th>\n",
       "      <td>TCGA-C5-A0TN-01A-21D-A14W-08</td>\n",
       "      <td>Squamous</td>\n",
       "    </tr>\n",
       "    <tr>\n",
       "      <th>4</th>\n",
       "      <td>TCGA-C5-A1BE-01B-11D-A13W-08</td>\n",
       "      <td>Squamous</td>\n",
       "    </tr>\n",
       "  </tbody>\n",
       "</table>\n",
       "</div>"
      ],
      "text/plain": [
       "                        patient histology\n",
       "0  TCGA-BI-A0VR-01A-11D-A10S-08  Squamous\n",
       "1  TCGA-BI-A0VS-01A-11D-A10S-08  Squamous\n",
       "2  TCGA-BI-A20A-01A-11D-A14W-08  Squamous\n",
       "3  TCGA-C5-A0TN-01A-21D-A14W-08  Squamous\n",
       "4  TCGA-C5-A1BE-01B-11D-A13W-08  Squamous"
      ]
     },
     "execution_count": 82,
     "metadata": {},
     "output_type": "execute_result"
    }
   ],
   "source": [
    "df_hist.head()"
   ]
  },
  {
   "cell_type": "code",
   "execution_count": 81,
   "metadata": {
    "collapsed": false
   },
   "outputs": [],
   "source": [
    "# df_hist[df_hist['histology']!='Squamous']"
   ]
  },
  {
   "cell_type": "code",
   "execution_count": 85,
   "metadata": {
    "collapsed": false
   },
   "outputs": [
    {
     "data": {
      "text/html": [
       "<div>\n",
       "<table border=\"1\" class=\"dataframe\">\n",
       "  <thead>\n",
       "    <tr style=\"text-align: right;\">\n",
       "      <th></th>\n",
       "      <th>gene</th>\n",
       "      <th>nci_all_histology</th>\n",
       "      <th>nci_squamous</th>\n",
       "      <th>tcga_all_histology</th>\n",
       "      <th>tcga_squamous</th>\n",
       "    </tr>\n",
       "  </thead>\n",
       "  <tbody>\n",
       "    <tr>\n",
       "      <th>0</th>\n",
       "      <td>PIK3CA</td>\n",
       "      <td>0.37</td>\n",
       "      <td>0.35</td>\n",
       "      <td>0.26</td>\n",
       "      <td>0.25</td>\n",
       "    </tr>\n",
       "    <tr>\n",
       "      <th>1</th>\n",
       "      <td>HLA-A</td>\n",
       "      <td>0.27</td>\n",
       "      <td>0.25</td>\n",
       "      <td>0.08</td>\n",
       "      <td>0.10</td>\n",
       "    </tr>\n",
       "    <tr>\n",
       "      <th>2</th>\n",
       "      <td>HLA-B</td>\n",
       "      <td>0.24</td>\n",
       "      <td>0.21</td>\n",
       "      <td>0.06</td>\n",
       "      <td>0.08</td>\n",
       "    </tr>\n",
       "    <tr>\n",
       "      <th>3</th>\n",
       "      <td>FAT1</td>\n",
       "      <td>0.18</td>\n",
       "      <td>0.14</td>\n",
       "      <td>0.07</td>\n",
       "      <td>0.08</td>\n",
       "    </tr>\n",
       "    <tr>\n",
       "      <th>4</th>\n",
       "      <td>LRP1B</td>\n",
       "      <td>0.18</td>\n",
       "      <td>0.16</td>\n",
       "      <td>0.08</td>\n",
       "      <td>0.08</td>\n",
       "    </tr>\n",
       "  </tbody>\n",
       "</table>\n",
       "</div>"
      ],
      "text/plain": [
       "     gene  nci_all_histology  nci_squamous  tcga_all_histology  tcga_squamous\n",
       "0  PIK3CA               0.37          0.35                0.26           0.25\n",
       "1   HLA-A               0.27          0.25                0.08           0.10\n",
       "2   HLA-B               0.24          0.21                0.06           0.08\n",
       "3    FAT1               0.18          0.14                0.07           0.08\n",
       "4   LRP1B               0.18          0.16                0.08           0.08"
      ]
     },
     "execution_count": 85,
     "metadata": {},
     "output_type": "execute_result"
    }
   ],
   "source": [
    "df.head()"
   ]
  },
  {
   "cell_type": "code",
   "execution_count": 80,
   "metadata": {
    "collapsed": false
   },
   "outputs": [
    {
     "ename": "KeyError",
     "evalue": "'Tumor_Sample_Barcode'",
     "output_type": "error",
     "traceback": [
      "\u001b[0;31m---------------------------------------------------------------------------\u001b[0m",
      "\u001b[0;31mKeyError\u001b[0m                                  Traceback (most recent call last)",
      "\u001b[0;32m<ipython-input-80-2592670550d9>\u001b[0m in \u001b[0;36m<module>\u001b[0;34m()\u001b[0m\n\u001b[0;32m----> 1\u001b[0;31m \u001b[0mmerge\u001b[0m \u001b[0;34m=\u001b[0m \u001b[0mpd\u001b[0m\u001b[0;34m.\u001b[0m\u001b[0mmerge\u001b[0m\u001b[0;34m(\u001b[0m\u001b[0mdf\u001b[0m\u001b[0;34m,\u001b[0m \u001b[0mdf_hist\u001b[0m\u001b[0;34m,\u001b[0m \u001b[0mleft_on\u001b[0m\u001b[0;34m=\u001b[0m\u001b[0;34m'Tumor_Sample_Barcode'\u001b[0m\u001b[0;34m,\u001b[0m \u001b[0mright_on\u001b[0m\u001b[0;34m=\u001b[0m\u001b[0;34m'patient'\u001b[0m\u001b[0;34m)\u001b[0m\u001b[0;34m\u001b[0m\u001b[0m\n\u001b[0m",
      "\u001b[0;32m/home/szong/projects/development/coverage/venv/lib/python2.7/site-packages/pandas/tools/merge.pyc\u001b[0m in \u001b[0;36mmerge\u001b[0;34m(left, right, how, on, left_on, right_on, left_index, right_index, sort, suffixes, copy, indicator)\u001b[0m\n\u001b[1;32m     36\u001b[0m                          \u001b[0mright_on\u001b[0m\u001b[0;34m=\u001b[0m\u001b[0mright_on\u001b[0m\u001b[0;34m,\u001b[0m \u001b[0mleft_index\u001b[0m\u001b[0;34m=\u001b[0m\u001b[0mleft_index\u001b[0m\u001b[0;34m,\u001b[0m\u001b[0;34m\u001b[0m\u001b[0m\n\u001b[1;32m     37\u001b[0m                          \u001b[0mright_index\u001b[0m\u001b[0;34m=\u001b[0m\u001b[0mright_index\u001b[0m\u001b[0;34m,\u001b[0m \u001b[0msort\u001b[0m\u001b[0;34m=\u001b[0m\u001b[0msort\u001b[0m\u001b[0;34m,\u001b[0m \u001b[0msuffixes\u001b[0m\u001b[0;34m=\u001b[0m\u001b[0msuffixes\u001b[0m\u001b[0;34m,\u001b[0m\u001b[0;34m\u001b[0m\u001b[0m\n\u001b[0;32m---> 38\u001b[0;31m                          copy=copy, indicator=indicator)\n\u001b[0m\u001b[1;32m     39\u001b[0m     \u001b[0;32mreturn\u001b[0m \u001b[0mop\u001b[0m\u001b[0;34m.\u001b[0m\u001b[0mget_result\u001b[0m\u001b[0;34m(\u001b[0m\u001b[0;34m)\u001b[0m\u001b[0;34m\u001b[0m\u001b[0m\n\u001b[1;32m     40\u001b[0m \u001b[0;32mif\u001b[0m \u001b[0m__debug__\u001b[0m\u001b[0;34m:\u001b[0m\u001b[0;34m\u001b[0m\u001b[0m\n",
      "\u001b[0;32m/home/szong/projects/development/coverage/venv/lib/python2.7/site-packages/pandas/tools/merge.pyc\u001b[0m in \u001b[0;36m__init__\u001b[0;34m(self, left, right, how, on, left_on, right_on, axis, left_index, right_index, sort, suffixes, copy, indicator)\u001b[0m\n\u001b[1;32m    208\u001b[0m         (self.left_join_keys,\n\u001b[1;32m    209\u001b[0m          \u001b[0mself\u001b[0m\u001b[0;34m.\u001b[0m\u001b[0mright_join_keys\u001b[0m\u001b[0;34m,\u001b[0m\u001b[0;34m\u001b[0m\u001b[0m\n\u001b[0;32m--> 210\u001b[0;31m          self.join_names) = self._get_merge_keys()\n\u001b[0m\u001b[1;32m    211\u001b[0m \u001b[0;34m\u001b[0m\u001b[0m\n\u001b[1;32m    212\u001b[0m     \u001b[0;32mdef\u001b[0m \u001b[0mget_result\u001b[0m\u001b[0;34m(\u001b[0m\u001b[0mself\u001b[0m\u001b[0;34m)\u001b[0m\u001b[0;34m:\u001b[0m\u001b[0;34m\u001b[0m\u001b[0m\n",
      "\u001b[0;32m/home/szong/projects/development/coverage/venv/lib/python2.7/site-packages/pandas/tools/merge.pyc\u001b[0m in \u001b[0;36m_get_merge_keys\u001b[0;34m(self)\u001b[0m\n\u001b[1;32m    441\u001b[0m                     \u001b[0;32melse\u001b[0m\u001b[0;34m:\u001b[0m\u001b[0;34m\u001b[0m\u001b[0m\n\u001b[1;32m    442\u001b[0m                         \u001b[0mright_keys\u001b[0m\u001b[0;34m.\u001b[0m\u001b[0mappend\u001b[0m\u001b[0;34m(\u001b[0m\u001b[0mrk\u001b[0m\u001b[0;34m)\u001b[0m\u001b[0;34m\u001b[0m\u001b[0m\n\u001b[0;32m--> 443\u001b[0;31m                     \u001b[0mleft_keys\u001b[0m\u001b[0;34m.\u001b[0m\u001b[0mappend\u001b[0m\u001b[0;34m(\u001b[0m\u001b[0mleft\u001b[0m\u001b[0;34m[\u001b[0m\u001b[0mlk\u001b[0m\u001b[0;34m]\u001b[0m\u001b[0;34m.\u001b[0m\u001b[0m_values\u001b[0m\u001b[0;34m)\u001b[0m\u001b[0;34m\u001b[0m\u001b[0m\n\u001b[0m\u001b[1;32m    444\u001b[0m                     \u001b[0mjoin_names\u001b[0m\u001b[0;34m.\u001b[0m\u001b[0mappend\u001b[0m\u001b[0;34m(\u001b[0m\u001b[0mlk\u001b[0m\u001b[0;34m)\u001b[0m\u001b[0;34m\u001b[0m\u001b[0m\n\u001b[1;32m    445\u001b[0m         \u001b[0;32melif\u001b[0m \u001b[0m_any\u001b[0m\u001b[0;34m(\u001b[0m\u001b[0mself\u001b[0m\u001b[0;34m.\u001b[0m\u001b[0mleft_on\u001b[0m\u001b[0;34m)\u001b[0m\u001b[0;34m:\u001b[0m\u001b[0;34m\u001b[0m\u001b[0m\n",
      "\u001b[0;32m/home/szong/projects/development/coverage/venv/lib/python2.7/site-packages/pandas/core/frame.pyc\u001b[0m in \u001b[0;36m__getitem__\u001b[0;34m(self, key)\u001b[0m\n\u001b[1;32m   1995\u001b[0m             \u001b[0;32mreturn\u001b[0m \u001b[0mself\u001b[0m\u001b[0;34m.\u001b[0m\u001b[0m_getitem_multilevel\u001b[0m\u001b[0;34m(\u001b[0m\u001b[0mkey\u001b[0m\u001b[0;34m)\u001b[0m\u001b[0;34m\u001b[0m\u001b[0m\n\u001b[1;32m   1996\u001b[0m         \u001b[0;32melse\u001b[0m\u001b[0;34m:\u001b[0m\u001b[0;34m\u001b[0m\u001b[0m\n\u001b[0;32m-> 1997\u001b[0;31m             \u001b[0;32mreturn\u001b[0m \u001b[0mself\u001b[0m\u001b[0;34m.\u001b[0m\u001b[0m_getitem_column\u001b[0m\u001b[0;34m(\u001b[0m\u001b[0mkey\u001b[0m\u001b[0;34m)\u001b[0m\u001b[0;34m\u001b[0m\u001b[0m\n\u001b[0m\u001b[1;32m   1998\u001b[0m \u001b[0;34m\u001b[0m\u001b[0m\n\u001b[1;32m   1999\u001b[0m     \u001b[0;32mdef\u001b[0m \u001b[0m_getitem_column\u001b[0m\u001b[0;34m(\u001b[0m\u001b[0mself\u001b[0m\u001b[0;34m,\u001b[0m \u001b[0mkey\u001b[0m\u001b[0;34m)\u001b[0m\u001b[0;34m:\u001b[0m\u001b[0;34m\u001b[0m\u001b[0m\n",
      "\u001b[0;32m/home/szong/projects/development/coverage/venv/lib/python2.7/site-packages/pandas/core/frame.pyc\u001b[0m in \u001b[0;36m_getitem_column\u001b[0;34m(self, key)\u001b[0m\n\u001b[1;32m   2002\u001b[0m         \u001b[0;31m# get column\u001b[0m\u001b[0;34m\u001b[0m\u001b[0;34m\u001b[0m\u001b[0m\n\u001b[1;32m   2003\u001b[0m         \u001b[0;32mif\u001b[0m \u001b[0mself\u001b[0m\u001b[0;34m.\u001b[0m\u001b[0mcolumns\u001b[0m\u001b[0;34m.\u001b[0m\u001b[0mis_unique\u001b[0m\u001b[0;34m:\u001b[0m\u001b[0;34m\u001b[0m\u001b[0m\n\u001b[0;32m-> 2004\u001b[0;31m             \u001b[0;32mreturn\u001b[0m \u001b[0mself\u001b[0m\u001b[0;34m.\u001b[0m\u001b[0m_get_item_cache\u001b[0m\u001b[0;34m(\u001b[0m\u001b[0mkey\u001b[0m\u001b[0;34m)\u001b[0m\u001b[0;34m\u001b[0m\u001b[0m\n\u001b[0m\u001b[1;32m   2005\u001b[0m \u001b[0;34m\u001b[0m\u001b[0m\n\u001b[1;32m   2006\u001b[0m         \u001b[0;31m# duplicate columns & possible reduce dimensionality\u001b[0m\u001b[0;34m\u001b[0m\u001b[0;34m\u001b[0m\u001b[0m\n",
      "\u001b[0;32m/home/szong/projects/development/coverage/venv/lib/python2.7/site-packages/pandas/core/generic.pyc\u001b[0m in \u001b[0;36m_get_item_cache\u001b[0;34m(self, item)\u001b[0m\n\u001b[1;32m   1348\u001b[0m         \u001b[0mres\u001b[0m \u001b[0;34m=\u001b[0m \u001b[0mcache\u001b[0m\u001b[0;34m.\u001b[0m\u001b[0mget\u001b[0m\u001b[0;34m(\u001b[0m\u001b[0mitem\u001b[0m\u001b[0;34m)\u001b[0m\u001b[0;34m\u001b[0m\u001b[0m\n\u001b[1;32m   1349\u001b[0m         \u001b[0;32mif\u001b[0m \u001b[0mres\u001b[0m \u001b[0;32mis\u001b[0m \u001b[0mNone\u001b[0m\u001b[0;34m:\u001b[0m\u001b[0;34m\u001b[0m\u001b[0m\n\u001b[0;32m-> 1350\u001b[0;31m             \u001b[0mvalues\u001b[0m \u001b[0;34m=\u001b[0m \u001b[0mself\u001b[0m\u001b[0;34m.\u001b[0m\u001b[0m_data\u001b[0m\u001b[0;34m.\u001b[0m\u001b[0mget\u001b[0m\u001b[0;34m(\u001b[0m\u001b[0mitem\u001b[0m\u001b[0;34m)\u001b[0m\u001b[0;34m\u001b[0m\u001b[0m\n\u001b[0m\u001b[1;32m   1351\u001b[0m             \u001b[0mres\u001b[0m \u001b[0;34m=\u001b[0m \u001b[0mself\u001b[0m\u001b[0;34m.\u001b[0m\u001b[0m_box_item_values\u001b[0m\u001b[0;34m(\u001b[0m\u001b[0mitem\u001b[0m\u001b[0;34m,\u001b[0m \u001b[0mvalues\u001b[0m\u001b[0;34m)\u001b[0m\u001b[0;34m\u001b[0m\u001b[0m\n\u001b[1;32m   1352\u001b[0m             \u001b[0mcache\u001b[0m\u001b[0;34m[\u001b[0m\u001b[0mitem\u001b[0m\u001b[0;34m]\u001b[0m \u001b[0;34m=\u001b[0m \u001b[0mres\u001b[0m\u001b[0;34m\u001b[0m\u001b[0m\n",
      "\u001b[0;32m/home/szong/projects/development/coverage/venv/lib/python2.7/site-packages/pandas/core/internals.pyc\u001b[0m in \u001b[0;36mget\u001b[0;34m(self, item, fastpath)\u001b[0m\n\u001b[1;32m   3288\u001b[0m \u001b[0;34m\u001b[0m\u001b[0m\n\u001b[1;32m   3289\u001b[0m             \u001b[0;32mif\u001b[0m \u001b[0;32mnot\u001b[0m \u001b[0misnull\u001b[0m\u001b[0;34m(\u001b[0m\u001b[0mitem\u001b[0m\u001b[0;34m)\u001b[0m\u001b[0;34m:\u001b[0m\u001b[0;34m\u001b[0m\u001b[0m\n\u001b[0;32m-> 3290\u001b[0;31m                 \u001b[0mloc\u001b[0m \u001b[0;34m=\u001b[0m \u001b[0mself\u001b[0m\u001b[0;34m.\u001b[0m\u001b[0mitems\u001b[0m\u001b[0;34m.\u001b[0m\u001b[0mget_loc\u001b[0m\u001b[0;34m(\u001b[0m\u001b[0mitem\u001b[0m\u001b[0;34m)\u001b[0m\u001b[0;34m\u001b[0m\u001b[0m\n\u001b[0m\u001b[1;32m   3291\u001b[0m             \u001b[0;32melse\u001b[0m\u001b[0;34m:\u001b[0m\u001b[0;34m\u001b[0m\u001b[0m\n\u001b[1;32m   3292\u001b[0m                 \u001b[0mindexer\u001b[0m \u001b[0;34m=\u001b[0m \u001b[0mnp\u001b[0m\u001b[0;34m.\u001b[0m\u001b[0marange\u001b[0m\u001b[0;34m(\u001b[0m\u001b[0mlen\u001b[0m\u001b[0;34m(\u001b[0m\u001b[0mself\u001b[0m\u001b[0;34m.\u001b[0m\u001b[0mitems\u001b[0m\u001b[0;34m)\u001b[0m\u001b[0;34m)\u001b[0m\u001b[0;34m[\u001b[0m\u001b[0misnull\u001b[0m\u001b[0;34m(\u001b[0m\u001b[0mself\u001b[0m\u001b[0;34m.\u001b[0m\u001b[0mitems\u001b[0m\u001b[0;34m)\u001b[0m\u001b[0;34m]\u001b[0m\u001b[0;34m\u001b[0m\u001b[0m\n",
      "\u001b[0;32m/home/szong/projects/development/coverage/venv/lib/python2.7/site-packages/pandas/indexes/base.pyc\u001b[0m in \u001b[0;36mget_loc\u001b[0;34m(self, key, method, tolerance)\u001b[0m\n\u001b[1;32m   1945\u001b[0m                 \u001b[0;32mreturn\u001b[0m \u001b[0mself\u001b[0m\u001b[0;34m.\u001b[0m\u001b[0m_engine\u001b[0m\u001b[0;34m.\u001b[0m\u001b[0mget_loc\u001b[0m\u001b[0;34m(\u001b[0m\u001b[0mkey\u001b[0m\u001b[0;34m)\u001b[0m\u001b[0;34m\u001b[0m\u001b[0m\n\u001b[1;32m   1946\u001b[0m             \u001b[0;32mexcept\u001b[0m \u001b[0mKeyError\u001b[0m\u001b[0;34m:\u001b[0m\u001b[0;34m\u001b[0m\u001b[0m\n\u001b[0;32m-> 1947\u001b[0;31m                 \u001b[0;32mreturn\u001b[0m \u001b[0mself\u001b[0m\u001b[0;34m.\u001b[0m\u001b[0m_engine\u001b[0m\u001b[0;34m.\u001b[0m\u001b[0mget_loc\u001b[0m\u001b[0;34m(\u001b[0m\u001b[0mself\u001b[0m\u001b[0;34m.\u001b[0m\u001b[0m_maybe_cast_indexer\u001b[0m\u001b[0;34m(\u001b[0m\u001b[0mkey\u001b[0m\u001b[0;34m)\u001b[0m\u001b[0;34m)\u001b[0m\u001b[0;34m\u001b[0m\u001b[0m\n\u001b[0m\u001b[1;32m   1948\u001b[0m \u001b[0;34m\u001b[0m\u001b[0m\n\u001b[1;32m   1949\u001b[0m         \u001b[0mindexer\u001b[0m \u001b[0;34m=\u001b[0m \u001b[0mself\u001b[0m\u001b[0;34m.\u001b[0m\u001b[0mget_indexer\u001b[0m\u001b[0;34m(\u001b[0m\u001b[0;34m[\u001b[0m\u001b[0mkey\u001b[0m\u001b[0;34m]\u001b[0m\u001b[0;34m,\u001b[0m \u001b[0mmethod\u001b[0m\u001b[0;34m=\u001b[0m\u001b[0mmethod\u001b[0m\u001b[0;34m,\u001b[0m \u001b[0mtolerance\u001b[0m\u001b[0;34m=\u001b[0m\u001b[0mtolerance\u001b[0m\u001b[0;34m)\u001b[0m\u001b[0;34m\u001b[0m\u001b[0m\n",
      "\u001b[0;32mpandas/index.pyx\u001b[0m in \u001b[0;36mpandas.index.IndexEngine.get_loc (pandas/index.c:4154)\u001b[0;34m()\u001b[0m\n",
      "\u001b[0;32mpandas/index.pyx\u001b[0m in \u001b[0;36mpandas.index.IndexEngine.get_loc (pandas/index.c:4018)\u001b[0;34m()\u001b[0m\n",
      "\u001b[0;32mpandas/hashtable.pyx\u001b[0m in \u001b[0;36mpandas.hashtable.PyObjectHashTable.get_item (pandas/hashtable.c:12368)\u001b[0;34m()\u001b[0m\n",
      "\u001b[0;32mpandas/hashtable.pyx\u001b[0m in \u001b[0;36mpandas.hashtable.PyObjectHashTable.get_item (pandas/hashtable.c:12322)\u001b[0;34m()\u001b[0m\n",
      "\u001b[0;31mKeyError\u001b[0m: 'Tumor_Sample_Barcode'"
     ]
    }
   ],
   "source": [
    "merge = pd.merge(df, df_hist, left_on='Tumor_Sample_Barcode', right_on='patient')"
   ]
  },
  {
   "cell_type": "code",
   "execution_count": 50,
   "metadata": {
    "collapsed": false
   },
   "outputs": [],
   "source": [
    "df = merge\n",
    "\n",
    "merge\n",
    "\n",
    "groups = df.groupby('Hugo_Symbol')\n",
    "for name, group in groups:\n",
    "    print('{0}\\t{1}').format(name, len(set(group['Tumor_Sample_Barcode']))/178.0)\n",
    "df.head()"
   ]
  },
  {
   "cell_type": "code",
   "execution_count": 54,
   "metadata": {
    "collapsed": true
   },
   "outputs": [],
   "source": [
    "# variants in NCI HIV Cervical 82 patients"
   ]
  },
  {
   "cell_type": "code",
   "execution_count": 138,
   "metadata": {
    "collapsed": true
   },
   "outputs": [],
   "source": [
    "# SNVs\n",
    "df_snvs = pd.read_csv('/projects/trans_scratch/validations/workspace/szong/Cervical/variant_bwamem/82_patients/high_moderate_SNV_summary_with_normal_82_patients.filtered.somatic.txt', sep='\\t')"
   ]
  },
  {
   "cell_type": "code",
   "execution_count": 139,
   "metadata": {
    "collapsed": false
   },
   "outputs": [
    {
     "data": {
      "text/html": [
       "<div>\n",
       "<table border=\"1\" class=\"dataframe\">\n",
       "  <thead>\n",
       "    <tr style=\"text-align: right;\">\n",
       "      <th></th>\n",
       "      <th>gene</th>\n",
       "      <th>filtered_num_patients_gene_level</th>\n",
       "      <th>filtered_num_SNVs_gene_level</th>\n",
       "      <th>num_patients_gene_level</th>\n",
       "      <th>num_SNVs_gene_level</th>\n",
       "      <th>chromosome</th>\n",
       "      <th>position</th>\n",
       "      <th>ref_base</th>\n",
       "      <th>alt_base</th>\n",
       "      <th>filtered_num_patients_SNV_level</th>\n",
       "      <th>...</th>\n",
       "      <th>t_RNA_cov</th>\n",
       "      <th>t_RNA_RefC</th>\n",
       "      <th>t_RNA_AltC</th>\n",
       "      <th>t_RNA_AF</th>\n",
       "      <th>adj_t_RNA_cov</th>\n",
       "      <th>adj_t_RNA_RefC</th>\n",
       "      <th>adj_t_RNA_AltC</th>\n",
       "      <th>adj_t_RNA_AF</th>\n",
       "      <th>RNA_fisher_pvalue</th>\n",
       "      <th>RNA_tc</th>\n",
       "    </tr>\n",
       "  </thead>\n",
       "  <tbody>\n",
       "    <tr>\n",
       "      <th>0</th>\n",
       "      <td>UBE2Q1</td>\n",
       "      <td>1</td>\n",
       "      <td>1</td>\n",
       "      <td>3</td>\n",
       "      <td>2</td>\n",
       "      <td>1</td>\n",
       "      <td>154530861</td>\n",
       "      <td>C</td>\n",
       "      <td>A</td>\n",
       "      <td>1</td>\n",
       "      <td>...</td>\n",
       "      <td>213</td>\n",
       "      <td>146</td>\n",
       "      <td>67</td>\n",
       "      <td>0.31</td>\n",
       "      <td>na</td>\n",
       "      <td>na</td>\n",
       "      <td>na</td>\n",
       "      <td>na</td>\n",
       "      <td>na</td>\n",
       "      <td>70</td>\n",
       "    </tr>\n",
       "    <tr>\n",
       "      <th>1</th>\n",
       "      <td>DUOXA1</td>\n",
       "      <td>2</td>\n",
       "      <td>2</td>\n",
       "      <td>65</td>\n",
       "      <td>9</td>\n",
       "      <td>15</td>\n",
       "      <td>45412938</td>\n",
       "      <td>C</td>\n",
       "      <td>T</td>\n",
       "      <td>1</td>\n",
       "      <td>...</td>\n",
       "      <td>203</td>\n",
       "      <td>171</td>\n",
       "      <td>32</td>\n",
       "      <td>0.16</td>\n",
       "      <td>na</td>\n",
       "      <td>na</td>\n",
       "      <td>na</td>\n",
       "      <td>na</td>\n",
       "      <td>na</td>\n",
       "      <td>70</td>\n",
       "    </tr>\n",
       "    <tr>\n",
       "      <th>2</th>\n",
       "      <td>DUOXA1</td>\n",
       "      <td>2</td>\n",
       "      <td>2</td>\n",
       "      <td>65</td>\n",
       "      <td>9</td>\n",
       "      <td>15</td>\n",
       "      <td>45415069</td>\n",
       "      <td>C</td>\n",
       "      <td>A</td>\n",
       "      <td>1</td>\n",
       "      <td>...</td>\n",
       "      <td>1</td>\n",
       "      <td>1</td>\n",
       "      <td>0</td>\n",
       "      <td>0.00</td>\n",
       "      <td>na</td>\n",
       "      <td>na</td>\n",
       "      <td>na</td>\n",
       "      <td>na</td>\n",
       "      <td>na</td>\n",
       "      <td>65</td>\n",
       "    </tr>\n",
       "    <tr>\n",
       "      <th>3</th>\n",
       "      <td>UBE2Q2</td>\n",
       "      <td>1</td>\n",
       "      <td>1</td>\n",
       "      <td>82</td>\n",
       "      <td>3</td>\n",
       "      <td>15</td>\n",
       "      <td>76171485</td>\n",
       "      <td>G</td>\n",
       "      <td>T</td>\n",
       "      <td>1</td>\n",
       "      <td>...</td>\n",
       "      <td>190</td>\n",
       "      <td>176</td>\n",
       "      <td>7</td>\n",
       "      <td>0.04</td>\n",
       "      <td>na</td>\n",
       "      <td>na</td>\n",
       "      <td>na</td>\n",
       "      <td>na</td>\n",
       "      <td>na</td>\n",
       "      <td>65</td>\n",
       "    </tr>\n",
       "    <tr>\n",
       "      <th>4</th>\n",
       "      <td>RNF10</td>\n",
       "      <td>3</td>\n",
       "      <td>3</td>\n",
       "      <td>8</td>\n",
       "      <td>7</td>\n",
       "      <td>12</td>\n",
       "      <td>120984215</td>\n",
       "      <td>G</td>\n",
       "      <td>T</td>\n",
       "      <td>1</td>\n",
       "      <td>...</td>\n",
       "      <td>442</td>\n",
       "      <td>265</td>\n",
       "      <td>165</td>\n",
       "      <td>0.38</td>\n",
       "      <td>na</td>\n",
       "      <td>na</td>\n",
       "      <td>na</td>\n",
       "      <td>na</td>\n",
       "      <td>na</td>\n",
       "      <td>50</td>\n",
       "    </tr>\n",
       "  </tbody>\n",
       "</table>\n",
       "<p>5 rows × 49 columns</p>\n",
       "</div>"
      ],
      "text/plain": [
       "     gene  filtered_num_patients_gene_level  filtered_num_SNVs_gene_level  \\\n",
       "0  UBE2Q1                                 1                             1   \n",
       "1  DUOXA1                                 2                             2   \n",
       "2  DUOXA1                                 2                             2   \n",
       "3  UBE2Q2                                 1                             1   \n",
       "4   RNF10                                 3                             3   \n",
       "\n",
       "   num_patients_gene_level  num_SNVs_gene_level chromosome   position  \\\n",
       "0                        3                    2          1  154530861   \n",
       "1                       65                    9         15   45412938   \n",
       "2                       65                    9         15   45415069   \n",
       "3                       82                    3         15   76171485   \n",
       "4                        8                    7         12  120984215   \n",
       "\n",
       "  ref_base alt_base  filtered_num_patients_SNV_level  ...    t_RNA_cov  \\\n",
       "0        C        A                                1  ...          213   \n",
       "1        C        T                                1  ...          203   \n",
       "2        C        A                                1  ...            1   \n",
       "3        G        T                                1  ...          190   \n",
       "4        G        T                                1  ...          442   \n",
       "\n",
       "  t_RNA_RefC t_RNA_AltC t_RNA_AF adj_t_RNA_cov adj_t_RNA_RefC adj_t_RNA_AltC  \\\n",
       "0        146         67     0.31            na             na             na   \n",
       "1        171         32     0.16            na             na             na   \n",
       "2          1          0     0.00            na             na             na   \n",
       "3        176          7     0.04            na             na             na   \n",
       "4        265        165     0.38            na             na             na   \n",
       "\n",
       "  adj_t_RNA_AF RNA_fisher_pvalue RNA_tc  \n",
       "0           na                na     70  \n",
       "1           na                na     70  \n",
       "2           na                na     65  \n",
       "3           na                na     65  \n",
       "4           na                na     50  \n",
       "\n",
       "[5 rows x 49 columns]"
      ]
     },
     "execution_count": 139,
     "metadata": {},
     "output_type": "execute_result"
    }
   ],
   "source": [
    "df_snvs.head()"
   ]
  },
  {
   "cell_type": "code",
   "execution_count": 92,
   "metadata": {
    "collapsed": false
   },
   "outputs": [],
   "source": [
    "df_snvs = df_snvs[['gene', 'patient_ID']]\n",
    "df_snvs['patient_new_ID'] = df_snvs['patient_ID'].apply(lambda x: x.split('_')[0])"
   ]
  },
  {
   "cell_type": "code",
   "execution_count": 93,
   "metadata": {
    "collapsed": false
   },
   "outputs": [
    {
     "data": {
      "text/html": [
       "<div>\n",
       "<table border=\"1\" class=\"dataframe\">\n",
       "  <thead>\n",
       "    <tr style=\"text-align: right;\">\n",
       "      <th></th>\n",
       "      <th>gene</th>\n",
       "      <th>patient_ID</th>\n",
       "      <th>patient_new_ID</th>\n",
       "    </tr>\n",
       "  </thead>\n",
       "  <tbody>\n",
       "    <tr>\n",
       "      <th>0</th>\n",
       "      <td>UBE2Q1</td>\n",
       "      <td>HTMCP-03-06-02196_malignant</td>\n",
       "      <td>HTMCP-03-06-02196</td>\n",
       "    </tr>\n",
       "    <tr>\n",
       "      <th>1</th>\n",
       "      <td>DUOXA1</td>\n",
       "      <td>HTMCP-03-06-02012_malignant</td>\n",
       "      <td>HTMCP-03-06-02012</td>\n",
       "    </tr>\n",
       "    <tr>\n",
       "      <th>2</th>\n",
       "      <td>DUOXA1</td>\n",
       "      <td>HTMCP-03-06-02026_malignant</td>\n",
       "      <td>HTMCP-03-06-02026</td>\n",
       "    </tr>\n",
       "    <tr>\n",
       "      <th>3</th>\n",
       "      <td>UBE2Q2</td>\n",
       "      <td>HTMCP-03-06-02026_malignant</td>\n",
       "      <td>HTMCP-03-06-02026</td>\n",
       "    </tr>\n",
       "    <tr>\n",
       "      <th>4</th>\n",
       "      <td>RNF10</td>\n",
       "      <td>HTMCP-03-06-02007_malignant</td>\n",
       "      <td>HTMCP-03-06-02007</td>\n",
       "    </tr>\n",
       "  </tbody>\n",
       "</table>\n",
       "</div>"
      ],
      "text/plain": [
       "     gene                   patient_ID     patient_new_ID\n",
       "0  UBE2Q1  HTMCP-03-06-02196_malignant  HTMCP-03-06-02196\n",
       "1  DUOXA1  HTMCP-03-06-02012_malignant  HTMCP-03-06-02012\n",
       "2  DUOXA1  HTMCP-03-06-02026_malignant  HTMCP-03-06-02026\n",
       "3  UBE2Q2  HTMCP-03-06-02026_malignant  HTMCP-03-06-02026\n",
       "4   RNF10  HTMCP-03-06-02007_malignant  HTMCP-03-06-02007"
      ]
     },
     "execution_count": 93,
     "metadata": {},
     "output_type": "execute_result"
    }
   ],
   "source": [
    "df_snvs.head()"
   ]
  },
  {
   "cell_type": "code",
   "execution_count": 94,
   "metadata": {
    "collapsed": false
   },
   "outputs": [],
   "source": [
    "#indels strelka call only\n",
    "df_indels = pd.read_csv('/projects/trans_scratch/validations/workspace/szong/Cervical/variant_bwamem/82_patients/high_moderate_INDEL_summary_with_normal_strelka_calls_only.txt', sep='\\t')"
   ]
  },
  {
   "cell_type": "code",
   "execution_count": 95,
   "metadata": {
    "collapsed": false
   },
   "outputs": [
    {
     "data": {
      "text/html": [
       "<div>\n",
       "<table border=\"1\" class=\"dataframe\">\n",
       "  <thead>\n",
       "    <tr style=\"text-align: right;\">\n",
       "      <th></th>\n",
       "      <th>gene</th>\n",
       "      <th>patient_ID</th>\n",
       "      <th>patient_new_ID</th>\n",
       "    </tr>\n",
       "  </thead>\n",
       "  <tbody>\n",
       "    <tr>\n",
       "      <th>0</th>\n",
       "      <td>ELF3</td>\n",
       "      <td>HTMCP-03-06-02058_malignant</td>\n",
       "      <td>HTMCP-03-06-02058</td>\n",
       "    </tr>\n",
       "    <tr>\n",
       "      <th>1</th>\n",
       "      <td>MT-ND4L</td>\n",
       "      <td>HTMCP-03-06-02057_malignant</td>\n",
       "      <td>HTMCP-03-06-02057</td>\n",
       "    </tr>\n",
       "    <tr>\n",
       "      <th>2</th>\n",
       "      <td>AGL</td>\n",
       "      <td>HTMCP-03-06-02103_malignant</td>\n",
       "      <td>HTMCP-03-06-02103</td>\n",
       "    </tr>\n",
       "    <tr>\n",
       "      <th>3</th>\n",
       "      <td>ZSWIM2</td>\n",
       "      <td>HTMCP-03-06-02068_malignant</td>\n",
       "      <td>HTMCP-03-06-02068</td>\n",
       "    </tr>\n",
       "    <tr>\n",
       "      <th>4</th>\n",
       "      <td>TSPO2</td>\n",
       "      <td>HTMCP-03-06-02007_malignant</td>\n",
       "      <td>HTMCP-03-06-02007</td>\n",
       "    </tr>\n",
       "  </tbody>\n",
       "</table>\n",
       "</div>"
      ],
      "text/plain": [
       "      gene                   patient_ID     patient_new_ID\n",
       "0     ELF3  HTMCP-03-06-02058_malignant  HTMCP-03-06-02058\n",
       "1  MT-ND4L  HTMCP-03-06-02057_malignant  HTMCP-03-06-02057\n",
       "2      AGL  HTMCP-03-06-02103_malignant  HTMCP-03-06-02103\n",
       "3   ZSWIM2  HTMCP-03-06-02068_malignant  HTMCP-03-06-02068\n",
       "4    TSPO2  HTMCP-03-06-02007_malignant  HTMCP-03-06-02007"
      ]
     },
     "execution_count": 95,
     "metadata": {},
     "output_type": "execute_result"
    }
   ],
   "source": [
    "df_indels = df_indels[['gene', 'patient_ID']]\n",
    "df_indels['patient_new_ID'] = df_indels['patient_ID'].apply(lambda x: x.split('_')[0])\n",
    "df_indels.head()"
   ]
  },
  {
   "cell_type": "code",
   "execution_count": 99,
   "metadata": {
    "collapsed": true
   },
   "outputs": [],
   "source": [
    "# concatenate 2 data frames df and df_indels\n",
    "df = pd.concat([df_snvs, df_indels])\n"
   ]
  },
  {
   "cell_type": "code",
   "execution_count": 100,
   "metadata": {
    "collapsed": false
   },
   "outputs": [
    {
     "data": {
      "text/plain": [
       "((38649, 3), (359, 3), (38290, 3))"
      ]
     },
     "execution_count": 100,
     "metadata": {},
     "output_type": "execute_result"
    }
   ],
   "source": [
    "df.shape, df_indels.shape, df_snvs.shape"
   ]
  },
  {
   "cell_type": "code",
   "execution_count": 101,
   "metadata": {
    "collapsed": false
   },
   "outputs": [
    {
     "data": {
      "text/html": [
       "<div>\n",
       "<table border=\"1\" class=\"dataframe\">\n",
       "  <thead>\n",
       "    <tr style=\"text-align: right;\">\n",
       "      <th></th>\n",
       "      <th>gene</th>\n",
       "      <th>patient_ID</th>\n",
       "      <th>patient_new_ID</th>\n",
       "    </tr>\n",
       "  </thead>\n",
       "  <tbody>\n",
       "    <tr>\n",
       "      <th>0</th>\n",
       "      <td>UBE2Q1</td>\n",
       "      <td>HTMCP-03-06-02196_malignant</td>\n",
       "      <td>HTMCP-03-06-02196</td>\n",
       "    </tr>\n",
       "    <tr>\n",
       "      <th>1</th>\n",
       "      <td>DUOXA1</td>\n",
       "      <td>HTMCP-03-06-02012_malignant</td>\n",
       "      <td>HTMCP-03-06-02012</td>\n",
       "    </tr>\n",
       "    <tr>\n",
       "      <th>2</th>\n",
       "      <td>DUOXA1</td>\n",
       "      <td>HTMCP-03-06-02026_malignant</td>\n",
       "      <td>HTMCP-03-06-02026</td>\n",
       "    </tr>\n",
       "    <tr>\n",
       "      <th>3</th>\n",
       "      <td>UBE2Q2</td>\n",
       "      <td>HTMCP-03-06-02026_malignant</td>\n",
       "      <td>HTMCP-03-06-02026</td>\n",
       "    </tr>\n",
       "    <tr>\n",
       "      <th>4</th>\n",
       "      <td>RNF10</td>\n",
       "      <td>HTMCP-03-06-02007_malignant</td>\n",
       "      <td>HTMCP-03-06-02007</td>\n",
       "    </tr>\n",
       "  </tbody>\n",
       "</table>\n",
       "</div>"
      ],
      "text/plain": [
       "     gene                   patient_ID     patient_new_ID\n",
       "0  UBE2Q1  HTMCP-03-06-02196_malignant  HTMCP-03-06-02196\n",
       "1  DUOXA1  HTMCP-03-06-02012_malignant  HTMCP-03-06-02012\n",
       "2  DUOXA1  HTMCP-03-06-02026_malignant  HTMCP-03-06-02026\n",
       "3  UBE2Q2  HTMCP-03-06-02026_malignant  HTMCP-03-06-02026\n",
       "4   RNF10  HTMCP-03-06-02007_malignant  HTMCP-03-06-02007"
      ]
     },
     "execution_count": 101,
     "metadata": {},
     "output_type": "execute_result"
    }
   ],
   "source": [
    "df.head()"
   ]
  },
  {
   "cell_type": "code",
   "execution_count": 103,
   "metadata": {
    "collapsed": true
   },
   "outputs": [],
   "source": [
    "df_hist = pd.read_csv('/projects/trans_scratch/validations/workspace/szong/Cervical/variant_bwamem/82_patients/patient_histology_miRNA_prediction.csv', sep='\\t')"
   ]
  },
  {
   "cell_type": "code",
   "execution_count": 104,
   "metadata": {
    "collapsed": false
   },
   "outputs": [
    {
     "data": {
      "text/html": [
       "<div>\n",
       "<table border=\"1\" class=\"dataframe\">\n",
       "  <thead>\n",
       "    <tr style=\"text-align: right;\">\n",
       "      <th></th>\n",
       "      <th>patient</th>\n",
       "      <th>HIV_status</th>\n",
       "    </tr>\n",
       "  </thead>\n",
       "  <tbody>\n",
       "    <tr>\n",
       "      <th>0</th>\n",
       "      <td>HTMCP-03-06-02001</td>\n",
       "      <td>Positive</td>\n",
       "    </tr>\n",
       "    <tr>\n",
       "      <th>1</th>\n",
       "      <td>HTMCP-03-06-02002</td>\n",
       "      <td>Negative</td>\n",
       "    </tr>\n",
       "    <tr>\n",
       "      <th>2</th>\n",
       "      <td>HTMCP-03-06-02003</td>\n",
       "      <td>Positive</td>\n",
       "    </tr>\n",
       "    <tr>\n",
       "      <th>3</th>\n",
       "      <td>HTMCP-03-06-02006</td>\n",
       "      <td>Negative</td>\n",
       "    </tr>\n",
       "    <tr>\n",
       "      <th>4</th>\n",
       "      <td>HTMCP-03-06-02007</td>\n",
       "      <td>Negative</td>\n",
       "    </tr>\n",
       "  </tbody>\n",
       "</table>\n",
       "</div>"
      ],
      "text/plain": [
       "             patient HIV_status\n",
       "0  HTMCP-03-06-02001   Positive\n",
       "1  HTMCP-03-06-02002   Negative\n",
       "2  HTMCP-03-06-02003   Positive\n",
       "3  HTMCP-03-06-02006   Negative\n",
       "4  HTMCP-03-06-02007   Negative"
      ]
     },
     "execution_count": 104,
     "metadata": {},
     "output_type": "execute_result"
    }
   ],
   "source": [
    "df_hist = df_hist[['patient', 'HIV_status']]\n",
    "df_hist.head()"
   ]
  },
  {
   "cell_type": "code",
   "execution_count": 131,
   "metadata": {
    "collapsed": false
   },
   "outputs": [],
   "source": []
  },
  {
   "cell_type": "code",
   "execution_count": 94,
   "metadata": {
    "collapsed": false
   },
   "outputs": [
    {
     "data": {
      "text/html": [
       "<div>\n",
       "<table border=\"1\" class=\"dataframe\">\n",
       "  <thead>\n",
       "    <tr style=\"text-align: right;\">\n",
       "      <th></th>\n",
       "      <th>patient</th>\n",
       "      <th>putative_Histology</th>\n",
       "    </tr>\n",
       "  </thead>\n",
       "  <tbody>\n",
       "    <tr>\n",
       "      <th>4</th>\n",
       "      <td>HTMCP-03-06-02007</td>\n",
       "      <td>Adeno</td>\n",
       "    </tr>\n",
       "    <tr>\n",
       "      <th>9</th>\n",
       "      <td>HTMCP-03-06-02026</td>\n",
       "      <td>Adeno</td>\n",
       "    </tr>\n",
       "    <tr>\n",
       "      <th>15</th>\n",
       "      <td>HTMCP-03-06-02047</td>\n",
       "      <td>Adeno</td>\n",
       "    </tr>\n",
       "    <tr>\n",
       "      <th>18</th>\n",
       "      <td>HTMCP-03-06-02058</td>\n",
       "      <td>Adeno</td>\n",
       "    </tr>\n",
       "    <tr>\n",
       "      <th>24</th>\n",
       "      <td>HTMCP-03-06-02074</td>\n",
       "      <td>Adeno</td>\n",
       "    </tr>\n",
       "    <tr>\n",
       "      <th>25</th>\n",
       "      <td>HTMCP-03-06-02075</td>\n",
       "      <td>Adeno</td>\n",
       "    </tr>\n",
       "    <tr>\n",
       "      <th>27</th>\n",
       "      <td>HTMCP-03-06-02085</td>\n",
       "      <td>Adeno</td>\n",
       "    </tr>\n",
       "    <tr>\n",
       "      <th>31</th>\n",
       "      <td>HTMCP-03-06-02098</td>\n",
       "      <td>Adeno</td>\n",
       "    </tr>\n",
       "    <tr>\n",
       "      <th>32</th>\n",
       "      <td>HTMCP-03-06-02099</td>\n",
       "      <td>Adeno</td>\n",
       "    </tr>\n",
       "    <tr>\n",
       "      <th>36</th>\n",
       "      <td>HTMCP-03-06-02110</td>\n",
       "      <td>Adeno</td>\n",
       "    </tr>\n",
       "    <tr>\n",
       "      <th>41</th>\n",
       "      <td>HTMCP-03-06-02139</td>\n",
       "      <td>Adeno</td>\n",
       "    </tr>\n",
       "    <tr>\n",
       "      <th>47</th>\n",
       "      <td>HTMCP-03-06-02150</td>\n",
       "      <td>Adeno</td>\n",
       "    </tr>\n",
       "    <tr>\n",
       "      <th>52</th>\n",
       "      <td>HTMCP-03-06-02157</td>\n",
       "      <td>Adeno</td>\n",
       "    </tr>\n",
       "    <tr>\n",
       "      <th>57</th>\n",
       "      <td>HTMCP-03-06-02179</td>\n",
       "      <td>Adeno</td>\n",
       "    </tr>\n",
       "    <tr>\n",
       "      <th>64</th>\n",
       "      <td>HTMCP-03-06-02203</td>\n",
       "      <td>Adeno</td>\n",
       "    </tr>\n",
       "    <tr>\n",
       "      <th>65</th>\n",
       "      <td>HTMCP-03-06-02204</td>\n",
       "      <td>Adeno</td>\n",
       "    </tr>\n",
       "    <tr>\n",
       "      <th>74</th>\n",
       "      <td>HTMCP-03-06-02219</td>\n",
       "      <td>Adeno</td>\n",
       "    </tr>\n",
       "    <tr>\n",
       "      <th>76</th>\n",
       "      <td>HTMCP-03-06-02230</td>\n",
       "      <td>Adeno</td>\n",
       "    </tr>\n",
       "    <tr>\n",
       "      <th>77</th>\n",
       "      <td>HTMCP-03-06-02235</td>\n",
       "      <td>Adeno</td>\n",
       "    </tr>\n",
       "  </tbody>\n",
       "</table>\n",
       "</div>"
      ],
      "text/plain": [
       "              patient putative_Histology\n",
       "4   HTMCP-03-06-02007              Adeno\n",
       "9   HTMCP-03-06-02026              Adeno\n",
       "15  HTMCP-03-06-02047              Adeno\n",
       "18  HTMCP-03-06-02058              Adeno\n",
       "24  HTMCP-03-06-02074              Adeno\n",
       "25  HTMCP-03-06-02075              Adeno\n",
       "27  HTMCP-03-06-02085              Adeno\n",
       "31  HTMCP-03-06-02098              Adeno\n",
       "32  HTMCP-03-06-02099              Adeno\n",
       "36  HTMCP-03-06-02110              Adeno\n",
       "41  HTMCP-03-06-02139              Adeno\n",
       "47  HTMCP-03-06-02150              Adeno\n",
       "52  HTMCP-03-06-02157              Adeno\n",
       "57  HTMCP-03-06-02179              Adeno\n",
       "64  HTMCP-03-06-02203              Adeno\n",
       "65  HTMCP-03-06-02204              Adeno\n",
       "74  HTMCP-03-06-02219              Adeno\n",
       "76  HTMCP-03-06-02230              Adeno\n",
       "77  HTMCP-03-06-02235              Adeno"
      ]
     },
     "execution_count": 94,
     "metadata": {},
     "output_type": "execute_result"
    }
   ],
   "source": [
    "df_hist[df_hist['putative_Histology']!='Squamous']"
   ]
  },
  {
   "cell_type": "code",
   "execution_count": 106,
   "metadata": {
    "collapsed": false
   },
   "outputs": [
    {
     "data": {
      "text/html": [
       "<div>\n",
       "<table border=\"1\" class=\"dataframe\">\n",
       "  <thead>\n",
       "    <tr style=\"text-align: right;\">\n",
       "      <th></th>\n",
       "      <th>gene</th>\n",
       "      <th>patient_ID</th>\n",
       "      <th>patient_new_ID</th>\n",
       "      <th>patient</th>\n",
       "      <th>HIV_status</th>\n",
       "    </tr>\n",
       "  </thead>\n",
       "  <tbody>\n",
       "    <tr>\n",
       "      <th>0</th>\n",
       "      <td>UBE2Q1</td>\n",
       "      <td>HTMCP-03-06-02196_malignant</td>\n",
       "      <td>HTMCP-03-06-02196</td>\n",
       "      <td>HTMCP-03-06-02196</td>\n",
       "      <td>Negative</td>\n",
       "    </tr>\n",
       "    <tr>\n",
       "      <th>1</th>\n",
       "      <td>REM1</td>\n",
       "      <td>HTMCP-03-06-02196_malignant</td>\n",
       "      <td>HTMCP-03-06-02196</td>\n",
       "      <td>HTMCP-03-06-02196</td>\n",
       "      <td>Negative</td>\n",
       "    </tr>\n",
       "    <tr>\n",
       "      <th>2</th>\n",
       "      <td>FAM116B</td>\n",
       "      <td>HTMCP-03-06-02196_malignant</td>\n",
       "      <td>HTMCP-03-06-02196</td>\n",
       "      <td>HTMCP-03-06-02196</td>\n",
       "      <td>Negative</td>\n",
       "    </tr>\n",
       "    <tr>\n",
       "      <th>3</th>\n",
       "      <td>RBMXL1</td>\n",
       "      <td>HTMCP-03-06-02196_malignant</td>\n",
       "      <td>HTMCP-03-06-02196</td>\n",
       "      <td>HTMCP-03-06-02196</td>\n",
       "      <td>Negative</td>\n",
       "    </tr>\n",
       "    <tr>\n",
       "      <th>4</th>\n",
       "      <td>KRTAP2-2</td>\n",
       "      <td>HTMCP-03-06-02196_malignant</td>\n",
       "      <td>HTMCP-03-06-02196</td>\n",
       "      <td>HTMCP-03-06-02196</td>\n",
       "      <td>Negative</td>\n",
       "    </tr>\n",
       "  </tbody>\n",
       "</table>\n",
       "</div>"
      ],
      "text/plain": [
       "       gene                   patient_ID     patient_new_ID  \\\n",
       "0    UBE2Q1  HTMCP-03-06-02196_malignant  HTMCP-03-06-02196   \n",
       "1      REM1  HTMCP-03-06-02196_malignant  HTMCP-03-06-02196   \n",
       "2   FAM116B  HTMCP-03-06-02196_malignant  HTMCP-03-06-02196   \n",
       "3    RBMXL1  HTMCP-03-06-02196_malignant  HTMCP-03-06-02196   \n",
       "4  KRTAP2-2  HTMCP-03-06-02196_malignant  HTMCP-03-06-02196   \n",
       "\n",
       "             patient HIV_status  \n",
       "0  HTMCP-03-06-02196   Negative  \n",
       "1  HTMCP-03-06-02196   Negative  \n",
       "2  HTMCP-03-06-02196   Negative  \n",
       "3  HTMCP-03-06-02196   Negative  \n",
       "4  HTMCP-03-06-02196   Negative  "
      ]
     },
     "execution_count": 106,
     "metadata": {},
     "output_type": "execute_result"
    }
   ],
   "source": [
    "merge = pd.merge(df, df_hist, left_on='patient_new_ID', right_on='patient')\n",
    "merge.head()"
   ]
  },
  {
   "cell_type": "code",
   "execution_count": 137,
   "metadata": {
    "collapsed": false
   },
   "outputs": [
    {
     "data": {
      "text/html": [
       "<div>\n",
       "<table border=\"1\" class=\"dataframe\">\n",
       "  <thead>\n",
       "    <tr style=\"text-align: right;\">\n",
       "      <th></th>\n",
       "      <th>gene</th>\n",
       "      <th>patient_ID</th>\n",
       "      <th>patient_new_ID</th>\n",
       "      <th>patient</th>\n",
       "      <th>HIV_status</th>\n",
       "    </tr>\n",
       "  </thead>\n",
       "  <tbody>\n",
       "    <tr>\n",
       "      <th>0</th>\n",
       "      <td>UBE2Q1</td>\n",
       "      <td>HTMCP-03-06-02196_malignant</td>\n",
       "      <td>HTMCP-03-06-02196</td>\n",
       "      <td>HTMCP-03-06-02196</td>\n",
       "      <td>Negative</td>\n",
       "    </tr>\n",
       "    <tr>\n",
       "      <th>1</th>\n",
       "      <td>REM1</td>\n",
       "      <td>HTMCP-03-06-02196_malignant</td>\n",
       "      <td>HTMCP-03-06-02196</td>\n",
       "      <td>HTMCP-03-06-02196</td>\n",
       "      <td>Negative</td>\n",
       "    </tr>\n",
       "    <tr>\n",
       "      <th>2</th>\n",
       "      <td>FAM116B</td>\n",
       "      <td>HTMCP-03-06-02196_malignant</td>\n",
       "      <td>HTMCP-03-06-02196</td>\n",
       "      <td>HTMCP-03-06-02196</td>\n",
       "      <td>Negative</td>\n",
       "    </tr>\n",
       "    <tr>\n",
       "      <th>3</th>\n",
       "      <td>RBMXL1</td>\n",
       "      <td>HTMCP-03-06-02196_malignant</td>\n",
       "      <td>HTMCP-03-06-02196</td>\n",
       "      <td>HTMCP-03-06-02196</td>\n",
       "      <td>Negative</td>\n",
       "    </tr>\n",
       "    <tr>\n",
       "      <th>4</th>\n",
       "      <td>KRTAP2-2</td>\n",
       "      <td>HTMCP-03-06-02196_malignant</td>\n",
       "      <td>HTMCP-03-06-02196</td>\n",
       "      <td>HTMCP-03-06-02196</td>\n",
       "      <td>Negative</td>\n",
       "    </tr>\n",
       "  </tbody>\n",
       "</table>\n",
       "</div>"
      ],
      "text/plain": [
       "       gene                   patient_ID     patient_new_ID  \\\n",
       "0    UBE2Q1  HTMCP-03-06-02196_malignant  HTMCP-03-06-02196   \n",
       "1      REM1  HTMCP-03-06-02196_malignant  HTMCP-03-06-02196   \n",
       "2   FAM116B  HTMCP-03-06-02196_malignant  HTMCP-03-06-02196   \n",
       "3    RBMXL1  HTMCP-03-06-02196_malignant  HTMCP-03-06-02196   \n",
       "4  KRTAP2-2  HTMCP-03-06-02196_malignant  HTMCP-03-06-02196   \n",
       "\n",
       "             patient HIV_status  \n",
       "0  HTMCP-03-06-02196   Negative  \n",
       "1  HTMCP-03-06-02196   Negative  \n",
       "2  HTMCP-03-06-02196   Negative  \n",
       "3  HTMCP-03-06-02196   Negative  \n",
       "4  HTMCP-03-06-02196   Negative  "
      ]
     },
     "execution_count": 137,
     "metadata": {},
     "output_type": "execute_result"
    }
   ],
   "source": [
    "df.head()\n"
   ]
  },
  {
   "cell_type": "code",
   "execution_count": 135,
   "metadata": {
    "collapsed": false
   },
   "outputs": [],
   "source": [
    "# df = merge[merge['putative_Histology']=='Squamous']\n",
    "# select HIV postive patient\n",
    "df = merge[merge['HIV_status']=='Negative']\n",
    "# df = merge\n",
    "# this give you the count of HIv positve patients\n",
    "patient_count = df_hist['HIV_status'].value_counts()['Negative']\n",
    "groups = df.groupby('gene')\n",
    "with open(\"mutation_frequency.txt\", 'wb') as fh:\n",
    "\n",
    "    for name, group in groups:\n",
    "    #     print('{0}\\t{1}').format(name, len(set(group['patient']))/43.0, file=fh)\n",
    "        print >> fh, name,len(set(group['patient']))/float(patient_count)"
   ]
  },
  {
   "cell_type": "code",
   "execution_count": 154,
   "metadata": {
    "collapsed": true
   },
   "outputs": [],
   "source": [
    "df =pd.read_csv(\"/projects/trans_scratch/validations/workspace/szong/Cervical/variant_frequency_comparision_tcga_nci_landscrape.csv\", \n",
    "                sep='\\t', index_col='gene')"
   ]
  },
  {
   "cell_type": "code",
   "execution_count": 155,
   "metadata": {
    "collapsed": false
   },
   "outputs": [
    {
     "data": {
      "text/html": [
       "<div>\n",
       "<table border=\"1\" class=\"dataframe\">\n",
       "  <thead>\n",
       "    <tr style=\"text-align: right;\">\n",
       "      <th></th>\n",
       "      <th>nci_all_histology</th>\n",
       "      <th>tcga_all_histology</th>\n",
       "    </tr>\n",
       "    <tr>\n",
       "      <th>gene</th>\n",
       "      <th></th>\n",
       "      <th></th>\n",
       "    </tr>\n",
       "  </thead>\n",
       "  <tbody>\n",
       "    <tr>\n",
       "      <th>PIK3CA</th>\n",
       "      <td>37</td>\n",
       "      <td>26</td>\n",
       "    </tr>\n",
       "    <tr>\n",
       "      <th>FAT1</th>\n",
       "      <td>18</td>\n",
       "      <td>7</td>\n",
       "    </tr>\n",
       "    <tr>\n",
       "      <th>LRP1B</th>\n",
       "      <td>18</td>\n",
       "      <td>8</td>\n",
       "    </tr>\n",
       "    <tr>\n",
       "      <th>MLL3</th>\n",
       "      <td>17</td>\n",
       "      <td>15</td>\n",
       "    </tr>\n",
       "    <tr>\n",
       "      <th>FBXW7</th>\n",
       "      <td>16</td>\n",
       "      <td>11</td>\n",
       "    </tr>\n",
       "  </tbody>\n",
       "</table>\n",
       "</div>"
      ],
      "text/plain": [
       "        nci_all_histology  tcga_all_histology\n",
       "gene                                         \n",
       "PIK3CA                 37                  26\n",
       "FAT1                   18                   7\n",
       "LRP1B                  18                   8\n",
       "MLL3                   17                  15\n",
       "FBXW7                  16                  11"
      ]
     },
     "execution_count": 155,
     "metadata": {},
     "output_type": "execute_result"
    }
   ],
   "source": [
    "\n",
    "df.head()"
   ]
  },
  {
   "cell_type": "code",
   "execution_count": 156,
   "metadata": {
    "collapsed": false
   },
   "outputs": [
    {
     "data": {
      "text/plain": [
       "<matplotlib.figure.Figure at 0x7f198eea03d0>"
      ]
     },
     "metadata": {},
     "output_type": "display_data"
    },
    {
     "data": {
      "image/png": "[encoded data removed]",
      "text/plain": [
       "<matplotlib.figure.Figure at 0x7f198e092f10>"
      ]
     },
     "metadata": {},
     "output_type": "display_data"
    }
   ],
   "source": [
    "# pandas bar plot use index as x or y axis\n",
    "fig = plt.figure()\n",
    "\n",
    "ax=df.plot(kind='barh', )\n",
    "ax.set_xlabel('Occurrence of somatic mutations (% patients)')\n",
    "ax.set_ylabel('Genes')\n",
    "ax.set_title('Comparison of recurrent mutated genes NCI vs TCGA')\n",
    "plt.savefig(\"comparison_mutated_genes_nci_vs_tcga.png\", bbox_inches='tight')\n",
    "# plt.set_xlabel(genes)"
   ]
  },
  {
   "cell_type": "code",
   "execution_count": 58,
   "metadata": {
    "collapsed": false
   },
   "outputs": [
    {
     "data": {
      "text/html": [
       "<div>\n",
       "<table border=\"1\" class=\"dataframe\">\n",
       "  <thead>\n",
       "    <tr style=\"text-align: right;\">\n",
       "      <th></th>\n",
       "      <th>clinic_or_genes</th>\n",
       "      <th>patient</th>\n",
       "      <th>clinic_or_mutations</th>\n",
       "    </tr>\n",
       "  </thead>\n",
       "  <tbody>\n",
       "    <tr>\n",
       "      <th>0</th>\n",
       "      <td>Histology</td>\n",
       "      <td>HTMCP-03-06-02007</td>\n",
       "      <td>Adeno</td>\n",
       "    </tr>\n",
       "    <tr>\n",
       "      <th>1</th>\n",
       "      <td>Histology</td>\n",
       "      <td>HTMCP-03-06-02026</td>\n",
       "      <td>Adeno</td>\n",
       "    </tr>\n",
       "    <tr>\n",
       "      <th>2</th>\n",
       "      <td>Histology</td>\n",
       "      <td>HTMCP-03-06-02047</td>\n",
       "      <td>Adeno</td>\n",
       "    </tr>\n",
       "    <tr>\n",
       "      <th>3</th>\n",
       "      <td>Histology</td>\n",
       "      <td>HTMCP-03-06-02074</td>\n",
       "      <td>Adeno</td>\n",
       "    </tr>\n",
       "    <tr>\n",
       "      <th>4</th>\n",
       "      <td>Histology</td>\n",
       "      <td>HTMCP-03-06-02075</td>\n",
       "      <td>Adeno</td>\n",
       "    </tr>\n",
       "  </tbody>\n",
       "</table>\n",
       "</div>"
      ],
      "text/plain": [
       "  clinic_or_genes            patient clinic_or_mutations\n",
       "0       Histology  HTMCP-03-06-02007               Adeno\n",
       "1       Histology  HTMCP-03-06-02026               Adeno\n",
       "2       Histology  HTMCP-03-06-02047               Adeno\n",
       "3       Histology  HTMCP-03-06-02074               Adeno\n",
       "4       Histology  HTMCP-03-06-02075               Adeno"
      ]
     },
     "execution_count": 58,
     "metadata": {},
     "output_type": "execute_result"
    },
    {
     "name": "stdout",
     "output_type": "stream",
     "text": [
      "\n"
     ]
    }
   ],
   "source": [
    "# reshape and pivot data\n",
    "df = pd.read_csv('/projects/trans_scratch/validations/workspace/szong/Cervical/variant_bwamem/82_patients/high_moderate_SNV_summary_with_normal_82_patients.filtered.somatic.txt.comut', sep='\\t')\n",
    "df.head()"
   ]
  },
  {
   "cell_type": "code",
   "execution_count": 29,
   "metadata": {
    "collapsed": false
   },
   "outputs": [],
   "source": [
    "# df['idx'] = df.groupby('patient').cumcount()\n",
    "# df.head(50)"
   ]
  },
  {
   "cell_type": "code",
   "execution_count": null,
   "metadata": {
    "collapsed": false
   },
   "outputs": [],
   "source": [
    "\n",
    "\n",
    "    "
   ]
  },
  {
   "cell_type": "code",
   "execution_count": 40,
   "metadata": {
    "collapsed": false
   },
   "outputs": [],
   "source": [
    "# pf[['Histology','HIV']]"
   ]
  },
  {
   "cell_type": "code",
   "execution_count": 68,
   "metadata": {
    "collapsed": false
   },
   "outputs": [],
   "source": [
    "# index is the row; columns is the column idx; values is the value\n",
    "# reshape the data from long form to wide form\n",
    "# method include: pivot, pivot_table, stack, unstack\n",
    "pf = df.pivot(index='patient', columns='clinic_or_genes', values='clinic_or_mutations')\n",
    "pf.drop(['Histology', 'HIV'], axis=1, inplace=True)\n",
    "# np.where(pd.isnull(pf))"
   ]
  },
  {
   "cell_type": "code",
   "execution_count": 72,
   "metadata": {
    "collapsed": false
   },
   "outputs": [],
   "source": [
    "# see how many nas in a row\n",
    "pf.T.isnull().sum().sort_values().to_csv('aa.tmp')\n",
    "# len(pf.columns)"
   ]
  },
  {
   "cell_type": "code",
   "execution_count": 73,
   "metadata": {
    "collapsed": false
   },
   "outputs": [
    {
     "name": "stdout",
     "output_type": "stream",
     "text": [
      "1.0\n"
     ]
    }
   ],
   "source": [
    "# if patients with no mutation are more likely to have integration\n",
    "import scipy.stats as stats\n",
    "oddsratio, pvalue = stats.fisher_exact([[63, 11], [7, 1]])\n",
    "print(pvalue)"
   ]
  },
  {
   "cell_type": "code",
   "execution_count": 56,
   "metadata": {
    "collapsed": false
   },
   "outputs": [
    {
     "name": "stdout",
     "output_type": "stream",
     "text": [
      "HTMCP-03-06-02001"
     ]
    },
    {
     "ename": "NameError",
     "evalue": "name 'unique' is not defined",
     "output_type": "error",
     "traceback": [
      "\u001b[0;31m---------------------------------------------------------------------------\u001b[0m",
      "\u001b[0;31mNameError\u001b[0m                                 Traceback (most recent call last)",
      "\u001b[0;32m<ipython-input-56-4f2d2716447d>\u001b[0m in \u001b[0;36m<module>\u001b[0;34m()\u001b[0m\n\u001b[1;32m      1\u001b[0m \u001b[0;32mfor\u001b[0m \u001b[0mpatient\u001b[0m \u001b[0;32min\u001b[0m \u001b[0mpf\u001b[0m\u001b[0;34m.\u001b[0m\u001b[0mindex\u001b[0m\u001b[0;34m:\u001b[0m\u001b[0;34m\u001b[0m\u001b[0m\n\u001b[0;32m----> 2\u001b[0;31m     \u001b[0;32mprint\u001b[0m \u001b[0mpatient\u001b[0m\u001b[0;34m,\u001b[0m \u001b[0munique\u001b[0m\u001b[0;34m(\u001b[0m\u001b[0mpf\u001b[0m\u001b[0;34m.\u001b[0m\u001b[0mix\u001b[0m\u001b[0;34m[\u001b[0m\u001b[0mpatient\u001b[0m\u001b[0;34m]\u001b[0m\u001b[0;34m)\u001b[0m\u001b[0;34m\u001b[0m\u001b[0m\n\u001b[0m",
      "\u001b[0;31mNameError\u001b[0m: name 'unique' is not defined"
     ]
    }
   ],
   "source": [
    "for patient in pf.index:\n",
    "    print patient, unique(pf.ix[patient])"
   ]
  },
  {
   "cell_type": "code",
   "execution_count": null,
   "metadata": {
    "collapsed": true
   },
   "outputs": [],
   "source": [
    "# print(np.random.randint(13), \"x\", np.random.randint(13))\n",
    "#!/usr/bin/python\n",
    "for test in range(50):\n",
    "    a = np.random.randint(13)\n",
    "    b = np.random.randint(13)\n",
    "#     print(\"%s x %s\" % (a, b))\n",
    "    print(test)"
   ]
  },
  {
   "cell_type": "code",
   "execution_count": null,
   "metadata": {
    "collapsed": true
   },
   "outputs": [],
   "source": [
    "for test in range(50):\n",
    "    print(test)"
   ]
  },
  {
   "cell_type": "code",
   "execution_count": null,
   "metadata": {
    "collapsed": false
   },
   "outputs": [],
   "source": [
    "# print (\"%s\" % int(answer));\n",
    "# answer = raw_input('Enter your answer:')"
   ]
  },
  {
   "cell_type": "code",
   "execution_count": 19,
   "metadata": {
    "collapsed": true
   },
   "outputs": [],
   "source": [
    "from collections import OrderedDict\n",
    "from pandas import DataFrame\n",
    "import pandas as pd\n",
    "import numpy as np\n",
    "\n",
    "table = OrderedDict((\n",
    "    (\"Item\", ['Item0', 'Item0', 'Item1', 'Item1']),\n",
    "    ('CType',['Gold', 'Bronze', 'Gold', 'Silver']),\n",
    "    ('USD',  ['1$', '2$', '3$', '4$']),\n",
    "    ('EU',   ['1€', '2€', '3€', '4€'])\n",
    "))\n",
    "d = DataFrame(table)"
   ]
  },
  {
   "cell_type": "code",
   "execution_count": 22,
   "metadata": {
    "collapsed": false
   },
   "outputs": [],
   "source": [
    "p = d.pivot(index='Item', columns='CType', values='USD')"
   ]
  },
  {
   "cell_type": "code",
   "execution_count": 23,
   "metadata": {
    "collapsed": false
   },
   "outputs": [
    {
     "data": {
      "text/html": [
       "<div>\n",
       "<table border=\"1\" class=\"dataframe\">\n",
       "  <thead>\n",
       "    <tr style=\"text-align: right;\">\n",
       "      <th>CType</th>\n",
       "      <th>Bronze</th>\n",
       "      <th>Gold</th>\n",
       "      <th>Silver</th>\n",
       "    </tr>\n",
       "    <tr>\n",
       "      <th>Item</th>\n",
       "      <th></th>\n",
       "      <th></th>\n",
       "      <th></th>\n",
       "    </tr>\n",
       "  </thead>\n",
       "  <tbody>\n",
       "    <tr>\n",
       "      <th>Item0</th>\n",
       "      <td>2$</td>\n",
       "      <td>1$</td>\n",
       "      <td>None</td>\n",
       "    </tr>\n",
       "    <tr>\n",
       "      <th>Item1</th>\n",
       "      <td>None</td>\n",
       "      <td>3$</td>\n",
       "      <td>4$</td>\n",
       "    </tr>\n",
       "  </tbody>\n",
       "</table>\n",
       "</div>"
      ],
      "text/plain": [
       "CType Bronze Gold Silver\n",
       "Item                    \n",
       "Item0     2$   1$   None\n",
       "Item1   None   3$     4$"
      ]
     },
     "execution_count": 23,
     "metadata": {},
     "output_type": "execute_result"
    }
   ],
   "source": [
    "p"
   ]
  },
  {
   "cell_type": "code",
   "execution_count": null,
   "metadata": {
    "collapsed": true
   },
   "outputs": [],
   "source": []
  },
  {
   "cell_type": "code",
   "execution_count": 387,
   "metadata": {
    "collapsed": true
   },
   "outputs": [],
   "source": [
    "# makes boxplots"
   ]
  },
  {
   "cell_type": "code",
   "execution_count": 403,
   "metadata": {
    "collapsed": false
   },
   "outputs": [
    {
     "data": {
      "text/plain": [
       "array([<matplotlib.axes._subplots.AxesSubplot object at 0x7f20fc7f9490>,\n",
       "       <matplotlib.axes._subplots.AxesSubplot object at 0x7f20fc77c210>], dtype=object)"
      ]
     },
     "execution_count": 403,
     "metadata": {},
     "output_type": "execute_result"
    },
    {
     "data": {
      "image/png": "[encoded data removed]",
      "text/plain": [
       "<matplotlib.figure.Figure at 0x7f20fc89a250>"
      ]
     },
     "metadata": {},
     "output_type": "display_data"
    }
   ],
   "source": [
    "import pandas as pd\n",
    "\n",
    "df = pd.DataFrame(np.random.rand(12,2), columns=['Apples', 'Oranges'] )\n",
    "\n",
    "df['Categories'] = pd.Series(list('AAAABBBBCCCC'))\n",
    "\n",
    "# pd.options.display.mpl_style = 'default'\n",
    "matplotlib.pyplot.style.use \n",
    "\n",
    "df.boxplot(by='Categories', showfliers=False, widths=(0.8,0.8,0.8))\n"
   ]
  }
 ],
 "metadata": {
  "kernelspec": {
   "display_name": "Python 2",
   "language": "python",
   "name": "python2"
  },
  "language_info": {
   "codemirror_mode": {
    "name": "ipython",
    "version": 2
   },
   "file_extension": ".py",
   "mimetype": "text/x-python",
   "name": "python",
   "nbconvert_exporter": "python",
   "pygments_lexer": "ipython2",
   "version": "2.7.12"
  }
 },
 "nbformat": 4,
 "nbformat_minor": 0
}
