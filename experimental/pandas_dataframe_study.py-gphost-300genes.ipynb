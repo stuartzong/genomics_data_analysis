{
 "cells": [
  {
   "cell_type": "code",
   "execution_count": 1,
   "metadata": {
    "collapsed": true
   },
   "outputs": [],
   "source": [
    "import matplotlib\n",
    "import seaborn\n",
    "import numpy as np\n",
    "import matplotlib.pyplot as plt\n",
    "from scipy.stats import ttest_ind\n",
    "import scipy.stats as ss\n",
    "from matplotlib import style\n",
    "matplotlib.style.use('ggplot')\n",
    "%matplotlib inline\n",
    "matplotlib.rcParams['figure.figsize'] = (15, 9)\n",
    "import pandas as pd\n",
    "\n",
    "from sklearn.decomposition import RandomizedPCA, PCA\n",
    "from sklearn.linear_model import LogisticRegression\n",
    "from sklearn.manifold import TSNE\n",
    "from sklearn.preprocessing import StandardScaler\n",
    "import seaborn"
   ]
  },
  {
   "cell_type": "code",
   "execution_count": 2,
   "metadata": {
    "collapsed": true
   },
   "outputs": [],
   "source": [
    "# df = pd.read_csv('/projects/trans_scratch/validations/workspace/szong/Cervical/immune_expression/hiv_diff_expression.txt', sep='\\t', index_col='genes')\n",
    "df_expr = pd.read_csv('/projects/trans_scratch/validations/workspace/szong/Cervical/immune_expression/immu_expression_matrix.txt', sep='\\t', index_col='genes')"
   ]
  },
  {
   "cell_type": "code",
   "execution_count": 3,
   "metadata": {
    "collapsed": false
   },
   "outputs": [],
   "source": [
    "df_expr = df_expr.T"
   ]
  },
  {
   "cell_type": "code",
   "execution_count": 4,
   "metadata": {
    "collapsed": false
   },
   "outputs": [
    {
     "data": {
      "text/plain": [
       "(82, 808)"
      ]
     },
     "execution_count": 4,
     "metadata": {},
     "output_type": "execute_result"
    }
   ],
   "source": [
    "df_expr.shape"
   ]
  },
  {
   "cell_type": "code",
   "execution_count": 5,
   "metadata": {
    "collapsed": true
   },
   "outputs": [],
   "source": [
    "gene_cols = np.unique(df_expr.columns.values)"
   ]
  },
  {
   "cell_type": "code",
   "execution_count": 7,
   "metadata": {
    "collapsed": false
   },
   "outputs": [
    {
     "data": {
      "text/plain": [
       "AIRE        2\n",
       "FCGR2B      1\n",
       "NFATC2      1\n",
       "CRADD       1\n",
       "RHCE        1\n",
       "C1QB        1\n",
       "NFATC1      1\n",
       "EMR3        1\n",
       "CCL8        1\n",
       "IL10RB      1\n",
       "CCL7        1\n",
       "NFATC4      1\n",
       "CCL1        1\n",
       "KIR2DL1     1\n",
       "MRE11A      1\n",
       "CCL2        1\n",
       "CD300E      1\n",
       "RHD         1\n",
       "CD300A      1\n",
       "CD300C      1\n",
       "HAMP        1\n",
       "CSF3        1\n",
       "CSF2        1\n",
       "RFX1        1\n",
       "C1QC        1\n",
       "CYSLTR1     1\n",
       "MARCO       1\n",
       "RFX5        1\n",
       "TIRAP       1\n",
       "IRF2        1\n",
       "           ..\n",
       "SLC3A2      1\n",
       "TNFRSF1A    1\n",
       "TOLLIP      1\n",
       "TNFRSF1B    1\n",
       "CCR9        1\n",
       "CD79B       1\n",
       "C6          1\n",
       "CD9         1\n",
       "C7          1\n",
       "C2          1\n",
       "C3          1\n",
       "ICAM1       1\n",
       "ICAM2       1\n",
       "ICAM3       1\n",
       "ICAM4       1\n",
       "C9          1\n",
       "IFNB1       1\n",
       "CD84        1\n",
       "CD82        1\n",
       "CD83        1\n",
       "CD80        1\n",
       "CD81        1\n",
       "STAT1       1\n",
       "STAT2       1\n",
       "STAT3       1\n",
       "STAT4       1\n",
       "STAT6       1\n",
       "CD79A       1\n",
       "NCR2        1\n",
       "TAP1        1\n",
       "Name: genes, dtype: int64"
      ]
     },
     "execution_count": 7,
     "metadata": {},
     "output_type": "execute_result"
    }
   ],
   "source": [
    "df_expr.columns.value_counts()"
   ]
  },
  {
   "cell_type": "code",
   "execution_count": 6,
   "metadata": {
    "collapsed": false
   },
   "outputs": [
    {
     "data": {
      "text/plain": [
       "(807,)"
      ]
     },
     "execution_count": 6,
     "metadata": {},
     "output_type": "execute_result"
    }
   ],
   "source": [
    "gene_cols.shape"
   ]
  },
  {
   "cell_type": "code",
   "execution_count": 6,
   "metadata": {
    "collapsed": false
   },
   "outputs": [],
   "source": [
    "df_expr = df_expr[gene_cols].copy()"
   ]
  },
  {
   "cell_type": "code",
   "execution_count": 12,
   "metadata": {
    "collapsed": false
   },
   "outputs": [
    {
     "data": {
      "text/plain": [
       "(82, 1040)"
      ]
     },
     "execution_count": 12,
     "metadata": {},
     "output_type": "execute_result"
    }
   ],
   "source": [
    "df_expr.shape"
   ]
  },
  {
   "cell_type": "code",
   "execution_count": 7,
   "metadata": {
    "collapsed": true
   },
   "outputs": [],
   "source": [
    "df_stat = pd.read_csv('/projects/trans_scratch/validations/workspace/szong/Cervical/immune_expression/hiv_status.txt', sep='\\t',header= None, names=['lib','hiv'])"
   ]
  },
  {
   "cell_type": "code",
   "execution_count": 8,
   "metadata": {
    "collapsed": false
   },
   "outputs": [
    {
     "data": {
      "text/plain": [
       "(82, 2)"
      ]
     },
     "execution_count": 8,
     "metadata": {},
     "output_type": "execute_result"
    }
   ],
   "source": [
    "df_stat.shape"
   ]
  },
  {
   "cell_type": "code",
   "execution_count": 9,
   "metadata": {
    "collapsed": false
   },
   "outputs": [
    {
     "data": {
      "text/html": [
       "<div>\n",
       "<table border=\"1\" class=\"dataframe\">\n",
       "  <thead>\n",
       "    <tr style=\"text-align: right;\">\n",
       "      <th></th>\n",
       "      <th>lib</th>\n",
       "      <th>hiv</th>\n",
       "    </tr>\n",
       "  </thead>\n",
       "  <tbody>\n",
       "    <tr>\n",
       "      <th>0</th>\n",
       "      <td>A37700</td>\n",
       "      <td>Positive</td>\n",
       "    </tr>\n",
       "    <tr>\n",
       "      <th>1</th>\n",
       "      <td>A37701</td>\n",
       "      <td>Negative</td>\n",
       "    </tr>\n",
       "  </tbody>\n",
       "</table>\n",
       "</div>"
      ],
      "text/plain": [
       "      lib       hiv\n",
       "0  A37700  Positive\n",
       "1  A37701  Negative"
      ]
     },
     "execution_count": 9,
     "metadata": {},
     "output_type": "execute_result"
    }
   ],
   "source": [
    "df_stat.head(2)"
   ]
  },
  {
   "cell_type": "code",
   "execution_count": 10,
   "metadata": {
    "collapsed": false
   },
   "outputs": [],
   "source": [
    "merged = pd.merge(df_expr, df_stat, left_index=True, right_on='lib', how='outer')"
   ]
  },
  {
   "cell_type": "code",
   "execution_count": 11,
   "metadata": {
    "collapsed": false
   },
   "outputs": [
    {
     "data": {
      "text/plain": [
       "(82, 1042)"
      ]
     },
     "execution_count": 11,
     "metadata": {},
     "output_type": "execute_result"
    }
   ],
   "source": [
    "merged.shape"
   ]
  },
  {
   "cell_type": "code",
   "execution_count": 11,
   "metadata": {
    "collapsed": false,
    "scrolled": true
   },
   "outputs": [
    {
     "data": {
      "text/plain": [
       "Index([u'COLEC12', u'IL17RA', u'SOD1', u'HRH4', u'IFNAR2', u'SDF2L1',\n",
       "       u'VPREB1', u'PNP', u'IGLL1', u'RNASE7',\n",
       "       ...\n",
       "       u'ITGB3', u'CLEC5A', u'ITGB3', u'ACE', u'SIGLEC5', u'IKBKE', u'CCL3',\n",
       "       u'IKBKG', u'lib', u'hiv'],\n",
       "      dtype='object', name=u'genes', length=1042)"
      ]
     },
     "execution_count": 11,
     "metadata": {},
     "output_type": "execute_result"
    }
   ],
   "source": [
    "merged.columns"
   ]
  },
  {
   "cell_type": "code",
   "execution_count": 15,
   "metadata": {
    "collapsed": false
   },
   "outputs": [
    {
     "data": {
      "text/plain": [
       "(82, 1042)"
      ]
     },
     "execution_count": 15,
     "metadata": {},
     "output_type": "execute_result"
    }
   ],
   "source": [
    "merged.shape"
   ]
  },
  {
   "cell_type": "code",
   "execution_count": 20,
   "metadata": {
    "collapsed": false
   },
   "outputs": [
    {
     "data": {
      "text/html": [
       "<div>\n",
       "<table border=\"1\" class=\"dataframe\">\n",
       "  <thead>\n",
       "    <tr style=\"text-align: right;\">\n",
       "      <th>genes</th>\n",
       "      <th>COLEC12</th>\n",
       "      <th>IL17RA</th>\n",
       "      <th>SOD1</th>\n",
       "      <th>HRH4</th>\n",
       "      <th>IFNAR2</th>\n",
       "      <th>SDF2L1</th>\n",
       "      <th>VPREB1</th>\n",
       "      <th>PNP</th>\n",
       "      <th>IGLL1</th>\n",
       "      <th>RNASE7</th>\n",
       "      <th>...</th>\n",
       "      <th>ITGB3</th>\n",
       "      <th>CLEC5A</th>\n",
       "      <th>ITGB3</th>\n",
       "      <th>ACE</th>\n",
       "      <th>SIGLEC5</th>\n",
       "      <th>IKBKE</th>\n",
       "      <th>CCL3</th>\n",
       "      <th>IKBKG</th>\n",
       "      <th>lib</th>\n",
       "      <th>hiv</th>\n",
       "    </tr>\n",
       "  </thead>\n",
       "  <tbody>\n",
       "    <tr>\n",
       "      <th>0</th>\n",
       "      <td>0.7201</td>\n",
       "      <td>6.3268</td>\n",
       "      <td>47.6432</td>\n",
       "      <td>0.0175</td>\n",
       "      <td>6.7852</td>\n",
       "      <td>21.7496</td>\n",
       "      <td>0.0</td>\n",
       "      <td>32.7004</td>\n",
       "      <td>0.0</td>\n",
       "      <td>74.0282</td>\n",
       "      <td>...</td>\n",
       "      <td>0.5035</td>\n",
       "      <td>1.3127</td>\n",
       "      <td>0.5035</td>\n",
       "      <td>1.2163</td>\n",
       "      <td>0.3697</td>\n",
       "      <td>6.3847</td>\n",
       "      <td>3.8358</td>\n",
       "      <td>0.4449</td>\n",
       "      <td>A37700</td>\n",
       "      <td>Positive</td>\n",
       "    </tr>\n",
       "    <tr>\n",
       "      <th>1</th>\n",
       "      <td>0.7438</td>\n",
       "      <td>5.2315</td>\n",
       "      <td>155.6015</td>\n",
       "      <td>0.0051</td>\n",
       "      <td>5.0398</td>\n",
       "      <td>27.8376</td>\n",
       "      <td>0.0</td>\n",
       "      <td>18.7429</td>\n",
       "      <td>0.0</td>\n",
       "      <td>0.3494</td>\n",
       "      <td>...</td>\n",
       "      <td>0.1216</td>\n",
       "      <td>0.5618</td>\n",
       "      <td>0.1216</td>\n",
       "      <td>1.4951</td>\n",
       "      <td>0.1037</td>\n",
       "      <td>9.0201</td>\n",
       "      <td>5.2952</td>\n",
       "      <td>0.9416</td>\n",
       "      <td>A37701</td>\n",
       "      <td>Negative</td>\n",
       "    </tr>\n",
       "  </tbody>\n",
       "</table>\n",
       "<p>2 rows × 1042 columns</p>\n",
       "</div>"
      ],
      "text/plain": [
       "genes  COLEC12  IL17RA      SOD1    HRH4  IFNAR2   SDF2L1  VPREB1      PNP  \\\n",
       "0       0.7201  6.3268   47.6432  0.0175  6.7852  21.7496     0.0  32.7004   \n",
       "1       0.7438  5.2315  155.6015  0.0051  5.0398  27.8376     0.0  18.7429   \n",
       "\n",
       "genes  IGLL1   RNASE7    ...      ITGB3  CLEC5A   ITGB3     ACE  SIGLEC5  \\\n",
       "0        0.0  74.0282    ...     0.5035  1.3127  0.5035  1.2163   0.3697   \n",
       "1        0.0   0.3494    ...     0.1216  0.5618  0.1216  1.4951   0.1037   \n",
       "\n",
       "genes   IKBKE    CCL3   IKBKG     lib       hiv  \n",
       "0      6.3847  3.8358  0.4449  A37700  Positive  \n",
       "1      9.0201  5.2952  0.9416  A37701  Negative  \n",
       "\n",
       "[2 rows x 1042 columns]"
      ]
     },
     "execution_count": 20,
     "metadata": {},
     "output_type": "execute_result"
    }
   ],
   "source": [
    "merged.head(2)"
   ]
  },
  {
   "cell_type": "code",
   "execution_count": 21,
   "metadata": {
    "collapsed": false
   },
   "outputs": [
    {
     "data": {
      "text/plain": [
       "(810,)"
      ]
     },
     "execution_count": 21,
     "metadata": {},
     "output_type": "execute_result"
    }
   ],
   "source": [
    "np.unique(gene_cols).shape"
   ]
  },
  {
   "cell_type": "code",
   "execution_count": 19,
   "metadata": {
    "collapsed": false
   },
   "outputs": [
    {
     "data": {
      "text/html": [
       "<div>\n",
       "<table border=\"1\" class=\"dataframe\">\n",
       "  <thead>\n",
       "    <tr style=\"text-align: right;\">\n",
       "      <th>genes</th>\n",
       "      <th>COLEC12</th>\n",
       "      <th>IL17RA</th>\n",
       "      <th>SOD1</th>\n",
       "      <th>HRH4</th>\n",
       "      <th>IFNAR2</th>\n",
       "      <th>IFNAR2</th>\n",
       "      <th>SDF2L1</th>\n",
       "      <th>VPREB1</th>\n",
       "      <th>PNP</th>\n",
       "      <th>IGLL1</th>\n",
       "      <th>...</th>\n",
       "      <th>CLEC5A</th>\n",
       "      <th>ITGB3</th>\n",
       "      <th>ITGB3</th>\n",
       "      <th>ACE</th>\n",
       "      <th>ACE</th>\n",
       "      <th>SIGLEC5</th>\n",
       "      <th>SIGLEC5</th>\n",
       "      <th>IKBKE</th>\n",
       "      <th>CCL3</th>\n",
       "      <th>IKBKG</th>\n",
       "    </tr>\n",
       "  </thead>\n",
       "  <tbody>\n",
       "    <tr>\n",
       "      <th>0</th>\n",
       "      <td>0.7201</td>\n",
       "      <td>6.3268</td>\n",
       "      <td>47.6432</td>\n",
       "      <td>0.0175</td>\n",
       "      <td>6.7852</td>\n",
       "      <td>6.7852</td>\n",
       "      <td>21.7496</td>\n",
       "      <td>0.0</td>\n",
       "      <td>32.7004</td>\n",
       "      <td>0.0</td>\n",
       "      <td>...</td>\n",
       "      <td>1.3127</td>\n",
       "      <td>0.5035</td>\n",
       "      <td>0.5035</td>\n",
       "      <td>1.2163</td>\n",
       "      <td>1.2163</td>\n",
       "      <td>0.3697</td>\n",
       "      <td>0.3697</td>\n",
       "      <td>6.3847</td>\n",
       "      <td>3.8358</td>\n",
       "      <td>0.4449</td>\n",
       "    </tr>\n",
       "    <tr>\n",
       "      <th>1</th>\n",
       "      <td>0.7438</td>\n",
       "      <td>5.2315</td>\n",
       "      <td>155.6015</td>\n",
       "      <td>0.0051</td>\n",
       "      <td>5.0398</td>\n",
       "      <td>5.0398</td>\n",
       "      <td>27.8376</td>\n",
       "      <td>0.0</td>\n",
       "      <td>18.7429</td>\n",
       "      <td>0.0</td>\n",
       "      <td>...</td>\n",
       "      <td>0.5618</td>\n",
       "      <td>0.1216</td>\n",
       "      <td>0.1216</td>\n",
       "      <td>1.4951</td>\n",
       "      <td>1.4951</td>\n",
       "      <td>0.1037</td>\n",
       "      <td>0.1037</td>\n",
       "      <td>9.0201</td>\n",
       "      <td>5.2952</td>\n",
       "      <td>0.9416</td>\n",
       "    </tr>\n",
       "  </tbody>\n",
       "</table>\n",
       "<p>2 rows × 2988 columns</p>\n",
       "</div>"
      ],
      "text/plain": [
       "genes  COLEC12  IL17RA      SOD1    HRH4  IFNAR2  IFNAR2   SDF2L1  VPREB1  \\\n",
       "0       0.7201  6.3268   47.6432  0.0175  6.7852  6.7852  21.7496     0.0   \n",
       "1       0.7438  5.2315  155.6015  0.0051  5.0398  5.0398  27.8376     0.0   \n",
       "\n",
       "genes      PNP  IGLL1   ...    CLEC5A   ITGB3   ITGB3     ACE     ACE  \\\n",
       "0      32.7004    0.0   ...    1.3127  0.5035  0.5035  1.2163  1.2163   \n",
       "1      18.7429    0.0   ...    0.5618  0.1216  0.1216  1.4951  1.4951   \n",
       "\n",
       "genes  SIGLEC5  SIGLEC5   IKBKE    CCL3   IKBKG  \n",
       "0       0.3697   0.3697  6.3847  3.8358  0.4449  \n",
       "1       0.1037   0.1037  9.0201  5.2952  0.9416  \n",
       "\n",
       "[2 rows x 2988 columns]"
      ]
     },
     "execution_count": 19,
     "metadata": {},
     "output_type": "execute_result"
    }
   ],
   "source": [
    "merged[gene_cols].head(2)"
   ]
  },
  {
   "cell_type": "code",
   "execution_count": 16,
   "metadata": {
    "collapsed": true
   },
   "outputs": [],
   "source": [
    "df_expr_scaled = merged[gene_cols.tolist()].copy()"
   ]
  },
  {
   "cell_type": "code",
   "execution_count": 17,
   "metadata": {
    "collapsed": false
   },
   "outputs": [
    {
     "data": {
      "text/plain": [
       "(82, 2988)"
      ]
     },
     "execution_count": 17,
     "metadata": {},
     "output_type": "execute_result"
    }
   ],
   "source": [
    "df_expr_scaled.shape"
   ]
  },
  {
   "cell_type": "code",
   "execution_count": 12,
   "metadata": {
    "collapsed": false
   },
   "outputs": [
    {
     "ename": "NameError",
     "evalue": "name 'df_expr_scaled' is not defined",
     "output_type": "error",
     "traceback": [
      "\u001b[0;31m---------------------------------------------------------------------------\u001b[0m",
      "\u001b[0;31mNameError\u001b[0m                                 Traceback (most recent call last)",
      "\u001b[0;32m<ipython-input-12-cfd42ca041e7>\u001b[0m in \u001b[0;36m<module>\u001b[0;34m()\u001b[0m\n\u001b[0;32m----> 1\u001b[0;31m \u001b[0mget_ipython\u001b[0m\u001b[0;34m(\u001b[0m\u001b[0;34m)\u001b[0m\u001b[0;34m.\u001b[0m\u001b[0mmagic\u001b[0m\u001b[0;34m(\u001b[0m\u001b[0;34mu'time df_expr_scaled[gene_cols] = StandardScaler().fit_transform(merged[gene_cols].values)'\u001b[0m\u001b[0;34m)\u001b[0m\u001b[0;34m\u001b[0m\u001b[0m\n\u001b[0m",
      "\u001b[0;32m/home/szong/.local/lib/python2.7/site-packages/IPython/core/interactiveshell.pyc\u001b[0m in \u001b[0;36mmagic\u001b[0;34m(self, arg_s)\u001b[0m\n\u001b[1;32m   2156\u001b[0m         \u001b[0mmagic_name\u001b[0m\u001b[0;34m,\u001b[0m \u001b[0m_\u001b[0m\u001b[0;34m,\u001b[0m \u001b[0mmagic_arg_s\u001b[0m \u001b[0;34m=\u001b[0m \u001b[0marg_s\u001b[0m\u001b[0;34m.\u001b[0m\u001b[0mpartition\u001b[0m\u001b[0;34m(\u001b[0m\u001b[0;34m' '\u001b[0m\u001b[0;34m)\u001b[0m\u001b[0;34m\u001b[0m\u001b[0m\n\u001b[1;32m   2157\u001b[0m         \u001b[0mmagic_name\u001b[0m \u001b[0;34m=\u001b[0m \u001b[0mmagic_name\u001b[0m\u001b[0;34m.\u001b[0m\u001b[0mlstrip\u001b[0m\u001b[0;34m(\u001b[0m\u001b[0mprefilter\u001b[0m\u001b[0;34m.\u001b[0m\u001b[0mESC_MAGIC\u001b[0m\u001b[0;34m)\u001b[0m\u001b[0;34m\u001b[0m\u001b[0m\n\u001b[0;32m-> 2158\u001b[0;31m         \u001b[0;32mreturn\u001b[0m \u001b[0mself\u001b[0m\u001b[0;34m.\u001b[0m\u001b[0mrun_line_magic\u001b[0m\u001b[0;34m(\u001b[0m\u001b[0mmagic_name\u001b[0m\u001b[0;34m,\u001b[0m \u001b[0mmagic_arg_s\u001b[0m\u001b[0;34m)\u001b[0m\u001b[0;34m\u001b[0m\u001b[0m\n\u001b[0m\u001b[1;32m   2159\u001b[0m \u001b[0;34m\u001b[0m\u001b[0m\n\u001b[1;32m   2160\u001b[0m     \u001b[0;31m#-------------------------------------------------------------------------\u001b[0m\u001b[0;34m\u001b[0m\u001b[0;34m\u001b[0m\u001b[0m\n",
      "\u001b[0;32m/home/szong/.local/lib/python2.7/site-packages/IPython/core/interactiveshell.pyc\u001b[0m in \u001b[0;36mrun_line_magic\u001b[0;34m(self, magic_name, line)\u001b[0m\n\u001b[1;32m   2077\u001b[0m                 \u001b[0mkwargs\u001b[0m\u001b[0;34m[\u001b[0m\u001b[0;34m'local_ns'\u001b[0m\u001b[0;34m]\u001b[0m \u001b[0;34m=\u001b[0m \u001b[0msys\u001b[0m\u001b[0;34m.\u001b[0m\u001b[0m_getframe\u001b[0m\u001b[0;34m(\u001b[0m\u001b[0mstack_depth\u001b[0m\u001b[0;34m)\u001b[0m\u001b[0;34m.\u001b[0m\u001b[0mf_locals\u001b[0m\u001b[0;34m\u001b[0m\u001b[0m\n\u001b[1;32m   2078\u001b[0m             \u001b[0;32mwith\u001b[0m \u001b[0mself\u001b[0m\u001b[0;34m.\u001b[0m\u001b[0mbuiltin_trap\u001b[0m\u001b[0;34m:\u001b[0m\u001b[0;34m\u001b[0m\u001b[0m\n\u001b[0;32m-> 2079\u001b[0;31m                 \u001b[0mresult\u001b[0m \u001b[0;34m=\u001b[0m \u001b[0mfn\u001b[0m\u001b[0;34m(\u001b[0m\u001b[0;34m*\u001b[0m\u001b[0margs\u001b[0m\u001b[0;34m,\u001b[0m\u001b[0;34m**\u001b[0m\u001b[0mkwargs\u001b[0m\u001b[0;34m)\u001b[0m\u001b[0;34m\u001b[0m\u001b[0m\n\u001b[0m\u001b[1;32m   2080\u001b[0m             \u001b[0;32mreturn\u001b[0m \u001b[0mresult\u001b[0m\u001b[0;34m\u001b[0m\u001b[0m\n\u001b[1;32m   2081\u001b[0m \u001b[0;34m\u001b[0m\u001b[0m\n",
      "\u001b[0;32m<decorator-gen-59>\u001b[0m in \u001b[0;36mtime\u001b[0;34m(self, line, cell, local_ns)\u001b[0m\n",
      "\u001b[0;32m/home/szong/.local/lib/python2.7/site-packages/IPython/core/magic.pyc\u001b[0m in \u001b[0;36m<lambda>\u001b[0;34m(f, *a, **k)\u001b[0m\n\u001b[1;32m    186\u001b[0m     \u001b[0;31m# but it's overkill for just that one bit of state.\u001b[0m\u001b[0;34m\u001b[0m\u001b[0;34m\u001b[0m\u001b[0m\n\u001b[1;32m    187\u001b[0m     \u001b[0;32mdef\u001b[0m \u001b[0mmagic_deco\u001b[0m\u001b[0;34m(\u001b[0m\u001b[0marg\u001b[0m\u001b[0;34m)\u001b[0m\u001b[0;34m:\u001b[0m\u001b[0;34m\u001b[0m\u001b[0m\n\u001b[0;32m--> 188\u001b[0;31m         \u001b[0mcall\u001b[0m \u001b[0;34m=\u001b[0m \u001b[0;32mlambda\u001b[0m \u001b[0mf\u001b[0m\u001b[0;34m,\u001b[0m \u001b[0;34m*\u001b[0m\u001b[0ma\u001b[0m\u001b[0;34m,\u001b[0m \u001b[0;34m**\u001b[0m\u001b[0mk\u001b[0m\u001b[0;34m:\u001b[0m \u001b[0mf\u001b[0m\u001b[0;34m(\u001b[0m\u001b[0;34m*\u001b[0m\u001b[0ma\u001b[0m\u001b[0;34m,\u001b[0m \u001b[0;34m**\u001b[0m\u001b[0mk\u001b[0m\u001b[0;34m)\u001b[0m\u001b[0;34m\u001b[0m\u001b[0m\n\u001b[0m\u001b[1;32m    189\u001b[0m \u001b[0;34m\u001b[0m\u001b[0m\n\u001b[1;32m    190\u001b[0m         \u001b[0;32mif\u001b[0m \u001b[0mcallable\u001b[0m\u001b[0;34m(\u001b[0m\u001b[0marg\u001b[0m\u001b[0;34m)\u001b[0m\u001b[0;34m:\u001b[0m\u001b[0;34m\u001b[0m\u001b[0m\n",
      "\u001b[0;32m/home/szong/.local/lib/python2.7/site-packages/IPython/core/magics/execution.pyc\u001b[0m in \u001b[0;36mtime\u001b[0;34m(self, line, cell, local_ns)\u001b[0m\n\u001b[1;32m   1178\u001b[0m         \u001b[0;32melse\u001b[0m\u001b[0;34m:\u001b[0m\u001b[0;34m\u001b[0m\u001b[0m\n\u001b[1;32m   1179\u001b[0m             \u001b[0mst\u001b[0m \u001b[0;34m=\u001b[0m \u001b[0mclock2\u001b[0m\u001b[0;34m(\u001b[0m\u001b[0;34m)\u001b[0m\u001b[0;34m\u001b[0m\u001b[0m\n\u001b[0;32m-> 1180\u001b[0;31m             \u001b[0;32mexec\u001b[0m\u001b[0;34m(\u001b[0m\u001b[0mcode\u001b[0m\u001b[0;34m,\u001b[0m \u001b[0mglob\u001b[0m\u001b[0;34m,\u001b[0m \u001b[0mlocal_ns\u001b[0m\u001b[0;34m)\u001b[0m\u001b[0;34m\u001b[0m\u001b[0m\n\u001b[0m\u001b[1;32m   1181\u001b[0m             \u001b[0mend\u001b[0m \u001b[0;34m=\u001b[0m \u001b[0mclock2\u001b[0m\u001b[0;34m(\u001b[0m\u001b[0;34m)\u001b[0m\u001b[0;34m\u001b[0m\u001b[0m\n\u001b[1;32m   1182\u001b[0m             \u001b[0mout\u001b[0m \u001b[0;34m=\u001b[0m \u001b[0mNone\u001b[0m\u001b[0;34m\u001b[0m\u001b[0m\n",
      "\u001b[0;32m<timed exec>\u001b[0m in \u001b[0;36m<module>\u001b[0;34m()\u001b[0m\n",
      "\u001b[0;31mNameError\u001b[0m: name 'df_expr_scaled' is not defined"
     ]
    }
   ],
   "source": [
    "%time df_expr_scaled[gene_cols] = StandardScaler().fit_transform(merged[gene_cols].values)"
   ]
  },
  {
   "cell_type": "code",
   "execution_count": 14,
   "metadata": {
    "collapsed": false
   },
   "outputs": [],
   "source": [
    "# df_scaled[['BNIP3L', 'CHD2']].plot.hist(bins=30, alpha=0.4)"
   ]
  },
  {
   "cell_type": "code",
   "execution_count": null,
   "metadata": {
    "collapsed": true
   },
   "outputs": [],
   "source": []
  },
  {
   "cell_type": "code",
   "execution_count": null,
   "metadata": {
    "collapsed": true
   },
   "outputs": [],
   "source": []
  },
  {
   "cell_type": "code",
   "execution_count": 15,
   "metadata": {
    "collapsed": false,
    "scrolled": true
   },
   "outputs": [
    {
     "data": {
      "text/html": [
       "<div>\n",
       "<table border=\"1\" class=\"dataframe\">\n",
       "  <thead>\n",
       "    <tr style=\"text-align: right;\">\n",
       "      <th>genes</th>\n",
       "      <th>COLEC12</th>\n",
       "      <th>IL17RA</th>\n",
       "      <th>SOD1</th>\n",
       "      <th>HRH4</th>\n",
       "      <th>IFNAR2</th>\n",
       "      <th>SDF2L1</th>\n",
       "      <th>VPREB1</th>\n",
       "      <th>PNP</th>\n",
       "      <th>IGLL1</th>\n",
       "      <th>RNASE7</th>\n",
       "      <th>...</th>\n",
       "      <th>KLRC2</th>\n",
       "      <th>KLRK1</th>\n",
       "      <th>ITGB3</th>\n",
       "      <th>CLEC5A</th>\n",
       "      <th>ITGB3</th>\n",
       "      <th>ACE</th>\n",
       "      <th>SIGLEC5</th>\n",
       "      <th>IKBKE</th>\n",
       "      <th>CCL3</th>\n",
       "      <th>IKBKG</th>\n",
       "    </tr>\n",
       "  </thead>\n",
       "  <tbody>\n",
       "    <tr>\n",
       "      <th>A37700</th>\n",
       "      <td>-0.394770</td>\n",
       "      <td>0.276266</td>\n",
       "      <td>-0.822906</td>\n",
       "      <td>-0.249874</td>\n",
       "      <td>-0.312738</td>\n",
       "      <td>-0.82905</td>\n",
       "      <td>-0.284871</td>\n",
       "      <td>0.212346</td>\n",
       "      <td>-0.34107</td>\n",
       "      <td>1.003768</td>\n",
       "      <td>...</td>\n",
       "      <td>-0.153438</td>\n",
       "      <td>-0.578264</td>\n",
       "      <td>-0.281859</td>\n",
       "      <td>-0.133916</td>\n",
       "      <td>-0.281859</td>\n",
       "      <td>-0.578835</td>\n",
       "      <td>-0.240542</td>\n",
       "      <td>-0.422717</td>\n",
       "      <td>-0.276306</td>\n",
       "      <td>-0.336919</td>\n",
       "    </tr>\n",
       "    <tr>\n",
       "      <th>A37701</th>\n",
       "      <td>-0.384141</td>\n",
       "      <td>-0.370467</td>\n",
       "      <td>2.192550</td>\n",
       "      <td>-0.710818</td>\n",
       "      <td>-0.902102</td>\n",
       "      <td>-0.56308</td>\n",
       "      <td>-0.284871</td>\n",
       "      <td>-0.651030</td>\n",
       "      <td>-0.34107</td>\n",
       "      <td>-0.409801</td>\n",
       "      <td>...</td>\n",
       "      <td>2.588176</td>\n",
       "      <td>1.420430</td>\n",
       "      <td>-0.346562</td>\n",
       "      <td>-0.509837</td>\n",
       "      <td>-0.346562</td>\n",
       "      <td>-0.432052</td>\n",
       "      <td>-0.605446</td>\n",
       "      <td>0.195728</td>\n",
       "      <td>-0.068353</td>\n",
       "      <td>1.569383</td>\n",
       "    </tr>\n",
       "  </tbody>\n",
       "</table>\n",
       "<p>2 rows × 1040 columns</p>\n",
       "</div>"
      ],
      "text/plain": [
       "genes    COLEC12    IL17RA      SOD1      HRH4    IFNAR2   SDF2L1    VPREB1  \\\n",
       "A37700 -0.394770  0.276266 -0.822906 -0.249874 -0.312738 -0.82905 -0.284871   \n",
       "A37701 -0.384141 -0.370467  2.192550 -0.710818 -0.902102 -0.56308 -0.284871   \n",
       "\n",
       "genes        PNP    IGLL1    RNASE7    ...        KLRC2     KLRK1     ITGB3  \\\n",
       "A37700  0.212346 -0.34107  1.003768    ...    -0.153438 -0.578264 -0.281859   \n",
       "A37701 -0.651030 -0.34107 -0.409801    ...     2.588176  1.420430 -0.346562   \n",
       "\n",
       "genes     CLEC5A     ITGB3       ACE   SIGLEC5     IKBKE      CCL3     IKBKG  \n",
       "A37700 -0.133916 -0.281859 -0.578835 -0.240542 -0.422717 -0.276306 -0.336919  \n",
       "A37701 -0.509837 -0.346562 -0.432052 -0.605446  0.195728 -0.068353  1.569383  \n",
       "\n",
       "[2 rows x 1040 columns]"
      ]
     },
     "execution_count": 15,
     "metadata": {},
     "output_type": "execute_result"
    }
   ],
   "source": [
    "df_scaled.head(2)"
   ]
  },
  {
   "cell_type": "code",
   "execution_count": null,
   "metadata": {
    "collapsed": true
   },
   "outputs": [],
   "source": []
  },
  {
   "cell_type": "code",
   "execution_count": null,
   "metadata": {
    "collapsed": true
   },
   "outputs": [],
   "source": []
  },
  {
   "cell_type": "code",
   "execution_count": null,
   "metadata": {
    "collapsed": true
   },
   "outputs": [],
   "source": []
  },
  {
   "cell_type": "code",
   "execution_count": null,
   "metadata": {
    "collapsed": true
   },
   "outputs": [],
   "source": []
  },
  {
   "cell_type": "code",
   "execution_count": 2,
   "metadata": {
    "collapsed": false
   },
   "outputs": [],
   "source": [
    "# df = pd.read_csv('/projects/trans_scratch/validations/workspace/szong/Cervical/immune_expression/hiv_diff_expression.txt', sep='\\t', index_col='genes')\n",
    "# print(df.shape)\n"
   ]
  },
  {
   "cell_type": "code",
   "execution_count": 20,
   "metadata": {
    "collapsed": false
   },
   "outputs": [
    {
     "data": {
      "text/plain": [
       "Positive    43\n",
       "Negative    39\n",
       "Name: hiv, dtype: int64"
      ]
     },
     "execution_count": 20,
     "metadata": {},
     "output_type": "execute_result"
    }
   ],
   "source": [
    "merged.hiv.value_counts()"
   ]
  },
  {
   "cell_type": "code",
   "execution_count": 18,
   "metadata": {
    "collapsed": false
   },
   "outputs": [
    {
     "data": {
      "text/plain": [
       "Index([u'COLEC12', u'IL17RA', u'SOD1', u'HRH4', u'IFNAR2', u'SDF2L1',\n",
       "       u'VPREB1', u'PNP', u'IGLL1', u'RNASE7',\n",
       "       ...\n",
       "       u'KLRC2', u'KLRK1', u'ITGB3', u'CLEC5A', u'ITGB3', u'ACE', u'SIGLEC5',\n",
       "       u'IKBKE', u'CCL3', u'IKBKG'],\n",
       "      dtype='object', name=u'genes', length=1040)"
      ]
     },
     "execution_count": 18,
     "metadata": {},
     "output_type": "execute_result"
    }
   ],
   "source": [
    "df.columns"
   ]
  },
  {
   "cell_type": "code",
   "execution_count": 24,
   "metadata": {
    "collapsed": true
   },
   "outputs": [],
   "source": [
    "expr = merged[gene_cols].copy()"
   ]
  },
  {
   "cell_type": "code",
   "execution_count": 134,
   "metadata": {
    "collapsed": true
   },
   "outputs": [],
   "source": [
    "TSNE?"
   ]
  },
  {
   "cell_type": "code",
   "execution_count": 29,
   "metadata": {
    "collapsed": true
   },
   "outputs": [],
   "source": [
    "# Create a regular PCA model \n",
    "pca = PCA(n_components=50)"
   ]
  },
  {
   "cell_type": "code",
   "execution_count": 30,
   "metadata": {
    "collapsed": true
   },
   "outputs": [],
   "source": [
    "expression = pca.fit_transform(expr)"
   ]
  },
  {
   "cell_type": "code",
   "execution_count": 31,
   "metadata": {
    "collapsed": false
   },
   "outputs": [
    {
     "data": {
      "text/plain": [
       "(82, 50)"
      ]
     },
     "execution_count": 31,
     "metadata": {},
     "output_type": "execute_result"
    }
   ],
   "source": [
    "expression.shape"
   ]
  },
  {
   "cell_type": "code",
   "execution_count": 36,
   "metadata": {
    "collapsed": false
   },
   "outputs": [
    {
     "name": "stdout",
     "output_type": "stream",
     "text": [
      "[t-SNE] Computing pairwise distances...\n",
      "[t-SNE] Computing 31 nearest neighbors...\n",
      "[t-SNE] Computed conditional probabilities for sample 82 / 82\n",
      "[t-SNE] Mean sigma: 9.719742\n",
      "[t-SNE] KL divergence after 100 iterations with early exaggeration: 0.699208\n",
      "[t-SNE] Error after 175 iterations: 0.699208\n"
     ]
    }
   ],
   "source": [
    "# Create a Randomized PCA model that takes two components\n",
    "randomized_tsne = TSNE(n_components=2, learning_rate=100, perplexity=10, verbose=True)\n",
    "# randomized_tsne = RandomizedPCA(n_components=2)\n",
    "# randomized_tsne = PCA(n_components=2)\n",
    "# Fit and transform the data to the model\n",
    "reduced_data_rtsne = randomized_tsne.fit_transform(expression)\n",
    "\n",
    "# reduced_data_rtsne.shape\n",
    "# print(reduced_data_rtsne)"
   ]
  },
  {
   "cell_type": "code",
   "execution_count": 41,
   "metadata": {
    "collapsed": false
   },
   "outputs": [],
   "source": [
    "reduced_df = pd.DataFrame(reduced_data_rtsne, columns=['x', 'y'])"
   ]
  },
  {
   "cell_type": "code",
   "execution_count": null,
   "metadata": {
    "collapsed": true
   },
   "outputs": [],
   "source": [
    "reduced"
   ]
  },
  {
   "cell_type": "code",
   "execution_count": null,
   "metadata": {
    "collapsed": true
   },
   "outputs": [],
   "source": [
    "statuses = merged['hiv']\n",
    "\n",
    "for i in range(len(statuses)):\n",
    "#     print(i)\n",
    "    if statuses[i]=='Positive':\n",
    "        x = reduced_data_rtsne[i][0]\n",
    "        y = reduced_data_rtsne[i][1]\n",
    "        plt.scatter(x,y,c='red')\n",
    "    elif statuses[i]=='Negative':\n",
    "        x = reduced_data_rtsne[i][0]\n",
    "        y = reduced_data_rtsne[i][1]\n",
    "        plt.scatter(x,y,c='blue')    \n",
    "# plt.legend(digits.target_names, bbox_to_anchor=(1.05, 1), loc=2, borderaxespad=0.)\n",
    "plt.xlabel('tsne1')\n",
    "plt.ylabel('tnse2')\n",
    "# plt.title(\"tsne Scatter Plot\")\n",
    "# plt.show()"
   ]
  },
  {
   "cell_type": "code",
   "execution_count": 38,
   "metadata": {
    "collapsed": false
   },
   "outputs": [
    {
     "data": {
      "text/plain": [
       "<matplotlib.text.Text at 0x7f87e82b9450>"
      ]
     },
     "execution_count": 38,
     "metadata": {},
     "output_type": "execute_result"
    },
    {
     "data": {
      "image/png": "[encoded data removed]",
      "text/plain": [
       "<matplotlib.figure.Figure at 0x7f87e81da3d0>"
      ]
     },
     "metadata": {},
     "output_type": "display_data"
    }
   ],
   "source": [
    "statuses = merged['hiv']\n",
    "\n",
    "for i in range(len(statuses)):\n",
    "#     print(i)\n",
    "    if statuses[i]=='Positive':\n",
    "        x = reduced_data_rtsne[i][0]\n",
    "        y = reduced_data_rtsne[i][1]\n",
    "        plt.scatter(x,y,c='red')\n",
    "    elif statuses[i]=='Negative':\n",
    "        x = reduced_data_rtsne[i][0]\n",
    "        y = reduced_data_rtsne[i][1]\n",
    "        plt.scatter(x,y,c='blue')    \n",
    "# plt.legend(digits.target_names, bbox_to_anchor=(1.05, 1), loc=2, borderaxespad=0.)\n",
    "plt.xlabel('tsne1')\n",
    "plt.ylabel('tnse2')\n",
    "# plt.title(\"tsne Scatter Plot\")\n",
    "# plt.show()"
   ]
  },
  {
   "cell_type": "code",
   "execution_count": null,
   "metadata": {
    "collapsed": true
   },
   "outputs": [],
   "source": []
  },
  {
   "cell_type": "code",
   "execution_count": null,
   "metadata": {
    "collapsed": true
   },
   "outputs": [],
   "source": []
  }
 ],
 "metadata": {
  "kernelspec": {
   "display_name": "Python 2",
   "language": "python",
   "name": "python2"
  },
  "language_info": {
   "codemirror_mode": {
    "name": "ipython",
    "version": 2
   },
   "file_extension": ".py",
   "mimetype": "text/x-python",
   "name": "python",
   "nbconvert_exporter": "python",
   "pygments_lexer": "ipython2",
   "version": "2.7.12"
  }
 },
 "nbformat": 4,
 "nbformat_minor": 0
}
