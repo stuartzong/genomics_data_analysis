{
 "cells": [
  {
   "cell_type": "code",
   "execution_count": 2,
   "metadata": {
    "collapsed": true
   },
   "outputs": [],
   "source": [
    "import matplotlib\n",
    "# import seaborn\n",
    "import numpy as np\n",
    "import matplotlib.pyplot as plt\n",
    "from scipy.stats import ttest_ind\n",
    "import scipy.stats as ss\n",
    "from matplotlib import style\n",
    "matplotlib.style.use('ggplot')\n",
    "%matplotlib inline\n",
    "matplotlib.rcParams['figure.figsize'] = (15, 9)\n",
    "import pandas as pd\n",
    "\n",
    "from sklearn.decomposition import RandomizedPCA, PCA, TruncatedSVD\n",
    "from sklearn.linear_model import LogisticRegression\n",
    "from sklearn.manifold import TSNE\n",
    "from sklearn.preprocessing import StandardScaler\n"
   ]
  },
  {
   "cell_type": "code",
   "execution_count": 22,
   "metadata": {
    "collapsed": false,
    "scrolled": true
   },
   "outputs": [
    {
     "name": "stdout",
     "output_type": "stream",
     "text": [
      "CPU times: user 5.31 s, sys: 39 ms, total: 5.35 s\n",
      "Wall time: 5.35 s\n"
     ]
    },
    {
     "data": {
      "text/html": [
       "<div>\n",
       "<table border=\"1\" class=\"dataframe\">\n",
       "  <thead>\n",
       "    <tr style=\"text-align: right;\">\n",
       "      <th></th>\n",
       "      <th>lib</th>\n",
       "      <th>SCYL3</th>\n",
       "      <th>C1orf112</th>\n",
       "      <th>FGR</th>\n",
       "      <th>CFH</th>\n",
       "      <th>STPG1</th>\n",
       "      <th>NIPAL3</th>\n",
       "      <th>AK2</th>\n",
       "      <th>KDM1A</th>\n",
       "      <th>TTC22</th>\n",
       "      <th>...</th>\n",
       "      <th>EIF4A1P2</th>\n",
       "      <th>MXRA5P1</th>\n",
       "      <th>CTBP2P1</th>\n",
       "      <th>ATP5JP1</th>\n",
       "      <th>PARP4P1</th>\n",
       "      <th>KALP</th>\n",
       "      <th>AC006157.2</th>\n",
       "      <th>RP11-886I11.1</th>\n",
       "      <th>RP11-886I11.3</th>\n",
       "      <th>RP11-886I11.2</th>\n",
       "    </tr>\n",
       "  </thead>\n",
       "  <tbody>\n",
       "    <tr>\n",
       "      <th>0</th>\n",
       "      <td>A37700</td>\n",
       "      <td>3.6416</td>\n",
       "      <td>4.8082</td>\n",
       "      <td>0.7059</td>\n",
       "      <td>14.3879</td>\n",
       "      <td>1.6436</td>\n",
       "      <td>8.7098</td>\n",
       "      <td>29.0268</td>\n",
       "      <td>43.5168</td>\n",
       "      <td>18.7297</td>\n",
       "      <td>...</td>\n",
       "      <td>0.0</td>\n",
       "      <td>0.0799</td>\n",
       "      <td>0.0369</td>\n",
       "      <td>0.0</td>\n",
       "      <td>0.0000</td>\n",
       "      <td>0.0</td>\n",
       "      <td>0.0</td>\n",
       "      <td>0.0</td>\n",
       "      <td>0.0</td>\n",
       "      <td>0.0</td>\n",
       "    </tr>\n",
       "    <tr>\n",
       "      <th>1</th>\n",
       "      <td>A37701</td>\n",
       "      <td>5.9656</td>\n",
       "      <td>3.9581</td>\n",
       "      <td>2.1283</td>\n",
       "      <td>22.7599</td>\n",
       "      <td>1.2715</td>\n",
       "      <td>6.1969</td>\n",
       "      <td>18.3112</td>\n",
       "      <td>21.3308</td>\n",
       "      <td>30.3388</td>\n",
       "      <td>...</td>\n",
       "      <td>0.0</td>\n",
       "      <td>0.0000</td>\n",
       "      <td>0.0000</td>\n",
       "      <td>0.0</td>\n",
       "      <td>0.0081</td>\n",
       "      <td>0.0</td>\n",
       "      <td>0.0</td>\n",
       "      <td>0.0</td>\n",
       "      <td>0.0</td>\n",
       "      <td>0.0</td>\n",
       "    </tr>\n",
       "  </tbody>\n",
       "</table>\n",
       "<p>2 rows × 42585 columns</p>\n",
       "</div>"
      ],
      "text/plain": [
       "      lib   SCYL3  C1orf112     FGR      CFH   STPG1  NIPAL3      AK2  \\\n",
       "0  A37700  3.6416    4.8082  0.7059  14.3879  1.6436  8.7098  29.0268   \n",
       "1  A37701  5.9656    3.9581  2.1283  22.7599  1.2715  6.1969  18.3112   \n",
       "\n",
       "     KDM1A    TTC22      ...        EIF4A1P2  MXRA5P1  CTBP2P1  ATP5JP1  \\\n",
       "0  43.5168  18.7297      ...             0.0   0.0799   0.0369      0.0   \n",
       "1  21.3308  30.3388      ...             0.0   0.0000   0.0000      0.0   \n",
       "\n",
       "   PARP4P1  KALP  AC006157.2  RP11-886I11.1  RP11-886I11.3  RP11-886I11.2  \n",
       "0   0.0000   0.0         0.0            0.0            0.0            0.0  \n",
       "1   0.0081   0.0         0.0            0.0            0.0            0.0  \n",
       "\n",
       "[2 rows x 42585 columns]"
      ]
     },
     "execution_count": 22,
     "metadata": {},
     "output_type": "execute_result"
    }
   ],
   "source": [
    "%time df_expr = pd.read_csv('/projects/trans_scratch/validations/workspace/szong/Cervical/immune_expression/expression_matrix.dedup.txt')\n",
    "df_expr.head(2)"
   ]
  },
  {
   "cell_type": "code",
   "execution_count": 23,
   "metadata": {
    "collapsed": false
   },
   "outputs": [
    {
     "data": {
      "text/html": [
       "<div>\n",
       "<table border=\"1\" class=\"dataframe\">\n",
       "  <thead>\n",
       "    <tr style=\"text-align: right;\">\n",
       "      <th></th>\n",
       "      <th>patient</th>\n",
       "      <th>putative_Histology</th>\n",
       "      <th>HIV_status</th>\n",
       "      <th>library_RNA</th>\n",
       "    </tr>\n",
       "  </thead>\n",
       "  <tbody>\n",
       "    <tr>\n",
       "      <th>0</th>\n",
       "      <td>HTMCP-03-06-02202</td>\n",
       "      <td>Squamous</td>\n",
       "      <td>Positive</td>\n",
       "      <td>A57112</td>\n",
       "    </tr>\n",
       "    <tr>\n",
       "      <th>1</th>\n",
       "      <td>HTMCP-03-06-02240</td>\n",
       "      <td>Squamous</td>\n",
       "      <td>Positive</td>\n",
       "      <td>A57123</td>\n",
       "    </tr>\n",
       "  </tbody>\n",
       "</table>\n",
       "</div>"
      ],
      "text/plain": [
       "             patient putative_Histology HIV_status library_RNA\n",
       "0  HTMCP-03-06-02202           Squamous   Positive      A57112\n",
       "1  HTMCP-03-06-02240           Squamous   Positive      A57123"
      ]
     },
     "execution_count": 23,
     "metadata": {},
     "output_type": "execute_result"
    }
   ],
   "source": [
    "# add in patient id into the dataframe\n",
    "df_clinic = pd.read_excel('/projects/trans_scratch/validations/workspace/szong/Cervical/E6_E7_expression/Cervical_integration_expression_mastertable_reviewed.xls')\n",
    "# df_clinic.set_index('patient', inplace=True)\n",
    "# df_clinic.head(2)\n",
    "# df_clinic.library_RNA\n",
    "df_clinic = df_clinic[['patient','putative_Histology', 'HIV_status', 'library_RNA']]\n",
    "df_clinic.head(2)"
   ]
  },
  {
   "cell_type": "code",
   "execution_count": 24,
   "metadata": {
    "collapsed": true
   },
   "outputs": [],
   "source": [
    "df_jnt = pd.merge(df_expr, df_clinic, left_on='lib', right_on='library_RNA', how='inner')\n",
    "df_jnt.drop(['lib', 'library_RNA'], axis=1, inplace=True)\n",
    "df_jnt.set_index('patient', inplace=True)"
   ]
  },
  {
   "cell_type": "code",
   "execution_count": 25,
   "metadata": {
    "collapsed": false
   },
   "outputs": [
    {
     "data": {
      "text/html": [
       "<div>\n",
       "<table border=\"1\" class=\"dataframe\">\n",
       "  <thead>\n",
       "    <tr style=\"text-align: right;\">\n",
       "      <th></th>\n",
       "      <th>SCYL3</th>\n",
       "      <th>C1orf112</th>\n",
       "      <th>FGR</th>\n",
       "      <th>CFH</th>\n",
       "      <th>STPG1</th>\n",
       "      <th>NIPAL3</th>\n",
       "      <th>AK2</th>\n",
       "      <th>KDM1A</th>\n",
       "      <th>TTC22</th>\n",
       "      <th>ST7L</th>\n",
       "      <th>...</th>\n",
       "      <th>CTBP2P1</th>\n",
       "      <th>ATP5JP1</th>\n",
       "      <th>PARP4P1</th>\n",
       "      <th>KALP</th>\n",
       "      <th>AC006157.2</th>\n",
       "      <th>RP11-886I11.1</th>\n",
       "      <th>RP11-886I11.3</th>\n",
       "      <th>RP11-886I11.2</th>\n",
       "      <th>putative_Histology</th>\n",
       "      <th>HIV_status</th>\n",
       "    </tr>\n",
       "    <tr>\n",
       "      <th>patient</th>\n",
       "      <th></th>\n",
       "      <th></th>\n",
       "      <th></th>\n",
       "      <th></th>\n",
       "      <th></th>\n",
       "      <th></th>\n",
       "      <th></th>\n",
       "      <th></th>\n",
       "      <th></th>\n",
       "      <th></th>\n",
       "      <th></th>\n",
       "      <th></th>\n",
       "      <th></th>\n",
       "      <th></th>\n",
       "      <th></th>\n",
       "      <th></th>\n",
       "      <th></th>\n",
       "      <th></th>\n",
       "      <th></th>\n",
       "      <th></th>\n",
       "      <th></th>\n",
       "    </tr>\n",
       "  </thead>\n",
       "  <tbody>\n",
       "    <tr>\n",
       "      <th>HTMCP-03-06-02001</th>\n",
       "      <td>3.6416</td>\n",
       "      <td>4.8082</td>\n",
       "      <td>0.7059</td>\n",
       "      <td>14.3879</td>\n",
       "      <td>1.6436</td>\n",
       "      <td>8.7098</td>\n",
       "      <td>29.0268</td>\n",
       "      <td>43.5168</td>\n",
       "      <td>18.7297</td>\n",
       "      <td>1.3490</td>\n",
       "      <td>...</td>\n",
       "      <td>0.0369</td>\n",
       "      <td>0.0</td>\n",
       "      <td>0.0000</td>\n",
       "      <td>0.0</td>\n",
       "      <td>0.0</td>\n",
       "      <td>0.0</td>\n",
       "      <td>0.0</td>\n",
       "      <td>0.0</td>\n",
       "      <td>Squamous</td>\n",
       "      <td>Positive</td>\n",
       "    </tr>\n",
       "    <tr>\n",
       "      <th>HTMCP-03-06-02002</th>\n",
       "      <td>5.9656</td>\n",
       "      <td>3.9581</td>\n",
       "      <td>2.1283</td>\n",
       "      <td>22.7599</td>\n",
       "      <td>1.2715</td>\n",
       "      <td>6.1969</td>\n",
       "      <td>18.3112</td>\n",
       "      <td>21.3308</td>\n",
       "      <td>30.3388</td>\n",
       "      <td>1.8652</td>\n",
       "      <td>...</td>\n",
       "      <td>0.0000</td>\n",
       "      <td>0.0</td>\n",
       "      <td>0.0081</td>\n",
       "      <td>0.0</td>\n",
       "      <td>0.0</td>\n",
       "      <td>0.0</td>\n",
       "      <td>0.0</td>\n",
       "      <td>0.0</td>\n",
       "      <td>Squamous</td>\n",
       "      <td>Negative</td>\n",
       "    </tr>\n",
       "  </tbody>\n",
       "</table>\n",
       "<p>2 rows × 42586 columns</p>\n",
       "</div>"
      ],
      "text/plain": [
       "                    SCYL3  C1orf112     FGR      CFH   STPG1  NIPAL3      AK2  \\\n",
       "patient                                                                         \n",
       "HTMCP-03-06-02001  3.6416    4.8082  0.7059  14.3879  1.6436  8.7098  29.0268   \n",
       "HTMCP-03-06-02002  5.9656    3.9581  2.1283  22.7599  1.2715  6.1969  18.3112   \n",
       "\n",
       "                     KDM1A    TTC22    ST7L     ...      CTBP2P1  ATP5JP1  \\\n",
       "patient                                         ...                         \n",
       "HTMCP-03-06-02001  43.5168  18.7297  1.3490     ...       0.0369      0.0   \n",
       "HTMCP-03-06-02002  21.3308  30.3388  1.8652     ...       0.0000      0.0   \n",
       "\n",
       "                   PARP4P1  KALP  AC006157.2  RP11-886I11.1  RP11-886I11.3  \\\n",
       "patient                                                                      \n",
       "HTMCP-03-06-02001   0.0000   0.0         0.0            0.0            0.0   \n",
       "HTMCP-03-06-02002   0.0081   0.0         0.0            0.0            0.0   \n",
       "\n",
       "                   RP11-886I11.2  putative_Histology  HIV_status  \n",
       "patient                                                           \n",
       "HTMCP-03-06-02001            0.0            Squamous    Positive  \n",
       "HTMCP-03-06-02002            0.0            Squamous    Negative  \n",
       "\n",
       "[2 rows x 42586 columns]"
      ]
     },
     "execution_count": 25,
     "metadata": {},
     "output_type": "execute_result"
    }
   ],
   "source": [
    "df_jnt.head(2)"
   ]
  },
  {
   "cell_type": "code",
   "execution_count": 19,
   "metadata": {
    "collapsed": true
   },
   "outputs": [],
   "source": [
    "df_jnt.to_csv('/projects/trans_scratch/validations/workspace/szong/Cervical/immune_expression/expression_matrix.dedup.merged.status.txt')"
   ]
  },
  {
   "cell_type": "code",
   "execution_count": 26,
   "metadata": {
    "collapsed": false
   },
   "outputs": [],
   "source": [
    "# analysis all 824 immune related genes\n",
    "df_immune = pd.read_csv('/projects/trans_scratch/validations/workspace/szong/Cervical/immune_expression/immuno_related_genes.txt')\n",
    "immune_genes = df_immune['name'].tolist()\n",
    "# genes = ['YAP1', 'CTLA4', 'PDCD1', 'CD274', 'PDCD1LG2']\n",
    "genes = immune_genes\n"
   ]
  },
  {
   "cell_type": "code",
   "execution_count": 27,
   "metadata": {
    "collapsed": false
   },
   "outputs": [],
   "source": [
    "# pick only those significantly differentially expressed genes\n",
    "plot_genes = {}\n",
    "for k, gene in enumerate(genes):\n",
    "    if gene in df_jnt.columns:\n",
    "        group_col = 'HIV_status'\n",
    "        value_col = gene\n",
    "    # statistical test \n",
    "#         print('Mann Whitney U test on {0} comparing {1}'.format(value_col, group_col))\n",
    "        Negative = df_jnt[df_jnt[group_col]=='Negative']\n",
    "        Positive = df_jnt[df_jnt[group_col]=='Positive']\n",
    "        # tie corrected Mann Whitney U test,\n",
    "        mann_statistics = ss.mannwhitneyu(Negative[value_col], Positive[value_col], use_continuity=True, alternative=None)\n",
    "        p = float(str(mann_statistics).split('pvalue=')[1].replace(')', ''))\n",
    "        if p < 0.01:\n",
    "#             print(p)\n",
    "            plot_genes[gene] = p"
   ]
  },
  {
   "cell_type": "code",
   "execution_count": 28,
   "metadata": {
    "collapsed": false
   },
   "outputs": [],
   "source": [
    "plot_genes\n",
    "# sort dictionary on values\n",
    "srt_genes = [(k, plot_genes[k]) for k in sorted(plot_genes, key=plot_genes.get, reverse=False)]\n",
    "# srt_genes"
   ]
  },
  {
   "cell_type": "code",
   "execution_count": 32,
   "metadata": {
    "collapsed": false
   },
   "outputs": [],
   "source": [
    "# srt_genes"
   ]
  },
  {
   "cell_type": "code",
   "execution_count": 392,
   "metadata": {
    "collapsed": false
   },
   "outputs": [
    {
     "data": {
      "text/plain": [
       "9.47578521930293e-05"
      ]
     },
     "execution_count": 392,
     "metadata": {},
     "output_type": "execute_result"
    }
   ],
   "source": [
    "\n",
    "# plot_genes['TNFSF4']"
   ]
  },
  {
   "cell_type": "code",
   "execution_count": 56,
   "metadata": {
    "collapsed": true
   },
   "outputs": [],
   "source": [
    "# pick the first 30 genes\n",
    "srt_genes = srt_genes[:30]\n",
    "srt_genes"
   ]
  },
  {
   "cell_type": "code",
   "execution_count": 33,
   "metadata": {
    "collapsed": false
   },
   "outputs": [],
   "source": [
    "srt_genes = [i[0] for i in srt_genes]"
   ]
  },
  {
   "cell_type": "code",
   "execution_count": 41,
   "metadata": {
    "collapsed": false
   },
   "outputs": [
    {
     "data": {
      "text/plain": [
       "138"
      ]
     },
     "execution_count": 41,
     "metadata": {},
     "output_type": "execute_result"
    }
   ],
   "source": [
    "len(srt_genes)"
   ]
  },
  {
   "cell_type": "code",
   "execution_count": 48,
   "metadata": {
    "collapsed": false
   },
   "outputs": [],
   "source": [
    "srt_genes =['CD4', 'CCR5', 'CTLA4', 'PDCD1', 'PDCD1LG2']\n"
   ]
  },
  {
   "cell_type": "code",
   "execution_count": 51,
   "metadata": {
    "collapsed": false
   },
   "outputs": [],
   "source": [
    "# print(plot_genes[ 'PDCD1LG2'])"
   ]
  },
  {
   "cell_type": "code",
   "execution_count": 46,
   "metadata": {
    "collapsed": false,
    "scrolled": true
   },
   "outputs": [
    {
     "data": {
      "image/png": "[encoded data removed]",
      "text/plain": [
       "<matplotlib.figure.Figure at 0x7f2eb8909a10>"
      ]
     },
     "metadata": {},
     "output_type": "display_data"
    }
   ],
   "source": [
    "# boxplot hiv + vs -\n",
    "fig, axes = plt.subplots(int(len(srt_genes)/3.0)+1, 3, figsize=(16, 6))\n",
    "axes = axes.ravel()\n",
    "\n",
    "for k, gene in enumerate(srt_genes):\n",
    "        ax = axes[k]\n",
    "        group_col = 'HIV_status'\n",
    "        value_col = gene\n",
    "        df_jnt.boxplot(ax=ax, column=value_col, by=group_col, showfliers=False, widths=(0.6,0.6), figsize=(5,5))\n",
    "#         plt.title('') # this removes the column as subtitle of the plot\n",
    "        fig = ax.get_figure()\n",
    "        # fig.suptitle('')\n",
    "\n",
    "        np.random.seed(0)\n",
    "        # overlay actuall data points\n",
    "        categories = df_jnt[group_col].unique().tolist()\n",
    "        for category in categories:\n",
    "            y = df_jnt[value_col][df_jnt[group_col]==category]\n",
    "        #     i = categories.index(category) + 1\n",
    "            if category == 'Negative':\n",
    "                i = 1\n",
    "            elif category == 'Positive':\n",
    "                i = 2\n",
    "            # add jitter and specify maker facecolor and edgecolor\n",
    "            x = np.random.normal(i, 0.1, size=len(y))\n",
    "            ax.plot(x, y, 'o', markerfacecolor='white',markeredgecolor='black', markersize=7, alpha=0.8)\n",
    "\n",
    "        # ax.set_ylim(0,0.1)\n",
    "        ax.set_axis_bgcolor('whitesmoke') #specify plot backgroup color\n",
    "        ax.tick_params(axis='x', labelsize=14) #specify x tick label size\n",
    "        # ax.set_ylim(0,200000)\n",
    "        ax.set_xlabel(' ', fontsize=14)\n",
    "        ax.set_ylabel(' ', fontsize=14)\n",
    "    #     ax.suptitle(' ', fontsize=14)  # get rid of the automatically generated title\n",
    "        plt.tight_layout()\n",
    "        fig_name = '.'.join([gene, 'png'])\n",
    "        plt.savefig(fig_name, dpi=200)\n",
    "\n",
    " \n",
    "plt.suptitle(' ', fontsize=14)       \n",
    "plt.savefig('/projects/trans_scratch/validations/workspace/szong/Cervical/immune_expression/test.png', dpi=200)\n"
   ]
  },
  {
   "cell_type": "markdown",
   "metadata": {},
   "source": [
    "# use tsne to visualize the expression high dimensional data"
   ]
  },
  {
   "cell_type": "code",
   "execution_count": 53,
   "metadata": {
    "collapsed": false
   },
   "outputs": [],
   "source": [
    "df_jnt = pd.read_csv('/projects/trans_scratch/validations/workspace/szong/Cervical/immune_expression/expression_matrix.dedup.merged.status.txt')\n",
    "# df_jnt.shape\n",
    "# df_jnt.head(2)\n",
    "ALL_GENES = [_ for _ in df_jnt.columns.values.tolist() if _ not in ['putative_Histology', 'HIV_status', 'patient']]\n",
    "# len(ALL_GENES)\n",
    "# df_jnt.head(2)\n",
    "# df_jnt.columns.value_counts().unique()\n",
    "# len(ALL_GENES)"
   ]
  },
  {
   "cell_type": "code",
   "execution_count": 54,
   "metadata": {
    "collapsed": false
   },
   "outputs": [
    {
     "data": {
      "text/plain": [
       "LogisticRegression(C=1, class_weight=None, dual=False, fit_intercept=True,\n",
       "          intercept_scaling=1, max_iter=100, multi_class='ovr', n_jobs=1,\n",
       "          penalty='l2', random_state=None, solver='liblinear', tol=0.0001,\n",
       "          verbose=0, warm_start=False)"
      ]
     },
     "execution_count": 54,
     "metadata": {},
     "output_type": "execute_result"
    }
   ],
   "source": [
    "# loistic regression to find most distinguishing genes\n",
    "candidate_genes = list(sorted(ALL_GENES))\n",
    "df_X = df_jnt[candidate_genes].copy()\n",
    "df_y = df_jnt['HIV_status'].apply(lambda v: 0 if v == 'Negative' else 1)\n",
    "# df_X.shape\n",
    "# df_y.shape\n",
    "clf = LogisticRegression(C=1, penalty='l2')\n",
    "clf.fit(df_X, df_y)\n",
    "# clf.coef_[0].shape"
   ]
  },
  {
   "cell_type": "code",
   "execution_count": 55,
   "metadata": {
    "collapsed": false
   },
   "outputs": [],
   "source": [
    "df_coef = pd.DataFrame(zip(candidate_genes, clf.coef_[0]), columns=['gene', 'coef'])\n",
    "df_coef['abs_coef'] = df_coef.coef.abs()\n",
    "df_coef.sort_values('abs_coef', ascending=False, inplace=True)\n",
    "# df_coef\n",
    "sel_genes = df_coef.head(10).gene.values\n",
    "# len(sel_genes)\n"
   ]
  },
  {
   "cell_type": "code",
   "execution_count": 56,
   "metadata": {
    "collapsed": false
   },
   "outputs": [
    {
     "name": "stdout",
     "output_type": "stream",
     "text": [
      "CPU times: user 21 ms, sys: 0 ns, total: 21 ms\n",
      "Wall time: 5.12 ms\n"
     ]
    }
   ],
   "source": [
    "df_expr = df_jnt.copy()\n",
    "# scale data\n",
    "%time df_expr_scaled = StandardScaler().fit_transform(df_expr[sel_genes].values)\n",
    "# df_expr[sel_genes]"
   ]
  },
  {
   "cell_type": "code",
   "execution_count": 57,
   "metadata": {
    "collapsed": false
   },
   "outputs": [
    {
     "name": "stdout",
     "output_type": "stream",
     "text": [
      "[t-SNE] Computing pairwise distances...\n",
      "[t-SNE] Computing 81 nearest neighbors...\n",
      "[t-SNE] Computed conditional probabilities for sample 82 / 82\n",
      "[t-SNE] Mean sigma: 1.501611\n",
      "[t-SNE] KL divergence after 100 iterations with early exaggeration: 0.444126\n",
      "[t-SNE] Error after 300 iterations: 0.444126\n"
     ]
    }
   ],
   "source": [
    "# Create a Randomized PCA model that takes two components\n",
    "randomized_tsne = TSNE(n_components=2, learning_rate=5, perplexity=30, verbose=True)\n",
    "# randomized_tsne = RandomizedPCA(n_components=2)\n",
    "# randomized_tsne = PCA(n_components=2)\n",
    "# Fit and transform the data to the model\n",
    "# reduced_data_rtsne = randomized_tsne.fit_transform(expression)\n",
    "# reduced_data_rtsne = randomized_tsne.fit_transform(reduced)\n",
    "reduced_data_rtsne = randomized_tsne.fit_transform(df_expr_scaled)\n",
    "# reduced_data_rtsne.shape\n",
    "# print(reduced_data_rtsne)"
   ]
  },
  {
   "cell_type": "code",
   "execution_count": 58,
   "metadata": {
    "collapsed": true
   },
   "outputs": [],
   "source": [
    "df_embed = pd.DataFrame(reduced_data_rtsne, columns=['x', 'y'])\n",
    "df_embed['HIV_status'] = df_expr.HIV_status.values\n",
    "df_embed['color'] = df_embed['HIV_status'].apply(lambda v: 0 if v == 'Negative' else 1)"
   ]
  },
  {
   "cell_type": "code",
   "execution_count": 59,
   "metadata": {
    "collapsed": false,
    "scrolled": true
   },
   "outputs": [
    {
     "data": {
      "text/html": [
       "<div>\n",
       "<table border=\"1\" class=\"dataframe\">\n",
       "  <thead>\n",
       "    <tr style=\"text-align: right;\">\n",
       "      <th></th>\n",
       "      <th>x</th>\n",
       "      <th>y</th>\n",
       "      <th>HIV_status</th>\n",
       "      <th>color</th>\n",
       "    </tr>\n",
       "  </thead>\n",
       "  <tbody>\n",
       "    <tr>\n",
       "      <th>0</th>\n",
       "      <td>-1.934829</td>\n",
       "      <td>1.053396</td>\n",
       "      <td>Positive</td>\n",
       "      <td>1</td>\n",
       "    </tr>\n",
       "    <tr>\n",
       "      <th>1</th>\n",
       "      <td>1.712143</td>\n",
       "      <td>-0.488929</td>\n",
       "      <td>Negative</td>\n",
       "      <td>0</td>\n",
       "    </tr>\n",
       "    <tr>\n",
       "      <th>2</th>\n",
       "      <td>0.662742</td>\n",
       "      <td>1.659029</td>\n",
       "      <td>Positive</td>\n",
       "      <td>1</td>\n",
       "    </tr>\n",
       "    <tr>\n",
       "      <th>3</th>\n",
       "      <td>0.958385</td>\n",
       "      <td>0.083743</td>\n",
       "      <td>Negative</td>\n",
       "      <td>0</td>\n",
       "    </tr>\n",
       "    <tr>\n",
       "      <th>4</th>\n",
       "      <td>1.423805</td>\n",
       "      <td>-0.460154</td>\n",
       "      <td>Negative</td>\n",
       "      <td>0</td>\n",
       "    </tr>\n",
       "  </tbody>\n",
       "</table>\n",
       "</div>"
      ],
      "text/plain": [
       "          x         y HIV_status  color\n",
       "0 -1.934829  1.053396   Positive      1\n",
       "1  1.712143 -0.488929   Negative      0\n",
       "2  0.662742  1.659029   Positive      1\n",
       "3  0.958385  0.083743   Negative      0\n",
       "4  1.423805 -0.460154   Negative      0"
      ]
     },
     "execution_count": 59,
     "metadata": {},
     "output_type": "execute_result"
    }
   ],
   "source": [
    "df_embed.head()"
   ]
  },
  {
   "cell_type": "code",
   "execution_count": 63,
   "metadata": {
    "collapsed": false
   },
   "outputs": [
    {
     "data": {
      "image/png": "[encoded data removed]",
      "text/plain": [
       "<matplotlib.figure.Figure at 0x7f2ec12c9290>"
      ]
     },
     "metadata": {},
     "output_type": "display_data"
    }
   ],
   "source": [
    "fig = plt.figure(figsize=(8, 6))\n",
    "ax = fig.add_subplot(111)\n",
    "# ax.scatter(*reduced_data_rtsne.T)\n",
    "# df_embed.plot.scatter(x='x', y='y', ax=ax, c=df_embed.color.values)\n",
    "\n",
    "for i in ['Positive', 'Negative']:\n",
    "    col = 'blue' if i == 'Negative' else 'red'\n",
    "    _df = df_embed.query('HIV_status == \"{0}\"'.format(i))\n",
    "    ax.scatter(_df['x'].values, _df['y'].values, color=col)"
   ]
  },
  {
   "cell_type": "code",
   "execution_count": 393,
   "metadata": {
    "collapsed": false
   },
   "outputs": [
    {
     "data": {
      "text/plain": [
       "0      4.9655\n",
       "1     13.2054\n",
       "2     16.4414\n",
       "3     10.1120\n",
       "4     28.0539\n",
       "5     15.3517\n",
       "6      8.1018\n",
       "7     18.1117\n",
       "8     15.8280\n",
       "9     21.1948\n",
       "10     8.1593\n",
       "11    13.5350\n",
       "12     7.9053\n",
       "13    23.2196\n",
       "14    16.0456\n",
       "15     5.8347\n",
       "16    15.7068\n",
       "17     6.5621\n",
       "18     6.2292\n",
       "19     7.8638\n",
       "20     1.9428\n",
       "21    29.7691\n",
       "22    36.9461\n",
       "23    10.6766\n",
       "24     7.6632\n",
       "25     3.4928\n",
       "26     4.8944\n",
       "27    12.8546\n",
       "28    28.6762\n",
       "29     6.8959\n",
       "       ...   \n",
       "52     2.8734\n",
       "53    17.1700\n",
       "54     5.6284\n",
       "55    19.3586\n",
       "56    18.4659\n",
       "57    19.8147\n",
       "58    11.4371\n",
       "59    21.2499\n",
       "60    12.5690\n",
       "61     7.0495\n",
       "62     5.8118\n",
       "63    27.1268\n",
       "64    21.3168\n",
       "65    15.7287\n",
       "66     0.6573\n",
       "67    14.6911\n",
       "68    14.5548\n",
       "69    13.2676\n",
       "70     3.0424\n",
       "71    20.2035\n",
       "72    21.5861\n",
       "73    12.0835\n",
       "74    42.5732\n",
       "75     6.5555\n",
       "76     4.1686\n",
       "77    18.3819\n",
       "78    20.3257\n",
       "79     3.0635\n",
       "80     3.9297\n",
       "81     9.7960\n",
       "Name: CD4, dtype: float64"
      ]
     },
     "execution_count": 393,
     "metadata": {},
     "output_type": "execute_result"
    }
   ],
   "source": [
    "df_jnt['CD4']"
   ]
  },
  {
   "cell_type": "code",
   "execution_count": null,
   "metadata": {
    "collapsed": true
   },
   "outputs": [],
   "source": []
  },
  {
   "cell_type": "markdown",
   "metadata": {
    "collapsed": true
   },
   "source": [
    "# summarize KMT2 and KDM5 mutations"
   ]
  },
  {
   "cell_type": "code",
   "execution_count": 173,
   "metadata": {
    "collapsed": true
   },
   "outputs": [],
   "source": [
    "columns = ['gene', 'chromosome', 'position', 'ref_base', 'alt_base', 'patient_ID', 'snpeff_details']\n",
    "genes = ['MLL', 'MLL2', 'MLL3', 'MLL4', 'MLL5', 'SETD1A', 'SETD1B', 'KDM5A', 'KDM5B']"
   ]
  },
  {
   "cell_type": "code",
   "execution_count": 174,
   "metadata": {
    "collapsed": false,
    "scrolled": true
   },
   "outputs": [
    {
     "data": {
      "text/html": [
       "<div>\n",
       "<table border=\"1\" class=\"dataframe\">\n",
       "  <thead>\n",
       "    <tr style=\"text-align: right;\">\n",
       "      <th></th>\n",
       "      <th>gene</th>\n",
       "      <th>chromosome</th>\n",
       "      <th>position</th>\n",
       "      <th>ref_base</th>\n",
       "      <th>alt_base</th>\n",
       "      <th>patient_ID</th>\n",
       "      <th>snpeff_details</th>\n",
       "    </tr>\n",
       "  </thead>\n",
       "  <tbody>\n",
       "    <tr>\n",
       "      <th>4061</th>\n",
       "      <td>MLL2</td>\n",
       "      <td>12</td>\n",
       "      <td>49445116</td>\n",
       "      <td>C</td>\n",
       "      <td>G</td>\n",
       "      <td>HTMCP-03-06-02209_Malignant</td>\n",
       "      <td>NON_SYNONYMOUS_CODING(MODERATE|MISSENSE|Gag/Ca...</td>\n",
       "    </tr>\n",
       "    <tr>\n",
       "      <th>4062</th>\n",
       "      <td>MLL2</td>\n",
       "      <td>12</td>\n",
       "      <td>49420880</td>\n",
       "      <td>C</td>\n",
       "      <td>T</td>\n",
       "      <td>HTMCP-03-06-02214_Malignant</td>\n",
       "      <td>NON_SYNONYMOUS_CODING(MODERATE|MISSENSE|Gaa/Aa...</td>\n",
       "    </tr>\n",
       "  </tbody>\n",
       "</table>\n",
       "</div>"
      ],
      "text/plain": [
       "      gene chromosome  position ref_base alt_base  \\\n",
       "4061  MLL2         12  49445116        C        G   \n",
       "4062  MLL2         12  49420880        C        T   \n",
       "\n",
       "                       patient_ID  \\\n",
       "4061  HTMCP-03-06-02209_Malignant   \n",
       "4062  HTMCP-03-06-02214_Malignant   \n",
       "\n",
       "                                         snpeff_details  \n",
       "4061  NON_SYNONYMOUS_CODING(MODERATE|MISSENSE|Gag/Ca...  \n",
       "4062  NON_SYNONYMOUS_CODING(MODERATE|MISSENSE|Gaa/Aa...  "
      ]
     },
     "execution_count": 174,
     "metadata": {},
     "output_type": "execute_result"
    }
   ],
   "source": [
    "df_snvs = pd.read_csv('/projects/trans_scratch/validations/workspace/szong/Cervical/variant_bwamem/101_patients/HIGH_MODERATE_SNV_summary_with_normal_with_AF_filtered.tsv', skiprows=312, sep='\\t')\n",
    "df_snvs.head(2)\n",
    "# filer rows with a list\n",
    "snv_tmp = df_snvs[df_snvs['gene'].isin(genes)]\n",
    "snv_tmp = snv_tmp[columns]\n",
    "snv_tmp.head(2)"
   ]
  },
  {
   "cell_type": "code",
   "execution_count": 146,
   "metadata": {
    "collapsed": false
   },
   "outputs": [
    {
     "data": {
      "text/plain": [
       "(95, 7)"
      ]
     },
     "execution_count": 146,
     "metadata": {},
     "output_type": "execute_result"
    }
   ],
   "source": [
    "snv_tmp.shape"
   ]
  },
  {
   "cell_type": "code",
   "execution_count": 147,
   "metadata": {
    "collapsed": false
   },
   "outputs": [
    {
     "data": {
      "text/html": [
       "<div>\n",
       "<table border=\"1\" class=\"dataframe\">\n",
       "  <thead>\n",
       "    <tr style=\"text-align: right;\">\n",
       "      <th></th>\n",
       "      <th>gene</th>\n",
       "      <th>chromosome</th>\n",
       "      <th>position</th>\n",
       "      <th>ref_base</th>\n",
       "      <th>alt_base</th>\n",
       "      <th>patient_ID</th>\n",
       "      <th>snpeff_details</th>\n",
       "    </tr>\n",
       "  </thead>\n",
       "  <tbody>\n",
       "    <tr>\n",
       "      <th>82</th>\n",
       "      <td>MLL3</td>\n",
       "      <td>7</td>\n",
       "      <td>151879476</td>\n",
       "      <td>CTG</td>\n",
       "      <td>C</td>\n",
       "      <td>HTMCP-03-06-02097_Malignant</td>\n",
       "      <td>FRAME_SHIFT(HIGH||-|-1823|4911|MLL3|protein_co...</td>\n",
       "    </tr>\n",
       "    <tr>\n",
       "      <th>83</th>\n",
       "      <td>MLL3</td>\n",
       "      <td>7</td>\n",
       "      <td>151927034</td>\n",
       "      <td>AACACTGACC</td>\n",
       "      <td>A</td>\n",
       "      <td>HTMCP-03-06-02001_Malignant</td>\n",
       "      <td>CODON_DELETION(MODERATE||ggtcagtgt/-|GQC981-|4...</td>\n",
       "    </tr>\n",
       "  </tbody>\n",
       "</table>\n",
       "</div>"
      ],
      "text/plain": [
       "    gene chromosome   position    ref_base alt_base  \\\n",
       "82  MLL3          7  151879476         CTG        C   \n",
       "83  MLL3          7  151927034  AACACTGACC        A   \n",
       "\n",
       "                     patient_ID  \\\n",
       "82  HTMCP-03-06-02097_Malignant   \n",
       "83  HTMCP-03-06-02001_Malignant   \n",
       "\n",
       "                                       snpeff_details  \n",
       "82  FRAME_SHIFT(HIGH||-|-1823|4911|MLL3|protein_co...  \n",
       "83  CODON_DELETION(MODERATE||ggtcagtgt/-|GQC981-|4...  "
      ]
     },
     "execution_count": 147,
     "metadata": {},
     "output_type": "execute_result"
    }
   ],
   "source": [
    "df_indels = pd.read_csv('/projects/trans_scratch/validations/workspace/szong/Cervical/variant_bwamem/101_patients/HIGH_MODERATE_INDEL_summary_with_normal_strelka_only.tsv', sep='\\t')\n",
    "indel_tmp = df_indels[df_indels['gene'].isin(genes)]\n",
    "indel_tmp = indel_tmp[columns]\n",
    "indel_tmp.head(2)"
   ]
  },
  {
   "cell_type": "code",
   "execution_count": 148,
   "metadata": {
    "collapsed": false
   },
   "outputs": [
    {
     "data": {
      "text/plain": [
       "(7, 7)"
      ]
     },
     "execution_count": 148,
     "metadata": {},
     "output_type": "execute_result"
    }
   ],
   "source": [
    "indel_tmp.shape"
   ]
  },
  {
   "cell_type": "code",
   "execution_count": 149,
   "metadata": {
    "collapsed": false
   },
   "outputs": [
    {
     "data": {
      "text/plain": [
       "(102, 7)"
      ]
     },
     "execution_count": 149,
     "metadata": {},
     "output_type": "execute_result"
    }
   ],
   "source": [
    "# concat 2 dataframes\n",
    "df_cnct = pd.concat([snv_tmp, indel_tmp])\n",
    "df_cnct.shape"
   ]
  },
  {
   "cell_type": "code",
   "execution_count": 150,
   "metadata": {
    "collapsed": false
   },
   "outputs": [
    {
     "data": {
      "text/html": [
       "<div>\n",
       "<table border=\"1\" class=\"dataframe\">\n",
       "  <thead>\n",
       "    <tr style=\"text-align: right;\">\n",
       "      <th></th>\n",
       "      <th>gene</th>\n",
       "      <th>chromosome</th>\n",
       "      <th>position</th>\n",
       "      <th>ref_base</th>\n",
       "      <th>alt_base</th>\n",
       "      <th>mut_type</th>\n",
       "      <th>patient</th>\n",
       "    </tr>\n",
       "  </thead>\n",
       "  <tbody>\n",
       "    <tr>\n",
       "      <th>4061</th>\n",
       "      <td>MLL2</td>\n",
       "      <td>12</td>\n",
       "      <td>49445116</td>\n",
       "      <td>C</td>\n",
       "      <td>G</td>\n",
       "      <td>NON_SYNONYMOUS_CODING</td>\n",
       "      <td>HTMCP-03-06-02209</td>\n",
       "    </tr>\n",
       "    <tr>\n",
       "      <th>4062</th>\n",
       "      <td>MLL2</td>\n",
       "      <td>12</td>\n",
       "      <td>49420880</td>\n",
       "      <td>C</td>\n",
       "      <td>T</td>\n",
       "      <td>NON_SYNONYMOUS_CODING</td>\n",
       "      <td>HTMCP-03-06-02214</td>\n",
       "    </tr>\n",
       "  </tbody>\n",
       "</table>\n",
       "</div>"
      ],
      "text/plain": [
       "      gene chromosome  position ref_base alt_base               mut_type  \\\n",
       "4061  MLL2         12  49445116        C        G  NON_SYNONYMOUS_CODING   \n",
       "4062  MLL2         12  49420880        C        T  NON_SYNONYMOUS_CODING   \n",
       "\n",
       "                patient  \n",
       "4061  HTMCP-03-06-02209  \n",
       "4062  HTMCP-03-06-02214  "
      ]
     },
     "execution_count": 150,
     "metadata": {},
     "output_type": "execute_result"
    }
   ],
   "source": [
    "df_cnct['mut_type'] = df_cnct.snpeff_details.apply(lambda x: x.split('(')[0])\n",
    "df_cnct['patient'] = df_cnct.patient_ID.apply(lambda y: y.split('_')[0])\n",
    "df_cnct.drop(['patient_ID', 'snpeff_details'], axis=1,inplace=True)\n",
    "# df_cnct.set_index('patient', inplace=True)\n",
    "df_cnct.head(2)"
   ]
  },
  {
   "cell_type": "code",
   "execution_count": 172,
   "metadata": {
    "collapsed": false
   },
   "outputs": [],
   "source": [
    "# combine mutation for each patient into one row\n",
    "def process_grp(grp):\n",
    "    _df_or_sr = grp.apply(lambda col: ';'.join(col.unique().tolist()))\n",
    "    _df = _df_or_sr.to_frame().T\n",
    "    assert _df.shape[0] == 1\n",
    "    return _df"
   ]
  },
  {
   "cell_type": "code",
   "execution_count": 171,
   "metadata": {
    "collapsed": false
   },
   "outputs": [
    {
     "ename": "AttributeError",
     "evalue": "(\"'str' object has no attribute 'unique'\", u'occurred at index gene')",
     "output_type": "error",
     "traceback": [
      "\u001b[0;31m---------------------------------------------------------------------------\u001b[0m",
      "\u001b[0;31mAttributeError\u001b[0m                            Traceback (most recent call last)",
      "\u001b[0;32m<ipython-input-171-6c242310db87>\u001b[0m in \u001b[0;36m<module>\u001b[0;34m()\u001b[0m\n\u001b[1;32m      2\u001b[0m \u001b[0;31m#     print(name)\u001b[0m\u001b[0;34m\u001b[0m\u001b[0;34m\u001b[0m\u001b[0m\n\u001b[1;32m      3\u001b[0m \u001b[0;31m#     print(grp.apply(lambda col: ';'.join(col.apply(str).unique().tolist())))\u001b[0m\u001b[0;34m\u001b[0m\u001b[0;34m\u001b[0m\u001b[0m\n\u001b[0;32m----> 4\u001b[0;31m \u001b[0mdf_cnct\u001b[0m\u001b[0;34m.\u001b[0m\u001b[0mapply\u001b[0m\u001b[0;34m(\u001b[0m\u001b[0mprocess_grp\u001b[0m\u001b[0;34m)\u001b[0m\u001b[0;34m.\u001b[0m\u001b[0mreset_index\u001b[0m\u001b[0;34m(\u001b[0m\u001b[0mlevel\u001b[0m\u001b[0;34m=\u001b[0m\u001b[0;36m2\u001b[0m\u001b[0;34m,\u001b[0m \u001b[0mdrop\u001b[0m\u001b[0;34m=\u001b[0m\u001b[0mTrue\u001b[0m\u001b[0;34m)\u001b[0m\u001b[0;34m\u001b[0m\u001b[0m\n\u001b[0m",
      "\u001b[0;32m/home/szong/projects/development/coverage/venv/lib/python2.7/site-packages/pandas/core/frame.pyc\u001b[0m in \u001b[0;36mapply\u001b[0;34m(self, func, axis, broadcast, raw, reduce, args, **kwds)\u001b[0m\n\u001b[1;32m   4059\u001b[0m                     \u001b[0;32mif\u001b[0m \u001b[0mreduce\u001b[0m \u001b[0;32mis\u001b[0m \u001b[0mNone\u001b[0m\u001b[0;34m:\u001b[0m\u001b[0;34m\u001b[0m\u001b[0m\n\u001b[1;32m   4060\u001b[0m                         \u001b[0mreduce\u001b[0m \u001b[0;34m=\u001b[0m \u001b[0mTrue\u001b[0m\u001b[0;34m\u001b[0m\u001b[0m\n\u001b[0;32m-> 4061\u001b[0;31m                     \u001b[0;32mreturn\u001b[0m \u001b[0mself\u001b[0m\u001b[0;34m.\u001b[0m\u001b[0m_apply_standard\u001b[0m\u001b[0;34m(\u001b[0m\u001b[0mf\u001b[0m\u001b[0;34m,\u001b[0m \u001b[0maxis\u001b[0m\u001b[0;34m,\u001b[0m \u001b[0mreduce\u001b[0m\u001b[0;34m=\u001b[0m\u001b[0mreduce\u001b[0m\u001b[0;34m)\u001b[0m\u001b[0;34m\u001b[0m\u001b[0m\n\u001b[0m\u001b[1;32m   4062\u001b[0m             \u001b[0;32melse\u001b[0m\u001b[0;34m:\u001b[0m\u001b[0;34m\u001b[0m\u001b[0m\n\u001b[1;32m   4063\u001b[0m                 \u001b[0;32mreturn\u001b[0m \u001b[0mself\u001b[0m\u001b[0;34m.\u001b[0m\u001b[0m_apply_broadcast\u001b[0m\u001b[0;34m(\u001b[0m\u001b[0mf\u001b[0m\u001b[0;34m,\u001b[0m \u001b[0maxis\u001b[0m\u001b[0;34m)\u001b[0m\u001b[0;34m\u001b[0m\u001b[0m\n",
      "\u001b[0;32m/home/szong/projects/development/coverage/venv/lib/python2.7/site-packages/pandas/core/frame.pyc\u001b[0m in \u001b[0;36m_apply_standard\u001b[0;34m(self, func, axis, ignore_failures, reduce)\u001b[0m\n\u001b[1;32m   4155\u001b[0m             \u001b[0;32mtry\u001b[0m\u001b[0;34m:\u001b[0m\u001b[0;34m\u001b[0m\u001b[0m\n\u001b[1;32m   4156\u001b[0m                 \u001b[0;32mfor\u001b[0m \u001b[0mi\u001b[0m\u001b[0;34m,\u001b[0m \u001b[0mv\u001b[0m \u001b[0;32min\u001b[0m \u001b[0menumerate\u001b[0m\u001b[0;34m(\u001b[0m\u001b[0mseries_gen\u001b[0m\u001b[0;34m)\u001b[0m\u001b[0;34m:\u001b[0m\u001b[0;34m\u001b[0m\u001b[0m\n\u001b[0;32m-> 4157\u001b[0;31m                     \u001b[0mresults\u001b[0m\u001b[0;34m[\u001b[0m\u001b[0mi\u001b[0m\u001b[0;34m]\u001b[0m \u001b[0;34m=\u001b[0m \u001b[0mfunc\u001b[0m\u001b[0;34m(\u001b[0m\u001b[0mv\u001b[0m\u001b[0;34m)\u001b[0m\u001b[0;34m\u001b[0m\u001b[0m\n\u001b[0m\u001b[1;32m   4158\u001b[0m                     \u001b[0mkeys\u001b[0m\u001b[0;34m.\u001b[0m\u001b[0mappend\u001b[0m\u001b[0;34m(\u001b[0m\u001b[0mv\u001b[0m\u001b[0;34m.\u001b[0m\u001b[0mname\u001b[0m\u001b[0;34m)\u001b[0m\u001b[0;34m\u001b[0m\u001b[0m\n\u001b[1;32m   4159\u001b[0m             \u001b[0;32mexcept\u001b[0m \u001b[0mException\u001b[0m \u001b[0;32mas\u001b[0m \u001b[0me\u001b[0m\u001b[0;34m:\u001b[0m\u001b[0;34m\u001b[0m\u001b[0m\n",
      "\u001b[0;32m<ipython-input-170-071698a9b01f>\u001b[0m in \u001b[0;36mprocess_grp\u001b[0;34m(grp)\u001b[0m\n\u001b[1;32m      1\u001b[0m \u001b[0;31m# combine mutation for each patient into one row\u001b[0m\u001b[0;34m\u001b[0m\u001b[0;34m\u001b[0m\u001b[0m\n\u001b[1;32m      2\u001b[0m \u001b[0;32mdef\u001b[0m \u001b[0mprocess_grp\u001b[0m\u001b[0;34m(\u001b[0m\u001b[0mgrp\u001b[0m\u001b[0;34m)\u001b[0m\u001b[0;34m:\u001b[0m\u001b[0;34m\u001b[0m\u001b[0m\n\u001b[0;32m----> 3\u001b[0;31m     \u001b[0m_df_or_sr\u001b[0m \u001b[0;34m=\u001b[0m \u001b[0mgrp\u001b[0m\u001b[0;34m.\u001b[0m\u001b[0mapply\u001b[0m\u001b[0;34m(\u001b[0m\u001b[0;32mlambda\u001b[0m \u001b[0mcol\u001b[0m\u001b[0;34m:\u001b[0m \u001b[0;34m';'\u001b[0m\u001b[0;34m.\u001b[0m\u001b[0mjoin\u001b[0m\u001b[0;34m(\u001b[0m\u001b[0mcol\u001b[0m\u001b[0;34m.\u001b[0m\u001b[0mapply\u001b[0m\u001b[0;34m(\u001b[0m\u001b[0mstr\u001b[0m\u001b[0;34m)\u001b[0m\u001b[0;34m.\u001b[0m\u001b[0munique\u001b[0m\u001b[0;34m(\u001b[0m\u001b[0;34m)\u001b[0m\u001b[0;34m.\u001b[0m\u001b[0mtolist\u001b[0m\u001b[0;34m(\u001b[0m\u001b[0;34m)\u001b[0m\u001b[0;34m)\u001b[0m \u001b[0;32mif\u001b[0m \u001b[0;32mnot\u001b[0m \u001b[0misinstance\u001b[0m\u001b[0;34m(\u001b[0m\u001b[0mcol\u001b[0m\u001b[0;34m,\u001b[0m \u001b[0mbasestring\u001b[0m\u001b[0;34m)\u001b[0m \u001b[0;32melse\u001b[0m \u001b[0;34m';'\u001b[0m\u001b[0;34m.\u001b[0m\u001b[0mjoin\u001b[0m\u001b[0;34m(\u001b[0m\u001b[0mcol\u001b[0m\u001b[0;34m.\u001b[0m\u001b[0munique\u001b[0m\u001b[0;34m(\u001b[0m\u001b[0;34m)\u001b[0m\u001b[0;34m.\u001b[0m\u001b[0mtolist\u001b[0m\u001b[0;34m(\u001b[0m\u001b[0;34m)\u001b[0m\u001b[0;34m)\u001b[0m\u001b[0;34m)\u001b[0m\u001b[0;34m\u001b[0m\u001b[0m\n\u001b[0m\u001b[1;32m      4\u001b[0m     \u001b[0m_df\u001b[0m \u001b[0;34m=\u001b[0m \u001b[0m_df_or_sr\u001b[0m\u001b[0;34m.\u001b[0m\u001b[0mto_frame\u001b[0m\u001b[0;34m(\u001b[0m\u001b[0;34m)\u001b[0m\u001b[0;34m.\u001b[0m\u001b[0mT\u001b[0m\u001b[0;34m\u001b[0m\u001b[0m\n\u001b[1;32m      5\u001b[0m     \u001b[0;32massert\u001b[0m \u001b[0m_df\u001b[0m\u001b[0;34m.\u001b[0m\u001b[0mshape\u001b[0m\u001b[0;34m[\u001b[0m\u001b[0;36m0\u001b[0m\u001b[0;34m]\u001b[0m \u001b[0;34m==\u001b[0m \u001b[0;36m1\u001b[0m\u001b[0;34m\u001b[0m\u001b[0m\n",
      "\u001b[0;32m/home/szong/projects/development/coverage/venv/lib/python2.7/site-packages/pandas/core/series.pyc\u001b[0m in \u001b[0;36mapply\u001b[0;34m(self, func, convert_dtype, args, **kwds)\u001b[0m\n\u001b[1;32m   2218\u001b[0m         \u001b[0;32melse\u001b[0m\u001b[0;34m:\u001b[0m\u001b[0;34m\u001b[0m\u001b[0m\n\u001b[1;32m   2219\u001b[0m             \u001b[0mvalues\u001b[0m \u001b[0;34m=\u001b[0m \u001b[0mself\u001b[0m\u001b[0;34m.\u001b[0m\u001b[0masobject\u001b[0m\u001b[0;34m\u001b[0m\u001b[0m\n\u001b[0;32m-> 2220\u001b[0;31m             \u001b[0mmapped\u001b[0m \u001b[0;34m=\u001b[0m \u001b[0mlib\u001b[0m\u001b[0;34m.\u001b[0m\u001b[0mmap_infer\u001b[0m\u001b[0;34m(\u001b[0m\u001b[0mvalues\u001b[0m\u001b[0;34m,\u001b[0m \u001b[0mf\u001b[0m\u001b[0;34m,\u001b[0m \u001b[0mconvert\u001b[0m\u001b[0;34m=\u001b[0m\u001b[0mconvert_dtype\u001b[0m\u001b[0;34m)\u001b[0m\u001b[0;34m\u001b[0m\u001b[0m\n\u001b[0m\u001b[1;32m   2221\u001b[0m \u001b[0;34m\u001b[0m\u001b[0m\n\u001b[1;32m   2222\u001b[0m         \u001b[0;32mif\u001b[0m \u001b[0mlen\u001b[0m\u001b[0;34m(\u001b[0m\u001b[0mmapped\u001b[0m\u001b[0;34m)\u001b[0m \u001b[0;32mand\u001b[0m \u001b[0misinstance\u001b[0m\u001b[0;34m(\u001b[0m\u001b[0mmapped\u001b[0m\u001b[0;34m[\u001b[0m\u001b[0;36m0\u001b[0m\u001b[0;34m]\u001b[0m\u001b[0;34m,\u001b[0m \u001b[0mSeries\u001b[0m\u001b[0;34m)\u001b[0m\u001b[0;34m:\u001b[0m\u001b[0;34m\u001b[0m\u001b[0m\n",
      "\u001b[0;32mpandas/src/inference.pyx\u001b[0m in \u001b[0;36mpandas.lib.map_infer (pandas/lib.c:62658)\u001b[0;34m()\u001b[0m\n",
      "\u001b[0;32m<ipython-input-170-071698a9b01f>\u001b[0m in \u001b[0;36m<lambda>\u001b[0;34m(col)\u001b[0m\n\u001b[1;32m      1\u001b[0m \u001b[0;31m# combine mutation for each patient into one row\u001b[0m\u001b[0;34m\u001b[0m\u001b[0;34m\u001b[0m\u001b[0m\n\u001b[1;32m      2\u001b[0m \u001b[0;32mdef\u001b[0m \u001b[0mprocess_grp\u001b[0m\u001b[0;34m(\u001b[0m\u001b[0mgrp\u001b[0m\u001b[0;34m)\u001b[0m\u001b[0;34m:\u001b[0m\u001b[0;34m\u001b[0m\u001b[0m\n\u001b[0;32m----> 3\u001b[0;31m     \u001b[0m_df_or_sr\u001b[0m \u001b[0;34m=\u001b[0m \u001b[0mgrp\u001b[0m\u001b[0;34m.\u001b[0m\u001b[0mapply\u001b[0m\u001b[0;34m(\u001b[0m\u001b[0;32mlambda\u001b[0m \u001b[0mcol\u001b[0m\u001b[0;34m:\u001b[0m \u001b[0;34m';'\u001b[0m\u001b[0;34m.\u001b[0m\u001b[0mjoin\u001b[0m\u001b[0;34m(\u001b[0m\u001b[0mcol\u001b[0m\u001b[0;34m.\u001b[0m\u001b[0mapply\u001b[0m\u001b[0;34m(\u001b[0m\u001b[0mstr\u001b[0m\u001b[0;34m)\u001b[0m\u001b[0;34m.\u001b[0m\u001b[0munique\u001b[0m\u001b[0;34m(\u001b[0m\u001b[0;34m)\u001b[0m\u001b[0;34m.\u001b[0m\u001b[0mtolist\u001b[0m\u001b[0;34m(\u001b[0m\u001b[0;34m)\u001b[0m\u001b[0;34m)\u001b[0m \u001b[0;32mif\u001b[0m \u001b[0;32mnot\u001b[0m \u001b[0misinstance\u001b[0m\u001b[0;34m(\u001b[0m\u001b[0mcol\u001b[0m\u001b[0;34m,\u001b[0m \u001b[0mbasestring\u001b[0m\u001b[0;34m)\u001b[0m \u001b[0;32melse\u001b[0m \u001b[0;34m';'\u001b[0m\u001b[0;34m.\u001b[0m\u001b[0mjoin\u001b[0m\u001b[0;34m(\u001b[0m\u001b[0mcol\u001b[0m\u001b[0;34m.\u001b[0m\u001b[0munique\u001b[0m\u001b[0;34m(\u001b[0m\u001b[0;34m)\u001b[0m\u001b[0;34m.\u001b[0m\u001b[0mtolist\u001b[0m\u001b[0;34m(\u001b[0m\u001b[0;34m)\u001b[0m\u001b[0;34m)\u001b[0m\u001b[0;34m)\u001b[0m\u001b[0;34m\u001b[0m\u001b[0m\n\u001b[0m\u001b[1;32m      4\u001b[0m     \u001b[0m_df\u001b[0m \u001b[0;34m=\u001b[0m \u001b[0m_df_or_sr\u001b[0m\u001b[0;34m.\u001b[0m\u001b[0mto_frame\u001b[0m\u001b[0;34m(\u001b[0m\u001b[0;34m)\u001b[0m\u001b[0;34m.\u001b[0m\u001b[0mT\u001b[0m\u001b[0;34m\u001b[0m\u001b[0m\n\u001b[1;32m      5\u001b[0m     \u001b[0;32massert\u001b[0m \u001b[0m_df\u001b[0m\u001b[0;34m.\u001b[0m\u001b[0mshape\u001b[0m\u001b[0;34m[\u001b[0m\u001b[0;36m0\u001b[0m\u001b[0;34m]\u001b[0m \u001b[0;34m==\u001b[0m \u001b[0;36m1\u001b[0m\u001b[0;34m\u001b[0m\u001b[0m\n",
      "\u001b[0;31mAttributeError\u001b[0m: (\"'str' object has no attribute 'unique'\", u'occurred at index gene')"
     ]
    }
   ],
   "source": [
    "# for name , grp in df_cnct.groupby(['patient', 'gene']):\n",
    "#     print(name)\n",
    "#     print(grp.apply(lambda col: ';'.join(col.apply(str).unique().tolist())))\n",
    "df_cnct.apply(process_grp).reset_index(level=2, drop=True)\n"
   ]
  },
  {
   "cell_type": "code",
   "execution_count": 142,
   "metadata": {
    "collapsed": false
   },
   "outputs": [
    {
     "ename": "KeyError",
     "evalue": "'patient'",
     "output_type": "error",
     "traceback": [
      "\u001b[0;31m---------------------------------------------------------------------------\u001b[0m",
      "\u001b[0;31mKeyError\u001b[0m                                  Traceback (most recent call last)",
      "\u001b[0;32m<ipython-input-142-769911a64847>\u001b[0m in \u001b[0;36m<module>\u001b[0;34m()\u001b[0m\n\u001b[0;32m----> 1\u001b[0;31m \u001b[0mdf_pivot\u001b[0m \u001b[0;34m=\u001b[0m \u001b[0mdf_cnct\u001b[0m\u001b[0;34m.\u001b[0m\u001b[0mpivot\u001b[0m\u001b[0;34m(\u001b[0m\u001b[0mindex\u001b[0m\u001b[0;34m=\u001b[0m\u001b[0;34m'patient'\u001b[0m\u001b[0;34m,\u001b[0m \u001b[0mcolumns\u001b[0m\u001b[0;34m=\u001b[0m\u001b[0;34m'gene'\u001b[0m\u001b[0;34m,\u001b[0m \u001b[0mvalues\u001b[0m\u001b[0;34m=\u001b[0m\u001b[0;34m'mut_type'\u001b[0m\u001b[0;34m)\u001b[0m\u001b[0;34m\u001b[0m\u001b[0m\n\u001b[0m\u001b[1;32m      2\u001b[0m \u001b[0mdf_pivot\u001b[0m\u001b[0;34m\u001b[0m\u001b[0m\n",
      "\u001b[0;32m/home/szong/projects/development/coverage/venv/lib/python2.7/site-packages/pandas/core/frame.pyc\u001b[0m in \u001b[0;36mpivot\u001b[0;34m(self, index, columns, values)\u001b[0m\n\u001b[1;32m   3844\u001b[0m         \"\"\"\n\u001b[1;32m   3845\u001b[0m         \u001b[0;32mfrom\u001b[0m \u001b[0mpandas\u001b[0m\u001b[0;34m.\u001b[0m\u001b[0mcore\u001b[0m\u001b[0;34m.\u001b[0m\u001b[0mreshape\u001b[0m \u001b[0;32mimport\u001b[0m \u001b[0mpivot\u001b[0m\u001b[0;34m\u001b[0m\u001b[0m\n\u001b[0;32m-> 3846\u001b[0;31m         \u001b[0;32mreturn\u001b[0m \u001b[0mpivot\u001b[0m\u001b[0;34m(\u001b[0m\u001b[0mself\u001b[0m\u001b[0;34m,\u001b[0m \u001b[0mindex\u001b[0m\u001b[0;34m=\u001b[0m\u001b[0mindex\u001b[0m\u001b[0;34m,\u001b[0m \u001b[0mcolumns\u001b[0m\u001b[0;34m=\u001b[0m\u001b[0mcolumns\u001b[0m\u001b[0;34m,\u001b[0m \u001b[0mvalues\u001b[0m\u001b[0;34m=\u001b[0m\u001b[0mvalues\u001b[0m\u001b[0;34m)\u001b[0m\u001b[0;34m\u001b[0m\u001b[0m\n\u001b[0m\u001b[1;32m   3847\u001b[0m \u001b[0;34m\u001b[0m\u001b[0m\n\u001b[1;32m   3848\u001b[0m     \u001b[0;32mdef\u001b[0m \u001b[0mstack\u001b[0m\u001b[0;34m(\u001b[0m\u001b[0mself\u001b[0m\u001b[0;34m,\u001b[0m \u001b[0mlevel\u001b[0m\u001b[0;34m=\u001b[0m\u001b[0;34m-\u001b[0m\u001b[0;36m1\u001b[0m\u001b[0;34m,\u001b[0m \u001b[0mdropna\u001b[0m\u001b[0;34m=\u001b[0m\u001b[0mTrue\u001b[0m\u001b[0;34m)\u001b[0m\u001b[0;34m:\u001b[0m\u001b[0;34m\u001b[0m\u001b[0m\n",
      "\u001b[0;32m/home/szong/projects/development/coverage/venv/lib/python2.7/site-packages/pandas/core/reshape.pyc\u001b[0m in \u001b[0;36mpivot\u001b[0;34m(self, index, columns, values)\u001b[0m\n\u001b[1;32m    327\u001b[0m             \u001b[0mindex\u001b[0m \u001b[0;34m=\u001b[0m \u001b[0mself\u001b[0m\u001b[0;34m.\u001b[0m\u001b[0mindex\u001b[0m\u001b[0;34m\u001b[0m\u001b[0m\n\u001b[1;32m    328\u001b[0m         \u001b[0;32melse\u001b[0m\u001b[0;34m:\u001b[0m\u001b[0;34m\u001b[0m\u001b[0m\n\u001b[0;32m--> 329\u001b[0;31m             \u001b[0mindex\u001b[0m \u001b[0;34m=\u001b[0m \u001b[0mself\u001b[0m\u001b[0;34m[\u001b[0m\u001b[0mindex\u001b[0m\u001b[0;34m]\u001b[0m\u001b[0;34m\u001b[0m\u001b[0m\n\u001b[0m\u001b[1;32m    330\u001b[0m         indexed = Series(self[values].values,\n\u001b[1;32m    331\u001b[0m                          index=MultiIndex.from_arrays([index, self[columns]]))\n",
      "\u001b[0;32m/home/szong/projects/development/coverage/venv/lib/python2.7/site-packages/pandas/core/frame.pyc\u001b[0m in \u001b[0;36m__getitem__\u001b[0;34m(self, key)\u001b[0m\n\u001b[1;32m   1995\u001b[0m             \u001b[0;32mreturn\u001b[0m \u001b[0mself\u001b[0m\u001b[0;34m.\u001b[0m\u001b[0m_getitem_multilevel\u001b[0m\u001b[0;34m(\u001b[0m\u001b[0mkey\u001b[0m\u001b[0;34m)\u001b[0m\u001b[0;34m\u001b[0m\u001b[0m\n\u001b[1;32m   1996\u001b[0m         \u001b[0;32melse\u001b[0m\u001b[0;34m:\u001b[0m\u001b[0;34m\u001b[0m\u001b[0m\n\u001b[0;32m-> 1997\u001b[0;31m             \u001b[0;32mreturn\u001b[0m \u001b[0mself\u001b[0m\u001b[0;34m.\u001b[0m\u001b[0m_getitem_column\u001b[0m\u001b[0;34m(\u001b[0m\u001b[0mkey\u001b[0m\u001b[0;34m)\u001b[0m\u001b[0;34m\u001b[0m\u001b[0m\n\u001b[0m\u001b[1;32m   1998\u001b[0m \u001b[0;34m\u001b[0m\u001b[0m\n\u001b[1;32m   1999\u001b[0m     \u001b[0;32mdef\u001b[0m \u001b[0m_getitem_column\u001b[0m\u001b[0;34m(\u001b[0m\u001b[0mself\u001b[0m\u001b[0;34m,\u001b[0m \u001b[0mkey\u001b[0m\u001b[0;34m)\u001b[0m\u001b[0;34m:\u001b[0m\u001b[0;34m\u001b[0m\u001b[0m\n",
      "\u001b[0;32m/home/szong/projects/development/coverage/venv/lib/python2.7/site-packages/pandas/core/frame.pyc\u001b[0m in \u001b[0;36m_getitem_column\u001b[0;34m(self, key)\u001b[0m\n\u001b[1;32m   2002\u001b[0m         \u001b[0;31m# get column\u001b[0m\u001b[0;34m\u001b[0m\u001b[0;34m\u001b[0m\u001b[0m\n\u001b[1;32m   2003\u001b[0m         \u001b[0;32mif\u001b[0m \u001b[0mself\u001b[0m\u001b[0;34m.\u001b[0m\u001b[0mcolumns\u001b[0m\u001b[0;34m.\u001b[0m\u001b[0mis_unique\u001b[0m\u001b[0;34m:\u001b[0m\u001b[0;34m\u001b[0m\u001b[0m\n\u001b[0;32m-> 2004\u001b[0;31m             \u001b[0;32mreturn\u001b[0m \u001b[0mself\u001b[0m\u001b[0;34m.\u001b[0m\u001b[0m_get_item_cache\u001b[0m\u001b[0;34m(\u001b[0m\u001b[0mkey\u001b[0m\u001b[0;34m)\u001b[0m\u001b[0;34m\u001b[0m\u001b[0m\n\u001b[0m\u001b[1;32m   2005\u001b[0m \u001b[0;34m\u001b[0m\u001b[0m\n\u001b[1;32m   2006\u001b[0m         \u001b[0;31m# duplicate columns & possible reduce dimensionality\u001b[0m\u001b[0;34m\u001b[0m\u001b[0;34m\u001b[0m\u001b[0m\n",
      "\u001b[0;32m/home/szong/projects/development/coverage/venv/lib/python2.7/site-packages/pandas/core/generic.pyc\u001b[0m in \u001b[0;36m_get_item_cache\u001b[0;34m(self, item)\u001b[0m\n\u001b[1;32m   1348\u001b[0m         \u001b[0mres\u001b[0m \u001b[0;34m=\u001b[0m \u001b[0mcache\u001b[0m\u001b[0;34m.\u001b[0m\u001b[0mget\u001b[0m\u001b[0;34m(\u001b[0m\u001b[0mitem\u001b[0m\u001b[0;34m)\u001b[0m\u001b[0;34m\u001b[0m\u001b[0m\n\u001b[1;32m   1349\u001b[0m         \u001b[0;32mif\u001b[0m \u001b[0mres\u001b[0m \u001b[0;32mis\u001b[0m \u001b[0mNone\u001b[0m\u001b[0;34m:\u001b[0m\u001b[0;34m\u001b[0m\u001b[0m\n\u001b[0;32m-> 1350\u001b[0;31m             \u001b[0mvalues\u001b[0m \u001b[0;34m=\u001b[0m \u001b[0mself\u001b[0m\u001b[0;34m.\u001b[0m\u001b[0m_data\u001b[0m\u001b[0;34m.\u001b[0m\u001b[0mget\u001b[0m\u001b[0;34m(\u001b[0m\u001b[0mitem\u001b[0m\u001b[0;34m)\u001b[0m\u001b[0;34m\u001b[0m\u001b[0m\n\u001b[0m\u001b[1;32m   1351\u001b[0m             \u001b[0mres\u001b[0m \u001b[0;34m=\u001b[0m \u001b[0mself\u001b[0m\u001b[0;34m.\u001b[0m\u001b[0m_box_item_values\u001b[0m\u001b[0;34m(\u001b[0m\u001b[0mitem\u001b[0m\u001b[0;34m,\u001b[0m \u001b[0mvalues\u001b[0m\u001b[0;34m)\u001b[0m\u001b[0;34m\u001b[0m\u001b[0m\n\u001b[1;32m   1352\u001b[0m             \u001b[0mcache\u001b[0m\u001b[0;34m[\u001b[0m\u001b[0mitem\u001b[0m\u001b[0;34m]\u001b[0m \u001b[0;34m=\u001b[0m \u001b[0mres\u001b[0m\u001b[0;34m\u001b[0m\u001b[0m\n",
      "\u001b[0;32m/home/szong/projects/development/coverage/venv/lib/python2.7/site-packages/pandas/core/internals.pyc\u001b[0m in \u001b[0;36mget\u001b[0;34m(self, item, fastpath)\u001b[0m\n\u001b[1;32m   3288\u001b[0m \u001b[0;34m\u001b[0m\u001b[0m\n\u001b[1;32m   3289\u001b[0m             \u001b[0;32mif\u001b[0m \u001b[0;32mnot\u001b[0m \u001b[0misnull\u001b[0m\u001b[0;34m(\u001b[0m\u001b[0mitem\u001b[0m\u001b[0;34m)\u001b[0m\u001b[0;34m:\u001b[0m\u001b[0;34m\u001b[0m\u001b[0m\n\u001b[0;32m-> 3290\u001b[0;31m                 \u001b[0mloc\u001b[0m \u001b[0;34m=\u001b[0m \u001b[0mself\u001b[0m\u001b[0;34m.\u001b[0m\u001b[0mitems\u001b[0m\u001b[0;34m.\u001b[0m\u001b[0mget_loc\u001b[0m\u001b[0;34m(\u001b[0m\u001b[0mitem\u001b[0m\u001b[0;34m)\u001b[0m\u001b[0;34m\u001b[0m\u001b[0m\n\u001b[0m\u001b[1;32m   3291\u001b[0m             \u001b[0;32melse\u001b[0m\u001b[0;34m:\u001b[0m\u001b[0;34m\u001b[0m\u001b[0m\n\u001b[1;32m   3292\u001b[0m                 \u001b[0mindexer\u001b[0m \u001b[0;34m=\u001b[0m \u001b[0mnp\u001b[0m\u001b[0;34m.\u001b[0m\u001b[0marange\u001b[0m\u001b[0;34m(\u001b[0m\u001b[0mlen\u001b[0m\u001b[0;34m(\u001b[0m\u001b[0mself\u001b[0m\u001b[0;34m.\u001b[0m\u001b[0mitems\u001b[0m\u001b[0;34m)\u001b[0m\u001b[0;34m)\u001b[0m\u001b[0;34m[\u001b[0m\u001b[0misnull\u001b[0m\u001b[0;34m(\u001b[0m\u001b[0mself\u001b[0m\u001b[0;34m.\u001b[0m\u001b[0mitems\u001b[0m\u001b[0;34m)\u001b[0m\u001b[0;34m]\u001b[0m\u001b[0;34m\u001b[0m\u001b[0m\n",
      "\u001b[0;32m/home/szong/projects/development/coverage/venv/lib/python2.7/site-packages/pandas/indexes/base.pyc\u001b[0m in \u001b[0;36mget_loc\u001b[0;34m(self, key, method, tolerance)\u001b[0m\n\u001b[1;32m   1945\u001b[0m                 \u001b[0;32mreturn\u001b[0m \u001b[0mself\u001b[0m\u001b[0;34m.\u001b[0m\u001b[0m_engine\u001b[0m\u001b[0;34m.\u001b[0m\u001b[0mget_loc\u001b[0m\u001b[0;34m(\u001b[0m\u001b[0mkey\u001b[0m\u001b[0;34m)\u001b[0m\u001b[0;34m\u001b[0m\u001b[0m\n\u001b[1;32m   1946\u001b[0m             \u001b[0;32mexcept\u001b[0m \u001b[0mKeyError\u001b[0m\u001b[0;34m:\u001b[0m\u001b[0;34m\u001b[0m\u001b[0m\n\u001b[0;32m-> 1947\u001b[0;31m                 \u001b[0;32mreturn\u001b[0m \u001b[0mself\u001b[0m\u001b[0;34m.\u001b[0m\u001b[0m_engine\u001b[0m\u001b[0;34m.\u001b[0m\u001b[0mget_loc\u001b[0m\u001b[0;34m(\u001b[0m\u001b[0mself\u001b[0m\u001b[0;34m.\u001b[0m\u001b[0m_maybe_cast_indexer\u001b[0m\u001b[0;34m(\u001b[0m\u001b[0mkey\u001b[0m\u001b[0;34m)\u001b[0m\u001b[0;34m)\u001b[0m\u001b[0;34m\u001b[0m\u001b[0m\n\u001b[0m\u001b[1;32m   1948\u001b[0m \u001b[0;34m\u001b[0m\u001b[0m\n\u001b[1;32m   1949\u001b[0m         \u001b[0mindexer\u001b[0m \u001b[0;34m=\u001b[0m \u001b[0mself\u001b[0m\u001b[0;34m.\u001b[0m\u001b[0mget_indexer\u001b[0m\u001b[0;34m(\u001b[0m\u001b[0;34m[\u001b[0m\u001b[0mkey\u001b[0m\u001b[0;34m]\u001b[0m\u001b[0;34m,\u001b[0m \u001b[0mmethod\u001b[0m\u001b[0;34m=\u001b[0m\u001b[0mmethod\u001b[0m\u001b[0;34m,\u001b[0m \u001b[0mtolerance\u001b[0m\u001b[0;34m=\u001b[0m\u001b[0mtolerance\u001b[0m\u001b[0;34m)\u001b[0m\u001b[0;34m\u001b[0m\u001b[0m\n",
      "\u001b[0;32mpandas/index.pyx\u001b[0m in \u001b[0;36mpandas.index.IndexEngine.get_loc (pandas/index.c:4154)\u001b[0;34m()\u001b[0m\n",
      "\u001b[0;32mpandas/index.pyx\u001b[0m in \u001b[0;36mpandas.index.IndexEngine.get_loc (pandas/index.c:4018)\u001b[0;34m()\u001b[0m\n",
      "\u001b[0;32mpandas/hashtable.pyx\u001b[0m in \u001b[0;36mpandas.hashtable.PyObjectHashTable.get_item (pandas/hashtable.c:12368)\u001b[0;34m()\u001b[0m\n",
      "\u001b[0;32mpandas/hashtable.pyx\u001b[0m in \u001b[0;36mpandas.hashtable.PyObjectHashTable.get_item (pandas/hashtable.c:12322)\u001b[0;34m()\u001b[0m\n",
      "\u001b[0;31mKeyError\u001b[0m: 'patient'"
     ]
    }
   ],
   "source": [
    "df_pivot = df_cnct.pivot(index='patient', columns='gene', values='mut_type')\n",
    "df_pivot\n"
   ]
  },
  {
   "cell_type": "markdown",
   "metadata": {},
   "source": [
    "# Below get all genes related to immunodeficiency from a database using read_html"
   ]
  },
  {
   "cell_type": "code",
   "execution_count": 25,
   "metadata": {
    "collapsed": false,
    "scrolled": true
   },
   "outputs": [],
   "source": [
    "# look for immunodeficiency genes\n",
    "import html5lib\n",
    "import lxml\n",
    "import bs4\n",
    "import sys\n",
    "reload(sys)\n",
    "sys.setdefaultencoding('utf-8')\n",
    "\n",
    "df_id = pd.read_html('http://structure.bmc.lu.se/idbase/IDRefSeq/xml/idr/genes.html')\n",
    "\n",
    "# read_html return a list of dataframe, in this case only one dataframe\n",
    "df = df_id[0]\n",
    "df = df.dropna()[df[0] != 'Disease'][[0,2,3]]\n",
    "df.head()\n",
    "\n",
    "# add column header to a dataframe\n",
    "df.columns = ['disease', 'gene', 'band']\n",
    "\n",
    "df.shape\n",
    "df.to_csv('/projects/trans_scratch/validations/workspace/szong/Cervical/immune_expression/immunodeficiency_genes.txt', sep='\\t', index=False)"
   ]
  },
  {
   "cell_type": "code",
   "execution_count": null,
   "metadata": {
    "collapsed": false
   },
   "outputs": [],
   "source": []
  },
  {
   "cell_type": "code",
   "execution_count": 28,
   "metadata": {
    "collapsed": false
   },
   "outputs": [
    {
     "name": "stderr",
     "output_type": "stream",
     "text": [
      "/home/szong/.local/lib/python2.7/site-packages/ipykernel/__main__.py:1: FutureWarning: \n",
      "The default value for 'return_type' will change to 'axes' in a future release.\n",
      " To use the future behavior now, set return_type='axes'.\n",
      " To keep the previous behavior and silence this warning, set return_type='dict'.\n",
      "  if __name__ == '__main__':\n"
     ]
    },
    {
     "data": {
      "image/png": "[encoded data removed]",
      "text/plain": [
       "<matplotlib.figure.Figure at 0x7f5654c5dc10>"
      ]
     },
     "metadata": {},
     "output_type": "display_data"
    }
   ],
   "source": [
    "ax = df_tmp.boxplot()\n",
    "y = df_tmp.YAP1\n",
    "x = np.random.normal(1, 0.1, size=len(y))\n",
    "plt.plot(x, y, 'o')\n",
    "plt.savefig('/projects/trans_scratch/validations/workspace/szong/Cervical/immune_expression/YAP1.png')"
   ]
  },
  {
   "cell_type": "code",
   "execution_count": 177,
   "metadata": {
    "collapsed": false
   },
   "outputs": [],
   "source": [
    "gene_cols = df_expr.drop('lib', axis=1).columns.values"
   ]
  },
  {
   "cell_type": "code",
   "execution_count": 51,
   "metadata": {
    "collapsed": false
   },
   "outputs": [],
   "source": [
    "# np.save('/projects/trans_scratch/validations/workspace/szong/Cervical/immune_expression/expression_matrix.genes.npy', gene_cols)"
   ]
  },
  {
   "cell_type": "code",
   "execution_count": 178,
   "metadata": {
    "collapsed": true
   },
   "outputs": [],
   "source": [
    "df_stat = pd.read_csv('/projects/trans_scratch/validations/workspace/szong/Cervical/immune_expression/hiv_status.txt', sep='\\t',header= None, names=['lib','hiv'])"
   ]
  },
  {
   "cell_type": "code",
   "execution_count": 179,
   "metadata": {
    "collapsed": false
   },
   "outputs": [
    {
     "data": {
      "text/plain": [
       "(82, 2)"
      ]
     },
     "execution_count": 179,
     "metadata": {},
     "output_type": "execute_result"
    }
   ],
   "source": [
    "df_stat.shape"
   ]
  },
  {
   "cell_type": "code",
   "execution_count": 180,
   "metadata": {
    "collapsed": false
   },
   "outputs": [
    {
     "data": {
      "text/html": [
       "<div>\n",
       "<table border=\"1\" class=\"dataframe\">\n",
       "  <thead>\n",
       "    <tr style=\"text-align: right;\">\n",
       "      <th></th>\n",
       "      <th>lib</th>\n",
       "      <th>hiv</th>\n",
       "    </tr>\n",
       "  </thead>\n",
       "  <tbody>\n",
       "    <tr>\n",
       "      <th>0</th>\n",
       "      <td>A37700</td>\n",
       "      <td>Positive</td>\n",
       "    </tr>\n",
       "    <tr>\n",
       "      <th>1</th>\n",
       "      <td>A37701</td>\n",
       "      <td>Negative</td>\n",
       "    </tr>\n",
       "  </tbody>\n",
       "</table>\n",
       "</div>"
      ],
      "text/plain": [
       "      lib       hiv\n",
       "0  A37700  Positive\n",
       "1  A37701  Negative"
      ]
     },
     "execution_count": 180,
     "metadata": {},
     "output_type": "execute_result"
    }
   ],
   "source": [
    "df_stat.head(2)"
   ]
  },
  {
   "cell_type": "code",
   "execution_count": 181,
   "metadata": {
    "collapsed": true
   },
   "outputs": [],
   "source": [
    "df_hist = pd.read_csv('/projects/trans_scratch/validations/workspace/szong/Cervical/variant_bwamem/82_patients/patient_histology_miRNA_prediction.csv', sep='\\t')"
   ]
  },
  {
   "cell_type": "code",
   "execution_count": 182,
   "metadata": {
    "collapsed": false
   },
   "outputs": [
    {
     "data": {
      "text/plain": [
       "(82, 23)"
      ]
     },
     "execution_count": 182,
     "metadata": {},
     "output_type": "execute_result"
    }
   ],
   "source": [
    "df_hist.shape"
   ]
  },
  {
   "cell_type": "code",
   "execution_count": 183,
   "metadata": {
    "collapsed": false
   },
   "outputs": [
    {
     "data": {
      "text/html": [
       "<div>\n",
       "<table border=\"1\" class=\"dataframe\">\n",
       "  <thead>\n",
       "    <tr style=\"text-align: right;\">\n",
       "      <th></th>\n",
       "      <th>mRNA_library</th>\n",
       "      <th>patient</th>\n",
       "      <th>putative_Histology</th>\n",
       "      <th>clinical_histolgy</th>\n",
       "      <th>Purity</th>\n",
       "      <th>num_mutated_genes</th>\n",
       "      <th>num_HPV_strains</th>\n",
       "      <th>PIK3CA</th>\n",
       "      <th>HLA-B</th>\n",
       "      <th>HLA-A</th>\n",
       "      <th>...</th>\n",
       "      <th>NFE2L2</th>\n",
       "      <th>ARID1A</th>\n",
       "      <th>CASP8</th>\n",
       "      <th>ERBB3</th>\n",
       "      <th>KRAS</th>\n",
       "      <th>PTEN</th>\n",
       "      <th>TGFBR2</th>\n",
       "      <th>MAPK1</th>\n",
       "      <th>MED1</th>\n",
       "      <th>HIV_status</th>\n",
       "    </tr>\n",
       "  </thead>\n",
       "  <tbody>\n",
       "    <tr>\n",
       "      <th>0</th>\n",
       "      <td>A37700</td>\n",
       "      <td>HTMCP-03-06-02001</td>\n",
       "      <td>Squamous</td>\n",
       "      <td>NaN</td>\n",
       "      <td>60.00</td>\n",
       "      <td>247</td>\n",
       "      <td>1</td>\n",
       "      <td>Yes</td>\n",
       "      <td>No</td>\n",
       "      <td>No</td>\n",
       "      <td>...</td>\n",
       "      <td>No</td>\n",
       "      <td>No</td>\n",
       "      <td>No</td>\n",
       "      <td>No</td>\n",
       "      <td>No</td>\n",
       "      <td>No</td>\n",
       "      <td>No</td>\n",
       "      <td>No</td>\n",
       "      <td>No</td>\n",
       "      <td>Positive</td>\n",
       "    </tr>\n",
       "    <tr>\n",
       "      <th>1</th>\n",
       "      <td>A37701</td>\n",
       "      <td>HTMCP-03-06-02002</td>\n",
       "      <td>Squamous</td>\n",
       "      <td>NaN</td>\n",
       "      <td>71.25</td>\n",
       "      <td>180</td>\n",
       "      <td>1</td>\n",
       "      <td>Yes</td>\n",
       "      <td>No</td>\n",
       "      <td>Yes</td>\n",
       "      <td>...</td>\n",
       "      <td>Yes</td>\n",
       "      <td>No</td>\n",
       "      <td>No</td>\n",
       "      <td>No</td>\n",
       "      <td>No</td>\n",
       "      <td>No</td>\n",
       "      <td>No</td>\n",
       "      <td>No</td>\n",
       "      <td>No</td>\n",
       "      <td>Negative</td>\n",
       "    </tr>\n",
       "  </tbody>\n",
       "</table>\n",
       "<p>2 rows × 23 columns</p>\n",
       "</div>"
      ],
      "text/plain": [
       "  mRNA_library            patient putative_Histology clinical_histolgy  \\\n",
       "0       A37700  HTMCP-03-06-02001           Squamous               NaN   \n",
       "1       A37701  HTMCP-03-06-02002           Squamous               NaN   \n",
       "\n",
       "   Purity  num_mutated_genes  num_HPV_strains PIK3CA HLA-B HLA-A    ...      \\\n",
       "0   60.00                247                1    Yes    No    No    ...       \n",
       "1   71.25                180                1    Yes    No   Yes    ...       \n",
       "\n",
       "  NFE2L2 ARID1A CASP8 ERBB3 KRAS PTEN TGFBR2 MAPK1 MED1 HIV_status  \n",
       "0     No     No    No    No   No   No     No    No   No   Positive  \n",
       "1    Yes     No    No    No   No   No     No    No   No   Negative  \n",
       "\n",
       "[2 rows x 23 columns]"
      ]
     },
     "execution_count": 183,
     "metadata": {},
     "output_type": "execute_result"
    }
   ],
   "source": [
    "df_hist.head(2)"
   ]
  },
  {
   "cell_type": "code",
   "execution_count": 184,
   "metadata": {
    "collapsed": false
   },
   "outputs": [],
   "source": [
    "df_hist.rename(columns={'mRNA_library': 'lib', 'HIV_status': 'hiv'}, inplace=True)"
   ]
  },
  {
   "cell_type": "code",
   "execution_count": 185,
   "metadata": {
    "collapsed": true
   },
   "outputs": [],
   "source": [
    "_mut_genes = ['PIK3CA', 'HLA-B', 'HLA-A', 'FBXW7', 'EP300', 'ERBB2', 'NFE2L2', 'ARID1A', 'CASP8', 'ERBB3', 'KRAS', 'PTEN', 'TGFBR2', 'MAPK1', 'MED1']\n",
    "mut_genes = ['{0}_mut'.format(_) for _ in _mut_genes]"
   ]
  },
  {
   "cell_type": "code",
   "execution_count": 52,
   "metadata": {
    "collapsed": true
   },
   "outputs": [],
   "source": [
    "# np.save('/projects/trans_scratch/validations/workspace/szong/Cervical/immune_expression/expression_matrix.mut_genes.npy', np.array(mut_genes))"
   ]
  },
  {
   "cell_type": "code",
   "execution_count": 186,
   "metadata": {
    "collapsed": false
   },
   "outputs": [],
   "source": [
    "df_hist.rename(columns=dict(zip(_mut_genes, mut_genes)), inplace=True)"
   ]
  },
  {
   "cell_type": "code",
   "execution_count": 187,
   "metadata": {
    "collapsed": false
   },
   "outputs": [],
   "source": [
    "df_hist[mut_genes] = df_hist[mut_genes].replace({'Yes': 1, 'No': 0})"
   ]
  },
  {
   "cell_type": "code",
   "execution_count": 188,
   "metadata": {
    "collapsed": false
   },
   "outputs": [],
   "source": [
    "merged = pd.merge(df_expr, df_stat, on='lib')"
   ]
  },
  {
   "cell_type": "code",
   "execution_count": 189,
   "metadata": {
    "collapsed": true
   },
   "outputs": [],
   "source": [
    "merged = merged.merge(df_hist, on=['lib', 'hiv'])"
   ]
  },
  {
   "cell_type": "code",
   "execution_count": 190,
   "metadata": {
    "collapsed": false
   },
   "outputs": [
    {
     "data": {
      "text/plain": [
       "(82, 42607)"
      ]
     },
     "execution_count": 190,
     "metadata": {},
     "output_type": "execute_result"
    }
   ],
   "source": [
    "merged.shape"
   ]
  },
  {
   "cell_type": "code",
   "execution_count": 44,
   "metadata": {
    "collapsed": true
   },
   "outputs": [],
   "source": [
    "# merged.to_csv('/projects/trans_scratch/validations/workspace/szong/Cervical/immune_expression/expression_matrix.dedup.merged.txt', index=False)"
   ]
  },
  {
   "cell_type": "markdown",
   "metadata": {},
   "source": [
    "add integration status\n"
   ]
  },
  {
   "cell_type": "code",
   "execution_count": 68,
   "metadata": {
    "collapsed": true
   },
   "outputs": [],
   "source": [
    "df_intg = pd.read_csv('/home/szong/projects/development/study/integration_status.txt')"
   ]
  },
  {
   "cell_type": "code",
   "execution_count": 70,
   "metadata": {
    "collapsed": false
   },
   "outputs": [],
   "source": [
    "df_intg.rename(columns={'library_RNA':'lib'}, inplace=True)"
   ]
  },
  {
   "cell_type": "code",
   "execution_count": 71,
   "metadata": {
    "collapsed": false
   },
   "outputs": [
    {
     "data": {
      "text/html": [
       "<div>\n",
       "<table border=\"1\" class=\"dataframe\">\n",
       "  <thead>\n",
       "    <tr style=\"text-align: right;\">\n",
       "      <th></th>\n",
       "      <th>lib</th>\n",
       "      <th>integration_status</th>\n",
       "    </tr>\n",
       "  </thead>\n",
       "  <tbody>\n",
       "    <tr>\n",
       "      <th>0</th>\n",
       "      <td>A54479</td>\n",
       "      <td>integrated</td>\n",
       "    </tr>\n",
       "    <tr>\n",
       "      <th>1</th>\n",
       "      <td>A50346</td>\n",
       "      <td>integrated</td>\n",
       "    </tr>\n",
       "    <tr>\n",
       "      <th>2</th>\n",
       "      <td>A50345</td>\n",
       "      <td>integrated</td>\n",
       "    </tr>\n",
       "    <tr>\n",
       "      <th>3</th>\n",
       "      <td>A50344</td>\n",
       "      <td>unintegrated</td>\n",
       "    </tr>\n",
       "    <tr>\n",
       "      <th>4</th>\n",
       "      <td>A52345</td>\n",
       "      <td>integrated</td>\n",
       "    </tr>\n",
       "  </tbody>\n",
       "</table>\n",
       "</div>"
      ],
      "text/plain": [
       "      lib integration_status\n",
       "0  A54479         integrated\n",
       "1  A50346         integrated\n",
       "2  A50345         integrated\n",
       "3  A50344       unintegrated\n",
       "4  A52345         integrated"
      ]
     },
     "execution_count": 71,
     "metadata": {},
     "output_type": "execute_result"
    }
   ],
   "source": [
    "df_intg.head()"
   ]
  },
  {
   "cell_type": "code",
   "execution_count": 191,
   "metadata": {
    "collapsed": false
   },
   "outputs": [
    {
     "data": {
      "text/html": [
       "<div>\n",
       "<table border=\"1\" class=\"dataframe\">\n",
       "  <thead>\n",
       "    <tr style=\"text-align: right;\">\n",
       "      <th></th>\n",
       "      <th>lib</th>\n",
       "      <th>SCYL3</th>\n",
       "      <th>C1orf112</th>\n",
       "      <th>FGR</th>\n",
       "      <th>CFH</th>\n",
       "      <th>STPG1</th>\n",
       "      <th>NIPAL3</th>\n",
       "      <th>AK2</th>\n",
       "      <th>KDM1A</th>\n",
       "      <th>TTC22</th>\n",
       "      <th>...</th>\n",
       "      <th>EIF4A1P2</th>\n",
       "      <th>MXRA5P1</th>\n",
       "      <th>CTBP2P1</th>\n",
       "      <th>ATP5JP1</th>\n",
       "      <th>PARP4P1</th>\n",
       "      <th>KALP</th>\n",
       "      <th>AC006157.2</th>\n",
       "      <th>RP11-886I11.1</th>\n",
       "      <th>RP11-886I11.3</th>\n",
       "      <th>RP11-886I11.2</th>\n",
       "    </tr>\n",
       "  </thead>\n",
       "  <tbody>\n",
       "    <tr>\n",
       "      <th>0</th>\n",
       "      <td>A37700</td>\n",
       "      <td>3.6416</td>\n",
       "      <td>4.8082</td>\n",
       "      <td>0.7059</td>\n",
       "      <td>14.3879</td>\n",
       "      <td>1.6436</td>\n",
       "      <td>8.7098</td>\n",
       "      <td>29.0268</td>\n",
       "      <td>43.5168</td>\n",
       "      <td>18.7297</td>\n",
       "      <td>...</td>\n",
       "      <td>0.0</td>\n",
       "      <td>0.0799</td>\n",
       "      <td>0.0369</td>\n",
       "      <td>0.0</td>\n",
       "      <td>0.0000</td>\n",
       "      <td>0.0</td>\n",
       "      <td>0.0</td>\n",
       "      <td>0.0</td>\n",
       "      <td>0.0</td>\n",
       "      <td>0.0</td>\n",
       "    </tr>\n",
       "    <tr>\n",
       "      <th>1</th>\n",
       "      <td>A37701</td>\n",
       "      <td>5.9656</td>\n",
       "      <td>3.9581</td>\n",
       "      <td>2.1283</td>\n",
       "      <td>22.7599</td>\n",
       "      <td>1.2715</td>\n",
       "      <td>6.1969</td>\n",
       "      <td>18.3112</td>\n",
       "      <td>21.3308</td>\n",
       "      <td>30.3388</td>\n",
       "      <td>...</td>\n",
       "      <td>0.0</td>\n",
       "      <td>0.0000</td>\n",
       "      <td>0.0000</td>\n",
       "      <td>0.0</td>\n",
       "      <td>0.0081</td>\n",
       "      <td>0.0</td>\n",
       "      <td>0.0</td>\n",
       "      <td>0.0</td>\n",
       "      <td>0.0</td>\n",
       "      <td>0.0</td>\n",
       "    </tr>\n",
       "  </tbody>\n",
       "</table>\n",
       "<p>2 rows × 42585 columns</p>\n",
       "</div>"
      ],
      "text/plain": [
       "      lib   SCYL3  C1orf112     FGR      CFH   STPG1  NIPAL3      AK2  \\\n",
       "0  A37700  3.6416    4.8082  0.7059  14.3879  1.6436  8.7098  29.0268   \n",
       "1  A37701  5.9656    3.9581  2.1283  22.7599  1.2715  6.1969  18.3112   \n",
       "\n",
       "     KDM1A    TTC22      ...        EIF4A1P2  MXRA5P1  CTBP2P1  ATP5JP1  \\\n",
       "0  43.5168  18.7297      ...             0.0   0.0799   0.0369      0.0   \n",
       "1  21.3308  30.3388      ...             0.0   0.0000   0.0000      0.0   \n",
       "\n",
       "   PARP4P1  KALP  AC006157.2  RP11-886I11.1  RP11-886I11.3  RP11-886I11.2  \n",
       "0   0.0000   0.0         0.0            0.0            0.0            0.0  \n",
       "1   0.0081   0.0         0.0            0.0            0.0            0.0  \n",
       "\n",
       "[2 rows x 42585 columns]"
      ]
     },
     "execution_count": 191,
     "metadata": {},
     "output_type": "execute_result"
    }
   ],
   "source": [
    "df_expr.head(2)"
   ]
  },
  {
   "cell_type": "code",
   "execution_count": 73,
   "metadata": {
    "collapsed": false
   },
   "outputs": [],
   "source": [
    "merged = df_expr.merge(df_intg)"
   ]
  },
  {
   "cell_type": "code",
   "execution_count": 74,
   "metadata": {
    "collapsed": false,
    "scrolled": true
   },
   "outputs": [
    {
     "data": {
      "text/plain": [
       "Index([u'lib', u'SCYL3', u'C1orf112', u'FGR', u'CFH', u'STPG1', u'NIPAL3',\n",
       "       u'AK2', u'KDM1A', u'TTC22',\n",
       "       ...\n",
       "       u'MXRA5P1', u'CTBP2P1', u'ATP5JP1', u'PARP4P1', u'KALP', u'AC006157.2',\n",
       "       u'RP11-886I11.1', u'RP11-886I11.3', u'RP11-886I11.2',\n",
       "       u'integration_status'],\n",
       "      dtype='object', length=42586)"
      ]
     },
     "execution_count": 74,
     "metadata": {},
     "output_type": "execute_result"
    }
   ],
   "source": [
    "merged.columns"
   ]
  },
  {
   "cell_type": "code",
   "execution_count": 192,
   "metadata": {
    "collapsed": false
   },
   "outputs": [
    {
     "data": {
      "text/plain": [
       "(82, 42607)"
      ]
     },
     "execution_count": 192,
     "metadata": {},
     "output_type": "execute_result"
    }
   ],
   "source": [
    "merged.shape"
   ]
  },
  {
   "cell_type": "code",
   "execution_count": 193,
   "metadata": {
    "collapsed": false
   },
   "outputs": [
    {
     "data": {
      "text/html": [
       "<div>\n",
       "<table border=\"1\" class=\"dataframe\">\n",
       "  <thead>\n",
       "    <tr style=\"text-align: right;\">\n",
       "      <th></th>\n",
       "      <th>lib</th>\n",
       "      <th>SCYL3</th>\n",
       "      <th>C1orf112</th>\n",
       "      <th>FGR</th>\n",
       "      <th>CFH</th>\n",
       "      <th>STPG1</th>\n",
       "      <th>NIPAL3</th>\n",
       "      <th>AK2</th>\n",
       "      <th>KDM1A</th>\n",
       "      <th>TTC22</th>\n",
       "      <th>...</th>\n",
       "      <th>ERBB2_mut</th>\n",
       "      <th>NFE2L2_mut</th>\n",
       "      <th>ARID1A_mut</th>\n",
       "      <th>CASP8_mut</th>\n",
       "      <th>ERBB3_mut</th>\n",
       "      <th>KRAS_mut</th>\n",
       "      <th>PTEN_mut</th>\n",
       "      <th>TGFBR2_mut</th>\n",
       "      <th>MAPK1_mut</th>\n",
       "      <th>MED1_mut</th>\n",
       "    </tr>\n",
       "  </thead>\n",
       "  <tbody>\n",
       "    <tr>\n",
       "      <th>0</th>\n",
       "      <td>A37700</td>\n",
       "      <td>3.6416</td>\n",
       "      <td>4.8082</td>\n",
       "      <td>0.7059</td>\n",
       "      <td>14.3879</td>\n",
       "      <td>1.6436</td>\n",
       "      <td>8.7098</td>\n",
       "      <td>29.0268</td>\n",
       "      <td>43.5168</td>\n",
       "      <td>18.7297</td>\n",
       "      <td>...</td>\n",
       "      <td>0</td>\n",
       "      <td>0</td>\n",
       "      <td>0</td>\n",
       "      <td>0</td>\n",
       "      <td>0</td>\n",
       "      <td>0</td>\n",
       "      <td>0</td>\n",
       "      <td>0</td>\n",
       "      <td>0</td>\n",
       "      <td>0</td>\n",
       "    </tr>\n",
       "    <tr>\n",
       "      <th>1</th>\n",
       "      <td>A37701</td>\n",
       "      <td>5.9656</td>\n",
       "      <td>3.9581</td>\n",
       "      <td>2.1283</td>\n",
       "      <td>22.7599</td>\n",
       "      <td>1.2715</td>\n",
       "      <td>6.1969</td>\n",
       "      <td>18.3112</td>\n",
       "      <td>21.3308</td>\n",
       "      <td>30.3388</td>\n",
       "      <td>...</td>\n",
       "      <td>0</td>\n",
       "      <td>1</td>\n",
       "      <td>0</td>\n",
       "      <td>0</td>\n",
       "      <td>0</td>\n",
       "      <td>0</td>\n",
       "      <td>0</td>\n",
       "      <td>0</td>\n",
       "      <td>0</td>\n",
       "      <td>0</td>\n",
       "    </tr>\n",
       "  </tbody>\n",
       "</table>\n",
       "<p>2 rows × 42607 columns</p>\n",
       "</div>"
      ],
      "text/plain": [
       "      lib   SCYL3  C1orf112     FGR      CFH   STPG1  NIPAL3      AK2  \\\n",
       "0  A37700  3.6416    4.8082  0.7059  14.3879  1.6436  8.7098  29.0268   \n",
       "1  A37701  5.9656    3.9581  2.1283  22.7599  1.2715  6.1969  18.3112   \n",
       "\n",
       "     KDM1A    TTC22    ...     ERBB2_mut  NFE2L2_mut  ARID1A_mut  CASP8_mut  \\\n",
       "0  43.5168  18.7297    ...             0           0           0          0   \n",
       "1  21.3308  30.3388    ...             0           1           0          0   \n",
       "\n",
       "   ERBB3_mut  KRAS_mut  PTEN_mut  TGFBR2_mut  MAPK1_mut  MED1_mut  \n",
       "0          0         0         0           0          0         0  \n",
       "1          0         0         0           0          0         0  \n",
       "\n",
       "[2 rows x 42607 columns]"
      ]
     },
     "execution_count": 193,
     "metadata": {},
     "output_type": "execute_result"
    }
   ],
   "source": [
    "merged.head(2)"
   ]
  },
  {
   "cell_type": "code",
   "execution_count": 194,
   "metadata": {
    "collapsed": false
   },
   "outputs": [
    {
     "data": {
      "text/plain": [
       "(42584,)"
      ]
     },
     "execution_count": 194,
     "metadata": {},
     "output_type": "execute_result"
    }
   ],
   "source": [
    "gene_cols.shape"
   ]
  },
  {
   "cell_type": "code",
   "execution_count": null,
   "metadata": {
    "collapsed": true
   },
   "outputs": [],
   "source": [
    "head"
   ]
  },
  {
   "cell_type": "code",
   "execution_count": 30,
   "metadata": {
    "collapsed": true
   },
   "outputs": [],
   "source": [
    "val_cols = gene_cols.tolist() + mut_genes"
   ]
  },
  {
   "cell_type": "code",
   "execution_count": 195,
   "metadata": {
    "collapsed": false
   },
   "outputs": [],
   "source": [
    "# extract expression columns for genes HPV integration disrupted\n",
    "val_cols = gene_cols.tolist()\n",
    "genes_disrupted = ['FHIT', 'STK11', 'NELFE', 'THADA', 'LYRM7', 'BC066991', 'RREB1', 'DLG2', 'PKD1L1', 'MIB1', 'UPK1B', 'CDC42SE1', 'PRIM2', 'MYC', 'CDH5', 'ERBB2', 'KRT32', 'RNF103-CHMP3', 'KRT26', 'LOC440434', 'CT64', 'KCNN3', 'AK127472', 'C12orf44', 'PTPN13', 'bpl', 'ACSL5', 'DQ515899', 'DQ515898', 'RNF103', 'RNA5-8S5', 'BC042052', 'RASSF6', 'CRTC3', 'CLTA', 'GPR137B', 'FNBP1L', 'MAML3', 'PSMG4', 'SKIV2L', 'RASEF', 'CEACAM6', 'TUBD1', 'B4GALT4', 'ARID2', 'LY86-AS1', 'MLLT11', 'COL4A5', 'GUCY2GP', 'RAB40B', 'ELOVL2', 'CYP21A1P', 'KIAA1958', 'SMIM19', 'BC037497', 'CD5', 'SERHL2', 'RMND5A', 'HINT1', 'TP63', 'HV975509', 'TBC1D3', 'BEAN1', 'C4B_2', 'C2', 'PRUNE', 'SUGT1P3', 'FGF12', 'RAD51B', 'IRS4', 'intergenic', 'IRS1', 'TPTE2P5', 'VARS', 'LOC646762', 'ELF1', 'FAM83B', 'MIEN1', 'LOC727677', 'KLF12', 'LRP1B', 'SCAF11', 'CYP21A2', 'NR4A1', 'TMEM242', 'AK096219', 'SLC20A2', 'MPPED2', 'CFB', 'CLPTM1L', 'ANKFN1', 'WBP4']\n",
    "genes_final = [i for i in val_cols if i in genes_disrupted]"
   ]
  },
  {
   "cell_type": "code",
   "execution_count": 196,
   "metadata": {
    "collapsed": false
   },
   "outputs": [],
   "source": [
    "val_cols = genes_final"
   ]
  },
  {
   "cell_type": "code",
   "execution_count": 197,
   "metadata": {
    "collapsed": false
   },
   "outputs": [],
   "source": [
    "df_expr_scaled = merged[val_cols].copy()"
   ]
  },
  {
   "cell_type": "code",
   "execution_count": 198,
   "metadata": {
    "collapsed": false
   },
   "outputs": [
    {
     "data": {
      "text/plain": [
       "(82, 74)"
      ]
     },
     "execution_count": 198,
     "metadata": {},
     "output_type": "execute_result"
    }
   ],
   "source": [
    "df_expr_scaled.shape"
   ]
  },
  {
   "cell_type": "code",
   "execution_count": 199,
   "metadata": {
    "collapsed": false
   },
   "outputs": [
    {
     "data": {
      "text/plain": [
       "(74,)"
      ]
     },
     "execution_count": 199,
     "metadata": {},
     "output_type": "execute_result"
    }
   ],
   "source": [
    "df_expr_scaled.columns.unique().shape"
   ]
  },
  {
   "cell_type": "markdown",
   "metadata": {},
   "source": []
  },
  {
   "cell_type": "code",
   "execution_count": 200,
   "metadata": {
    "collapsed": false
   },
   "outputs": [
    {
     "name": "stdout",
     "output_type": "stream",
     "text": [
      "['GPR137B', 'FNBP1L', 'PRUNE', 'KCNN3', 'CDC42SE1', 'MLLT11', 'ACSL5', 'GUCY2GP', 'MPPED2', 'CD5', 'DLG2', 'NR4A1', 'C12orf44', 'SCAF11', 'ARID2', 'KLF12', 'WBP4', 'ELF1', 'TPTE2P5', 'SUGT1P3', 'RAD51B', 'CRTC3', 'BEAN1', 'CDH5', 'TUBD1', 'KRT32', 'RAB40B', 'ERBB2', 'MIEN1', 'ANKFN1', 'KRT26', 'TBC1D3', 'MIB1', 'CEACAM6', 'STK11', 'THADA', 'RMND5A', 'LRP1B', 'IRS1', 'RNF103', 'RNF103-CHMP3', 'SERHL2', 'TP63', 'FGF12', 'UPK1B', 'B4GALT4', 'FHIT', 'PTPN13', 'RASSF6', 'MAML3', 'CLPTM1L', 'HINT1', 'LYRM7', 'RREB1', 'PRIM2', 'C2', 'FAM83B', 'PSMG4', 'ELOVL2', 'CYP21A1P', 'SKIV2L', 'VARS', 'TMEM242', 'LY86-AS1', 'CYP21A2', 'CFB', 'PKD1L1', 'MYC', 'SLC20A2', 'CLTA', 'RASEF', 'KIAA1958', 'IRS4', 'COL4A5']\n"
     ]
    }
   ],
   "source": [
    "print(df_expr_scaled.columns.tolist())"
   ]
  },
  {
   "cell_type": "code",
   "execution_count": 201,
   "metadata": {
    "collapsed": false
   },
   "outputs": [
    {
     "name": "stdout",
     "output_type": "stream",
     "text": [
      "CPU times: user 2 ms, sys: 0 ns, total: 2 ms\n",
      "Wall time: 1.79 ms\n"
     ]
    }
   ],
   "source": [
    "%time df_expr_scaled[val_cols] = StandardScaler().fit_transform(df_expr_scaled.values)"
   ]
  },
  {
   "cell_type": "code",
   "execution_count": 172,
   "metadata": {
    "collapsed": false,
    "scrolled": true
   },
   "outputs": [
    {
     "ename": "NameError",
     "evalue": "name 'df_expr_scaled' is not defined",
     "output_type": "error",
     "traceback": [
      "\u001b[0;31m---------------------------------------------------------------------------\u001b[0m",
      "\u001b[0;31mNameError\u001b[0m                                 Traceback (most recent call last)",
      "\u001b[0;32m<ipython-input-172-545ca18d29d7>\u001b[0m in \u001b[0;36m<module>\u001b[0;34m()\u001b[0m\n\u001b[0;32m----> 1\u001b[0;31m \u001b[0mdf_expr_scaled\u001b[0m\u001b[0;34m.\u001b[0m\u001b[0mhead\u001b[0m\u001b[0;34m(\u001b[0m\u001b[0;36m2\u001b[0m\u001b[0;34m)\u001b[0m\u001b[0;34m\u001b[0m\u001b[0m\n\u001b[0m",
      "\u001b[0;31mNameError\u001b[0m: name 'df_expr_scaled' is not defined"
     ]
    }
   ],
   "source": [
    "df_expr_scaled.head(2)"
   ]
  },
  {
   "cell_type": "code",
   "execution_count": 30,
   "metadata": {
    "collapsed": true
   },
   "outputs": [],
   "source": [
    "# pca_2c = PCA(n_components=2)\n",
    "\n",
    "# reduced = pca_2c.fit_transform(df_expr_scaled)\n",
    "\n",
    "# reduced.shape\n",
    "\n",
    "# reduced_df = pd.DataFrame(reduced, columns=['x', 'y'])\n",
    "# reduced_df['hiv'] = merged.hiv.values\n",
    "\n",
    "# ax = plt.axes()\n",
    "# for i in ['Positive', 'Negative']:\n",
    "#     col = 'blue' if i == 'Positive' else 'red'\n",
    "#     _df = reduced_df.query('hiv == \"{0}\"'.format(i))\n",
    "#     ax.scatter(_df['x'].values, _df['y'].values, color=col)"
   ]
  },
  {
   "cell_type": "code",
   "execution_count": 46,
   "metadata": {
    "collapsed": true
   },
   "outputs": [],
   "source": [
    "pca = PCA(n_components=50)"
   ]
  },
  {
   "cell_type": "code",
   "execution_count": 47,
   "metadata": {
    "collapsed": false
   },
   "outputs": [
    {
     "name": "stdout",
     "output_type": "stream",
     "text": [
      "CPU times: user 2.81 s, sys: 68 ms, total: 2.88 s\n",
      "Wall time: 834 ms\n"
     ]
    }
   ],
   "source": [
    "%time expression = pca.fit_transform(df_expr_scaled)"
   ]
  },
  {
   "cell_type": "code",
   "execution_count": null,
   "metadata": {
    "collapsed": true
   },
   "outputs": [],
   "source": []
  },
  {
   "cell_type": "code",
   "execution_count": 83,
   "metadata": {
    "collapsed": false
   },
   "outputs": [
    {
     "name": "stdout",
     "output_type": "stream",
     "text": [
      "CPU times: user 3.25 s, sys: 89 ms, total: 3.34 s\n",
      "Wall time: 924 ms\n"
     ]
    }
   ],
   "source": [
    "svd = TruncatedSVD(n_components=50)\n",
    "%time reduced = svd.fit_transform(df_expr_scaled)"
   ]
  },
  {
   "cell_type": "code",
   "execution_count": 106,
   "metadata": {
    "collapsed": false
   },
   "outputs": [
    {
     "data": {
      "text/plain": [
       "(82, 42584)"
      ]
     },
     "execution_count": 106,
     "metadata": {},
     "output_type": "execute_result"
    }
   ],
   "source": [
    "df_expr_scaled.shape"
   ]
  },
  {
   "cell_type": "code",
   "execution_count": null,
   "metadata": {
    "collapsed": true
   },
   "outputs": [],
   "source": []
  },
  {
   "cell_type": "code",
   "execution_count": 124,
   "metadata": {
    "collapsed": false
   },
   "outputs": [
    {
     "name": "stdout",
     "output_type": "stream",
     "text": [
      "[t-SNE] Computing pairwise distances...\n",
      "[t-SNE] Computing 81 nearest neighbors...\n",
      "[t-SNE] Computed conditional probabilities for sample 82 / 82\n",
      "[t-SNE] Mean sigma: 3.983487\n",
      "[t-SNE] KL divergence after 100 iterations with early exaggeration: 0.418799\n",
      "[t-SNE] Error after 325 iterations: 0.418799\n"
     ]
    }
   ],
   "source": [
    "# Create a Randomized PCA model that takes two components\n",
    "randomized_tsne = TSNE(n_components=2, learning_rate=10, perplexity=30, verbose=True)\n",
    "# randomized_tsne = RandomizedPCA(n_components=2)\n",
    "# randomized_tsne = PCA(n_components=2)\n",
    "# Fit and transform the data to the model\n",
    "# reduced_data_rtsne = randomized_tsne.fit_transform(expression)\n",
    "# reduced_data_rtsne = randomized_tsne.fit_transform(reduced)\n",
    "reduced_data_rtsne = randomized_tsne.fit_transform(df_expr_scaled)\n",
    "# reduced_data_rtsne.shape\n",
    "# print(reduced_data_rtsne)"
   ]
  },
  {
   "cell_type": "code",
   "execution_count": 50,
   "metadata": {
    "collapsed": false
   },
   "outputs": [
    {
     "data": {
      "text/plain": [
       "Squamous    63\n",
       "Adeno       19\n",
       "Name: putative_Histology, dtype: int64"
      ]
     },
     "execution_count": 50,
     "metadata": {},
     "output_type": "execute_result"
    }
   ],
   "source": [
    "merged.putative_Histology.value_counts()\n",
    "\n",
    "reduced_df = pd.DataFrame(reduced_data_rtsne, columns=['x', 'y'])\n",
    "# reduced_df['hiv'] = merged.hiv.values\n",
    "# reduced_df['putative_Histology'] = merged.putative_Histology.values\n",
    "reduced_df['integration_status'] = merged.integration_status.values\n",
    "\n",
    "\n",
    "\n",
    "ax = plt.axes()\n",
    "# for i in ['Squamous', 'Adeno']:\n",
    "for i in ['integrated', 'unintegrated']:\n",
    "    col = 'blue' if i == 'integrated' else 'red'\n",
    "    _df = reduced_df.query('integration_status == \"{0}\"'.format(i))\n",
    "    ax.scatter(_df['x'].values, _df['y'].values, color=col)"
   ]
  },
  {
   "cell_type": "code",
   "execution_count": null,
   "metadata": {
    "collapsed": false
   },
   "outputs": [],
   "source": []
  },
  {
   "cell_type": "code",
   "execution_count": null,
   "metadata": {
    "collapsed": true
   },
   "outputs": [],
   "source": []
  },
  {
   "cell_type": "code",
   "execution_count": 104,
   "metadata": {
    "collapsed": false
   },
   "outputs": [
    {
     "data": {
      "image/png": "[encoded data removed]",
      "text/plain": [
       "<matplotlib.figure.Figure at 0x7f1c0261f410>"
      ]
     },
     "metadata": {},
     "output_type": "display_data"
    }
   ],
   "source": [
    "# ax = plt.axes()\n",
    "# for i in ['Positive', 'Negative']:\n",
    "#     col = 'blue' if i == 'Positive' else 'red'\n",
    "#     _df = reduced_df.query('hiv == \"{0}\"'.format(i))\n",
    "#     ax.scatter(_df['x'].values, _df['y'].values, color=col)"
   ]
  },
  {
   "cell_type": "code",
   "execution_count": null,
   "metadata": {
    "collapsed": true
   },
   "outputs": [],
   "source": []
  },
  {
   "cell_type": "code",
   "execution_count": null,
   "metadata": {
    "collapsed": true
   },
   "outputs": [],
   "source": []
  },
  {
   "cell_type": "code",
   "execution_count": null,
   "metadata": {
    "collapsed": true
   },
   "outputs": [],
   "source": [
    "statuses = merged['hiv']\n",
    "\n",
    "for i in range(len(statuses)):\n",
    "#     print(i)\n",
    "    if statuses[i]=='Positive':\n",
    "        x = reduced_data_rtsne[i][0]\n",
    "        y = reduced_data_rtsne[i][1]\n",
    "        plt.scatter(x,y,c='red')\n",
    "    elif statuses[i]=='Negative':\n",
    "        x = reduced_data_rtsne[i][0]\n",
    "        y = reduced_data_rtsne[i][1]\n",
    "        plt.scatter(x,y,c='blue')    \n",
    "# plt.legend(digits.target_names, bbox_to_anchor=(1.05, 1), loc=2, borderaxespad=0.)\n",
    "plt.xlabel('tsne1')\n",
    "plt.ylabel('tnse2')\n",
    "# plt.title(\"tsne Scatter Plot\")\n",
    "# plt.show()"
   ]
  },
  {
   "cell_type": "code",
   "execution_count": 38,
   "metadata": {
    "collapsed": false
   },
   "outputs": [
    {
     "data": {
      "text/plain": [
       "<matplotlib.text.Text at 0x7f87e82b9450>"
      ]
     },
     "execution_count": 38,
     "metadata": {},
     "output_type": "execute_result"
    },
    {
     "data": {
      "image/png": "[encoded data removed]",
      "text/plain": [
       "<matplotlib.figure.Figure at 0x7f87e81da3d0>"
      ]
     },
     "metadata": {},
     "output_type": "display_data"
    }
   ],
   "source": [
    "statuses = merged['hiv']\n",
    "\n",
    "for i in range(len(statuses)):\n",
    "#     print(i)\n",
    "    if statuses[i]=='Positive':\n",
    "        x = reduced_data_rtsne[i][0]\n",
    "        y = reduced_data_rtsne[i][1]\n",
    "        plt.scatter(x,y,c='red')\n",
    "    elif statuses[i]=='Negative':\n",
    "        x = reduced_data_rtsne[i][0]\n",
    "        y = reduced_data_rtsne[i][1]\n",
    "        plt.scatter(x,y,c='blue')    \n",
    "# plt.legend(digits.target_names, bbox_to_anchor=(1.05, 1), loc=2, borderaxespad=0.)\n",
    "plt.xlabel('tsne1')\n",
    "plt.ylabel('tnse2')\n",
    "# plt.title(\"tsne Scatter Plot\")\n",
    "# plt.show()"
   ]
  },
  {
   "cell_type": "markdown",
   "metadata": {
    "collapsed": true
   },
   "source": [
    "\n",
    "look at Keratin gene family"
   ]
  },
  {
   "cell_type": "code",
   "execution_count": 57,
   "metadata": {
    "collapsed": false
   },
   "outputs": [],
   "source": [
    "keratin_genes = pd.read_csv('/projects/trans_scratch/validations/workspace/szong/Cervical/immune_expression/keratin_gene_family.txt', sep='\\t')\n",
    "\n",
    "app_syms = keratin_genes['Approved Symbol'].tolist()\n",
    "\n",
    "# flatten a list of lists to a flat list\n",
    "lst = [i.split(', ') for i in keratin_genes['Previous Symbols'].dropna().tolist()]\n",
    "pre_syms = [gene for sublist in lst for gene in sublist]\n",
    "pre_syms\n",
    "\n",
    "synonyms = [i.split(', ') for i in keratin_genes['Synonyms'].dropna().tolist()]\n",
    "syn_syms = [gene for sublist in synonyms for gene in sublist]\n",
    "syn_syms\n",
    "\n",
    "com_syms = list(set(app_syms + pre_syms + syn_syms))\n",
    "# com_syms"
   ]
  },
  {
   "cell_type": "code",
   "execution_count": 58,
   "metadata": {
    "collapsed": false
   },
   "outputs": [
    {
     "data": {
      "text/plain": [
       "1434"
      ]
     },
     "execution_count": 58,
     "metadata": {},
     "output_type": "execute_result"
    }
   ],
   "source": [
    "# add in some genes of cell cycle, antiviral, and epithilial differentiation\n",
    "other_df = pd.read_csv('/projects/trans_scratch/validations/workspace/szong/Cervical/immune_expression/NIHMS452185-supplement-2.csv', sep='\\t')\n",
    "other_syms = other_df.Genes.tolist()\n",
    "com_syms = list(set(com_syms + other_syms))\n",
    "len(com_syms)"
   ]
  },
  {
   "cell_type": "code",
   "execution_count": 59,
   "metadata": {
    "collapsed": true
   },
   "outputs": [],
   "source": [
    "expression = pd.read_csv('/projects/trans_scratch/validations/workspace/szong/Cervical/immune_expression/expression_matrix.dedup.merged.txt')"
   ]
  },
  {
   "cell_type": "code",
   "execution_count": 60,
   "metadata": {
    "collapsed": false
   },
   "outputs": [
    {
     "data": {
      "text/html": [
       "<div>\n",
       "<table border=\"1\" class=\"dataframe\">\n",
       "  <thead>\n",
       "    <tr style=\"text-align: right;\">\n",
       "      <th></th>\n",
       "      <th>lib</th>\n",
       "      <th>SCYL3</th>\n",
       "      <th>C1orf112</th>\n",
       "      <th>FGR</th>\n",
       "      <th>CFH</th>\n",
       "      <th>STPG1</th>\n",
       "      <th>NIPAL3</th>\n",
       "      <th>AK2</th>\n",
       "      <th>KDM1A</th>\n",
       "      <th>TTC22</th>\n",
       "      <th>...</th>\n",
       "      <th>ERBB2_mut</th>\n",
       "      <th>NFE2L2_mut</th>\n",
       "      <th>ARID1A_mut</th>\n",
       "      <th>CASP8_mut</th>\n",
       "      <th>ERBB3_mut</th>\n",
       "      <th>KRAS_mut</th>\n",
       "      <th>PTEN_mut</th>\n",
       "      <th>TGFBR2_mut</th>\n",
       "      <th>MAPK1_mut</th>\n",
       "      <th>MED1_mut</th>\n",
       "    </tr>\n",
       "  </thead>\n",
       "  <tbody>\n",
       "    <tr>\n",
       "      <th>0</th>\n",
       "      <td>A37700</td>\n",
       "      <td>3.6416</td>\n",
       "      <td>4.8082</td>\n",
       "      <td>0.7059</td>\n",
       "      <td>14.3879</td>\n",
       "      <td>1.6436</td>\n",
       "      <td>8.7098</td>\n",
       "      <td>29.0268</td>\n",
       "      <td>43.5168</td>\n",
       "      <td>18.7297</td>\n",
       "      <td>...</td>\n",
       "      <td>0</td>\n",
       "      <td>0</td>\n",
       "      <td>0</td>\n",
       "      <td>0</td>\n",
       "      <td>0</td>\n",
       "      <td>0</td>\n",
       "      <td>0</td>\n",
       "      <td>0</td>\n",
       "      <td>0</td>\n",
       "      <td>0</td>\n",
       "    </tr>\n",
       "    <tr>\n",
       "      <th>1</th>\n",
       "      <td>A37701</td>\n",
       "      <td>5.9656</td>\n",
       "      <td>3.9581</td>\n",
       "      <td>2.1283</td>\n",
       "      <td>22.7599</td>\n",
       "      <td>1.2715</td>\n",
       "      <td>6.1969</td>\n",
       "      <td>18.3112</td>\n",
       "      <td>21.3308</td>\n",
       "      <td>30.3388</td>\n",
       "      <td>...</td>\n",
       "      <td>0</td>\n",
       "      <td>1</td>\n",
       "      <td>0</td>\n",
       "      <td>0</td>\n",
       "      <td>0</td>\n",
       "      <td>0</td>\n",
       "      <td>0</td>\n",
       "      <td>0</td>\n",
       "      <td>0</td>\n",
       "      <td>0</td>\n",
       "    </tr>\n",
       "    <tr>\n",
       "      <th>2</th>\n",
       "      <td>A37702</td>\n",
       "      <td>4.1159</td>\n",
       "      <td>3.6884</td>\n",
       "      <td>2.5235</td>\n",
       "      <td>31.4999</td>\n",
       "      <td>1.5497</td>\n",
       "      <td>5.8850</td>\n",
       "      <td>18.4245</td>\n",
       "      <td>30.6941</td>\n",
       "      <td>6.5238</td>\n",
       "      <td>...</td>\n",
       "      <td>0</td>\n",
       "      <td>0</td>\n",
       "      <td>0</td>\n",
       "      <td>0</td>\n",
       "      <td>0</td>\n",
       "      <td>0</td>\n",
       "      <td>0</td>\n",
       "      <td>0</td>\n",
       "      <td>0</td>\n",
       "      <td>0</td>\n",
       "    </tr>\n",
       "    <tr>\n",
       "      <th>3</th>\n",
       "      <td>A37704</td>\n",
       "      <td>5.5611</td>\n",
       "      <td>7.3219</td>\n",
       "      <td>1.4132</td>\n",
       "      <td>38.0311</td>\n",
       "      <td>1.7007</td>\n",
       "      <td>5.3582</td>\n",
       "      <td>16.8159</td>\n",
       "      <td>26.8179</td>\n",
       "      <td>5.2079</td>\n",
       "      <td>...</td>\n",
       "      <td>0</td>\n",
       "      <td>0</td>\n",
       "      <td>0</td>\n",
       "      <td>0</td>\n",
       "      <td>0</td>\n",
       "      <td>0</td>\n",
       "      <td>0</td>\n",
       "      <td>0</td>\n",
       "      <td>0</td>\n",
       "      <td>0</td>\n",
       "    </tr>\n",
       "    <tr>\n",
       "      <th>4</th>\n",
       "      <td>A37705</td>\n",
       "      <td>4.7210</td>\n",
       "      <td>3.1647</td>\n",
       "      <td>4.8690</td>\n",
       "      <td>10.7216</td>\n",
       "      <td>2.0805</td>\n",
       "      <td>4.6086</td>\n",
       "      <td>15.4853</td>\n",
       "      <td>63.0492</td>\n",
       "      <td>0.7716</td>\n",
       "      <td>...</td>\n",
       "      <td>0</td>\n",
       "      <td>0</td>\n",
       "      <td>1</td>\n",
       "      <td>1</td>\n",
       "      <td>1</td>\n",
       "      <td>1</td>\n",
       "      <td>1</td>\n",
       "      <td>1</td>\n",
       "      <td>0</td>\n",
       "      <td>0</td>\n",
       "    </tr>\n",
       "  </tbody>\n",
       "</table>\n",
       "<p>5 rows × 42607 columns</p>\n",
       "</div>"
      ],
      "text/plain": [
       "      lib   SCYL3  C1orf112     FGR      CFH   STPG1  NIPAL3      AK2  \\\n",
       "0  A37700  3.6416    4.8082  0.7059  14.3879  1.6436  8.7098  29.0268   \n",
       "1  A37701  5.9656    3.9581  2.1283  22.7599  1.2715  6.1969  18.3112   \n",
       "2  A37702  4.1159    3.6884  2.5235  31.4999  1.5497  5.8850  18.4245   \n",
       "3  A37704  5.5611    7.3219  1.4132  38.0311  1.7007  5.3582  16.8159   \n",
       "4  A37705  4.7210    3.1647  4.8690  10.7216  2.0805  4.6086  15.4853   \n",
       "\n",
       "     KDM1A    TTC22    ...     ERBB2_mut  NFE2L2_mut  ARID1A_mut  CASP8_mut  \\\n",
       "0  43.5168  18.7297    ...             0           0           0          0   \n",
       "1  21.3308  30.3388    ...             0           1           0          0   \n",
       "2  30.6941   6.5238    ...             0           0           0          0   \n",
       "3  26.8179   5.2079    ...             0           0           0          0   \n",
       "4  63.0492   0.7716    ...             0           0           1          1   \n",
       "\n",
       "   ERBB3_mut  KRAS_mut  PTEN_mut  TGFBR2_mut  MAPK1_mut  MED1_mut  \n",
       "0          0         0         0           0          0         0  \n",
       "1          0         0         0           0          0         0  \n",
       "2          0         0         0           0          0         0  \n",
       "3          0         0         0           0          0         0  \n",
       "4          1         1         1           1          0         0  \n",
       "\n",
       "[5 rows x 42607 columns]"
      ]
     },
     "execution_count": 60,
     "metadata": {},
     "output_type": "execute_result"
    }
   ],
   "source": [
    "expression.head()"
   ]
  },
  {
   "cell_type": "code",
   "execution_count": 61,
   "metadata": {
    "collapsed": false
   },
   "outputs": [],
   "source": [
    "inte_df = pd.read_csv('/projects/trans_scratch/validations/workspace/szong/Cervical/integration/82_patients/hist_hpv_hiv_status.csv')\n",
    "inte_df.head()\n",
    "expr_merge = pd.merge(expression, inte_df, left_on='lib', right_on='library_RNA')"
   ]
  },
  {
   "cell_type": "code",
   "execution_count": 62,
   "metadata": {
    "collapsed": false
   },
   "outputs": [],
   "source": [
    "expr_merge.head()\n",
    "expression = expr_merge"
   ]
  },
  {
   "cell_type": "code",
   "execution_count": 78,
   "metadata": {
    "collapsed": false
   },
   "outputs": [
    {
     "data": {
      "text/html": [
       "<div>\n",
       "<table border=\"1\" class=\"dataframe\">\n",
       "  <thead>\n",
       "    <tr style=\"text-align: right;\">\n",
       "      <th></th>\n",
       "      <th>SCYL3</th>\n",
       "      <th>C1orf112</th>\n",
       "      <th>AK2</th>\n",
       "      <th>RUNX3</th>\n",
       "      <th>GLRX2</th>\n",
       "      <th>DEPDC1</th>\n",
       "      <th>ZZZ3</th>\n",
       "      <th>TPR</th>\n",
       "      <th>PTGER3</th>\n",
       "      <th>SOAT1</th>\n",
       "      <th>...</th>\n",
       "      <th>AR</th>\n",
       "      <th>NR0B1</th>\n",
       "      <th>MED14</th>\n",
       "      <th>EFHC2</th>\n",
       "      <th>APOO</th>\n",
       "      <th>BCAP31</th>\n",
       "      <th>ERCC6L</th>\n",
       "      <th>CXorf27</th>\n",
       "      <th>TRAPPC2</th>\n",
       "      <th>NUP62CL</th>\n",
       "    </tr>\n",
       "  </thead>\n",
       "  <tbody>\n",
       "    <tr>\n",
       "      <th>0</th>\n",
       "      <td>-0.317889</td>\n",
       "      <td>0.643999</td>\n",
       "      <td>1.337348</td>\n",
       "      <td>0.583367</td>\n",
       "      <td>-0.340044</td>\n",
       "      <td>1.854898</td>\n",
       "      <td>1.429226</td>\n",
       "      <td>-0.257169</td>\n",
       "      <td>-0.395892</td>\n",
       "      <td>-0.704066</td>\n",
       "      <td>...</td>\n",
       "      <td>-0.480706</td>\n",
       "      <td>-0.120796</td>\n",
       "      <td>-0.268341</td>\n",
       "      <td>-0.635662</td>\n",
       "      <td>-0.810549</td>\n",
       "      <td>-1.017284</td>\n",
       "      <td>0.940234</td>\n",
       "      <td>-0.251867</td>\n",
       "      <td>-0.564226</td>\n",
       "      <td>0.502268</td>\n",
       "    </tr>\n",
       "    <tr>\n",
       "      <th>1</th>\n",
       "      <td>1.251757</td>\n",
       "      <td>0.176119</td>\n",
       "      <td>-0.372593</td>\n",
       "      <td>0.274366</td>\n",
       "      <td>1.696321</td>\n",
       "      <td>1.637549</td>\n",
       "      <td>0.399720</td>\n",
       "      <td>0.100149</td>\n",
       "      <td>-0.589477</td>\n",
       "      <td>0.026325</td>\n",
       "      <td>...</td>\n",
       "      <td>-0.510569</td>\n",
       "      <td>-0.123218</td>\n",
       "      <td>-0.537394</td>\n",
       "      <td>-0.574296</td>\n",
       "      <td>0.401364</td>\n",
       "      <td>1.548596</td>\n",
       "      <td>-0.394035</td>\n",
       "      <td>-0.251867</td>\n",
       "      <td>2.089378</td>\n",
       "      <td>1.761608</td>\n",
       "    </tr>\n",
       "  </tbody>\n",
       "</table>\n",
       "<p>2 rows × 1187 columns</p>\n",
       "</div>"
      ],
      "text/plain": [
       "      SCYL3  C1orf112       AK2     RUNX3     GLRX2    DEPDC1      ZZZ3  \\\n",
       "0 -0.317889  0.643999  1.337348  0.583367 -0.340044  1.854898  1.429226   \n",
       "1  1.251757  0.176119 -0.372593  0.274366  1.696321  1.637549  0.399720   \n",
       "\n",
       "        TPR    PTGER3     SOAT1    ...           AR     NR0B1     MED14  \\\n",
       "0 -0.257169 -0.395892 -0.704066    ...    -0.480706 -0.120796 -0.268341   \n",
       "1  0.100149 -0.589477  0.026325    ...    -0.510569 -0.123218 -0.537394   \n",
       "\n",
       "      EFHC2      APOO    BCAP31    ERCC6L   CXorf27   TRAPPC2   NUP62CL  \n",
       "0 -0.635662 -0.810549 -1.017284  0.940234 -0.251867 -0.564226  0.502268  \n",
       "1 -0.574296  0.401364  1.548596 -0.394035 -0.251867  2.089378  1.761608  \n",
       "\n",
       "[2 rows x 1187 columns]"
      ]
     },
     "execution_count": 78,
     "metadata": {},
     "output_type": "execute_result"
    }
   ],
   "source": [
    "expression_scaled.head(2)"
   ]
  },
  {
   "cell_type": "code",
   "execution_count": 79,
   "metadata": {
    "collapsed": false
   },
   "outputs": [
    {
     "data": {
      "text/html": [
       "<div>\n",
       "<table border=\"1\" class=\"dataframe\">\n",
       "  <thead>\n",
       "    <tr style=\"text-align: right;\">\n",
       "      <th></th>\n",
       "      <th>SCYL3</th>\n",
       "      <th>C1orf112</th>\n",
       "      <th>AK2</th>\n",
       "      <th>RUNX3</th>\n",
       "      <th>GLRX2</th>\n",
       "      <th>DEPDC1</th>\n",
       "      <th>ZZZ3</th>\n",
       "      <th>TPR</th>\n",
       "      <th>PTGER3</th>\n",
       "      <th>SOAT1</th>\n",
       "      <th>...</th>\n",
       "      <th>AR</th>\n",
       "      <th>NR0B1</th>\n",
       "      <th>MED14</th>\n",
       "      <th>EFHC2</th>\n",
       "      <th>APOO</th>\n",
       "      <th>BCAP31</th>\n",
       "      <th>ERCC6L</th>\n",
       "      <th>CXorf27</th>\n",
       "      <th>TRAPPC2</th>\n",
       "      <th>NUP62CL</th>\n",
       "    </tr>\n",
       "  </thead>\n",
       "  <tbody>\n",
       "    <tr>\n",
       "      <th>0</th>\n",
       "      <td>-0.317889</td>\n",
       "      <td>0.643999</td>\n",
       "      <td>1.337348</td>\n",
       "      <td>0.583367</td>\n",
       "      <td>-0.340044</td>\n",
       "      <td>1.854898</td>\n",
       "      <td>1.429226</td>\n",
       "      <td>-0.257169</td>\n",
       "      <td>-0.395892</td>\n",
       "      <td>-0.704066</td>\n",
       "      <td>...</td>\n",
       "      <td>-0.480706</td>\n",
       "      <td>-0.120796</td>\n",
       "      <td>-0.268341</td>\n",
       "      <td>-0.635662</td>\n",
       "      <td>-0.810549</td>\n",
       "      <td>-1.017284</td>\n",
       "      <td>0.940234</td>\n",
       "      <td>-0.251867</td>\n",
       "      <td>-0.564226</td>\n",
       "      <td>0.502268</td>\n",
       "    </tr>\n",
       "    <tr>\n",
       "      <th>1</th>\n",
       "      <td>1.251757</td>\n",
       "      <td>0.176119</td>\n",
       "      <td>-0.372593</td>\n",
       "      <td>0.274366</td>\n",
       "      <td>1.696321</td>\n",
       "      <td>1.637549</td>\n",
       "      <td>0.399720</td>\n",
       "      <td>0.100149</td>\n",
       "      <td>-0.589477</td>\n",
       "      <td>0.026325</td>\n",
       "      <td>...</td>\n",
       "      <td>-0.510569</td>\n",
       "      <td>-0.123218</td>\n",
       "      <td>-0.537394</td>\n",
       "      <td>-0.574296</td>\n",
       "      <td>0.401364</td>\n",
       "      <td>1.548596</td>\n",
       "      <td>-0.394035</td>\n",
       "      <td>-0.251867</td>\n",
       "      <td>2.089378</td>\n",
       "      <td>1.761608</td>\n",
       "    </tr>\n",
       "  </tbody>\n",
       "</table>\n",
       "<p>2 rows × 1187 columns</p>\n",
       "</div>"
      ],
      "text/plain": [
       "      SCYL3  C1orf112       AK2     RUNX3     GLRX2    DEPDC1      ZZZ3  \\\n",
       "0 -0.317889  0.643999  1.337348  0.583367 -0.340044  1.854898  1.429226   \n",
       "1  1.251757  0.176119 -0.372593  0.274366  1.696321  1.637549  0.399720   \n",
       "\n",
       "        TPR    PTGER3     SOAT1    ...           AR     NR0B1     MED14  \\\n",
       "0 -0.257169 -0.395892 -0.704066    ...    -0.480706 -0.120796 -0.268341   \n",
       "1  0.100149 -0.589477  0.026325    ...    -0.510569 -0.123218 -0.537394   \n",
       "\n",
       "      EFHC2      APOO    BCAP31    ERCC6L   CXorf27   TRAPPC2   NUP62CL  \n",
       "0 -0.635662 -0.810549 -1.017284  0.940234 -0.251867 -0.564226  0.502268  \n",
       "1 -0.574296  0.401364  1.548596 -0.394035 -0.251867  2.089378  1.761608  \n",
       "\n",
       "[2 rows x 1187 columns]"
      ]
     },
     "execution_count": 79,
     "metadata": {},
     "output_type": "execute_result"
    }
   ],
   "source": [
    "expression_scaled[keratin_genes].head(2)"
   ]
  },
  {
   "cell_type": "code",
   "execution_count": 63,
   "metadata": {
    "collapsed": false
   },
   "outputs": [],
   "source": [
    "keratin_genes = [i for i in expression.columns if i in com_syms]\n",
    "\n",
    "\n",
    "expression_scaled = expression[keratin_genes]\n",
    "\n",
    "%time expression_scaled[keratin_genes] = StandardScaler().fit_transform(expression_scaled.values)\n",
    "\n",
    "# Create a Randomized PCA model that takes two components\n",
    "randomized_tsne = TSNE(n_components=2, learning_rate=5, perplexity=30, verbose=True)\n",
    "# randomized_tsne = RandomizedPCA(n_components=2)\n",
    "# randomized_tsne = PCA(n_components=2)\n",
    "# Fit and transform the data to the model\n",
    "# reduced_data_rtsne = randomized_tsne.fit_transform(expression)\n",
    "# reduced_data_rtsne = randomized_tsne.fit_transform(reduced)\n",
    "reduced_data_rtsne = randomized_tsne.fit_transform(expression_scaled)\n",
    "# reduced_data_rtsne.shape\n",
    "# print(reduced_data_rtsne)"
   ]
  },
  {
   "cell_type": "code",
   "execution_count": 67,
   "metadata": {
    "collapsed": false
   },
   "outputs": [
    {
     "data": {
      "text/plain": [
       "['putative_Histology_x', 'clinical_histolgy', 'putative_Histology_y']"
      ]
     },
     "execution_count": 67,
     "metadata": {},
     "output_type": "execute_result"
    }
   ],
   "source": [
    "[i for i in expression.columns if 'isto' in i]\n",
    "# expression.hiv\n"
   ]
  },
  {
   "cell_type": "code",
   "execution_count": 73,
   "metadata": {
    "collapsed": false
   },
   "outputs": [
    {
     "data": {
      "text/html": [
       "<div>\n",
       "<table border=\"1\" class=\"dataframe\">\n",
       "  <thead>\n",
       "    <tr style=\"text-align: right;\">\n",
       "      <th></th>\n",
       "      <th>x</th>\n",
       "      <th>y</th>\n",
       "      <th>putative_Histology</th>\n",
       "      <th>hiv</th>\n",
       "      <th>RNA_integration_status</th>\n",
       "    </tr>\n",
       "  </thead>\n",
       "  <tbody>\n",
       "    <tr>\n",
       "      <th>0</th>\n",
       "      <td>0.550009</td>\n",
       "      <td>-0.375119</td>\n",
       "      <td>Squamous</td>\n",
       "      <td>Positive</td>\n",
       "      <td>integrated</td>\n",
       "    </tr>\n",
       "    <tr>\n",
       "      <th>1</th>\n",
       "      <td>1.206331</td>\n",
       "      <td>-0.465003</td>\n",
       "      <td>Squamous</td>\n",
       "      <td>Negative</td>\n",
       "      <td>integrated</td>\n",
       "    </tr>\n",
       "  </tbody>\n",
       "</table>\n",
       "</div>"
      ],
      "text/plain": [
       "          x         y putative_Histology       hiv RNA_integration_status\n",
       "0  0.550009 -0.375119           Squamous  Positive             integrated\n",
       "1  1.206331 -0.465003           Squamous  Negative             integrated"
      ]
     },
     "execution_count": 73,
     "metadata": {},
     "output_type": "execute_result"
    }
   ],
   "source": [
    "reduced_df.head(2)"
   ]
  },
  {
   "cell_type": "code",
   "execution_count": 75,
   "metadata": {
    "collapsed": false
   },
   "outputs": [
    {
     "data": {
      "image/png": "[encoded data removed]",
      "text/plain": [
       "<matplotlib.figure.Figure at 0x7f1c86b40910>"
      ]
     },
     "metadata": {},
     "output_type": "display_data"
    }
   ],
   "source": [
    "\n",
    "reduced_df = pd.DataFrame(reduced_data_rtsne, columns=['x', 'y'])\n",
    "reduced_df['putative_Histology'] = expression.putative_Histology_x.values\n",
    "reduced_df['hiv'] = expression.hiv.values\n",
    "reduced_df['RNA_integration_status'] = expression.RNA_integration_status.values\n",
    "fig = plt.figure(figsize=(15,9))\n",
    "\n",
    "ax = fig.add_subplot(111)\n",
    "\n",
    "# for i in ['Squamous', 'Adeno']:\n",
    "#     col = 'blue' if i == 'Squamous' else 'red'\n",
    "#     _df = reduced_df.query('putative_Histology == \"{0}\"'.format(i))\n",
    "#     ax.scatter(_df['x'].values, _df['y'].values, color=col)\n",
    "# plt.savefig('keratin_family_gene_expression.png', dpi=200)\n",
    "for i in ['Positive', 'Negative']:\n",
    "    col = 'blue' if i == 'Negative' else 'red'\n",
    "    _df = reduced_df.query('hiv == \"{0}\"'.format(i))\n",
    "    ax.scatter(_df['x'].values, _df['y'].values, color=col)\n",
    "\n",
    "# for i in ['integrated', 'unintegrated']:\n",
    "#     col = 'blue' if i == 'Squamous' else 'red'\n",
    "#     _df = reduced_df.query('putative_Histology == \"{0}\"'.format(i))\n",
    "#     ax.scatter(_df['x'].values, _df['y'].values, color=col)\n",
    "# plt.savefig('keratin_family_gene_expression.png', dpi=200)"
   ]
  },
  {
   "cell_type": "code",
   "execution_count": 394,
   "metadata": {
    "collapsed": false
   },
   "outputs": [
    {
     "name": "stdout",
     "output_type": "stream",
     "text": [
      "SCYL3, C1orf112, AK2, RUNX3, GLRX2, DEPDC1, ZZZ3, TPR, PTGER3, SOAT1, LAMC2, SPEN, ASPM, LRRC40, NUCKS1, UBE2T, GNB1, DUSP12, HSPB11, TTC39A, RAD54L, FMO2, CACYBP, ANGPTL1, ICMT, HDAC1, S100PBP, DLEU2L, NCF2, TSNAX, LGALS8, SSX2IP, CDC20, SERPINC1, NEK2, RPS6KA1, NSL1, CENPF, RPA2, HEATR1, CD244, CDKN2C, STIL, HNRNPR, PSMB2, IFI6, PPT1, CHD1L, RHBG, NASP, GSTM5, PSRC1, TRIM45, CRB1, CDCA8, GNL2, ZCCHC11, AGT, PCNXL2, DHX9, KIAA1614, BCAR3, IFI44L, IFI44, EFHD2, C1orf216, ITGB3BP, KIF2C, PTPRF, GJA5, TIPRL, PFDN2, ISG20L2, XPR1, ZNF687, TARS2, SETDB1, RFX5, ANP32E, ANXA9, DTL, INTS7, TAF1A, CRNN, UBAP2L, EFNA3, FLG, GALNT2, WDR78, HNRNPU, AHCTF1, AK5, SLC16A1, C1orf27, NECAP2, LRP8, CD1C, TAGLN2, CDA, APOA2, PSMD4, PSMB4, ADAR, UBE2Q1, SLC25A44, MAGOH, NOL9, RBBP4, RBM15, SPRR3, LENEP, ATP1A1, CCT3, NUAK2, IFI16, AIM2, EFNA1, SPRR1A, OTUD3, KCND3, LRRC8D, CKS1B, SELP, EXO1, AKIRIN1, ANGEL2, MARCKSL1, AIM1L, FCER1A, PTP4A2, SMYD3, ROR1, MUC1, TOR3A, ISG15, GPR89B, AGRN, CNR2, MMP23B, SEMA4A, ESRRG, LRRC8B, DNM3, FCGR1B, AVPR1B, GLT25D2, HMGN2, GJC2, PRMT6, C1orf174, LOR, DDOST, CFHR1, MCM10, FGFR2, SPAG6, NEBL, SEPHS1, TSPAN15, RASSF4, CXCL12, RBP3, ARHGAP21, SUFU, XPNPEP1, SMC3, TFAM, CUL2, PPP1R3C, HELLS, LDB3, PLAU, ZWINT, ITIH5, ECHDC3, IL15RA, CYP2C9, KIF11, CEP55, A1CF, MKI67, C10orf68, ARID5B, ADRA2A, DCLRE1C, BUB3, SLC25A28, SLC16A9, C10orf10, SLC18A2, CASP7, CYP2C19, BTRC, NDST2, DDIT4, LRRC20, HPSE2, CALML3, HSPA14, ZNF248, DCLRE1A, DNAJC9, KIAA0913, HNRNPA3P1, USP2, TOLLIP, CRYAB, TECTA, MMP12, RPS13, RPS25, SNX19, KIF18A, AHNAK, BBOX1, E2F8, TNNT3, ALDH3B2, RRAS2, PHF21A, FCHSD2, SSRP1, CHEK1, TM7SF2, PTH, ROBO4, UBE2L6, VPS11, PKNOX2, SMPD1, RPL27A, FAM111A, NAV2, STIM1, RRM1, FEN1, PDGFD, ARHGAP1, SCUBE2, RPS6KB2, ASCL3, C11orf16, OPCML, IRF7, MMP1, ARHGEF12, M6PR, RECQL, RPAP3, NCAPD2, DCN, POLR3B, DDX11, STYK1, NAV3, ANAPC5, OAS1, BRAP, ERP29, NOS1, CAPRIN2, CYP27B1, KRT18, ACSS3, FOXM1, GPN3, RAD51AP1, SLC38A1, RFC5, TBC1D30, CAND1, NUP107, KRR1, CDCA3, PTPN6, GYS2, SLC16A7, TMPO, PYROXD1, CIT, ITPR2, TUBA1B, WNT1, IL22, DYRK2, YEATS4, TMEM106C, EMP1, TBX3, KRT85, KRT7, HNRNPA1, PIK3C2G, SLC38A4, ACVRL1, KRT71, GRIN2B, TWF1, HSPB8, RACGAP1, KRT84, KRT82, AVPR1A, HSP90B1, MYO1A, TMEM194A, PIP4K2C, MARS, KRT80, KRT1, SPRYD3, KRT8, KRT78, KRT75, KRT6C, KRT4, KRT74, KRT72, KRT83, RNF34, MAP1LC3B2, KRT2, ADAMTS20, CCDC41, NUDT4, DDX23, ANKLE2, POLE, PUS1, CD163, DNAJC22, HOXC9, DDN, KNTC1, KRT76, KRT6B, KRT79, NTF3, KRT73, KRT5, KRT3, KRT77, TEAD4, PRIM1, KRT6A, KRT81, CNPY2, KRT86, SLC15A1, ANKRD10, DHRS12, ENOX1, PSPC1, SLC10A2, F10, TNFRSF19, DCLK1, SPG20, RFC3, RNASEH2B, SCEL, LATS2, CDX2, DACH1, HMGB1, ITGBL1, FAM155A, UBR7, MNAT1, SYNE2, GZMB, POLE2, CDKN3, ERH, MTHFD1, ZC3H14, VRK1, PABPN1, REC8, NFATC4, ACYP1, SIX1, DLGAP5, ZBTB1, TRMT5, PARP2, EGLN3, TRAF3, ADAM20, RAB15, WARS, NDRG2, CDCA4, SIVA1, SIPA1L1, WDHD1, IRF9, MEG3, HOMEZ, C14orf169, PTPLAD1, TIPIN, OCA2, OIP5, SNRPN, CGNL1, SNRPA1, MEIS2, NUSAP1, PAQR5, ADAM10, HERC2P2, FGF7, CDAN1, COMMD4, PML, NTRK3, ST8SIA2, BUB1B, CCNB2, RPUSD2, EPB42, ISG20, MGA, ZWILCH, GOLGA8A, MRPS11, NDN, CIB1, THSD4, ARHGAP11A, PRC1, ALG1, CDH3, KARS, RGS11, KIF22, GDPD3, MT4, NDRG4, SEC14L5, NOMO3, LMF1, CRYM, UBFD1, XYLT1, C16orf88, UBN1, DOK4, CHTF18, GINS2, JPH3, PAQR4, CENPN, ACSM1, CDT1, OR1F1, RFWD3, SCNN1B, CA7, CTRB1, ARL6IP1, SHCBP1, MAF, SEPHS2, GRIN2A, NOMO2, FANCA, SF3B3, PLEKHG4, PSMB10, HN1L, DNASE1, CKLF, ARHGDIG, LASP1, MEOX1, KRT33A, GSDMB, SPAG5, TNRC6C, NLK, BIRC5, KRT31, CDC6, KRT23, RAD51C, KRT37, KPNB1, GALK1, B9D1, C17orf75, KRT32, CNTNAP1, VAT1, ALOX12, MMD, TMEM97, FOXN1, SCPEP1, NUP85, KRT36, OR1E2, KRT17, FAM64A, PLD2, NOL11, G6PC, KRT34, KRT33B, TOP2A, RPA1, CLEC10A, XAF1, MPRIP, KSR1, ABCA8, PIK3R5, FN3KRP, AZI1, ABCA6, CA10, UBE2Z, OR3A3, LSM12, TMEM100, FN3K, TK1, KRT24, KRT19, KRT15, KRT38, KRT13, KRT9, KRT20, KRT27, NEUROD2, OR1A1, KRT28, BAIAP2, ATAD5, C17orf62, ALOX12B, KPNA2, KIF18B, KRT26, KRT10, KRT16, KRT14, KRT12, KRT39, KRT35, KRT40, KRT25, KRT222, TIAF1, MOCOS, NDC80, RAX, MAPRE2, DLGAP1, ZNF24, MC5R, TYMS, TGIF1, ZBTB7C, TYROBP, PSMC4, HOMER3, POLD1, DAZAP1, PVR, XRCC1, SNRPA, PAFAH1B3, FTL, SULT2B1, MADCAM1, RNASEH2A, OAZ1, TNNT1, OLFM2, ZNF419, AURKC, CCNE1, AKT2, LIG1, RASIP1, SLC5A5, PDE4C, UPK1A, ETV2, ATP4A, LSR, FKBP8, GRIK5, ZSCAN18, ZNF45, PPP1R12C, FOSB, ZNF835, FAM108A1, BST2, LSM4, DNMT1, ZNF426, PPAP2C, KLK3, NOSIP, KCTD15, CHAF1A, KLK13, TSEN34, ZNF415, AZU1, ZNF135, LMNB2, VN1R1, HKR1, ZNF93, KLK12, RYR1, LONP1, ZNF675, CFD, CYP2A7, PEG3, ZNF43, CD177, PSG5, ZNF134, IFI30, PSG2, LILRA6, CYP2A6, ZNF253, FARP2, AGPS, EIF2AK2, MTHFD2, MCM6, TNS1, STARD7, GCKR, MSH2, CENPA, GCG, AUP1, FANCL, FN1, STAT1, DLX2, CD207, MSH6, NRP2, SUPT7L, NCAPH, ACVR2A, HJURP, TTC21B, FAM124B, LRRFIP1, RSAD2, SCN7A, IL1RN, SMPD4, WDR33, PPM1B, AOX1, PDIA6, RHOB, RPS27A, SLC20A1, GULP1, SPAG16, CXCR7, LYPD1, GEMIN6, SPC25, PDK1, MITD1, KCNJ3, SMC6, IWS1, IHH, DTYMK, LRP1B, C2orf68, BUB1, KCNS3, PRKCE, RRM2, RNASEH1, MAL, C2orf54, AGXT, ADRA2B, TMEM185B, KBTBD10, CYP24A1, RBL1, AURKA, DNMT3B, TPX2, XRN2, ESF1, SLC23A2, MMP9, GINS1, HNF4A, RAE1, CTSZ, PSMA7, C20orf20, PTK6, CDC25B, PAK7, CDK5RAP1, SPINT3, DHX35, SDC4, EDN3, RNF114, TGM3, PAX1, RBCK1, SNRPB, GDF5, PCNA, ADAM33, DSN1, CDH22, UBE2C, SYCP2, VPS16, PRDM15, APP, ADAMTS5, HSPA13, CLDN8, MX1, KCNE2, CHAF1B, TMPRSS3, U2AF1, RRP1B, PDXK, TRAPPC10, DSCAM, PSMG1, DSCR4, SLC5A3, GTSE1, CCDC134, CENPM, SLC5A1, PACSIN2, TOM1, MCM5, SYNGR1, APOL1, SGSM3, PVALB, SLC25A17, MCHR1, TST, APOL2, SCO2, MORC2, APOBEC3B, SEPT5, USP18, SYN3, TMEM184B, APOL6, APOBEC3G, ARHGAP8, ACPP, LSG1, MAP4, PDIA5, MCM2, MGLL, FNDC3B, LAMP3, GSK3B, ITGB5, DNAJB11, SMC4, KPNA1, CEP70, RBP1, BCHE, ECT2, GNAT1, FXR1, IQCG, UMPS, C3orf52, FRMD4B, KLHL18, ABCC5, KLHL24, FOXP1, STAG1, A4GNT, SENP5, B4GALT4, TMEM115, MBD4, NUP210, COX17, CCBP2, ABHD10, OSBPL11, KIAA0226, MAGI1, QTRTD1, SCHIP1, PLOD2, GTF2E1, ABI3BP, SLC6A1, CACNA2D3, ANO10, NBEAL2, AP2M1, GMPS, GYG1, TOPBP1, KIF15, ZNF148, YEATS2, POLR2H, RPN1, RFC4, RPL39L, SFMBT1, UBXN7, RNF123, CAMKV, ACOX2, FAM107A, CX3CR1, HSPBAP1, KCNAB1, TMEM43, CCR9, RSRC1, PSMD2, MLF1, NSUN3, PAK2, CNOT10, C3orf37, CCR4, LSAMP, SLC38A3, APOD, FHIT, ALG3, LAP3, RFC1, RNF4, TXK, GNRHR, SULT1E1, MAPK10, UCP1, NCAPG, SPP1, EXOSC9, EREG, SPINK2, DDX60, HERC5, NAAA, CXCL9, SLIT2, ANK2, CCNA2, MLF1IP, GRID2, SPARCL1, DKK2, CXCL13, RGS12, H2AFZ, EMCN, SPRY1, HMGB2, MAD2L1, HPGD, NPY1R, MTNR1A, CXCL10, RNF150, GYPA, HOPX, CEP135, BRD9, DEPDC1B, TRIO, COL23A1, CAMK2A, TRIP13, HMMR, ADCY2, HARS2, CEP72, GHR, NME5, KIF20A, FAF2, GRM6, LMNB1, SLC27A6, TARS, GNPDA1, NUP155, C5orf15, DUSP1, TGFBI, SLC36A1, IRF1, SPINK5, CCNB1, MARCH6, ATG12, GFRA3, HOMER1, CDC25C, MAML1, KIAA0947, SLC45A2, MYOZ3, PTTG1, C5orf4, PTGER4, KCNIP1, SLIT3, PCDHGA1, GPX3, DHFR, NAIP, FOXD1, PCDHGA3, ELOVL5, BAK1, GUCA1A, TAF11, ESR1, CRISP3, PGC, ITPR3, SASH1, FBXO5, FANCE, RHAG, SOD2, MCM3, E2F3, COL9A1, WASF1, VNN1, GMNN, SLC39A7, PACRG, TBP, TTK, CASP8AP2, PLAGL1, PLG, COL10A1, CRISP2, BTN2A2, MRS2, SLC17A1, MED20, APOBEC2, COL21A1, SOX4, DEK, MLLT4, SMPD2, CNPY3, FOXF2, TBC1D7, PLA2G7, PRIM2, NFKBIE, PHIP, C6orf211, C6orf123, UTRN, BMP6, CD109, TAP1, TNXB, PRL, ID4, BTBD9, BTN3A2, HIST1H1C, C6orf106, HIST1H2BK, ZNF192, DLL1, HIST1H3H, PFDN6, BRD2, MSH5, LY6G6C, MICB, RNF39, HLA-F, UBD, PPT2, TAPBP, ZBTB22, CFB, GSTA1, WNT16, PHTF2, DBF4, CYP3A43, RFC2, PARP12, HIPK2, UBE2D4, SMARCD3, SNX10, DNAJC2, DUS4L, H2AFV, MET, CRHR2, EPHB6, EIF3B, NUDT1, FSCN3, RPA3, EZH2, MEST, MYL7, BCL7B, KLHL7, HNRNPA2B1, INHBA, TWIST1, FAM40B, CALU, OPN1SW, DPP6, NSUN5, DGKB, NCAPG2, FZD1, CPA2, CYP3A7, MCM7, MUC3A, GUSB, SOSTDC1, ZNF273, FAM115A, ZNF277, PRSS1, AQP1, ADAM28, RRM2B, TAF2, MTFR1, AP3M2, ZFHX4, CSPP1, NBN, LAPTM4B, TRPS1, MCM4, PDLIM2, SLURP1, PHF20L1, HHLA1, CHRNB3, WHSC1L1, ATP6V1C1, WDR67, ATAD2, RECQL4, RAD21, DEFA4, SPAG11B, ZMAT4, PBK, SFTPC, PHYHIP, GFRA2, RRS1, EGR3, PENK, EIF4EBP1, COL14A1, PIWIL2, ENTPD4, RAD54B, ARC, PRSS3, FAM120A, TRPM3, ECM2, AMBP, TNFSF8, PIP5K1B, EXOSC3, PHF19, CKS2, TTF1, CTSL1, TMEM2, TOR1B, KLF4, CDK5RAP2, TEX10, GABBR2, CDKN2A, SHC3, STOM, PTPRD, SLC24A2, C9orf91, GPSM1, HNRNPK, MELK, C9orf9, FAM102A, GOLGA2, RMI1, ARRDC1, NOL8, SMC5, IFNA7, FANCG, LAS1L, FHL1, HMGB3, OTC, MAGEC2, ARHGAP6, MAOB, SMC1A, ITM2A, KIF4A, PRPS2, ELF4, SLC25A14, FMR1, KLF8, ACOT9, NDP, UPF3B, AMELX, GRIA3, SAT1, SLC6A8, DKC1, EDA2R, SH3BGRL, RAI2, MORC4, RBMX2, CASK, MSN, PRPS1, CXorf57, AFF2, HPRT1, AR, NR0B1, MED14, EFHC2, APOO, BCAP31, ERCC6L, CXorf27, TRAPPC2, NUP62CL\n"
     ]
    }
   ],
   "source": [
    "print '{0}'.format(', '.join([f for f in expression_scaled.columns.tolist()]))"
   ]
  },
  {
   "cell_type": "code",
   "execution_count": 350,
   "metadata": {
    "collapsed": false
   },
   "outputs": [
    {
     "data": {
      "text/html": [
       "<div>\n",
       "<table border=\"1\" class=\"dataframe\">\n",
       "  <thead>\n",
       "    <tr style=\"text-align: right;\">\n",
       "      <th></th>\n",
       "      <th>lib</th>\n",
       "      <th>putative_Histology</th>\n",
       "      <th>clinical_histolgy</th>\n",
       "    </tr>\n",
       "  </thead>\n",
       "  <tbody>\n",
       "    <tr>\n",
       "      <th>4</th>\n",
       "      <td>A37705</td>\n",
       "      <td>Adeno</td>\n",
       "      <td>NaN</td>\n",
       "    </tr>\n",
       "    <tr>\n",
       "      <th>9</th>\n",
       "      <td>A37711</td>\n",
       "      <td>Adeno</td>\n",
       "      <td>NaN</td>\n",
       "    </tr>\n",
       "    <tr>\n",
       "      <th>15</th>\n",
       "      <td>A37719</td>\n",
       "      <td>Adeno</td>\n",
       "      <td>NaN</td>\n",
       "    </tr>\n",
       "    <tr>\n",
       "      <th>18</th>\n",
       "      <td>A37722</td>\n",
       "      <td>Adeno</td>\n",
       "      <td>NaN</td>\n",
       "    </tr>\n",
       "    <tr>\n",
       "      <th>25</th>\n",
       "      <td>A37730</td>\n",
       "      <td>Adeno</td>\n",
       "      <td>NaN</td>\n",
       "    </tr>\n",
       "    <tr>\n",
       "      <th>26</th>\n",
       "      <td>A37731</td>\n",
       "      <td>Adeno</td>\n",
       "      <td>NaN</td>\n",
       "    </tr>\n",
       "    <tr>\n",
       "      <th>28</th>\n",
       "      <td>A37733</td>\n",
       "      <td>Adeno</td>\n",
       "      <td>NaN</td>\n",
       "    </tr>\n",
       "    <tr>\n",
       "      <th>32</th>\n",
       "      <td>A37737</td>\n",
       "      <td>Adeno</td>\n",
       "      <td>NaN</td>\n",
       "    </tr>\n",
       "    <tr>\n",
       "      <th>33</th>\n",
       "      <td>A37738</td>\n",
       "      <td>Adeno</td>\n",
       "      <td>NaN</td>\n",
       "    </tr>\n",
       "    <tr>\n",
       "      <th>36</th>\n",
       "      <td>A50338</td>\n",
       "      <td>Adeno</td>\n",
       "      <td>NaN</td>\n",
       "    </tr>\n",
       "    <tr>\n",
       "      <th>37</th>\n",
       "      <td>A50339</td>\n",
       "      <td>Adeno</td>\n",
       "      <td>NaN</td>\n",
       "    </tr>\n",
       "    <tr>\n",
       "      <th>46</th>\n",
       "      <td>A52344</td>\n",
       "      <td>Adeno</td>\n",
       "      <td>NaN</td>\n",
       "    </tr>\n",
       "    <tr>\n",
       "      <th>56</th>\n",
       "      <td>A52362</td>\n",
       "      <td>Adeno</td>\n",
       "      <td>Squamous_Cell_Carcinoma_Non-Keratinizing</td>\n",
       "    </tr>\n",
       "    <tr>\n",
       "      <th>65</th>\n",
       "      <td>A54473</td>\n",
       "      <td>Adeno</td>\n",
       "      <td>Squamous_Cell_Carcinoma_Non-Keratinizing</td>\n",
       "    </tr>\n",
       "    <tr>\n",
       "      <th>69</th>\n",
       "      <td>A57109</td>\n",
       "      <td>Adeno</td>\n",
       "      <td>Squamous_Cell_Carcinoma_Non-Keratinizing</td>\n",
       "    </tr>\n",
       "    <tr>\n",
       "      <th>72</th>\n",
       "      <td>A57113</td>\n",
       "      <td>Adeno</td>\n",
       "      <td>NaN</td>\n",
       "    </tr>\n",
       "    <tr>\n",
       "      <th>74</th>\n",
       "      <td>A57116</td>\n",
       "      <td>Adeno</td>\n",
       "      <td>Squamous_Cell_Carcinoma_Non-Keratinizing</td>\n",
       "    </tr>\n",
       "    <tr>\n",
       "      <th>76</th>\n",
       "      <td>A57119</td>\n",
       "      <td>Adeno</td>\n",
       "      <td>Squamous_Cell_Carcinoma_Non-Keratinizing</td>\n",
       "    </tr>\n",
       "    <tr>\n",
       "      <th>77</th>\n",
       "      <td>A57120</td>\n",
       "      <td>Adeno</td>\n",
       "      <td>NaN</td>\n",
       "    </tr>\n",
       "  </tbody>\n",
       "</table>\n",
       "</div>"
      ],
      "text/plain": [
       "       lib putative_Histology                         clinical_histolgy\n",
       "4   A37705              Adeno                                       NaN\n",
       "9   A37711              Adeno                                       NaN\n",
       "15  A37719              Adeno                                       NaN\n",
       "18  A37722              Adeno                                       NaN\n",
       "25  A37730              Adeno                                       NaN\n",
       "26  A37731              Adeno                                       NaN\n",
       "28  A37733              Adeno                                       NaN\n",
       "32  A37737              Adeno                                       NaN\n",
       "33  A37738              Adeno                                       NaN\n",
       "36  A50338              Adeno                                       NaN\n",
       "37  A50339              Adeno                                       NaN\n",
       "46  A52344              Adeno                                       NaN\n",
       "56  A52362              Adeno  Squamous_Cell_Carcinoma_Non-Keratinizing\n",
       "65  A54473              Adeno  Squamous_Cell_Carcinoma_Non-Keratinizing\n",
       "69  A57109              Adeno  Squamous_Cell_Carcinoma_Non-Keratinizing\n",
       "72  A57113              Adeno                                       NaN\n",
       "74  A57116              Adeno  Squamous_Cell_Carcinoma_Non-Keratinizing\n",
       "76  A57119              Adeno  Squamous_Cell_Carcinoma_Non-Keratinizing\n",
       "77  A57120              Adeno                                       NaN"
      ]
     },
     "execution_count": 350,
     "metadata": {},
     "output_type": "execute_result"
    }
   ],
   "source": [
    "expression[['lib', 'putative_Histology', 'clinical_histolgy']][expression['putative_Histology']=='Adeno']"
   ]
  },
  {
   "cell_type": "code",
   "execution_count": 348,
   "metadata": {
    "collapsed": false
   },
   "outputs": [
    {
     "data": {
      "text/html": [
       "<div>\n",
       "<table border=\"1\" class=\"dataframe\">\n",
       "  <thead>\n",
       "    <tr style=\"text-align: right;\">\n",
       "      <th></th>\n",
       "      <th>x</th>\n",
       "      <th>y</th>\n",
       "      <th>putative_Histology</th>\n",
       "    </tr>\n",
       "  </thead>\n",
       "  <tbody>\n",
       "    <tr>\n",
       "      <th>0</th>\n",
       "      <td>-0.735339</td>\n",
       "      <td>-0.240601</td>\n",
       "      <td>Squamous</td>\n",
       "    </tr>\n",
       "    <tr>\n",
       "      <th>1</th>\n",
       "      <td>-1.285389</td>\n",
       "      <td>0.924262</td>\n",
       "      <td>Squamous</td>\n",
       "    </tr>\n",
       "    <tr>\n",
       "      <th>2</th>\n",
       "      <td>0.382438</td>\n",
       "      <td>-0.497136</td>\n",
       "      <td>Squamous</td>\n",
       "    </tr>\n",
       "    <tr>\n",
       "      <th>3</th>\n",
       "      <td>-0.832637</td>\n",
       "      <td>1.171645</td>\n",
       "      <td>Squamous</td>\n",
       "    </tr>\n",
       "    <tr>\n",
       "      <th>4</th>\n",
       "      <td>0.945405</td>\n",
       "      <td>0.102200</td>\n",
       "      <td>Adeno</td>\n",
       "    </tr>\n",
       "    <tr>\n",
       "      <th>5</th>\n",
       "      <td>0.615101</td>\n",
       "      <td>1.018947</td>\n",
       "      <td>Squamous</td>\n",
       "    </tr>\n",
       "    <tr>\n",
       "      <th>6</th>\n",
       "      <td>-1.212246</td>\n",
       "      <td>-0.873216</td>\n",
       "      <td>Squamous</td>\n",
       "    </tr>\n",
       "    <tr>\n",
       "      <th>7</th>\n",
       "      <td>2.316352</td>\n",
       "      <td>-1.994298</td>\n",
       "      <td>Squamous</td>\n",
       "    </tr>\n",
       "    <tr>\n",
       "      <th>8</th>\n",
       "      <td>-1.186949</td>\n",
       "      <td>-1.401019</td>\n",
       "      <td>Squamous</td>\n",
       "    </tr>\n",
       "    <tr>\n",
       "      <th>9</th>\n",
       "      <td>1.105395</td>\n",
       "      <td>0.182886</td>\n",
       "      <td>Adeno</td>\n",
       "    </tr>\n",
       "    <tr>\n",
       "      <th>10</th>\n",
       "      <td>-1.681278</td>\n",
       "      <td>0.227714</td>\n",
       "      <td>Squamous</td>\n",
       "    </tr>\n",
       "    <tr>\n",
       "      <th>11</th>\n",
       "      <td>1.134300</td>\n",
       "      <td>-0.136937</td>\n",
       "      <td>Squamous</td>\n",
       "    </tr>\n",
       "    <tr>\n",
       "      <th>12</th>\n",
       "      <td>0.014053</td>\n",
       "      <td>-0.349666</td>\n",
       "      <td>Squamous</td>\n",
       "    </tr>\n",
       "    <tr>\n",
       "      <th>13</th>\n",
       "      <td>-2.020542</td>\n",
       "      <td>0.278758</td>\n",
       "      <td>Squamous</td>\n",
       "    </tr>\n",
       "    <tr>\n",
       "      <th>14</th>\n",
       "      <td>-0.143415</td>\n",
       "      <td>0.096896</td>\n",
       "      <td>Squamous</td>\n",
       "    </tr>\n",
       "    <tr>\n",
       "      <th>15</th>\n",
       "      <td>1.205901</td>\n",
       "      <td>0.316480</td>\n",
       "      <td>Adeno</td>\n",
       "    </tr>\n",
       "    <tr>\n",
       "      <th>16</th>\n",
       "      <td>-1.189755</td>\n",
       "      <td>-0.992424</td>\n",
       "      <td>Squamous</td>\n",
       "    </tr>\n",
       "    <tr>\n",
       "      <th>17</th>\n",
       "      <td>-1.001756</td>\n",
       "      <td>-2.823783</td>\n",
       "      <td>Squamous</td>\n",
       "    </tr>\n",
       "    <tr>\n",
       "      <th>18</th>\n",
       "      <td>2.261942</td>\n",
       "      <td>0.324935</td>\n",
       "      <td>Adeno</td>\n",
       "    </tr>\n",
       "    <tr>\n",
       "      <th>19</th>\n",
       "      <td>-0.295628</td>\n",
       "      <td>-1.504571</td>\n",
       "      <td>Squamous</td>\n",
       "    </tr>\n",
       "    <tr>\n",
       "      <th>20</th>\n",
       "      <td>-3.027506</td>\n",
       "      <td>1.271714</td>\n",
       "      <td>Squamous</td>\n",
       "    </tr>\n",
       "    <tr>\n",
       "      <th>21</th>\n",
       "      <td>0.765827</td>\n",
       "      <td>2.164482</td>\n",
       "      <td>Squamous</td>\n",
       "    </tr>\n",
       "    <tr>\n",
       "      <th>22</th>\n",
       "      <td>-0.020827</td>\n",
       "      <td>2.002198</td>\n",
       "      <td>Squamous</td>\n",
       "    </tr>\n",
       "    <tr>\n",
       "      <th>23</th>\n",
       "      <td>-0.504834</td>\n",
       "      <td>-0.691495</td>\n",
       "      <td>Squamous</td>\n",
       "    </tr>\n",
       "    <tr>\n",
       "      <th>24</th>\n",
       "      <td>-1.352928</td>\n",
       "      <td>-0.998610</td>\n",
       "      <td>Squamous</td>\n",
       "    </tr>\n",
       "    <tr>\n",
       "      <th>25</th>\n",
       "      <td>2.974951</td>\n",
       "      <td>-0.527671</td>\n",
       "      <td>Adeno</td>\n",
       "    </tr>\n",
       "    <tr>\n",
       "      <th>26</th>\n",
       "      <td>1.935751</td>\n",
       "      <td>0.526884</td>\n",
       "      <td>Adeno</td>\n",
       "    </tr>\n",
       "    <tr>\n",
       "      <th>27</th>\n",
       "      <td>2.607522</td>\n",
       "      <td>0.833707</td>\n",
       "      <td>Squamous</td>\n",
       "    </tr>\n",
       "    <tr>\n",
       "      <th>28</th>\n",
       "      <td>1.342908</td>\n",
       "      <td>0.411111</td>\n",
       "      <td>Adeno</td>\n",
       "    </tr>\n",
       "    <tr>\n",
       "      <th>29</th>\n",
       "      <td>-1.741893</td>\n",
       "      <td>-1.245295</td>\n",
       "      <td>Squamous</td>\n",
       "    </tr>\n",
       "    <tr>\n",
       "      <th>...</th>\n",
       "      <td>...</td>\n",
       "      <td>...</td>\n",
       "      <td>...</td>\n",
       "    </tr>\n",
       "    <tr>\n",
       "      <th>52</th>\n",
       "      <td>0.046454</td>\n",
       "      <td>0.173948</td>\n",
       "      <td>Squamous</td>\n",
       "    </tr>\n",
       "    <tr>\n",
       "      <th>53</th>\n",
       "      <td>3.189202</td>\n",
       "      <td>0.687873</td>\n",
       "      <td>Squamous</td>\n",
       "    </tr>\n",
       "    <tr>\n",
       "      <th>54</th>\n",
       "      <td>0.823793</td>\n",
       "      <td>1.554537</td>\n",
       "      <td>Squamous</td>\n",
       "    </tr>\n",
       "    <tr>\n",
       "      <th>55</th>\n",
       "      <td>-1.296218</td>\n",
       "      <td>0.019671</td>\n",
       "      <td>Squamous</td>\n",
       "    </tr>\n",
       "    <tr>\n",
       "      <th>56</th>\n",
       "      <td>1.499784</td>\n",
       "      <td>1.239584</td>\n",
       "      <td>Adeno</td>\n",
       "    </tr>\n",
       "    <tr>\n",
       "      <th>57</th>\n",
       "      <td>-1.956281</td>\n",
       "      <td>0.047905</td>\n",
       "      <td>Squamous</td>\n",
       "    </tr>\n",
       "    <tr>\n",
       "      <th>58</th>\n",
       "      <td>1.574577</td>\n",
       "      <td>2.685742</td>\n",
       "      <td>Squamous</td>\n",
       "    </tr>\n",
       "    <tr>\n",
       "      <th>59</th>\n",
       "      <td>-1.050436</td>\n",
       "      <td>1.327010</td>\n",
       "      <td>Squamous</td>\n",
       "    </tr>\n",
       "    <tr>\n",
       "      <th>60</th>\n",
       "      <td>-0.781929</td>\n",
       "      <td>-1.494915</td>\n",
       "      <td>Squamous</td>\n",
       "    </tr>\n",
       "    <tr>\n",
       "      <th>61</th>\n",
       "      <td>-0.941839</td>\n",
       "      <td>1.892197</td>\n",
       "      <td>Squamous</td>\n",
       "    </tr>\n",
       "    <tr>\n",
       "      <th>62</th>\n",
       "      <td>-1.990950</td>\n",
       "      <td>2.370268</td>\n",
       "      <td>Squamous</td>\n",
       "    </tr>\n",
       "    <tr>\n",
       "      <th>63</th>\n",
       "      <td>1.474503</td>\n",
       "      <td>-0.155924</td>\n",
       "      <td>Squamous</td>\n",
       "    </tr>\n",
       "    <tr>\n",
       "      <th>64</th>\n",
       "      <td>-0.339950</td>\n",
       "      <td>0.395766</td>\n",
       "      <td>Squamous</td>\n",
       "    </tr>\n",
       "    <tr>\n",
       "      <th>65</th>\n",
       "      <td>2.619845</td>\n",
       "      <td>1.768204</td>\n",
       "      <td>Adeno</td>\n",
       "    </tr>\n",
       "    <tr>\n",
       "      <th>66</th>\n",
       "      <td>-2.570520</td>\n",
       "      <td>-2.388214</td>\n",
       "      <td>Squamous</td>\n",
       "    </tr>\n",
       "    <tr>\n",
       "      <th>67</th>\n",
       "      <td>-1.649441</td>\n",
       "      <td>1.642656</td>\n",
       "      <td>Squamous</td>\n",
       "    </tr>\n",
       "    <tr>\n",
       "      <th>68</th>\n",
       "      <td>1.071336</td>\n",
       "      <td>-0.259841</td>\n",
       "      <td>Squamous</td>\n",
       "    </tr>\n",
       "    <tr>\n",
       "      <th>69</th>\n",
       "      <td>1.151412</td>\n",
       "      <td>0.265848</td>\n",
       "      <td>Adeno</td>\n",
       "    </tr>\n",
       "    <tr>\n",
       "      <th>70</th>\n",
       "      <td>-2.902016</td>\n",
       "      <td>-1.105943</td>\n",
       "      <td>Squamous</td>\n",
       "    </tr>\n",
       "    <tr>\n",
       "      <th>71</th>\n",
       "      <td>-2.458340</td>\n",
       "      <td>-2.020897</td>\n",
       "      <td>Squamous</td>\n",
       "    </tr>\n",
       "    <tr>\n",
       "      <th>72</th>\n",
       "      <td>2.462964</td>\n",
       "      <td>1.515533</td>\n",
       "      <td>Adeno</td>\n",
       "    </tr>\n",
       "    <tr>\n",
       "      <th>73</th>\n",
       "      <td>0.192180</td>\n",
       "      <td>-2.262930</td>\n",
       "      <td>Squamous</td>\n",
       "    </tr>\n",
       "    <tr>\n",
       "      <th>74</th>\n",
       "      <td>1.063886</td>\n",
       "      <td>0.489557</td>\n",
       "      <td>Adeno</td>\n",
       "    </tr>\n",
       "    <tr>\n",
       "      <th>75</th>\n",
       "      <td>-1.944025</td>\n",
       "      <td>2.471141</td>\n",
       "      <td>Squamous</td>\n",
       "    </tr>\n",
       "    <tr>\n",
       "      <th>76</th>\n",
       "      <td>2.783802</td>\n",
       "      <td>-0.642534</td>\n",
       "      <td>Adeno</td>\n",
       "    </tr>\n",
       "    <tr>\n",
       "      <th>77</th>\n",
       "      <td>2.168445</td>\n",
       "      <td>-0.352176</td>\n",
       "      <td>Adeno</td>\n",
       "    </tr>\n",
       "    <tr>\n",
       "      <th>78</th>\n",
       "      <td>-1.158030</td>\n",
       "      <td>-0.305988</td>\n",
       "      <td>Squamous</td>\n",
       "    </tr>\n",
       "    <tr>\n",
       "      <th>79</th>\n",
       "      <td>-0.058637</td>\n",
       "      <td>-0.715491</td>\n",
       "      <td>Squamous</td>\n",
       "    </tr>\n",
       "    <tr>\n",
       "      <th>80</th>\n",
       "      <td>0.498664</td>\n",
       "      <td>-1.794096</td>\n",
       "      <td>Squamous</td>\n",
       "    </tr>\n",
       "    <tr>\n",
       "      <th>81</th>\n",
       "      <td>-2.164258</td>\n",
       "      <td>-2.088228</td>\n",
       "      <td>Squamous</td>\n",
       "    </tr>\n",
       "  </tbody>\n",
       "</table>\n",
       "<p>82 rows × 3 columns</p>\n",
       "</div>"
      ],
      "text/plain": [
       "           x         y putative_Histology\n",
       "0  -0.735339 -0.240601           Squamous\n",
       "1  -1.285389  0.924262           Squamous\n",
       "2   0.382438 -0.497136           Squamous\n",
       "3  -0.832637  1.171645           Squamous\n",
       "4   0.945405  0.102200              Adeno\n",
       "5   0.615101  1.018947           Squamous\n",
       "6  -1.212246 -0.873216           Squamous\n",
       "7   2.316352 -1.994298           Squamous\n",
       "8  -1.186949 -1.401019           Squamous\n",
       "9   1.105395  0.182886              Adeno\n",
       "10 -1.681278  0.227714           Squamous\n",
       "11  1.134300 -0.136937           Squamous\n",
       "12  0.014053 -0.349666           Squamous\n",
       "13 -2.020542  0.278758           Squamous\n",
       "14 -0.143415  0.096896           Squamous\n",
       "15  1.205901  0.316480              Adeno\n",
       "16 -1.189755 -0.992424           Squamous\n",
       "17 -1.001756 -2.823783           Squamous\n",
       "18  2.261942  0.324935              Adeno\n",
       "19 -0.295628 -1.504571           Squamous\n",
       "20 -3.027506  1.271714           Squamous\n",
       "21  0.765827  2.164482           Squamous\n",
       "22 -0.020827  2.002198           Squamous\n",
       "23 -0.504834 -0.691495           Squamous\n",
       "24 -1.352928 -0.998610           Squamous\n",
       "25  2.974951 -0.527671              Adeno\n",
       "26  1.935751  0.526884              Adeno\n",
       "27  2.607522  0.833707           Squamous\n",
       "28  1.342908  0.411111              Adeno\n",
       "29 -1.741893 -1.245295           Squamous\n",
       "..       ...       ...                ...\n",
       "52  0.046454  0.173948           Squamous\n",
       "53  3.189202  0.687873           Squamous\n",
       "54  0.823793  1.554537           Squamous\n",
       "55 -1.296218  0.019671           Squamous\n",
       "56  1.499784  1.239584              Adeno\n",
       "57 -1.956281  0.047905           Squamous\n",
       "58  1.574577  2.685742           Squamous\n",
       "59 -1.050436  1.327010           Squamous\n",
       "60 -0.781929 -1.494915           Squamous\n",
       "61 -0.941839  1.892197           Squamous\n",
       "62 -1.990950  2.370268           Squamous\n",
       "63  1.474503 -0.155924           Squamous\n",
       "64 -0.339950  0.395766           Squamous\n",
       "65  2.619845  1.768204              Adeno\n",
       "66 -2.570520 -2.388214           Squamous\n",
       "67 -1.649441  1.642656           Squamous\n",
       "68  1.071336 -0.259841           Squamous\n",
       "69  1.151412  0.265848              Adeno\n",
       "70 -2.902016 -1.105943           Squamous\n",
       "71 -2.458340 -2.020897           Squamous\n",
       "72  2.462964  1.515533              Adeno\n",
       "73  0.192180 -2.262930           Squamous\n",
       "74  1.063886  0.489557              Adeno\n",
       "75 -1.944025  2.471141           Squamous\n",
       "76  2.783802 -0.642534              Adeno\n",
       "77  2.168445 -0.352176              Adeno\n",
       "78 -1.158030 -0.305988           Squamous\n",
       "79 -0.058637 -0.715491           Squamous\n",
       "80  0.498664 -1.794096           Squamous\n",
       "81 -2.164258 -2.088228           Squamous\n",
       "\n",
       "[82 rows x 3 columns]"
      ]
     },
     "execution_count": 348,
     "metadata": {},
     "output_type": "execute_result"
    }
   ],
   "source": [
    "reduced_df"
   ]
  }
 ],
 "metadata": {
  "kernelspec": {
   "display_name": "Python 2",
   "language": "python",
   "name": "python2"
  },
  "language_info": {
   "codemirror_mode": {
    "name": "ipython",
    "version": 2
   },
   "file_extension": ".py",
   "mimetype": "text/x-python",
   "name": "python",
   "nbconvert_exporter": "python",
   "pygments_lexer": "ipython2",
   "version": "2.7.12"
  }
 },
 "nbformat": 4,
 "nbformat_minor": 0
}
