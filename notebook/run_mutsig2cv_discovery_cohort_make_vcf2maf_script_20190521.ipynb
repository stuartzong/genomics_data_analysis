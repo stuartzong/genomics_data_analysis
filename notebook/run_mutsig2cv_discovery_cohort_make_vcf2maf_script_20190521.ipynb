{
 "cells": [
  {
   "cell_type": "code",
   "execution_count": 31,
   "metadata": {},
   "outputs": [
    {
     "name": "stderr",
     "output_type": "stream",
     "text": [
      "\u001b[37mDEBUG:matplotlib.backends:backend module://ipykernel.pylab.backend_inline version unknown\u001b[0m\n"
     ]
    }
   ],
   "source": [
    "import matplotlib\n",
    "import csv\n",
    "import numpy as np\n",
    "import pandas as pd\n",
    "import seaborn as sns\n",
    "import matplotlib.pyplot as plt\n",
    "from matplotlib import style, colors\n",
    "from matplotlib import gridspec\n",
    "\n",
    "matplotlib.style.use('ggplot')\n",
    "%matplotlib inline\n",
    "matplotlib.rcParams['figure.figsize'] = (8, 6)\n",
    "from IPython.core.interactiveshell import InteractiveShell\n",
    "InteractiveShell.ast_node_interactivity = \"all\""
   ]
  },
  {
   "cell_type": "markdown",
   "metadata": {},
   "source": [
    "### snv and indel vcf files"
   ]
  },
  {
   "cell_type": "code",
   "execution_count": 36,
   "metadata": {},
   "outputs": [
    {
     "data": {
      "text/plain": [
       "(124, 3)"
      ]
     },
     "execution_count": 36,
     "metadata": {},
     "output_type": "execute_result"
    },
    {
     "data": {
      "text/html": [
       "<div>\n",
       "<style scoped>\n",
       "    .dataframe tbody tr th:only-of-type {\n",
       "        vertical-align: middle;\n",
       "    }\n",
       "\n",
       "    .dataframe tbody tr th {\n",
       "        vertical-align: top;\n",
       "    }\n",
       "\n",
       "    .dataframe thead th {\n",
       "        text-align: right;\n",
       "    }\n",
       "</style>\n",
       "<table border=\"1\" class=\"dataframe\">\n",
       "  <thead>\n",
       "    <tr style=\"text-align: right;\">\n",
       "      <th></th>\n",
       "      <th>patient</th>\n",
       "      <th>strelka_indel_vcf</th>\n",
       "      <th>strelka_snv_vcf</th>\n",
       "    </tr>\n",
       "  </thead>\n",
       "  <tbody>\n",
       "    <tr>\n",
       "      <th>0</th>\n",
       "      <td>HTMCP-03-06-02001</td>\n",
       "      <td>/projects/somatic/NCI_SAIC_HIV_Cervical/HTMCP-...</td>\n",
       "      <td>/projects/somatic/NCI_SAIC_HIV_Cervical/HTMCP-...</td>\n",
       "    </tr>\n",
       "    <tr>\n",
       "      <th>1</th>\n",
       "      <td>HTMCP-03-06-02002</td>\n",
       "      <td>/projects/somatic/NCI_SAIC_HIV_Cervical/HTMCP-...</td>\n",
       "      <td>/projects/somatic/NCI_SAIC_HIV_Cervical/HTMCP-...</td>\n",
       "    </tr>\n",
       "  </tbody>\n",
       "</table>\n",
       "</div>"
      ],
      "text/plain": [
       "             patient                                  strelka_indel_vcf  \\\n",
       "0  HTMCP-03-06-02001  /projects/somatic/NCI_SAIC_HIV_Cervical/HTMCP-...   \n",
       "1  HTMCP-03-06-02002  /projects/somatic/NCI_SAIC_HIV_Cervical/HTMCP-...   \n",
       "\n",
       "                                     strelka_snv_vcf  \n",
       "0  /projects/somatic/NCI_SAIC_HIV_Cervical/HTMCP-...  \n",
       "1  /projects/somatic/NCI_SAIC_HIV_Cervical/HTMCP-...  "
      ]
     },
     "execution_count": 36,
     "metadata": {},
     "output_type": "execute_result"
    }
   ],
   "source": [
    "f = '/projects/trans_scratch/validations/workspace/szong/Cervical/variant_bwamem/124_patients_new/124_patients_bam_vcf_20190115.csv'\n",
    "df = pd.read_csv(f, usecols=['patient','status', 'strelka_snv_vcf', 'strelka_indel_vcf'])\n",
    "df = df[df.status == 'Malignant']\n",
    "df.drop('status', axis=1, inplace=True)\n",
    "df.shape\n",
    "df.head(2)"
   ]
  },
  {
   "cell_type": "code",
   "execution_count": 37,
   "metadata": {},
   "outputs": [
    {
     "data": {
      "text/plain": [
       "'/projects/somatic/NCI_SAIC_HIV_Cervical/HTMCP-03-06-02001/hg19a/GSH/A37234_A37159/strelka/59844/bwa/results/passed.somatic.indels.eff.dbSNP_v149.cosmic_v82.clinvar_20170801.annotations.classic.vcf'"
      ]
     },
     "execution_count": 37,
     "metadata": {},
     "output_type": "execute_result"
    }
   ],
   "source": [
    "df['strelka_indel_vcf'][0]"
   ]
  },
  {
   "cell_type": "code",
   "execution_count": 38,
   "metadata": {},
   "outputs": [
    {
     "data": {
      "text/html": [
       "<div>\n",
       "<style scoped>\n",
       "    .dataframe tbody tr th:only-of-type {\n",
       "        vertical-align: middle;\n",
       "    }\n",
       "\n",
       "    .dataframe tbody tr th {\n",
       "        vertical-align: top;\n",
       "    }\n",
       "\n",
       "    .dataframe thead th {\n",
       "        text-align: right;\n",
       "    }\n",
       "</style>\n",
       "<table border=\"1\" class=\"dataframe\">\n",
       "  <thead>\n",
       "    <tr style=\"text-align: right;\">\n",
       "      <th></th>\n",
       "      <th>patient</th>\n",
       "    </tr>\n",
       "  </thead>\n",
       "  <tbody>\n",
       "    <tr>\n",
       "      <th>0</th>\n",
       "      <td>HTMCP-03-06-02001</td>\n",
       "    </tr>\n",
       "    <tr>\n",
       "      <th>1</th>\n",
       "      <td>HTMCP-03-06-02002</td>\n",
       "    </tr>\n",
       "    <tr>\n",
       "      <th>2</th>\n",
       "      <td>HTMCP-03-06-02003</td>\n",
       "    </tr>\n",
       "    <tr>\n",
       "      <th>3</th>\n",
       "      <td>HTMCP-03-06-02006</td>\n",
       "    </tr>\n",
       "    <tr>\n",
       "      <th>4</th>\n",
       "      <td>HTMCP-03-06-02008</td>\n",
       "    </tr>\n",
       "  </tbody>\n",
       "</table>\n",
       "</div>"
      ],
      "text/plain": [
       "             patient\n",
       "0  HTMCP-03-06-02001\n",
       "1  HTMCP-03-06-02002\n",
       "2  HTMCP-03-06-02003\n",
       "3  HTMCP-03-06-02006\n",
       "4  HTMCP-03-06-02008"
      ]
     },
     "execution_count": 38,
     "metadata": {},
     "output_type": "execute_result"
    },
    {
     "data": {
      "text/plain": [
       "(118, 1)"
      ]
     },
     "execution_count": 38,
     "metadata": {},
     "output_type": "execute_result"
    },
    {
     "data": {
      "text/plain": [
       "0    HTMCP-03-06-02001\n",
       "1    HTMCP-03-06-02002\n",
       "Name: patient, dtype: object"
      ]
     },
     "execution_count": 38,
     "metadata": {},
     "output_type": "execute_result"
    }
   ],
   "source": [
    "f = '/projects/trans_scratch/validations/workspace/szong/Cervical/mutsig2cv/118_patients.txt'\n",
    "df1 = pd.read_csv(f,header=None)\n",
    "df1.columns = ['patient']\n",
    "df1.head()\n",
    "df1.shape\n",
    "patients = df1['patient']\n",
    "patients[:2]"
   ]
  },
  {
   "cell_type": "code",
   "execution_count": 39,
   "metadata": {},
   "outputs": [
    {
     "data": {
      "text/plain": [
       "(118, 3)"
      ]
     },
     "execution_count": 39,
     "metadata": {},
     "output_type": "execute_result"
    }
   ],
   "source": [
    "df = df[df.patient.isin(patients)]\n",
    "df.columns = ['patient', 'indels', 'snvs']\n",
    "df.shape"
   ]
  },
  {
   "cell_type": "code",
   "execution_count": 40,
   "metadata": {},
   "outputs": [
    {
     "data": {
      "text/html": [
       "<div>\n",
       "<style scoped>\n",
       "    .dataframe tbody tr th:only-of-type {\n",
       "        vertical-align: middle;\n",
       "    }\n",
       "\n",
       "    .dataframe tbody tr th {\n",
       "        vertical-align: top;\n",
       "    }\n",
       "\n",
       "    .dataframe thead th {\n",
       "        text-align: right;\n",
       "    }\n",
       "</style>\n",
       "<table border=\"1\" class=\"dataframe\">\n",
       "  <thead>\n",
       "    <tr style=\"text-align: right;\">\n",
       "      <th></th>\n",
       "      <th>patient</th>\n",
       "      <th>indels</th>\n",
       "      <th>snvs</th>\n",
       "    </tr>\n",
       "  </thead>\n",
       "  <tbody>\n",
       "    <tr>\n",
       "      <th>0</th>\n",
       "      <td>HTMCP-03-06-02001</td>\n",
       "      <td>/projects/somatic/NCI_SAIC_HIV_Cervical/HTMCP-...</td>\n",
       "      <td>/projects/somatic/NCI_SAIC_HIV_Cervical/HTMCP-...</td>\n",
       "    </tr>\n",
       "    <tr>\n",
       "      <th>1</th>\n",
       "      <td>HTMCP-03-06-02002</td>\n",
       "      <td>/projects/somatic/NCI_SAIC_HIV_Cervical/HTMCP-...</td>\n",
       "      <td>/projects/somatic/NCI_SAIC_HIV_Cervical/HTMCP-...</td>\n",
       "    </tr>\n",
       "  </tbody>\n",
       "</table>\n",
       "</div>"
      ],
      "text/plain": [
       "             patient                                             indels  \\\n",
       "0  HTMCP-03-06-02001  /projects/somatic/NCI_SAIC_HIV_Cervical/HTMCP-...   \n",
       "1  HTMCP-03-06-02002  /projects/somatic/NCI_SAIC_HIV_Cervical/HTMCP-...   \n",
       "\n",
       "                                                snvs  \n",
       "0  /projects/somatic/NCI_SAIC_HIV_Cervical/HTMCP-...  \n",
       "1  /projects/somatic/NCI_SAIC_HIV_Cervical/HTMCP-...  "
      ]
     },
     "execution_count": 40,
     "metadata": {},
     "output_type": "execute_result"
    }
   ],
   "source": [
    "df.head(2)"
   ]
  },
  {
   "cell_type": "markdown",
   "metadata": {},
   "source": [
    "### template vcf2maf scripts"
   ]
  },
  {
   "cell_type": "code",
   "execution_count": 41,
   "metadata": {},
   "outputs": [],
   "source": [
    "from jinja2 import Environment, FileSystemLoader\n",
    "import logging\n",
    "import colorlog\n",
    "\n",
    "logger = colorlog.getLogger()\n",
    "logger.setLevel(logging.DEBUG)\n",
    "handler = logging.StreamHandler()\n",
    "handler.setLevel(logging.DEBUG)\n",
    "handler.setFormatter(\n",
    "    colorlog.ColoredFormatter('%(log_color)s%(levelname)s:%(name)s:%(message)s'))\n",
    "logger.addHandler(handler)\n"
   ]
  },
  {
   "cell_type": "code",
   "execution_count": 42,
   "metadata": {},
   "outputs": [],
   "source": [
    "template_dir = '/projects/trans_scratch/validations/workspace/szong/Cervical/mutsig2cv/'\n",
    "template_file_name = 'vcf2maf_template_discovery.txt'\n",
    "out_maf_path = '/projects/trans_scratch/validations/workspace/szong/Cervical/mutsig2cv/118_patients/'"
   ]
  },
  {
   "cell_type": "code",
   "execution_count": 43,
   "metadata": {},
   "outputs": [],
   "source": [
    "def populate_template(patient, input_vcf, output_maf, \n",
    "                      template_dir, template_file_name, templated_file_name):\n",
    "    jinja2_env = Environment(loader=FileSystemLoader([template_dir]),\n",
    "                             trim_blocks=True)\n",
    "    template = jinja2_env.get_template(template_file_name)\n",
    "    with open(templated_file_name, 'w') as opf:\n",
    "        content = template.render(patient = patient,\n",
    "                                  input_vcf = input_vcf,\n",
    "                                  output_maf = output_maf)\n",
    "        opf.write(content)\n",
    "        logger.info('templated {0}'.format(templated_file_name))\n",
    "    return template_file_name\n"
   ]
  },
  {
   "cell_type": "code",
   "execution_count": 45,
   "metadata": {},
   "outputs": [
    {
     "name": "stderr",
     "output_type": "stream",
     "text": [
      "\u001b[32mINFO:root:templated /projects/trans_scratch/validations/workspace/szong/Cervical/mutsig2cv/118_patients/vcf2maf_scripts/HTMCP-03-06-02001.snvs.sh\u001b[0m\n",
      "\u001b[32mINFO:root:templated /projects/trans_scratch/validations/workspace/szong/Cervical/mutsig2cv/118_patients/vcf2maf_scripts/HTMCP-03-06-02001.snvs.sh\u001b[0m\n"
     ]
    },
    {
     "name": "stdout",
     "output_type": "stream",
     "text": [
      "processing snvs\n",
      "/projects/somatic/NCI_SAIC_HIV_Cervical/HTMCP-03-06-02001/hg19a/GSH/A37234_A37159/strelka/59844/bwa/results/passed.somatic.snvs.eff.dbSNP_v149.cosmic_v82.clinvar_20170801.annotations.classic.vcf\n"
     ]
    },
    {
     "data": {
      "text/plain": [
       "'vcf2maf_template_discovery.txt'"
      ]
     },
     "execution_count": 45,
     "metadata": {},
     "output_type": "execute_result"
    },
    {
     "name": "stderr",
     "output_type": "stream",
     "text": [
      "\u001b[32mINFO:root:templated /projects/trans_scratch/validations/workspace/szong/Cervical/mutsig2cv/118_patients/vcf2maf_scripts/HTMCP-03-06-02002.snvs.sh\u001b[0m\n",
      "\u001b[32mINFO:root:templated /projects/trans_scratch/validations/workspace/szong/Cervical/mutsig2cv/118_patients/vcf2maf_scripts/HTMCP-03-06-02002.snvs.sh\u001b[0m\n"
     ]
    },
    {
     "name": "stdout",
     "output_type": "stream",
     "text": [
      "/projects/somatic/NCI_SAIC_HIV_Cervical/HTMCP-03-06-02002/hg19a/GSH/A37235_A37160/strelka/59848/bwa/results/passed.somatic.snvs.eff.dbSNP_v149.cosmic_v82.clinvar_20170801.annotations.classic.vcf\n"
     ]
    },
    {
     "data": {
      "text/plain": [
       "'vcf2maf_template_discovery.txt'"
      ]
     },
     "execution_count": 45,
     "metadata": {},
     "output_type": "execute_result"
    },
    {
     "name": "stderr",
     "output_type": "stream",
     "text": [
      "\u001b[32mINFO:root:templated /projects/trans_scratch/validations/workspace/szong/Cervical/mutsig2cv/118_patients/vcf2maf_scripts/HTMCP-03-06-02003.snvs.sh\u001b[0m\n",
      "\u001b[32mINFO:root:templated /projects/trans_scratch/validations/workspace/szong/Cervical/mutsig2cv/118_patients/vcf2maf_scripts/HTMCP-03-06-02003.snvs.sh\u001b[0m\n"
     ]
    },
    {
     "name": "stdout",
     "output_type": "stream",
     "text": [
      "/projects/somatic/NCI_SAIC_HIV_Cervical/HTMCP-03-06-02003/hg19a/GSH/A37236_A37161/strelka/59851/bwa/results/passed.somatic.snvs.eff.dbSNP_v149.cosmic_v82.clinvar_20170801.annotations.classic.vcf\n"
     ]
    },
    {
     "data": {
      "text/plain": [
       "'vcf2maf_template_discovery.txt'"
      ]
     },
     "execution_count": 45,
     "metadata": {},
     "output_type": "execute_result"
    },
    {
     "name": "stderr",
     "output_type": "stream",
     "text": [
      "\u001b[32mINFO:root:templated /projects/trans_scratch/validations/workspace/szong/Cervical/mutsig2cv/118_patients/vcf2maf_scripts/HTMCP-03-06-02006.snvs.sh\u001b[0m\n",
      "\u001b[32mINFO:root:templated /projects/trans_scratch/validations/workspace/szong/Cervical/mutsig2cv/118_patients/vcf2maf_scripts/HTMCP-03-06-02006.snvs.sh\u001b[0m\n"
     ]
    },
    {
     "name": "stdout",
     "output_type": "stream",
     "text": [
      "/projects/somatic/NCI_SAIC_HIV_Cervical/HTMCP-03-06-02006/hg19a/GSH/A37239_A37164/strelka/59855/bwa/results/passed.somatic.snvs.eff.dbSNP_v149.cosmic_v82.clinvar_20170801.annotations.classic.vcf\n"
     ]
    },
    {
     "data": {
      "text/plain": [
       "'vcf2maf_template_discovery.txt'"
      ]
     },
     "execution_count": 45,
     "metadata": {},
     "output_type": "execute_result"
    },
    {
     "name": "stderr",
     "output_type": "stream",
     "text": [
      "\u001b[32mINFO:root:templated /projects/trans_scratch/validations/workspace/szong/Cervical/mutsig2cv/118_patients/vcf2maf_scripts/HTMCP-03-06-02008.snvs.sh\u001b[0m\n",
      "\u001b[32mINFO:root:templated /projects/trans_scratch/validations/workspace/szong/Cervical/mutsig2cv/118_patients/vcf2maf_scripts/HTMCP-03-06-02008.snvs.sh\u001b[0m\n"
     ]
    },
    {
     "name": "stdout",
     "output_type": "stream",
     "text": [
      "/projects/somatic/NCI_SAIC_HIV_Cervical/HTMCP-03-06-02008/hg19a/GSH/A37241_A37166/strelka/59861/bwa/results/passed.somatic.snvs.eff.dbSNP_v149.cosmic_v82.clinvar_20170801.annotations.classic.vcf\n"
     ]
    },
    {
     "data": {
      "text/plain": [
       "'vcf2maf_template_discovery.txt'"
      ]
     },
     "execution_count": 45,
     "metadata": {},
     "output_type": "execute_result"
    },
    {
     "name": "stderr",
     "output_type": "stream",
     "text": [
      "\u001b[32mINFO:root:templated /projects/trans_scratch/validations/workspace/szong/Cervical/mutsig2cv/118_patients/vcf2maf_scripts/HTMCP-03-06-02012.snvs.sh\u001b[0m\n",
      "\u001b[32mINFO:root:templated /projects/trans_scratch/validations/workspace/szong/Cervical/mutsig2cv/118_patients/vcf2maf_scripts/HTMCP-03-06-02012.snvs.sh\u001b[0m\n"
     ]
    },
    {
     "name": "stdout",
     "output_type": "stream",
     "text": [
      "/projects/somatic/NCI_SAIC_HIV_Cervical/HTMCP-03-06-02012/hg19a/GSH/A37243_A37168/strelka/59863/bwa/results/passed.somatic.snvs.eff.dbSNP_v149.cosmic_v82.clinvar_20170801.annotations.classic.vcf\n"
     ]
    },
    {
     "data": {
      "text/plain": [
       "'vcf2maf_template_discovery.txt'"
      ]
     },
     "execution_count": 45,
     "metadata": {},
     "output_type": "execute_result"
    },
    {
     "name": "stderr",
     "output_type": "stream",
     "text": [
      "\u001b[32mINFO:root:templated /projects/trans_scratch/validations/workspace/szong/Cervical/mutsig2cv/118_patients/vcf2maf_scripts/HTMCP-03-06-02013.snvs.sh\u001b[0m\n",
      "\u001b[32mINFO:root:templated /projects/trans_scratch/validations/workspace/szong/Cervical/mutsig2cv/118_patients/vcf2maf_scripts/HTMCP-03-06-02013.snvs.sh\u001b[0m\n"
     ]
    },
    {
     "name": "stdout",
     "output_type": "stream",
     "text": [
      "/projects/somatic/NCI_SAIC_HIV_Cervical/HTMCP-03-06-02013/hg19a/GSH/A37244_A37169/strelka/59866/bwa/results/passed.somatic.snvs.eff.dbSNP_v149.cosmic_v82.clinvar_20170801.annotations.classic.vcf\n"
     ]
    },
    {
     "data": {
      "text/plain": [
       "'vcf2maf_template_discovery.txt'"
      ]
     },
     "execution_count": 45,
     "metadata": {},
     "output_type": "execute_result"
    },
    {
     "name": "stderr",
     "output_type": "stream",
     "text": [
      "\u001b[32mINFO:root:templated /projects/trans_scratch/validations/workspace/szong/Cervical/mutsig2cv/118_patients/vcf2maf_scripts/HTMCP-03-06-02020.snvs.sh\u001b[0m\n",
      "\u001b[32mINFO:root:templated /projects/trans_scratch/validations/workspace/szong/Cervical/mutsig2cv/118_patients/vcf2maf_scripts/HTMCP-03-06-02020.snvs.sh\u001b[0m\n"
     ]
    },
    {
     "name": "stdout",
     "output_type": "stream",
     "text": [
      "/projects/somatic/NCI_SAIC_HIV_Cervical/HTMCP-03-06-02020/hg19a/GSH/A37247_A56468/strelka/59869/bwa/results/passed.somatic.snvs.eff.dbSNP_v149.cosmic_v82.clinvar_20170801.annotations.classic.vcf\n"
     ]
    },
    {
     "data": {
      "text/plain": [
       "'vcf2maf_template_discovery.txt'"
      ]
     },
     "execution_count": 45,
     "metadata": {},
     "output_type": "execute_result"
    },
    {
     "name": "stderr",
     "output_type": "stream",
     "text": [
      "\u001b[32mINFO:root:templated /projects/trans_scratch/validations/workspace/szong/Cervical/mutsig2cv/118_patients/vcf2maf_scripts/HTMCP-03-06-02036.snvs.sh\u001b[0m\n",
      "\u001b[32mINFO:root:templated /projects/trans_scratch/validations/workspace/szong/Cervical/mutsig2cv/118_patients/vcf2maf_scripts/HTMCP-03-06-02036.snvs.sh\u001b[0m\n"
     ]
    },
    {
     "name": "stdout",
     "output_type": "stream",
     "text": [
      "/projects/somatic/NCI_SAIC_HIV_Cervical/HTMCP-03-06-02036/hg19a/GSH/A37252_A37179/strelka/59874/bwa/results/passed.somatic.snvs.eff.dbSNP_v149.cosmic_v82.clinvar_20170801.annotations.classic.vcf\n"
     ]
    },
    {
     "data": {
      "text/plain": [
       "'vcf2maf_template_discovery.txt'"
      ]
     },
     "execution_count": 45,
     "metadata": {},
     "output_type": "execute_result"
    },
    {
     "name": "stderr",
     "output_type": "stream",
     "text": [
      "\u001b[32mINFO:root:templated /projects/trans_scratch/validations/workspace/szong/Cervical/mutsig2cv/118_patients/vcf2maf_scripts/HTMCP-03-06-02037.snvs.sh\u001b[0m\n",
      "\u001b[32mINFO:root:templated /projects/trans_scratch/validations/workspace/szong/Cervical/mutsig2cv/118_patients/vcf2maf_scripts/HTMCP-03-06-02037.snvs.sh\u001b[0m\n"
     ]
    },
    {
     "name": "stdout",
     "output_type": "stream",
     "text": [
      "/projects/somatic/NCI_SAIC_HIV_Cervical/HTMCP-03-06-02037/hg19a/GSH/A37253_A37180/strelka/59877/bwa/results/passed.somatic.snvs.eff.dbSNP_v149.cosmic_v82.clinvar_20170801.annotations.classic.vcf\n"
     ]
    },
    {
     "data": {
      "text/plain": [
       "'vcf2maf_template_discovery.txt'"
      ]
     },
     "execution_count": 45,
     "metadata": {},
     "output_type": "execute_result"
    },
    {
     "name": "stderr",
     "output_type": "stream",
     "text": [
      "\u001b[32mINFO:root:templated /projects/trans_scratch/validations/workspace/szong/Cervical/mutsig2cv/118_patients/vcf2maf_scripts/HTMCP-03-06-02040.snvs.sh\u001b[0m\n",
      "\u001b[32mINFO:root:templated /projects/trans_scratch/validations/workspace/szong/Cervical/mutsig2cv/118_patients/vcf2maf_scripts/HTMCP-03-06-02040.snvs.sh\u001b[0m\n"
     ]
    },
    {
     "name": "stdout",
     "output_type": "stream",
     "text": [
      "/projects/somatic/NCI_SAIC_HIV_Cervical/HTMCP-03-06-02040/hg19a/GSH/A37254_A37181/strelka/59883/bwa/results/passed.somatic.snvs.eff.dbSNP_v149.cosmic_v82.clinvar_20170801.annotations.classic.vcf\n"
     ]
    },
    {
     "data": {
      "text/plain": [
       "'vcf2maf_template_discovery.txt'"
      ]
     },
     "execution_count": 45,
     "metadata": {},
     "output_type": "execute_result"
    },
    {
     "name": "stderr",
     "output_type": "stream",
     "text": [
      "\u001b[32mINFO:root:templated /projects/trans_scratch/validations/workspace/szong/Cervical/mutsig2cv/118_patients/vcf2maf_scripts/HTMCP-03-06-02042.snvs.sh\u001b[0m\n",
      "\u001b[32mINFO:root:templated /projects/trans_scratch/validations/workspace/szong/Cervical/mutsig2cv/118_patients/vcf2maf_scripts/HTMCP-03-06-02042.snvs.sh\u001b[0m\n"
     ]
    },
    {
     "name": "stdout",
     "output_type": "stream",
     "text": [
      "/projects/somatic/NCI_SAIC_HIV_Cervical/HTMCP-03-06-02042/hg19a/GSH/A37255_A37182/strelka/59888/bwa/results/passed.somatic.snvs.eff.dbSNP_v149.cosmic_v82.clinvar_20170801.annotations.classic.vcf\n"
     ]
    },
    {
     "data": {
      "text/plain": [
       "'vcf2maf_template_discovery.txt'"
      ]
     },
     "execution_count": 45,
     "metadata": {},
     "output_type": "execute_result"
    },
    {
     "name": "stderr",
     "output_type": "stream",
     "text": [
      "\u001b[32mINFO:root:templated /projects/trans_scratch/validations/workspace/szong/Cervical/mutsig2cv/118_patients/vcf2maf_scripts/HTMCP-03-06-02046.snvs.sh\u001b[0m\n",
      "\u001b[32mINFO:root:templated /projects/trans_scratch/validations/workspace/szong/Cervical/mutsig2cv/118_patients/vcf2maf_scripts/HTMCP-03-06-02046.snvs.sh\u001b[0m\n"
     ]
    },
    {
     "name": "stdout",
     "output_type": "stream",
     "text": [
      "/projects/somatic/NCI_SAIC_HIV_Cervical/HTMCP-03-06-02046/hg19a/GSH/A37257_A37185/strelka/59894/bwa/results/passed.somatic.snvs.eff.dbSNP_v149.cosmic_v82.clinvar_20170801.annotations.classic.vcf\n"
     ]
    },
    {
     "data": {
      "text/plain": [
       "'vcf2maf_template_discovery.txt'"
      ]
     },
     "execution_count": 45,
     "metadata": {},
     "output_type": "execute_result"
    },
    {
     "name": "stderr",
     "output_type": "stream",
     "text": [
      "\u001b[32mINFO:root:templated /projects/trans_scratch/validations/workspace/szong/Cervical/mutsig2cv/118_patients/vcf2maf_scripts/HTMCP-03-06-02047.snvs.sh\u001b[0m\n",
      "\u001b[32mINFO:root:templated /projects/trans_scratch/validations/workspace/szong/Cervical/mutsig2cv/118_patients/vcf2maf_scripts/HTMCP-03-06-02047.snvs.sh\u001b[0m\n"
     ]
    },
    {
     "name": "stdout",
     "output_type": "stream",
     "text": [
      "/projects/somatic/NCI_SAIC_HIV_Cervical/HTMCP-03-06-02047/hg19a/GSH/A37258_A37186/strelka/59900/bwa/results/passed.somatic.snvs.eff.dbSNP_v149.cosmic_v82.clinvar_20170801.annotations.classic.vcf\n"
     ]
    },
    {
     "data": {
      "text/plain": [
       "'vcf2maf_template_discovery.txt'"
      ]
     },
     "execution_count": 45,
     "metadata": {},
     "output_type": "execute_result"
    },
    {
     "name": "stdout",
     "output_type": "stream",
     "text": [
      "/projects/somatic/NCI_SAIC_HIV_Cervical/HTMCP-03-06-02054/hg19a/GSH/A37259_A37187/strelka/59902/bwa/results/passed.somatic.snvs.eff.dbSNP_v149.cosmic_v82.clinvar_20170801.annotations.classic.vcf\n"
     ]
    },
    {
     "name": "stderr",
     "output_type": "stream",
     "text": [
      "\u001b[32mINFO:root:templated /projects/trans_scratch/validations/workspace/szong/Cervical/mutsig2cv/118_patients/vcf2maf_scripts/HTMCP-03-06-02054.snvs.sh\u001b[0m\n",
      "\u001b[32mINFO:root:templated /projects/trans_scratch/validations/workspace/szong/Cervical/mutsig2cv/118_patients/vcf2maf_scripts/HTMCP-03-06-02054.snvs.sh\u001b[0m\n"
     ]
    },
    {
     "data": {
      "text/plain": [
       "'vcf2maf_template_discovery.txt'"
      ]
     },
     "execution_count": 45,
     "metadata": {},
     "output_type": "execute_result"
    },
    {
     "name": "stderr",
     "output_type": "stream",
     "text": [
      "\u001b[32mINFO:root:templated /projects/trans_scratch/validations/workspace/szong/Cervical/mutsig2cv/118_patients/vcf2maf_scripts/HTMCP-03-06-02057.snvs.sh\u001b[0m\n",
      "\u001b[32mINFO:root:templated /projects/trans_scratch/validations/workspace/szong/Cervical/mutsig2cv/118_patients/vcf2maf_scripts/HTMCP-03-06-02057.snvs.sh\u001b[0m\n"
     ]
    },
    {
     "name": "stdout",
     "output_type": "stream",
     "text": [
      "/projects/somatic/NCI_SAIC_HIV_Cervical/HTMCP-03-06-02057/hg19a/GSH/A37260_A37188/strelka/59926/bwa/results/passed.somatic.snvs.eff.dbSNP_v149.cosmic_v82.clinvar_20170801.annotations.classic.vcf\n"
     ]
    },
    {
     "data": {
      "text/plain": [
       "'vcf2maf_template_discovery.txt'"
      ]
     },
     "execution_count": 45,
     "metadata": {},
     "output_type": "execute_result"
    },
    {
     "name": "stderr",
     "output_type": "stream",
     "text": [
      "\u001b[32mINFO:root:templated /projects/trans_scratch/validations/workspace/szong/Cervical/mutsig2cv/118_patients/vcf2maf_scripts/HTMCP-03-06-02058.snvs.sh\u001b[0m\n",
      "\u001b[32mINFO:root:templated /projects/trans_scratch/validations/workspace/szong/Cervical/mutsig2cv/118_patients/vcf2maf_scripts/HTMCP-03-06-02058.snvs.sh\u001b[0m\n"
     ]
    },
    {
     "name": "stdout",
     "output_type": "stream",
     "text": [
      "/projects/somatic/NCI_SAIC_HIV_Cervical/HTMCP-03-06-02058/hg19a/GSH/A37261_A37189/strelka/59928/bwa/results/passed.somatic.snvs.eff.dbSNP_v149.cosmic_v82.clinvar_20170801.annotations.classic.vcf\n"
     ]
    },
    {
     "data": {
      "text/plain": [
       "'vcf2maf_template_discovery.txt'"
      ]
     },
     "execution_count": 45,
     "metadata": {},
     "output_type": "execute_result"
    },
    {
     "name": "stderr",
     "output_type": "stream",
     "text": [
      "\u001b[32mINFO:root:templated /projects/trans_scratch/validations/workspace/szong/Cervical/mutsig2cv/118_patients/vcf2maf_scripts/HTMCP-03-06-02109.snvs.sh\u001b[0m\n",
      "\u001b[32mINFO:root:templated /projects/trans_scratch/validations/workspace/szong/Cervical/mutsig2cv/118_patients/vcf2maf_scripts/HTMCP-03-06-02109.snvs.sh\u001b[0m\n"
     ]
    },
    {
     "name": "stdout",
     "output_type": "stream",
     "text": [
      "/projects/somatic/NCI_SAIC_HIV_Cervical/HTMCP-03-06-02109/hg19a/GSH/A37263_A37191/strelka/60042/bwa/results/passed.somatic.snvs.eff.dbSNP_v149.cosmic_v82.clinvar_20170801.annotations.classic.vcf\n"
     ]
    },
    {
     "data": {
      "text/plain": [
       "'vcf2maf_template_discovery.txt'"
      ]
     },
     "execution_count": 45,
     "metadata": {},
     "output_type": "execute_result"
    },
    {
     "name": "stderr",
     "output_type": "stream",
     "text": [
      "\u001b[32mINFO:root:templated /projects/trans_scratch/validations/workspace/szong/Cervical/mutsig2cv/118_patients/vcf2maf_scripts/HTMCP-03-06-02063.snvs.sh\u001b[0m\n",
      "\u001b[32mINFO:root:templated /projects/trans_scratch/validations/workspace/szong/Cervical/mutsig2cv/118_patients/vcf2maf_scripts/HTMCP-03-06-02063.snvs.sh\u001b[0m\n"
     ]
    },
    {
     "name": "stdout",
     "output_type": "stream",
     "text": [
      "/projects/somatic/NCI_SAIC_HIV_Cervical/HTMCP-03-06-02063/hg19a/GSH/A37266_A37194/strelka/59932/bwa/results/passed.somatic.snvs.eff.dbSNP_v149.cosmic_v82.clinvar_20170801.annotations.classic.vcf\n"
     ]
    },
    {
     "data": {
      "text/plain": [
       "'vcf2maf_template_discovery.txt'"
      ]
     },
     "execution_count": 45,
     "metadata": {},
     "output_type": "execute_result"
    },
    {
     "name": "stderr",
     "output_type": "stream",
     "text": [
      "\u001b[32mINFO:root:templated /projects/trans_scratch/validations/workspace/szong/Cervical/mutsig2cv/118_patients/vcf2maf_scripts/HTMCP-03-06-02068.snvs.sh\u001b[0m\n",
      "\u001b[32mINFO:root:templated /projects/trans_scratch/validations/workspace/szong/Cervical/mutsig2cv/118_patients/vcf2maf_scripts/HTMCP-03-06-02068.snvs.sh\u001b[0m\n"
     ]
    },
    {
     "name": "stdout",
     "output_type": "stream",
     "text": [
      "/projects/somatic/NCI_SAIC_HIV_Cervical/HTMCP-03-06-02068/hg19a/GSH/A37269_A37197/strelka/59934/bwa/results/passed.somatic.snvs.eff.dbSNP_v149.cosmic_v82.clinvar_20170801.annotations.classic.vcf\n"
     ]
    },
    {
     "data": {
      "text/plain": [
       "'vcf2maf_template_discovery.txt'"
      ]
     },
     "execution_count": 45,
     "metadata": {},
     "output_type": "execute_result"
    },
    {
     "name": "stderr",
     "output_type": "stream",
     "text": [
      "\u001b[32mINFO:root:templated /projects/trans_scratch/validations/workspace/szong/Cervical/mutsig2cv/118_patients/vcf2maf_scripts/HTMCP-03-06-02070.snvs.sh\u001b[0m\n",
      "\u001b[32mINFO:root:templated /projects/trans_scratch/validations/workspace/szong/Cervical/mutsig2cv/118_patients/vcf2maf_scripts/HTMCP-03-06-02070.snvs.sh\u001b[0m\n"
     ]
    },
    {
     "name": "stdout",
     "output_type": "stream",
     "text": [
      "/projects/somatic/NCI_SAIC_HIV_Cervical/HTMCP-03-06-02070/hg19a/GSH/A37270_A37198/strelka/59936/bwa/results/passed.somatic.snvs.eff.dbSNP_v149.cosmic_v82.clinvar_20170801.annotations.classic.vcf\n"
     ]
    },
    {
     "data": {
      "text/plain": [
       "'vcf2maf_template_discovery.txt'"
      ]
     },
     "execution_count": 45,
     "metadata": {},
     "output_type": "execute_result"
    },
    {
     "name": "stderr",
     "output_type": "stream",
     "text": [
      "\u001b[32mINFO:root:templated /projects/trans_scratch/validations/workspace/szong/Cervical/mutsig2cv/118_patients/vcf2maf_scripts/HTMCP-03-06-02071.snvs.sh\u001b[0m\n",
      "\u001b[32mINFO:root:templated /projects/trans_scratch/validations/workspace/szong/Cervical/mutsig2cv/118_patients/vcf2maf_scripts/HTMCP-03-06-02071.snvs.sh\u001b[0m\n"
     ]
    },
    {
     "name": "stdout",
     "output_type": "stream",
     "text": [
      "/projects/somatic/NCI_SAIC_HIV_Cervical/HTMCP-03-06-02071/hg19a/GSH/A37272_A37200/strelka/59938/bwa/results/passed.somatic.snvs.eff.dbSNP_v149.cosmic_v82.clinvar_20170801.annotations.classic.vcf\n"
     ]
    },
    {
     "data": {
      "text/plain": [
       "'vcf2maf_template_discovery.txt'"
      ]
     },
     "execution_count": 45,
     "metadata": {},
     "output_type": "execute_result"
    },
    {
     "name": "stderr",
     "output_type": "stream",
     "text": [
      "\u001b[32mINFO:root:templated /projects/trans_scratch/validations/workspace/szong/Cervical/mutsig2cv/118_patients/vcf2maf_scripts/HTMCP-03-06-02074.snvs.sh\u001b[0m\n",
      "\u001b[32mINFO:root:templated /projects/trans_scratch/validations/workspace/szong/Cervical/mutsig2cv/118_patients/vcf2maf_scripts/HTMCP-03-06-02074.snvs.sh\u001b[0m\n"
     ]
    },
    {
     "name": "stdout",
     "output_type": "stream",
     "text": [
      "/projects/somatic/NCI_SAIC_HIV_Cervical/HTMCP-03-06-02074/hg19a/GSH/A37274_A37202/strelka/59939/bwa/results/passed.somatic.snvs.eff.dbSNP_v149.cosmic_v82.clinvar_20170801.annotations.classic.vcf\n"
     ]
    },
    {
     "data": {
      "text/plain": [
       "'vcf2maf_template_discovery.txt'"
      ]
     },
     "execution_count": 45,
     "metadata": {},
     "output_type": "execute_result"
    },
    {
     "name": "stderr",
     "output_type": "stream",
     "text": [
      "\u001b[32mINFO:root:templated /projects/trans_scratch/validations/workspace/szong/Cervical/mutsig2cv/118_patients/vcf2maf_scripts/HTMCP-03-06-02075.snvs.sh\u001b[0m\n",
      "\u001b[32mINFO:root:templated /projects/trans_scratch/validations/workspace/szong/Cervical/mutsig2cv/118_patients/vcf2maf_scripts/HTMCP-03-06-02075.snvs.sh\u001b[0m\n"
     ]
    },
    {
     "name": "stdout",
     "output_type": "stream",
     "text": [
      "/projects/somatic/NCI_SAIC_HIV_Cervical/HTMCP-03-06-02075/hg19a/GSH/A37275_A37203/strelka/59941/bwa/results/passed.somatic.snvs.eff.dbSNP_v149.cosmic_v82.clinvar_20170801.annotations.classic.vcf\n"
     ]
    },
    {
     "data": {
      "text/plain": [
       "'vcf2maf_template_discovery.txt'"
      ]
     },
     "execution_count": 45,
     "metadata": {},
     "output_type": "execute_result"
    },
    {
     "name": "stderr",
     "output_type": "stream",
     "text": [
      "\u001b[32mINFO:root:templated /projects/trans_scratch/validations/workspace/szong/Cervical/mutsig2cv/118_patients/vcf2maf_scripts/HTMCP-03-06-02076.snvs.sh\u001b[0m\n",
      "\u001b[32mINFO:root:templated /projects/trans_scratch/validations/workspace/szong/Cervical/mutsig2cv/118_patients/vcf2maf_scripts/HTMCP-03-06-02076.snvs.sh\u001b[0m\n"
     ]
    },
    {
     "name": "stdout",
     "output_type": "stream",
     "text": [
      "/projects/somatic/NCI_SAIC_HIV_Cervical/HTMCP-03-06-02076/hg19a/GSH/A37276_A37204/strelka/59943/bwa/results/passed.somatic.snvs.eff.dbSNP_v149.cosmic_v82.clinvar_20170801.annotations.classic.vcf\n"
     ]
    },
    {
     "data": {
      "text/plain": [
       "'vcf2maf_template_discovery.txt'"
      ]
     },
     "execution_count": 45,
     "metadata": {},
     "output_type": "execute_result"
    },
    {
     "name": "stderr",
     "output_type": "stream",
     "text": [
      "\u001b[32mINFO:root:templated /projects/trans_scratch/validations/workspace/szong/Cervical/mutsig2cv/118_patients/vcf2maf_scripts/HTMCP-03-06-02089.snvs.sh\u001b[0m\n",
      "\u001b[32mINFO:root:templated /projects/trans_scratch/validations/workspace/szong/Cervical/mutsig2cv/118_patients/vcf2maf_scripts/HTMCP-03-06-02089.snvs.sh\u001b[0m\n"
     ]
    },
    {
     "name": "stdout",
     "output_type": "stream",
     "text": [
      "/projects/somatic/NCI_SAIC_HIV_Cervical/HTMCP-03-06-02089/hg19a/GSH/A37281_A37209/strelka/59947/bwa/results/passed.somatic.snvs.eff.dbSNP_v149.cosmic_v82.clinvar_20170801.annotations.classic.vcf\n"
     ]
    },
    {
     "data": {
      "text/plain": [
       "'vcf2maf_template_discovery.txt'"
      ]
     },
     "execution_count": 45,
     "metadata": {},
     "output_type": "execute_result"
    },
    {
     "name": "stderr",
     "output_type": "stream",
     "text": [
      "\u001b[32mINFO:root:templated /projects/trans_scratch/validations/workspace/szong/Cervical/mutsig2cv/118_patients/vcf2maf_scripts/HTMCP-03-06-02092.snvs.sh\u001b[0m\n",
      "\u001b[32mINFO:root:templated /projects/trans_scratch/validations/workspace/szong/Cervical/mutsig2cv/118_patients/vcf2maf_scripts/HTMCP-03-06-02092.snvs.sh\u001b[0m\n"
     ]
    },
    {
     "name": "stdout",
     "output_type": "stream",
     "text": [
      "/projects/somatic/NCI_SAIC_HIV_Cervical/HTMCP-03-06-02092/hg19a/GSH/A60755_A37210/strelka/59950/bwa/results/passed.somatic.snvs.eff.dbSNP_v149.cosmic_v82.clinvar_20170801.annotations.classic.vcf\n"
     ]
    },
    {
     "data": {
      "text/plain": [
       "'vcf2maf_template_discovery.txt'"
      ]
     },
     "execution_count": 45,
     "metadata": {},
     "output_type": "execute_result"
    },
    {
     "name": "stderr",
     "output_type": "stream",
     "text": [
      "\u001b[32mINFO:root:templated /projects/trans_scratch/validations/workspace/szong/Cervical/mutsig2cv/118_patients/vcf2maf_scripts/HTMCP-03-06-02097.snvs.sh\u001b[0m\n",
      "\u001b[32mINFO:root:templated /projects/trans_scratch/validations/workspace/szong/Cervical/mutsig2cv/118_patients/vcf2maf_scripts/HTMCP-03-06-02097.snvs.sh\u001b[0m\n"
     ]
    },
    {
     "name": "stdout",
     "output_type": "stream",
     "text": [
      "/projects/somatic/NCI_SAIC_HIV_Cervical/HTMCP-03-06-02097/hg19a/GSH/A37283_A37211/strelka/59951/bwa/results/passed.somatic.snvs.eff.dbSNP_v149.cosmic_v82.clinvar_20170801.annotations.classic.vcf\n"
     ]
    },
    {
     "data": {
      "text/plain": [
       "'vcf2maf_template_discovery.txt'"
      ]
     },
     "execution_count": 45,
     "metadata": {},
     "output_type": "execute_result"
    },
    {
     "name": "stderr",
     "output_type": "stream",
     "text": [
      "\u001b[32mINFO:root:templated /projects/trans_scratch/validations/workspace/szong/Cervical/mutsig2cv/118_patients/vcf2maf_scripts/HTMCP-03-06-02098.snvs.sh\u001b[0m\n",
      "\u001b[32mINFO:root:templated /projects/trans_scratch/validations/workspace/szong/Cervical/mutsig2cv/118_patients/vcf2maf_scripts/HTMCP-03-06-02098.snvs.sh\u001b[0m\n"
     ]
    },
    {
     "name": "stdout",
     "output_type": "stream",
     "text": [
      "/projects/somatic/NCI_SAIC_HIV_Cervical/HTMCP-03-06-02098/hg19a/GSH/A37284_A37212/strelka/59953/bwa/results/passed.somatic.snvs.eff.dbSNP_v149.cosmic_v82.clinvar_20170801.annotations.classic.vcf\n"
     ]
    },
    {
     "data": {
      "text/plain": [
       "'vcf2maf_template_discovery.txt'"
      ]
     },
     "execution_count": 45,
     "metadata": {},
     "output_type": "execute_result"
    },
    {
     "name": "stderr",
     "output_type": "stream",
     "text": [
      "\u001b[32mINFO:root:templated /projects/trans_scratch/validations/workspace/szong/Cervical/mutsig2cv/118_patients/vcf2maf_scripts/HTMCP-03-06-02099.snvs.sh\u001b[0m\n",
      "\u001b[32mINFO:root:templated /projects/trans_scratch/validations/workspace/szong/Cervical/mutsig2cv/118_patients/vcf2maf_scripts/HTMCP-03-06-02099.snvs.sh\u001b[0m\n"
     ]
    },
    {
     "name": "stdout",
     "output_type": "stream",
     "text": [
      "/projects/somatic/NCI_SAIC_HIV_Cervical/HTMCP-03-06-02099/hg19a/GSH/A37285_A37213/strelka/60036/bwa/results/passed.somatic.snvs.eff.dbSNP_v149.cosmic_v82.clinvar_20170801.annotations.classic.vcf\n"
     ]
    },
    {
     "data": {
      "text/plain": [
       "'vcf2maf_template_discovery.txt'"
      ]
     },
     "execution_count": 45,
     "metadata": {},
     "output_type": "execute_result"
    },
    {
     "name": "stderr",
     "output_type": "stream",
     "text": [
      "\u001b[32mINFO:root:templated /projects/trans_scratch/validations/workspace/szong/Cervical/mutsig2cv/118_patients/vcf2maf_scripts/HTMCP-03-06-02103.snvs.sh\u001b[0m\n",
      "\u001b[32mINFO:root:templated /projects/trans_scratch/validations/workspace/szong/Cervical/mutsig2cv/118_patients/vcf2maf_scripts/HTMCP-03-06-02103.snvs.sh\u001b[0m\n"
     ]
    },
    {
     "name": "stdout",
     "output_type": "stream",
     "text": [
      "/projects/somatic/NCI_SAIC_HIV_Cervical/HTMCP-03-06-02103/hg19a/GSH/A38427_A37939/strelka/60038/bwa/results/passed.somatic.snvs.eff.dbSNP_v149.cosmic_v82.clinvar_20170801.annotations.classic.vcf\n"
     ]
    },
    {
     "data": {
      "text/plain": [
       "'vcf2maf_template_discovery.txt'"
      ]
     },
     "execution_count": 45,
     "metadata": {},
     "output_type": "execute_result"
    },
    {
     "name": "stderr",
     "output_type": "stream",
     "text": [
      "\u001b[32mINFO:root:templated /projects/trans_scratch/validations/workspace/szong/Cervical/mutsig2cv/118_patients/vcf2maf_scripts/HTMCP-03-06-02108.snvs.sh\u001b[0m\n",
      "\u001b[32mINFO:root:templated /projects/trans_scratch/validations/workspace/szong/Cervical/mutsig2cv/118_patients/vcf2maf_scripts/HTMCP-03-06-02108.snvs.sh\u001b[0m\n"
     ]
    },
    {
     "name": "stdout",
     "output_type": "stream",
     "text": [
      "/projects/somatic/NCI_SAIC_HIV_Cervical/HTMCP-03-06-02108/hg19a/GSH/A38430_A37941/strelka/60040/bwa/results/passed.somatic.snvs.eff.dbSNP_v149.cosmic_v82.clinvar_20170801.annotations.classic.vcf\n"
     ]
    },
    {
     "data": {
      "text/plain": [
       "'vcf2maf_template_discovery.txt'"
      ]
     },
     "execution_count": 45,
     "metadata": {},
     "output_type": "execute_result"
    },
    {
     "name": "stderr",
     "output_type": "stream",
     "text": [
      "\u001b[32mINFO:root:templated /projects/trans_scratch/validations/workspace/szong/Cervical/mutsig2cv/118_patients/vcf2maf_scripts/HTMCP-03-06-02139.snvs.sh\u001b[0m\n",
      "\u001b[32mINFO:root:templated /projects/trans_scratch/validations/workspace/szong/Cervical/mutsig2cv/118_patients/vcf2maf_scripts/HTMCP-03-06-02139.snvs.sh\u001b[0m\n"
     ]
    },
    {
     "name": "stdout",
     "output_type": "stream",
     "text": [
      "/projects/somatic/NCI_SAIC_HIV_Cervical/HTMCP-03-06-02139/hg19a/GSH/A38431_A37942/strelka/60053/bwa/results/passed.somatic.snvs.eff.dbSNP_v149.cosmic_v82.clinvar_20170801.annotations.classic.vcf\n"
     ]
    },
    {
     "data": {
      "text/plain": [
       "'vcf2maf_template_discovery.txt'"
      ]
     },
     "execution_count": 45,
     "metadata": {},
     "output_type": "execute_result"
    },
    {
     "name": "stderr",
     "output_type": "stream",
     "text": [
      "\u001b[32mINFO:root:templated /projects/trans_scratch/validations/workspace/szong/Cervical/mutsig2cv/118_patients/vcf2maf_scripts/HTMCP-03-06-02110.snvs.sh\u001b[0m\n",
      "\u001b[32mINFO:root:templated /projects/trans_scratch/validations/workspace/szong/Cervical/mutsig2cv/118_patients/vcf2maf_scripts/HTMCP-03-06-02110.snvs.sh\u001b[0m\n"
     ]
    },
    {
     "name": "stdout",
     "output_type": "stream",
     "text": [
      "/projects/somatic/NCI_SAIC_HIV_Cervical/HTMCP-03-06-02110/hg19a/GSH/A38432_A37943/strelka/60044/bwa/results/passed.somatic.snvs.eff.dbSNP_v149.cosmic_v82.clinvar_20170801.annotations.classic.vcf\n"
     ]
    },
    {
     "data": {
      "text/plain": [
       "'vcf2maf_template_discovery.txt'"
      ]
     },
     "execution_count": 45,
     "metadata": {},
     "output_type": "execute_result"
    },
    {
     "name": "stderr",
     "output_type": "stream",
     "text": [
      "\u001b[32mINFO:root:templated /projects/trans_scratch/validations/workspace/szong/Cervical/mutsig2cv/118_patients/vcf2maf_scripts/HTMCP-03-06-02113.snvs.sh\u001b[0m\n",
      "\u001b[32mINFO:root:templated /projects/trans_scratch/validations/workspace/szong/Cervical/mutsig2cv/118_patients/vcf2maf_scripts/HTMCP-03-06-02113.snvs.sh\u001b[0m\n"
     ]
    },
    {
     "name": "stdout",
     "output_type": "stream",
     "text": [
      "/projects/somatic/NCI_SAIC_HIV_Cervical/HTMCP-03-06-02113/hg19a/GSH/A38435_A37946/strelka/60046/bwa/results/passed.somatic.snvs.eff.dbSNP_v149.cosmic_v82.clinvar_20170801.annotations.classic.vcf\n"
     ]
    },
    {
     "data": {
      "text/plain": [
       "'vcf2maf_template_discovery.txt'"
      ]
     },
     "execution_count": 45,
     "metadata": {},
     "output_type": "execute_result"
    },
    {
     "name": "stderr",
     "output_type": "stream",
     "text": [
      "\u001b[32mINFO:root:templated /projects/trans_scratch/validations/workspace/szong/Cervical/mutsig2cv/118_patients/vcf2maf_scripts/HTMCP-03-06-02120.snvs.sh\u001b[0m\n",
      "\u001b[32mINFO:root:templated /projects/trans_scratch/validations/workspace/szong/Cervical/mutsig2cv/118_patients/vcf2maf_scripts/HTMCP-03-06-02120.snvs.sh\u001b[0m\n"
     ]
    },
    {
     "name": "stdout",
     "output_type": "stream",
     "text": [
      "/projects/somatic/NCI_SAIC_HIV_Cervical/HTMCP-03-06-02120/hg19a/GSH/A38437_A37948/strelka/60047/bwa/results/passed.somatic.snvs.eff.dbSNP_v149.cosmic_v82.clinvar_20170801.annotations.classic.vcf\n"
     ]
    },
    {
     "data": {
      "text/plain": [
       "'vcf2maf_template_discovery.txt'"
      ]
     },
     "execution_count": 45,
     "metadata": {},
     "output_type": "execute_result"
    },
    {
     "name": "stderr",
     "output_type": "stream",
     "text": [
      "\u001b[32mINFO:root:templated /projects/trans_scratch/validations/workspace/szong/Cervical/mutsig2cv/118_patients/vcf2maf_scripts/HTMCP-03-06-02125.snvs.sh\u001b[0m\n",
      "\u001b[32mINFO:root:templated /projects/trans_scratch/validations/workspace/szong/Cervical/mutsig2cv/118_patients/vcf2maf_scripts/HTMCP-03-06-02125.snvs.sh\u001b[0m\n"
     ]
    },
    {
     "name": "stdout",
     "output_type": "stream",
     "text": [
      "/projects/somatic/NCI_SAIC_HIV_Cervical/HTMCP-03-06-02125/hg19a/GSH/A38440_A37951/strelka/60049/bwa/results/passed.somatic.snvs.eff.dbSNP_v149.cosmic_v82.clinvar_20170801.annotations.classic.vcf\n"
     ]
    },
    {
     "data": {
      "text/plain": [
       "'vcf2maf_template_discovery.txt'"
      ]
     },
     "execution_count": 45,
     "metadata": {},
     "output_type": "execute_result"
    },
    {
     "name": "stderr",
     "output_type": "stream",
     "text": [
      "\u001b[32mINFO:root:templated /projects/trans_scratch/validations/workspace/szong/Cervical/mutsig2cv/118_patients/vcf2maf_scripts/HTMCP-03-06-02128.snvs.sh\u001b[0m\n",
      "\u001b[32mINFO:root:templated /projects/trans_scratch/validations/workspace/szong/Cervical/mutsig2cv/118_patients/vcf2maf_scripts/HTMCP-03-06-02128.snvs.sh\u001b[0m\n"
     ]
    },
    {
     "name": "stdout",
     "output_type": "stream",
     "text": [
      "/projects/somatic/NCI_SAIC_HIV_Cervical/HTMCP-03-06-02128/hg19a/GSH/A38441_A37952/strelka/60051/bwa/results/passed.somatic.snvs.eff.dbSNP_v149.cosmic_v82.clinvar_20170801.annotations.classic.vcf\n"
     ]
    },
    {
     "data": {
      "text/plain": [
       "'vcf2maf_template_discovery.txt'"
      ]
     },
     "execution_count": 45,
     "metadata": {},
     "output_type": "execute_result"
    },
    {
     "name": "stderr",
     "output_type": "stream",
     "text": [
      "\u001b[32mINFO:root:templated /projects/trans_scratch/validations/workspace/szong/Cervical/mutsig2cv/118_patients/vcf2maf_scripts/HTMCP-03-06-02144.snvs.sh\u001b[0m\n",
      "\u001b[32mINFO:root:templated /projects/trans_scratch/validations/workspace/szong/Cervical/mutsig2cv/118_patients/vcf2maf_scripts/HTMCP-03-06-02144.snvs.sh\u001b[0m\n"
     ]
    },
    {
     "name": "stdout",
     "output_type": "stream",
     "text": [
      "/projects/somatic/NCI_SAIC_HIV_Cervical/HTMCP-03-06-02144/hg19a/GSH/A38445_A37956/strelka/60055/bwa/results/passed.somatic.snvs.eff.dbSNP_v149.cosmic_v82.clinvar_20170801.annotations.classic.vcf\n"
     ]
    },
    {
     "data": {
      "text/plain": [
       "'vcf2maf_template_discovery.txt'"
      ]
     },
     "execution_count": 45,
     "metadata": {},
     "output_type": "execute_result"
    },
    {
     "name": "stderr",
     "output_type": "stream",
     "text": [
      "\u001b[32mINFO:root:templated /projects/trans_scratch/validations/workspace/szong/Cervical/mutsig2cv/118_patients/vcf2maf_scripts/HTMCP-03-06-02145.snvs.sh\u001b[0m\n",
      "\u001b[32mINFO:root:templated /projects/trans_scratch/validations/workspace/szong/Cervical/mutsig2cv/118_patients/vcf2maf_scripts/HTMCP-03-06-02145.snvs.sh\u001b[0m\n"
     ]
    },
    {
     "name": "stdout",
     "output_type": "stream",
     "text": [
      "/projects/somatic/NCI_SAIC_HIV_Cervical/HTMCP-03-06-02145/hg19a/GSH/A38446_A37957/strelka/60057/bwa/results/passed.somatic.snvs.eff.dbSNP_v149.cosmic_v82.clinvar_20170801.annotations.classic.vcf\n"
     ]
    },
    {
     "data": {
      "text/plain": [
       "'vcf2maf_template_discovery.txt'"
      ]
     },
     "execution_count": 45,
     "metadata": {},
     "output_type": "execute_result"
    },
    {
     "name": "stderr",
     "output_type": "stream",
     "text": [
      "\u001b[32mINFO:root:templated /projects/trans_scratch/validations/workspace/szong/Cervical/mutsig2cv/118_patients/vcf2maf_scripts/HTMCP-03-06-02147.snvs.sh\u001b[0m\n",
      "\u001b[32mINFO:root:templated /projects/trans_scratch/validations/workspace/szong/Cervical/mutsig2cv/118_patients/vcf2maf_scripts/HTMCP-03-06-02147.snvs.sh\u001b[0m\n"
     ]
    },
    {
     "name": "stdout",
     "output_type": "stream",
     "text": [
      "/projects/somatic/NCI_SAIC_HIV_Cervical/HTMCP-03-06-02147/hg19a/GSH/A38447_A37958/strelka/60059/bwa/results/passed.somatic.snvs.eff.dbSNP_v149.cosmic_v82.clinvar_20170801.annotations.classic.vcf\n"
     ]
    },
    {
     "data": {
      "text/plain": [
       "'vcf2maf_template_discovery.txt'"
      ]
     },
     "execution_count": 45,
     "metadata": {},
     "output_type": "execute_result"
    },
    {
     "name": "stderr",
     "output_type": "stream",
     "text": [
      "\u001b[32mINFO:root:templated /projects/trans_scratch/validations/workspace/szong/Cervical/mutsig2cv/118_patients/vcf2maf_scripts/HTMCP-03-06-02149.snvs.sh\u001b[0m\n",
      "\u001b[32mINFO:root:templated /projects/trans_scratch/validations/workspace/szong/Cervical/mutsig2cv/118_patients/vcf2maf_scripts/HTMCP-03-06-02149.snvs.sh\u001b[0m\n"
     ]
    },
    {
     "name": "stdout",
     "output_type": "stream",
     "text": [
      "/projects/somatic/NCI_SAIC_HIV_Cervical/HTMCP-03-06-02149/hg19a/GSH/A52317_A54482/strelka/60062/bwa/results/passed.somatic.snvs.eff.dbSNP_v149.cosmic_v82.clinvar_20170801.annotations.classic.vcf\n"
     ]
    },
    {
     "data": {
      "text/plain": [
       "'vcf2maf_template_discovery.txt'"
      ]
     },
     "execution_count": 45,
     "metadata": {},
     "output_type": "execute_result"
    },
    {
     "name": "stderr",
     "output_type": "stream",
     "text": [
      "\u001b[32mINFO:root:templated /projects/trans_scratch/validations/workspace/szong/Cervical/mutsig2cv/118_patients/vcf2maf_scripts/HTMCP-03-06-02150.snvs.sh\u001b[0m\n",
      "\u001b[32mINFO:root:templated /projects/trans_scratch/validations/workspace/szong/Cervical/mutsig2cv/118_patients/vcf2maf_scripts/HTMCP-03-06-02150.snvs.sh\u001b[0m\n"
     ]
    },
    {
     "name": "stdout",
     "output_type": "stream",
     "text": [
      "/projects/somatic/NCI_SAIC_HIV_Cervical/HTMCP-03-06-02150/hg19a/GSH/A52318_A54483/strelka/60063/bwa/results/passed.somatic.snvs.eff.dbSNP_v149.cosmic_v82.clinvar_20170801.annotations.classic.vcf\n"
     ]
    },
    {
     "data": {
      "text/plain": [
       "'vcf2maf_template_discovery.txt'"
      ]
     },
     "execution_count": 45,
     "metadata": {},
     "output_type": "execute_result"
    },
    {
     "name": "stderr",
     "output_type": "stream",
     "text": [
      "\u001b[32mINFO:root:templated /projects/trans_scratch/validations/workspace/szong/Cervical/mutsig2cv/118_patients/vcf2maf_scripts/HTMCP-03-06-02155.snvs.sh\u001b[0m\n",
      "\u001b[32mINFO:root:templated /projects/trans_scratch/validations/workspace/szong/Cervical/mutsig2cv/118_patients/vcf2maf_scripts/HTMCP-03-06-02155.snvs.sh\u001b[0m\n"
     ]
    },
    {
     "name": "stdout",
     "output_type": "stream",
     "text": [
      "/projects/somatic/NCI_SAIC_HIV_Cervical/HTMCP-03-06-02155/hg19a/GSH/A52319_A54486/strelka/60067/bwa/results/passed.somatic.snvs.eff.dbSNP_v149.cosmic_v82.clinvar_20170801.annotations.classic.vcf\n"
     ]
    },
    {
     "data": {
      "text/plain": [
       "'vcf2maf_template_discovery.txt'"
      ]
     },
     "execution_count": 45,
     "metadata": {},
     "output_type": "execute_result"
    },
    {
     "name": "stderr",
     "output_type": "stream",
     "text": [
      "\u001b[32mINFO:root:templated /projects/trans_scratch/validations/workspace/szong/Cervical/mutsig2cv/118_patients/vcf2maf_scripts/HTMCP-03-06-02156.snvs.sh\u001b[0m\n",
      "\u001b[32mINFO:root:templated /projects/trans_scratch/validations/workspace/szong/Cervical/mutsig2cv/118_patients/vcf2maf_scripts/HTMCP-03-06-02156.snvs.sh\u001b[0m\n"
     ]
    },
    {
     "name": "stdout",
     "output_type": "stream",
     "text": [
      "/projects/somatic/NCI_SAIC_HIV_Cervical/HTMCP-03-06-02156/hg19a/GSH/A52320_A54487/strelka/60068/bwa/results/passed.somatic.snvs.eff.dbSNP_v149.cosmic_v82.clinvar_20170801.annotations.classic.vcf\n"
     ]
    },
    {
     "data": {
      "text/plain": [
       "'vcf2maf_template_discovery.txt'"
      ]
     },
     "execution_count": 45,
     "metadata": {},
     "output_type": "execute_result"
    },
    {
     "name": "stderr",
     "output_type": "stream",
     "text": [
      "\u001b[32mINFO:root:templated /projects/trans_scratch/validations/workspace/szong/Cervical/mutsig2cv/118_patients/vcf2maf_scripts/HTMCP-03-06-02174.snvs.sh\u001b[0m\n",
      "\u001b[32mINFO:root:templated /projects/trans_scratch/validations/workspace/szong/Cervical/mutsig2cv/118_patients/vcf2maf_scripts/HTMCP-03-06-02174.snvs.sh\u001b[0m\n"
     ]
    },
    {
     "name": "stdout",
     "output_type": "stream",
     "text": [
      "/projects/somatic/NCI_SAIC_HIV_Cervical/HTMCP-03-06-02174/hg19a/GSH/A52323_A54492/strelka/60071/bwa/results/passed.somatic.snvs.eff.dbSNP_v149.cosmic_v82.clinvar_20170801.annotations.classic.vcf\n"
     ]
    },
    {
     "data": {
      "text/plain": [
       "'vcf2maf_template_discovery.txt'"
      ]
     },
     "execution_count": 45,
     "metadata": {},
     "output_type": "execute_result"
    },
    {
     "name": "stderr",
     "output_type": "stream",
     "text": [
      "\u001b[32mINFO:root:templated /projects/trans_scratch/validations/workspace/szong/Cervical/mutsig2cv/118_patients/vcf2maf_scripts/HTMCP-03-06-02175.snvs.sh\u001b[0m\n",
      "\u001b[32mINFO:root:templated /projects/trans_scratch/validations/workspace/szong/Cervical/mutsig2cv/118_patients/vcf2maf_scripts/HTMCP-03-06-02175.snvs.sh\u001b[0m\n"
     ]
    },
    {
     "name": "stdout",
     "output_type": "stream",
     "text": [
      "/projects/somatic/NCI_SAIC_HIV_Cervical/HTMCP-03-06-02175/hg19a/GSH/A52324_A54494/strelka/60072/bwa/results/passed.somatic.snvs.eff.dbSNP_v149.cosmic_v82.clinvar_20170801.annotations.classic.vcf\n"
     ]
    },
    {
     "data": {
      "text/plain": [
       "'vcf2maf_template_discovery.txt'"
      ]
     },
     "execution_count": 45,
     "metadata": {},
     "output_type": "execute_result"
    },
    {
     "name": "stderr",
     "output_type": "stream",
     "text": [
      "\u001b[32mINFO:root:templated /projects/trans_scratch/validations/workspace/szong/Cervical/mutsig2cv/118_patients/vcf2maf_scripts/HTMCP-03-06-02176.snvs.sh\u001b[0m\n",
      "\u001b[32mINFO:root:templated /projects/trans_scratch/validations/workspace/szong/Cervical/mutsig2cv/118_patients/vcf2maf_scripts/HTMCP-03-06-02176.snvs.sh\u001b[0m\n"
     ]
    },
    {
     "name": "stdout",
     "output_type": "stream",
     "text": [
      "/projects/somatic/NCI_SAIC_HIV_Cervical/HTMCP-03-06-02176/hg19a/GSH/A52325_A54493/strelka/60073/bwa/results/passed.somatic.snvs.eff.dbSNP_v149.cosmic_v82.clinvar_20170801.annotations.classic.vcf\n"
     ]
    },
    {
     "data": {
      "text/plain": [
       "'vcf2maf_template_discovery.txt'"
      ]
     },
     "execution_count": 45,
     "metadata": {},
     "output_type": "execute_result"
    },
    {
     "name": "stderr",
     "output_type": "stream",
     "text": [
      "\u001b[32mINFO:root:templated /projects/trans_scratch/validations/workspace/szong/Cervical/mutsig2cv/118_patients/vcf2maf_scripts/HTMCP-03-06-02180.snvs.sh\u001b[0m\n",
      "\u001b[32mINFO:root:templated /projects/trans_scratch/validations/workspace/szong/Cervical/mutsig2cv/118_patients/vcf2maf_scripts/HTMCP-03-06-02180.snvs.sh\u001b[0m\n"
     ]
    },
    {
     "name": "stdout",
     "output_type": "stream",
     "text": [
      "/projects/somatic/NCI_SAIC_HIV_Cervical/HTMCP-03-06-02180/hg19a/GSH/A52327_A54497/strelka/60075/bwa/results/passed.somatic.snvs.eff.dbSNP_v149.cosmic_v82.clinvar_20170801.annotations.classic.vcf\n"
     ]
    },
    {
     "data": {
      "text/plain": [
       "'vcf2maf_template_discovery.txt'"
      ]
     },
     "execution_count": 45,
     "metadata": {},
     "output_type": "execute_result"
    },
    {
     "name": "stderr",
     "output_type": "stream",
     "text": [
      "\u001b[32mINFO:root:templated /projects/trans_scratch/validations/workspace/szong/Cervical/mutsig2cv/118_patients/vcf2maf_scripts/HTMCP-03-06-02185.snvs.sh\u001b[0m\n",
      "\u001b[32mINFO:root:templated /projects/trans_scratch/validations/workspace/szong/Cervical/mutsig2cv/118_patients/vcf2maf_scripts/HTMCP-03-06-02185.snvs.sh\u001b[0m\n"
     ]
    },
    {
     "name": "stdout",
     "output_type": "stream",
     "text": [
      "/projects/somatic/NCI_SAIC_HIV_Cervical/HTMCP-03-06-02185/hg19a/GSH/A52328_A54498/strelka/60077/bwa/results/passed.somatic.snvs.eff.dbSNP_v149.cosmic_v82.clinvar_20170801.annotations.classic.vcf\n"
     ]
    },
    {
     "data": {
      "text/plain": [
       "'vcf2maf_template_discovery.txt'"
      ]
     },
     "execution_count": 45,
     "metadata": {},
     "output_type": "execute_result"
    },
    {
     "name": "stderr",
     "output_type": "stream",
     "text": [
      "\u001b[32mINFO:root:templated /projects/trans_scratch/validations/workspace/szong/Cervical/mutsig2cv/118_patients/vcf2maf_scripts/HTMCP-03-06-02194.snvs.sh\u001b[0m\n",
      "\u001b[32mINFO:root:templated /projects/trans_scratch/validations/workspace/szong/Cervical/mutsig2cv/118_patients/vcf2maf_scripts/HTMCP-03-06-02194.snvs.sh\u001b[0m\n"
     ]
    },
    {
     "name": "stdout",
     "output_type": "stream",
     "text": [
      "/projects/somatic/NCI_SAIC_HIV_Cervical/HTMCP-03-06-02194/hg19a/GSH/A52333_A54503/strelka/60078/bwa/results/passed.somatic.snvs.eff.dbSNP_v149.cosmic_v82.clinvar_20170801.annotations.classic.vcf\n"
     ]
    },
    {
     "data": {
      "text/plain": [
       "'vcf2maf_template_discovery.txt'"
      ]
     },
     "execution_count": 45,
     "metadata": {},
     "output_type": "execute_result"
    },
    {
     "name": "stderr",
     "output_type": "stream",
     "text": [
      "\u001b[32mINFO:root:templated /projects/trans_scratch/validations/workspace/szong/Cervical/mutsig2cv/118_patients/vcf2maf_scripts/HTMCP-03-06-02196.snvs.sh\u001b[0m\n",
      "\u001b[32mINFO:root:templated /projects/trans_scratch/validations/workspace/szong/Cervical/mutsig2cv/118_patients/vcf2maf_scripts/HTMCP-03-06-02196.snvs.sh\u001b[0m\n"
     ]
    },
    {
     "name": "stdout",
     "output_type": "stream",
     "text": [
      "/projects/somatic/NCI_SAIC_HIV_Cervical/HTMCP-03-06-02196/hg19a/GSH/A52334_A54505/strelka/60080/bwa/results/passed.somatic.snvs.eff.dbSNP_v149.cosmic_v82.clinvar_20170801.annotations.classic.vcf\n"
     ]
    },
    {
     "data": {
      "text/plain": [
       "'vcf2maf_template_discovery.txt'"
      ]
     },
     "execution_count": 45,
     "metadata": {},
     "output_type": "execute_result"
    },
    {
     "name": "stderr",
     "output_type": "stream",
     "text": [
      "\u001b[32mINFO:root:templated /projects/trans_scratch/validations/workspace/szong/Cervical/mutsig2cv/118_patients/vcf2maf_scripts/HTMCP-03-06-02203.snvs.sh\u001b[0m\n",
      "\u001b[32mINFO:root:templated /projects/trans_scratch/validations/workspace/szong/Cervical/mutsig2cv/118_patients/vcf2maf_scripts/HTMCP-03-06-02203.snvs.sh\u001b[0m\n"
     ]
    },
    {
     "name": "stdout",
     "output_type": "stream",
     "text": [
      "/projects/somatic/NCI_SAIC_HIV_Cervical/HTMCP-03-06-02203/hg19a/GSH/A52336_A54507/strelka/60083/bwa/results/passed.somatic.snvs.eff.dbSNP_v149.cosmic_v82.clinvar_20170801.annotations.classic.vcf\n"
     ]
    },
    {
     "data": {
      "text/plain": [
       "'vcf2maf_template_discovery.txt'"
      ]
     },
     "execution_count": 45,
     "metadata": {},
     "output_type": "execute_result"
    },
    {
     "name": "stderr",
     "output_type": "stream",
     "text": [
      "\u001b[32mINFO:root:templated /projects/trans_scratch/validations/workspace/szong/Cervical/mutsig2cv/118_patients/vcf2maf_scripts/HTMCP-03-06-02209.snvs.sh\u001b[0m\n",
      "\u001b[32mINFO:root:templated /projects/trans_scratch/validations/workspace/szong/Cervical/mutsig2cv/118_patients/vcf2maf_scripts/HTMCP-03-06-02209.snvs.sh\u001b[0m\n"
     ]
    },
    {
     "name": "stdout",
     "output_type": "stream",
     "text": [
      "/projects/somatic/NCI_SAIC_HIV_Cervical/HTMCP-03-06-02209/hg19a/GSH/A52338_A54511/strelka/60086/bwa/results/passed.somatic.snvs.eff.dbSNP_v149.cosmic_v82.clinvar_20170801.annotations.classic.vcf\n"
     ]
    },
    {
     "data": {
      "text/plain": [
       "'vcf2maf_template_discovery.txt'"
      ]
     },
     "execution_count": 45,
     "metadata": {},
     "output_type": "execute_result"
    },
    {
     "name": "stderr",
     "output_type": "stream",
     "text": [
      "\u001b[32mINFO:root:templated /projects/trans_scratch/validations/workspace/szong/Cervical/mutsig2cv/118_patients/vcf2maf_scripts/HTMCP-03-06-02210.snvs.sh\u001b[0m\n",
      "\u001b[32mINFO:root:templated /projects/trans_scratch/validations/workspace/szong/Cervical/mutsig2cv/118_patients/vcf2maf_scripts/HTMCP-03-06-02210.snvs.sh\u001b[0m\n"
     ]
    },
    {
     "name": "stdout",
     "output_type": "stream",
     "text": [
      "/projects/somatic/NCI_SAIC_HIV_Cervical/HTMCP-03-06-02210/hg19a/GSH/A52339_A54512/strelka/60087/bwa/results/passed.somatic.snvs.eff.dbSNP_v149.cosmic_v82.clinvar_20170801.annotations.classic.vcf\n"
     ]
    },
    {
     "data": {
      "text/plain": [
       "'vcf2maf_template_discovery.txt'"
      ]
     },
     "execution_count": 45,
     "metadata": {},
     "output_type": "execute_result"
    },
    {
     "name": "stderr",
     "output_type": "stream",
     "text": [
      "\u001b[32mINFO:root:templated /projects/trans_scratch/validations/workspace/szong/Cervical/mutsig2cv/118_patients/vcf2maf_scripts/HTMCP-03-06-02214.snvs.sh\u001b[0m\n",
      "\u001b[32mINFO:root:templated /projects/trans_scratch/validations/workspace/szong/Cervical/mutsig2cv/118_patients/vcf2maf_scripts/HTMCP-03-06-02214.snvs.sh\u001b[0m\n"
     ]
    },
    {
     "name": "stdout",
     "output_type": "stream",
     "text": [
      "/projects/somatic/NCI_SAIC_HIV_Cervical/HTMCP-03-06-02214/hg19a/GSH/A52340_A54515/strelka/60089/bwa/results/passed.somatic.snvs.eff.dbSNP_v149.cosmic_v82.clinvar_20170801.annotations.classic.vcf\n"
     ]
    },
    {
     "data": {
      "text/plain": [
       "'vcf2maf_template_discovery.txt'"
      ]
     },
     "execution_count": 45,
     "metadata": {},
     "output_type": "execute_result"
    },
    {
     "name": "stderr",
     "output_type": "stream",
     "text": [
      "\u001b[32mINFO:root:templated /projects/trans_scratch/validations/workspace/szong/Cervical/mutsig2cv/118_patients/vcf2maf_scripts/HTMCP-03-06-02215.snvs.sh\u001b[0m\n",
      "\u001b[32mINFO:root:templated /projects/trans_scratch/validations/workspace/szong/Cervical/mutsig2cv/118_patients/vcf2maf_scripts/HTMCP-03-06-02215.snvs.sh\u001b[0m\n"
     ]
    },
    {
     "name": "stdout",
     "output_type": "stream",
     "text": [
      "/projects/somatic/NCI_SAIC_HIV_Cervical/HTMCP-03-06-02215/hg19a/GSH/A52341_A54516/strelka/60090/bwa/results/passed.somatic.snvs.eff.dbSNP_v149.cosmic_v82.clinvar_20170801.annotations.classic.vcf\n"
     ]
    },
    {
     "data": {
      "text/plain": [
       "'vcf2maf_template_discovery.txt'"
      ]
     },
     "execution_count": 45,
     "metadata": {},
     "output_type": "execute_result"
    },
    {
     "name": "stderr",
     "output_type": "stream",
     "text": [
      "\u001b[32mINFO:root:templated /projects/trans_scratch/validations/workspace/szong/Cervical/mutsig2cv/118_patients/vcf2maf_scripts/HTMCP-03-06-02148.snvs.sh\u001b[0m\n",
      "\u001b[32mINFO:root:templated /projects/trans_scratch/validations/workspace/szong/Cervical/mutsig2cv/118_patients/vcf2maf_scripts/HTMCP-03-06-02148.snvs.sh\u001b[0m\n"
     ]
    },
    {
     "name": "stdout",
     "output_type": "stream",
     "text": [
      "/projects/somatic/NCI_SAIC_HIV_Cervical/HTMCP-03-06-02148/hg19a/GSH/A54376_A54481/strelka/60061/bwa/results/passed.somatic.snvs.eff.dbSNP_v149.cosmic_v82.clinvar_20170801.annotations.classic.vcf\n"
     ]
    },
    {
     "data": {
      "text/plain": [
       "'vcf2maf_template_discovery.txt'"
      ]
     },
     "execution_count": 45,
     "metadata": {},
     "output_type": "execute_result"
    },
    {
     "name": "stderr",
     "output_type": "stream",
     "text": [
      "\u001b[32mINFO:root:templated /projects/trans_scratch/validations/workspace/szong/Cervical/mutsig2cv/118_patients/vcf2maf_scripts/HTMCP-03-06-02151.snvs.sh\u001b[0m\n",
      "\u001b[32mINFO:root:templated /projects/trans_scratch/validations/workspace/szong/Cervical/mutsig2cv/118_patients/vcf2maf_scripts/HTMCP-03-06-02151.snvs.sh\u001b[0m\n"
     ]
    },
    {
     "name": "stdout",
     "output_type": "stream",
     "text": [
      "/projects/somatic/NCI_SAIC_HIV_Cervical/HTMCP-03-06-02151/hg19a/GSH/A54377_A54484/strelka/60064/bwa/results/passed.somatic.snvs.eff.dbSNP_v149.cosmic_v82.clinvar_20170801.annotations.classic.vcf\n"
     ]
    },
    {
     "data": {
      "text/plain": [
       "'vcf2maf_template_discovery.txt'"
      ]
     },
     "execution_count": 45,
     "metadata": {},
     "output_type": "execute_result"
    },
    {
     "name": "stderr",
     "output_type": "stream",
     "text": [
      "\u001b[32mINFO:root:templated /projects/trans_scratch/validations/workspace/szong/Cervical/mutsig2cv/118_patients/vcf2maf_scripts/HTMCP-03-06-02152.snvs.sh\u001b[0m\n",
      "\u001b[32mINFO:root:templated /projects/trans_scratch/validations/workspace/szong/Cervical/mutsig2cv/118_patients/vcf2maf_scripts/HTMCP-03-06-02152.snvs.sh\u001b[0m\n"
     ]
    },
    {
     "name": "stdout",
     "output_type": "stream",
     "text": [
      "/projects/somatic/NCI_SAIC_HIV_Cervical/HTMCP-03-06-02152/hg19a/GSH/A54378_A54485/strelka/60065/bwa/results/passed.somatic.snvs.eff.dbSNP_v149.cosmic_v82.clinvar_20170801.annotations.classic.vcf\n"
     ]
    },
    {
     "data": {
      "text/plain": [
       "'vcf2maf_template_discovery.txt'"
      ]
     },
     "execution_count": 45,
     "metadata": {},
     "output_type": "execute_result"
    },
    {
     "name": "stderr",
     "output_type": "stream",
     "text": [
      "\u001b[32mINFO:root:templated /projects/trans_scratch/validations/workspace/szong/Cervical/mutsig2cv/118_patients/vcf2maf_scripts/HTMCP-03-06-02170.snvs.sh\u001b[0m\n",
      "\u001b[32mINFO:root:templated /projects/trans_scratch/validations/workspace/szong/Cervical/mutsig2cv/118_patients/vcf2maf_scripts/HTMCP-03-06-02170.snvs.sh\u001b[0m\n"
     ]
    },
    {
     "name": "stdout",
     "output_type": "stream",
     "text": [
      "/projects/somatic/NCI_SAIC_HIV_Cervical/HTMCP-03-06-02170/hg19a/GSH/A54379_A54490/strelka/60070/bwa/results/passed.somatic.snvs.eff.dbSNP_v149.cosmic_v82.clinvar_20170801.annotations.classic.vcf\n"
     ]
    },
    {
     "data": {
      "text/plain": [
       "'vcf2maf_template_discovery.txt'"
      ]
     },
     "execution_count": 45,
     "metadata": {},
     "output_type": "execute_result"
    },
    {
     "name": "stderr",
     "output_type": "stream",
     "text": [
      "\u001b[32mINFO:root:templated /projects/trans_scratch/validations/workspace/szong/Cervical/mutsig2cv/118_patients/vcf2maf_scripts/HTMCP-03-06-02179.snvs.sh\u001b[0m\n",
      "\u001b[32mINFO:root:templated /projects/trans_scratch/validations/workspace/szong/Cervical/mutsig2cv/118_patients/vcf2maf_scripts/HTMCP-03-06-02179.snvs.sh\u001b[0m\n"
     ]
    },
    {
     "name": "stdout",
     "output_type": "stream",
     "text": [
      "/projects/somatic/NCI_SAIC_HIV_Cervical/HTMCP-03-06-02179/hg19a/GSH/A54381_A54496/strelka/60074/bwa/results/passed.somatic.snvs.eff.dbSNP_v149.cosmic_v82.clinvar_20170801.annotations.classic.vcf\n"
     ]
    },
    {
     "data": {
      "text/plain": [
       "'vcf2maf_template_discovery.txt'"
      ]
     },
     "execution_count": 45,
     "metadata": {},
     "output_type": "execute_result"
    },
    {
     "name": "stderr",
     "output_type": "stream",
     "text": [
      "\u001b[32mINFO:root:templated /projects/trans_scratch/validations/workspace/szong/Cervical/mutsig2cv/118_patients/vcf2maf_scripts/HTMCP-03-06-02205.snvs.sh\u001b[0m\n",
      "\u001b[32mINFO:root:templated /projects/trans_scratch/validations/workspace/szong/Cervical/mutsig2cv/118_patients/vcf2maf_scripts/HTMCP-03-06-02205.snvs.sh\u001b[0m\n"
     ]
    },
    {
     "name": "stdout",
     "output_type": "stream",
     "text": [
      "/projects/somatic/NCI_SAIC_HIV_Cervical/HTMCP-03-06-02205/hg19a/GSH/A54385_A54509/strelka/60085/bwa/results/passed.somatic.snvs.eff.dbSNP_v149.cosmic_v82.clinvar_20170801.annotations.classic.vcf\n"
     ]
    },
    {
     "data": {
      "text/plain": [
       "'vcf2maf_template_discovery.txt'"
      ]
     },
     "execution_count": 45,
     "metadata": {},
     "output_type": "execute_result"
    },
    {
     "name": "stderr",
     "output_type": "stream",
     "text": [
      "\u001b[32mINFO:root:templated /projects/trans_scratch/validations/workspace/szong/Cervical/mutsig2cv/118_patients/vcf2maf_scripts/HTMCP-03-06-02213.snvs.sh\u001b[0m\n",
      "\u001b[32mINFO:root:templated /projects/trans_scratch/validations/workspace/szong/Cervical/mutsig2cv/118_patients/vcf2maf_scripts/HTMCP-03-06-02213.snvs.sh\u001b[0m\n"
     ]
    },
    {
     "name": "stdout",
     "output_type": "stream",
     "text": [
      "/projects/somatic/NCI_SAIC_HIV_Cervical/HTMCP-03-06-02213/hg19a/GSH/A54387_A54514/strelka/60088/bwa/results/passed.somatic.snvs.eff.dbSNP_v149.cosmic_v82.clinvar_20170801.annotations.classic.vcf\n"
     ]
    },
    {
     "data": {
      "text/plain": [
       "'vcf2maf_template_discovery.txt'"
      ]
     },
     "execution_count": 45,
     "metadata": {},
     "output_type": "execute_result"
    },
    {
     "name": "stderr",
     "output_type": "stream",
     "text": [
      "\u001b[32mINFO:root:templated /projects/trans_scratch/validations/workspace/szong/Cervical/mutsig2cv/118_patients/vcf2maf_scripts/HTMCP-03-06-02216.snvs.sh\u001b[0m\n",
      "\u001b[32mINFO:root:templated /projects/trans_scratch/validations/workspace/szong/Cervical/mutsig2cv/118_patients/vcf2maf_scripts/HTMCP-03-06-02216.snvs.sh\u001b[0m\n"
     ]
    },
    {
     "name": "stdout",
     "output_type": "stream",
     "text": [
      "/projects/somatic/NCI_SAIC_HIV_Cervical/HTMCP-03-06-02216/hg19a/GSH/A54388_A54517/strelka/60091/bwa/results/passed.somatic.snvs.eff.dbSNP_v149.cosmic_v82.clinvar_20170801.annotations.classic.vcf\n"
     ]
    },
    {
     "data": {
      "text/plain": [
       "'vcf2maf_template_discovery.txt'"
      ]
     },
     "execution_count": 45,
     "metadata": {},
     "output_type": "execute_result"
    },
    {
     "name": "stderr",
     "output_type": "stream",
     "text": [
      "\u001b[32mINFO:root:templated /projects/trans_scratch/validations/workspace/szong/Cervical/mutsig2cv/118_patients/vcf2maf_scripts/HTMCP-03-06-02195.snvs.sh\u001b[0m\n",
      "\u001b[32mINFO:root:templated /projects/trans_scratch/validations/workspace/szong/Cervical/mutsig2cv/118_patients/vcf2maf_scripts/HTMCP-03-06-02195.snvs.sh\u001b[0m\n"
     ]
    },
    {
     "name": "stdout",
     "output_type": "stream",
     "text": [
      "/projects/somatic/NCI_SAIC_HIV_Cervical/HTMCP-03-06-02195/hg19a/GSH/A57084_A54504/strelka/60079/bwa/results/passed.somatic.snvs.eff.dbSNP_v149.cosmic_v82.clinvar_20170801.annotations.classic.vcf\n"
     ]
    },
    {
     "data": {
      "text/plain": [
       "'vcf2maf_template_discovery.txt'"
      ]
     },
     "execution_count": 45,
     "metadata": {},
     "output_type": "execute_result"
    },
    {
     "name": "stderr",
     "output_type": "stream",
     "text": [
      "\u001b[32mINFO:root:templated /projects/trans_scratch/validations/workspace/szong/Cervical/mutsig2cv/118_patients/vcf2maf_scripts/HTMCP-03-06-02202.snvs.sh\u001b[0m\n",
      "\u001b[32mINFO:root:templated /projects/trans_scratch/validations/workspace/szong/Cervical/mutsig2cv/118_patients/vcf2maf_scripts/HTMCP-03-06-02202.snvs.sh\u001b[0m\n"
     ]
    },
    {
     "name": "stdout",
     "output_type": "stream",
     "text": [
      "/projects/somatic/NCI_SAIC_HIV_Cervical/HTMCP-03-06-02202/hg19a/GSH/A57085_A54506/strelka/60082/bwa/results/passed.somatic.snvs.eff.dbSNP_v149.cosmic_v82.clinvar_20170801.annotations.classic.vcf\n"
     ]
    },
    {
     "data": {
      "text/plain": [
       "'vcf2maf_template_discovery.txt'"
      ]
     },
     "execution_count": 45,
     "metadata": {},
     "output_type": "execute_result"
    },
    {
     "name": "stderr",
     "output_type": "stream",
     "text": [
      "\u001b[32mINFO:root:templated /projects/trans_scratch/validations/workspace/szong/Cervical/mutsig2cv/118_patients/vcf2maf_scripts/HTMCP-03-06-02204.snvs.sh\u001b[0m\n",
      "\u001b[32mINFO:root:templated /projects/trans_scratch/validations/workspace/szong/Cervical/mutsig2cv/118_patients/vcf2maf_scripts/HTMCP-03-06-02204.snvs.sh\u001b[0m\n"
     ]
    },
    {
     "name": "stdout",
     "output_type": "stream",
     "text": [
      "/projects/somatic/NCI_SAIC_HIV_Cervical/HTMCP-03-06-02204/hg19a/GSH/A57086_A54508/strelka/60084/bwa/results/passed.somatic.snvs.eff.dbSNP_v149.cosmic_v82.clinvar_20170801.annotations.classic.vcf\n"
     ]
    },
    {
     "data": {
      "text/plain": [
       "'vcf2maf_template_discovery.txt'"
      ]
     },
     "execution_count": 45,
     "metadata": {},
     "output_type": "execute_result"
    },
    {
     "name": "stderr",
     "output_type": "stream",
     "text": [
      "\u001b[32mINFO:root:templated /projects/trans_scratch/validations/workspace/szong/Cervical/mutsig2cv/118_patients/vcf2maf_scripts/HTMCP-03-06-02217.snvs.sh\u001b[0m\n",
      "\u001b[32mINFO:root:templated /projects/trans_scratch/validations/workspace/szong/Cervical/mutsig2cv/118_patients/vcf2maf_scripts/HTMCP-03-06-02217.snvs.sh\u001b[0m\n"
     ]
    },
    {
     "name": "stdout",
     "output_type": "stream",
     "text": [
      "/projects/somatic/NCI_SAIC_HIV_Cervical/HTMCP-03-06-02217/hg19a/GSH/A57088_A56469/strelka/60092/bwa/results/passed.somatic.snvs.eff.dbSNP_v149.cosmic_v82.clinvar_20170801.annotations.classic.vcf\n"
     ]
    },
    {
     "data": {
      "text/plain": [
       "'vcf2maf_template_discovery.txt'"
      ]
     },
     "execution_count": 45,
     "metadata": {},
     "output_type": "execute_result"
    },
    {
     "name": "stderr",
     "output_type": "stream",
     "text": [
      "\u001b[32mINFO:root:templated /projects/trans_scratch/validations/workspace/szong/Cervical/mutsig2cv/118_patients/vcf2maf_scripts/HTMCP-03-06-02219.snvs.sh\u001b[0m\n",
      "\u001b[32mINFO:root:templated /projects/trans_scratch/validations/workspace/szong/Cervical/mutsig2cv/118_patients/vcf2maf_scripts/HTMCP-03-06-02219.snvs.sh\u001b[0m\n"
     ]
    },
    {
     "name": "stdout",
     "output_type": "stream",
     "text": [
      "/projects/somatic/NCI_SAIC_HIV_Cervical/HTMCP-03-06-02219/hg19a/GSH/A57089_A56470/strelka/60093/bwa/results/passed.somatic.snvs.eff.dbSNP_v149.cosmic_v82.clinvar_20170801.annotations.classic.vcf\n"
     ]
    },
    {
     "data": {
      "text/plain": [
       "'vcf2maf_template_discovery.txt'"
      ]
     },
     "execution_count": 45,
     "metadata": {},
     "output_type": "execute_result"
    },
    {
     "name": "stderr",
     "output_type": "stream",
     "text": [
      "\u001b[32mINFO:root:templated /projects/trans_scratch/validations/workspace/szong/Cervical/mutsig2cv/118_patients/vcf2maf_scripts/HTMCP-03-06-02225.snvs.sh\u001b[0m\n",
      "\u001b[32mINFO:root:templated /projects/trans_scratch/validations/workspace/szong/Cervical/mutsig2cv/118_patients/vcf2maf_scripts/HTMCP-03-06-02225.snvs.sh\u001b[0m\n"
     ]
    },
    {
     "name": "stdout",
     "output_type": "stream",
     "text": [
      "/projects/somatic/NCI_SAIC_HIV_Cervical/HTMCP-03-06-02225/hg19a/GSH/A57091_A56492/strelka/60095/bwa/results/passed.somatic.snvs.eff.dbSNP_v149.cosmic_v82.clinvar_20170801.annotations.classic.vcf\n"
     ]
    },
    {
     "data": {
      "text/plain": [
       "'vcf2maf_template_discovery.txt'"
      ]
     },
     "execution_count": 45,
     "metadata": {},
     "output_type": "execute_result"
    },
    {
     "name": "stderr",
     "output_type": "stream",
     "text": [
      "\u001b[32mINFO:root:templated /projects/trans_scratch/validations/workspace/szong/Cervical/mutsig2cv/118_patients/vcf2maf_scripts/HTMCP-03-06-02230.snvs.sh\u001b[0m\n",
      "\u001b[32mINFO:root:templated /projects/trans_scratch/validations/workspace/szong/Cervical/mutsig2cv/118_patients/vcf2maf_scripts/HTMCP-03-06-02230.snvs.sh\u001b[0m\n"
     ]
    },
    {
     "name": "stdout",
     "output_type": "stream",
     "text": [
      "/projects/somatic/NCI_SAIC_HIV_Cervical/HTMCP-03-06-02230/hg19a/GSH/A57092_A56493/strelka/60096/bwa/results/passed.somatic.snvs.eff.dbSNP_v149.cosmic_v82.clinvar_20170801.annotations.classic.vcf\n"
     ]
    },
    {
     "data": {
      "text/plain": [
       "'vcf2maf_template_discovery.txt'"
      ]
     },
     "execution_count": 45,
     "metadata": {},
     "output_type": "execute_result"
    },
    {
     "name": "stderr",
     "output_type": "stream",
     "text": [
      "\u001b[32mINFO:root:templated /projects/trans_scratch/validations/workspace/szong/Cervical/mutsig2cv/118_patients/vcf2maf_scripts/HTMCP-03-06-02235.snvs.sh\u001b[0m\n",
      "\u001b[32mINFO:root:templated /projects/trans_scratch/validations/workspace/szong/Cervical/mutsig2cv/118_patients/vcf2maf_scripts/HTMCP-03-06-02235.snvs.sh\u001b[0m\n"
     ]
    },
    {
     "name": "stdout",
     "output_type": "stream",
     "text": [
      "/projects/somatic/NCI_SAIC_HIV_Cervical/HTMCP-03-06-02235/hg19a/GSH/A57093_A56621/strelka/60100/bwa/results/passed.somatic.snvs.eff.dbSNP_v149.cosmic_v82.clinvar_20170801.annotations.classic.vcf\n"
     ]
    },
    {
     "data": {
      "text/plain": [
       "'vcf2maf_template_discovery.txt'"
      ]
     },
     "execution_count": 45,
     "metadata": {},
     "output_type": "execute_result"
    },
    {
     "name": "stderr",
     "output_type": "stream",
     "text": [
      "\u001b[32mINFO:root:templated /projects/trans_scratch/validations/workspace/szong/Cervical/mutsig2cv/118_patients/vcf2maf_scripts/HTMCP-03-06-02238.snvs.sh\u001b[0m\n",
      "\u001b[32mINFO:root:templated /projects/trans_scratch/validations/workspace/szong/Cervical/mutsig2cv/118_patients/vcf2maf_scripts/HTMCP-03-06-02238.snvs.sh\u001b[0m\n"
     ]
    },
    {
     "name": "stdout",
     "output_type": "stream",
     "text": [
      "/projects/somatic/NCI_SAIC_HIV_Cervical/HTMCP-03-06-02238/hg19a/GSH/A57094_A56622/strelka/60101/bwa/results/passed.somatic.snvs.eff.dbSNP_v149.cosmic_v82.clinvar_20170801.annotations.classic.vcf\n"
     ]
    },
    {
     "data": {
      "text/plain": [
       "'vcf2maf_template_discovery.txt'"
      ]
     },
     "execution_count": 45,
     "metadata": {},
     "output_type": "execute_result"
    },
    {
     "name": "stdout",
     "output_type": "stream",
     "text": [
      "/projects/somatic/NCI_SAIC_HIV_Cervical/HTMCP-03-06-02239/hg19a/GSH/A57095_A56623/strelka/60102/bwa/results/passed.somatic.snvs.eff.dbSNP_v149.cosmic_v82.clinvar_20170801.annotations.classic.vcf\n"
     ]
    },
    {
     "name": "stderr",
     "output_type": "stream",
     "text": [
      "\u001b[32mINFO:root:templated /projects/trans_scratch/validations/workspace/szong/Cervical/mutsig2cv/118_patients/vcf2maf_scripts/HTMCP-03-06-02239.snvs.sh\u001b[0m\n",
      "\u001b[32mINFO:root:templated /projects/trans_scratch/validations/workspace/szong/Cervical/mutsig2cv/118_patients/vcf2maf_scripts/HTMCP-03-06-02239.snvs.sh\u001b[0m\n"
     ]
    },
    {
     "data": {
      "text/plain": [
       "'vcf2maf_template_discovery.txt'"
      ]
     },
     "execution_count": 45,
     "metadata": {},
     "output_type": "execute_result"
    },
    {
     "name": "stdout",
     "output_type": "stream",
     "text": [
      "/projects/somatic/NCI_SAIC_HIV_Cervical/HTMCP-03-06-02240/hg19a/GSH/A57096_A56624/strelka/60103/bwa/results/passed.somatic.snvs.eff.dbSNP_v149.cosmic_v82.clinvar_20170801.annotations.classic.vcf"
     ]
    },
    {
     "name": "stderr",
     "output_type": "stream",
     "text": [
      "\u001b[32mINFO:root:templated /projects/trans_scratch/validations/workspace/szong/Cervical/mutsig2cv/118_patients/vcf2maf_scripts/HTMCP-03-06-02240.snvs.sh\u001b[0m\n",
      "\u001b[32mINFO:root:templated /projects/trans_scratch/validations/workspace/szong/Cervical/mutsig2cv/118_patients/vcf2maf_scripts/HTMCP-03-06-02240.snvs.sh\u001b[0m\n"
     ]
    },
    {
     "name": "stdout",
     "output_type": "stream",
     "text": [
      "\n"
     ]
    },
    {
     "data": {
      "text/plain": [
       "'vcf2maf_template_discovery.txt'"
      ]
     },
     "execution_count": 45,
     "metadata": {},
     "output_type": "execute_result"
    },
    {
     "name": "stderr",
     "output_type": "stream",
     "text": [
      "\u001b[32mINFO:root:templated /projects/trans_scratch/validations/workspace/szong/Cervical/mutsig2cv/118_patients/vcf2maf_scripts/HTMCP-03-06-02242.snvs.sh\u001b[0m\n",
      "\u001b[32mINFO:root:templated /projects/trans_scratch/validations/workspace/szong/Cervical/mutsig2cv/118_patients/vcf2maf_scripts/HTMCP-03-06-02242.snvs.sh\u001b[0m\n"
     ]
    },
    {
     "name": "stdout",
     "output_type": "stream",
     "text": [
      "/projects/somatic/NCI_SAIC_HIV_Cervical/HTMCP-03-06-02242/hg19a/GSH/A57097_A56625/strelka/60104/bwa/results/passed.somatic.snvs.eff.dbSNP_v149.cosmic_v82.clinvar_20170801.annotations.classic.vcf\n"
     ]
    },
    {
     "data": {
      "text/plain": [
       "'vcf2maf_template_discovery.txt'"
      ]
     },
     "execution_count": 45,
     "metadata": {},
     "output_type": "execute_result"
    },
    {
     "name": "stdout",
     "output_type": "stream",
     "text": [
      "/projects/somatic/NCI_SAIC_HIV_Cervical/HTMCP-03-06-02182/hg19a/GSH/A62911_A61302/strelka/60076/bwa/results/passed.somatic.snvs.eff.dbSNP_v149.cosmic_v82.clinvar_20170801.annotations.classic.vcf\n"
     ]
    },
    {
     "name": "stderr",
     "output_type": "stream",
     "text": [
      "\u001b[32mINFO:root:templated /projects/trans_scratch/validations/workspace/szong/Cervical/mutsig2cv/118_patients/vcf2maf_scripts/HTMCP-03-06-02182.snvs.sh\u001b[0m\n",
      "\u001b[32mINFO:root:templated /projects/trans_scratch/validations/workspace/szong/Cervical/mutsig2cv/118_patients/vcf2maf_scripts/HTMCP-03-06-02182.snvs.sh\u001b[0m\n"
     ]
    },
    {
     "data": {
      "text/plain": [
       "'vcf2maf_template_discovery.txt'"
      ]
     },
     "execution_count": 45,
     "metadata": {},
     "output_type": "execute_result"
    },
    {
     "name": "stdout",
     "output_type": "stream",
     "text": [
      "/projects/somatic/NCI_SAIC_HIV_Cervical/HTMCP-03-06-02197/hg19a/GSH/A62912_A61303/strelka/60081/bwa/results/passed.somatic.snvs.eff.dbSNP_v149.cosmic_v82.clinvar_20170801.annotations.classic.vcf\n"
     ]
    },
    {
     "name": "stderr",
     "output_type": "stream",
     "text": [
      "\u001b[32mINFO:root:templated /projects/trans_scratch/validations/workspace/szong/Cervical/mutsig2cv/118_patients/vcf2maf_scripts/HTMCP-03-06-02197.snvs.sh\u001b[0m\n",
      "\u001b[32mINFO:root:templated /projects/trans_scratch/validations/workspace/szong/Cervical/mutsig2cv/118_patients/vcf2maf_scripts/HTMCP-03-06-02197.snvs.sh\u001b[0m\n"
     ]
    },
    {
     "data": {
      "text/plain": [
       "'vcf2maf_template_discovery.txt'"
      ]
     },
     "execution_count": 45,
     "metadata": {},
     "output_type": "execute_result"
    },
    {
     "name": "stdout",
     "output_type": "stream",
     "text": [
      "/projects/somatic/NCI_SAIC_HIV_Cervical/HTMCP-03-06-02222/hg19a/GSH/A68231_A66439/strelka/60094/bwa/results/passed.somatic.snvs.eff.dbSNP_v149.cosmic_v82.clinvar_20170801.annotations.classic.vcf\n"
     ]
    },
    {
     "name": "stderr",
     "output_type": "stream",
     "text": [
      "\u001b[32mINFO:root:templated /projects/trans_scratch/validations/workspace/szong/Cervical/mutsig2cv/118_patients/vcf2maf_scripts/HTMCP-03-06-02222.snvs.sh\u001b[0m\n",
      "\u001b[32mINFO:root:templated /projects/trans_scratch/validations/workspace/szong/Cervical/mutsig2cv/118_patients/vcf2maf_scripts/HTMCP-03-06-02222.snvs.sh\u001b[0m\n"
     ]
    },
    {
     "data": {
      "text/plain": [
       "'vcf2maf_template_discovery.txt'"
      ]
     },
     "execution_count": 45,
     "metadata": {},
     "output_type": "execute_result"
    },
    {
     "name": "stdout",
     "output_type": "stream",
     "text": [
      "/projects/somatic/NCI_SAIC_HIV_Cervical/HTMCP-03-06-02256/hg19a/GSH/A68232_A66440/strelka/60105/bwa/results/passed.somatic.snvs.eff.dbSNP_v149.cosmic_v82.clinvar_20170801.annotations.classic.vcf\n"
     ]
    },
    {
     "name": "stderr",
     "output_type": "stream",
     "text": [
      "\u001b[32mINFO:root:templated /projects/trans_scratch/validations/workspace/szong/Cervical/mutsig2cv/118_patients/vcf2maf_scripts/HTMCP-03-06-02256.snvs.sh\u001b[0m\n",
      "\u001b[32mINFO:root:templated /projects/trans_scratch/validations/workspace/szong/Cervical/mutsig2cv/118_patients/vcf2maf_scripts/HTMCP-03-06-02256.snvs.sh\u001b[0m\n"
     ]
    },
    {
     "data": {
      "text/plain": [
       "'vcf2maf_template_discovery.txt'"
      ]
     },
     "execution_count": 45,
     "metadata": {},
     "output_type": "execute_result"
    },
    {
     "name": "stdout",
     "output_type": "stream",
     "text": [
      "/projects/somatic/NCI_SAIC_HIV_Cervical/HTMCP-03-06-02259/hg19a/GSH/A68233_A66441/strelka/60106/bwa/results/passed.somatic.snvs.eff.dbSNP_v149.cosmic_v82.clinvar_20170801.annotations.classic.vcf\n"
     ]
    },
    {
     "name": "stderr",
     "output_type": "stream",
     "text": [
      "\u001b[32mINFO:root:templated /projects/trans_scratch/validations/workspace/szong/Cervical/mutsig2cv/118_patients/vcf2maf_scripts/HTMCP-03-06-02259.snvs.sh\u001b[0m\n",
      "\u001b[32mINFO:root:templated /projects/trans_scratch/validations/workspace/szong/Cervical/mutsig2cv/118_patients/vcf2maf_scripts/HTMCP-03-06-02259.snvs.sh\u001b[0m\n"
     ]
    },
    {
     "data": {
      "text/plain": [
       "'vcf2maf_template_discovery.txt'"
      ]
     },
     "execution_count": 45,
     "metadata": {},
     "output_type": "execute_result"
    },
    {
     "name": "stdout",
     "output_type": "stream",
     "text": [
      "/projects/somatic/NCI_SAIC_HIV_Cervical/HTMCP-03-06-02260/hg19a/GSH/A68234_A66442/strelka/60107/bwa/results/passed.somatic.snvs.eff.dbSNP_v149.cosmic_v82.clinvar_20170801.annotations.classic.vcf\n"
     ]
    },
    {
     "name": "stderr",
     "output_type": "stream",
     "text": [
      "\u001b[32mINFO:root:templated /projects/trans_scratch/validations/workspace/szong/Cervical/mutsig2cv/118_patients/vcf2maf_scripts/HTMCP-03-06-02260.snvs.sh\u001b[0m\n",
      "\u001b[32mINFO:root:templated /projects/trans_scratch/validations/workspace/szong/Cervical/mutsig2cv/118_patients/vcf2maf_scripts/HTMCP-03-06-02260.snvs.sh\u001b[0m\n"
     ]
    },
    {
     "data": {
      "text/plain": [
       "'vcf2maf_template_discovery.txt'"
      ]
     },
     "execution_count": 45,
     "metadata": {},
     "output_type": "execute_result"
    },
    {
     "name": "stdout",
     "output_type": "stream",
     "text": [
      "/projects/somatic/NCI_SAIC_HIV_Cervical/HTMCP-03-06-02261/hg19a/GSH/A68235_A66443/strelka/60108/bwa/results/passed.somatic.snvs.eff.dbSNP_v149.cosmic_v82.clinvar_20170801.annotations.classic.vcf\n"
     ]
    },
    {
     "name": "stderr",
     "output_type": "stream",
     "text": [
      "\u001b[32mINFO:root:templated /projects/trans_scratch/validations/workspace/szong/Cervical/mutsig2cv/118_patients/vcf2maf_scripts/HTMCP-03-06-02261.snvs.sh\u001b[0m\n",
      "\u001b[32mINFO:root:templated /projects/trans_scratch/validations/workspace/szong/Cervical/mutsig2cv/118_patients/vcf2maf_scripts/HTMCP-03-06-02261.snvs.sh\u001b[0m\n"
     ]
    },
    {
     "data": {
      "text/plain": [
       "'vcf2maf_template_discovery.txt'"
      ]
     },
     "execution_count": 45,
     "metadata": {},
     "output_type": "execute_result"
    },
    {
     "name": "stdout",
     "output_type": "stream",
     "text": [
      "/projects/somatic/NCI_SAIC_HIV_Cervical/HTMCP-03-06-02262/hg19a/GSH/A68236_A66444/strelka/60109/bwa/results/passed.somatic.snvs.eff.dbSNP_v149.cosmic_v82.clinvar_20170801.annotations.classic.vcf\n"
     ]
    },
    {
     "name": "stderr",
     "output_type": "stream",
     "text": [
      "\u001b[32mINFO:root:templated /projects/trans_scratch/validations/workspace/szong/Cervical/mutsig2cv/118_patients/vcf2maf_scripts/HTMCP-03-06-02262.snvs.sh\u001b[0m\n",
      "\u001b[32mINFO:root:templated /projects/trans_scratch/validations/workspace/szong/Cervical/mutsig2cv/118_patients/vcf2maf_scripts/HTMCP-03-06-02262.snvs.sh\u001b[0m\n"
     ]
    },
    {
     "data": {
      "text/plain": [
       "'vcf2maf_template_discovery.txt'"
      ]
     },
     "execution_count": 45,
     "metadata": {},
     "output_type": "execute_result"
    },
    {
     "name": "stdout",
     "output_type": "stream",
     "text": [
      "/projects/somatic/NCI_SAIC_HIV_Cervical/HTMCP-03-06-02264/hg19a/GSH/A68237_A66445/strelka/60110/bwa/results/passed.somatic.snvs.eff.dbSNP_v149.cosmic_v82.clinvar_20170801.annotations.classic.vcf\n"
     ]
    },
    {
     "name": "stderr",
     "output_type": "stream",
     "text": [
      "\u001b[32mINFO:root:templated /projects/trans_scratch/validations/workspace/szong/Cervical/mutsig2cv/118_patients/vcf2maf_scripts/HTMCP-03-06-02264.snvs.sh\u001b[0m\n",
      "\u001b[32mINFO:root:templated /projects/trans_scratch/validations/workspace/szong/Cervical/mutsig2cv/118_patients/vcf2maf_scripts/HTMCP-03-06-02264.snvs.sh\u001b[0m\n"
     ]
    },
    {
     "data": {
      "text/plain": [
       "'vcf2maf_template_discovery.txt'"
      ]
     },
     "execution_count": 45,
     "metadata": {},
     "output_type": "execute_result"
    },
    {
     "name": "stdout",
     "output_type": "stream",
     "text": [
      "/projects/somatic/NCI_SAIC_HIV_Cervical/HTMCP-03-06-02266/hg19a/GSH/A68238_A66446/strelka/60111/bwa/results/passed.somatic.snvs.eff.dbSNP_v149.cosmic_v82.clinvar_20170801.annotations.classic.vcf\n"
     ]
    },
    {
     "name": "stderr",
     "output_type": "stream",
     "text": [
      "\u001b[32mINFO:root:templated /projects/trans_scratch/validations/workspace/szong/Cervical/mutsig2cv/118_patients/vcf2maf_scripts/HTMCP-03-06-02266.snvs.sh\u001b[0m\n",
      "\u001b[32mINFO:root:templated /projects/trans_scratch/validations/workspace/szong/Cervical/mutsig2cv/118_patients/vcf2maf_scripts/HTMCP-03-06-02266.snvs.sh\u001b[0m\n"
     ]
    },
    {
     "data": {
      "text/plain": [
       "'vcf2maf_template_discovery.txt'"
      ]
     },
     "execution_count": 45,
     "metadata": {},
     "output_type": "execute_result"
    },
    {
     "name": "stdout",
     "output_type": "stream",
     "text": [
      "/projects/somatic/NCI_SAIC_HIV_Cervical/HTMCP-03-06-02267/hg19a/GSH/A68239_A66447/strelka/60112/bwa/results/passed.somatic.snvs.eff.dbSNP_v149.cosmic_v82.clinvar_20170801.annotations.classic.vcf\n"
     ]
    },
    {
     "name": "stderr",
     "output_type": "stream",
     "text": [
      "\u001b[32mINFO:root:templated /projects/trans_scratch/validations/workspace/szong/Cervical/mutsig2cv/118_patients/vcf2maf_scripts/HTMCP-03-06-02267.snvs.sh\u001b[0m\n",
      "\u001b[32mINFO:root:templated /projects/trans_scratch/validations/workspace/szong/Cervical/mutsig2cv/118_patients/vcf2maf_scripts/HTMCP-03-06-02267.snvs.sh\u001b[0m\n"
     ]
    },
    {
     "data": {
      "text/plain": [
       "'vcf2maf_template_discovery.txt'"
      ]
     },
     "execution_count": 45,
     "metadata": {},
     "output_type": "execute_result"
    },
    {
     "name": "stdout",
     "output_type": "stream",
     "text": [
      "/projects/somatic/NCI_SAIC_HIV_Cervical/HTMCP-03-06-02268/hg19a/GSH/A68240_A66448/strelka/60113/bwa/results/passed.somatic.snvs.eff.dbSNP_v149.cosmic_v82.clinvar_20170801.annotations.classic.vcf\n"
     ]
    },
    {
     "name": "stderr",
     "output_type": "stream",
     "text": [
      "\u001b[32mINFO:root:templated /projects/trans_scratch/validations/workspace/szong/Cervical/mutsig2cv/118_patients/vcf2maf_scripts/HTMCP-03-06-02268.snvs.sh\u001b[0m\n",
      "\u001b[32mINFO:root:templated /projects/trans_scratch/validations/workspace/szong/Cervical/mutsig2cv/118_patients/vcf2maf_scripts/HTMCP-03-06-02268.snvs.sh\u001b[0m\n"
     ]
    },
    {
     "data": {
      "text/plain": [
       "'vcf2maf_template_discovery.txt'"
      ]
     },
     "execution_count": 45,
     "metadata": {},
     "output_type": "execute_result"
    },
    {
     "name": "stdout",
     "output_type": "stream",
     "text": [
      "/projects/somatic/NCI_SAIC_HIV_Cervical/HTMCP-03-06-02320/hg19a/GSH/A68241_A66449/strelka/60114/bwa/results/passed.somatic.snvs.eff.dbSNP_v149.cosmic_v82.clinvar_20170801.annotations.classic.vcf\n"
     ]
    },
    {
     "name": "stderr",
     "output_type": "stream",
     "text": [
      "\u001b[32mINFO:root:templated /projects/trans_scratch/validations/workspace/szong/Cervical/mutsig2cv/118_patients/vcf2maf_scripts/HTMCP-03-06-02320.snvs.sh\u001b[0m\n",
      "\u001b[32mINFO:root:templated /projects/trans_scratch/validations/workspace/szong/Cervical/mutsig2cv/118_patients/vcf2maf_scripts/HTMCP-03-06-02320.snvs.sh\u001b[0m\n"
     ]
    },
    {
     "data": {
      "text/plain": [
       "'vcf2maf_template_discovery.txt'"
      ]
     },
     "execution_count": 45,
     "metadata": {},
     "output_type": "execute_result"
    },
    {
     "name": "stdout",
     "output_type": "stream",
     "text": [
      "/projects/somatic/NCI_SAIC_HIV_Cervical/HTMCP-03-06-02322/hg19a/GSH/A68243_A66451/strelka/60115/bwa/results/passed.somatic.snvs.eff.dbSNP_v149.cosmic_v82.clinvar_20170801.annotations.classic.vcf\n"
     ]
    },
    {
     "name": "stderr",
     "output_type": "stream",
     "text": [
      "\u001b[32mINFO:root:templated /projects/trans_scratch/validations/workspace/szong/Cervical/mutsig2cv/118_patients/vcf2maf_scripts/HTMCP-03-06-02322.snvs.sh\u001b[0m\n",
      "\u001b[32mINFO:root:templated /projects/trans_scratch/validations/workspace/szong/Cervical/mutsig2cv/118_patients/vcf2maf_scripts/HTMCP-03-06-02322.snvs.sh\u001b[0m\n"
     ]
    },
    {
     "data": {
      "text/plain": [
       "'vcf2maf_template_discovery.txt'"
      ]
     },
     "execution_count": 45,
     "metadata": {},
     "output_type": "execute_result"
    },
    {
     "name": "stdout",
     "output_type": "stream",
     "text": [
      "/projects/somatic/NCI_SAIC_HIV_Cervical/HTMCP-03-06-02326/hg19a/GSH/A68244_A66452/strelka/60116/bwa/results/passed.somatic.snvs.eff.dbSNP_v149.cosmic_v82.clinvar_20170801.annotations.classic.vcf\n"
     ]
    },
    {
     "name": "stderr",
     "output_type": "stream",
     "text": [
      "\u001b[32mINFO:root:templated /projects/trans_scratch/validations/workspace/szong/Cervical/mutsig2cv/118_patients/vcf2maf_scripts/HTMCP-03-06-02326.snvs.sh\u001b[0m\n",
      "\u001b[32mINFO:root:templated /projects/trans_scratch/validations/workspace/szong/Cervical/mutsig2cv/118_patients/vcf2maf_scripts/HTMCP-03-06-02326.snvs.sh\u001b[0m\n"
     ]
    },
    {
     "data": {
      "text/plain": [
       "'vcf2maf_template_discovery.txt'"
      ]
     },
     "execution_count": 45,
     "metadata": {},
     "output_type": "execute_result"
    },
    {
     "name": "stdout",
     "output_type": "stream",
     "text": [
      "/projects/somatic/NCI_SAIC_HIV_Cervical/HTMCP-03-06-02328/hg19a/GSH/A68246_A66454/strelka/60117/bwa/results/passed.somatic.snvs.eff.dbSNP_v149.cosmic_v82.clinvar_20170801.annotations.classic.vcf\n"
     ]
    },
    {
     "name": "stderr",
     "output_type": "stream",
     "text": [
      "\u001b[32mINFO:root:templated /projects/trans_scratch/validations/workspace/szong/Cervical/mutsig2cv/118_patients/vcf2maf_scripts/HTMCP-03-06-02328.snvs.sh\u001b[0m\n",
      "\u001b[32mINFO:root:templated /projects/trans_scratch/validations/workspace/szong/Cervical/mutsig2cv/118_patients/vcf2maf_scripts/HTMCP-03-06-02328.snvs.sh\u001b[0m\n"
     ]
    },
    {
     "data": {
      "text/plain": [
       "'vcf2maf_template_discovery.txt'"
      ]
     },
     "execution_count": 45,
     "metadata": {},
     "output_type": "execute_result"
    },
    {
     "name": "stdout",
     "output_type": "stream",
     "text": [
      "/projects/somatic/NCI_SAIC_HIV_Cervical/HTMCP-03-06-02330/hg19a/GSH/A68247_A66455/strelka/60118/bwa/results/passed.somatic.snvs.eff.dbSNP_v149.cosmic_v82.clinvar_20170801.annotations.classic.vcf\n"
     ]
    },
    {
     "name": "stderr",
     "output_type": "stream",
     "text": [
      "\u001b[32mINFO:root:templated /projects/trans_scratch/validations/workspace/szong/Cervical/mutsig2cv/118_patients/vcf2maf_scripts/HTMCP-03-06-02330.snvs.sh\u001b[0m\n",
      "\u001b[32mINFO:root:templated /projects/trans_scratch/validations/workspace/szong/Cervical/mutsig2cv/118_patients/vcf2maf_scripts/HTMCP-03-06-02330.snvs.sh\u001b[0m\n"
     ]
    },
    {
     "data": {
      "text/plain": [
       "'vcf2maf_template_discovery.txt'"
      ]
     },
     "execution_count": 45,
     "metadata": {},
     "output_type": "execute_result"
    },
    {
     "name": "stdout",
     "output_type": "stream",
     "text": [
      "/projects/somatic/NCI_SAIC_HIV_Cervical/HTMCP-03-06-02332/hg19a/GSH/A68248_A66456/strelka/60119/bwa/results/passed.somatic.snvs.eff.dbSNP_v149.cosmic_v82.clinvar_20170801.annotations.classic.vcf\n"
     ]
    },
    {
     "name": "stderr",
     "output_type": "stream",
     "text": [
      "\u001b[32mINFO:root:templated /projects/trans_scratch/validations/workspace/szong/Cervical/mutsig2cv/118_patients/vcf2maf_scripts/HTMCP-03-06-02332.snvs.sh\u001b[0m\n",
      "\u001b[32mINFO:root:templated /projects/trans_scratch/validations/workspace/szong/Cervical/mutsig2cv/118_patients/vcf2maf_scripts/HTMCP-03-06-02332.snvs.sh\u001b[0m\n"
     ]
    },
    {
     "data": {
      "text/plain": [
       "'vcf2maf_template_discovery.txt'"
      ]
     },
     "execution_count": 45,
     "metadata": {},
     "output_type": "execute_result"
    },
    {
     "name": "stdout",
     "output_type": "stream",
     "text": [
      "/projects/somatic/NCI_SAIC_HIV_Cervical/HTMCP-03-06-02333/hg19a/GSH/A68249_A66457/strelka/60120/bwa/results/passed.somatic.snvs.eff.dbSNP_v149.cosmic_v82.clinvar_20170801.annotations.classic.vcf\n"
     ]
    },
    {
     "name": "stderr",
     "output_type": "stream",
     "text": [
      "\u001b[32mINFO:root:templated /projects/trans_scratch/validations/workspace/szong/Cervical/mutsig2cv/118_patients/vcf2maf_scripts/HTMCP-03-06-02333.snvs.sh\u001b[0m\n",
      "\u001b[32mINFO:root:templated /projects/trans_scratch/validations/workspace/szong/Cervical/mutsig2cv/118_patients/vcf2maf_scripts/HTMCP-03-06-02333.snvs.sh\u001b[0m\n"
     ]
    },
    {
     "data": {
      "text/plain": [
       "'vcf2maf_template_discovery.txt'"
      ]
     },
     "execution_count": 45,
     "metadata": {},
     "output_type": "execute_result"
    },
    {
     "name": "stdout",
     "output_type": "stream",
     "text": [
      "/projects/somatic/NCI_SAIC_HIV_Cervical/HTMCP-03-06-02335/hg19a/GSH/A71828_A70135/strelka/60121/bwa/results/passed.somatic.snvs.eff.dbSNP_v149.cosmic_v82.clinvar_20170801.annotations.classic.vcf\n"
     ]
    },
    {
     "name": "stderr",
     "output_type": "stream",
     "text": [
      "\u001b[32mINFO:root:templated /projects/trans_scratch/validations/workspace/szong/Cervical/mutsig2cv/118_patients/vcf2maf_scripts/HTMCP-03-06-02335.snvs.sh\u001b[0m\n",
      "\u001b[32mINFO:root:templated /projects/trans_scratch/validations/workspace/szong/Cervical/mutsig2cv/118_patients/vcf2maf_scripts/HTMCP-03-06-02335.snvs.sh\u001b[0m\n"
     ]
    },
    {
     "data": {
      "text/plain": [
       "'vcf2maf_template_discovery.txt'"
      ]
     },
     "execution_count": 45,
     "metadata": {},
     "output_type": "execute_result"
    },
    {
     "name": "stdout",
     "output_type": "stream",
     "text": [
      "/projects/somatic/NCI_SAIC_HIV_Cervical/HTMCP-03-06-02340/hg19a/GSH/A71832_A70139/strelka/60122/bwa/results/passed.somatic.snvs.eff.dbSNP_v149.cosmic_v82.clinvar_20170801.annotations.classic.vcf\n"
     ]
    },
    {
     "name": "stderr",
     "output_type": "stream",
     "text": [
      "\u001b[32mINFO:root:templated /projects/trans_scratch/validations/workspace/szong/Cervical/mutsig2cv/118_patients/vcf2maf_scripts/HTMCP-03-06-02340.snvs.sh\u001b[0m\n",
      "\u001b[32mINFO:root:templated /projects/trans_scratch/validations/workspace/szong/Cervical/mutsig2cv/118_patients/vcf2maf_scripts/HTMCP-03-06-02340.snvs.sh\u001b[0m\n"
     ]
    },
    {
     "data": {
      "text/plain": [
       "'vcf2maf_template_discovery.txt'"
      ]
     },
     "execution_count": 45,
     "metadata": {},
     "output_type": "execute_result"
    },
    {
     "name": "stdout",
     "output_type": "stream",
     "text": [
      "/projects/somatic/NCI_SAIC_HIV_Cervical/HTMCP-03-06-02341/hg19a/GSH/A71833_A70140/strelka/60123/bwa/results/passed.somatic.snvs.eff.dbSNP_v149.cosmic_v82.clinvar_20170801.annotations.classic.vcf\n"
     ]
    },
    {
     "name": "stderr",
     "output_type": "stream",
     "text": [
      "\u001b[32mINFO:root:templated /projects/trans_scratch/validations/workspace/szong/Cervical/mutsig2cv/118_patients/vcf2maf_scripts/HTMCP-03-06-02341.snvs.sh\u001b[0m\n",
      "\u001b[32mINFO:root:templated /projects/trans_scratch/validations/workspace/szong/Cervical/mutsig2cv/118_patients/vcf2maf_scripts/HTMCP-03-06-02341.snvs.sh\u001b[0m\n"
     ]
    },
    {
     "data": {
      "text/plain": [
       "'vcf2maf_template_discovery.txt'"
      ]
     },
     "execution_count": 45,
     "metadata": {},
     "output_type": "execute_result"
    },
    {
     "name": "stdout",
     "output_type": "stream",
     "text": [
      "/projects/somatic/NCI_SAIC_HIV_Cervical/HTMCP-03-06-02344/hg19a/GSH/A71836_A70143/strelka/60124/bwa/results/passed.somatic.snvs.eff.dbSNP_v149.cosmic_v82.clinvar_20170801.annotations.classic.vcf\n"
     ]
    },
    {
     "name": "stderr",
     "output_type": "stream",
     "text": [
      "\u001b[32mINFO:root:templated /projects/trans_scratch/validations/workspace/szong/Cervical/mutsig2cv/118_patients/vcf2maf_scripts/HTMCP-03-06-02344.snvs.sh\u001b[0m\n",
      "\u001b[32mINFO:root:templated /projects/trans_scratch/validations/workspace/szong/Cervical/mutsig2cv/118_patients/vcf2maf_scripts/HTMCP-03-06-02344.snvs.sh\u001b[0m\n"
     ]
    },
    {
     "data": {
      "text/plain": [
       "'vcf2maf_template_discovery.txt'"
      ]
     },
     "execution_count": 45,
     "metadata": {},
     "output_type": "execute_result"
    },
    {
     "name": "stdout",
     "output_type": "stream",
     "text": [
      "/projects/somatic/NCI_SAIC_HIV_Cervical/HTMCP-03-06-02346/hg19a/GSH/A71838_A70145/strelka/60125/bwa/results/passed.somatic.snvs.eff.dbSNP_v149.cosmic_v82.clinvar_20170801.annotations.classic.vcf\n"
     ]
    },
    {
     "name": "stderr",
     "output_type": "stream",
     "text": [
      "\u001b[32mINFO:root:templated /projects/trans_scratch/validations/workspace/szong/Cervical/mutsig2cv/118_patients/vcf2maf_scripts/HTMCP-03-06-02346.snvs.sh\u001b[0m\n",
      "\u001b[32mINFO:root:templated /projects/trans_scratch/validations/workspace/szong/Cervical/mutsig2cv/118_patients/vcf2maf_scripts/HTMCP-03-06-02346.snvs.sh\u001b[0m\n"
     ]
    },
    {
     "data": {
      "text/plain": [
       "'vcf2maf_template_discovery.txt'"
      ]
     },
     "execution_count": 45,
     "metadata": {},
     "output_type": "execute_result"
    },
    {
     "name": "stdout",
     "output_type": "stream",
     "text": [
      "/projects/somatic/NCI_SAIC_HIV_Cervical/HTMCP-03-06-02354/hg19a/GSH/A71842_A70149/strelka/60126/bwa/results/passed.somatic.snvs.eff.dbSNP_v149.cosmic_v82.clinvar_20170801.annotations.classic.vcf\n"
     ]
    },
    {
     "name": "stderr",
     "output_type": "stream",
     "text": [
      "\u001b[32mINFO:root:templated /projects/trans_scratch/validations/workspace/szong/Cervical/mutsig2cv/118_patients/vcf2maf_scripts/HTMCP-03-06-02354.snvs.sh\u001b[0m\n",
      "\u001b[32mINFO:root:templated /projects/trans_scratch/validations/workspace/szong/Cervical/mutsig2cv/118_patients/vcf2maf_scripts/HTMCP-03-06-02354.snvs.sh\u001b[0m\n"
     ]
    },
    {
     "data": {
      "text/plain": [
       "'vcf2maf_template_discovery.txt'"
      ]
     },
     "execution_count": 45,
     "metadata": {},
     "output_type": "execute_result"
    },
    {
     "name": "stdout",
     "output_type": "stream",
     "text": [
      "/projects/somatic/NCI_SAIC_HIV_Cervical/HTMCP-03-06-02377/hg19a/GSH/A78394_A76706/strelka/60127/bwa/results/passed.somatic.snvs.eff.dbSNP_v149.cosmic_v82.clinvar_20170801.annotations.classic.vcf\n"
     ]
    },
    {
     "name": "stderr",
     "output_type": "stream",
     "text": [
      "\u001b[32mINFO:root:templated /projects/trans_scratch/validations/workspace/szong/Cervical/mutsig2cv/118_patients/vcf2maf_scripts/HTMCP-03-06-02377.snvs.sh\u001b[0m\n",
      "\u001b[32mINFO:root:templated /projects/trans_scratch/validations/workspace/szong/Cervical/mutsig2cv/118_patients/vcf2maf_scripts/HTMCP-03-06-02377.snvs.sh\u001b[0m\n"
     ]
    },
    {
     "data": {
      "text/plain": [
       "'vcf2maf_template_discovery.txt'"
      ]
     },
     "execution_count": 45,
     "metadata": {},
     "output_type": "execute_result"
    },
    {
     "name": "stdout",
     "output_type": "stream",
     "text": [
      "/projects/somatic/NCI_SAIC_HIV_Cervical/HTMCP-03-06-02392/hg19a/GSH/A78402_A76715/strelka/60128/bwa/results/passed.somatic.snvs.eff.dbSNP_v149.cosmic_v82.clinvar_20170801.annotations.classic.vcf\n"
     ]
    },
    {
     "name": "stderr",
     "output_type": "stream",
     "text": [
      "\u001b[32mINFO:root:templated /projects/trans_scratch/validations/workspace/szong/Cervical/mutsig2cv/118_patients/vcf2maf_scripts/HTMCP-03-06-02392.snvs.sh\u001b[0m\n",
      "\u001b[32mINFO:root:templated /projects/trans_scratch/validations/workspace/szong/Cervical/mutsig2cv/118_patients/vcf2maf_scripts/HTMCP-03-06-02392.snvs.sh\u001b[0m\n"
     ]
    },
    {
     "data": {
      "text/plain": [
       "'vcf2maf_template_discovery.txt'"
      ]
     },
     "execution_count": 45,
     "metadata": {},
     "output_type": "execute_result"
    },
    {
     "name": "stdout",
     "output_type": "stream",
     "text": [
      "/projects/somatic/NCI_SAIC_HIV_Cervical/HTMCP-03-06-02393/hg19a/GSH/A78403_A76716/strelka/60129/bwa/results/passed.somatic.snvs.eff.dbSNP_v149.cosmic_v82.clinvar_20170801.annotations.classic.vcf\n"
     ]
    },
    {
     "name": "stderr",
     "output_type": "stream",
     "text": [
      "\u001b[32mINFO:root:templated /projects/trans_scratch/validations/workspace/szong/Cervical/mutsig2cv/118_patients/vcf2maf_scripts/HTMCP-03-06-02393.snvs.sh\u001b[0m\n",
      "\u001b[32mINFO:root:templated /projects/trans_scratch/validations/workspace/szong/Cervical/mutsig2cv/118_patients/vcf2maf_scripts/HTMCP-03-06-02393.snvs.sh\u001b[0m\n"
     ]
    },
    {
     "data": {
      "text/plain": [
       "'vcf2maf_template_discovery.txt'"
      ]
     },
     "execution_count": 45,
     "metadata": {},
     "output_type": "execute_result"
    },
    {
     "name": "stdout",
     "output_type": "stream",
     "text": [
      "/projects/somatic/NCI_SAIC_HIV_Cervical/HTMCP-03-06-02396/hg19a/GSH/A78405_A76718/strelka/60130/bwa/results/passed.somatic.snvs.eff.dbSNP_v149.cosmic_v82.clinvar_20170801.annotations.classic.vcf\n"
     ]
    },
    {
     "name": "stderr",
     "output_type": "stream",
     "text": [
      "\u001b[32mINFO:root:templated /projects/trans_scratch/validations/workspace/szong/Cervical/mutsig2cv/118_patients/vcf2maf_scripts/HTMCP-03-06-02396.snvs.sh\u001b[0m\n",
      "\u001b[32mINFO:root:templated /projects/trans_scratch/validations/workspace/szong/Cervical/mutsig2cv/118_patients/vcf2maf_scripts/HTMCP-03-06-02396.snvs.sh\u001b[0m\n"
     ]
    },
    {
     "data": {
      "text/plain": [
       "'vcf2maf_template_discovery.txt'"
      ]
     },
     "execution_count": 45,
     "metadata": {},
     "output_type": "execute_result"
    },
    {
     "name": "stdout",
     "output_type": "stream",
     "text": [
      "/projects/somatic/NCI_SAIC_HIV_Cervical/HTMCP-03-06-02411/hg19a/GSH/A78416_A76729/strelka/60131/bwa/results/passed.somatic.snvs.eff.dbSNP_v149.cosmic_v82.clinvar_20170801.annotations.classic.vcf\n"
     ]
    },
    {
     "name": "stderr",
     "output_type": "stream",
     "text": [
      "\u001b[32mINFO:root:templated /projects/trans_scratch/validations/workspace/szong/Cervical/mutsig2cv/118_patients/vcf2maf_scripts/HTMCP-03-06-02411.snvs.sh\u001b[0m\n",
      "\u001b[32mINFO:root:templated /projects/trans_scratch/validations/workspace/szong/Cervical/mutsig2cv/118_patients/vcf2maf_scripts/HTMCP-03-06-02411.snvs.sh\u001b[0m\n"
     ]
    },
    {
     "data": {
      "text/plain": [
       "'vcf2maf_template_discovery.txt'"
      ]
     },
     "execution_count": 45,
     "metadata": {},
     "output_type": "execute_result"
    },
    {
     "name": "stdout",
     "output_type": "stream",
     "text": [
      "/projects/somatic/NCI_SAIC_HIV_Cervical/HTMCP-03-06-02414/hg19a/GSH/A78418_A76731/strelka/60132/bwa/results/passed.somatic.snvs.eff.dbSNP_v149.cosmic_v82.clinvar_20170801.annotations.classic.vcf\n"
     ]
    },
    {
     "name": "stderr",
     "output_type": "stream",
     "text": [
      "\u001b[32mINFO:root:templated /projects/trans_scratch/validations/workspace/szong/Cervical/mutsig2cv/118_patients/vcf2maf_scripts/HTMCP-03-06-02414.snvs.sh\u001b[0m\n",
      "\u001b[32mINFO:root:templated /projects/trans_scratch/validations/workspace/szong/Cervical/mutsig2cv/118_patients/vcf2maf_scripts/HTMCP-03-06-02414.snvs.sh\u001b[0m\n"
     ]
    },
    {
     "data": {
      "text/plain": [
       "'vcf2maf_template_discovery.txt'"
      ]
     },
     "execution_count": 45,
     "metadata": {},
     "output_type": "execute_result"
    },
    {
     "name": "stdout",
     "output_type": "stream",
     "text": [
      "/projects/somatic/NCI_SAIC_HIV_Cervical/HTMCP-03-06-02417/hg19a/GSH/A78420_A76733/strelka/60133/bwa/results/passed.somatic.snvs.eff.dbSNP_v149.cosmic_v82.clinvar_20170801.annotations.classic.vcf\n"
     ]
    },
    {
     "name": "stderr",
     "output_type": "stream",
     "text": [
      "\u001b[32mINFO:root:templated /projects/trans_scratch/validations/workspace/szong/Cervical/mutsig2cv/118_patients/vcf2maf_scripts/HTMCP-03-06-02417.snvs.sh\u001b[0m\n",
      "\u001b[32mINFO:root:templated /projects/trans_scratch/validations/workspace/szong/Cervical/mutsig2cv/118_patients/vcf2maf_scripts/HTMCP-03-06-02417.snvs.sh\u001b[0m\n"
     ]
    },
    {
     "data": {
      "text/plain": [
       "'vcf2maf_template_discovery.txt'"
      ]
     },
     "execution_count": 45,
     "metadata": {},
     "output_type": "execute_result"
    },
    {
     "name": "stdout",
     "output_type": "stream",
     "text": [
      "/projects/somatic/NCI_SAIC_HIV_Cervical/HTMCP-03-06-02424/hg19a/GSH/A78427_A76740/strelka/60134/bwa/results/passed.somatic.snvs.eff.dbSNP_v149.cosmic_v82.clinvar_20170801.annotations.classic.vcf\n"
     ]
    },
    {
     "name": "stderr",
     "output_type": "stream",
     "text": [
      "\u001b[32mINFO:root:templated /projects/trans_scratch/validations/workspace/szong/Cervical/mutsig2cv/118_patients/vcf2maf_scripts/HTMCP-03-06-02424.snvs.sh\u001b[0m\n",
      "\u001b[32mINFO:root:templated /projects/trans_scratch/validations/workspace/szong/Cervical/mutsig2cv/118_patients/vcf2maf_scripts/HTMCP-03-06-02424.snvs.sh\u001b[0m\n"
     ]
    },
    {
     "data": {
      "text/plain": [
       "'vcf2maf_template_discovery.txt'"
      ]
     },
     "execution_count": 45,
     "metadata": {},
     "output_type": "execute_result"
    },
    {
     "name": "stdout",
     "output_type": "stream",
     "text": [
      "/projects/somatic/NCI_SAIC_HIV_Cervical/HTMCP-03-06-02427/hg19a/GSH/A78429_A76742/strelka/60135/bwa/results/passed.somatic.snvs.eff.dbSNP_v149.cosmic_v82.clinvar_20170801.annotations.classic.vcf\n"
     ]
    },
    {
     "name": "stderr",
     "output_type": "stream",
     "text": [
      "\u001b[32mINFO:root:templated /projects/trans_scratch/validations/workspace/szong/Cervical/mutsig2cv/118_patients/vcf2maf_scripts/HTMCP-03-06-02427.snvs.sh\u001b[0m\n",
      "\u001b[32mINFO:root:templated /projects/trans_scratch/validations/workspace/szong/Cervical/mutsig2cv/118_patients/vcf2maf_scripts/HTMCP-03-06-02427.snvs.sh\u001b[0m\n"
     ]
    },
    {
     "data": {
      "text/plain": [
       "'vcf2maf_template_discovery.txt'"
      ]
     },
     "execution_count": 45,
     "metadata": {},
     "output_type": "execute_result"
    },
    {
     "name": "stderr",
     "output_type": "stream",
     "text": [
      "\u001b[32mINFO:root:templated /projects/trans_scratch/validations/workspace/szong/Cervical/mutsig2cv/118_patients/vcf2maf_scripts/HTMCP-03-06-02428.snvs.sh\u001b[0m\n",
      "\u001b[32mINFO:root:templated /projects/trans_scratch/validations/workspace/szong/Cervical/mutsig2cv/118_patients/vcf2maf_scripts/HTMCP-03-06-02428.snvs.sh\u001b[0m\n"
     ]
    },
    {
     "name": "stdout",
     "output_type": "stream",
     "text": [
      "/projects/somatic/NCI_SAIC_HIV_Cervical/HTMCP-03-06-02428/hg19a/GSH/A78431_A76744/strelka/60136/bwa/results/passed.somatic.snvs.eff.dbSNP_v149.cosmic_v82.clinvar_20170801.annotations.classic.vcf\n"
     ]
    },
    {
     "data": {
      "text/plain": [
       "'vcf2maf_template_discovery.txt'"
      ]
     },
     "execution_count": 45,
     "metadata": {},
     "output_type": "execute_result"
    },
    {
     "name": "stderr",
     "output_type": "stream",
     "text": [
      "\u001b[32mINFO:root:templated /projects/trans_scratch/validations/workspace/szong/Cervical/mutsig2cv/118_patients/vcf2maf_scripts/HTMCP-03-06-02434.snvs.sh\u001b[0m\n",
      "\u001b[32mINFO:root:templated /projects/trans_scratch/validations/workspace/szong/Cervical/mutsig2cv/118_patients/vcf2maf_scripts/HTMCP-03-06-02434.snvs.sh\u001b[0m\n"
     ]
    },
    {
     "name": "stdout",
     "output_type": "stream",
     "text": [
      "/projects/somatic/NCI_SAIC_HIV_Cervical/HTMCP-03-06-02434/hg19a/GSH/A78432_A76745/strelka/60137/bwa/results/passed.somatic.snvs.eff.dbSNP_v149.cosmic_v82.clinvar_20170801.annotations.classic.vcf\n"
     ]
    },
    {
     "data": {
      "text/plain": [
       "'vcf2maf_template_discovery.txt'"
      ]
     },
     "execution_count": 45,
     "metadata": {},
     "output_type": "execute_result"
    },
    {
     "name": "stderr",
     "output_type": "stream",
     "text": [
      "\u001b[32mINFO:root:templated /projects/trans_scratch/validations/workspace/szong/Cervical/mutsig2cv/118_patients/vcf2maf_scripts/HTMCP-03-06-02435.snvs.sh\u001b[0m\n",
      "\u001b[32mINFO:root:templated /projects/trans_scratch/validations/workspace/szong/Cervical/mutsig2cv/118_patients/vcf2maf_scripts/HTMCP-03-06-02435.snvs.sh\u001b[0m\n"
     ]
    },
    {
     "name": "stdout",
     "output_type": "stream",
     "text": [
      "/projects/somatic/NCI_SAIC_HIV_Cervical/HTMCP-03-06-02435/hg19a/GSH/A78433_A76746/strelka/60138/bwa/results/passed.somatic.snvs.eff.dbSNP_v149.cosmic_v82.clinvar_20170801.annotations.classic.vcf\n"
     ]
    },
    {
     "data": {
      "text/plain": [
       "'vcf2maf_template_discovery.txt'"
      ]
     },
     "execution_count": 45,
     "metadata": {},
     "output_type": "execute_result"
    },
    {
     "name": "stderr",
     "output_type": "stream",
     "text": [
      "\u001b[32mINFO:root:templated /projects/trans_scratch/validations/workspace/szong/Cervical/mutsig2cv/118_patients/vcf2maf_scripts/HTMCP-03-06-02437.snvs.sh\u001b[0m\n",
      "\u001b[32mINFO:root:templated /projects/trans_scratch/validations/workspace/szong/Cervical/mutsig2cv/118_patients/vcf2maf_scripts/HTMCP-03-06-02437.snvs.sh\u001b[0m\n"
     ]
    },
    {
     "name": "stdout",
     "output_type": "stream",
     "text": [
      "/projects/somatic/NCI_SAIC_HIV_Cervical/HTMCP-03-06-02437/hg19a/GSH/A78434_A76747/strelka/60139/bwa/results/passed.somatic.snvs.eff.dbSNP_v149.cosmic_v82.clinvar_20170801.annotations.classic.vcf\n"
     ]
    },
    {
     "data": {
      "text/plain": [
       "'vcf2maf_template_discovery.txt'"
      ]
     },
     "execution_count": 45,
     "metadata": {},
     "output_type": "execute_result"
    },
    {
     "name": "stderr",
     "output_type": "stream",
     "text": [
      "\u001b[32mINFO:root:templated /projects/trans_scratch/validations/workspace/szong/Cervical/mutsig2cv/118_patients/vcf2maf_scripts/HTMCP-03-06-02441.snvs.sh\u001b[0m\n",
      "\u001b[32mINFO:root:templated /projects/trans_scratch/validations/workspace/szong/Cervical/mutsig2cv/118_patients/vcf2maf_scripts/HTMCP-03-06-02441.snvs.sh\u001b[0m\n"
     ]
    },
    {
     "name": "stdout",
     "output_type": "stream",
     "text": [
      "/projects/somatic/NCI_SAIC_HIV_Cervical/HTMCP-03-06-02441/hg19a/GSH/A78436_A76749/strelka/60140/bwa/results/passed.somatic.snvs.eff.dbSNP_v149.cosmic_v82.clinvar_20170801.annotations.classic.vcf\n"
     ]
    },
    {
     "data": {
      "text/plain": [
       "'vcf2maf_template_discovery.txt'"
      ]
     },
     "execution_count": 45,
     "metadata": {},
     "output_type": "execute_result"
    },
    {
     "name": "stderr",
     "output_type": "stream",
     "text": [
      "\u001b[32mINFO:root:templated /projects/trans_scratch/validations/workspace/szong/Cervical/mutsig2cv/118_patients/vcf2maf_scripts/HTMCP-03-06-02442.snvs.sh\u001b[0m\n",
      "\u001b[32mINFO:root:templated /projects/trans_scratch/validations/workspace/szong/Cervical/mutsig2cv/118_patients/vcf2maf_scripts/HTMCP-03-06-02442.snvs.sh\u001b[0m\n"
     ]
    },
    {
     "name": "stdout",
     "output_type": "stream",
     "text": [
      "/projects/somatic/NCI_SAIC_HIV_Cervical/HTMCP-03-06-02442/hg19a/GSH/A78437_A76750/strelka/60141/bwa/results/passed.somatic.snvs.eff.dbSNP_v149.cosmic_v82.clinvar_20170801.annotations.classic.vcf\n"
     ]
    },
    {
     "data": {
      "text/plain": [
       "'vcf2maf_template_discovery.txt'"
      ]
     },
     "execution_count": 45,
     "metadata": {},
     "output_type": "execute_result"
    },
    {
     "name": "stderr",
     "output_type": "stream",
     "text": [
      "\u001b[32mINFO:root:templated /projects/trans_scratch/validations/workspace/szong/Cervical/mutsig2cv/118_patients/vcf2maf_scripts/HTMCP-03-06-02447.snvs.sh\u001b[0m\n",
      "\u001b[32mINFO:root:templated /projects/trans_scratch/validations/workspace/szong/Cervical/mutsig2cv/118_patients/vcf2maf_scripts/HTMCP-03-06-02447.snvs.sh\u001b[0m\n"
     ]
    },
    {
     "name": "stdout",
     "output_type": "stream",
     "text": [
      "/projects/somatic/NCI_SAIC_HIV_Cervical/HTMCP-03-06-02447/hg19a/GSH/A78440_A76753/strelka/60142/bwa/results/passed.somatic.snvs.eff.dbSNP_v149.cosmic_v82.clinvar_20170801.annotations.classic.vcf\n"
     ]
    },
    {
     "data": {
      "text/plain": [
       "'vcf2maf_template_discovery.txt'"
      ]
     },
     "execution_count": 45,
     "metadata": {},
     "output_type": "execute_result"
    },
    {
     "name": "stderr",
     "output_type": "stream",
     "text": [
      "\u001b[32mINFO:root:templated /projects/trans_scratch/validations/workspace/szong/Cervical/mutsig2cv/118_patients/vcf2maf_scripts/HTMCP-03-06-02001.indels.sh\u001b[0m\n",
      "\u001b[32mINFO:root:templated /projects/trans_scratch/validations/workspace/szong/Cervical/mutsig2cv/118_patients/vcf2maf_scripts/HTMCP-03-06-02001.indels.sh\u001b[0m\n"
     ]
    },
    {
     "name": "stdout",
     "output_type": "stream",
     "text": [
      "processing indels\n",
      "/projects/somatic/NCI_SAIC_HIV_Cervical/HTMCP-03-06-02001/hg19a/GSH/A37234_A37159/strelka/59844/bwa/results/passed.somatic.indels.eff.dbSNP_v149.cosmic_v82.clinvar_20170801.annotations.classic.vcf\n"
     ]
    },
    {
     "data": {
      "text/plain": [
       "'vcf2maf_template_discovery.txt'"
      ]
     },
     "execution_count": 45,
     "metadata": {},
     "output_type": "execute_result"
    },
    {
     "name": "stderr",
     "output_type": "stream",
     "text": [
      "\u001b[32mINFO:root:templated /projects/trans_scratch/validations/workspace/szong/Cervical/mutsig2cv/118_patients/vcf2maf_scripts/HTMCP-03-06-02002.indels.sh\u001b[0m\n",
      "\u001b[32mINFO:root:templated /projects/trans_scratch/validations/workspace/szong/Cervical/mutsig2cv/118_patients/vcf2maf_scripts/HTMCP-03-06-02002.indels.sh\u001b[0m\n"
     ]
    },
    {
     "name": "stdout",
     "output_type": "stream",
     "text": [
      "/projects/somatic/NCI_SAIC_HIV_Cervical/HTMCP-03-06-02002/hg19a/GSH/A37235_A37160/strelka/59848/bwa/results/passed.somatic.indels.eff.dbSNP_v149.cosmic_v82.clinvar_20170801.annotations.classic.vcf\n"
     ]
    },
    {
     "data": {
      "text/plain": [
       "'vcf2maf_template_discovery.txt'"
      ]
     },
     "execution_count": 45,
     "metadata": {},
     "output_type": "execute_result"
    },
    {
     "name": "stderr",
     "output_type": "stream",
     "text": [
      "\u001b[32mINFO:root:templated /projects/trans_scratch/validations/workspace/szong/Cervical/mutsig2cv/118_patients/vcf2maf_scripts/HTMCP-03-06-02003.indels.sh\u001b[0m\n",
      "\u001b[32mINFO:root:templated /projects/trans_scratch/validations/workspace/szong/Cervical/mutsig2cv/118_patients/vcf2maf_scripts/HTMCP-03-06-02003.indels.sh\u001b[0m\n"
     ]
    },
    {
     "name": "stdout",
     "output_type": "stream",
     "text": [
      "/projects/somatic/NCI_SAIC_HIV_Cervical/HTMCP-03-06-02003/hg19a/GSH/A37236_A37161/strelka/59851/bwa/results/passed.somatic.indels.eff.dbSNP_v149.cosmic_v82.clinvar_20170801.annotations.classic.vcf\n"
     ]
    },
    {
     "data": {
      "text/plain": [
       "'vcf2maf_template_discovery.txt'"
      ]
     },
     "execution_count": 45,
     "metadata": {},
     "output_type": "execute_result"
    },
    {
     "name": "stderr",
     "output_type": "stream",
     "text": [
      "\u001b[32mINFO:root:templated /projects/trans_scratch/validations/workspace/szong/Cervical/mutsig2cv/118_patients/vcf2maf_scripts/HTMCP-03-06-02006.indels.sh\u001b[0m\n",
      "\u001b[32mINFO:root:templated /projects/trans_scratch/validations/workspace/szong/Cervical/mutsig2cv/118_patients/vcf2maf_scripts/HTMCP-03-06-02006.indels.sh\u001b[0m\n"
     ]
    },
    {
     "name": "stdout",
     "output_type": "stream",
     "text": [
      "/projects/somatic/NCI_SAIC_HIV_Cervical/HTMCP-03-06-02006/hg19a/GSH/A37239_A37164/strelka/59855/bwa/results/passed.somatic.indels.eff.dbSNP_v149.cosmic_v82.clinvar_20170801.annotations.classic.vcf\n"
     ]
    },
    {
     "data": {
      "text/plain": [
       "'vcf2maf_template_discovery.txt'"
      ]
     },
     "execution_count": 45,
     "metadata": {},
     "output_type": "execute_result"
    },
    {
     "name": "stderr",
     "output_type": "stream",
     "text": [
      "\u001b[32mINFO:root:templated /projects/trans_scratch/validations/workspace/szong/Cervical/mutsig2cv/118_patients/vcf2maf_scripts/HTMCP-03-06-02008.indels.sh\u001b[0m\n",
      "\u001b[32mINFO:root:templated /projects/trans_scratch/validations/workspace/szong/Cervical/mutsig2cv/118_patients/vcf2maf_scripts/HTMCP-03-06-02008.indels.sh\u001b[0m\n"
     ]
    },
    {
     "name": "stdout",
     "output_type": "stream",
     "text": [
      "/projects/somatic/NCI_SAIC_HIV_Cervical/HTMCP-03-06-02008/hg19a/GSH/A37241_A37166/strelka/59861/bwa/results/passed.somatic.indels.eff.dbSNP_v149.cosmic_v82.clinvar_20170801.annotations.classic.vcf\n"
     ]
    },
    {
     "data": {
      "text/plain": [
       "'vcf2maf_template_discovery.txt'"
      ]
     },
     "execution_count": 45,
     "metadata": {},
     "output_type": "execute_result"
    },
    {
     "name": "stderr",
     "output_type": "stream",
     "text": [
      "\u001b[32mINFO:root:templated /projects/trans_scratch/validations/workspace/szong/Cervical/mutsig2cv/118_patients/vcf2maf_scripts/HTMCP-03-06-02012.indels.sh\u001b[0m\n",
      "\u001b[32mINFO:root:templated /projects/trans_scratch/validations/workspace/szong/Cervical/mutsig2cv/118_patients/vcf2maf_scripts/HTMCP-03-06-02012.indels.sh\u001b[0m\n"
     ]
    },
    {
     "name": "stdout",
     "output_type": "stream",
     "text": [
      "/projects/somatic/NCI_SAIC_HIV_Cervical/HTMCP-03-06-02012/hg19a/GSH/A37243_A37168/strelka/59863/bwa/results/passed.somatic.indels.eff.dbSNP_v149.cosmic_v82.clinvar_20170801.annotations.classic.vcf\n"
     ]
    },
    {
     "data": {
      "text/plain": [
       "'vcf2maf_template_discovery.txt'"
      ]
     },
     "execution_count": 45,
     "metadata": {},
     "output_type": "execute_result"
    },
    {
     "name": "stderr",
     "output_type": "stream",
     "text": [
      "\u001b[32mINFO:root:templated /projects/trans_scratch/validations/workspace/szong/Cervical/mutsig2cv/118_patients/vcf2maf_scripts/HTMCP-03-06-02013.indels.sh\u001b[0m\n",
      "\u001b[32mINFO:root:templated /projects/trans_scratch/validations/workspace/szong/Cervical/mutsig2cv/118_patients/vcf2maf_scripts/HTMCP-03-06-02013.indels.sh\u001b[0m\n"
     ]
    },
    {
     "name": "stdout",
     "output_type": "stream",
     "text": [
      "/projects/somatic/NCI_SAIC_HIV_Cervical/HTMCP-03-06-02013/hg19a/GSH/A37244_A37169/strelka/59866/bwa/results/passed.somatic.indels.eff.dbSNP_v149.cosmic_v82.clinvar_20170801.annotations.classic.vcf\n"
     ]
    },
    {
     "data": {
      "text/plain": [
       "'vcf2maf_template_discovery.txt'"
      ]
     },
     "execution_count": 45,
     "metadata": {},
     "output_type": "execute_result"
    },
    {
     "name": "stderr",
     "output_type": "stream",
     "text": [
      "\u001b[32mINFO:root:templated /projects/trans_scratch/validations/workspace/szong/Cervical/mutsig2cv/118_patients/vcf2maf_scripts/HTMCP-03-06-02020.indels.sh\u001b[0m\n",
      "\u001b[32mINFO:root:templated /projects/trans_scratch/validations/workspace/szong/Cervical/mutsig2cv/118_patients/vcf2maf_scripts/HTMCP-03-06-02020.indels.sh\u001b[0m\n"
     ]
    },
    {
     "name": "stdout",
     "output_type": "stream",
     "text": [
      "/projects/somatic/NCI_SAIC_HIV_Cervical/HTMCP-03-06-02020/hg19a/GSH/A37247_A56468/strelka/59869/bwa/results/passed.somatic.indels.eff.dbSNP_v149.cosmic_v82.clinvar_20170801.annotations.classic.vcf\n"
     ]
    },
    {
     "data": {
      "text/plain": [
       "'vcf2maf_template_discovery.txt'"
      ]
     },
     "execution_count": 45,
     "metadata": {},
     "output_type": "execute_result"
    },
    {
     "name": "stdout",
     "output_type": "stream",
     "text": [
      "/projects/somatic/NCI_SAIC_HIV_Cervical/HTMCP-03-06-02036/hg19a/GSH/A37252_A37179/strelka/59874/bwa/results/passed.somatic.indels.eff.dbSNP_v149.cosmic_v82.clinvar_20170801.annotations.classic.vcf\n"
     ]
    },
    {
     "name": "stderr",
     "output_type": "stream",
     "text": [
      "\u001b[32mINFO:root:templated /projects/trans_scratch/validations/workspace/szong/Cervical/mutsig2cv/118_patients/vcf2maf_scripts/HTMCP-03-06-02036.indels.sh\u001b[0m\n",
      "\u001b[32mINFO:root:templated /projects/trans_scratch/validations/workspace/szong/Cervical/mutsig2cv/118_patients/vcf2maf_scripts/HTMCP-03-06-02036.indels.sh\u001b[0m\n"
     ]
    },
    {
     "data": {
      "text/plain": [
       "'vcf2maf_template_discovery.txt'"
      ]
     },
     "execution_count": 45,
     "metadata": {},
     "output_type": "execute_result"
    },
    {
     "name": "stdout",
     "output_type": "stream",
     "text": [
      "/projects/somatic/NCI_SAIC_HIV_Cervical/HTMCP-03-06-02037/hg19a/GSH/A37253_A37180/strelka/59877/bwa/results/passed.somatic.indels.eff.dbSNP_v149.cosmic_v82.clinvar_20170801.annotations.classic.vcf\n"
     ]
    },
    {
     "name": "stderr",
     "output_type": "stream",
     "text": [
      "\u001b[32mINFO:root:templated /projects/trans_scratch/validations/workspace/szong/Cervical/mutsig2cv/118_patients/vcf2maf_scripts/HTMCP-03-06-02037.indels.sh\u001b[0m\n",
      "\u001b[32mINFO:root:templated /projects/trans_scratch/validations/workspace/szong/Cervical/mutsig2cv/118_patients/vcf2maf_scripts/HTMCP-03-06-02037.indels.sh\u001b[0m\n"
     ]
    },
    {
     "data": {
      "text/plain": [
       "'vcf2maf_template_discovery.txt'"
      ]
     },
     "execution_count": 45,
     "metadata": {},
     "output_type": "execute_result"
    },
    {
     "name": "stderr",
     "output_type": "stream",
     "text": [
      "\u001b[32mINFO:root:templated /projects/trans_scratch/validations/workspace/szong/Cervical/mutsig2cv/118_patients/vcf2maf_scripts/HTMCP-03-06-02040.indels.sh\u001b[0m\n"
     ]
    },
    {
     "name": "stdout",
     "output_type": "stream",
     "text": [
      "/projects/somatic/NCI_SAIC_HIV_Cervical/HTMCP-03-06-02040/hg19a/GSH/A37254_A37181/strelka/59883/bwa/results/passed.somatic.indels.eff.dbSNP_v149.cosmic_v82.clinvar_20170801.annotations.classic.vcf\n"
     ]
    },
    {
     "name": "stderr",
     "output_type": "stream",
     "text": [
      "\u001b[32mINFO:root:templated /projects/trans_scratch/validations/workspace/szong/Cervical/mutsig2cv/118_patients/vcf2maf_scripts/HTMCP-03-06-02040.indels.sh\u001b[0m\n"
     ]
    },
    {
     "data": {
      "text/plain": [
       "'vcf2maf_template_discovery.txt'"
      ]
     },
     "execution_count": 45,
     "metadata": {},
     "output_type": "execute_result"
    },
    {
     "name": "stderr",
     "output_type": "stream",
     "text": [
      "\u001b[32mINFO:root:templated /projects/trans_scratch/validations/workspace/szong/Cervical/mutsig2cv/118_patients/vcf2maf_scripts/HTMCP-03-06-02042.indels.sh\u001b[0m\n"
     ]
    },
    {
     "name": "stdout",
     "output_type": "stream",
     "text": [
      "/projects/somatic/NCI_SAIC_HIV_Cervical/HTMCP-03-06-02042/hg19a/GSH/A37255_A37182/strelka/59888/bwa/results/passed.somatic.indels.eff.dbSNP_v149.cosmic_v82.clinvar_20170801.annotations.classic.vcf\n"
     ]
    },
    {
     "name": "stderr",
     "output_type": "stream",
     "text": [
      "\u001b[32mINFO:root:templated /projects/trans_scratch/validations/workspace/szong/Cervical/mutsig2cv/118_patients/vcf2maf_scripts/HTMCP-03-06-02042.indels.sh\u001b[0m\n"
     ]
    },
    {
     "data": {
      "text/plain": [
       "'vcf2maf_template_discovery.txt'"
      ]
     },
     "execution_count": 45,
     "metadata": {},
     "output_type": "execute_result"
    },
    {
     "name": "stdout",
     "output_type": "stream",
     "text": [
      "/projects/somatic/NCI_SAIC_HIV_Cervical/HTMCP-03-06-02046/hg19a/GSH/A37257_A37185/strelka/59894/bwa/results/passed.somatic.indels.eff.dbSNP_v149.cosmic_v82.clinvar_20170801.annotations.classic.vcf\n"
     ]
    },
    {
     "name": "stderr",
     "output_type": "stream",
     "text": [
      "\u001b[32mINFO:root:templated /projects/trans_scratch/validations/workspace/szong/Cervical/mutsig2cv/118_patients/vcf2maf_scripts/HTMCP-03-06-02046.indels.sh\u001b[0m\n",
      "\u001b[32mINFO:root:templated /projects/trans_scratch/validations/workspace/szong/Cervical/mutsig2cv/118_patients/vcf2maf_scripts/HTMCP-03-06-02046.indels.sh\u001b[0m\n"
     ]
    },
    {
     "data": {
      "text/plain": [
       "'vcf2maf_template_discovery.txt'"
      ]
     },
     "execution_count": 45,
     "metadata": {},
     "output_type": "execute_result"
    },
    {
     "name": "stdout",
     "output_type": "stream",
     "text": [
      "/projects/somatic/NCI_SAIC_HIV_Cervical/HTMCP-03-06-02047/hg19a/GSH/A37258_A37186/strelka/59900/bwa/results/passed.somatic.indels.eff.dbSNP_v149.cosmic_v82.clinvar_20170801.annotations.classic.vcf\n"
     ]
    },
    {
     "name": "stderr",
     "output_type": "stream",
     "text": [
      "\u001b[32mINFO:root:templated /projects/trans_scratch/validations/workspace/szong/Cervical/mutsig2cv/118_patients/vcf2maf_scripts/HTMCP-03-06-02047.indels.sh\u001b[0m\n",
      "\u001b[32mINFO:root:templated /projects/trans_scratch/validations/workspace/szong/Cervical/mutsig2cv/118_patients/vcf2maf_scripts/HTMCP-03-06-02047.indels.sh\u001b[0m\n"
     ]
    },
    {
     "data": {
      "text/plain": [
       "'vcf2maf_template_discovery.txt'"
      ]
     },
     "execution_count": 45,
     "metadata": {},
     "output_type": "execute_result"
    },
    {
     "name": "stdout",
     "output_type": "stream",
     "text": [
      "/projects/somatic/NCI_SAIC_HIV_Cervical/HTMCP-03-06-02054/hg19a/GSH/A37259_A37187/strelka/59902/bwa/results/passed.somatic.indels.eff.dbSNP_v149.cosmic_v82.clinvar_20170801.annotations.classic.vcf\n"
     ]
    },
    {
     "name": "stderr",
     "output_type": "stream",
     "text": [
      "\u001b[32mINFO:root:templated /projects/trans_scratch/validations/workspace/szong/Cervical/mutsig2cv/118_patients/vcf2maf_scripts/HTMCP-03-06-02054.indels.sh\u001b[0m\n",
      "\u001b[32mINFO:root:templated /projects/trans_scratch/validations/workspace/szong/Cervical/mutsig2cv/118_patients/vcf2maf_scripts/HTMCP-03-06-02054.indels.sh\u001b[0m\n"
     ]
    },
    {
     "data": {
      "text/plain": [
       "'vcf2maf_template_discovery.txt'"
      ]
     },
     "execution_count": 45,
     "metadata": {},
     "output_type": "execute_result"
    },
    {
     "name": "stdout",
     "output_type": "stream",
     "text": [
      "/projects/somatic/NCI_SAIC_HIV_Cervical/HTMCP-03-06-02057/hg19a/GSH/A37260_A37188/strelka/59926/bwa/results/passed.somatic.indels.eff.dbSNP_v149.cosmic_v82.clinvar_20170801.annotations.classic.vcf\n"
     ]
    },
    {
     "name": "stderr",
     "output_type": "stream",
     "text": [
      "\u001b[32mINFO:root:templated /projects/trans_scratch/validations/workspace/szong/Cervical/mutsig2cv/118_patients/vcf2maf_scripts/HTMCP-03-06-02057.indels.sh\u001b[0m\n",
      "\u001b[32mINFO:root:templated /projects/trans_scratch/validations/workspace/szong/Cervical/mutsig2cv/118_patients/vcf2maf_scripts/HTMCP-03-06-02057.indels.sh\u001b[0m\n"
     ]
    },
    {
     "data": {
      "text/plain": [
       "'vcf2maf_template_discovery.txt'"
      ]
     },
     "execution_count": 45,
     "metadata": {},
     "output_type": "execute_result"
    },
    {
     "name": "stdout",
     "output_type": "stream",
     "text": [
      "/projects/somatic/NCI_SAIC_HIV_Cervical/HTMCP-03-06-02058/hg19a/GSH/A37261_A37189/strelka/59928/bwa/results/passed.somatic.indels.eff.dbSNP_v149.cosmic_v82.clinvar_20170801.annotations.classic.vcf\n"
     ]
    },
    {
     "name": "stderr",
     "output_type": "stream",
     "text": [
      "\u001b[32mINFO:root:templated /projects/trans_scratch/validations/workspace/szong/Cervical/mutsig2cv/118_patients/vcf2maf_scripts/HTMCP-03-06-02058.indels.sh\u001b[0m\n",
      "\u001b[32mINFO:root:templated /projects/trans_scratch/validations/workspace/szong/Cervical/mutsig2cv/118_patients/vcf2maf_scripts/HTMCP-03-06-02058.indels.sh\u001b[0m\n"
     ]
    },
    {
     "data": {
      "text/plain": [
       "'vcf2maf_template_discovery.txt'"
      ]
     },
     "execution_count": 45,
     "metadata": {},
     "output_type": "execute_result"
    },
    {
     "name": "stdout",
     "output_type": "stream",
     "text": [
      "/projects/somatic/NCI_SAIC_HIV_Cervical/HTMCP-03-06-02109/hg19a/GSH/A37263_A37191/strelka/60042/bwa/results/passed.somatic.indels.eff.dbSNP_v149.cosmic_v82.clinvar_20170801.annotations.classic.vcf\n"
     ]
    },
    {
     "name": "stderr",
     "output_type": "stream",
     "text": [
      "\u001b[32mINFO:root:templated /projects/trans_scratch/validations/workspace/szong/Cervical/mutsig2cv/118_patients/vcf2maf_scripts/HTMCP-03-06-02109.indels.sh\u001b[0m\n",
      "\u001b[32mINFO:root:templated /projects/trans_scratch/validations/workspace/szong/Cervical/mutsig2cv/118_patients/vcf2maf_scripts/HTMCP-03-06-02109.indels.sh\u001b[0m\n"
     ]
    },
    {
     "data": {
      "text/plain": [
       "'vcf2maf_template_discovery.txt'"
      ]
     },
     "execution_count": 45,
     "metadata": {},
     "output_type": "execute_result"
    },
    {
     "name": "stderr",
     "output_type": "stream",
     "text": [
      "\u001b[32mINFO:root:templated /projects/trans_scratch/validations/workspace/szong/Cervical/mutsig2cv/118_patients/vcf2maf_scripts/HTMCP-03-06-02063.indels.sh\u001b[0m\n",
      "\u001b[32mINFO:root:templated /projects/trans_scratch/validations/workspace/szong/Cervical/mutsig2cv/118_patients/vcf2maf_scripts/HTMCP-03-06-02063.indels.sh\u001b[0m\n"
     ]
    },
    {
     "name": "stdout",
     "output_type": "stream",
     "text": [
      "/projects/somatic/NCI_SAIC_HIV_Cervical/HTMCP-03-06-02063/hg19a/GSH/A37266_A37194/strelka/59932/bwa/results/passed.somatic.indels.eff.dbSNP_v149.cosmic_v82.clinvar_20170801.annotations.classic.vcf\n"
     ]
    },
    {
     "data": {
      "text/plain": [
       "'vcf2maf_template_discovery.txt'"
      ]
     },
     "execution_count": 45,
     "metadata": {},
     "output_type": "execute_result"
    },
    {
     "name": "stdout",
     "output_type": "stream",
     "text": [
      "/projects/somatic/NCI_SAIC_HIV_Cervical/HTMCP-03-06-02068/hg19a/GSH/A37269_A37197/strelka/59934/bwa/results/passed.somatic.indels.eff.dbSNP_v149.cosmic_v82.clinvar_20170801.annotations.classic.vcf\n"
     ]
    },
    {
     "name": "stderr",
     "output_type": "stream",
     "text": [
      "\u001b[32mINFO:root:templated /projects/trans_scratch/validations/workspace/szong/Cervical/mutsig2cv/118_patients/vcf2maf_scripts/HTMCP-03-06-02068.indels.sh\u001b[0m\n",
      "\u001b[32mINFO:root:templated /projects/trans_scratch/validations/workspace/szong/Cervical/mutsig2cv/118_patients/vcf2maf_scripts/HTMCP-03-06-02068.indels.sh\u001b[0m\n"
     ]
    },
    {
     "data": {
      "text/plain": [
       "'vcf2maf_template_discovery.txt'"
      ]
     },
     "execution_count": 45,
     "metadata": {},
     "output_type": "execute_result"
    },
    {
     "name": "stderr",
     "output_type": "stream",
     "text": [
      "\u001b[32mINFO:root:templated /projects/trans_scratch/validations/workspace/szong/Cervical/mutsig2cv/118_patients/vcf2maf_scripts/HTMCP-03-06-02070.indels.sh\u001b[0m\n",
      "\u001b[32mINFO:root:templated /projects/trans_scratch/validations/workspace/szong/Cervical/mutsig2cv/118_patients/vcf2maf_scripts/HTMCP-03-06-02070.indels.sh\u001b[0m\n"
     ]
    },
    {
     "name": "stdout",
     "output_type": "stream",
     "text": [
      "/projects/somatic/NCI_SAIC_HIV_Cervical/HTMCP-03-06-02070/hg19a/GSH/A37270_A37198/strelka/59936/bwa/results/passed.somatic.indels.eff.dbSNP_v149.cosmic_v82.clinvar_20170801.annotations.classic.vcf\n"
     ]
    },
    {
     "data": {
      "text/plain": [
       "'vcf2maf_template_discovery.txt'"
      ]
     },
     "execution_count": 45,
     "metadata": {},
     "output_type": "execute_result"
    },
    {
     "name": "stderr",
     "output_type": "stream",
     "text": [
      "\u001b[32mINFO:root:templated /projects/trans_scratch/validations/workspace/szong/Cervical/mutsig2cv/118_patients/vcf2maf_scripts/HTMCP-03-06-02071.indels.sh\u001b[0m\n",
      "\u001b[32mINFO:root:templated /projects/trans_scratch/validations/workspace/szong/Cervical/mutsig2cv/118_patients/vcf2maf_scripts/HTMCP-03-06-02071.indels.sh\u001b[0m\n"
     ]
    },
    {
     "name": "stdout",
     "output_type": "stream",
     "text": [
      "/projects/somatic/NCI_SAIC_HIV_Cervical/HTMCP-03-06-02071/hg19a/GSH/A37272_A37200/strelka/59938/bwa/results/passed.somatic.indels.eff.dbSNP_v149.cosmic_v82.clinvar_20170801.annotations.classic.vcf\n"
     ]
    },
    {
     "data": {
      "text/plain": [
       "'vcf2maf_template_discovery.txt'"
      ]
     },
     "execution_count": 45,
     "metadata": {},
     "output_type": "execute_result"
    },
    {
     "name": "stderr",
     "output_type": "stream",
     "text": [
      "\u001b[32mINFO:root:templated /projects/trans_scratch/validations/workspace/szong/Cervical/mutsig2cv/118_patients/vcf2maf_scripts/HTMCP-03-06-02074.indels.sh\u001b[0m\n",
      "\u001b[32mINFO:root:templated /projects/trans_scratch/validations/workspace/szong/Cervical/mutsig2cv/118_patients/vcf2maf_scripts/HTMCP-03-06-02074.indels.sh\u001b[0m\n"
     ]
    },
    {
     "name": "stdout",
     "output_type": "stream",
     "text": [
      "/projects/somatic/NCI_SAIC_HIV_Cervical/HTMCP-03-06-02074/hg19a/GSH/A37274_A37202/strelka/59939/bwa/results/passed.somatic.indels.eff.dbSNP_v149.cosmic_v82.clinvar_20170801.annotations.classic.vcf\n"
     ]
    },
    {
     "data": {
      "text/plain": [
       "'vcf2maf_template_discovery.txt'"
      ]
     },
     "execution_count": 45,
     "metadata": {},
     "output_type": "execute_result"
    },
    {
     "name": "stderr",
     "output_type": "stream",
     "text": [
      "\u001b[32mINFO:root:templated /projects/trans_scratch/validations/workspace/szong/Cervical/mutsig2cv/118_patients/vcf2maf_scripts/HTMCP-03-06-02075.indels.sh\u001b[0m\n",
      "\u001b[32mINFO:root:templated /projects/trans_scratch/validations/workspace/szong/Cervical/mutsig2cv/118_patients/vcf2maf_scripts/HTMCP-03-06-02075.indels.sh\u001b[0m\n"
     ]
    },
    {
     "name": "stdout",
     "output_type": "stream",
     "text": [
      "/projects/somatic/NCI_SAIC_HIV_Cervical/HTMCP-03-06-02075/hg19a/GSH/A37275_A37203/strelka/59941/bwa/results/passed.somatic.indels.eff.dbSNP_v149.cosmic_v82.clinvar_20170801.annotations.classic.vcf\n"
     ]
    },
    {
     "data": {
      "text/plain": [
       "'vcf2maf_template_discovery.txt'"
      ]
     },
     "execution_count": 45,
     "metadata": {},
     "output_type": "execute_result"
    },
    {
     "name": "stderr",
     "output_type": "stream",
     "text": [
      "\u001b[32mINFO:root:templated /projects/trans_scratch/validations/workspace/szong/Cervical/mutsig2cv/118_patients/vcf2maf_scripts/HTMCP-03-06-02076.indels.sh\u001b[0m\n",
      "\u001b[32mINFO:root:templated /projects/trans_scratch/validations/workspace/szong/Cervical/mutsig2cv/118_patients/vcf2maf_scripts/HTMCP-03-06-02076.indels.sh\u001b[0m\n"
     ]
    },
    {
     "name": "stdout",
     "output_type": "stream",
     "text": [
      "/projects/somatic/NCI_SAIC_HIV_Cervical/HTMCP-03-06-02076/hg19a/GSH/A37276_A37204/strelka/59943/bwa/results/passed.somatic.indels.eff.dbSNP_v149.cosmic_v82.clinvar_20170801.annotations.classic.vcf\n"
     ]
    },
    {
     "data": {
      "text/plain": [
       "'vcf2maf_template_discovery.txt'"
      ]
     },
     "execution_count": 45,
     "metadata": {},
     "output_type": "execute_result"
    },
    {
     "name": "stderr",
     "output_type": "stream",
     "text": [
      "\u001b[32mINFO:root:templated /projects/trans_scratch/validations/workspace/szong/Cervical/mutsig2cv/118_patients/vcf2maf_scripts/HTMCP-03-06-02089.indels.sh\u001b[0m\n",
      "\u001b[32mINFO:root:templated /projects/trans_scratch/validations/workspace/szong/Cervical/mutsig2cv/118_patients/vcf2maf_scripts/HTMCP-03-06-02089.indels.sh\u001b[0m\n"
     ]
    },
    {
     "name": "stdout",
     "output_type": "stream",
     "text": [
      "/projects/somatic/NCI_SAIC_HIV_Cervical/HTMCP-03-06-02089/hg19a/GSH/A37281_A37209/strelka/59947/bwa/results/passed.somatic.indels.eff.dbSNP_v149.cosmic_v82.clinvar_20170801.annotations.classic.vcf\n"
     ]
    },
    {
     "data": {
      "text/plain": [
       "'vcf2maf_template_discovery.txt'"
      ]
     },
     "execution_count": 45,
     "metadata": {},
     "output_type": "execute_result"
    },
    {
     "name": "stderr",
     "output_type": "stream",
     "text": [
      "\u001b[32mINFO:root:templated /projects/trans_scratch/validations/workspace/szong/Cervical/mutsig2cv/118_patients/vcf2maf_scripts/HTMCP-03-06-02092.indels.sh\u001b[0m\n",
      "\u001b[32mINFO:root:templated /projects/trans_scratch/validations/workspace/szong/Cervical/mutsig2cv/118_patients/vcf2maf_scripts/HTMCP-03-06-02092.indels.sh\u001b[0m\n"
     ]
    },
    {
     "name": "stdout",
     "output_type": "stream",
     "text": [
      "/projects/somatic/NCI_SAIC_HIV_Cervical/HTMCP-03-06-02092/hg19a/GSH/A60755_A37210/strelka/59950/bwa/results/passed.somatic.indels.eff.dbSNP_v149.cosmic_v82.clinvar_20170801.annotations.classic.vcf\n"
     ]
    },
    {
     "data": {
      "text/plain": [
       "'vcf2maf_template_discovery.txt'"
      ]
     },
     "execution_count": 45,
     "metadata": {},
     "output_type": "execute_result"
    },
    {
     "name": "stdout",
     "output_type": "stream",
     "text": [
      "/projects/somatic/NCI_SAIC_HIV_Cervical/HTMCP-03-06-02097/hg19a/GSH/A37283_A37211/strelka/59951/bwa/results/passed.somatic.indels.eff.dbSNP_v149.cosmic_v82.clinvar_20170801.annotations.classic.vcf\n"
     ]
    },
    {
     "name": "stderr",
     "output_type": "stream",
     "text": [
      "\u001b[32mINFO:root:templated /projects/trans_scratch/validations/workspace/szong/Cervical/mutsig2cv/118_patients/vcf2maf_scripts/HTMCP-03-06-02097.indels.sh\u001b[0m\n",
      "\u001b[32mINFO:root:templated /projects/trans_scratch/validations/workspace/szong/Cervical/mutsig2cv/118_patients/vcf2maf_scripts/HTMCP-03-06-02097.indels.sh\u001b[0m\n"
     ]
    },
    {
     "data": {
      "text/plain": [
       "'vcf2maf_template_discovery.txt'"
      ]
     },
     "execution_count": 45,
     "metadata": {},
     "output_type": "execute_result"
    },
    {
     "name": "stdout",
     "output_type": "stream",
     "text": [
      "/projects/somatic/NCI_SAIC_HIV_Cervical/HTMCP-03-06-02098/hg19a/GSH/A37284_A37212/strelka/59953/bwa/results/passed.somatic.indels.eff.dbSNP_v149.cosmic_v82.clinvar_20170801.annotations.classic.vcf\n"
     ]
    },
    {
     "name": "stderr",
     "output_type": "stream",
     "text": [
      "\u001b[32mINFO:root:templated /projects/trans_scratch/validations/workspace/szong/Cervical/mutsig2cv/118_patients/vcf2maf_scripts/HTMCP-03-06-02098.indels.sh\u001b[0m\n",
      "\u001b[32mINFO:root:templated /projects/trans_scratch/validations/workspace/szong/Cervical/mutsig2cv/118_patients/vcf2maf_scripts/HTMCP-03-06-02098.indels.sh\u001b[0m\n"
     ]
    },
    {
     "data": {
      "text/plain": [
       "'vcf2maf_template_discovery.txt'"
      ]
     },
     "execution_count": 45,
     "metadata": {},
     "output_type": "execute_result"
    },
    {
     "name": "stderr",
     "output_type": "stream",
     "text": [
      "\u001b[32mINFO:root:templated /projects/trans_scratch/validations/workspace/szong/Cervical/mutsig2cv/118_patients/vcf2maf_scripts/HTMCP-03-06-02099.indels.sh\u001b[0m\n",
      "\u001b[32mINFO:root:templated /projects/trans_scratch/validations/workspace/szong/Cervical/mutsig2cv/118_patients/vcf2maf_scripts/HTMCP-03-06-02099.indels.sh\u001b[0m\n"
     ]
    },
    {
     "name": "stdout",
     "output_type": "stream",
     "text": [
      "/projects/somatic/NCI_SAIC_HIV_Cervical/HTMCP-03-06-02099/hg19a/GSH/A37285_A37213/strelka/60036/bwa/results/passed.somatic.indels.eff.dbSNP_v149.cosmic_v82.clinvar_20170801.annotations.classic.vcf\n"
     ]
    },
    {
     "data": {
      "text/plain": [
       "'vcf2maf_template_discovery.txt'"
      ]
     },
     "execution_count": 45,
     "metadata": {},
     "output_type": "execute_result"
    },
    {
     "name": "stderr",
     "output_type": "stream",
     "text": [
      "\u001b[32mINFO:root:templated /projects/trans_scratch/validations/workspace/szong/Cervical/mutsig2cv/118_patients/vcf2maf_scripts/HTMCP-03-06-02103.indels.sh\u001b[0m\n",
      "\u001b[32mINFO:root:templated /projects/trans_scratch/validations/workspace/szong/Cervical/mutsig2cv/118_patients/vcf2maf_scripts/HTMCP-03-06-02103.indels.sh\u001b[0m\n"
     ]
    },
    {
     "name": "stdout",
     "output_type": "stream",
     "text": [
      "/projects/somatic/NCI_SAIC_HIV_Cervical/HTMCP-03-06-02103/hg19a/GSH/A38427_A37939/strelka/60038/bwa/results/passed.somatic.indels.eff.dbSNP_v149.cosmic_v82.clinvar_20170801.annotations.classic.vcf\n"
     ]
    },
    {
     "data": {
      "text/plain": [
       "'vcf2maf_template_discovery.txt'"
      ]
     },
     "execution_count": 45,
     "metadata": {},
     "output_type": "execute_result"
    },
    {
     "name": "stderr",
     "output_type": "stream",
     "text": [
      "\u001b[32mINFO:root:templated /projects/trans_scratch/validations/workspace/szong/Cervical/mutsig2cv/118_patients/vcf2maf_scripts/HTMCP-03-06-02108.indels.sh\u001b[0m\n",
      "\u001b[32mINFO:root:templated /projects/trans_scratch/validations/workspace/szong/Cervical/mutsig2cv/118_patients/vcf2maf_scripts/HTMCP-03-06-02108.indels.sh\u001b[0m\n"
     ]
    },
    {
     "name": "stdout",
     "output_type": "stream",
     "text": [
      "/projects/somatic/NCI_SAIC_HIV_Cervical/HTMCP-03-06-02108/hg19a/GSH/A38430_A37941/strelka/60040/bwa/results/passed.somatic.indels.eff.dbSNP_v149.cosmic_v82.clinvar_20170801.annotations.classic.vcf\n"
     ]
    },
    {
     "data": {
      "text/plain": [
       "'vcf2maf_template_discovery.txt'"
      ]
     },
     "execution_count": 45,
     "metadata": {},
     "output_type": "execute_result"
    },
    {
     "name": "stderr",
     "output_type": "stream",
     "text": [
      "\u001b[32mINFO:root:templated /projects/trans_scratch/validations/workspace/szong/Cervical/mutsig2cv/118_patients/vcf2maf_scripts/HTMCP-03-06-02139.indels.sh\u001b[0m\n",
      "\u001b[32mINFO:root:templated /projects/trans_scratch/validations/workspace/szong/Cervical/mutsig2cv/118_patients/vcf2maf_scripts/HTMCP-03-06-02139.indels.sh\u001b[0m\n"
     ]
    },
    {
     "name": "stdout",
     "output_type": "stream",
     "text": [
      "/projects/somatic/NCI_SAIC_HIV_Cervical/HTMCP-03-06-02139/hg19a/GSH/A38431_A37942/strelka/60053/bwa/results/passed.somatic.indels.eff.dbSNP_v149.cosmic_v82.clinvar_20170801.annotations.classic.vcf\n"
     ]
    },
    {
     "data": {
      "text/plain": [
       "'vcf2maf_template_discovery.txt'"
      ]
     },
     "execution_count": 45,
     "metadata": {},
     "output_type": "execute_result"
    },
    {
     "name": "stderr",
     "output_type": "stream",
     "text": [
      "\u001b[32mINFO:root:templated /projects/trans_scratch/validations/workspace/szong/Cervical/mutsig2cv/118_patients/vcf2maf_scripts/HTMCP-03-06-02110.indels.sh\u001b[0m\n",
      "\u001b[32mINFO:root:templated /projects/trans_scratch/validations/workspace/szong/Cervical/mutsig2cv/118_patients/vcf2maf_scripts/HTMCP-03-06-02110.indels.sh\u001b[0m\n"
     ]
    },
    {
     "name": "stdout",
     "output_type": "stream",
     "text": [
      "/projects/somatic/NCI_SAIC_HIV_Cervical/HTMCP-03-06-02110/hg19a/GSH/A38432_A37943/strelka/60044/bwa/results/passed.somatic.indels.eff.dbSNP_v149.cosmic_v82.clinvar_20170801.annotations.classic.vcf\n"
     ]
    },
    {
     "data": {
      "text/plain": [
       "'vcf2maf_template_discovery.txt'"
      ]
     },
     "execution_count": 45,
     "metadata": {},
     "output_type": "execute_result"
    },
    {
     "name": "stderr",
     "output_type": "stream",
     "text": [
      "\u001b[32mINFO:root:templated /projects/trans_scratch/validations/workspace/szong/Cervical/mutsig2cv/118_patients/vcf2maf_scripts/HTMCP-03-06-02113.indels.sh\u001b[0m\n",
      "\u001b[32mINFO:root:templated /projects/trans_scratch/validations/workspace/szong/Cervical/mutsig2cv/118_patients/vcf2maf_scripts/HTMCP-03-06-02113.indels.sh\u001b[0m\n"
     ]
    },
    {
     "name": "stdout",
     "output_type": "stream",
     "text": [
      "/projects/somatic/NCI_SAIC_HIV_Cervical/HTMCP-03-06-02113/hg19a/GSH/A38435_A37946/strelka/60046/bwa/results/passed.somatic.indels.eff.dbSNP_v149.cosmic_v82.clinvar_20170801.annotations.classic.vcf\n"
     ]
    },
    {
     "data": {
      "text/plain": [
       "'vcf2maf_template_discovery.txt'"
      ]
     },
     "execution_count": 45,
     "metadata": {},
     "output_type": "execute_result"
    },
    {
     "name": "stderr",
     "output_type": "stream",
     "text": [
      "\u001b[32mINFO:root:templated /projects/trans_scratch/validations/workspace/szong/Cervical/mutsig2cv/118_patients/vcf2maf_scripts/HTMCP-03-06-02120.indels.sh\u001b[0m\n",
      "\u001b[32mINFO:root:templated /projects/trans_scratch/validations/workspace/szong/Cervical/mutsig2cv/118_patients/vcf2maf_scripts/HTMCP-03-06-02120.indels.sh\u001b[0m\n"
     ]
    },
    {
     "name": "stdout",
     "output_type": "stream",
     "text": [
      "/projects/somatic/NCI_SAIC_HIV_Cervical/HTMCP-03-06-02120/hg19a/GSH/A38437_A37948/strelka/60047/bwa/results/passed.somatic.indels.eff.dbSNP_v149.cosmic_v82.clinvar_20170801.annotations.classic.vcf\n"
     ]
    },
    {
     "data": {
      "text/plain": [
       "'vcf2maf_template_discovery.txt'"
      ]
     },
     "execution_count": 45,
     "metadata": {},
     "output_type": "execute_result"
    },
    {
     "name": "stderr",
     "output_type": "stream",
     "text": [
      "\u001b[32mINFO:root:templated /projects/trans_scratch/validations/workspace/szong/Cervical/mutsig2cv/118_patients/vcf2maf_scripts/HTMCP-03-06-02125.indels.sh\u001b[0m\n",
      "\u001b[32mINFO:root:templated /projects/trans_scratch/validations/workspace/szong/Cervical/mutsig2cv/118_patients/vcf2maf_scripts/HTMCP-03-06-02125.indels.sh\u001b[0m\n"
     ]
    },
    {
     "name": "stdout",
     "output_type": "stream",
     "text": [
      "/projects/somatic/NCI_SAIC_HIV_Cervical/HTMCP-03-06-02125/hg19a/GSH/A38440_A37951/strelka/60049/bwa/results/passed.somatic.indels.eff.dbSNP_v149.cosmic_v82.clinvar_20170801.annotations.classic.vcf\n"
     ]
    },
    {
     "data": {
      "text/plain": [
       "'vcf2maf_template_discovery.txt'"
      ]
     },
     "execution_count": 45,
     "metadata": {},
     "output_type": "execute_result"
    },
    {
     "name": "stderr",
     "output_type": "stream",
     "text": [
      "\u001b[32mINFO:root:templated /projects/trans_scratch/validations/workspace/szong/Cervical/mutsig2cv/118_patients/vcf2maf_scripts/HTMCP-03-06-02128.indels.sh\u001b[0m\n",
      "\u001b[32mINFO:root:templated /projects/trans_scratch/validations/workspace/szong/Cervical/mutsig2cv/118_patients/vcf2maf_scripts/HTMCP-03-06-02128.indels.sh\u001b[0m\n"
     ]
    },
    {
     "name": "stdout",
     "output_type": "stream",
     "text": [
      "/projects/somatic/NCI_SAIC_HIV_Cervical/HTMCP-03-06-02128/hg19a/GSH/A38441_A37952/strelka/60051/bwa/results/passed.somatic.indels.eff.dbSNP_v149.cosmic_v82.clinvar_20170801.annotations.classic.vcf\n"
     ]
    },
    {
     "data": {
      "text/plain": [
       "'vcf2maf_template_discovery.txt'"
      ]
     },
     "execution_count": 45,
     "metadata": {},
     "output_type": "execute_result"
    },
    {
     "name": "stderr",
     "output_type": "stream",
     "text": [
      "\u001b[32mINFO:root:templated /projects/trans_scratch/validations/workspace/szong/Cervical/mutsig2cv/118_patients/vcf2maf_scripts/HTMCP-03-06-02144.indels.sh\u001b[0m\n",
      "\u001b[32mINFO:root:templated /projects/trans_scratch/validations/workspace/szong/Cervical/mutsig2cv/118_patients/vcf2maf_scripts/HTMCP-03-06-02144.indels.sh\u001b[0m\n"
     ]
    },
    {
     "name": "stdout",
     "output_type": "stream",
     "text": [
      "/projects/somatic/NCI_SAIC_HIV_Cervical/HTMCP-03-06-02144/hg19a/GSH/A38445_A37956/strelka/60055/bwa/results/passed.somatic.indels.eff.dbSNP_v149.cosmic_v82.clinvar_20170801.annotations.classic.vcf\n"
     ]
    },
    {
     "data": {
      "text/plain": [
       "'vcf2maf_template_discovery.txt'"
      ]
     },
     "execution_count": 45,
     "metadata": {},
     "output_type": "execute_result"
    },
    {
     "name": "stderr",
     "output_type": "stream",
     "text": [
      "\u001b[32mINFO:root:templated /projects/trans_scratch/validations/workspace/szong/Cervical/mutsig2cv/118_patients/vcf2maf_scripts/HTMCP-03-06-02145.indels.sh\u001b[0m\n",
      "\u001b[32mINFO:root:templated /projects/trans_scratch/validations/workspace/szong/Cervical/mutsig2cv/118_patients/vcf2maf_scripts/HTMCP-03-06-02145.indels.sh\u001b[0m\n"
     ]
    },
    {
     "name": "stdout",
     "output_type": "stream",
     "text": [
      "/projects/somatic/NCI_SAIC_HIV_Cervical/HTMCP-03-06-02145/hg19a/GSH/A38446_A37957/strelka/60057/bwa/results/passed.somatic.indels.eff.dbSNP_v149.cosmic_v82.clinvar_20170801.annotations.classic.vcf\n"
     ]
    },
    {
     "data": {
      "text/plain": [
       "'vcf2maf_template_discovery.txt'"
      ]
     },
     "execution_count": 45,
     "metadata": {},
     "output_type": "execute_result"
    },
    {
     "name": "stderr",
     "output_type": "stream",
     "text": [
      "\u001b[32mINFO:root:templated /projects/trans_scratch/validations/workspace/szong/Cervical/mutsig2cv/118_patients/vcf2maf_scripts/HTMCP-03-06-02147.indels.sh\u001b[0m\n",
      "\u001b[32mINFO:root:templated /projects/trans_scratch/validations/workspace/szong/Cervical/mutsig2cv/118_patients/vcf2maf_scripts/HTMCP-03-06-02147.indels.sh\u001b[0m\n"
     ]
    },
    {
     "name": "stdout",
     "output_type": "stream",
     "text": [
      "/projects/somatic/NCI_SAIC_HIV_Cervical/HTMCP-03-06-02147/hg19a/GSH/A38447_A37958/strelka/60059/bwa/results/passed.somatic.indels.eff.dbSNP_v149.cosmic_v82.clinvar_20170801.annotations.classic.vcf\n"
     ]
    },
    {
     "data": {
      "text/plain": [
       "'vcf2maf_template_discovery.txt'"
      ]
     },
     "execution_count": 45,
     "metadata": {},
     "output_type": "execute_result"
    },
    {
     "name": "stderr",
     "output_type": "stream",
     "text": [
      "\u001b[32mINFO:root:templated /projects/trans_scratch/validations/workspace/szong/Cervical/mutsig2cv/118_patients/vcf2maf_scripts/HTMCP-03-06-02149.indels.sh\u001b[0m\n",
      "\u001b[32mINFO:root:templated /projects/trans_scratch/validations/workspace/szong/Cervical/mutsig2cv/118_patients/vcf2maf_scripts/HTMCP-03-06-02149.indels.sh\u001b[0m\n"
     ]
    },
    {
     "name": "stdout",
     "output_type": "stream",
     "text": [
      "/projects/somatic/NCI_SAIC_HIV_Cervical/HTMCP-03-06-02149/hg19a/GSH/A52317_A54482/strelka/60062/bwa/results/passed.somatic.indels.eff.dbSNP_v149.cosmic_v82.clinvar_20170801.annotations.classic.vcf\n"
     ]
    },
    {
     "data": {
      "text/plain": [
       "'vcf2maf_template_discovery.txt'"
      ]
     },
     "execution_count": 45,
     "metadata": {},
     "output_type": "execute_result"
    },
    {
     "name": "stderr",
     "output_type": "stream",
     "text": [
      "\u001b[32mINFO:root:templated /projects/trans_scratch/validations/workspace/szong/Cervical/mutsig2cv/118_patients/vcf2maf_scripts/HTMCP-03-06-02150.indels.sh\u001b[0m\n",
      "\u001b[32mINFO:root:templated /projects/trans_scratch/validations/workspace/szong/Cervical/mutsig2cv/118_patients/vcf2maf_scripts/HTMCP-03-06-02150.indels.sh\u001b[0m\n"
     ]
    },
    {
     "name": "stdout",
     "output_type": "stream",
     "text": [
      "/projects/somatic/NCI_SAIC_HIV_Cervical/HTMCP-03-06-02150/hg19a/GSH/A52318_A54483/strelka/60063/bwa/results/passed.somatic.indels.eff.dbSNP_v149.cosmic_v82.clinvar_20170801.annotations.classic.vcf\n"
     ]
    },
    {
     "data": {
      "text/plain": [
       "'vcf2maf_template_discovery.txt'"
      ]
     },
     "execution_count": 45,
     "metadata": {},
     "output_type": "execute_result"
    },
    {
     "name": "stderr",
     "output_type": "stream",
     "text": [
      "\u001b[32mINFO:root:templated /projects/trans_scratch/validations/workspace/szong/Cervical/mutsig2cv/118_patients/vcf2maf_scripts/HTMCP-03-06-02155.indels.sh\u001b[0m\n",
      "\u001b[32mINFO:root:templated /projects/trans_scratch/validations/workspace/szong/Cervical/mutsig2cv/118_patients/vcf2maf_scripts/HTMCP-03-06-02155.indels.sh\u001b[0m\n"
     ]
    },
    {
     "name": "stdout",
     "output_type": "stream",
     "text": [
      "/projects/somatic/NCI_SAIC_HIV_Cervical/HTMCP-03-06-02155/hg19a/GSH/A52319_A54486/strelka/60067/bwa/results/passed.somatic.indels.eff.dbSNP_v149.cosmic_v82.clinvar_20170801.annotations.classic.vcf\n"
     ]
    },
    {
     "data": {
      "text/plain": [
       "'vcf2maf_template_discovery.txt'"
      ]
     },
     "execution_count": 45,
     "metadata": {},
     "output_type": "execute_result"
    },
    {
     "name": "stderr",
     "output_type": "stream",
     "text": [
      "\u001b[32mINFO:root:templated /projects/trans_scratch/validations/workspace/szong/Cervical/mutsig2cv/118_patients/vcf2maf_scripts/HTMCP-03-06-02156.indels.sh\u001b[0m\n",
      "\u001b[32mINFO:root:templated /projects/trans_scratch/validations/workspace/szong/Cervical/mutsig2cv/118_patients/vcf2maf_scripts/HTMCP-03-06-02156.indels.sh\u001b[0m\n"
     ]
    },
    {
     "name": "stdout",
     "output_type": "stream",
     "text": [
      "/projects/somatic/NCI_SAIC_HIV_Cervical/HTMCP-03-06-02156/hg19a/GSH/A52320_A54487/strelka/60068/bwa/results/passed.somatic.indels.eff.dbSNP_v149.cosmic_v82.clinvar_20170801.annotations.classic.vcf\n"
     ]
    },
    {
     "data": {
      "text/plain": [
       "'vcf2maf_template_discovery.txt'"
      ]
     },
     "execution_count": 45,
     "metadata": {},
     "output_type": "execute_result"
    },
    {
     "name": "stdout",
     "output_type": "stream",
     "text": [
      "/projects/somatic/NCI_SAIC_HIV_Cervical/HTMCP-03-06-02174/hg19a/GSH/A52323_A54492/strelka/60071/bwa/results/passed.somatic.indels.eff.dbSNP_v149.cosmic_v82.clinvar_20170801.annotations.classic.vcf"
     ]
    },
    {
     "name": "stderr",
     "output_type": "stream",
     "text": [
      "\u001b[32mINFO:root:templated /projects/trans_scratch/validations/workspace/szong/Cervical/mutsig2cv/118_patients/vcf2maf_scripts/HTMCP-03-06-02174.indels.sh\u001b[0m\n",
      "\u001b[32mINFO:root:templated /projects/trans_scratch/validations/workspace/szong/Cervical/mutsig2cv/118_patients/vcf2maf_scripts/HTMCP-03-06-02174.indels.sh\u001b[0m\n"
     ]
    },
    {
     "name": "stdout",
     "output_type": "stream",
     "text": [
      "\n"
     ]
    },
    {
     "data": {
      "text/plain": [
       "'vcf2maf_template_discovery.txt'"
      ]
     },
     "execution_count": 45,
     "metadata": {},
     "output_type": "execute_result"
    },
    {
     "name": "stdout",
     "output_type": "stream",
     "text": [
      "/projects/somatic/NCI_SAIC_HIV_Cervical/HTMCP-03-06-02175/hg19a/GSH/A52324_A54494/strelka/60072/bwa/results/passed.somatic.indels.eff.dbSNP_v149.cosmic_v82.clinvar_20170801.annotations.classic.vcf"
     ]
    },
    {
     "name": "stderr",
     "output_type": "stream",
     "text": [
      "\u001b[32mINFO:root:templated /projects/trans_scratch/validations/workspace/szong/Cervical/mutsig2cv/118_patients/vcf2maf_scripts/HTMCP-03-06-02175.indels.sh\u001b[0m\n",
      "\u001b[32mINFO:root:templated /projects/trans_scratch/validations/workspace/szong/Cervical/mutsig2cv/118_patients/vcf2maf_scripts/HTMCP-03-06-02175.indels.sh\u001b[0m\n"
     ]
    },
    {
     "name": "stdout",
     "output_type": "stream",
     "text": [
      "\n"
     ]
    },
    {
     "data": {
      "text/plain": [
       "'vcf2maf_template_discovery.txt'"
      ]
     },
     "execution_count": 45,
     "metadata": {},
     "output_type": "execute_result"
    },
    {
     "name": "stdout",
     "output_type": "stream",
     "text": [
      "/projects/somatic/NCI_SAIC_HIV_Cervical/HTMCP-03-06-02176/hg19a/GSH/A52325_A54493/strelka/60073/bwa/results/passed.somatic.indels.eff.dbSNP_v149.cosmic_v82.clinvar_20170801.annotations.classic.vcf\n"
     ]
    },
    {
     "name": "stderr",
     "output_type": "stream",
     "text": [
      "\u001b[32mINFO:root:templated /projects/trans_scratch/validations/workspace/szong/Cervical/mutsig2cv/118_patients/vcf2maf_scripts/HTMCP-03-06-02176.indels.sh\u001b[0m\n",
      "\u001b[32mINFO:root:templated /projects/trans_scratch/validations/workspace/szong/Cervical/mutsig2cv/118_patients/vcf2maf_scripts/HTMCP-03-06-02176.indels.sh\u001b[0m\n"
     ]
    },
    {
     "data": {
      "text/plain": [
       "'vcf2maf_template_discovery.txt'"
      ]
     },
     "execution_count": 45,
     "metadata": {},
     "output_type": "execute_result"
    },
    {
     "name": "stdout",
     "output_type": "stream",
     "text": [
      "/projects/somatic/NCI_SAIC_HIV_Cervical/HTMCP-03-06-02180/hg19a/GSH/A52327_A54497/strelka/60075/bwa/results/passed.somatic.indels.eff.dbSNP_v149.cosmic_v82.clinvar_20170801.annotations.classic.vcf\n"
     ]
    },
    {
     "name": "stderr",
     "output_type": "stream",
     "text": [
      "\u001b[32mINFO:root:templated /projects/trans_scratch/validations/workspace/szong/Cervical/mutsig2cv/118_patients/vcf2maf_scripts/HTMCP-03-06-02180.indels.sh\u001b[0m\n",
      "\u001b[32mINFO:root:templated /projects/trans_scratch/validations/workspace/szong/Cervical/mutsig2cv/118_patients/vcf2maf_scripts/HTMCP-03-06-02180.indels.sh\u001b[0m\n"
     ]
    },
    {
     "data": {
      "text/plain": [
       "'vcf2maf_template_discovery.txt'"
      ]
     },
     "execution_count": 45,
     "metadata": {},
     "output_type": "execute_result"
    },
    {
     "name": "stdout",
     "output_type": "stream",
     "text": [
      "/projects/somatic/NCI_SAIC_HIV_Cervical/HTMCP-03-06-02185/hg19a/GSH/A52328_A54498/strelka/60077/bwa/results/passed.somatic.indels.eff.dbSNP_v149.cosmic_v82.clinvar_20170801.annotations.classic.vcf\n"
     ]
    },
    {
     "name": "stderr",
     "output_type": "stream",
     "text": [
      "\u001b[32mINFO:root:templated /projects/trans_scratch/validations/workspace/szong/Cervical/mutsig2cv/118_patients/vcf2maf_scripts/HTMCP-03-06-02185.indels.sh\u001b[0m\n",
      "\u001b[32mINFO:root:templated /projects/trans_scratch/validations/workspace/szong/Cervical/mutsig2cv/118_patients/vcf2maf_scripts/HTMCP-03-06-02185.indels.sh\u001b[0m\n"
     ]
    },
    {
     "data": {
      "text/plain": [
       "'vcf2maf_template_discovery.txt'"
      ]
     },
     "execution_count": 45,
     "metadata": {},
     "output_type": "execute_result"
    },
    {
     "name": "stdout",
     "output_type": "stream",
     "text": [
      "/projects/somatic/NCI_SAIC_HIV_Cervical/HTMCP-03-06-02194/hg19a/GSH/A52333_A54503/strelka/60078/bwa/results/passed.somatic.indels.eff.dbSNP_v149.cosmic_v82.clinvar_20170801.annotations.classic.vcf\n"
     ]
    },
    {
     "name": "stderr",
     "output_type": "stream",
     "text": [
      "\u001b[32mINFO:root:templated /projects/trans_scratch/validations/workspace/szong/Cervical/mutsig2cv/118_patients/vcf2maf_scripts/HTMCP-03-06-02194.indels.sh\u001b[0m\n",
      "\u001b[32mINFO:root:templated /projects/trans_scratch/validations/workspace/szong/Cervical/mutsig2cv/118_patients/vcf2maf_scripts/HTMCP-03-06-02194.indels.sh\u001b[0m\n"
     ]
    },
    {
     "data": {
      "text/plain": [
       "'vcf2maf_template_discovery.txt'"
      ]
     },
     "execution_count": 45,
     "metadata": {},
     "output_type": "execute_result"
    },
    {
     "name": "stdout",
     "output_type": "stream",
     "text": [
      "/projects/somatic/NCI_SAIC_HIV_Cervical/HTMCP-03-06-02196/hg19a/GSH/A52334_A54505/strelka/60080/bwa/results/passed.somatic.indels.eff.dbSNP_v149.cosmic_v82.clinvar_20170801.annotations.classic.vcf\n"
     ]
    },
    {
     "name": "stderr",
     "output_type": "stream",
     "text": [
      "\u001b[32mINFO:root:templated /projects/trans_scratch/validations/workspace/szong/Cervical/mutsig2cv/118_patients/vcf2maf_scripts/HTMCP-03-06-02196.indels.sh\u001b[0m\n",
      "\u001b[32mINFO:root:templated /projects/trans_scratch/validations/workspace/szong/Cervical/mutsig2cv/118_patients/vcf2maf_scripts/HTMCP-03-06-02196.indels.sh\u001b[0m\n"
     ]
    },
    {
     "data": {
      "text/plain": [
       "'vcf2maf_template_discovery.txt'"
      ]
     },
     "execution_count": 45,
     "metadata": {},
     "output_type": "execute_result"
    },
    {
     "name": "stdout",
     "output_type": "stream",
     "text": [
      "/projects/somatic/NCI_SAIC_HIV_Cervical/HTMCP-03-06-02203/hg19a/GSH/A52336_A54507/strelka/60083/bwa/results/passed.somatic.indels.eff.dbSNP_v149.cosmic_v82.clinvar_20170801.annotations.classic.vcf\n"
     ]
    },
    {
     "name": "stderr",
     "output_type": "stream",
     "text": [
      "\u001b[32mINFO:root:templated /projects/trans_scratch/validations/workspace/szong/Cervical/mutsig2cv/118_patients/vcf2maf_scripts/HTMCP-03-06-02203.indels.sh\u001b[0m\n",
      "\u001b[32mINFO:root:templated /projects/trans_scratch/validations/workspace/szong/Cervical/mutsig2cv/118_patients/vcf2maf_scripts/HTMCP-03-06-02203.indels.sh\u001b[0m\n"
     ]
    },
    {
     "data": {
      "text/plain": [
       "'vcf2maf_template_discovery.txt'"
      ]
     },
     "execution_count": 45,
     "metadata": {},
     "output_type": "execute_result"
    },
    {
     "name": "stdout",
     "output_type": "stream",
     "text": [
      "/projects/somatic/NCI_SAIC_HIV_Cervical/HTMCP-03-06-02209/hg19a/GSH/A52338_A54511/strelka/60086/bwa/results/passed.somatic.indels.eff.dbSNP_v149.cosmic_v82.clinvar_20170801.annotations.classic.vcf\n"
     ]
    },
    {
     "name": "stderr",
     "output_type": "stream",
     "text": [
      "\u001b[32mINFO:root:templated /projects/trans_scratch/validations/workspace/szong/Cervical/mutsig2cv/118_patients/vcf2maf_scripts/HTMCP-03-06-02209.indels.sh\u001b[0m\n",
      "\u001b[32mINFO:root:templated /projects/trans_scratch/validations/workspace/szong/Cervical/mutsig2cv/118_patients/vcf2maf_scripts/HTMCP-03-06-02209.indels.sh\u001b[0m\n"
     ]
    },
    {
     "data": {
      "text/plain": [
       "'vcf2maf_template_discovery.txt'"
      ]
     },
     "execution_count": 45,
     "metadata": {},
     "output_type": "execute_result"
    },
    {
     "name": "stdout",
     "output_type": "stream",
     "text": [
      "/projects/somatic/NCI_SAIC_HIV_Cervical/HTMCP-03-06-02210/hg19a/GSH/A52339_A54512/strelka/60087/bwa/results/passed.somatic.indels.eff.dbSNP_v149.cosmic_v82.clinvar_20170801.annotations.classic.vcf\n"
     ]
    },
    {
     "name": "stderr",
     "output_type": "stream",
     "text": [
      "\u001b[32mINFO:root:templated /projects/trans_scratch/validations/workspace/szong/Cervical/mutsig2cv/118_patients/vcf2maf_scripts/HTMCP-03-06-02210.indels.sh\u001b[0m\n",
      "\u001b[32mINFO:root:templated /projects/trans_scratch/validations/workspace/szong/Cervical/mutsig2cv/118_patients/vcf2maf_scripts/HTMCP-03-06-02210.indels.sh\u001b[0m\n"
     ]
    },
    {
     "data": {
      "text/plain": [
       "'vcf2maf_template_discovery.txt'"
      ]
     },
     "execution_count": 45,
     "metadata": {},
     "output_type": "execute_result"
    },
    {
     "name": "stdout",
     "output_type": "stream",
     "text": [
      "/projects/somatic/NCI_SAIC_HIV_Cervical/HTMCP-03-06-02214/hg19a/GSH/A52340_A54515/strelka/60089/bwa/results/passed.somatic.indels.eff.dbSNP_v149.cosmic_v82.clinvar_20170801.annotations.classic.vcf\n"
     ]
    },
    {
     "name": "stderr",
     "output_type": "stream",
     "text": [
      "\u001b[32mINFO:root:templated /projects/trans_scratch/validations/workspace/szong/Cervical/mutsig2cv/118_patients/vcf2maf_scripts/HTMCP-03-06-02214.indels.sh\u001b[0m\n",
      "\u001b[32mINFO:root:templated /projects/trans_scratch/validations/workspace/szong/Cervical/mutsig2cv/118_patients/vcf2maf_scripts/HTMCP-03-06-02214.indels.sh\u001b[0m\n"
     ]
    },
    {
     "data": {
      "text/plain": [
       "'vcf2maf_template_discovery.txt'"
      ]
     },
     "execution_count": 45,
     "metadata": {},
     "output_type": "execute_result"
    },
    {
     "name": "stdout",
     "output_type": "stream",
     "text": [
      "/projects/somatic/NCI_SAIC_HIV_Cervical/HTMCP-03-06-02215/hg19a/GSH/A52341_A54516/strelka/60090/bwa/results/passed.somatic.indels.eff.dbSNP_v149.cosmic_v82.clinvar_20170801.annotations.classic.vcf\n"
     ]
    },
    {
     "name": "stderr",
     "output_type": "stream",
     "text": [
      "\u001b[32mINFO:root:templated /projects/trans_scratch/validations/workspace/szong/Cervical/mutsig2cv/118_patients/vcf2maf_scripts/HTMCP-03-06-02215.indels.sh\u001b[0m\n",
      "\u001b[32mINFO:root:templated /projects/trans_scratch/validations/workspace/szong/Cervical/mutsig2cv/118_patients/vcf2maf_scripts/HTMCP-03-06-02215.indels.sh\u001b[0m\n"
     ]
    },
    {
     "data": {
      "text/plain": [
       "'vcf2maf_template_discovery.txt'"
      ]
     },
     "execution_count": 45,
     "metadata": {},
     "output_type": "execute_result"
    },
    {
     "name": "stdout",
     "output_type": "stream",
     "text": [
      "/projects/somatic/NCI_SAIC_HIV_Cervical/HTMCP-03-06-02148/hg19a/GSH/A54376_A54481/strelka/60061/bwa/results/passed.somatic.indels.eff.dbSNP_v149.cosmic_v82.clinvar_20170801.annotations.classic.vcf\n"
     ]
    },
    {
     "name": "stderr",
     "output_type": "stream",
     "text": [
      "\u001b[32mINFO:root:templated /projects/trans_scratch/validations/workspace/szong/Cervical/mutsig2cv/118_patients/vcf2maf_scripts/HTMCP-03-06-02148.indels.sh\u001b[0m\n",
      "\u001b[32mINFO:root:templated /projects/trans_scratch/validations/workspace/szong/Cervical/mutsig2cv/118_patients/vcf2maf_scripts/HTMCP-03-06-02148.indels.sh\u001b[0m\n"
     ]
    },
    {
     "data": {
      "text/plain": [
       "'vcf2maf_template_discovery.txt'"
      ]
     },
     "execution_count": 45,
     "metadata": {},
     "output_type": "execute_result"
    },
    {
     "name": "stdout",
     "output_type": "stream",
     "text": [
      "/projects/somatic/NCI_SAIC_HIV_Cervical/HTMCP-03-06-02151/hg19a/GSH/A54377_A54484/strelka/60064/bwa/results/passed.somatic.indels.eff.dbSNP_v149.cosmic_v82.clinvar_20170801.annotations.classic.vcf\n"
     ]
    },
    {
     "name": "stderr",
     "output_type": "stream",
     "text": [
      "\u001b[32mINFO:root:templated /projects/trans_scratch/validations/workspace/szong/Cervical/mutsig2cv/118_patients/vcf2maf_scripts/HTMCP-03-06-02151.indels.sh\u001b[0m\n",
      "\u001b[32mINFO:root:templated /projects/trans_scratch/validations/workspace/szong/Cervical/mutsig2cv/118_patients/vcf2maf_scripts/HTMCP-03-06-02151.indels.sh\u001b[0m\n"
     ]
    },
    {
     "data": {
      "text/plain": [
       "'vcf2maf_template_discovery.txt'"
      ]
     },
     "execution_count": 45,
     "metadata": {},
     "output_type": "execute_result"
    },
    {
     "name": "stdout",
     "output_type": "stream",
     "text": [
      "/projects/somatic/NCI_SAIC_HIV_Cervical/HTMCP-03-06-02152/hg19a/GSH/A54378_A54485/strelka/60065/bwa/results/passed.somatic.indels.eff.dbSNP_v149.cosmic_v82.clinvar_20170801.annotations.classic.vcf\n"
     ]
    },
    {
     "name": "stderr",
     "output_type": "stream",
     "text": [
      "\u001b[32mINFO:root:templated /projects/trans_scratch/validations/workspace/szong/Cervical/mutsig2cv/118_patients/vcf2maf_scripts/HTMCP-03-06-02152.indels.sh\u001b[0m\n",
      "\u001b[32mINFO:root:templated /projects/trans_scratch/validations/workspace/szong/Cervical/mutsig2cv/118_patients/vcf2maf_scripts/HTMCP-03-06-02152.indels.sh\u001b[0m\n"
     ]
    },
    {
     "data": {
      "text/plain": [
       "'vcf2maf_template_discovery.txt'"
      ]
     },
     "execution_count": 45,
     "metadata": {},
     "output_type": "execute_result"
    },
    {
     "name": "stderr",
     "output_type": "stream",
     "text": [
      "\u001b[32mINFO:root:templated /projects/trans_scratch/validations/workspace/szong/Cervical/mutsig2cv/118_patients/vcf2maf_scripts/HTMCP-03-06-02170.indels.sh\u001b[0m\n",
      "\u001b[32mINFO:root:templated /projects/trans_scratch/validations/workspace/szong/Cervical/mutsig2cv/118_patients/vcf2maf_scripts/HTMCP-03-06-02170.indels.sh\u001b[0m\n"
     ]
    },
    {
     "name": "stdout",
     "output_type": "stream",
     "text": [
      "/projects/somatic/NCI_SAIC_HIV_Cervical/HTMCP-03-06-02170/hg19a/GSH/A54379_A54490/strelka/60070/bwa/results/passed.somatic.indels.eff.dbSNP_v149.cosmic_v82.clinvar_20170801.annotations.classic.vcf\n"
     ]
    },
    {
     "data": {
      "text/plain": [
       "'vcf2maf_template_discovery.txt'"
      ]
     },
     "execution_count": 45,
     "metadata": {},
     "output_type": "execute_result"
    },
    {
     "name": "stderr",
     "output_type": "stream",
     "text": [
      "\u001b[32mINFO:root:templated /projects/trans_scratch/validations/workspace/szong/Cervical/mutsig2cv/118_patients/vcf2maf_scripts/HTMCP-03-06-02179.indels.sh\u001b[0m\n",
      "\u001b[32mINFO:root:templated /projects/trans_scratch/validations/workspace/szong/Cervical/mutsig2cv/118_patients/vcf2maf_scripts/HTMCP-03-06-02179.indels.sh\u001b[0m\n"
     ]
    },
    {
     "name": "stdout",
     "output_type": "stream",
     "text": [
      "/projects/somatic/NCI_SAIC_HIV_Cervical/HTMCP-03-06-02179/hg19a/GSH/A54381_A54496/strelka/60074/bwa/results/passed.somatic.indels.eff.dbSNP_v149.cosmic_v82.clinvar_20170801.annotations.classic.vcf\n"
     ]
    },
    {
     "data": {
      "text/plain": [
       "'vcf2maf_template_discovery.txt'"
      ]
     },
     "execution_count": 45,
     "metadata": {},
     "output_type": "execute_result"
    },
    {
     "name": "stderr",
     "output_type": "stream",
     "text": [
      "\u001b[32mINFO:root:templated /projects/trans_scratch/validations/workspace/szong/Cervical/mutsig2cv/118_patients/vcf2maf_scripts/HTMCP-03-06-02205.indels.sh\u001b[0m\n",
      "\u001b[32mINFO:root:templated /projects/trans_scratch/validations/workspace/szong/Cervical/mutsig2cv/118_patients/vcf2maf_scripts/HTMCP-03-06-02205.indels.sh\u001b[0m\n"
     ]
    },
    {
     "name": "stdout",
     "output_type": "stream",
     "text": [
      "/projects/somatic/NCI_SAIC_HIV_Cervical/HTMCP-03-06-02205/hg19a/GSH/A54385_A54509/strelka/60085/bwa/results/passed.somatic.indels.eff.dbSNP_v149.cosmic_v82.clinvar_20170801.annotations.classic.vcf\n"
     ]
    },
    {
     "data": {
      "text/plain": [
       "'vcf2maf_template_discovery.txt'"
      ]
     },
     "execution_count": 45,
     "metadata": {},
     "output_type": "execute_result"
    },
    {
     "name": "stderr",
     "output_type": "stream",
     "text": [
      "\u001b[32mINFO:root:templated /projects/trans_scratch/validations/workspace/szong/Cervical/mutsig2cv/118_patients/vcf2maf_scripts/HTMCP-03-06-02213.indels.sh\u001b[0m\n",
      "\u001b[32mINFO:root:templated /projects/trans_scratch/validations/workspace/szong/Cervical/mutsig2cv/118_patients/vcf2maf_scripts/HTMCP-03-06-02213.indels.sh\u001b[0m\n"
     ]
    },
    {
     "name": "stdout",
     "output_type": "stream",
     "text": [
      "/projects/somatic/NCI_SAIC_HIV_Cervical/HTMCP-03-06-02213/hg19a/GSH/A54387_A54514/strelka/60088/bwa/results/passed.somatic.indels.eff.dbSNP_v149.cosmic_v82.clinvar_20170801.annotations.classic.vcf\n"
     ]
    },
    {
     "data": {
      "text/plain": [
       "'vcf2maf_template_discovery.txt'"
      ]
     },
     "execution_count": 45,
     "metadata": {},
     "output_type": "execute_result"
    },
    {
     "name": "stderr",
     "output_type": "stream",
     "text": [
      "\u001b[32mINFO:root:templated /projects/trans_scratch/validations/workspace/szong/Cervical/mutsig2cv/118_patients/vcf2maf_scripts/HTMCP-03-06-02216.indels.sh\u001b[0m\n",
      "\u001b[32mINFO:root:templated /projects/trans_scratch/validations/workspace/szong/Cervical/mutsig2cv/118_patients/vcf2maf_scripts/HTMCP-03-06-02216.indels.sh\u001b[0m\n"
     ]
    },
    {
     "name": "stdout",
     "output_type": "stream",
     "text": [
      "/projects/somatic/NCI_SAIC_HIV_Cervical/HTMCP-03-06-02216/hg19a/GSH/A54388_A54517/strelka/60091/bwa/results/passed.somatic.indels.eff.dbSNP_v149.cosmic_v82.clinvar_20170801.annotations.classic.vcf\n"
     ]
    },
    {
     "data": {
      "text/plain": [
       "'vcf2maf_template_discovery.txt'"
      ]
     },
     "execution_count": 45,
     "metadata": {},
     "output_type": "execute_result"
    },
    {
     "name": "stderr",
     "output_type": "stream",
     "text": [
      "\u001b[32mINFO:root:templated /projects/trans_scratch/validations/workspace/szong/Cervical/mutsig2cv/118_patients/vcf2maf_scripts/HTMCP-03-06-02195.indels.sh\u001b[0m\n",
      "\u001b[32mINFO:root:templated /projects/trans_scratch/validations/workspace/szong/Cervical/mutsig2cv/118_patients/vcf2maf_scripts/HTMCP-03-06-02195.indels.sh\u001b[0m\n"
     ]
    },
    {
     "name": "stdout",
     "output_type": "stream",
     "text": [
      "/projects/somatic/NCI_SAIC_HIV_Cervical/HTMCP-03-06-02195/hg19a/GSH/A57084_A54504/strelka/60079/bwa/results/passed.somatic.indels.eff.dbSNP_v149.cosmic_v82.clinvar_20170801.annotations.classic.vcf\n"
     ]
    },
    {
     "data": {
      "text/plain": [
       "'vcf2maf_template_discovery.txt'"
      ]
     },
     "execution_count": 45,
     "metadata": {},
     "output_type": "execute_result"
    },
    {
     "name": "stderr",
     "output_type": "stream",
     "text": [
      "\u001b[32mINFO:root:templated /projects/trans_scratch/validations/workspace/szong/Cervical/mutsig2cv/118_patients/vcf2maf_scripts/HTMCP-03-06-02202.indels.sh\u001b[0m\n",
      "\u001b[32mINFO:root:templated /projects/trans_scratch/validations/workspace/szong/Cervical/mutsig2cv/118_patients/vcf2maf_scripts/HTMCP-03-06-02202.indels.sh\u001b[0m\n"
     ]
    },
    {
     "name": "stdout",
     "output_type": "stream",
     "text": [
      "/projects/somatic/NCI_SAIC_HIV_Cervical/HTMCP-03-06-02202/hg19a/GSH/A57085_A54506/strelka/60082/bwa/results/passed.somatic.indels.eff.dbSNP_v149.cosmic_v82.clinvar_20170801.annotations.classic.vcf\n"
     ]
    },
    {
     "data": {
      "text/plain": [
       "'vcf2maf_template_discovery.txt'"
      ]
     },
     "execution_count": 45,
     "metadata": {},
     "output_type": "execute_result"
    },
    {
     "name": "stderr",
     "output_type": "stream",
     "text": [
      "\u001b[32mINFO:root:templated /projects/trans_scratch/validations/workspace/szong/Cervical/mutsig2cv/118_patients/vcf2maf_scripts/HTMCP-03-06-02204.indels.sh\u001b[0m\n",
      "\u001b[32mINFO:root:templated /projects/trans_scratch/validations/workspace/szong/Cervical/mutsig2cv/118_patients/vcf2maf_scripts/HTMCP-03-06-02204.indels.sh\u001b[0m\n"
     ]
    },
    {
     "name": "stdout",
     "output_type": "stream",
     "text": [
      "/projects/somatic/NCI_SAIC_HIV_Cervical/HTMCP-03-06-02204/hg19a/GSH/A57086_A54508/strelka/60084/bwa/results/passed.somatic.indels.eff.dbSNP_v149.cosmic_v82.clinvar_20170801.annotations.classic.vcf\n"
     ]
    },
    {
     "data": {
      "text/plain": [
       "'vcf2maf_template_discovery.txt'"
      ]
     },
     "execution_count": 45,
     "metadata": {},
     "output_type": "execute_result"
    },
    {
     "name": "stderr",
     "output_type": "stream",
     "text": [
      "\u001b[32mINFO:root:templated /projects/trans_scratch/validations/workspace/szong/Cervical/mutsig2cv/118_patients/vcf2maf_scripts/HTMCP-03-06-02217.indels.sh\u001b[0m\n",
      "\u001b[32mINFO:root:templated /projects/trans_scratch/validations/workspace/szong/Cervical/mutsig2cv/118_patients/vcf2maf_scripts/HTMCP-03-06-02217.indels.sh\u001b[0m\n"
     ]
    },
    {
     "name": "stdout",
     "output_type": "stream",
     "text": [
      "/projects/somatic/NCI_SAIC_HIV_Cervical/HTMCP-03-06-02217/hg19a/GSH/A57088_A56469/strelka/60092/bwa/results/passed.somatic.indels.eff.dbSNP_v149.cosmic_v82.clinvar_20170801.annotations.classic.vcf\n"
     ]
    },
    {
     "data": {
      "text/plain": [
       "'vcf2maf_template_discovery.txt'"
      ]
     },
     "execution_count": 45,
     "metadata": {},
     "output_type": "execute_result"
    },
    {
     "name": "stderr",
     "output_type": "stream",
     "text": [
      "\u001b[32mINFO:root:templated /projects/trans_scratch/validations/workspace/szong/Cervical/mutsig2cv/118_patients/vcf2maf_scripts/HTMCP-03-06-02219.indels.sh\u001b[0m\n",
      "\u001b[32mINFO:root:templated /projects/trans_scratch/validations/workspace/szong/Cervical/mutsig2cv/118_patients/vcf2maf_scripts/HTMCP-03-06-02219.indels.sh\u001b[0m\n"
     ]
    },
    {
     "name": "stdout",
     "output_type": "stream",
     "text": [
      "/projects/somatic/NCI_SAIC_HIV_Cervical/HTMCP-03-06-02219/hg19a/GSH/A57089_A56470/strelka/60093/bwa/results/passed.somatic.indels.eff.dbSNP_v149.cosmic_v82.clinvar_20170801.annotations.classic.vcf\n"
     ]
    },
    {
     "data": {
      "text/plain": [
       "'vcf2maf_template_discovery.txt'"
      ]
     },
     "execution_count": 45,
     "metadata": {},
     "output_type": "execute_result"
    },
    {
     "name": "stderr",
     "output_type": "stream",
     "text": [
      "\u001b[32mINFO:root:templated /projects/trans_scratch/validations/workspace/szong/Cervical/mutsig2cv/118_patients/vcf2maf_scripts/HTMCP-03-06-02225.indels.sh\u001b[0m\n",
      "\u001b[32mINFO:root:templated /projects/trans_scratch/validations/workspace/szong/Cervical/mutsig2cv/118_patients/vcf2maf_scripts/HTMCP-03-06-02225.indels.sh\u001b[0m\n"
     ]
    },
    {
     "name": "stdout",
     "output_type": "stream",
     "text": [
      "/projects/somatic/NCI_SAIC_HIV_Cervical/HTMCP-03-06-02225/hg19a/GSH/A57091_A56492/strelka/60095/bwa/results/passed.somatic.indels.eff.dbSNP_v149.cosmic_v82.clinvar_20170801.annotations.classic.vcf\n"
     ]
    },
    {
     "data": {
      "text/plain": [
       "'vcf2maf_template_discovery.txt'"
      ]
     },
     "execution_count": 45,
     "metadata": {},
     "output_type": "execute_result"
    },
    {
     "name": "stderr",
     "output_type": "stream",
     "text": [
      "\u001b[32mINFO:root:templated /projects/trans_scratch/validations/workspace/szong/Cervical/mutsig2cv/118_patients/vcf2maf_scripts/HTMCP-03-06-02230.indels.sh\u001b[0m\n",
      "\u001b[32mINFO:root:templated /projects/trans_scratch/validations/workspace/szong/Cervical/mutsig2cv/118_patients/vcf2maf_scripts/HTMCP-03-06-02230.indels.sh\u001b[0m\n"
     ]
    },
    {
     "name": "stdout",
     "output_type": "stream",
     "text": [
      "/projects/somatic/NCI_SAIC_HIV_Cervical/HTMCP-03-06-02230/hg19a/GSH/A57092_A56493/strelka/60096/bwa/results/passed.somatic.indels.eff.dbSNP_v149.cosmic_v82.clinvar_20170801.annotations.classic.vcf\n"
     ]
    },
    {
     "data": {
      "text/plain": [
       "'vcf2maf_template_discovery.txt'"
      ]
     },
     "execution_count": 45,
     "metadata": {},
     "output_type": "execute_result"
    },
    {
     "name": "stderr",
     "output_type": "stream",
     "text": [
      "\u001b[32mINFO:root:templated /projects/trans_scratch/validations/workspace/szong/Cervical/mutsig2cv/118_patients/vcf2maf_scripts/HTMCP-03-06-02235.indels.sh\u001b[0m\n",
      "\u001b[32mINFO:root:templated /projects/trans_scratch/validations/workspace/szong/Cervical/mutsig2cv/118_patients/vcf2maf_scripts/HTMCP-03-06-02235.indels.sh\u001b[0m\n"
     ]
    },
    {
     "name": "stdout",
     "output_type": "stream",
     "text": [
      "/projects/somatic/NCI_SAIC_HIV_Cervical/HTMCP-03-06-02235/hg19a/GSH/A57093_A56621/strelka/60100/bwa/results/passed.somatic.indels.eff.dbSNP_v149.cosmic_v82.clinvar_20170801.annotations.classic.vcf\n"
     ]
    },
    {
     "data": {
      "text/plain": [
       "'vcf2maf_template_discovery.txt'"
      ]
     },
     "execution_count": 45,
     "metadata": {},
     "output_type": "execute_result"
    },
    {
     "name": "stderr",
     "output_type": "stream",
     "text": [
      "\u001b[32mINFO:root:templated /projects/trans_scratch/validations/workspace/szong/Cervical/mutsig2cv/118_patients/vcf2maf_scripts/HTMCP-03-06-02238.indels.sh\u001b[0m\n",
      "\u001b[32mINFO:root:templated /projects/trans_scratch/validations/workspace/szong/Cervical/mutsig2cv/118_patients/vcf2maf_scripts/HTMCP-03-06-02238.indels.sh\u001b[0m\n"
     ]
    },
    {
     "name": "stdout",
     "output_type": "stream",
     "text": [
      "/projects/somatic/NCI_SAIC_HIV_Cervical/HTMCP-03-06-02238/hg19a/GSH/A57094_A56622/strelka/60101/bwa/results/passed.somatic.indels.eff.dbSNP_v149.cosmic_v82.clinvar_20170801.annotations.classic.vcf\n"
     ]
    },
    {
     "data": {
      "text/plain": [
       "'vcf2maf_template_discovery.txt'"
      ]
     },
     "execution_count": 45,
     "metadata": {},
     "output_type": "execute_result"
    },
    {
     "name": "stderr",
     "output_type": "stream",
     "text": [
      "\u001b[32mINFO:root:templated /projects/trans_scratch/validations/workspace/szong/Cervical/mutsig2cv/118_patients/vcf2maf_scripts/HTMCP-03-06-02239.indels.sh\u001b[0m\n",
      "\u001b[32mINFO:root:templated /projects/trans_scratch/validations/workspace/szong/Cervical/mutsig2cv/118_patients/vcf2maf_scripts/HTMCP-03-06-02239.indels.sh\u001b[0m\n"
     ]
    },
    {
     "name": "stdout",
     "output_type": "stream",
     "text": [
      "/projects/somatic/NCI_SAIC_HIV_Cervical/HTMCP-03-06-02239/hg19a/GSH/A57095_A56623/strelka/60102/bwa/results/passed.somatic.indels.eff.dbSNP_v149.cosmic_v82.clinvar_20170801.annotations.classic.vcf\n"
     ]
    },
    {
     "data": {
      "text/plain": [
       "'vcf2maf_template_discovery.txt'"
      ]
     },
     "execution_count": 45,
     "metadata": {},
     "output_type": "execute_result"
    },
    {
     "name": "stderr",
     "output_type": "stream",
     "text": [
      "\u001b[32mINFO:root:templated /projects/trans_scratch/validations/workspace/szong/Cervical/mutsig2cv/118_patients/vcf2maf_scripts/HTMCP-03-06-02240.indels.sh\u001b[0m\n",
      "\u001b[32mINFO:root:templated /projects/trans_scratch/validations/workspace/szong/Cervical/mutsig2cv/118_patients/vcf2maf_scripts/HTMCP-03-06-02240.indels.sh\u001b[0m\n"
     ]
    },
    {
     "name": "stdout",
     "output_type": "stream",
     "text": [
      "/projects/somatic/NCI_SAIC_HIV_Cervical/HTMCP-03-06-02240/hg19a/GSH/A57096_A56624/strelka/60103/bwa/results/passed.somatic.indels.eff.dbSNP_v149.cosmic_v82.clinvar_20170801.annotations.classic.vcf\n"
     ]
    },
    {
     "data": {
      "text/plain": [
       "'vcf2maf_template_discovery.txt'"
      ]
     },
     "execution_count": 45,
     "metadata": {},
     "output_type": "execute_result"
    },
    {
     "name": "stderr",
     "output_type": "stream",
     "text": [
      "\u001b[32mINFO:root:templated /projects/trans_scratch/validations/workspace/szong/Cervical/mutsig2cv/118_patients/vcf2maf_scripts/HTMCP-03-06-02242.indels.sh\u001b[0m\n",
      "\u001b[32mINFO:root:templated /projects/trans_scratch/validations/workspace/szong/Cervical/mutsig2cv/118_patients/vcf2maf_scripts/HTMCP-03-06-02242.indels.sh\u001b[0m\n"
     ]
    },
    {
     "name": "stdout",
     "output_type": "stream",
     "text": [
      "/projects/somatic/NCI_SAIC_HIV_Cervical/HTMCP-03-06-02242/hg19a/GSH/A57097_A56625/strelka/60104/bwa/results/passed.somatic.indels.eff.dbSNP_v149.cosmic_v82.clinvar_20170801.annotations.classic.vcf\n"
     ]
    },
    {
     "data": {
      "text/plain": [
       "'vcf2maf_template_discovery.txt'"
      ]
     },
     "execution_count": 45,
     "metadata": {},
     "output_type": "execute_result"
    },
    {
     "name": "stderr",
     "output_type": "stream",
     "text": [
      "\u001b[32mINFO:root:templated /projects/trans_scratch/validations/workspace/szong/Cervical/mutsig2cv/118_patients/vcf2maf_scripts/HTMCP-03-06-02182.indels.sh\u001b[0m\n",
      "\u001b[32mINFO:root:templated /projects/trans_scratch/validations/workspace/szong/Cervical/mutsig2cv/118_patients/vcf2maf_scripts/HTMCP-03-06-02182.indels.sh\u001b[0m\n"
     ]
    },
    {
     "name": "stdout",
     "output_type": "stream",
     "text": [
      "/projects/somatic/NCI_SAIC_HIV_Cervical/HTMCP-03-06-02182/hg19a/GSH/A62911_A61302/strelka/60076/bwa/results/passed.somatic.indels.eff.dbSNP_v149.cosmic_v82.clinvar_20170801.annotations.classic.vcf\n"
     ]
    },
    {
     "data": {
      "text/plain": [
       "'vcf2maf_template_discovery.txt'"
      ]
     },
     "execution_count": 45,
     "metadata": {},
     "output_type": "execute_result"
    },
    {
     "name": "stderr",
     "output_type": "stream",
     "text": [
      "\u001b[32mINFO:root:templated /projects/trans_scratch/validations/workspace/szong/Cervical/mutsig2cv/118_patients/vcf2maf_scripts/HTMCP-03-06-02197.indels.sh\u001b[0m\n",
      "\u001b[32mINFO:root:templated /projects/trans_scratch/validations/workspace/szong/Cervical/mutsig2cv/118_patients/vcf2maf_scripts/HTMCP-03-06-02197.indels.sh\u001b[0m\n"
     ]
    },
    {
     "name": "stdout",
     "output_type": "stream",
     "text": [
      "/projects/somatic/NCI_SAIC_HIV_Cervical/HTMCP-03-06-02197/hg19a/GSH/A62912_A61303/strelka/60081/bwa/results/passed.somatic.indels.eff.dbSNP_v149.cosmic_v82.clinvar_20170801.annotations.classic.vcf\n"
     ]
    },
    {
     "data": {
      "text/plain": [
       "'vcf2maf_template_discovery.txt'"
      ]
     },
     "execution_count": 45,
     "metadata": {},
     "output_type": "execute_result"
    },
    {
     "name": "stderr",
     "output_type": "stream",
     "text": [
      "\u001b[32mINFO:root:templated /projects/trans_scratch/validations/workspace/szong/Cervical/mutsig2cv/118_patients/vcf2maf_scripts/HTMCP-03-06-02222.indels.sh\u001b[0m\n",
      "\u001b[32mINFO:root:templated /projects/trans_scratch/validations/workspace/szong/Cervical/mutsig2cv/118_patients/vcf2maf_scripts/HTMCP-03-06-02222.indels.sh\u001b[0m\n"
     ]
    },
    {
     "name": "stdout",
     "output_type": "stream",
     "text": [
      "/projects/somatic/NCI_SAIC_HIV_Cervical/HTMCP-03-06-02222/hg19a/GSH/A68231_A66439/strelka/60094/bwa/results/passed.somatic.indels.eff.dbSNP_v149.cosmic_v82.clinvar_20170801.annotations.classic.vcf\n"
     ]
    },
    {
     "data": {
      "text/plain": [
       "'vcf2maf_template_discovery.txt'"
      ]
     },
     "execution_count": 45,
     "metadata": {},
     "output_type": "execute_result"
    },
    {
     "name": "stderr",
     "output_type": "stream",
     "text": [
      "\u001b[32mINFO:root:templated /projects/trans_scratch/validations/workspace/szong/Cervical/mutsig2cv/118_patients/vcf2maf_scripts/HTMCP-03-06-02256.indels.sh\u001b[0m\n",
      "\u001b[32mINFO:root:templated /projects/trans_scratch/validations/workspace/szong/Cervical/mutsig2cv/118_patients/vcf2maf_scripts/HTMCP-03-06-02256.indels.sh\u001b[0m\n"
     ]
    },
    {
     "name": "stdout",
     "output_type": "stream",
     "text": [
      "/projects/somatic/NCI_SAIC_HIV_Cervical/HTMCP-03-06-02256/hg19a/GSH/A68232_A66440/strelka/60105/bwa/results/passed.somatic.indels.eff.dbSNP_v149.cosmic_v82.clinvar_20170801.annotations.classic.vcf\n"
     ]
    },
    {
     "data": {
      "text/plain": [
       "'vcf2maf_template_discovery.txt'"
      ]
     },
     "execution_count": 45,
     "metadata": {},
     "output_type": "execute_result"
    },
    {
     "name": "stderr",
     "output_type": "stream",
     "text": [
      "\u001b[32mINFO:root:templated /projects/trans_scratch/validations/workspace/szong/Cervical/mutsig2cv/118_patients/vcf2maf_scripts/HTMCP-03-06-02259.indels.sh\u001b[0m\n",
      "\u001b[32mINFO:root:templated /projects/trans_scratch/validations/workspace/szong/Cervical/mutsig2cv/118_patients/vcf2maf_scripts/HTMCP-03-06-02259.indels.sh\u001b[0m\n"
     ]
    },
    {
     "name": "stdout",
     "output_type": "stream",
     "text": [
      "/projects/somatic/NCI_SAIC_HIV_Cervical/HTMCP-03-06-02259/hg19a/GSH/A68233_A66441/strelka/60106/bwa/results/passed.somatic.indels.eff.dbSNP_v149.cosmic_v82.clinvar_20170801.annotations.classic.vcf\n"
     ]
    },
    {
     "data": {
      "text/plain": [
       "'vcf2maf_template_discovery.txt'"
      ]
     },
     "execution_count": 45,
     "metadata": {},
     "output_type": "execute_result"
    },
    {
     "name": "stderr",
     "output_type": "stream",
     "text": [
      "\u001b[32mINFO:root:templated /projects/trans_scratch/validations/workspace/szong/Cervical/mutsig2cv/118_patients/vcf2maf_scripts/HTMCP-03-06-02260.indels.sh\u001b[0m\n",
      "\u001b[32mINFO:root:templated /projects/trans_scratch/validations/workspace/szong/Cervical/mutsig2cv/118_patients/vcf2maf_scripts/HTMCP-03-06-02260.indels.sh\u001b[0m\n"
     ]
    },
    {
     "name": "stdout",
     "output_type": "stream",
     "text": [
      "/projects/somatic/NCI_SAIC_HIV_Cervical/HTMCP-03-06-02260/hg19a/GSH/A68234_A66442/strelka/60107/bwa/results/passed.somatic.indels.eff.dbSNP_v149.cosmic_v82.clinvar_20170801.annotations.classic.vcf\n"
     ]
    },
    {
     "data": {
      "text/plain": [
       "'vcf2maf_template_discovery.txt'"
      ]
     },
     "execution_count": 45,
     "metadata": {},
     "output_type": "execute_result"
    },
    {
     "name": "stderr",
     "output_type": "stream",
     "text": [
      "\u001b[32mINFO:root:templated /projects/trans_scratch/validations/workspace/szong/Cervical/mutsig2cv/118_patients/vcf2maf_scripts/HTMCP-03-06-02261.indels.sh\u001b[0m\n",
      "\u001b[32mINFO:root:templated /projects/trans_scratch/validations/workspace/szong/Cervical/mutsig2cv/118_patients/vcf2maf_scripts/HTMCP-03-06-02261.indels.sh\u001b[0m\n"
     ]
    },
    {
     "name": "stdout",
     "output_type": "stream",
     "text": [
      "/projects/somatic/NCI_SAIC_HIV_Cervical/HTMCP-03-06-02261/hg19a/GSH/A68235_A66443/strelka/60108/bwa/results/passed.somatic.indels.eff.dbSNP_v149.cosmic_v82.clinvar_20170801.annotations.classic.vcf\n"
     ]
    },
    {
     "data": {
      "text/plain": [
       "'vcf2maf_template_discovery.txt'"
      ]
     },
     "execution_count": 45,
     "metadata": {},
     "output_type": "execute_result"
    },
    {
     "name": "stderr",
     "output_type": "stream",
     "text": [
      "\u001b[32mINFO:root:templated /projects/trans_scratch/validations/workspace/szong/Cervical/mutsig2cv/118_patients/vcf2maf_scripts/HTMCP-03-06-02262.indels.sh\u001b[0m\n"
     ]
    },
    {
     "name": "stdout",
     "output_type": "stream",
     "text": [
      "/projects/somatic/NCI_SAIC_HIV_Cervical/HTMCP-03-06-02262/hg19a/GSH/A68236_A66444/strelka/60109/bwa/results/passed.somatic.indels.eff.dbSNP_v149.cosmic_v82.clinvar_20170801.annotations.classic.vcf\n"
     ]
    },
    {
     "name": "stderr",
     "output_type": "stream",
     "text": [
      "\u001b[32mINFO:root:templated /projects/trans_scratch/validations/workspace/szong/Cervical/mutsig2cv/118_patients/vcf2maf_scripts/HTMCP-03-06-02262.indels.sh\u001b[0m\n"
     ]
    },
    {
     "data": {
      "text/plain": [
       "'vcf2maf_template_discovery.txt'"
      ]
     },
     "execution_count": 45,
     "metadata": {},
     "output_type": "execute_result"
    },
    {
     "name": "stderr",
     "output_type": "stream",
     "text": [
      "\u001b[32mINFO:root:templated /projects/trans_scratch/validations/workspace/szong/Cervical/mutsig2cv/118_patients/vcf2maf_scripts/HTMCP-03-06-02264.indels.sh\u001b[0m\n"
     ]
    },
    {
     "name": "stdout",
     "output_type": "stream",
     "text": [
      "/projects/somatic/NCI_SAIC_HIV_Cervical/HTMCP-03-06-02264/hg19a/GSH/A68237_A66445/strelka/60110/bwa/results/passed.somatic.indels.eff.dbSNP_v149.cosmic_v82.clinvar_20170801.annotations.classic.vcf\n"
     ]
    },
    {
     "name": "stderr",
     "output_type": "stream",
     "text": [
      "\u001b[32mINFO:root:templated /projects/trans_scratch/validations/workspace/szong/Cervical/mutsig2cv/118_patients/vcf2maf_scripts/HTMCP-03-06-02264.indels.sh\u001b[0m\n"
     ]
    },
    {
     "data": {
      "text/plain": [
       "'vcf2maf_template_discovery.txt'"
      ]
     },
     "execution_count": 45,
     "metadata": {},
     "output_type": "execute_result"
    },
    {
     "name": "stderr",
     "output_type": "stream",
     "text": [
      "\u001b[32mINFO:root:templated /projects/trans_scratch/validations/workspace/szong/Cervical/mutsig2cv/118_patients/vcf2maf_scripts/HTMCP-03-06-02266.indels.sh\u001b[0m\n"
     ]
    },
    {
     "name": "stdout",
     "output_type": "stream",
     "text": [
      "/projects/somatic/NCI_SAIC_HIV_Cervical/HTMCP-03-06-02266/hg19a/GSH/A68238_A66446/strelka/60111/bwa/results/passed.somatic.indels.eff.dbSNP_v149.cosmic_v82.clinvar_20170801.annotations.classic.vcf\n"
     ]
    },
    {
     "name": "stderr",
     "output_type": "stream",
     "text": [
      "\u001b[32mINFO:root:templated /projects/trans_scratch/validations/workspace/szong/Cervical/mutsig2cv/118_patients/vcf2maf_scripts/HTMCP-03-06-02266.indels.sh\u001b[0m\n"
     ]
    },
    {
     "data": {
      "text/plain": [
       "'vcf2maf_template_discovery.txt'"
      ]
     },
     "execution_count": 45,
     "metadata": {},
     "output_type": "execute_result"
    },
    {
     "name": "stderr",
     "output_type": "stream",
     "text": [
      "\u001b[32mINFO:root:templated /projects/trans_scratch/validations/workspace/szong/Cervical/mutsig2cv/118_patients/vcf2maf_scripts/HTMCP-03-06-02267.indels.sh\u001b[0m\n"
     ]
    },
    {
     "name": "stdout",
     "output_type": "stream",
     "text": [
      "/projects/somatic/NCI_SAIC_HIV_Cervical/HTMCP-03-06-02267/hg19a/GSH/A68239_A66447/strelka/60112/bwa/results/passed.somatic.indels.eff.dbSNP_v149.cosmic_v82.clinvar_20170801.annotations.classic.vcf\n"
     ]
    },
    {
     "name": "stderr",
     "output_type": "stream",
     "text": [
      "\u001b[32mINFO:root:templated /projects/trans_scratch/validations/workspace/szong/Cervical/mutsig2cv/118_patients/vcf2maf_scripts/HTMCP-03-06-02267.indels.sh\u001b[0m\n"
     ]
    },
    {
     "data": {
      "text/plain": [
       "'vcf2maf_template_discovery.txt'"
      ]
     },
     "execution_count": 45,
     "metadata": {},
     "output_type": "execute_result"
    },
    {
     "name": "stdout",
     "output_type": "stream",
     "text": [
      "/projects/somatic/NCI_SAIC_HIV_Cervical/HTMCP-03-06-02268/hg19a/GSH/A68240_A66448/strelka/60113/bwa/results/passed.somatic.indels.eff.dbSNP_v149.cosmic_v82.clinvar_20170801.annotations.classic.vcf\n"
     ]
    },
    {
     "name": "stderr",
     "output_type": "stream",
     "text": [
      "\u001b[32mINFO:root:templated /projects/trans_scratch/validations/workspace/szong/Cervical/mutsig2cv/118_patients/vcf2maf_scripts/HTMCP-03-06-02268.indels.sh\u001b[0m\n",
      "\u001b[32mINFO:root:templated /projects/trans_scratch/validations/workspace/szong/Cervical/mutsig2cv/118_patients/vcf2maf_scripts/HTMCP-03-06-02268.indels.sh\u001b[0m\n"
     ]
    },
    {
     "data": {
      "text/plain": [
       "'vcf2maf_template_discovery.txt'"
      ]
     },
     "execution_count": 45,
     "metadata": {},
     "output_type": "execute_result"
    },
    {
     "name": "stdout",
     "output_type": "stream",
     "text": [
      "/projects/somatic/NCI_SAIC_HIV_Cervical/HTMCP-03-06-02320/hg19a/GSH/A68241_A66449/strelka/60114/bwa/results/passed.somatic.indels.eff.dbSNP_v149.cosmic_v82.clinvar_20170801.annotations.classic.vcf\n"
     ]
    },
    {
     "name": "stderr",
     "output_type": "stream",
     "text": [
      "\u001b[32mINFO:root:templated /projects/trans_scratch/validations/workspace/szong/Cervical/mutsig2cv/118_patients/vcf2maf_scripts/HTMCP-03-06-02320.indels.sh\u001b[0m\n",
      "\u001b[32mINFO:root:templated /projects/trans_scratch/validations/workspace/szong/Cervical/mutsig2cv/118_patients/vcf2maf_scripts/HTMCP-03-06-02320.indels.sh\u001b[0m\n"
     ]
    },
    {
     "data": {
      "text/plain": [
       "'vcf2maf_template_discovery.txt'"
      ]
     },
     "execution_count": 45,
     "metadata": {},
     "output_type": "execute_result"
    },
    {
     "name": "stdout",
     "output_type": "stream",
     "text": [
      "/projects/somatic/NCI_SAIC_HIV_Cervical/HTMCP-03-06-02322/hg19a/GSH/A68243_A66451/strelka/60115/bwa/results/passed.somatic.indels.eff.dbSNP_v149.cosmic_v82.clinvar_20170801.annotations.classic.vcf\n"
     ]
    },
    {
     "name": "stderr",
     "output_type": "stream",
     "text": [
      "\u001b[32mINFO:root:templated /projects/trans_scratch/validations/workspace/szong/Cervical/mutsig2cv/118_patients/vcf2maf_scripts/HTMCP-03-06-02322.indels.sh\u001b[0m\n",
      "\u001b[32mINFO:root:templated /projects/trans_scratch/validations/workspace/szong/Cervical/mutsig2cv/118_patients/vcf2maf_scripts/HTMCP-03-06-02322.indels.sh\u001b[0m\n"
     ]
    },
    {
     "data": {
      "text/plain": [
       "'vcf2maf_template_discovery.txt'"
      ]
     },
     "execution_count": 45,
     "metadata": {},
     "output_type": "execute_result"
    },
    {
     "name": "stdout",
     "output_type": "stream",
     "text": [
      "/projects/somatic/NCI_SAIC_HIV_Cervical/HTMCP-03-06-02326/hg19a/GSH/A68244_A66452/strelka/60116/bwa/results/passed.somatic.indels.eff.dbSNP_v149.cosmic_v82.clinvar_20170801.annotations.classic.vcf\n"
     ]
    },
    {
     "name": "stderr",
     "output_type": "stream",
     "text": [
      "\u001b[32mINFO:root:templated /projects/trans_scratch/validations/workspace/szong/Cervical/mutsig2cv/118_patients/vcf2maf_scripts/HTMCP-03-06-02326.indels.sh\u001b[0m\n",
      "\u001b[32mINFO:root:templated /projects/trans_scratch/validations/workspace/szong/Cervical/mutsig2cv/118_patients/vcf2maf_scripts/HTMCP-03-06-02326.indels.sh\u001b[0m\n"
     ]
    },
    {
     "data": {
      "text/plain": [
       "'vcf2maf_template_discovery.txt'"
      ]
     },
     "execution_count": 45,
     "metadata": {},
     "output_type": "execute_result"
    },
    {
     "name": "stdout",
     "output_type": "stream",
     "text": [
      "/projects/somatic/NCI_SAIC_HIV_Cervical/HTMCP-03-06-02328/hg19a/GSH/A68246_A66454/strelka/60117/bwa/results/passed.somatic.indels.eff.dbSNP_v149.cosmic_v82.clinvar_20170801.annotations.classic.vcf\n"
     ]
    },
    {
     "name": "stderr",
     "output_type": "stream",
     "text": [
      "\u001b[32mINFO:root:templated /projects/trans_scratch/validations/workspace/szong/Cervical/mutsig2cv/118_patients/vcf2maf_scripts/HTMCP-03-06-02328.indels.sh\u001b[0m\n",
      "\u001b[32mINFO:root:templated /projects/trans_scratch/validations/workspace/szong/Cervical/mutsig2cv/118_patients/vcf2maf_scripts/HTMCP-03-06-02328.indels.sh\u001b[0m\n"
     ]
    },
    {
     "data": {
      "text/plain": [
       "'vcf2maf_template_discovery.txt'"
      ]
     },
     "execution_count": 45,
     "metadata": {},
     "output_type": "execute_result"
    },
    {
     "name": "stdout",
     "output_type": "stream",
     "text": [
      "/projects/somatic/NCI_SAIC_HIV_Cervical/HTMCP-03-06-02330/hg19a/GSH/A68247_A66455/strelka/60118/bwa/results/passed.somatic.indels.eff.dbSNP_v149.cosmic_v82.clinvar_20170801.annotations.classic.vcf\n"
     ]
    },
    {
     "name": "stderr",
     "output_type": "stream",
     "text": [
      "\u001b[32mINFO:root:templated /projects/trans_scratch/validations/workspace/szong/Cervical/mutsig2cv/118_patients/vcf2maf_scripts/HTMCP-03-06-02330.indels.sh\u001b[0m\n",
      "\u001b[32mINFO:root:templated /projects/trans_scratch/validations/workspace/szong/Cervical/mutsig2cv/118_patients/vcf2maf_scripts/HTMCP-03-06-02330.indels.sh\u001b[0m\n"
     ]
    },
    {
     "data": {
      "text/plain": [
       "'vcf2maf_template_discovery.txt'"
      ]
     },
     "execution_count": 45,
     "metadata": {},
     "output_type": "execute_result"
    },
    {
     "name": "stdout",
     "output_type": "stream",
     "text": [
      "/projects/somatic/NCI_SAIC_HIV_Cervical/HTMCP-03-06-02332/hg19a/GSH/A68248_A66456/strelka/60119/bwa/results/passed.somatic.indels.eff.dbSNP_v149.cosmic_v82.clinvar_20170801.annotations.classic.vcf\n"
     ]
    },
    {
     "name": "stderr",
     "output_type": "stream",
     "text": [
      "\u001b[32mINFO:root:templated /projects/trans_scratch/validations/workspace/szong/Cervical/mutsig2cv/118_patients/vcf2maf_scripts/HTMCP-03-06-02332.indels.sh\u001b[0m\n",
      "\u001b[32mINFO:root:templated /projects/trans_scratch/validations/workspace/szong/Cervical/mutsig2cv/118_patients/vcf2maf_scripts/HTMCP-03-06-02332.indels.sh\u001b[0m\n"
     ]
    },
    {
     "data": {
      "text/plain": [
       "'vcf2maf_template_discovery.txt'"
      ]
     },
     "execution_count": 45,
     "metadata": {},
     "output_type": "execute_result"
    },
    {
     "name": "stdout",
     "output_type": "stream",
     "text": [
      "/projects/somatic/NCI_SAIC_HIV_Cervical/HTMCP-03-06-02333/hg19a/GSH/A68249_A66457/strelka/60120/bwa/results/passed.somatic.indels.eff.dbSNP_v149.cosmic_v82.clinvar_20170801.annotations.classic.vcf\n"
     ]
    },
    {
     "name": "stderr",
     "output_type": "stream",
     "text": [
      "\u001b[32mINFO:root:templated /projects/trans_scratch/validations/workspace/szong/Cervical/mutsig2cv/118_patients/vcf2maf_scripts/HTMCP-03-06-02333.indels.sh\u001b[0m\n",
      "\u001b[32mINFO:root:templated /projects/trans_scratch/validations/workspace/szong/Cervical/mutsig2cv/118_patients/vcf2maf_scripts/HTMCP-03-06-02333.indels.sh\u001b[0m\n"
     ]
    },
    {
     "data": {
      "text/plain": [
       "'vcf2maf_template_discovery.txt'"
      ]
     },
     "execution_count": 45,
     "metadata": {},
     "output_type": "execute_result"
    },
    {
     "name": "stdout",
     "output_type": "stream",
     "text": [
      "/projects/somatic/NCI_SAIC_HIV_Cervical/HTMCP-03-06-02335/hg19a/GSH/A71828_A70135/strelka/60121/bwa/results/passed.somatic.indels.eff.dbSNP_v149.cosmic_v82.clinvar_20170801.annotations.classic.vcf\n"
     ]
    },
    {
     "name": "stderr",
     "output_type": "stream",
     "text": [
      "\u001b[32mINFO:root:templated /projects/trans_scratch/validations/workspace/szong/Cervical/mutsig2cv/118_patients/vcf2maf_scripts/HTMCP-03-06-02335.indels.sh\u001b[0m\n",
      "\u001b[32mINFO:root:templated /projects/trans_scratch/validations/workspace/szong/Cervical/mutsig2cv/118_patients/vcf2maf_scripts/HTMCP-03-06-02335.indels.sh\u001b[0m\n"
     ]
    },
    {
     "data": {
      "text/plain": [
       "'vcf2maf_template_discovery.txt'"
      ]
     },
     "execution_count": 45,
     "metadata": {},
     "output_type": "execute_result"
    },
    {
     "name": "stdout",
     "output_type": "stream",
     "text": [
      "/projects/somatic/NCI_SAIC_HIV_Cervical/HTMCP-03-06-02340/hg19a/GSH/A71832_A70139/strelka/60122/bwa/results/passed.somatic.indels.eff.dbSNP_v149.cosmic_v82.clinvar_20170801.annotations.classic.vcf\n"
     ]
    },
    {
     "name": "stderr",
     "output_type": "stream",
     "text": [
      "\u001b[32mINFO:root:templated /projects/trans_scratch/validations/workspace/szong/Cervical/mutsig2cv/118_patients/vcf2maf_scripts/HTMCP-03-06-02340.indels.sh\u001b[0m\n",
      "\u001b[32mINFO:root:templated /projects/trans_scratch/validations/workspace/szong/Cervical/mutsig2cv/118_patients/vcf2maf_scripts/HTMCP-03-06-02340.indels.sh\u001b[0m\n"
     ]
    },
    {
     "data": {
      "text/plain": [
       "'vcf2maf_template_discovery.txt'"
      ]
     },
     "execution_count": 45,
     "metadata": {},
     "output_type": "execute_result"
    },
    {
     "name": "stdout",
     "output_type": "stream",
     "text": [
      "/projects/somatic/NCI_SAIC_HIV_Cervical/HTMCP-03-06-02341/hg19a/GSH/A71833_A70140/strelka/60123/bwa/results/passed.somatic.indels.eff.dbSNP_v149.cosmic_v82.clinvar_20170801.annotations.classic.vcf\n"
     ]
    },
    {
     "name": "stderr",
     "output_type": "stream",
     "text": [
      "\u001b[32mINFO:root:templated /projects/trans_scratch/validations/workspace/szong/Cervical/mutsig2cv/118_patients/vcf2maf_scripts/HTMCP-03-06-02341.indels.sh\u001b[0m\n",
      "\u001b[32mINFO:root:templated /projects/trans_scratch/validations/workspace/szong/Cervical/mutsig2cv/118_patients/vcf2maf_scripts/HTMCP-03-06-02341.indels.sh\u001b[0m\n"
     ]
    },
    {
     "data": {
      "text/plain": [
       "'vcf2maf_template_discovery.txt'"
      ]
     },
     "execution_count": 45,
     "metadata": {},
     "output_type": "execute_result"
    },
    {
     "name": "stdout",
     "output_type": "stream",
     "text": [
      "/projects/somatic/NCI_SAIC_HIV_Cervical/HTMCP-03-06-02344/hg19a/GSH/A71836_A70143/strelka/60124/bwa/results/passed.somatic.indels.eff.dbSNP_v149.cosmic_v82.clinvar_20170801.annotations.classic.vcf\n"
     ]
    },
    {
     "name": "stderr",
     "output_type": "stream",
     "text": [
      "\u001b[32mINFO:root:templated /projects/trans_scratch/validations/workspace/szong/Cervical/mutsig2cv/118_patients/vcf2maf_scripts/HTMCP-03-06-02344.indels.sh\u001b[0m\n",
      "\u001b[32mINFO:root:templated /projects/trans_scratch/validations/workspace/szong/Cervical/mutsig2cv/118_patients/vcf2maf_scripts/HTMCP-03-06-02344.indels.sh\u001b[0m\n"
     ]
    },
    {
     "data": {
      "text/plain": [
       "'vcf2maf_template_discovery.txt'"
      ]
     },
     "execution_count": 45,
     "metadata": {},
     "output_type": "execute_result"
    },
    {
     "name": "stdout",
     "output_type": "stream",
     "text": [
      "/projects/somatic/NCI_SAIC_HIV_Cervical/HTMCP-03-06-02346/hg19a/GSH/A71838_A70145/strelka/60125/bwa/results/passed.somatic.indels.eff.dbSNP_v149.cosmic_v82.clinvar_20170801.annotations.classic.vcf\n"
     ]
    },
    {
     "name": "stderr",
     "output_type": "stream",
     "text": [
      "\u001b[32mINFO:root:templated /projects/trans_scratch/validations/workspace/szong/Cervical/mutsig2cv/118_patients/vcf2maf_scripts/HTMCP-03-06-02346.indels.sh\u001b[0m\n",
      "\u001b[32mINFO:root:templated /projects/trans_scratch/validations/workspace/szong/Cervical/mutsig2cv/118_patients/vcf2maf_scripts/HTMCP-03-06-02346.indels.sh\u001b[0m\n"
     ]
    },
    {
     "data": {
      "text/plain": [
       "'vcf2maf_template_discovery.txt'"
      ]
     },
     "execution_count": 45,
     "metadata": {},
     "output_type": "execute_result"
    },
    {
     "name": "stdout",
     "output_type": "stream",
     "text": [
      "/projects/somatic/NCI_SAIC_HIV_Cervical/HTMCP-03-06-02354/hg19a/GSH/A71842_A70149/strelka/60126/bwa/results/passed.somatic.indels.eff.dbSNP_v149.cosmic_v82.clinvar_20170801.annotations.classic.vcf\n"
     ]
    },
    {
     "name": "stderr",
     "output_type": "stream",
     "text": [
      "\u001b[32mINFO:root:templated /projects/trans_scratch/validations/workspace/szong/Cervical/mutsig2cv/118_patients/vcf2maf_scripts/HTMCP-03-06-02354.indels.sh\u001b[0m\n",
      "\u001b[32mINFO:root:templated /projects/trans_scratch/validations/workspace/szong/Cervical/mutsig2cv/118_patients/vcf2maf_scripts/HTMCP-03-06-02354.indels.sh\u001b[0m\n"
     ]
    },
    {
     "data": {
      "text/plain": [
       "'vcf2maf_template_discovery.txt'"
      ]
     },
     "execution_count": 45,
     "metadata": {},
     "output_type": "execute_result"
    },
    {
     "name": "stdout",
     "output_type": "stream",
     "text": [
      "/projects/somatic/NCI_SAIC_HIV_Cervical/HTMCP-03-06-02377/hg19a/GSH/A78394_A76706/strelka/60127/bwa/results/passed.somatic.indels.eff.dbSNP_v149.cosmic_v82.clinvar_20170801.annotations.classic.vcf\n"
     ]
    },
    {
     "name": "stderr",
     "output_type": "stream",
     "text": [
      "\u001b[32mINFO:root:templated /projects/trans_scratch/validations/workspace/szong/Cervical/mutsig2cv/118_patients/vcf2maf_scripts/HTMCP-03-06-02377.indels.sh\u001b[0m\n",
      "\u001b[32mINFO:root:templated /projects/trans_scratch/validations/workspace/szong/Cervical/mutsig2cv/118_patients/vcf2maf_scripts/HTMCP-03-06-02377.indels.sh\u001b[0m\n"
     ]
    },
    {
     "data": {
      "text/plain": [
       "'vcf2maf_template_discovery.txt'"
      ]
     },
     "execution_count": 45,
     "metadata": {},
     "output_type": "execute_result"
    },
    {
     "name": "stdout",
     "output_type": "stream",
     "text": [
      "/projects/somatic/NCI_SAIC_HIV_Cervical/HTMCP-03-06-02392/hg19a/GSH/A78402_A76715/strelka/60128/bwa/results/passed.somatic.indels.eff.dbSNP_v149.cosmic_v82.clinvar_20170801.annotations.classic.vcf\n"
     ]
    },
    {
     "name": "stderr",
     "output_type": "stream",
     "text": [
      "\u001b[32mINFO:root:templated /projects/trans_scratch/validations/workspace/szong/Cervical/mutsig2cv/118_patients/vcf2maf_scripts/HTMCP-03-06-02392.indels.sh\u001b[0m\n",
      "\u001b[32mINFO:root:templated /projects/trans_scratch/validations/workspace/szong/Cervical/mutsig2cv/118_patients/vcf2maf_scripts/HTMCP-03-06-02392.indels.sh\u001b[0m\n"
     ]
    },
    {
     "data": {
      "text/plain": [
       "'vcf2maf_template_discovery.txt'"
      ]
     },
     "execution_count": 45,
     "metadata": {},
     "output_type": "execute_result"
    },
    {
     "name": "stdout",
     "output_type": "stream",
     "text": [
      "/projects/somatic/NCI_SAIC_HIV_Cervical/HTMCP-03-06-02393/hg19a/GSH/A78403_A76716/strelka/60129/bwa/results/passed.somatic.indels.eff.dbSNP_v149.cosmic_v82.clinvar_20170801.annotations.classic.vcf\n"
     ]
    },
    {
     "name": "stderr",
     "output_type": "stream",
     "text": [
      "\u001b[32mINFO:root:templated /projects/trans_scratch/validations/workspace/szong/Cervical/mutsig2cv/118_patients/vcf2maf_scripts/HTMCP-03-06-02393.indels.sh\u001b[0m\n",
      "\u001b[32mINFO:root:templated /projects/trans_scratch/validations/workspace/szong/Cervical/mutsig2cv/118_patients/vcf2maf_scripts/HTMCP-03-06-02393.indels.sh\u001b[0m\n"
     ]
    },
    {
     "data": {
      "text/plain": [
       "'vcf2maf_template_discovery.txt'"
      ]
     },
     "execution_count": 45,
     "metadata": {},
     "output_type": "execute_result"
    },
    {
     "name": "stdout",
     "output_type": "stream",
     "text": [
      "/projects/somatic/NCI_SAIC_HIV_Cervical/HTMCP-03-06-02396/hg19a/GSH/A78405_A76718/strelka/60130/bwa/results/passed.somatic.indels.eff.dbSNP_v149.cosmic_v82.clinvar_20170801.annotations.classic.vcf\n"
     ]
    },
    {
     "name": "stderr",
     "output_type": "stream",
     "text": [
      "\u001b[32mINFO:root:templated /projects/trans_scratch/validations/workspace/szong/Cervical/mutsig2cv/118_patients/vcf2maf_scripts/HTMCP-03-06-02396.indels.sh\u001b[0m\n",
      "\u001b[32mINFO:root:templated /projects/trans_scratch/validations/workspace/szong/Cervical/mutsig2cv/118_patients/vcf2maf_scripts/HTMCP-03-06-02396.indels.sh\u001b[0m\n"
     ]
    },
    {
     "data": {
      "text/plain": [
       "'vcf2maf_template_discovery.txt'"
      ]
     },
     "execution_count": 45,
     "metadata": {},
     "output_type": "execute_result"
    },
    {
     "name": "stdout",
     "output_type": "stream",
     "text": [
      "/projects/somatic/NCI_SAIC_HIV_Cervical/HTMCP-03-06-02411/hg19a/GSH/A78416_A76729/strelka/60131/bwa/results/passed.somatic.indels.eff.dbSNP_v149.cosmic_v82.clinvar_20170801.annotations.classic.vcf"
     ]
    },
    {
     "name": "stderr",
     "output_type": "stream",
     "text": [
      "\u001b[32mINFO:root:templated /projects/trans_scratch/validations/workspace/szong/Cervical/mutsig2cv/118_patients/vcf2maf_scripts/HTMCP-03-06-02411.indels.sh\u001b[0m\n",
      "\u001b[32mINFO:root:templated /projects/trans_scratch/validations/workspace/szong/Cervical/mutsig2cv/118_patients/vcf2maf_scripts/HTMCP-03-06-02411.indels.sh\u001b[0m\n"
     ]
    },
    {
     "name": "stdout",
     "output_type": "stream",
     "text": [
      "\n"
     ]
    },
    {
     "data": {
      "text/plain": [
       "'vcf2maf_template_discovery.txt'"
      ]
     },
     "execution_count": 45,
     "metadata": {},
     "output_type": "execute_result"
    },
    {
     "name": "stderr",
     "output_type": "stream",
     "text": [
      "\u001b[32mINFO:root:templated /projects/trans_scratch/validations/workspace/szong/Cervical/mutsig2cv/118_patients/vcf2maf_scripts/HTMCP-03-06-02414.indels.sh\u001b[0m\n",
      "\u001b[32mINFO:root:templated /projects/trans_scratch/validations/workspace/szong/Cervical/mutsig2cv/118_patients/vcf2maf_scripts/HTMCP-03-06-02414.indels.sh\u001b[0m\n"
     ]
    },
    {
     "name": "stdout",
     "output_type": "stream",
     "text": [
      "/projects/somatic/NCI_SAIC_HIV_Cervical/HTMCP-03-06-02414/hg19a/GSH/A78418_A76731/strelka/60132/bwa/results/passed.somatic.indels.eff.dbSNP_v149.cosmic_v82.clinvar_20170801.annotations.classic.vcf\n"
     ]
    },
    {
     "data": {
      "text/plain": [
       "'vcf2maf_template_discovery.txt'"
      ]
     },
     "execution_count": 45,
     "metadata": {},
     "output_type": "execute_result"
    },
    {
     "name": "stderr",
     "output_type": "stream",
     "text": [
      "\u001b[32mINFO:root:templated /projects/trans_scratch/validations/workspace/szong/Cervical/mutsig2cv/118_patients/vcf2maf_scripts/HTMCP-03-06-02417.indels.sh\u001b[0m\n",
      "\u001b[32mINFO:root:templated /projects/trans_scratch/validations/workspace/szong/Cervical/mutsig2cv/118_patients/vcf2maf_scripts/HTMCP-03-06-02417.indels.sh\u001b[0m\n"
     ]
    },
    {
     "name": "stdout",
     "output_type": "stream",
     "text": [
      "/projects/somatic/NCI_SAIC_HIV_Cervical/HTMCP-03-06-02417/hg19a/GSH/A78420_A76733/strelka/60133/bwa/results/passed.somatic.indels.eff.dbSNP_v149.cosmic_v82.clinvar_20170801.annotations.classic.vcf\n"
     ]
    },
    {
     "data": {
      "text/plain": [
       "'vcf2maf_template_discovery.txt'"
      ]
     },
     "execution_count": 45,
     "metadata": {},
     "output_type": "execute_result"
    },
    {
     "name": "stderr",
     "output_type": "stream",
     "text": [
      "\u001b[32mINFO:root:templated /projects/trans_scratch/validations/workspace/szong/Cervical/mutsig2cv/118_patients/vcf2maf_scripts/HTMCP-03-06-02424.indels.sh\u001b[0m\n",
      "\u001b[32mINFO:root:templated /projects/trans_scratch/validations/workspace/szong/Cervical/mutsig2cv/118_patients/vcf2maf_scripts/HTMCP-03-06-02424.indels.sh\u001b[0m\n"
     ]
    },
    {
     "name": "stdout",
     "output_type": "stream",
     "text": [
      "/projects/somatic/NCI_SAIC_HIV_Cervical/HTMCP-03-06-02424/hg19a/GSH/A78427_A76740/strelka/60134/bwa/results/passed.somatic.indels.eff.dbSNP_v149.cosmic_v82.clinvar_20170801.annotations.classic.vcf\n"
     ]
    },
    {
     "data": {
      "text/plain": [
       "'vcf2maf_template_discovery.txt'"
      ]
     },
     "execution_count": 45,
     "metadata": {},
     "output_type": "execute_result"
    },
    {
     "name": "stderr",
     "output_type": "stream",
     "text": [
      "\u001b[32mINFO:root:templated /projects/trans_scratch/validations/workspace/szong/Cervical/mutsig2cv/118_patients/vcf2maf_scripts/HTMCP-03-06-02427.indels.sh\u001b[0m\n",
      "\u001b[32mINFO:root:templated /projects/trans_scratch/validations/workspace/szong/Cervical/mutsig2cv/118_patients/vcf2maf_scripts/HTMCP-03-06-02427.indels.sh\u001b[0m\n"
     ]
    },
    {
     "name": "stdout",
     "output_type": "stream",
     "text": [
      "/projects/somatic/NCI_SAIC_HIV_Cervical/HTMCP-03-06-02427/hg19a/GSH/A78429_A76742/strelka/60135/bwa/results/passed.somatic.indels.eff.dbSNP_v149.cosmic_v82.clinvar_20170801.annotations.classic.vcf\n"
     ]
    },
    {
     "data": {
      "text/plain": [
       "'vcf2maf_template_discovery.txt'"
      ]
     },
     "execution_count": 45,
     "metadata": {},
     "output_type": "execute_result"
    },
    {
     "name": "stderr",
     "output_type": "stream",
     "text": [
      "\u001b[32mINFO:root:templated /projects/trans_scratch/validations/workspace/szong/Cervical/mutsig2cv/118_patients/vcf2maf_scripts/HTMCP-03-06-02428.indels.sh\u001b[0m\n",
      "\u001b[32mINFO:root:templated /projects/trans_scratch/validations/workspace/szong/Cervical/mutsig2cv/118_patients/vcf2maf_scripts/HTMCP-03-06-02428.indels.sh\u001b[0m\n"
     ]
    },
    {
     "name": "stdout",
     "output_type": "stream",
     "text": [
      "/projects/somatic/NCI_SAIC_HIV_Cervical/HTMCP-03-06-02428/hg19a/GSH/A78431_A76744/strelka/60136/bwa/results/passed.somatic.indels.eff.dbSNP_v149.cosmic_v82.clinvar_20170801.annotations.classic.vcf\n"
     ]
    },
    {
     "data": {
      "text/plain": [
       "'vcf2maf_template_discovery.txt'"
      ]
     },
     "execution_count": 45,
     "metadata": {},
     "output_type": "execute_result"
    },
    {
     "name": "stderr",
     "output_type": "stream",
     "text": [
      "\u001b[32mINFO:root:templated /projects/trans_scratch/validations/workspace/szong/Cervical/mutsig2cv/118_patients/vcf2maf_scripts/HTMCP-03-06-02434.indels.sh\u001b[0m\n",
      "\u001b[32mINFO:root:templated /projects/trans_scratch/validations/workspace/szong/Cervical/mutsig2cv/118_patients/vcf2maf_scripts/HTMCP-03-06-02434.indels.sh\u001b[0m\n"
     ]
    },
    {
     "name": "stdout",
     "output_type": "stream",
     "text": [
      "/projects/somatic/NCI_SAIC_HIV_Cervical/HTMCP-03-06-02434/hg19a/GSH/A78432_A76745/strelka/60137/bwa/results/passed.somatic.indels.eff.dbSNP_v149.cosmic_v82.clinvar_20170801.annotations.classic.vcf\n"
     ]
    },
    {
     "data": {
      "text/plain": [
       "'vcf2maf_template_discovery.txt'"
      ]
     },
     "execution_count": 45,
     "metadata": {},
     "output_type": "execute_result"
    },
    {
     "name": "stderr",
     "output_type": "stream",
     "text": [
      "\u001b[32mINFO:root:templated /projects/trans_scratch/validations/workspace/szong/Cervical/mutsig2cv/118_patients/vcf2maf_scripts/HTMCP-03-06-02435.indels.sh\u001b[0m\n",
      "\u001b[32mINFO:root:templated /projects/trans_scratch/validations/workspace/szong/Cervical/mutsig2cv/118_patients/vcf2maf_scripts/HTMCP-03-06-02435.indels.sh\u001b[0m\n"
     ]
    },
    {
     "name": "stdout",
     "output_type": "stream",
     "text": [
      "/projects/somatic/NCI_SAIC_HIV_Cervical/HTMCP-03-06-02435/hg19a/GSH/A78433_A76746/strelka/60138/bwa/results/passed.somatic.indels.eff.dbSNP_v149.cosmic_v82.clinvar_20170801.annotations.classic.vcf\n"
     ]
    },
    {
     "data": {
      "text/plain": [
       "'vcf2maf_template_discovery.txt'"
      ]
     },
     "execution_count": 45,
     "metadata": {},
     "output_type": "execute_result"
    },
    {
     "name": "stderr",
     "output_type": "stream",
     "text": [
      "\u001b[32mINFO:root:templated /projects/trans_scratch/validations/workspace/szong/Cervical/mutsig2cv/118_patients/vcf2maf_scripts/HTMCP-03-06-02437.indels.sh\u001b[0m\n",
      "\u001b[32mINFO:root:templated /projects/trans_scratch/validations/workspace/szong/Cervical/mutsig2cv/118_patients/vcf2maf_scripts/HTMCP-03-06-02437.indels.sh\u001b[0m\n"
     ]
    },
    {
     "name": "stdout",
     "output_type": "stream",
     "text": [
      "/projects/somatic/NCI_SAIC_HIV_Cervical/HTMCP-03-06-02437/hg19a/GSH/A78434_A76747/strelka/60139/bwa/results/passed.somatic.indels.eff.dbSNP_v149.cosmic_v82.clinvar_20170801.annotations.classic.vcf\n"
     ]
    },
    {
     "data": {
      "text/plain": [
       "'vcf2maf_template_discovery.txt'"
      ]
     },
     "execution_count": 45,
     "metadata": {},
     "output_type": "execute_result"
    },
    {
     "name": "stderr",
     "output_type": "stream",
     "text": [
      "\u001b[32mINFO:root:templated /projects/trans_scratch/validations/workspace/szong/Cervical/mutsig2cv/118_patients/vcf2maf_scripts/HTMCP-03-06-02441.indels.sh\u001b[0m\n",
      "\u001b[32mINFO:root:templated /projects/trans_scratch/validations/workspace/szong/Cervical/mutsig2cv/118_patients/vcf2maf_scripts/HTMCP-03-06-02441.indels.sh\u001b[0m\n"
     ]
    },
    {
     "name": "stdout",
     "output_type": "stream",
     "text": [
      "/projects/somatic/NCI_SAIC_HIV_Cervical/HTMCP-03-06-02441/hg19a/GSH/A78436_A76749/strelka/60140/bwa/results/passed.somatic.indels.eff.dbSNP_v149.cosmic_v82.clinvar_20170801.annotations.classic.vcf\n"
     ]
    },
    {
     "data": {
      "text/plain": [
       "'vcf2maf_template_discovery.txt'"
      ]
     },
     "execution_count": 45,
     "metadata": {},
     "output_type": "execute_result"
    },
    {
     "name": "stderr",
     "output_type": "stream",
     "text": [
      "\u001b[32mINFO:root:templated /projects/trans_scratch/validations/workspace/szong/Cervical/mutsig2cv/118_patients/vcf2maf_scripts/HTMCP-03-06-02442.indels.sh\u001b[0m\n",
      "\u001b[32mINFO:root:templated /projects/trans_scratch/validations/workspace/szong/Cervical/mutsig2cv/118_patients/vcf2maf_scripts/HTMCP-03-06-02442.indels.sh\u001b[0m\n"
     ]
    },
    {
     "name": "stdout",
     "output_type": "stream",
     "text": [
      "/projects/somatic/NCI_SAIC_HIV_Cervical/HTMCP-03-06-02442/hg19a/GSH/A78437_A76750/strelka/60141/bwa/results/passed.somatic.indels.eff.dbSNP_v149.cosmic_v82.clinvar_20170801.annotations.classic.vcf\n"
     ]
    },
    {
     "data": {
      "text/plain": [
       "'vcf2maf_template_discovery.txt'"
      ]
     },
     "execution_count": 45,
     "metadata": {},
     "output_type": "execute_result"
    },
    {
     "name": "stderr",
     "output_type": "stream",
     "text": [
      "\u001b[32mINFO:root:templated /projects/trans_scratch/validations/workspace/szong/Cervical/mutsig2cv/118_patients/vcf2maf_scripts/HTMCP-03-06-02447.indels.sh\u001b[0m\n",
      "\u001b[32mINFO:root:templated /projects/trans_scratch/validations/workspace/szong/Cervical/mutsig2cv/118_patients/vcf2maf_scripts/HTMCP-03-06-02447.indels.sh\u001b[0m\n"
     ]
    },
    {
     "name": "stdout",
     "output_type": "stream",
     "text": [
      "/projects/somatic/NCI_SAIC_HIV_Cervical/HTMCP-03-06-02447/hg19a/GSH/A78440_A76753/strelka/60142/bwa/results/passed.somatic.indels.eff.dbSNP_v149.cosmic_v82.clinvar_20170801.annotations.classic.vcf\n"
     ]
    },
    {
     "data": {
      "text/plain": [
       "'vcf2maf_template_discovery.txt'"
      ]
     },
     "execution_count": 45,
     "metadata": {},
     "output_type": "execute_result"
    }
   ],
   "source": [
    "for vcf_type in ['snvs', 'indels']:  \n",
    "    print(f'processing {vcf_type}')\n",
    "    for ix,row in df.iterrows():\n",
    "        patient = row.patient\n",
    "        input_vcf = row[vcf_type]\n",
    "        print(input_vcf)\n",
    "        output_maf = '{0}mafs/{1}.{2}.maf'.format(out_maf_path, patient, vcf_type)\n",
    "        templated_file_name = '/projects/trans_scratch/validations/workspace/szong/Cervical/mutsig2cv/118_patients/vcf2maf_scripts/{0}.{1}.sh'.format(patient, vcf_type)\n",
    "#         print(patient, input_vcf, output_maf, templated_file_name)\n",
    "        populate_template(patient, input_vcf, output_maf, \n",
    "                          template_dir, template_file_name, \n",
    "                          templated_file_name)"
   ]
  },
  {
   "cell_type": "markdown",
   "metadata": {},
   "source": [
    "### convert vcfs to mafs"
   ]
  },
  {
   "cell_type": "markdown",
   "metadata": {},
   "source": [
    "ssh to gphost06, and bash all the .sh scripts\n",
    "\n",
    "for f in *snvs.sh;do bash $f;done\n",
    "\n",
    "for f in *indels.sh;do bash $f;done"
   ]
  },
  {
   "cell_type": "markdown",
   "metadata": {},
   "source": [
    "### run mutsig2cv"
   ]
  }
 ],
 "metadata": {
  "kernelspec": {
   "display_name": "Python 3",
   "language": "python",
   "name": "python3"
  },
  "language_info": {
   "codemirror_mode": {
    "name": "ipython",
    "version": 3
   },
   "file_extension": ".py",
   "mimetype": "text/x-python",
   "name": "python",
   "nbconvert_exporter": "python",
   "pygments_lexer": "ipython3",
   "version": "3.6.7"
  }
 },
 "nbformat": 4,
 "nbformat_minor": 2
}
