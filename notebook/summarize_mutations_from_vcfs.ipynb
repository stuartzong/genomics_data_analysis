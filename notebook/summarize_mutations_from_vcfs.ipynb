{
 "cells": [
  {
   "cell_type": "code",
   "execution_count": 1,
   "metadata": {},
   "outputs": [],
   "source": [
    "import sys\n",
    "import re\n",
    "import pandas as pd\n",
    "import numpy as np\n",
    "import matplotlib.pyplot as plt\n",
    "%matplotlib inline\n",
    "sys.path.append('/projects/trans_scratch/validations/workspace/szong/Cervical/notebook')\n",
    "import sz_toolbox as szt\n",
    "\n",
    "# plotly.offline.init_notebook_mode(connected=True)\n",
    "# Standard plotly imports\n",
    "import plotly.plotly as py\n",
    "import pandas as pd\n",
    "# import plotly\n",
    "import plotly.graph_objs as go\n",
    "from plotly.offline import iplot\n",
    "# cufflinks binds plotly directly to python dataframe\n",
    "# import cufflinks as cf\n",
    "# cufflinks.go_offline()\n",
    "# # Set the global theme\n",
    "# cf.set_config_file(world_readable=True, theme='pearl', offline=True)\n",
    "# plotly.offline.init_notebook_mode(connected=True)\n",
    "\n",
    "from IPython.core.interactiveshell import InteractiveShell\n",
    "InteractiveShell.ast_node_interactivity = \"all\"\n"
   ]
  },
  {
   "cell_type": "markdown",
   "metadata": {},
   "source": [
    "production runs documented here:\n",
    "\n",
    "https://www.bcgsc.ca/jira/browse/PIPE-1144"
   ]
  },
  {
   "cell_type": "code",
   "execution_count": 2,
   "metadata": {},
   "outputs": [],
   "source": [
    "wkdir = '/projects/trans_scratch/validations/workspace/szong/Cervical/variant_bwamem/validation/'\n",
    "f = 'strelka_classic_vcf_files.txt'"
   ]
  },
  {
   "cell_type": "code",
   "execution_count": null,
   "metadata": {},
   "outputs": [],
   "source": [
    "def parse_strelka_vcf(vcf, impacts):\n",
    "    impacts = '|'.join(impacts)\n",
    "    df = pd.read_csv(vcf, comment='#', sep='\\t', header=None, low_memory=False)\n",
    "    patient = vcf.split('/')[4]\n",
    "    df = df[[0,1,3,4,7]]\n",
    "    df.columns = ['chr', 'pos', 'ref', 'alt', 'effect']\n",
    "#     df = df[(df['effect'].str.contains(\"HIGH\"))|(df['effect'].str.contains(\"MODERATE\"))|(df['effect'].str.contains(\"LOW\"))]\n",
    "    df = df[df['effect'].str.contains(impacts, regex=True)]\n",
    "#     print(df)\n",
    "    if not df.empty:\n",
    "        df['impact'], df['impact_type'], df['gene'] = df['effect'].apply(lambda x: parse_effect(x)).str.split('@').str\n",
    "        df['patient'] = patient\n",
    "    df = df.drop('effect', axis=1)\n",
    "    return df"
   ]
  },
  {
   "cell_type": "code",
   "execution_count": 3,
   "metadata": {},
   "outputs": [],
   "source": [
    "# keep it easy for now pick HIGH, MODERATE and then LOW\n",
    "def parse_effect(line):\n",
    "    effs = line.split('EFF=')[1].split(',')\n",
    "    #     extract impact, impact_type and gene\n",
    "    effs = ['@'.join(list(np.array(re.split('\\(|\\|',ef))[[0,1,6]])) for ef in effs if ('HIGH' in  ef) or ('MODERATE' in ef) or ('LOW' in ef) or ('MODIFIER' in ef)]\n",
    "#     effs = list(set(effs))#????\n",
    "#     print(effs)\n",
    "    high = [ef for ef in effs if 'HIGH' in ef]\n",
    "    moderate = [ef for ef in effs if 'MODERATE' in ef]\n",
    "    low = [ef for ef in effs if 'LOW' in ef]\n",
    "    modifier = [ef for ef in effs if 'MODIFIER' in ef]\n",
    "    if high:\n",
    "        anno = high[0]\n",
    "    elif moderate:\n",
    "        anno = moderate[0]\n",
    "    elif low:\n",
    "        anno = low[0]\n",
    "    elif modifier:\n",
    "        anno = modifier[0]\n",
    "    else:\n",
    "        print('ERROR!')\n",
    "#     make sure the genes have the same name\n",
    "    genes = [ef.split('@')[2] for ef in effs]\n",
    "    \n",
    "    return anno"
   ]
  },
  {
   "cell_type": "code",
   "execution_count": 5,
   "metadata": {},
   "outputs": [],
   "source": [
    "vcfs = pd.read_csv(f'{wkdir}{f}', header=None)[0].tolist()"
   ]
  },
  {
   "cell_type": "code",
   "execution_count": 6,
   "metadata": {},
   "outputs": [
    {
     "data": {
      "text/plain": [
       "87"
      ]
     },
     "execution_count": 6,
     "metadata": {},
     "output_type": "execute_result"
    },
    {
     "data": {
      "text/plain": [
       "['/projects/somatic/NCI_SAIC_HIV_Cervical/HTMCP-03-06-02025/hg19a/GSH/A93956_A93945/strelka/61000/bwa/results/passed.somatic.snvs.eff.dbSNP_v149.cosmic_v82.clinvar_20170801.annotations.classic.vcf',\n",
       " '/projects/somatic/NCI_SAIC_HIV_Cervical/HTMCP-03-06-02044/hg19a/GSH/A93957_A93946/strelka/61001/bwa/results/passed.somatic.snvs.eff.dbSNP_v149.cosmic_v82.clinvar_20170801.annotations.classic.vcf']"
      ]
     },
     "execution_count": 6,
     "metadata": {},
     "output_type": "execute_result"
    },
    {
     "data": {
      "text/plain": [
       "87"
      ]
     },
     "execution_count": 6,
     "metadata": {},
     "output_type": "execute_result"
    }
   ],
   "source": [
    "snvvcfs = [i for i in vcfs if 'snvs' in i]\n",
    "len(snvvcfs)\n",
    "snvvcfs[:2]\n",
    "indelvcfs = [i for i in vcfs if 'indel' in i]\n",
    "len(indelvcfs)"
   ]
  },
  {
   "cell_type": "code",
   "execution_count": 7,
   "metadata": {},
   "outputs": [
    {
     "data": {
      "text/html": [
       "<div>\n",
       "<style scoped>\n",
       "    .dataframe tbody tr th:only-of-type {\n",
       "        vertical-align: middle;\n",
       "    }\n",
       "\n",
       "    .dataframe tbody tr th {\n",
       "        vertical-align: top;\n",
       "    }\n",
       "\n",
       "    .dataframe thead th {\n",
       "        text-align: right;\n",
       "    }\n",
       "</style>\n",
       "<table border=\"1\" class=\"dataframe\">\n",
       "  <thead>\n",
       "    <tr style=\"text-align: right;\">\n",
       "      <th></th>\n",
       "      <th>strelka_snv_vcf</th>\n",
       "      <th>strelka_indel_vcf</th>\n",
       "      <th>patient</th>\n",
       "    </tr>\n",
       "  </thead>\n",
       "  <tbody>\n",
       "    <tr>\n",
       "      <th>0</th>\n",
       "      <td>/projects/somatic/NCI_SAIC_HIV_Cervical/HTMCP-...</td>\n",
       "      <td>/projects/somatic/NCI_SAIC_HIV_Cervical/HTMCP-...</td>\n",
       "      <td>HTMCP-03-06-02025</td>\n",
       "    </tr>\n",
       "    <tr>\n",
       "      <th>1</th>\n",
       "      <td>/projects/somatic/NCI_SAIC_HIV_Cervical/HTMCP-...</td>\n",
       "      <td>/projects/somatic/NCI_SAIC_HIV_Cervical/HTMCP-...</td>\n",
       "      <td>HTMCP-03-06-02044</td>\n",
       "    </tr>\n",
       "  </tbody>\n",
       "</table>\n",
       "</div>"
      ],
      "text/plain": [
       "                                     strelka_snv_vcf  \\\n",
       "0  /projects/somatic/NCI_SAIC_HIV_Cervical/HTMCP-...   \n",
       "1  /projects/somatic/NCI_SAIC_HIV_Cervical/HTMCP-...   \n",
       "\n",
       "                                   strelka_indel_vcf            patient  \n",
       "0  /projects/somatic/NCI_SAIC_HIV_Cervical/HTMCP-...  HTMCP-03-06-02025  \n",
       "1  /projects/somatic/NCI_SAIC_HIV_Cervical/HTMCP-...  HTMCP-03-06-02044  "
      ]
     },
     "execution_count": 7,
     "metadata": {},
     "output_type": "execute_result"
    }
   ],
   "source": [
    "df = pd.DataFrame({'snv':snvvcfs, 'indel': indelvcfs})\n",
    "df['patient'] = df.snv.apply(lambda x: x.split('/')[4])\n",
    "df['pat2'] = df.indel.apply(lambda x: x.split('/')[4])\n",
    "\n",
    "assert (df.patient == df.pat2).all() == True\n",
    "df = df.drop('pat2', axis=1)\n",
    "df.columns = ['strelka_snv_vcf', 'strelka_indel_vcf', 'patient']\n",
    "df.head(2)"
   ]
  },
  {
   "cell_type": "code",
   "execution_count": 8,
   "metadata": {},
   "outputs": [],
   "source": [
    "dfmg = pd.DataFrame()\n",
    "for ix, row in df.iterrows():\n",
    "    patient = ix\n",
    "    snv_vcf = row['strelka_snv_vcf']\n",
    "    indel_vcf = row['strelka_indel_vcf']\n",
    "#     snv_df = szt.parse_strelka_vcf(snv_vcf)\n",
    "    snv_df = parse_strelka_vcf(snv_vcf, ['HIGH', 'MODERATE', 'LOW', 'MODIFIER'])\n",
    "#     indel_df = szt.parse_strelka_vcf(indel_vcf)\n",
    "    indel_df = parse_strelka_vcf(indel_vcf, ['HIGH', 'MODERATE', 'LOW', 'MODIFIER'])\n",
    "    mdf = pd.concat([snv_df, indel_df], sort=False)\n",
    "    mdf = mdf.drop_duplicates(keep='first')\n",
    "    if dfmg.empty:\n",
    "        dfmg = mdf\n",
    "    else:\n",
    "        dfmg = pd.concat([dfmg, mdf], sort=False)"
   ]
  },
  {
   "cell_type": "code",
   "execution_count": 9,
   "metadata": {},
   "outputs": [
    {
     "data": {
      "text/html": [
       "<div>\n",
       "<style scoped>\n",
       "    .dataframe tbody tr th:only-of-type {\n",
       "        vertical-align: middle;\n",
       "    }\n",
       "\n",
       "    .dataframe tbody tr th {\n",
       "        vertical-align: top;\n",
       "    }\n",
       "\n",
       "    .dataframe thead th {\n",
       "        text-align: right;\n",
       "    }\n",
       "</style>\n",
       "<table border=\"1\" class=\"dataframe\">\n",
       "  <thead>\n",
       "    <tr style=\"text-align: right;\">\n",
       "      <th></th>\n",
       "      <th>chr</th>\n",
       "      <th>pos</th>\n",
       "      <th>ref</th>\n",
       "      <th>alt</th>\n",
       "      <th>impact</th>\n",
       "      <th>impact_type</th>\n",
       "      <th>gene</th>\n",
       "      <th>patient</th>\n",
       "    </tr>\n",
       "  </thead>\n",
       "  <tbody>\n",
       "    <tr>\n",
       "      <th>0</th>\n",
       "      <td>1</td>\n",
       "      <td>914517</td>\n",
       "      <td>C</td>\n",
       "      <td>T</td>\n",
       "      <td>SYNONYMOUS_CODING</td>\n",
       "      <td>LOW</td>\n",
       "      <td>C1orf170</td>\n",
       "      <td>HTMCP-03-06-02025</td>\n",
       "    </tr>\n",
       "    <tr>\n",
       "      <th>1</th>\n",
       "      <td>1</td>\n",
       "      <td>1919953</td>\n",
       "      <td>C</td>\n",
       "      <td>T</td>\n",
       "      <td>NON_SYNONYMOUS_CODING+SPLICE_SITE_REGION</td>\n",
       "      <td>MODERATE</td>\n",
       "      <td>C1orf222</td>\n",
       "      <td>HTMCP-03-06-02025</td>\n",
       "    </tr>\n",
       "  </tbody>\n",
       "</table>\n",
       "</div>"
      ],
      "text/plain": [
       "  chr      pos ref alt                                    impact impact_type  \\\n",
       "0   1   914517   C   T                         SYNONYMOUS_CODING         LOW   \n",
       "1   1  1919953   C   T  NON_SYNONYMOUS_CODING+SPLICE_SITE_REGION    MODERATE   \n",
       "\n",
       "       gene            patient  \n",
       "0  C1orf170  HTMCP-03-06-02025  \n",
       "1  C1orf222  HTMCP-03-06-02025  "
      ]
     },
     "execution_count": 9,
     "metadata": {},
     "output_type": "execute_result"
    },
    {
     "data": {
      "text/plain": [
       "(92654, 8)"
      ]
     },
     "execution_count": 9,
     "metadata": {},
     "output_type": "execute_result"
    }
   ],
   "source": [
    "dfmg[:2]\n",
    "dfmg.shape"
   ]
  },
  {
   "cell_type": "code",
   "execution_count": 10,
   "metadata": {
    "scrolled": true
   },
   "outputs": [
    {
     "data": {
      "text/plain": [
       "gene\n",
       "              87\n",
       "AF146191.4    87\n",
       "Name: patient, dtype: int64"
      ]
     },
     "execution_count": 10,
     "metadata": {},
     "output_type": "execute_result"
    }
   ],
   "source": [
    "recur_genes = dfmg[['gene', 'patient']].groupby('gene')['patient'].nunique().sort_values(ascending=False)\n",
    "recur_genes[:2]"
   ]
  },
  {
   "cell_type": "code",
   "execution_count": 11,
   "metadata": {},
   "outputs": [
    {
     "data": {
      "text/plain": [
       "array(['LOW', 'MODERATE', 'MODIFIER', 'HIGH'], dtype=object)"
      ]
     },
     "execution_count": 11,
     "metadata": {},
     "output_type": "execute_result"
    }
   ],
   "source": [
    "dfmg.impact_type.unique()"
   ]
  },
  {
   "cell_type": "code",
   "execution_count": 12,
   "metadata": {},
   "outputs": [],
   "source": [
    "def uniquejoin(x):\n",
    "    return ';'.join(x.unique())"
   ]
  },
  {
   "cell_type": "code",
   "execution_count": 13,
   "metadata": {},
   "outputs": [
    {
     "data": {
      "text/html": [
       "<div>\n",
       "<style scoped>\n",
       "    .dataframe tbody tr th:only-of-type {\n",
       "        vertical-align: middle;\n",
       "    }\n",
       "\n",
       "    .dataframe tbody tr th {\n",
       "        vertical-align: top;\n",
       "    }\n",
       "\n",
       "    .dataframe thead th {\n",
       "        text-align: right;\n",
       "    }\n",
       "</style>\n",
       "<table border=\"1\" class=\"dataframe\">\n",
       "  <thead>\n",
       "    <tr style=\"text-align: right;\">\n",
       "      <th></th>\n",
       "      <th>gene</th>\n",
       "      <th>chr</th>\n",
       "      <th>pos</th>\n",
       "      <th>ref</th>\n",
       "      <th>alt</th>\n",
       "      <th>patient</th>\n",
       "      <th>num_patients_variant</th>\n",
       "      <th>impact_type</th>\n",
       "      <th>impact</th>\n",
       "    </tr>\n",
       "  </thead>\n",
       "  <tbody>\n",
       "    <tr>\n",
       "      <th>0</th>\n",
       "      <td>RP11-391M20.1</td>\n",
       "      <td>9</td>\n",
       "      <td>68723937</td>\n",
       "      <td>C</td>\n",
       "      <td>T</td>\n",
       "      <td>HTMCP-03-06-02061;HTMCP-03-06-02121;HTMCP-03-0...</td>\n",
       "      <td>22</td>\n",
       "      <td>MODIFIER</td>\n",
       "      <td>UPSTREAM</td>\n",
       "    </tr>\n",
       "    <tr>\n",
       "      <th>1</th>\n",
       "      <td></td>\n",
       "      <td>GL000198.1</td>\n",
       "      <td>89425</td>\n",
       "      <td>C</td>\n",
       "      <td>G</td>\n",
       "      <td>HTMCP-03-06-02062;HTMCP-03-06-02067;HTMCP-03-0...</td>\n",
       "      <td>15</td>\n",
       "      <td>MODIFIER</td>\n",
       "      <td>INTERGENIC</td>\n",
       "    </tr>\n",
       "  </tbody>\n",
       "</table>\n",
       "</div>"
      ],
      "text/plain": [
       "            gene         chr       pos ref alt  \\\n",
       "0  RP11-391M20.1           9  68723937   C   T   \n",
       "1                 GL000198.1     89425   C   G   \n",
       "\n",
       "                                             patient  num_patients_variant  \\\n",
       "0  HTMCP-03-06-02061;HTMCP-03-06-02121;HTMCP-03-0...                    22   \n",
       "1  HTMCP-03-06-02062;HTMCP-03-06-02067;HTMCP-03-0...                    15   \n",
       "\n",
       "  impact_type      impact  \n",
       "0    MODIFIER    UPSTREAM  \n",
       "1    MODIFIER  INTERGENIC  "
      ]
     },
     "execution_count": 13,
     "metadata": {},
     "output_type": "execute_result"
    }
   ],
   "source": [
    "dfs = dfmg.astype(str).groupby(['gene', 'chr', 'pos', 'ref', 'alt']).agg({'patient':[uniquejoin, 'nunique'], 'impact_type':uniquejoin, 'impact':uniquejoin})\n",
    "dfs = dfs.sort_values(('patient','nunique'), ascending=False).reset_index()\n",
    "dfs.columns = ['gene', 'chr', 'pos', 'ref', 'alt', 'patient', 'num_patients_variant', 'impact_type', 'impact']\n",
    "dfs.head(2)"
   ]
  },
  {
   "cell_type": "code",
   "execution_count": 14,
   "metadata": {},
   "outputs": [],
   "source": [
    "gene_patients_counts = dfmg.astype(str).groupby(['gene']).agg({'patient':'nunique'}).sort_values('patient', ascending=False)"
   ]
  },
  {
   "cell_type": "code",
   "execution_count": 15,
   "metadata": {
    "scrolled": false
   },
   "outputs": [
    {
     "data": {
      "text/html": [
       "<div>\n",
       "<style scoped>\n",
       "    .dataframe tbody tr th:only-of-type {\n",
       "        vertical-align: middle;\n",
       "    }\n",
       "\n",
       "    .dataframe tbody tr th {\n",
       "        vertical-align: top;\n",
       "    }\n",
       "\n",
       "    .dataframe thead th {\n",
       "        text-align: right;\n",
       "    }\n",
       "</style>\n",
       "<table border=\"1\" class=\"dataframe\">\n",
       "  <thead>\n",
       "    <tr style=\"text-align: right;\">\n",
       "      <th></th>\n",
       "      <th>patient</th>\n",
       "    </tr>\n",
       "    <tr>\n",
       "      <th>gene</th>\n",
       "      <th></th>\n",
       "    </tr>\n",
       "  </thead>\n",
       "  <tbody>\n",
       "    <tr>\n",
       "      <th></th>\n",
       "      <td>87</td>\n",
       "    </tr>\n",
       "    <tr>\n",
       "      <th>RP11-262H14.1</th>\n",
       "      <td>87</td>\n",
       "    </tr>\n",
       "  </tbody>\n",
       "</table>\n",
       "</div>"
      ],
      "text/plain": [
       "               patient\n",
       "gene                  \n",
       "                    87\n",
       "RP11-262H14.1       87"
      ]
     },
     "execution_count": 15,
     "metadata": {},
     "output_type": "execute_result"
    }
   ],
   "source": [
    "gene_patients_counts.head(2)"
   ]
  },
  {
   "cell_type": "code",
   "execution_count": 16,
   "metadata": {},
   "outputs": [],
   "source": [
    "dff = pd.merge(dfs, gene_patients_counts, left_on='gene', right_index=True, how='left')\n",
    "dff = dff.sort_values(['patient_y', 'gene'], ascending=False)"
   ]
  },
  {
   "cell_type": "code",
   "execution_count": 17,
   "metadata": {
    "scrolled": true
   },
   "outputs": [
    {
     "data": {
      "text/html": [
       "<div>\n",
       "<style scoped>\n",
       "    .dataframe tbody tr th:only-of-type {\n",
       "        vertical-align: middle;\n",
       "    }\n",
       "\n",
       "    .dataframe tbody tr th {\n",
       "        vertical-align: top;\n",
       "    }\n",
       "\n",
       "    .dataframe thead th {\n",
       "        text-align: right;\n",
       "    }\n",
       "</style>\n",
       "<table border=\"1\" class=\"dataframe\">\n",
       "  <thead>\n",
       "    <tr style=\"text-align: right;\">\n",
       "      <th></th>\n",
       "      <th>gene</th>\n",
       "      <th>chr</th>\n",
       "      <th>pos</th>\n",
       "      <th>ref</th>\n",
       "      <th>alt</th>\n",
       "      <th>patient_x</th>\n",
       "      <th>num_patients_variant</th>\n",
       "      <th>impact_type</th>\n",
       "      <th>impact</th>\n",
       "      <th>patient_y</th>\n",
       "    </tr>\n",
       "  </thead>\n",
       "  <tbody>\n",
       "    <tr>\n",
       "      <th>7</th>\n",
       "      <td>PIK3CA</td>\n",
       "      <td>3</td>\n",
       "      <td>178936091</td>\n",
       "      <td>G</td>\n",
       "      <td>A</td>\n",
       "      <td>HTMCP-03-06-02062;HTMCP-03-06-02082;HTMCP-03-0...</td>\n",
       "      <td>14</td>\n",
       "      <td>MODERATE</td>\n",
       "      <td>NON_SYNONYMOUS_CODING</td>\n",
       "      <td>29</td>\n",
       "    </tr>\n",
       "    <tr>\n",
       "      <th>934</th>\n",
       "      <td>PIK3CA</td>\n",
       "      <td>3</td>\n",
       "      <td>178936082</td>\n",
       "      <td>G</td>\n",
       "      <td>A</td>\n",
       "      <td>HTMCP-03-06-02061;HTMCP-03-06-02121;HTMCP-03-0...</td>\n",
       "      <td>5</td>\n",
       "      <td>MODERATE</td>\n",
       "      <td>NON_SYNONYMOUS_CODING</td>\n",
       "      <td>29</td>\n",
       "    </tr>\n",
       "  </tbody>\n",
       "</table>\n",
       "</div>"
      ],
      "text/plain": [
       "       gene chr        pos ref alt  \\\n",
       "7    PIK3CA   3  178936091   G   A   \n",
       "934  PIK3CA   3  178936082   G   A   \n",
       "\n",
       "                                             patient_x  num_patients_variant  \\\n",
       "7    HTMCP-03-06-02062;HTMCP-03-06-02082;HTMCP-03-0...                    14   \n",
       "934  HTMCP-03-06-02061;HTMCP-03-06-02121;HTMCP-03-0...                     5   \n",
       "\n",
       "    impact_type                 impact  patient_y  \n",
       "7      MODERATE  NON_SYNONYMOUS_CODING         29  \n",
       "934    MODERATE  NON_SYNONYMOUS_CODING         29  "
      ]
     },
     "execution_count": 17,
     "metadata": {},
     "output_type": "execute_result"
    }
   ],
   "source": [
    "dff[dff.gene=='PIK3CA'].head(2)"
   ]
  },
  {
   "cell_type": "code",
   "execution_count": 18,
   "metadata": {},
   "outputs": [
    {
     "data": {
      "text/plain": [
       "(69804, 10)"
      ]
     },
     "execution_count": 18,
     "metadata": {},
     "output_type": "execute_result"
    }
   ],
   "source": [
    "dff.shape"
   ]
  },
  {
   "cell_type": "code",
   "execution_count": 19,
   "metadata": {},
   "outputs": [],
   "source": [
    "dff.to_csv(f'{wkdir}/strelka_HMLM_summary.txt.new', sep='\\t', index=False)"
   ]
  },
  {
   "cell_type": "code",
   "execution_count": null,
   "metadata": {},
   "outputs": [],
   "source": []
  }
 ],
 "metadata": {
  "kernelspec": {
   "display_name": "Python 3",
   "language": "python",
   "name": "python3"
  },
  "language_info": {
   "codemirror_mode": {
    "name": "ipython",
    "version": 3
   },
   "file_extension": ".py",
   "mimetype": "text/x-python",
   "name": "python",
   "nbconvert_exporter": "python",
   "pygments_lexer": "ipython3",
   "version": "3.6.7"
  }
 },
 "nbformat": 4,
 "nbformat_minor": 2
}
