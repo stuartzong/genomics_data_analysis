{
 "cells": [
  {
   "cell_type": "code",
   "execution_count": null,
   "metadata": {
    "collapsed": true
   },
   "outputs": [],
   "source": [
    "# below are code from tutorial 1"
   ]
  },
  {
   "cell_type": "code",
   "execution_count": 3,
   "metadata": {
    "collapsed": false
   },
   "outputs": [
    {
     "name": "stdout",
     "output_type": "stream",
     "text": [
      "                 Open       High        Low      Close    Volume  Adj Close\n",
      "Date                                                                       \n",
      "2010-01-04  68.720001  69.260002  68.190002  69.150002  27809100  57.203028\n",
      "2010-01-05  69.190002  69.449997  68.800003  69.419998  30174700  57.426378\n",
      "2010-01-06  69.449997  70.599998  69.339996  70.019997  35044700  57.922715\n",
      "2010-01-07  69.900002  70.059998  69.419998  69.800003  27192100  57.740730\n",
      "2010-01-08  69.690002  69.750000  69.220001  69.519997  24891800  57.509100\n"
     ]
    },
    {
     "data": {
      "image/png": "[encoded data removed]",
      "text/plain": [
       "<matplotlib.figure.Figure at 0x7fc97d58ae90>"
      ]
     },
     "metadata": {},
     "output_type": "display_data"
    }
   ],
   "source": [
    "import pandas as pd\n",
    "import datetime\n",
    "import pandas.io.data as web\n",
    "\n",
    "\n",
    "start = datetime.datetime(2010, 1, 1)\n",
    "end = datetime.datetime(2015, 8, 22)\n",
    "df = web.DataReader(\"XOM\", \"yahoo\", start, end)\n",
    "print(df.head())\n",
    "import matplotlib.pyplot as plt\n",
    "from matplotlib import style\n",
    "\n",
    "style.use('fivethirtyeight')\n",
    "df['High'].plot()\n",
    "plt.legend()\n",
    "plt.show()"
   ]
  },
  {
   "cell_type": "code",
   "execution_count": null,
   "metadata": {
    "collapsed": true
   },
   "outputs": [],
   "source": []
  },
  {
   "cell_type": "code",
   "execution_count": null,
   "metadata": {
    "collapsed": true
   },
   "outputs": [],
   "source": []
  },
  {
   "cell_type": "code",
   "execution_count": null,
   "metadata": {
    "collapsed": true
   },
   "outputs": [],
   "source": []
  },
  {
   "cell_type": "code",
   "execution_count": null,
   "metadata": {
    "collapsed": true
   },
   "outputs": [],
   "source": []
  },
  {
   "cell_type": "code",
   "execution_count": null,
   "metadata": {
    "collapsed": true
   },
   "outputs": [],
   "source": [
    "# below are tutorial 2"
   ]
  },
  {
   "cell_type": "code",
   "execution_count": 26,
   "metadata": {
    "collapsed": false
   },
   "outputs": [
    {
     "name": "stdout",
     "output_type": "stream",
     "text": [
      "   Bounce Rate  Day  Visitors\n",
      "0           65    1        43\n",
      "1           67    2        34\n",
      "2           78    3        65\n",
      "3           65    4        56\n",
      "4           45    5        29\n",
      "   Bounce Rate  Day  Visitors\n",
      "4           45    5        29\n",
      "5           52    6        76\n"
     ]
    }
   ],
   "source": [
    "web_stats = {'Day':[1,2,3,4,5,6],\n",
    "             'Visitors':[43,34,65,56,29,76],\n",
    "             'Bounce Rate':[65,67,78,65,45,52]}\n",
    "import pandas as pd\n",
    "\n",
    "web_stats = {'Day':[1,2,3,4,5,6],\n",
    "             'Visitors':[43,34,65,56,29,76],\n",
    "             'Bounce Rate':[65,67,78,65,45,52]}\n",
    "\n",
    "df = pd.DataFrame(web_stats)\n",
    "print(df.head())\n",
    "print(df.tail(2))\n",
    "# df = df.set_index('Day', inplace=True) wont work, set_index return nothing\n",
    "df.set_index('Day', inplace=True)\n",
    "import matplotlib.pyplot as plt\n",
    "from matplotlib import style\n"
   ]
  },
  {
   "cell_type": "code",
   "execution_count": null,
   "metadata": {
    "collapsed": true
   },
   "outputs": [],
   "source": []
  },
  {
   "cell_type": "code",
   "execution_count": 28,
   "metadata": {
    "collapsed": false
   },
   "outputs": [
    {
     "name": "stdout",
     "output_type": "stream",
     "text": [
      "     Bounce Rate  Visitors\n",
      "Day                       \n",
      "1             65        43\n",
      "2             67        34\n",
      "3             78        65\n",
      "4             65        56\n",
      "5             45        29\n"
     ]
    }
   ],
   "source": [
    "print(df.head())"
   ]
  },
  {
   "cell_type": "code",
   "execution_count": 32,
   "metadata": {
    "collapsed": false
   },
   "outputs": [
    {
     "name": "stdout",
     "output_type": "stream",
     "text": [
      "Day\n",
      "1    43\n",
      "2    34\n",
      "3    65\n",
      "4    56\n",
      "5    29\n",
      "6    76\n",
      "Name: Visitors, dtype: int64\n",
      "Day\n",
      "1    43\n",
      "2    34\n",
      "3    65\n",
      "4    56\n",
      "5    29\n",
      "6    76\n",
      "Name: Visitors, dtype: int64\n",
      "     Visitors  Bounce Rate\n",
      "Day                       \n",
      "1          43           65\n",
      "2          34           67\n",
      "3          65           78\n",
      "4          56           65\n",
      "5          29           45\n",
      "6          76           52\n"
     ]
    },
    {
     "data": {
      "image/png": "[encoded data removed]",
      "text/plain": [
       "<matplotlib.figure.Figure at 0x7fc97d45cfd0>"
      ]
     },
     "metadata": {},
     "output_type": "display_data"
    },
    {
     "data": {
      "image/png": "[encoded data removed]",
      "text/plain": [
       "<matplotlib.figure.Figure at 0x7fc97d28ee10>"
      ]
     },
     "metadata": {},
     "output_type": "display_data"
    }
   ],
   "source": [
    "style.use('fivethirtyeight')\n",
    "print(df['Visitors'])\n",
    "print(df.Visitors)\n",
    "print(df[['Visitors','Bounce Rate']])\n",
    "df['Visitors'].plot()\n",
    "plt.show()\n",
    "df.plot()\n",
    "plt.show()"
   ]
  },
  {
   "cell_type": "code",
   "execution_count": null,
   "metadata": {
    "collapsed": true
   },
   "outputs": [],
   "source": []
  },
  {
   "cell_type": "code",
   "execution_count": 46,
   "metadata": {
    "collapsed": false
   },
   "outputs": [
    {
     "name": "stdout",
     "output_type": "stream",
     "text": [
      "         Date     Value\n",
      "0  2016-06-30  481100.0\n",
      "1  2016-05-31  493800.0\n",
      "2  2015-12-31  514000.0\n",
      "3  2015-10-31  510700.0\n"
     ]
    }
   ],
   "source": [
    "import pandas as pd\n",
    "\n",
    "df = pd.read_csv('ZILL-Z91655_3B.csv')\n",
    "print(df.head())"
   ]
  },
  {
   "cell_type": "code",
   "execution_count": 47,
   "metadata": {
    "collapsed": true
   },
   "outputs": [],
   "source": [
    "df.set_index('Date', inplace = True)"
   ]
  },
  {
   "cell_type": "code",
   "execution_count": 48,
   "metadata": {
    "collapsed": false
   },
   "outputs": [
    {
     "name": "stdout",
     "output_type": "stream",
     "text": [
      "Date,Value\r\n",
      "2016-06-30,481100.0\r\n",
      "2016-05-31,493800.0\r\n",
      "2015-12-31,514000.0\r\n",
      "2015-10-31,510700.0\r\n"
     ]
    }
   ],
   "source": [
    "df.to_csv('newcsv2.csv')\n",
    "!cat newcsv2.csv"
   ]
  },
  {
   "cell_type": "code",
   "execution_count": null,
   "metadata": {
    "collapsed": true
   },
   "outputs": [],
   "source": []
  },
  {
   "cell_type": "code",
   "execution_count": null,
   "metadata": {
    "collapsed": true
   },
   "outputs": [],
   "source": []
  },
  {
   "cell_type": "code",
   "execution_count": null,
   "metadata": {
    "collapsed": true
   },
   "outputs": [],
   "source": []
  },
  {
   "cell_type": "code",
   "execution_count": 42,
   "metadata": {
    "collapsed": false
   },
   "outputs": [
    {
     "name": "stdout",
     "output_type": "stream",
     "text": [
      "2016-06-30,481100.0\r\n",
      "2016-05-31,493800.0\r\n",
      "2015-12-31,514000.0\r\n",
      "2015-10-31,510700.0\r\n"
     ]
    }
   ],
   "source": [
    "# df['Value'].to_csv('newcsv2.csv')\n",
    "# !cat newcsv2.csv"
   ]
  },
  {
   "cell_type": "code",
   "execution_count": 43,
   "metadata": {
    "collapsed": false
   },
   "outputs": [
    {
     "name": "stdout",
     "output_type": "stream",
     "text": [
      "   2016-06-30  481100.0\n",
      "0  2016-05-31  493800.0\n",
      "1  2015-12-31  514000.0\n",
      "2  2015-10-31  510700.0\n"
     ]
    }
   ],
   "source": [
    "# df = pd.read_csv('newcsv2.csv')\n",
    "# print(df.head())"
   ]
  },
  {
   "cell_type": "code",
   "execution_count": 50,
   "metadata": {
    "collapsed": false
   },
   "outputs": [
    {
     "name": "stdout",
     "output_type": "stream",
     "text": [
      "               Value\n",
      "Date                \n",
      "2016-06-30  481100.0\n",
      "2016-05-31  493800.0\n",
      "2015-12-31  514000.0\n",
      "2015-10-31  510700.0\n"
     ]
    }
   ],
   "source": [
    "df = pd.read_csv('newcsv2.csv', index_col=0)\n",
    "print(df.head())"
   ]
  },
  {
   "cell_type": "code",
   "execution_count": 52,
   "metadata": {
    "collapsed": false
   },
   "outputs": [
    {
     "name": "stdout",
     "output_type": "stream",
     "text": [
      "            House_Prices\n",
      "Date                    \n",
      "2016-06-30      481100.0\n",
      "2016-05-31      493800.0\n",
      "2015-12-31      514000.0\n",
      "2015-10-31      510700.0\n"
     ]
    }
   ],
   "source": [
    "df.columns = ['House_Prices']\n",
    "print(df.head())\n",
    "df.to_csv('newcsv3.csv')"
   ]
  },
  {
   "cell_type": "code",
   "execution_count": 54,
   "metadata": {
    "collapsed": false
   },
   "outputs": [
    {
     "name": "stdout",
     "output_type": "stream",
     "text": [
      "Date,House_Prices\r\n",
      "2016-06-30,481100.0\r\n",
      "2016-05-31,493800.0\r\n",
      "2015-12-31,514000.0\r\n",
      "2015-10-31,510700.0\r\n"
     ]
    }
   ],
   "source": [
    "!cat newcsv3.csv\n",
    "df.to_csv('newcsv4.csv', header=False)"
   ]
  },
  {
   "cell_type": "code",
   "execution_count": null,
   "metadata": {
    "collapsed": true
   },
   "outputs": [],
   "source": []
  },
  {
   "cell_type": "code",
   "execution_count": 55,
   "metadata": {
    "collapsed": false
   },
   "outputs": [
    {
     "name": "stdout",
     "output_type": "stream",
     "text": [
      "            House_Price\n",
      "Date                   \n",
      "2016-06-30     481100.0\n",
      "2016-05-31     493800.0\n",
      "2015-12-31     514000.0\n",
      "2015-10-31     510700.0\n"
     ]
    }
   ],
   "source": [
    "df = pd.read_csv('newcsv4.csv', names = ['Date','House_Price'], index_col=0)\n",
    "print(df.head())"
   ]
  },
  {
   "cell_type": "code",
   "execution_count": 56,
   "metadata": {
    "collapsed": true
   },
   "outputs": [],
   "source": [
    "df.to_html('example.html')"
   ]
  },
  {
   "cell_type": "code",
   "execution_count": 58,
   "metadata": {
    "collapsed": false
   },
   "outputs": [
    {
     "name": "stdout",
     "output_type": "stream",
     "text": [
      "<table border=\"1\" class=\"dataframe\">\r\n",
      "  <thead>\r\n",
      "    <tr style=\"text-align: right;\">\r\n",
      "      <th></th>\r\n",
      "      <th>House_Price</th>\r\n",
      "    </tr>\r\n",
      "    <tr>\r\n",
      "      <th>Date</th>\r\n",
      "      <th></th>\r\n",
      "    </tr>\r\n",
      "  </thead>\r\n",
      "  <tbody>\r\n",
      "    <tr>\r\n",
      "      <th>2016-06-30</th>\r\n",
      "      <td>481100.0</td>\r\n",
      "    </tr>\r\n",
      "    <tr>\r\n",
      "      <th>2016-05-31</th>\r\n",
      "      <td>493800.0</td>\r\n",
      "    </tr>\r\n",
      "    <tr>\r\n",
      "      <th>2015-12-31</th>\r\n",
      "      <td>514000.0</td>\r\n",
      "    </tr>\r\n",
      "    <tr>\r\n",
      "      <th>2015-10-31</th>\r\n",
      "      <td>510700.0</td>\r\n",
      "    </tr>\r\n",
      "  </tbody>\r\n",
      "</table>"
     ]
    }
   ],
   "source": [
    "!cat example.html"
   ]
  },
  {
   "cell_type": "code",
   "execution_count": 63,
   "metadata": {
    "collapsed": false
   },
   "outputs": [
    {
     "name": "stdout",
     "output_type": "stream",
     "text": [
      "         Date  House_Price\n",
      "0  2016-06-30     481100.0\n",
      "1  2016-05-31     493800.0\n",
      "2  2015-12-31     514000.0\n",
      "3  2015-10-31     510700.0\n",
      "         Date    Prices\n",
      "0  2016-06-30  481100.0\n",
      "1  2016-05-31  493800.0\n",
      "2  2015-12-31  514000.0\n",
      "3  2015-10-31  510700.0\n"
     ]
    }
   ],
   "source": [
    "df = pd.read_csv('newcsv4.csv', names = ['Date','House_Price'])\n",
    "print(df.head())\n",
    "\n",
    "df.rename(columns={'House_Price':'Prices'}, inplace=True)\n",
    "print(df.head())"
   ]
  },
  {
   "cell_type": "code",
   "execution_count": 64,
   "metadata": {
    "collapsed": false
   },
   "outputs": [
    {
     "ename": "ImportError",
     "evalue": "No module named Quandl",
     "output_type": "error",
     "traceback": [
      "\u001b[0;31m---------------------------------------------------------------------------\u001b[0m",
      "\u001b[0;31mImportError\u001b[0m                               Traceback (most recent call last)",
      "\u001b[0;32m<ipython-input-64-f73be308e486>\u001b[0m in \u001b[0;36m<module>\u001b[0;34m()\u001b[0m\n\u001b[0;32m----> 1\u001b[0;31m \u001b[0;32mimport\u001b[0m \u001b[0mQuandl\u001b[0m\u001b[0;34m\u001b[0m\u001b[0m\n\u001b[0m",
      "\u001b[0;31mImportError\u001b[0m: No module named Quandl"
     ]
    }
   ],
   "source": [
    "import Quandl"
   ]
  },
  {
   "cell_type": "code",
   "execution_count": 132,
   "metadata": {
    "collapsed": false
   },
   "outputs": [
    {
     "name": "stdout",
     "output_type": "stream",
     "text": [
      "                                                    4BN 4BN_cov\n",
      "gene       chromosome position  ref_base alt_base              \n",
      "ABCD1      X          153008476 T        C         0.21      53\n",
      "AC005779.1 19         45688161  C        A         0.14      43\n",
      "AC007731.1 22         20709250  A        G         0.07      41\n",
      "                      20709620  C        T         0.02      52\n",
      "                      20710952  C        G         0.15      47\n",
      "                                                  Leukemic Leukemic_cov\n",
      "gene       chromosome position  ref_base alt_base                      \n",
      "ABCD1      X          153008476 T        C            0.20           50\n",
      "AC005779.1 19         45688161  C        A            0.13           47\n",
      "AC007731.1 22         20709250  A        G            0.13           53\n",
      "                      20709620  C        T            0.13           71\n",
      "                      20710952  C        G            0.16           33\n",
      "                                                    3BL 3BL_cov\n",
      "gene       chromosome position  ref_base alt_base              \n",
      "ABCD1      X          153008476 T        C         0.19      48\n",
      "AC005779.1 19         45688161  C        A         0.04      53\n",
      "AC007731.1 22         20709250  A        G         0.11      62\n",
      "                      20709620  C        T         0.03      69\n",
      "                      20710952  C        G         0.20      51\n",
      "                                                    2AL 2AL_cov\n",
      "gene       chromosome position  ref_base alt_base              \n",
      "ABCD1      X          153008476 T        C         0.16      50\n",
      "AC005779.1 19         45688161  C        A         0.10      42\n",
      "AC007731.1 22         20709250  A        G         0.17      60\n",
      "                      20709620  C        T         0.05      78\n",
      "                      20710952  C        G         0.11      61\n",
      "                                                    2AN 2AN_cov\n",
      "gene       chromosome position  ref_base alt_base              \n",
      "ABCD1      X          153008476 T        C         0.20      51\n",
      "AC005779.1 19         45688161  C        A         0.11      47\n",
      "AC007731.1 22         20709250  A        G         0.15      57\n",
      "                      20709620  C        T         0.02      62\n",
      "                      20710952  C        G         0.20      61\n"
     ]
    }
   ],
   "source": [
    "import pandas as pd\n",
    "import matplotlib.pyplot as plt\n",
    "from matplotlib import style\n",
    "\n",
    "# df = pd.read_csv('/projects/trans_scratch/validations/workspace/szong/Mick_Bhatia/variants/high_moderate_SNV_summary_with_normal.filtered.somatic.txt', sep='\\t')\n",
    "df = pd.read_csv('/projects/trans_scratch/validations/workspace/szong/Mick_Bhatia/variants/somatic_variants_extracted_from_unfiltered.txt', sep='\\t')\n",
    "\n",
    "# subset data based on a column value \n",
    "df_4BN =df.loc[(df.patient_ID=='AML-16626_Xengraft-16-4BN'),['gene', 'chromosome', 'position', 'ref_base','alt_base', 't_DNA_AF', 't_DNA_cov']]\n",
    "df_4BN.set_index(['gene', 'chromosome', 'position', 'ref_base','alt_base'], inplace=True)\n",
    "df_4BN = df_4BN.rename(columns = {'t_DNA_AF':'4BN', 't_DNA_cov':'4BN_cov'})\n",
    "print(df_4BN.head())\n",
    "\n",
    "# subset data based on a column value \n",
    "df_Leukemic =df.loc[(df.patient_ID=='AML-16626_Leukemic-blast'),['gene', 'chromosome', 'position', 'ref_base','alt_base', 't_DNA_AF', 't_DNA_cov']]\n",
    "df_Leukemic.set_index(['gene', 'chromosome', 'position', 'ref_base','alt_base'], inplace=True)\n",
    "df_Leukemic = df_Leukemic.rename(columns = {'t_DNA_AF':'Leukemic', 't_DNA_cov':'Leukemic_cov'})\n",
    "print(df_Leukemic.head())\n",
    "\n",
    "# subset data based on a column value \n",
    "df_3BL =df.loc[(df.patient_ID=='AML-16626_Xenograft-16-3BL'),['gene', 'chromosome', 'position', 'ref_base','alt_base', 't_DNA_AF', 't_DNA_cov']]\n",
    "df_3BL.set_index(['gene', 'chromosome', 'position', 'ref_base','alt_base'], inplace=True)\n",
    "df_3BL = df_3BL.rename(columns = {'t_DNA_AF':'3BL', 't_DNA_cov':'3BL_cov'})\n",
    "print(df_3BL.head())\n",
    "\n",
    "# subset data based on a column value                                                                                                                                                                                                       \n",
    "df_2AL =df.loc[(df.patient_ID=='AML-16626_Xenograft-16-2AL'),['gene', 'chromosome', 'position', 'ref_base','alt_base', 't_DNA_AF', 't_DNA_cov']]                                                                                                          \n",
    "df_2AL.set_index(['gene', 'chromosome', 'position', 'ref_base','alt_base'], inplace=True)                                                                                                                                                    \n",
    "df_2AL = df_2AL.rename(columns = {'t_DNA_AF':'2AL', 't_DNA_cov':'2AL_cov'})                                                                                                                                                                                        \n",
    "print(df_2AL.head()) \n",
    "\n",
    "# subset data based on a column value                                                                                                                                                                                                       \n",
    "df_2AN =df.loc[(df.patient_ID=='AML-16626_Xenograft-16-2AN'),['gene', 'chromosome', 'position', 'ref_base','alt_base', 't_DNA_AF', 't_DNA_cov']]                                                                                                          \n",
    "df_2AN.set_index(['gene', 'chromosome', 'position', 'ref_base','alt_base'], inplace=True)                                                                                                                                                    \n",
    "df_2AN = df_2AN.rename(columns = {'t_DNA_AF':'2AN', 't_DNA_cov':'2AN_cov'})                                                                                                                                                                                       \n",
    "print(df_2AN.head())      \n",
    "\n",
    "\n",
    "# df1.t_DNA_AF.plot()\n",
    "# plt.legend()\n",
    "# plt.show()"
   ]
  },
  {
   "cell_type": "code",
   "execution_count": null,
   "metadata": {
    "collapsed": true
   },
   "outputs": [],
   "source": []
  },
  {
   "cell_type": "code",
   "execution_count": null,
   "metadata": {
    "collapsed": true
   },
   "outputs": [],
   "source": []
  },
  {
   "cell_type": "code",
   "execution_count": null,
   "metadata": {
    "collapsed": true
   },
   "outputs": [],
   "source": []
  },
  {
   "cell_type": "code",
   "execution_count": 79,
   "metadata": {
    "collapsed": false
   },
   "outputs": [
    {
     "ename": "ValueError",
     "evalue": "setting an array element with a sequence.",
     "output_type": "error",
     "traceback": [
      "\u001b[0;31m---------------------------------------------------------------------------\u001b[0m",
      "\u001b[0;31mValueError\u001b[0m                                Traceback (most recent call last)",
      "\u001b[0;32m<ipython-input-79-e9ad02fb4f63>\u001b[0m in \u001b[0;36m<module>\u001b[0;34m()\u001b[0m\n\u001b[1;32m      7\u001b[0m \u001b[0mjoined\u001b[0m \u001b[0;34m=\u001b[0m \u001b[0mjoined\u001b[0m\u001b[0;34m.\u001b[0m\u001b[0mastype\u001b[0m\u001b[0;34m(\u001b[0m\u001b[0mfloat\u001b[0m\u001b[0;34m)\u001b[0m\u001b[0;34m\u001b[0m\u001b[0m\n\u001b[1;32m      8\u001b[0m \u001b[0;31m# joined.plot(linestyle='-', linewidth=0.8)\u001b[0m\u001b[0;34m\u001b[0m\u001b[0;34m\u001b[0m\u001b[0m\n\u001b[0;32m----> 9\u001b[0;31m \u001b[0mplt\u001b[0m\u001b[0;34m.\u001b[0m\u001b[0mplot\u001b[0m\u001b[0;34m(\u001b[0m\u001b[0mjoined\u001b[0m\u001b[0;34m[\u001b[0m\u001b[0;34m[\u001b[0m\u001b[0;34m'2AN'\u001b[0m\u001b[0;34m]\u001b[0m\u001b[0;34m]\u001b[0m\u001b[0;34m)\u001b[0m\u001b[0;34m\u001b[0m\u001b[0m\n\u001b[0m\u001b[1;32m     10\u001b[0m \u001b[0;31m# joined.plot(kind='scatter')\u001b[0m\u001b[0;34m\u001b[0m\u001b[0;34m\u001b[0m\u001b[0m\n\u001b[1;32m     11\u001b[0m \u001b[0mplt\u001b[0m\u001b[0;34m.\u001b[0m\u001b[0mxticks\u001b[0m\u001b[0;34m(\u001b[0m\u001b[0mrotation\u001b[0m\u001b[0;34m=\u001b[0m\u001b[0;34m'vertical'\u001b[0m\u001b[0;34m,\u001b[0m \u001b[0mfontsize\u001b[0m\u001b[0;34m=\u001b[0m\u001b[0;36m6\u001b[0m\u001b[0;34m)\u001b[0m\u001b[0;34m\u001b[0m\u001b[0m\n",
      "\u001b[0;32m/home/szong/projects/development/coverage/venv/lib/python2.7/site-packages/matplotlib/pyplot.pyc\u001b[0m in \u001b[0;36mplot\u001b[0;34m(*args, **kwargs)\u001b[0m\n\u001b[1;32m   3152\u001b[0m         \u001b[0max\u001b[0m\u001b[0;34m.\u001b[0m\u001b[0mhold\u001b[0m\u001b[0;34m(\u001b[0m\u001b[0mhold\u001b[0m\u001b[0;34m)\u001b[0m\u001b[0;34m\u001b[0m\u001b[0m\n\u001b[1;32m   3153\u001b[0m     \u001b[0;32mtry\u001b[0m\u001b[0;34m:\u001b[0m\u001b[0;34m\u001b[0m\u001b[0m\n\u001b[0;32m-> 3154\u001b[0;31m         \u001b[0mret\u001b[0m \u001b[0;34m=\u001b[0m \u001b[0max\u001b[0m\u001b[0;34m.\u001b[0m\u001b[0mplot\u001b[0m\u001b[0;34m(\u001b[0m\u001b[0;34m*\u001b[0m\u001b[0margs\u001b[0m\u001b[0;34m,\u001b[0m \u001b[0;34m**\u001b[0m\u001b[0mkwargs\u001b[0m\u001b[0;34m)\u001b[0m\u001b[0;34m\u001b[0m\u001b[0m\n\u001b[0m\u001b[1;32m   3155\u001b[0m     \u001b[0;32mfinally\u001b[0m\u001b[0;34m:\u001b[0m\u001b[0;34m\u001b[0m\u001b[0m\n\u001b[1;32m   3156\u001b[0m         \u001b[0max\u001b[0m\u001b[0;34m.\u001b[0m\u001b[0mhold\u001b[0m\u001b[0;34m(\u001b[0m\u001b[0mwashold\u001b[0m\u001b[0;34m)\u001b[0m\u001b[0;34m\u001b[0m\u001b[0m\n",
      "\u001b[0;32m/home/szong/projects/development/coverage/venv/lib/python2.7/site-packages/matplotlib/__init__.pyc\u001b[0m in \u001b[0;36minner\u001b[0;34m(ax, *args, **kwargs)\u001b[0m\n\u001b[1;32m   1810\u001b[0m                     warnings.warn(msg % (label_namer, func.__name__),\n\u001b[1;32m   1811\u001b[0m                                   RuntimeWarning, stacklevel=2)\n\u001b[0;32m-> 1812\u001b[0;31m             \u001b[0;32mreturn\u001b[0m \u001b[0mfunc\u001b[0m\u001b[0;34m(\u001b[0m\u001b[0max\u001b[0m\u001b[0;34m,\u001b[0m \u001b[0;34m*\u001b[0m\u001b[0margs\u001b[0m\u001b[0;34m,\u001b[0m \u001b[0;34m**\u001b[0m\u001b[0mkwargs\u001b[0m\u001b[0;34m)\u001b[0m\u001b[0;34m\u001b[0m\u001b[0m\n\u001b[0m\u001b[1;32m   1813\u001b[0m         \u001b[0mpre_doc\u001b[0m \u001b[0;34m=\u001b[0m \u001b[0minner\u001b[0m\u001b[0;34m.\u001b[0m\u001b[0m__doc__\u001b[0m\u001b[0;34m\u001b[0m\u001b[0m\n\u001b[1;32m   1814\u001b[0m         \u001b[0;32mif\u001b[0m \u001b[0mpre_doc\u001b[0m \u001b[0;32mis\u001b[0m \u001b[0mNone\u001b[0m\u001b[0;34m:\u001b[0m\u001b[0;34m\u001b[0m\u001b[0m\n",
      "\u001b[0;32m/home/szong/projects/development/coverage/venv/lib/python2.7/site-packages/matplotlib/axes/_axes.pyc\u001b[0m in \u001b[0;36mplot\u001b[0;34m(self, *args, **kwargs)\u001b[0m\n\u001b[1;32m   1423\u001b[0m \u001b[0;34m\u001b[0m\u001b[0m\n\u001b[1;32m   1424\u001b[0m         \u001b[0;32mfor\u001b[0m \u001b[0mline\u001b[0m \u001b[0;32min\u001b[0m \u001b[0mself\u001b[0m\u001b[0;34m.\u001b[0m\u001b[0m_get_lines\u001b[0m\u001b[0;34m(\u001b[0m\u001b[0;34m*\u001b[0m\u001b[0margs\u001b[0m\u001b[0;34m,\u001b[0m \u001b[0;34m**\u001b[0m\u001b[0mkwargs\u001b[0m\u001b[0;34m)\u001b[0m\u001b[0;34m:\u001b[0m\u001b[0;34m\u001b[0m\u001b[0m\n\u001b[0;32m-> 1425\u001b[0;31m             \u001b[0mself\u001b[0m\u001b[0;34m.\u001b[0m\u001b[0madd_line\u001b[0m\u001b[0;34m(\u001b[0m\u001b[0mline\u001b[0m\u001b[0;34m)\u001b[0m\u001b[0;34m\u001b[0m\u001b[0m\n\u001b[0m\u001b[1;32m   1426\u001b[0m             \u001b[0mlines\u001b[0m\u001b[0;34m.\u001b[0m\u001b[0mappend\u001b[0m\u001b[0;34m(\u001b[0m\u001b[0mline\u001b[0m\u001b[0;34m)\u001b[0m\u001b[0;34m\u001b[0m\u001b[0m\n\u001b[1;32m   1427\u001b[0m \u001b[0;34m\u001b[0m\u001b[0m\n",
      "\u001b[0;32m/home/szong/projects/development/coverage/venv/lib/python2.7/site-packages/matplotlib/axes/_base.pyc\u001b[0m in \u001b[0;36madd_line\u001b[0;34m(self, line)\u001b[0m\n\u001b[1;32m   1706\u001b[0m             \u001b[0mline\u001b[0m\u001b[0;34m.\u001b[0m\u001b[0mset_clip_path\u001b[0m\u001b[0;34m(\u001b[0m\u001b[0mself\u001b[0m\u001b[0;34m.\u001b[0m\u001b[0mpatch\u001b[0m\u001b[0;34m)\u001b[0m\u001b[0;34m\u001b[0m\u001b[0m\n\u001b[1;32m   1707\u001b[0m \u001b[0;34m\u001b[0m\u001b[0m\n\u001b[0;32m-> 1708\u001b[0;31m         \u001b[0mself\u001b[0m\u001b[0;34m.\u001b[0m\u001b[0m_update_line_limits\u001b[0m\u001b[0;34m(\u001b[0m\u001b[0mline\u001b[0m\u001b[0;34m)\u001b[0m\u001b[0;34m\u001b[0m\u001b[0m\n\u001b[0m\u001b[1;32m   1709\u001b[0m         \u001b[0;32mif\u001b[0m \u001b[0;32mnot\u001b[0m \u001b[0mline\u001b[0m\u001b[0;34m.\u001b[0m\u001b[0mget_label\u001b[0m\u001b[0;34m(\u001b[0m\u001b[0;34m)\u001b[0m\u001b[0;34m:\u001b[0m\u001b[0;34m\u001b[0m\u001b[0m\n\u001b[1;32m   1710\u001b[0m             \u001b[0mline\u001b[0m\u001b[0;34m.\u001b[0m\u001b[0mset_label\u001b[0m\u001b[0;34m(\u001b[0m\u001b[0;34m'_line%d'\u001b[0m \u001b[0;34m%\u001b[0m \u001b[0mlen\u001b[0m\u001b[0;34m(\u001b[0m\u001b[0mself\u001b[0m\u001b[0;34m.\u001b[0m\u001b[0mlines\u001b[0m\u001b[0;34m)\u001b[0m\u001b[0;34m)\u001b[0m\u001b[0;34m\u001b[0m\u001b[0m\n",
      "\u001b[0;32m/home/szong/projects/development/coverage/venv/lib/python2.7/site-packages/matplotlib/axes/_base.pyc\u001b[0m in \u001b[0;36m_update_line_limits\u001b[0;34m(self, line)\u001b[0m\n\u001b[1;32m   1728\u001b[0m         \u001b[0mFigures\u001b[0m \u001b[0mout\u001b[0m \u001b[0mthe\u001b[0m \u001b[0mdata\u001b[0m \u001b[0mlimit\u001b[0m \u001b[0mof\u001b[0m \u001b[0mthe\u001b[0m \u001b[0mgiven\u001b[0m \u001b[0mline\u001b[0m\u001b[0;34m,\u001b[0m \u001b[0mupdating\u001b[0m \u001b[0mself\u001b[0m\u001b[0;34m.\u001b[0m\u001b[0mdataLim\u001b[0m\u001b[0;34m.\u001b[0m\u001b[0;34m\u001b[0m\u001b[0m\n\u001b[1;32m   1729\u001b[0m         \"\"\"\n\u001b[0;32m-> 1730\u001b[0;31m         \u001b[0mpath\u001b[0m \u001b[0;34m=\u001b[0m \u001b[0mline\u001b[0m\u001b[0;34m.\u001b[0m\u001b[0mget_path\u001b[0m\u001b[0;34m(\u001b[0m\u001b[0;34m)\u001b[0m\u001b[0;34m\u001b[0m\u001b[0m\n\u001b[0m\u001b[1;32m   1731\u001b[0m         \u001b[0;32mif\u001b[0m \u001b[0mpath\u001b[0m\u001b[0;34m.\u001b[0m\u001b[0mvertices\u001b[0m\u001b[0;34m.\u001b[0m\u001b[0msize\u001b[0m \u001b[0;34m==\u001b[0m \u001b[0;36m0\u001b[0m\u001b[0;34m:\u001b[0m\u001b[0;34m\u001b[0m\u001b[0m\n\u001b[1;32m   1732\u001b[0m             \u001b[0;32mreturn\u001b[0m\u001b[0;34m\u001b[0m\u001b[0m\n",
      "\u001b[0;32m/home/szong/projects/development/coverage/venv/lib/python2.7/site-packages/matplotlib/lines.pyc\u001b[0m in \u001b[0;36mget_path\u001b[0;34m(self)\u001b[0m\n\u001b[1;32m    923\u001b[0m         \"\"\"\n\u001b[1;32m    924\u001b[0m         \u001b[0;32mif\u001b[0m \u001b[0mself\u001b[0m\u001b[0;34m.\u001b[0m\u001b[0m_invalidy\u001b[0m \u001b[0;32mor\u001b[0m \u001b[0mself\u001b[0m\u001b[0;34m.\u001b[0m\u001b[0m_invalidx\u001b[0m\u001b[0;34m:\u001b[0m\u001b[0;34m\u001b[0m\u001b[0m\n\u001b[0;32m--> 925\u001b[0;31m             \u001b[0mself\u001b[0m\u001b[0;34m.\u001b[0m\u001b[0mrecache\u001b[0m\u001b[0;34m(\u001b[0m\u001b[0;34m)\u001b[0m\u001b[0;34m\u001b[0m\u001b[0m\n\u001b[0m\u001b[1;32m    926\u001b[0m         \u001b[0;32mreturn\u001b[0m \u001b[0mself\u001b[0m\u001b[0;34m.\u001b[0m\u001b[0m_path\u001b[0m\u001b[0;34m\u001b[0m\u001b[0m\n\u001b[1;32m    927\u001b[0m \u001b[0;34m\u001b[0m\u001b[0m\n",
      "\u001b[0;32m/home/szong/projects/development/coverage/venv/lib/python2.7/site-packages/matplotlib/lines.pyc\u001b[0m in \u001b[0;36mrecache\u001b[0;34m(self, always)\u001b[0m\n\u001b[1;32m    610\u001b[0m                 \u001b[0mx\u001b[0m \u001b[0;34m=\u001b[0m \u001b[0mma\u001b[0m\u001b[0;34m.\u001b[0m\u001b[0masarray\u001b[0m\u001b[0;34m(\u001b[0m\u001b[0mxconv\u001b[0m\u001b[0;34m,\u001b[0m \u001b[0mnp\u001b[0m\u001b[0;34m.\u001b[0m\u001b[0mfloat_\u001b[0m\u001b[0;34m)\u001b[0m\u001b[0;34m.\u001b[0m\u001b[0mfilled\u001b[0m\u001b[0;34m(\u001b[0m\u001b[0mnp\u001b[0m\u001b[0;34m.\u001b[0m\u001b[0mnan\u001b[0m\u001b[0;34m)\u001b[0m\u001b[0;34m\u001b[0m\u001b[0m\n\u001b[1;32m    611\u001b[0m             \u001b[0;32melse\u001b[0m\u001b[0;34m:\u001b[0m\u001b[0;34m\u001b[0m\u001b[0m\n\u001b[0;32m--> 612\u001b[0;31m                 \u001b[0mx\u001b[0m \u001b[0;34m=\u001b[0m \u001b[0mnp\u001b[0m\u001b[0;34m.\u001b[0m\u001b[0masarray\u001b[0m\u001b[0;34m(\u001b[0m\u001b[0mxconv\u001b[0m\u001b[0;34m,\u001b[0m \u001b[0mnp\u001b[0m\u001b[0;34m.\u001b[0m\u001b[0mfloat_\u001b[0m\u001b[0;34m)\u001b[0m\u001b[0;34m\u001b[0m\u001b[0m\n\u001b[0m\u001b[1;32m    613\u001b[0m             \u001b[0mx\u001b[0m \u001b[0;34m=\u001b[0m \u001b[0mx\u001b[0m\u001b[0;34m.\u001b[0m\u001b[0mravel\u001b[0m\u001b[0;34m(\u001b[0m\u001b[0;34m)\u001b[0m\u001b[0;34m\u001b[0m\u001b[0m\n\u001b[1;32m    614\u001b[0m         \u001b[0;32melse\u001b[0m\u001b[0;34m:\u001b[0m\u001b[0;34m\u001b[0m\u001b[0m\n",
      "\u001b[0;32m/home/szong/projects/development/coverage/venv/lib/python2.7/site-packages/numpy/core/numeric.pyc\u001b[0m in \u001b[0;36masarray\u001b[0;34m(a, dtype, order)\u001b[0m\n\u001b[1;32m    480\u001b[0m \u001b[0;34m\u001b[0m\u001b[0m\n\u001b[1;32m    481\u001b[0m     \"\"\"\n\u001b[0;32m--> 482\u001b[0;31m     \u001b[0;32mreturn\u001b[0m \u001b[0marray\u001b[0m\u001b[0;34m(\u001b[0m\u001b[0ma\u001b[0m\u001b[0;34m,\u001b[0m \u001b[0mdtype\u001b[0m\u001b[0;34m,\u001b[0m \u001b[0mcopy\u001b[0m\u001b[0;34m=\u001b[0m\u001b[0mFalse\u001b[0m\u001b[0;34m,\u001b[0m \u001b[0morder\u001b[0m\u001b[0;34m=\u001b[0m\u001b[0morder\u001b[0m\u001b[0;34m)\u001b[0m\u001b[0;34m\u001b[0m\u001b[0m\n\u001b[0m\u001b[1;32m    483\u001b[0m \u001b[0;34m\u001b[0m\u001b[0m\n\u001b[1;32m    484\u001b[0m \u001b[0;32mdef\u001b[0m \u001b[0masanyarray\u001b[0m\u001b[0;34m(\u001b[0m\u001b[0ma\u001b[0m\u001b[0;34m,\u001b[0m \u001b[0mdtype\u001b[0m\u001b[0;34m=\u001b[0m\u001b[0mNone\u001b[0m\u001b[0;34m,\u001b[0m \u001b[0morder\u001b[0m\u001b[0;34m=\u001b[0m\u001b[0mNone\u001b[0m\u001b[0;34m)\u001b[0m\u001b[0;34m:\u001b[0m\u001b[0;34m\u001b[0m\u001b[0m\n",
      "\u001b[0;31mValueError\u001b[0m: setting an array element with a sequence."
     ]
    }
   ],
   "source": [
    "joined = df_Leukemic.join(df_3BL, how='outer')\n",
    "joined = joined.join(df_4BN, how='outer')\n",
    "joined = joined.join(df_2AL, how='outer')\n",
    "joined = joined.join(df_2AN, how='outer')\n",
    "# joined = joined.sort_values(['Leukemic', '2AL', '2AN', '3BL', '4BN'])\n",
    "joined = joined.sort_values(['Leukemic'])\n",
    "joined = joined.astype(float)\n",
    "# joined.plot(linestyle='-', linewidth=0.8)\n",
    "plt.plot(joined[['2AN']])\n",
    "# joined.plot(kind='scatter')\n",
    "plt.xticks(rotation='vertical', fontsize=6)\n",
    "# loc:legend position, prop, lengend fontsize\n",
    "plt.legend(loc='upper center', prop={'size':9})\n",
    "plt.xlabel('Somatic variants', fontsize=11)\n",
    "plt.ylabel('Allele Frequency', fontsize=11)\n",
    "plt.show()\n",
    "# bbox_inches leave enough paddinf for x axis labels\n",
    "# plt.savefig('somatic_variant_AF.pdf',bbox_inches='tight')\n",
    "import os\n",
    "print(os.getcwd())\n"
   ]
  },
  {
   "cell_type": "code",
   "execution_count": null,
   "metadata": {
    "collapsed": true
   },
   "outputs": [],
   "source": []
  },
  {
   "cell_type": "code",
   "execution_count": 49,
   "metadata": {
    "collapsed": false
   },
   "outputs": [
    {
     "name": "stdout",
     "output_type": "stream",
     "text": [
      "<class 'pandas.core.frame.DataFrame'>\n",
      "MultiIndex: 403 entries, (ZNF410, 14, 74363037, C, G) to (RPGR, X, 38145494, T, C)\n",
      "Data columns (total 5 columns):\n",
      "Leukemic    195 non-null float64\n",
      "3BL         210 non-null float64\n",
      "4BN         209 non-null float64\n",
      "2AL         207 non-null float64\n",
      "2AN         197 non-null float64\n",
      "dtypes: float64(5)\n",
      "memory usage: 18.9+ KB\n"
     ]
    }
   ],
   "source": [
    "joined.info()"
   ]
  },
  {
   "cell_type": "code",
   "execution_count": 34,
   "metadata": {
    "collapsed": false
   },
   "outputs": [],
   "source": [
    "joined.to_csv('somatic_variants_AF.txt', sep='\\t', na_rep='na')"
   ]
  },
  {
   "cell_type": "code",
   "execution_count": 44,
   "metadata": {
    "collapsed": false
   },
   "outputs": [
    {
     "ename": "TypeError",
     "evalue": "Empty 'DataFrame': no numeric data to plot",
     "output_type": "error",
     "traceback": [
      "\u001b[0;31m---------------------------------------------------------------------------\u001b[0m",
      "\u001b[0;31mTypeError\u001b[0m                                 Traceback (most recent call last)",
      "\u001b[0;32m<ipython-input-44-fac1b4767937>\u001b[0m in \u001b[0;36m<module>\u001b[0;34m()\u001b[0m\n\u001b[0;32m----> 1\u001b[0;31m \u001b[0mjoined\u001b[0m\u001b[0;34m.\u001b[0m\u001b[0mplot\u001b[0m\u001b[0;34m(\u001b[0m\u001b[0;34m)\u001b[0m\u001b[0;34m\u001b[0m\u001b[0m\n\u001b[0m",
      "\u001b[0;32m/home/szong/projects/development/coverage/venv/lib/python2.7/site-packages/pandas/tools/plotting.pyc\u001b[0m in \u001b[0;36m__call__\u001b[0;34m(self, x, y, kind, ax, subplots, sharex, sharey, layout, figsize, use_index, title, grid, legend, style, logx, logy, loglog, xticks, yticks, xlim, ylim, rot, fontsize, colormap, table, yerr, xerr, secondary_y, sort_columns, **kwds)\u001b[0m\n\u001b[1;32m   3738\u001b[0m                           \u001b[0mfontsize\u001b[0m\u001b[0;34m=\u001b[0m\u001b[0mfontsize\u001b[0m\u001b[0;34m,\u001b[0m \u001b[0mcolormap\u001b[0m\u001b[0;34m=\u001b[0m\u001b[0mcolormap\u001b[0m\u001b[0;34m,\u001b[0m \u001b[0mtable\u001b[0m\u001b[0;34m=\u001b[0m\u001b[0mtable\u001b[0m\u001b[0;34m,\u001b[0m\u001b[0;34m\u001b[0m\u001b[0m\n\u001b[1;32m   3739\u001b[0m                           \u001b[0myerr\u001b[0m\u001b[0;34m=\u001b[0m\u001b[0myerr\u001b[0m\u001b[0;34m,\u001b[0m \u001b[0mxerr\u001b[0m\u001b[0;34m=\u001b[0m\u001b[0mxerr\u001b[0m\u001b[0;34m,\u001b[0m \u001b[0msecondary_y\u001b[0m\u001b[0;34m=\u001b[0m\u001b[0msecondary_y\u001b[0m\u001b[0;34m,\u001b[0m\u001b[0;34m\u001b[0m\u001b[0m\n\u001b[0;32m-> 3740\u001b[0;31m                           sort_columns=sort_columns, **kwds)\n\u001b[0m\u001b[1;32m   3741\u001b[0m     \u001b[0m__call__\u001b[0m\u001b[0;34m.\u001b[0m\u001b[0m__doc__\u001b[0m \u001b[0;34m=\u001b[0m \u001b[0mplot_frame\u001b[0m\u001b[0;34m.\u001b[0m\u001b[0m__doc__\u001b[0m\u001b[0;34m\u001b[0m\u001b[0m\n\u001b[1;32m   3742\u001b[0m \u001b[0;34m\u001b[0m\u001b[0m\n",
      "\u001b[0;32m/home/szong/projects/development/coverage/venv/lib/python2.7/site-packages/pandas/tools/plotting.pyc\u001b[0m in \u001b[0;36mplot_frame\u001b[0;34m(data, x, y, kind, ax, subplots, sharex, sharey, layout, figsize, use_index, title, grid, legend, style, logx, logy, loglog, xticks, yticks, xlim, ylim, rot, fontsize, colormap, table, yerr, xerr, secondary_y, sort_columns, **kwds)\u001b[0m\n\u001b[1;32m   2612\u001b[0m                  \u001b[0myerr\u001b[0m\u001b[0;34m=\u001b[0m\u001b[0myerr\u001b[0m\u001b[0;34m,\u001b[0m \u001b[0mxerr\u001b[0m\u001b[0;34m=\u001b[0m\u001b[0mxerr\u001b[0m\u001b[0;34m,\u001b[0m\u001b[0;34m\u001b[0m\u001b[0m\n\u001b[1;32m   2613\u001b[0m                  \u001b[0msecondary_y\u001b[0m\u001b[0;34m=\u001b[0m\u001b[0msecondary_y\u001b[0m\u001b[0;34m,\u001b[0m \u001b[0msort_columns\u001b[0m\u001b[0;34m=\u001b[0m\u001b[0msort_columns\u001b[0m\u001b[0;34m,\u001b[0m\u001b[0;34m\u001b[0m\u001b[0m\n\u001b[0;32m-> 2614\u001b[0;31m                  **kwds)\n\u001b[0m\u001b[1;32m   2615\u001b[0m \u001b[0;34m\u001b[0m\u001b[0m\n\u001b[1;32m   2616\u001b[0m \u001b[0;34m\u001b[0m\u001b[0m\n",
      "\u001b[0;32m/home/szong/projects/development/coverage/venv/lib/python2.7/site-packages/pandas/tools/plotting.pyc\u001b[0m in \u001b[0;36m_plot\u001b[0;34m(data, x, y, subplots, ax, kind, **kwds)\u001b[0m\n\u001b[1;32m   2439\u001b[0m         \u001b[0mplot_obj\u001b[0m \u001b[0;34m=\u001b[0m \u001b[0mklass\u001b[0m\u001b[0;34m(\u001b[0m\u001b[0mdata\u001b[0m\u001b[0;34m,\u001b[0m \u001b[0msubplots\u001b[0m\u001b[0;34m=\u001b[0m\u001b[0msubplots\u001b[0m\u001b[0;34m,\u001b[0m \u001b[0max\u001b[0m\u001b[0;34m=\u001b[0m\u001b[0max\u001b[0m\u001b[0;34m,\u001b[0m \u001b[0mkind\u001b[0m\u001b[0;34m=\u001b[0m\u001b[0mkind\u001b[0m\u001b[0;34m,\u001b[0m \u001b[0;34m**\u001b[0m\u001b[0mkwds\u001b[0m\u001b[0;34m)\u001b[0m\u001b[0;34m\u001b[0m\u001b[0m\n\u001b[1;32m   2440\u001b[0m \u001b[0;34m\u001b[0m\u001b[0m\n\u001b[0;32m-> 2441\u001b[0;31m     \u001b[0mplot_obj\u001b[0m\u001b[0;34m.\u001b[0m\u001b[0mgenerate\u001b[0m\u001b[0;34m(\u001b[0m\u001b[0;34m)\u001b[0m\u001b[0;34m\u001b[0m\u001b[0m\n\u001b[0m\u001b[1;32m   2442\u001b[0m     \u001b[0mplot_obj\u001b[0m\u001b[0;34m.\u001b[0m\u001b[0mdraw\u001b[0m\u001b[0;34m(\u001b[0m\u001b[0;34m)\u001b[0m\u001b[0;34m\u001b[0m\u001b[0m\n\u001b[1;32m   2443\u001b[0m     \u001b[0;32mreturn\u001b[0m \u001b[0mplot_obj\u001b[0m\u001b[0;34m.\u001b[0m\u001b[0mresult\u001b[0m\u001b[0;34m\u001b[0m\u001b[0m\n",
      "\u001b[0;32m/home/szong/projects/development/coverage/venv/lib/python2.7/site-packages/pandas/tools/plotting.pyc\u001b[0m in \u001b[0;36mgenerate\u001b[0;34m(self)\u001b[0m\n\u001b[1;32m   1024\u001b[0m     \u001b[0;32mdef\u001b[0m \u001b[0mgenerate\u001b[0m\u001b[0;34m(\u001b[0m\u001b[0mself\u001b[0m\u001b[0;34m)\u001b[0m\u001b[0;34m:\u001b[0m\u001b[0;34m\u001b[0m\u001b[0m\n\u001b[1;32m   1025\u001b[0m         \u001b[0mself\u001b[0m\u001b[0;34m.\u001b[0m\u001b[0m_args_adjust\u001b[0m\u001b[0;34m(\u001b[0m\u001b[0;34m)\u001b[0m\u001b[0;34m\u001b[0m\u001b[0m\n\u001b[0;32m-> 1026\u001b[0;31m         \u001b[0mself\u001b[0m\u001b[0;34m.\u001b[0m\u001b[0m_compute_plot_data\u001b[0m\u001b[0;34m(\u001b[0m\u001b[0;34m)\u001b[0m\u001b[0;34m\u001b[0m\u001b[0m\n\u001b[0m\u001b[1;32m   1027\u001b[0m         \u001b[0mself\u001b[0m\u001b[0;34m.\u001b[0m\u001b[0m_setup_subplots\u001b[0m\u001b[0;34m(\u001b[0m\u001b[0;34m)\u001b[0m\u001b[0;34m\u001b[0m\u001b[0m\n\u001b[1;32m   1028\u001b[0m         \u001b[0mself\u001b[0m\u001b[0;34m.\u001b[0m\u001b[0m_make_plot\u001b[0m\u001b[0;34m(\u001b[0m\u001b[0;34m)\u001b[0m\u001b[0;34m\u001b[0m\u001b[0m\n",
      "\u001b[0;32m/home/szong/projects/development/coverage/venv/lib/python2.7/site-packages/pandas/tools/plotting.pyc\u001b[0m in \u001b[0;36m_compute_plot_data\u001b[0;34m(self)\u001b[0m\n\u001b[1;32m   1133\u001b[0m         \u001b[0;32mif\u001b[0m \u001b[0mis_empty\u001b[0m\u001b[0;34m:\u001b[0m\u001b[0;34m\u001b[0m\u001b[0m\n\u001b[1;32m   1134\u001b[0m             raise TypeError('Empty {0!r}: no numeric data to '\n\u001b[0;32m-> 1135\u001b[0;31m                             'plot'.format(numeric_data.__class__.__name__))\n\u001b[0m\u001b[1;32m   1136\u001b[0m \u001b[0;34m\u001b[0m\u001b[0m\n\u001b[1;32m   1137\u001b[0m         \u001b[0mself\u001b[0m\u001b[0;34m.\u001b[0m\u001b[0mdata\u001b[0m \u001b[0;34m=\u001b[0m \u001b[0mnumeric_data\u001b[0m\u001b[0;34m\u001b[0m\u001b[0m\n",
      "\u001b[0;31mTypeError\u001b[0m: Empty 'DataFrame': no numeric data to plot"
     ]
    }
   ],
   "source": [
    "joined.plot()"
   ]
  },
  {
   "cell_type": "code",
   "execution_count": 182,
   "metadata": {
    "collapsed": false
   },
   "outputs": [
    {
     "data": {
      "image/png": "[encoded data removed]",
      "text/plain": [
       "<matplotlib.figure.Figure at 0x7f59c0c0cc90>"
      ]
     },
     "metadata": {},
     "output_type": "display_data"
    }
   ],
   "source": [
    "fig, axes = plt.subplots(nrows=2, ncols=1)\n",
    "\n",
    "\n",
    "df_af = joined[['Leukemic' ,'2AN', '2AL', '4BN', '3BL']]\n",
    "df_cov =joined[['Leukemic_cov' ,'2AN_cov', '2AL_cov', '4BN_cov', '3BL_cov']]\n",
    "\n",
    "# axes\n",
    "\n",
    "ax1 = df_af.plot(ax=axes[0])\n",
    "# # loc:legend position, prop, lengend fontsize\n",
    "ax1.legend(loc='upper center', prop={'size':9}, labelspacing=0.05)\n",
    "ax1.tick_params(\n",
    "    axis='x',          # changes apply to the x-axis\n",
    "    which='both',      # both major and minor ticks are affected\n",
    "    bottom='off',      # ticks along the bottom edge are off\n",
    "    top='off',         # ticks along the top edge are off\n",
    "    labelbottom='off') # labels along the bottom edge are off\n",
    "# ax1.xaxis.set_visible(False)\n",
    "# ax1.set_xticklabels([])\n",
    "ax1.set_xlabel('')\n",
    "ax2 = df_cov.plot(ax=axes[1])\n",
    "ax2.set_ylim([0, 200])\n",
    "# # loc:legend position, prop, lengend fontsize\n",
    "ax2.legend(loc='upper center', prop={'size':9}, labelspacing=0.05)\n",
    "\n",
    "plt.setp(plt.xticks()[1], rotation=90)\n",
    "# ax2.xticks(rotation='vertical', fontsize=6)\n",
    "# fig.tight_layout()\n",
    "\n",
    "# plt.xticks(rotation='vertical', fontsize=6)\n",
    "# # loc:legend position, prop, lengend fontsize\n",
    "# plt.legend(loc='upper center', prop={'size':9})\n",
    "# plt.xlabel('Somatic variants', fontsize=11)\n",
    "# plt.ylabel('Allele Frequency', fontsize=11)\n",
    "plt.show()"
   ]
  },
  {
   "cell_type": "code",
   "execution_count": null,
   "metadata": {
    "collapsed": true
   },
   "outputs": [],
   "source": []
  },
  {
   "cell_type": "code",
   "execution_count": null,
   "metadata": {
    "collapsed": true
   },
   "outputs": [],
   "source": []
  },
  {
   "cell_type": "code",
   "execution_count": null,
   "metadata": {
    "collapsed": true
   },
   "outputs": [],
   "source": []
  },
  {
   "cell_type": "code",
   "execution_count": null,
   "metadata": {
    "collapsed": true
   },
   "outputs": [],
   "source": []
  },
  {
   "cell_type": "code",
   "execution_count": null,
   "metadata": {
    "collapsed": true
   },
   "outputs": [],
   "source": []
  },
  {
   "cell_type": "code",
   "execution_count": null,
   "metadata": {
    "collapsed": true
   },
   "outputs": [],
   "source": []
  },
  {
   "cell_type": "code",
   "execution_count": null,
   "metadata": {
    "collapsed": true
   },
   "outputs": [],
   "source": []
  },
  {
   "cell_type": "code",
   "execution_count": null,
   "metadata": {
    "collapsed": true
   },
   "outputs": [],
   "source": []
  },
  {
   "cell_type": "code",
   "execution_count": null,
   "metadata": {
    "collapsed": true
   },
   "outputs": [],
   "source": []
  },
  {
   "cell_type": "code",
   "execution_count": null,
   "metadata": {
    "collapsed": true
   },
   "outputs": [],
   "source": []
  },
  {
   "cell_type": "code",
   "execution_count": null,
   "metadata": {
    "collapsed": true
   },
   "outputs": [],
   "source": []
  },
  {
   "cell_type": "code",
   "execution_count": null,
   "metadata": {
    "collapsed": true
   },
   "outputs": [],
   "source": []
  },
  {
   "cell_type": "code",
   "execution_count": null,
   "metadata": {
    "collapsed": true
   },
   "outputs": [],
   "source": []
  },
  {
   "cell_type": "code",
   "execution_count": null,
   "metadata": {
    "collapsed": true
   },
   "outputs": [],
   "source": []
  },
  {
   "cell_type": "code",
   "execution_count": null,
   "metadata": {
    "collapsed": true
   },
   "outputs": [],
   "source": []
  },
  {
   "cell_type": "code",
   "execution_count": null,
   "metadata": {
    "collapsed": true
   },
   "outputs": [],
   "source": []
  },
  {
   "cell_type": "code",
   "execution_count": null,
   "metadata": {
    "collapsed": true
   },
   "outputs": [],
   "source": []
  },
  {
   "cell_type": "code",
   "execution_count": null,
   "metadata": {
    "collapsed": true
   },
   "outputs": [],
   "source": []
  },
  {
   "cell_type": "code",
   "execution_count": null,
   "metadata": {
    "collapsed": true
   },
   "outputs": [],
   "source": []
  },
  {
   "cell_type": "code",
   "execution_count": null,
   "metadata": {
    "collapsed": true
   },
   "outputs": [],
   "source": []
  },
  {
   "cell_type": "code",
   "execution_count": null,
   "metadata": {
    "collapsed": true
   },
   "outputs": [],
   "source": []
  },
  {
   "cell_type": "code",
   "execution_count": null,
   "metadata": {
    "collapsed": true
   },
   "outputs": [],
   "source": []
  },
  {
   "cell_type": "code",
   "execution_count": null,
   "metadata": {
    "collapsed": true
   },
   "outputs": [],
   "source": []
  },
  {
   "cell_type": "code",
   "execution_count": null,
   "metadata": {
    "collapsed": true
   },
   "outputs": [],
   "source": []
  },
  {
   "cell_type": "code",
   "execution_count": null,
   "metadata": {
    "collapsed": true
   },
   "outputs": [],
   "source": []
  },
  {
   "cell_type": "code",
   "execution_count": null,
   "metadata": {
    "collapsed": true
   },
   "outputs": [],
   "source": []
  },
  {
   "cell_type": "code",
   "execution_count": null,
   "metadata": {
    "collapsed": true
   },
   "outputs": [],
   "source": []
  },
  {
   "cell_type": "code",
   "execution_count": null,
   "metadata": {
    "collapsed": true
   },
   "outputs": [],
   "source": []
  },
  {
   "cell_type": "code",
   "execution_count": null,
   "metadata": {
    "collapsed": true
   },
   "outputs": [],
   "source": []
  },
  {
   "cell_type": "code",
   "execution_count": null,
   "metadata": {
    "collapsed": true
   },
   "outputs": [],
   "source": []
  },
  {
   "cell_type": "code",
   "execution_count": null,
   "metadata": {
    "collapsed": true
   },
   "outputs": [],
   "source": []
  },
  {
   "cell_type": "code",
   "execution_count": null,
   "metadata": {
    "collapsed": true
   },
   "outputs": [],
   "source": []
  },
  {
   "cell_type": "code",
   "execution_count": null,
   "metadata": {
    "collapsed": true
   },
   "outputs": [],
   "source": []
  },
  {
   "cell_type": "code",
   "execution_count": null,
   "metadata": {
    "collapsed": true
   },
   "outputs": [],
   "source": []
  },
  {
   "cell_type": "code",
   "execution_count": null,
   "metadata": {
    "collapsed": true
   },
   "outputs": [],
   "source": []
  },
  {
   "cell_type": "code",
   "execution_count": 109,
   "metadata": {
    "collapsed": false
   },
   "outputs": [
    {
     "name": "stdout",
     "output_type": "stream",
     "text": [
      "<class 'pandas.core.frame.DataFrame'>\n",
      "MultiIndex: 403 entries, (GPS1, 17, 80014617, G, C) to (AC012313.1, 19, 58916729, T, C)\n",
      "Data columns (total 5 columns):\n",
      "Leukemic    403 non-null float64\n",
      "2AN         403 non-null float64\n",
      "2AL         403 non-null float64\n",
      "4BN         403 non-null float64\n",
      "3BL         403 non-null float64\n",
      "dtypes: float64(5)\n",
      "memory usage: 18.9+ KB\n"
     ]
    }
   ],
   "source": [
    "df_af.info()"
   ]
  },
  {
   "cell_type": "code",
   "execution_count": null,
   "metadata": {
    "collapsed": true
   },
   "outputs": [],
   "source": []
  },
  {
   "cell_type": "code",
   "execution_count": 105,
   "metadata": {
    "collapsed": false
   },
   "outputs": [
    {
     "data": {
      "image/png": "[encoded data removed]",
      "text/plain": [
       "<matplotlib.figure.Figure at 0x7f59c347ccd0>"
      ]
     },
     "metadata": {},
     "output_type": "display_data"
    }
   ],
   "source": [
    "df_af.plot()\n",
    "plt.show()"
   ]
  },
  {
   "cell_type": "code",
   "execution_count": null,
   "metadata": {
    "collapsed": true
   },
   "outputs": [],
   "source": []
  },
  {
   "cell_type": "code",
   "execution_count": null,
   "metadata": {
    "collapsed": true
   },
   "outputs": [],
   "source": []
  },
  {
   "cell_type": "code",
   "execution_count": null,
   "metadata": {
    "collapsed": true
   },
   "outputs": [],
   "source": []
  },
  {
   "cell_type": "code",
   "execution_count": null,
   "metadata": {
    "collapsed": true
   },
   "outputs": [],
   "source": []
  },
  {
   "cell_type": "code",
   "execution_count": 94,
   "metadata": {
    "collapsed": false
   },
   "outputs": [
    {
     "data": {
      "text/html": [
       "<div>\n",
       "<table border=\"1\" class=\"dataframe\">\n",
       "  <thead>\n",
       "    <tr style=\"text-align: right;\">\n",
       "      <th></th>\n",
       "      <th></th>\n",
       "      <th></th>\n",
       "      <th></th>\n",
       "      <th></th>\n",
       "      <th>Leukemic</th>\n",
       "      <th>2AN</th>\n",
       "      <th>2AL</th>\n",
       "      <th>4BN</th>\n",
       "      <th>3BL</th>\n",
       "    </tr>\n",
       "    <tr>\n",
       "      <th>gene</th>\n",
       "      <th>chromosome</th>\n",
       "      <th>position</th>\n",
       "      <th>ref_base</th>\n",
       "      <th>alt_base</th>\n",
       "      <th></th>\n",
       "      <th></th>\n",
       "      <th></th>\n",
       "      <th></th>\n",
       "      <th></th>\n",
       "    </tr>\n",
       "  </thead>\n",
       "  <tbody>\n",
       "    <tr>\n",
       "      <th>GPS1</th>\n",
       "      <th>17</th>\n",
       "      <th>80014617</th>\n",
       "      <th>G</th>\n",
       "      <th>C</th>\n",
       "      <td>0.00</td>\n",
       "      <td>0.00</td>\n",
       "      <td>0.12</td>\n",
       "      <td>0.00</td>\n",
       "      <td>0.01</td>\n",
       "    </tr>\n",
       "    <tr>\n",
       "      <th>HAUS2</th>\n",
       "      <th>15</th>\n",
       "      <th>42853001</th>\n",
       "      <th>C</th>\n",
       "      <th>G</th>\n",
       "      <td>0.00</td>\n",
       "      <td>0.00</td>\n",
       "      <td>0.06</td>\n",
       "      <td>0.00</td>\n",
       "      <td>0.00</td>\n",
       "    </tr>\n",
       "    <tr>\n",
       "      <th>SH3BP1</th>\n",
       "      <th>22</th>\n",
       "      <th>38046210</th>\n",
       "      <th>C</th>\n",
       "      <th>G</th>\n",
       "      <td>0.00</td>\n",
       "      <td>0.04</td>\n",
       "      <td>0.00</td>\n",
       "      <td>0.01</td>\n",
       "      <td>0.13</td>\n",
       "    </tr>\n",
       "    <tr>\n",
       "      <th>GPRASP2</th>\n",
       "      <th>X</th>\n",
       "      <th>101970113</th>\n",
       "      <th>G</th>\n",
       "      <th>C</th>\n",
       "      <td>0.00</td>\n",
       "      <td>0.23</td>\n",
       "      <td>0.00</td>\n",
       "      <td>0.00</td>\n",
       "      <td>0.00</td>\n",
       "    </tr>\n",
       "    <tr>\n",
       "      <th>GOLGA6L6</th>\n",
       "      <th>15</th>\n",
       "      <th>20740295</th>\n",
       "      <th>A</th>\n",
       "      <th>T</th>\n",
       "      <td>0.00</td>\n",
       "      <td>1.00</td>\n",
       "      <td>1.00</td>\n",
       "      <td>1.00</td>\n",
       "      <td>1.00</td>\n",
       "    </tr>\n",
       "    <tr>\n",
       "      <th>SLITRK2</th>\n",
       "      <th>X</th>\n",
       "      <th>144904544</th>\n",
       "      <th>G</th>\n",
       "      <th>A</th>\n",
       "      <td>0.00</td>\n",
       "      <td>0.00</td>\n",
       "      <td>0.00</td>\n",
       "      <td>0.00</td>\n",
       "      <td>0.14</td>\n",
       "    </tr>\n",
       "    <tr>\n",
       "      <th rowspan=\"2\" valign=\"top\">FTH1</th>\n",
       "      <th rowspan=\"2\" valign=\"top\">11</th>\n",
       "      <th>61727295</th>\n",
       "      <th>C</th>\n",
       "      <th>A</th>\n",
       "      <td>0.00</td>\n",
       "      <td>0.00</td>\n",
       "      <td>0.12</td>\n",
       "      <td>0.00</td>\n",
       "      <td>0.02</td>\n",
       "    </tr>\n",
       "    <tr>\n",
       "      <th>61727275</th>\n",
       "      <th>A</th>\n",
       "      <th>C</th>\n",
       "      <td>0.00</td>\n",
       "      <td>0.00</td>\n",
       "      <td>0.23</td>\n",
       "      <td>0.01</td>\n",
       "      <td>0.01</td>\n",
       "    </tr>\n",
       "    <tr>\n",
       "      <th>FOXD4L5</th>\n",
       "      <th>9</th>\n",
       "      <th>70177494</th>\n",
       "      <th>C</th>\n",
       "      <th>G</th>\n",
       "      <td>0.00</td>\n",
       "      <td>0.03</td>\n",
       "      <td>0.20</td>\n",
       "      <td>0.08</td>\n",
       "      <td>0.06</td>\n",
       "    </tr>\n",
       "    <tr>\n",
       "      <th>SUSD2</th>\n",
       "      <th>22</th>\n",
       "      <th>24579157</th>\n",
       "      <th>G</th>\n",
       "      <th>T</th>\n",
       "      <td>0.00</td>\n",
       "      <td>0.01</td>\n",
       "      <td>0.05</td>\n",
       "      <td>0.09</td>\n",
       "      <td>0.02</td>\n",
       "    </tr>\n",
       "    <tr>\n",
       "      <th>FLNB</th>\n",
       "      <th>3</th>\n",
       "      <th>58064525</th>\n",
       "      <th>G</th>\n",
       "      <th>C</th>\n",
       "      <td>0.00</td>\n",
       "      <td>0.01</td>\n",
       "      <td>0.00</td>\n",
       "      <td>0.00</td>\n",
       "      <td>0.05</td>\n",
       "    </tr>\n",
       "    <tr>\n",
       "      <th>HDAC7</th>\n",
       "      <th>12</th>\n",
       "      <th>48192750</th>\n",
       "      <th>G</th>\n",
       "      <th>C</th>\n",
       "      <td>0.00</td>\n",
       "      <td>0.00</td>\n",
       "      <td>0.11</td>\n",
       "      <td>0.00</td>\n",
       "      <td>0.00</td>\n",
       "    </tr>\n",
       "    <tr>\n",
       "      <th>FLG</th>\n",
       "      <th>1</th>\n",
       "      <th>152281711</th>\n",
       "      <th>C</th>\n",
       "      <th>G</th>\n",
       "      <td>0.00</td>\n",
       "      <td>0.00</td>\n",
       "      <td>0.00</td>\n",
       "      <td>0.10</td>\n",
       "      <td>0.00</td>\n",
       "    </tr>\n",
       "    <tr>\n",
       "      <th>TCHH</th>\n",
       "      <th>1</th>\n",
       "      <th>152084627</th>\n",
       "      <th>C</th>\n",
       "      <th>G</th>\n",
       "      <td>0.00</td>\n",
       "      <td>0.07</td>\n",
       "      <td>0.06</td>\n",
       "      <td>0.11</td>\n",
       "      <td>0.12</td>\n",
       "    </tr>\n",
       "    <tr>\n",
       "      <th>ERN1</th>\n",
       "      <th>17</th>\n",
       "      <th>62141366</th>\n",
       "      <th>C</th>\n",
       "      <th>G</th>\n",
       "      <td>0.00</td>\n",
       "      <td>0.00</td>\n",
       "      <td>0.18</td>\n",
       "      <td>0.00</td>\n",
       "      <td>0.00</td>\n",
       "    </tr>\n",
       "    <tr>\n",
       "      <th>EIF5</th>\n",
       "      <th>14</th>\n",
       "      <th>103803541</th>\n",
       "      <th>C</th>\n",
       "      <th>G</th>\n",
       "      <td>0.00</td>\n",
       "      <td>0.07</td>\n",
       "      <td>0.07</td>\n",
       "      <td>0.00</td>\n",
       "      <td>0.23</td>\n",
       "    </tr>\n",
       "    <tr>\n",
       "      <th>DNAJC10</th>\n",
       "      <th>2</th>\n",
       "      <th>183616900</th>\n",
       "      <th>G</th>\n",
       "      <th>C</th>\n",
       "      <td>0.00</td>\n",
       "      <td>0.00</td>\n",
       "      <td>0.26</td>\n",
       "      <td>0.13</td>\n",
       "      <td>0.04</td>\n",
       "    </tr>\n",
       "    <tr>\n",
       "      <th>DLL1</th>\n",
       "      <th>6</th>\n",
       "      <th>170592911</th>\n",
       "      <th>C</th>\n",
       "      <th>T</th>\n",
       "      <td>0.00</td>\n",
       "      <td>0.00</td>\n",
       "      <td>0.00</td>\n",
       "      <td>0.00</td>\n",
       "      <td>0.10</td>\n",
       "    </tr>\n",
       "    <tr>\n",
       "      <th>TLR9</th>\n",
       "      <th>3</th>\n",
       "      <th>52256093</th>\n",
       "      <th>G</th>\n",
       "      <th>C</th>\n",
       "      <td>0.00</td>\n",
       "      <td>0.00</td>\n",
       "      <td>0.00</td>\n",
       "      <td>0.05</td>\n",
       "      <td>0.00</td>\n",
       "    </tr>\n",
       "    <tr>\n",
       "      <th>CXXC11</th>\n",
       "      <th>2</th>\n",
       "      <th>242815413</th>\n",
       "      <th>C</th>\n",
       "      <th>T</th>\n",
       "      <td>0.00</td>\n",
       "      <td>0.04</td>\n",
       "      <td>0.00</td>\n",
       "      <td>0.05</td>\n",
       "      <td>0.11</td>\n",
       "    </tr>\n",
       "    <tr>\n",
       "      <th>TNKS2</th>\n",
       "      <th>10</th>\n",
       "      <th>93596741</th>\n",
       "      <th>G</th>\n",
       "      <th>C</th>\n",
       "      <td>0.00</td>\n",
       "      <td>0.00</td>\n",
       "      <td>0.05</td>\n",
       "      <td>0.00</td>\n",
       "      <td>0.04</td>\n",
       "    </tr>\n",
       "    <tr>\n",
       "      <th>TNRC18</th>\n",
       "      <th>7</th>\n",
       "      <th>5413833</th>\n",
       "      <th>T</th>\n",
       "      <th>G</th>\n",
       "      <td>0.00</td>\n",
       "      <td>0.13</td>\n",
       "      <td>0.11</td>\n",
       "      <td>0.06</td>\n",
       "      <td>0.13</td>\n",
       "    </tr>\n",
       "    <tr>\n",
       "      <th>TRIM34</th>\n",
       "      <th>11</th>\n",
       "      <th>5664623</th>\n",
       "      <th>G</th>\n",
       "      <th>C</th>\n",
       "      <td>0.00</td>\n",
       "      <td>0.00</td>\n",
       "      <td>0.00</td>\n",
       "      <td>0.00</td>\n",
       "      <td>0.06</td>\n",
       "    </tr>\n",
       "    <tr>\n",
       "      <th>FAT1</th>\n",
       "      <th>4</th>\n",
       "      <th>187541901</th>\n",
       "      <th>G</th>\n",
       "      <th>A</th>\n",
       "      <td>0.00</td>\n",
       "      <td>0.00</td>\n",
       "      <td>0.00</td>\n",
       "      <td>0.00</td>\n",
       "      <td>0.06</td>\n",
       "    </tr>\n",
       "    <tr>\n",
       "      <th>CMYA5</th>\n",
       "      <th>5</th>\n",
       "      <th>79032516</th>\n",
       "      <th>G</th>\n",
       "      <th>A</th>\n",
       "      <td>0.00</td>\n",
       "      <td>0.02</td>\n",
       "      <td>0.08</td>\n",
       "      <td>0.02</td>\n",
       "      <td>0.03</td>\n",
       "    </tr>\n",
       "    <tr>\n",
       "      <th>RP11-571M6.6</th>\n",
       "      <th>12</th>\n",
       "      <th>58121247</th>\n",
       "      <th>T</th>\n",
       "      <th>C</th>\n",
       "      <td>0.00</td>\n",
       "      <td>0.02</td>\n",
       "      <td>0.01</td>\n",
       "      <td>0.00</td>\n",
       "      <td>0.10</td>\n",
       "    </tr>\n",
       "    <tr>\n",
       "      <th>KIF22</th>\n",
       "      <th>16</th>\n",
       "      <th>29816305</th>\n",
       "      <th>G</th>\n",
       "      <th>C</th>\n",
       "      <td>0.00</td>\n",
       "      <td>0.00</td>\n",
       "      <td>0.00</td>\n",
       "      <td>0.00</td>\n",
       "      <td>0.05</td>\n",
       "    </tr>\n",
       "    <tr>\n",
       "      <th>PKMYT1</th>\n",
       "      <th>16</th>\n",
       "      <th>3022712</th>\n",
       "      <th>C</th>\n",
       "      <th>G</th>\n",
       "      <td>0.00</td>\n",
       "      <td>0.00</td>\n",
       "      <td>0.00</td>\n",
       "      <td>0.00</td>\n",
       "      <td>0.09</td>\n",
       "    </tr>\n",
       "    <tr>\n",
       "      <th>PDE3A</th>\n",
       "      <th>12</th>\n",
       "      <th>20806930</th>\n",
       "      <th>G</th>\n",
       "      <th>C</th>\n",
       "      <td>0.00</td>\n",
       "      <td>0.00</td>\n",
       "      <td>0.02</td>\n",
       "      <td>0.06</td>\n",
       "      <td>0.00</td>\n",
       "    </tr>\n",
       "    <tr>\n",
       "      <th>PAN3</th>\n",
       "      <th>13</th>\n",
       "      <th>28752044</th>\n",
       "      <th>G</th>\n",
       "      <th>C</th>\n",
       "      <td>0.00</td>\n",
       "      <td>0.00</td>\n",
       "      <td>0.00</td>\n",
       "      <td>0.00</td>\n",
       "      <td>0.07</td>\n",
       "    </tr>\n",
       "    <tr>\n",
       "      <th>...</th>\n",
       "      <th>...</th>\n",
       "      <th>...</th>\n",
       "      <th>...</th>\n",
       "      <th>...</th>\n",
       "      <td>...</td>\n",
       "      <td>...</td>\n",
       "      <td>...</td>\n",
       "      <td>...</td>\n",
       "      <td>...</td>\n",
       "    </tr>\n",
       "    <tr>\n",
       "      <th>WDFY4</th>\n",
       "      <th>10</th>\n",
       "      <th>50184915</th>\n",
       "      <th>C</th>\n",
       "      <th>T</th>\n",
       "      <td>0.47</td>\n",
       "      <td>0.49</td>\n",
       "      <td>0.52</td>\n",
       "      <td>0.51</td>\n",
       "      <td>0.52</td>\n",
       "    </tr>\n",
       "    <tr>\n",
       "      <th>ETNK1</th>\n",
       "      <th>12</th>\n",
       "      <th>22811992</th>\n",
       "      <th>A</th>\n",
       "      <th>C</th>\n",
       "      <td>0.47</td>\n",
       "      <td>0.43</td>\n",
       "      <td>0.69</td>\n",
       "      <td>0.56</td>\n",
       "      <td>0.56</td>\n",
       "    </tr>\n",
       "    <tr>\n",
       "      <th>DCHS1</th>\n",
       "      <th>11</th>\n",
       "      <th>6643200</th>\n",
       "      <th>C</th>\n",
       "      <th>T</th>\n",
       "      <td>0.49</td>\n",
       "      <td>0.52</td>\n",
       "      <td>0.52</td>\n",
       "      <td>0.46</td>\n",
       "      <td>0.43</td>\n",
       "    </tr>\n",
       "    <tr>\n",
       "      <th>PSD3</th>\n",
       "      <th>8</th>\n",
       "      <th>18729301</th>\n",
       "      <th>T</th>\n",
       "      <th>G</th>\n",
       "      <td>0.49</td>\n",
       "      <td>0.53</td>\n",
       "      <td>0.59</td>\n",
       "      <td>0.56</td>\n",
       "      <td>0.46</td>\n",
       "    </tr>\n",
       "    <tr>\n",
       "      <th rowspan=\"2\" valign=\"top\">PRAMEF16</th>\n",
       "      <th rowspan=\"2\" valign=\"top\">1</th>\n",
       "      <th>13497572</th>\n",
       "      <th>G</th>\n",
       "      <th>A</th>\n",
       "      <td>0.50</td>\n",
       "      <td>0.59</td>\n",
       "      <td>0.54</td>\n",
       "      <td>0.43</td>\n",
       "      <td>0.70</td>\n",
       "    </tr>\n",
       "    <tr>\n",
       "      <th>13497584</th>\n",
       "      <th>C</th>\n",
       "      <th>T</th>\n",
       "      <td>0.50</td>\n",
       "      <td>0.62</td>\n",
       "      <td>0.54</td>\n",
       "      <td>0.43</td>\n",
       "      <td>0.70</td>\n",
       "    </tr>\n",
       "    <tr>\n",
       "      <th>TEX2</th>\n",
       "      <th>17</th>\n",
       "      <th>62290283</th>\n",
       "      <th>C</th>\n",
       "      <th>T</th>\n",
       "      <td>0.51</td>\n",
       "      <td>0.52</td>\n",
       "      <td>0.41</td>\n",
       "      <td>0.48</td>\n",
       "      <td>0.59</td>\n",
       "    </tr>\n",
       "    <tr>\n",
       "      <th>WDR66</th>\n",
       "      <th>12</th>\n",
       "      <th>122359227</th>\n",
       "      <th>G</th>\n",
       "      <th>A</th>\n",
       "      <td>0.53</td>\n",
       "      <td>0.56</td>\n",
       "      <td>0.43</td>\n",
       "      <td>0.49</td>\n",
       "      <td>0.46</td>\n",
       "    </tr>\n",
       "    <tr>\n",
       "      <th>GRIN2A</th>\n",
       "      <th>16</th>\n",
       "      <th>9943623</th>\n",
       "      <th>C</th>\n",
       "      <th>T</th>\n",
       "      <td>0.54</td>\n",
       "      <td>0.47</td>\n",
       "      <td>0.53</td>\n",
       "      <td>0.44</td>\n",
       "      <td>0.63</td>\n",
       "    </tr>\n",
       "    <tr>\n",
       "      <th>TRAV26-2</th>\n",
       "      <th>14</th>\n",
       "      <th>22670975</th>\n",
       "      <th>G</th>\n",
       "      <th>A</th>\n",
       "      <td>0.54</td>\n",
       "      <td>0.56</td>\n",
       "      <td>0.49</td>\n",
       "      <td>0.47</td>\n",
       "      <td>0.50</td>\n",
       "    </tr>\n",
       "    <tr>\n",
       "      <th>TXNDC5</th>\n",
       "      <th>6</th>\n",
       "      <th>7883412</th>\n",
       "      <th>G</th>\n",
       "      <th>A</th>\n",
       "      <td>0.55</td>\n",
       "      <td>0.51</td>\n",
       "      <td>0.55</td>\n",
       "      <td>0.46</td>\n",
       "      <td>0.50</td>\n",
       "    </tr>\n",
       "    <tr>\n",
       "      <th>RPGR</th>\n",
       "      <th>X</th>\n",
       "      <th>38145389</th>\n",
       "      <th>A</th>\n",
       "      <th>C</th>\n",
       "      <td>0.56</td>\n",
       "      <td>0.06</td>\n",
       "      <td>0.17</td>\n",
       "      <td>0.50</td>\n",
       "      <td>0.11</td>\n",
       "    </tr>\n",
       "    <tr>\n",
       "      <th>PRAMEF10</th>\n",
       "      <th>1</th>\n",
       "      <th>12953147</th>\n",
       "      <th>A</th>\n",
       "      <th>G</th>\n",
       "      <td>0.56</td>\n",
       "      <td>0.38</td>\n",
       "      <td>0.53</td>\n",
       "      <td>0.56</td>\n",
       "      <td>0.44</td>\n",
       "    </tr>\n",
       "    <tr>\n",
       "      <th>TET3</th>\n",
       "      <th>2</th>\n",
       "      <th>74326472</th>\n",
       "      <th>C</th>\n",
       "      <th>T</th>\n",
       "      <td>0.57</td>\n",
       "      <td>0.31</td>\n",
       "      <td>0.58</td>\n",
       "      <td>0.54</td>\n",
       "      <td>0.43</td>\n",
       "    </tr>\n",
       "    <tr>\n",
       "      <th>MAGEC1</th>\n",
       "      <th>X</th>\n",
       "      <th>140994122</th>\n",
       "      <th>C</th>\n",
       "      <th>T</th>\n",
       "      <td>0.59</td>\n",
       "      <td>0.44</td>\n",
       "      <td>0.64</td>\n",
       "      <td>0.50</td>\n",
       "      <td>0.53</td>\n",
       "    </tr>\n",
       "    <tr>\n",
       "      <th>POTEI</th>\n",
       "      <th>2</th>\n",
       "      <th>131221692</th>\n",
       "      <th>T</th>\n",
       "      <th>C</th>\n",
       "      <td>0.67</td>\n",
       "      <td>1.00</td>\n",
       "      <td>0.92</td>\n",
       "      <td>1.00</td>\n",
       "      <td>1.00</td>\n",
       "    </tr>\n",
       "    <tr>\n",
       "      <th>AHNAK2</th>\n",
       "      <th>14</th>\n",
       "      <th>105412330</th>\n",
       "      <th>A</th>\n",
       "      <th>T</th>\n",
       "      <td>0.67</td>\n",
       "      <td>0.20</td>\n",
       "      <td>0.17</td>\n",
       "      <td>0.20</td>\n",
       "      <td>0.25</td>\n",
       "    </tr>\n",
       "    <tr>\n",
       "      <th>PRAMEF10</th>\n",
       "      <th>1</th>\n",
       "      <th>12953160</th>\n",
       "      <th>C</th>\n",
       "      <th>G</th>\n",
       "      <td>0.72</td>\n",
       "      <td>0.39</td>\n",
       "      <td>0.57</td>\n",
       "      <td>0.55</td>\n",
       "      <td>0.50</td>\n",
       "    </tr>\n",
       "    <tr>\n",
       "      <th rowspan=\"2\" valign=\"top\">POTEI</th>\n",
       "      <th rowspan=\"2\" valign=\"top\">2</th>\n",
       "      <th>131221663</th>\n",
       "      <th>G</th>\n",
       "      <th>A</th>\n",
       "      <td>0.73</td>\n",
       "      <td>0.93</td>\n",
       "      <td>0.93</td>\n",
       "      <td>1.00</td>\n",
       "      <td>0.80</td>\n",
       "    </tr>\n",
       "    <tr>\n",
       "      <th>131221668</th>\n",
       "      <th>G</th>\n",
       "      <th>A</th>\n",
       "      <td>0.89</td>\n",
       "      <td>1.00</td>\n",
       "      <td>0.92</td>\n",
       "      <td>0.88</td>\n",
       "      <td>1.00</td>\n",
       "    </tr>\n",
       "    <tr>\n",
       "      <th>VCX3B</th>\n",
       "      <th>X</th>\n",
       "      <th>8434251</th>\n",
       "      <th>G</th>\n",
       "      <th>A</th>\n",
       "      <td>0.91</td>\n",
       "      <td>0.64</td>\n",
       "      <td>0.86</td>\n",
       "      <td>0.92</td>\n",
       "      <td>0.60</td>\n",
       "    </tr>\n",
       "    <tr>\n",
       "      <th>BX072566.1</th>\n",
       "      <th>GL000213.1</th>\n",
       "      <th>138774</th>\n",
       "      <th>C</th>\n",
       "      <th>G</th>\n",
       "      <td>1.00</td>\n",
       "      <td>1.00</td>\n",
       "      <td>1.00</td>\n",
       "      <td>0.86</td>\n",
       "      <td>0.92</td>\n",
       "    </tr>\n",
       "    <tr>\n",
       "      <th>NRAS</th>\n",
       "      <th>1</th>\n",
       "      <th>115258747</th>\n",
       "      <th>C</th>\n",
       "      <th>T</th>\n",
       "      <td>1.00</td>\n",
       "      <td>1.00</td>\n",
       "      <td>1.00</td>\n",
       "      <td>1.00</td>\n",
       "      <td>1.00</td>\n",
       "    </tr>\n",
       "    <tr>\n",
       "      <th>XXbac-B33L19.11.1</th>\n",
       "      <th>22</th>\n",
       "      <th>20486674</th>\n",
       "      <th>A</th>\n",
       "      <th>G</th>\n",
       "      <td>1.00</td>\n",
       "      <td>1.00</td>\n",
       "      <td>1.00</td>\n",
       "      <td>1.00</td>\n",
       "      <td>1.00</td>\n",
       "    </tr>\n",
       "    <tr>\n",
       "      <th>AC008132.13.1</th>\n",
       "      <th>22</th>\n",
       "      <th>18835403</th>\n",
       "      <th>A</th>\n",
       "      <th>G</th>\n",
       "      <td>1.00</td>\n",
       "      <td>1.00</td>\n",
       "      <td>1.00</td>\n",
       "      <td>1.00</td>\n",
       "      <td>1.00</td>\n",
       "    </tr>\n",
       "    <tr>\n",
       "      <th>POTEF</th>\n",
       "      <th>2</th>\n",
       "      <th>130843529</th>\n",
       "      <th>T</th>\n",
       "      <th>C</th>\n",
       "      <td>1.00</td>\n",
       "      <td>1.00</td>\n",
       "      <td>1.00</td>\n",
       "      <td>0.83</td>\n",
       "      <td>1.00</td>\n",
       "    </tr>\n",
       "    <tr>\n",
       "      <th>OPN1LW</th>\n",
       "      <th>X</th>\n",
       "      <th>153418460</th>\n",
       "      <th>C</th>\n",
       "      <th>A</th>\n",
       "      <td>1.00</td>\n",
       "      <td>1.00</td>\n",
       "      <td>1.00</td>\n",
       "      <td>1.00</td>\n",
       "      <td>1.00</td>\n",
       "    </tr>\n",
       "    <tr>\n",
       "      <th>FAM22E</th>\n",
       "      <th>10</th>\n",
       "      <th>81604126</th>\n",
       "      <th>A</th>\n",
       "      <th>G</th>\n",
       "      <td>1.00</td>\n",
       "      <td>1.00</td>\n",
       "      <td>0.90</td>\n",
       "      <td>1.00</td>\n",
       "      <td>1.00</td>\n",
       "    </tr>\n",
       "    <tr>\n",
       "      <th>PHF6</th>\n",
       "      <th>X</th>\n",
       "      <th>133527949</th>\n",
       "      <th>C</th>\n",
       "      <th>T</th>\n",
       "      <td>1.00</td>\n",
       "      <td>1.00</td>\n",
       "      <td>1.00</td>\n",
       "      <td>0.98</td>\n",
       "      <td>1.00</td>\n",
       "    </tr>\n",
       "    <tr>\n",
       "      <th>AC012313.1</th>\n",
       "      <th>19</th>\n",
       "      <th>58916729</th>\n",
       "      <th>T</th>\n",
       "      <th>C</th>\n",
       "      <td>1.00</td>\n",
       "      <td>1.00</td>\n",
       "      <td>1.00</td>\n",
       "      <td>1.00</td>\n",
       "      <td>0.90</td>\n",
       "    </tr>\n",
       "  </tbody>\n",
       "</table>\n",
       "<p>403 rows × 5 columns</p>\n",
       "</div>"
      ],
      "text/plain": [
       "                                                          Leukemic   2AN  \\\n",
       "gene              chromosome position  ref_base alt_base                   \n",
       "GPS1              17         80014617  G        C             0.00  0.00   \n",
       "HAUS2             15         42853001  C        G             0.00  0.00   \n",
       "SH3BP1            22         38046210  C        G             0.00  0.04   \n",
       "GPRASP2           X          101970113 G        C             0.00  0.23   \n",
       "GOLGA6L6          15         20740295  A        T             0.00  1.00   \n",
       "SLITRK2           X          144904544 G        A             0.00  0.00   \n",
       "FTH1              11         61727295  C        A             0.00  0.00   \n",
       "                             61727275  A        C             0.00  0.00   \n",
       "FOXD4L5           9          70177494  C        G             0.00  0.03   \n",
       "SUSD2             22         24579157  G        T             0.00  0.01   \n",
       "FLNB              3          58064525  G        C             0.00  0.01   \n",
       "HDAC7             12         48192750  G        C             0.00  0.00   \n",
       "FLG               1          152281711 C        G             0.00  0.00   \n",
       "TCHH              1          152084627 C        G             0.00  0.07   \n",
       "ERN1              17         62141366  C        G             0.00  0.00   \n",
       "EIF5              14         103803541 C        G             0.00  0.07   \n",
       "DNAJC10           2          183616900 G        C             0.00  0.00   \n",
       "DLL1              6          170592911 C        T             0.00  0.00   \n",
       "TLR9              3          52256093  G        C             0.00  0.00   \n",
       "CXXC11            2          242815413 C        T             0.00  0.04   \n",
       "TNKS2             10         93596741  G        C             0.00  0.00   \n",
       "TNRC18            7          5413833   T        G             0.00  0.13   \n",
       "TRIM34            11         5664623   G        C             0.00  0.00   \n",
       "FAT1              4          187541901 G        A             0.00  0.00   \n",
       "CMYA5             5          79032516  G        A             0.00  0.02   \n",
       "RP11-571M6.6      12         58121247  T        C             0.00  0.02   \n",
       "KIF22             16         29816305  G        C             0.00  0.00   \n",
       "PKMYT1            16         3022712   C        G             0.00  0.00   \n",
       "PDE3A             12         20806930  G        C             0.00  0.00   \n",
       "PAN3              13         28752044  G        C             0.00  0.00   \n",
       "...                                                            ...   ...   \n",
       "WDFY4             10         50184915  C        T             0.47  0.49   \n",
       "ETNK1             12         22811992  A        C             0.47  0.43   \n",
       "DCHS1             11         6643200   C        T             0.49  0.52   \n",
       "PSD3              8          18729301  T        G             0.49  0.53   \n",
       "PRAMEF16          1          13497572  G        A             0.50  0.59   \n",
       "                             13497584  C        T             0.50  0.62   \n",
       "TEX2              17         62290283  C        T             0.51  0.52   \n",
       "WDR66             12         122359227 G        A             0.53  0.56   \n",
       "GRIN2A            16         9943623   C        T             0.54  0.47   \n",
       "TRAV26-2          14         22670975  G        A             0.54  0.56   \n",
       "TXNDC5            6          7883412   G        A             0.55  0.51   \n",
       "RPGR              X          38145389  A        C             0.56  0.06   \n",
       "PRAMEF10          1          12953147  A        G             0.56  0.38   \n",
       "TET3              2          74326472  C        T             0.57  0.31   \n",
       "MAGEC1            X          140994122 C        T             0.59  0.44   \n",
       "POTEI             2          131221692 T        C             0.67  1.00   \n",
       "AHNAK2            14         105412330 A        T             0.67  0.20   \n",
       "PRAMEF10          1          12953160  C        G             0.72  0.39   \n",
       "POTEI             2          131221663 G        A             0.73  0.93   \n",
       "                             131221668 G        A             0.89  1.00   \n",
       "VCX3B             X          8434251   G        A             0.91  0.64   \n",
       "BX072566.1        GL000213.1 138774    C        G             1.00  1.00   \n",
       "NRAS              1          115258747 C        T             1.00  1.00   \n",
       "XXbac-B33L19.11.1 22         20486674  A        G             1.00  1.00   \n",
       "AC008132.13.1     22         18835403  A        G             1.00  1.00   \n",
       "POTEF             2          130843529 T        C             1.00  1.00   \n",
       "OPN1LW            X          153418460 C        A             1.00  1.00   \n",
       "FAM22E            10         81604126  A        G             1.00  1.00   \n",
       "PHF6              X          133527949 C        T             1.00  1.00   \n",
       "AC012313.1        19         58916729  T        C             1.00  1.00   \n",
       "\n",
       "                                                           2AL   4BN   3BL  \n",
       "gene              chromosome position  ref_base alt_base                    \n",
       "GPS1              17         80014617  G        C         0.12  0.00  0.01  \n",
       "HAUS2             15         42853001  C        G         0.06  0.00  0.00  \n",
       "SH3BP1            22         38046210  C        G         0.00  0.01  0.13  \n",
       "GPRASP2           X          101970113 G        C         0.00  0.00  0.00  \n",
       "GOLGA6L6          15         20740295  A        T         1.00  1.00  1.00  \n",
       "SLITRK2           X          144904544 G        A         0.00  0.00  0.14  \n",
       "FTH1              11         61727295  C        A         0.12  0.00  0.02  \n",
       "                             61727275  A        C         0.23  0.01  0.01  \n",
       "FOXD4L5           9          70177494  C        G         0.20  0.08  0.06  \n",
       "SUSD2             22         24579157  G        T         0.05  0.09  0.02  \n",
       "FLNB              3          58064525  G        C         0.00  0.00  0.05  \n",
       "HDAC7             12         48192750  G        C         0.11  0.00  0.00  \n",
       "FLG               1          152281711 C        G         0.00  0.10  0.00  \n",
       "TCHH              1          152084627 C        G         0.06  0.11  0.12  \n",
       "ERN1              17         62141366  C        G         0.18  0.00  0.00  \n",
       "EIF5              14         103803541 C        G         0.07  0.00  0.23  \n",
       "DNAJC10           2          183616900 G        C         0.26  0.13  0.04  \n",
       "DLL1              6          170592911 C        T         0.00  0.00  0.10  \n",
       "TLR9              3          52256093  G        C         0.00  0.05  0.00  \n",
       "CXXC11            2          242815413 C        T         0.00  0.05  0.11  \n",
       "TNKS2             10         93596741  G        C         0.05  0.00  0.04  \n",
       "TNRC18            7          5413833   T        G         0.11  0.06  0.13  \n",
       "TRIM34            11         5664623   G        C         0.00  0.00  0.06  \n",
       "FAT1              4          187541901 G        A         0.00  0.00  0.06  \n",
       "CMYA5             5          79032516  G        A         0.08  0.02  0.03  \n",
       "RP11-571M6.6      12         58121247  T        C         0.01  0.00  0.10  \n",
       "KIF22             16         29816305  G        C         0.00  0.00  0.05  \n",
       "PKMYT1            16         3022712   C        G         0.00  0.00  0.09  \n",
       "PDE3A             12         20806930  G        C         0.02  0.06  0.00  \n",
       "PAN3              13         28752044  G        C         0.00  0.00  0.07  \n",
       "...                                                        ...   ...   ...  \n",
       "WDFY4             10         50184915  C        T         0.52  0.51  0.52  \n",
       "ETNK1             12         22811992  A        C         0.69  0.56  0.56  \n",
       "DCHS1             11         6643200   C        T         0.52  0.46  0.43  \n",
       "PSD3              8          18729301  T        G         0.59  0.56  0.46  \n",
       "PRAMEF16          1          13497572  G        A         0.54  0.43  0.70  \n",
       "                             13497584  C        T         0.54  0.43  0.70  \n",
       "TEX2              17         62290283  C        T         0.41  0.48  0.59  \n",
       "WDR66             12         122359227 G        A         0.43  0.49  0.46  \n",
       "GRIN2A            16         9943623   C        T         0.53  0.44  0.63  \n",
       "TRAV26-2          14         22670975  G        A         0.49  0.47  0.50  \n",
       "TXNDC5            6          7883412   G        A         0.55  0.46  0.50  \n",
       "RPGR              X          38145389  A        C         0.17  0.50  0.11  \n",
       "PRAMEF10          1          12953147  A        G         0.53  0.56  0.44  \n",
       "TET3              2          74326472  C        T         0.58  0.54  0.43  \n",
       "MAGEC1            X          140994122 C        T         0.64  0.50  0.53  \n",
       "POTEI             2          131221692 T        C         0.92  1.00  1.00  \n",
       "AHNAK2            14         105412330 A        T         0.17  0.20  0.25  \n",
       "PRAMEF10          1          12953160  C        G         0.57  0.55  0.50  \n",
       "POTEI             2          131221663 G        A         0.93  1.00  0.80  \n",
       "                             131221668 G        A         0.92  0.88  1.00  \n",
       "VCX3B             X          8434251   G        A         0.86  0.92  0.60  \n",
       "BX072566.1        GL000213.1 138774    C        G         1.00  0.86  0.92  \n",
       "NRAS              1          115258747 C        T         1.00  1.00  1.00  \n",
       "XXbac-B33L19.11.1 22         20486674  A        G         1.00  1.00  1.00  \n",
       "AC008132.13.1     22         18835403  A        G         1.00  1.00  1.00  \n",
       "POTEF             2          130843529 T        C         1.00  0.83  1.00  \n",
       "OPN1LW            X          153418460 C        A         1.00  1.00  1.00  \n",
       "FAM22E            10         81604126  A        G         0.90  1.00  1.00  \n",
       "PHF6              X          133527949 C        T         1.00  0.98  1.00  \n",
       "AC012313.1        19         58916729  T        C         1.00  1.00  0.90  \n",
       "\n",
       "[403 rows x 5 columns]"
      ]
     },
     "execution_count": 94,
     "metadata": {},
     "output_type": "execute_result"
    }
   ],
   "source": [
    "joined[['Leukemic' ,'2AN', '2AL', '4BN', '3BL']]"
   ]
  },
  {
   "cell_type": "code",
   "execution_count": null,
   "metadata": {
    "collapsed": true
   },
   "outputs": [],
   "source": []
  },
  {
   "cell_type": "code",
   "execution_count": null,
   "metadata": {
    "collapsed": true
   },
   "outputs": [],
   "source": []
  },
  {
   "cell_type": "code",
   "execution_count": null,
   "metadata": {
    "collapsed": true
   },
   "outputs": [],
   "source": []
  },
  {
   "cell_type": "code",
   "execution_count": null,
   "metadata": {
    "collapsed": true
   },
   "outputs": [],
   "source": []
  },
  {
   "cell_type": "code",
   "execution_count": null,
   "metadata": {
    "collapsed": true
   },
   "outputs": [],
   "source": []
  }
 ],
 "metadata": {
  "kernelspec": {
   "display_name": "Python 2",
   "language": "python",
   "name": "python2"
  },
  "language_info": {
   "codemirror_mode": {
    "name": "ipython",
    "version": 2
   },
   "file_extension": ".py",
   "mimetype": "text/x-python",
   "name": "python",
   "nbconvert_exporter": "python",
   "pygments_lexer": "ipython2",
   "version": "2.7.12"
  }
 },
 "nbformat": 4,
 "nbformat_minor": 0
}
