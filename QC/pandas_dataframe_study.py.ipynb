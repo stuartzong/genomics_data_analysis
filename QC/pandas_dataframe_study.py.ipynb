{
 "cells": [
  {
   "cell_type": "code",
   "execution_count": null,
   "metadata": {
    "collapsed": true
   },
   "outputs": [],
   "source": [
    "# below are code from tutorial 1"
   ]
  },
  {
   "cell_type": "code",
   "execution_count": 3,
   "metadata": {
    "collapsed": false
   },
   "outputs": [
    {
     "name": "stdout",
     "output_type": "stream",
     "text": [
      "                 Open       High        Low      Close    Volume  Adj Close\n",
      "Date                                                                       \n",
      "2010-01-04  68.720001  69.260002  68.190002  69.150002  27809100  57.203028\n",
      "2010-01-05  69.190002  69.449997  68.800003  69.419998  30174700  57.426378\n",
      "2010-01-06  69.449997  70.599998  69.339996  70.019997  35044700  57.922715\n",
      "2010-01-07  69.900002  70.059998  69.419998  69.800003  27192100  57.740730\n",
      "2010-01-08  69.690002  69.750000  69.220001  69.519997  24891800  57.509100\n"
     ]
    },
    {
     "data": {
      "image/png": "[encoded data removed]",
      "text/plain": [
       "<matplotlib.figure.Figure at 0x7fc97d58ae90>"
      ]
     },
     "metadata": {},
     "output_type": "display_data"
    }
   ],
   "source": [
    "import pandas as pd\n",
    "import datetime\n",
    "import pandas.io.data as web\n",
    "\n",
    "\n",
    "start = datetime.datetime(2010, 1, 1)\n",
    "end = datetime.datetime(2015, 8, 22)\n",
    "df = web.DataReader(\"XOM\", \"yahoo\", start, end)\n",
    "print(df.head())\n",
    "import matplotlib.pyplot as plt\n",
    "from matplotlib import style\n",
    "\n",
    "style.use('fivethirtyeight')\n",
    "df['High'].plot()\n",
    "plt.legend()\n",
    "plt.show()"
   ]
  },
  {
   "cell_type": "code",
   "execution_count": null,
   "metadata": {
    "collapsed": true
   },
   "outputs": [],
   "source": []
  },
  {
   "cell_type": "code",
   "execution_count": null,
   "metadata": {
    "collapsed": true
   },
   "outputs": [],
   "source": []
  },
  {
   "cell_type": "code",
   "execution_count": null,
   "metadata": {
    "collapsed": true
   },
   "outputs": [],
   "source": []
  },
  {
   "cell_type": "code",
   "execution_count": null,
   "metadata": {
    "collapsed": true
   },
   "outputs": [],
   "source": []
  },
  {
   "cell_type": "code",
   "execution_count": null,
   "metadata": {
    "collapsed": true
   },
   "outputs": [],
   "source": [
    "# below are tutorial 2"
   ]
  },
  {
   "cell_type": "code",
   "execution_count": 26,
   "metadata": {
    "collapsed": false
   },
   "outputs": [
    {
     "name": "stdout",
     "output_type": "stream",
     "text": [
      "   Bounce Rate  Day  Visitors\n",
      "0           65    1        43\n",
      "1           67    2        34\n",
      "2           78    3        65\n",
      "3           65    4        56\n",
      "4           45    5        29\n",
      "   Bounce Rate  Day  Visitors\n",
      "4           45    5        29\n",
      "5           52    6        76\n"
     ]
    }
   ],
   "source": [
    "web_stats = {'Day':[1,2,3,4,5,6],\n",
    "             'Visitors':[43,34,65,56,29,76],\n",
    "             'Bounce Rate':[65,67,78,65,45,52]}\n",
    "import pandas as pd\n",
    "\n",
    "web_stats = {'Day':[1,2,3,4,5,6],\n",
    "             'Visitors':[43,34,65,56,29,76],\n",
    "             'Bounce Rate':[65,67,78,65,45,52]}\n",
    "\n",
    "df = pd.DataFrame(web_stats)\n",
    "print(df.head())\n",
    "print(df.tail(2))\n",
    "# df = df.set_index('Day', inplace=True) wont work, set_index return nothing\n",
    "df.set_index('Day', inplace=True)\n",
    "import matplotlib.pyplot as plt\n",
    "from matplotlib import style\n"
   ]
  },
  {
   "cell_type": "code",
   "execution_count": null,
   "metadata": {
    "collapsed": true
   },
   "outputs": [],
   "source": []
  },
  {
   "cell_type": "code",
   "execution_count": 28,
   "metadata": {
    "collapsed": false
   },
   "outputs": [
    {
     "name": "stdout",
     "output_type": "stream",
     "text": [
      "     Bounce Rate  Visitors\n",
      "Day                       \n",
      "1             65        43\n",
      "2             67        34\n",
      "3             78        65\n",
      "4             65        56\n",
      "5             45        29\n"
     ]
    }
   ],
   "source": [
    "print(df.head())"
   ]
  },
  {
   "cell_type": "code",
   "execution_count": 32,
   "metadata": {
    "collapsed": false
   },
   "outputs": [
    {
     "name": "stdout",
     "output_type": "stream",
     "text": [
      "Day\n",
      "1    43\n",
      "2    34\n",
      "3    65\n",
      "4    56\n",
      "5    29\n",
      "6    76\n",
      "Name: Visitors, dtype: int64\n",
      "Day\n",
      "1    43\n",
      "2    34\n",
      "3    65\n",
      "4    56\n",
      "5    29\n",
      "6    76\n",
      "Name: Visitors, dtype: int64\n",
      "     Visitors  Bounce Rate\n",
      "Day                       \n",
      "1          43           65\n",
      "2          34           67\n",
      "3          65           78\n",
      "4          56           65\n",
      "5          29           45\n",
      "6          76           52\n"
     ]
    },
    {
     "data": {
      "image/png": "[encoded data removed]",
      "text/plain": [
       "<matplotlib.figure.Figure at 0x7fc97d45cfd0>"
      ]
     },
     "metadata": {},
     "output_type": "display_data"
    },
    {
     "data": {
      "image/png": "[encoded data removed]",
      "text/plain": [
       "<matplotlib.figure.Figure at 0x7fc97d28ee10>"
      ]
     },
     "metadata": {},
     "output_type": "display_data"
    }
   ],
   "source": [
    "style.use('fivethirtyeight')\n",
    "print(df['Visitors'])\n",
    "print(df.Visitors)\n",
    "print(df[['Visitors','Bounce Rate']])\n",
    "df['Visitors'].plot()\n",
    "plt.show()\n",
    "df.plot()\n",
    "plt.show()"
   ]
  },
  {
   "cell_type": "code",
   "execution_count": null,
   "metadata": {
    "collapsed": true
   },
   "outputs": [],
   "source": []
  },
  {
   "cell_type": "code",
   "execution_count": 46,
   "metadata": {
    "collapsed": false
   },
   "outputs": [
    {
     "name": "stdout",
     "output_type": "stream",
     "text": [
      "         Date     Value\n",
      "0  2016-06-30  481100.0\n",
      "1  2016-05-31  493800.0\n",
      "2  2015-12-31  514000.0\n",
      "3  2015-10-31  510700.0\n"
     ]
    }
   ],
   "source": [
    "import pandas as pd\n",
    "\n",
    "df = pd.read_csv('ZILL-Z91655_3B.csv')\n",
    "print(df.head())"
   ]
  },
  {
   "cell_type": "code",
   "execution_count": 47,
   "metadata": {
    "collapsed": true
   },
   "outputs": [],
   "source": [
    "df.set_index('Date', inplace = True)"
   ]
  },
  {
   "cell_type": "code",
   "execution_count": 48,
   "metadata": {
    "collapsed": false
   },
   "outputs": [
    {
     "name": "stdout",
     "output_type": "stream",
     "text": [
      "Date,Value\r\n",
      "2016-06-30,481100.0\r\n",
      "2016-05-31,493800.0\r\n",
      "2015-12-31,514000.0\r\n",
      "2015-10-31,510700.0\r\n"
     ]
    }
   ],
   "source": [
    "df.to_csv('newcsv2.csv')\n",
    "!cat newcsv2.csv"
   ]
  },
  {
   "cell_type": "code",
   "execution_count": null,
   "metadata": {
    "collapsed": true
   },
   "outputs": [],
   "source": []
  },
  {
   "cell_type": "code",
   "execution_count": null,
   "metadata": {
    "collapsed": true
   },
   "outputs": [],
   "source": []
  },
  {
   "cell_type": "code",
   "execution_count": null,
   "metadata": {
    "collapsed": true
   },
   "outputs": [],
   "source": []
  },
  {
   "cell_type": "code",
   "execution_count": 42,
   "metadata": {
    "collapsed": false
   },
   "outputs": [
    {
     "name": "stdout",
     "output_type": "stream",
     "text": [
      "2016-06-30,481100.0\r\n",
      "2016-05-31,493800.0\r\n",
      "2015-12-31,514000.0\r\n",
      "2015-10-31,510700.0\r\n"
     ]
    }
   ],
   "source": [
    "# df['Value'].to_csv('newcsv2.csv')\n",
    "# !cat newcsv2.csv"
   ]
  },
  {
   "cell_type": "code",
   "execution_count": 43,
   "metadata": {
    "collapsed": false
   },
   "outputs": [
    {
     "name": "stdout",
     "output_type": "stream",
     "text": [
      "   2016-06-30  481100.0\n",
      "0  2016-05-31  493800.0\n",
      "1  2015-12-31  514000.0\n",
      "2  2015-10-31  510700.0\n"
     ]
    }
   ],
   "source": [
    "# df = pd.read_csv('newcsv2.csv')\n",
    "# print(df.head())"
   ]
  },
  {
   "cell_type": "code",
   "execution_count": 50,
   "metadata": {
    "collapsed": false
   },
   "outputs": [
    {
     "name": "stdout",
     "output_type": "stream",
     "text": [
      "               Value\n",
      "Date                \n",
      "2016-06-30  481100.0\n",
      "2016-05-31  493800.0\n",
      "2015-12-31  514000.0\n",
      "2015-10-31  510700.0\n"
     ]
    }
   ],
   "source": [
    "df = pd.read_csv('newcsv2.csv', index_col=0)\n",
    "print(df.head())"
   ]
  },
  {
   "cell_type": "code",
   "execution_count": 52,
   "metadata": {
    "collapsed": false
   },
   "outputs": [
    {
     "name": "stdout",
     "output_type": "stream",
     "text": [
      "            House_Prices\n",
      "Date                    \n",
      "2016-06-30      481100.0\n",
      "2016-05-31      493800.0\n",
      "2015-12-31      514000.0\n",
      "2015-10-31      510700.0\n"
     ]
    }
   ],
   "source": [
    "df.columns = ['House_Prices']\n",
    "print(df.head())\n",
    "df.to_csv('newcsv3.csv')"
   ]
  },
  {
   "cell_type": "code",
   "execution_count": 54,
   "metadata": {
    "collapsed": false
   },
   "outputs": [
    {
     "name": "stdout",
     "output_type": "stream",
     "text": [
      "Date,House_Prices\r\n",
      "2016-06-30,481100.0\r\n",
      "2016-05-31,493800.0\r\n",
      "2015-12-31,514000.0\r\n",
      "2015-10-31,510700.0\r\n"
     ]
    }
   ],
   "source": [
    "!cat newcsv3.csv\n",
    "df.to_csv('newcsv4.csv', header=False)"
   ]
  },
  {
   "cell_type": "code",
   "execution_count": null,
   "metadata": {
    "collapsed": true
   },
   "outputs": [],
   "source": []
  },
  {
   "cell_type": "code",
   "execution_count": 55,
   "metadata": {
    "collapsed": false
   },
   "outputs": [
    {
     "name": "stdout",
     "output_type": "stream",
     "text": [
      "            House_Price\n",
      "Date                   \n",
      "2016-06-30     481100.0\n",
      "2016-05-31     493800.0\n",
      "2015-12-31     514000.0\n",
      "2015-10-31     510700.0\n"
     ]
    }
   ],
   "source": [
    "df = pd.read_csv('newcsv4.csv', names = ['Date','House_Price'], index_col=0)\n",
    "print(df.head())"
   ]
  },
  {
   "cell_type": "code",
   "execution_count": 56,
   "metadata": {
    "collapsed": true
   },
   "outputs": [],
   "source": [
    "df.to_html('example.html')"
   ]
  },
  {
   "cell_type": "code",
   "execution_count": 58,
   "metadata": {
    "collapsed": false
   },
   "outputs": [
    {
     "name": "stdout",
     "output_type": "stream",
     "text": [
      "<table border=\"1\" class=\"dataframe\">\r\n",
      "  <thead>\r\n",
      "    <tr style=\"text-align: right;\">\r\n",
      "      <th></th>\r\n",
      "      <th>House_Price</th>\r\n",
      "    </tr>\r\n",
      "    <tr>\r\n",
      "      <th>Date</th>\r\n",
      "      <th></th>\r\n",
      "    </tr>\r\n",
      "  </thead>\r\n",
      "  <tbody>\r\n",
      "    <tr>\r\n",
      "      <th>2016-06-30</th>\r\n",
      "      <td>481100.0</td>\r\n",
      "    </tr>\r\n",
      "    <tr>\r\n",
      "      <th>2016-05-31</th>\r\n",
      "      <td>493800.0</td>\r\n",
      "    </tr>\r\n",
      "    <tr>\r\n",
      "      <th>2015-12-31</th>\r\n",
      "      <td>514000.0</td>\r\n",
      "    </tr>\r\n",
      "    <tr>\r\n",
      "      <th>2015-10-31</th>\r\n",
      "      <td>510700.0</td>\r\n",
      "    </tr>\r\n",
      "  </tbody>\r\n",
      "</table>"
     ]
    }
   ],
   "source": [
    "!cat example.html"
   ]
  },
  {
   "cell_type": "code",
   "execution_count": 63,
   "metadata": {
    "collapsed": false
   },
   "outputs": [
    {
     "name": "stdout",
     "output_type": "stream",
     "text": [
      "         Date  House_Price\n",
      "0  2016-06-30     481100.0\n",
      "1  2016-05-31     493800.0\n",
      "2  2015-12-31     514000.0\n",
      "3  2015-10-31     510700.0\n",
      "         Date    Prices\n",
      "0  2016-06-30  481100.0\n",
      "1  2016-05-31  493800.0\n",
      "2  2015-12-31  514000.0\n",
      "3  2015-10-31  510700.0\n"
     ]
    }
   ],
   "source": [
    "df = pd.read_csv('newcsv4.csv', names = ['Date','House_Price'])\n",
    "print(df.head())\n",
    "\n",
    "df.rename(columns={'House_Price':'Prices'}, inplace=True)\n",
    "print(df.head())"
   ]
  },
  {
   "cell_type": "code",
   "execution_count": 64,
   "metadata": {
    "collapsed": false
   },
   "outputs": [
    {
     "ename": "ImportError",
     "evalue": "No module named Quandl",
     "output_type": "error",
     "traceback": [
      "\u001b[0;31m---------------------------------------------------------------------------\u001b[0m",
      "\u001b[0;31mImportError\u001b[0m                               Traceback (most recent call last)",
      "\u001b[0;32m<ipython-input-64-f73be308e486>\u001b[0m in \u001b[0;36m<module>\u001b[0;34m()\u001b[0m\n\u001b[0;32m----> 1\u001b[0;31m \u001b[0;32mimport\u001b[0m \u001b[0mQuandl\u001b[0m\u001b[0;34m\u001b[0m\u001b[0m\n\u001b[0m",
      "\u001b[0;31mImportError\u001b[0m: No module named Quandl"
     ]
    }
   ],
   "source": [
    "import Quandl"
   ]
  },
  {
   "cell_type": "code",
   "execution_count": null,
   "metadata": {
    "collapsed": true
   },
   "outputs": [],
   "source": [
    "\n",
    "\n",
    "import pandas as pd\n",
    "import matplotlib.pyplot as plt\n",
    "from matplotlib import style\n",
    "\n",
    "df = pd.read_csv('/projects/trans_scratch/validations/workspace/szong/Mick_Bhatia/variants/high_moderate_SNV_summary_with_normal.filtered.somatic.txt', \n",
    "                 sep='\\t')\n",
    "# subset data based on a column value \n",
    "df_4BN =df.loc[(df.patient_ID=='AML-16626_Xengraft-16-4BN'),['gene', 'chromosome', 'position', 'ref_base','alt_base', 't_DNA_AF']]\n",
    "df_4BN.set_index(['gene', 'chromosome', 'position', 'ref_base','alt_base'], inplace=True)\n",
    "df_4BN = df_4BN.rename(columns = {'t_DNA_AF':'4BN'})\n",
    "print(df_4BN.head())\n",
    "\n",
    "# subset data based on a column value \n",
    "df_Leukemic =df.loc[(df.patient_ID=='AML-16626_Leukemic-blast'),['gene', 'chromosome', 'position', 'ref_base','alt_base', 't_DNA_AF']]\n",
    "df_Leukemic.set_index(['gene', 'chromosome', 'position', 'ref_base','alt_base'], inplace=True)\n",
    "df_Leukemic = df_Leukemic.rename(columns = {'t_DNA_AF':'Leukemic'})\n",
    "print(df_Leukemic.head())\n",
    "\n",
    "# subset data based on a column value \n",
    "df_2AL =df.loc[(df.patient_ID=='AML-16626_Xenograft-16-2AL'),['gene', 'chromosome', 'position', 'ref_base','alt_base', 't_DNA_AF']]\n",
    "df_2AL.set_index(['gene', 'chromosome', 'position', 'ref_base','alt_base'], inplace=True)\n",
    "df_2AL = df_2AL.rename(columns = {'t_DNA_AF':'2AL'})\n",
    "print(df_2AL.head())\n",
    "\n",
    "# subset data based on a column value \n",
    "df_2AL =df.loc[(df.patient_ID=='AML-16626_Xenograft-16-2AL'),['gene', 'chromosome', 'position', 'ref_base','alt_base', 't_DNA_AF']]\n",
    "df_2AL.set_index(['gene', 'chromosome', 'position', 'ref_base','alt_base'], inplace=True)\n",
    "df_2AL = df_2AL.rename(columns = {'t_DNA_AF':'2AL'})\n",
    "print(df_2AL.head())\n",
    "\n",
    "# subset data based on a column value \n",
    "df_2AL =df.loc[(df.patient_ID=='AML-16626_Xenograft-16-2AL'),['gene', 'chromosome', 'position', 'ref_base','alt_base', 't_DNA_AF']]\n",
    "df_2AL.set_index(['gene', 'chromosome', 'position', 'ref_base','alt_base'], inplace=True)\n",
    "df_2AL = df_2AL.rename(columns = {'t_DNA_AF':'2AL'})\n",
    "print(df_2AL.head())\n",
    "\n",
    "\n",
    "# df1.t_DNA_AF.plot()\n",
    "# plt.legend()\n",
    "# plt.show()"
   ]
  },
  {
   "cell_type": "code",
   "execution_count": null,
   "metadata": {
    "collapsed": true
   },
   "outputs": [],
   "source": [
    "joined = df_Leukemic.join(df_2AL, how='outer')\n",
    "joined = joined.join(df_4BN, how='outer')\n",
    "joined = joined.sort_values(['2AL', '4BN', 'Leukemic'])\n",
    "joined.plot(linestyle='-', linewidth=1)\n",
    "plt.xticks(rotation='vertical', fontsize=8)\n",
    "plt.show()"
   ]
  },
  {
   "cell_type": "code",
   "execution_count": null,
   "metadata": {
    "collapsed": true
   },
   "outputs": [],
   "source": []
  },
  {
   "cell_type": "code",
   "execution_count": null,
   "metadata": {
    "collapsed": true
   },
   "outputs": [],
   "source": []
  },
  {
   "cell_type": "code",
   "execution_count": null,
   "metadata": {
    "collapsed": true
   },
   "outputs": [],
   "source": []
  }
 ],
 "metadata": {
  "kernelspec": {
   "display_name": "Python 2",
   "language": "python",
   "name": "python2"
  },
  "language_info": {
   "codemirror_mode": {
    "name": "ipython",
    "version": 2
   },
   "file_extension": ".py",
   "mimetype": "text/x-python",
   "name": "python",
   "nbconvert_exporter": "python",
   "pygments_lexer": "ipython2",
   "version": "2.7.12"
  }
 },
 "nbformat": 4,
 "nbformat_minor": 0
}
