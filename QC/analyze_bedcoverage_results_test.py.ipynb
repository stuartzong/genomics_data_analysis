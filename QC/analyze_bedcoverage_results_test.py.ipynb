{
 "cells": [
  {
   "cell_type": "code",
   "execution_count": 180,
   "metadata": {
    "collapsed": false
   },
   "outputs": [],
   "source": [
    "import os\n",
    "import re\n",
    "import datetime\n",
    "import tempfile\n",
    " \n",
    "import numpy as np\n",
    "import pandas as pd\n",
    "#import scipy.optimize as spo\n",
    "import matplotlib.pyplot as plt\n",
    "from matplotlib import style\n",
    "style.use('ggplot')\n",
    "\n",
    "\n",
    "web_stat = {'Day':[1,2,3,4,5],\n",
    "           'Visitors':[11,22,33,44,55],\n",
    "           'Bounce_rate':[50,60,70,55,77]}\n",
    "df = pd.DataFrame(web_stat)\n",
    "df.set_index('Day', inplace=True)\n",
    "df.Visitors\n",
    "# convert series to a list\n",
    "df.Visitors.tolist()\n",
    "# access multiple columns\n",
    "df[['Visitors', 'Bounce_rate']]\n",
    "# convert data frame to a list\n",
    "np.array(df[['Visitors', 'Bounce_rate']])\n",
    "df2 = pd.DataFrame(np.array(df[['Visitors', 'Bounce_rate']]))\n",
    "\n",
    "df = pd.read_csv('/home/szong/projects/development/coverage/coverage.txt.test',\n",
    "                   sep='\\t',\n",
    "                   index_col='position',\n",
    "                   #usecols=['coverage'], \n",
    "                   na_values=['nan'])"
   ]
  },
  {
   "cell_type": "code",
   "execution_count": 181,
   "metadata": {
    "collapsed": false
   },
   "outputs": [
    {
     "data": {
      "text/html": [
       "<div>\n",
       "<table border=\"1\" class=\"dataframe\">\n",
       "  <thead>\n",
       "    <tr style=\"text-align: right;\">\n",
       "      <th></th>\n",
       "      <th>TARGET-20-PABLDZ-04A-02D.Relapse.A42746</th>\n",
       "      <th>TARGET-20-PABLDZ-09A-02D.Primary.A41853</th>\n",
       "      <th>TARGET-20-PADYIR-04A-02D.Relapse.A42733</th>\n",
       "      <th>TARGET-20-PADYIR-09A-01D.Primary.A41847</th>\n",
       "      <th>TARGET-20-PADYIR-14A-01D.Remission.A42640</th>\n",
       "      <th>TARGET-20-PADZCG-04A-02D.Relapse.A42732</th>\n",
       "      <th>TARGET-20-PADZCG-14A-01D.Remission.A42641</th>\n",
       "      <th>TARGET-20-PAEAKL-09A-02D.Primary.A41899</th>\n",
       "      <th>TARGET-20-PAECCE-04A-02D.Relapse.A42731</th>\n",
       "      <th>TARGET-20-PAECCE-09A-01D.Primary.A41849</th>\n",
       "      <th>...</th>\n",
       "      <th>TARGET-20-PATMFM-14A-01D.Remission.A42593</th>\n",
       "      <th>TARGET-20-PATMFW-04A-01D.Relapse.A42219</th>\n",
       "      <th>TARGET-20-PATMFW-09A-01D.Primary.A33343</th>\n",
       "      <th>TARGET-20-PATMFW-14A-01D.Remission.A42941</th>\n",
       "      <th>TARGET-20-PATMIK-09A-01D.Primary.A33350</th>\n",
       "      <th>TARGET-20-PATMIK-10A-01D.Remission.A41657</th>\n",
       "      <th>TARGET-20-PATMMC-09A-01D.Primary.A33351</th>\n",
       "      <th>TARGET-20-PATMNT-09A-01D.Primary.A41717</th>\n",
       "      <th>TARGET-20-PATMNY-09A-01D.Primary.A33352</th>\n",
       "      <th>TARGET-20-PATMNY-10A-01D.Remission.A41656</th>\n",
       "    </tr>\n",
       "    <tr>\n",
       "      <th>position</th>\n",
       "      <th></th>\n",
       "      <th></th>\n",
       "      <th></th>\n",
       "      <th></th>\n",
       "      <th></th>\n",
       "      <th></th>\n",
       "      <th></th>\n",
       "      <th></th>\n",
       "      <th></th>\n",
       "      <th></th>\n",
       "      <th></th>\n",
       "      <th></th>\n",
       "      <th></th>\n",
       "      <th></th>\n",
       "      <th></th>\n",
       "      <th></th>\n",
       "      <th></th>\n",
       "      <th></th>\n",
       "      <th></th>\n",
       "      <th></th>\n",
       "      <th></th>\n",
       "    </tr>\n",
       "  </thead>\n",
       "  <tbody>\n",
       "    <tr>\n",
       "      <th>0</th>\n",
       "      <td>0</td>\n",
       "      <td>0</td>\n",
       "      <td>0</td>\n",
       "      <td>0</td>\n",
       "      <td>0</td>\n",
       "      <td>0</td>\n",
       "      <td>0</td>\n",
       "      <td>0</td>\n",
       "      <td>1</td>\n",
       "      <td>0</td>\n",
       "      <td>...</td>\n",
       "      <td>0</td>\n",
       "      <td>0</td>\n",
       "      <td>0</td>\n",
       "      <td>0</td>\n",
       "      <td>0</td>\n",
       "      <td>0</td>\n",
       "      <td>0</td>\n",
       "      <td>0</td>\n",
       "      <td>0</td>\n",
       "      <td>0</td>\n",
       "    </tr>\n",
       "    <tr>\n",
       "      <th>1</th>\n",
       "      <td>0</td>\n",
       "      <td>0</td>\n",
       "      <td>0</td>\n",
       "      <td>0</td>\n",
       "      <td>0</td>\n",
       "      <td>0</td>\n",
       "      <td>0</td>\n",
       "      <td>0</td>\n",
       "      <td>1</td>\n",
       "      <td>0</td>\n",
       "      <td>...</td>\n",
       "      <td>0</td>\n",
       "      <td>0</td>\n",
       "      <td>0</td>\n",
       "      <td>0</td>\n",
       "      <td>0</td>\n",
       "      <td>0</td>\n",
       "      <td>0</td>\n",
       "      <td>0</td>\n",
       "      <td>0</td>\n",
       "      <td>0</td>\n",
       "    </tr>\n",
       "    <tr>\n",
       "      <th>2</th>\n",
       "      <td>0</td>\n",
       "      <td>0</td>\n",
       "      <td>0</td>\n",
       "      <td>0</td>\n",
       "      <td>0</td>\n",
       "      <td>0</td>\n",
       "      <td>0</td>\n",
       "      <td>0</td>\n",
       "      <td>1</td>\n",
       "      <td>0</td>\n",
       "      <td>...</td>\n",
       "      <td>0</td>\n",
       "      <td>0</td>\n",
       "      <td>0</td>\n",
       "      <td>0</td>\n",
       "      <td>0</td>\n",
       "      <td>0</td>\n",
       "      <td>0</td>\n",
       "      <td>0</td>\n",
       "      <td>0</td>\n",
       "      <td>0</td>\n",
       "    </tr>\n",
       "    <tr>\n",
       "      <th>3</th>\n",
       "      <td>0</td>\n",
       "      <td>0</td>\n",
       "      <td>0</td>\n",
       "      <td>0</td>\n",
       "      <td>0</td>\n",
       "      <td>0</td>\n",
       "      <td>0</td>\n",
       "      <td>0</td>\n",
       "      <td>1</td>\n",
       "      <td>0</td>\n",
       "      <td>...</td>\n",
       "      <td>0</td>\n",
       "      <td>0</td>\n",
       "      <td>0</td>\n",
       "      <td>0</td>\n",
       "      <td>0</td>\n",
       "      <td>0</td>\n",
       "      <td>0</td>\n",
       "      <td>0</td>\n",
       "      <td>0</td>\n",
       "      <td>0</td>\n",
       "    </tr>\n",
       "    <tr>\n",
       "      <th>4</th>\n",
       "      <td>0</td>\n",
       "      <td>0</td>\n",
       "      <td>0</td>\n",
       "      <td>0</td>\n",
       "      <td>0</td>\n",
       "      <td>0</td>\n",
       "      <td>0</td>\n",
       "      <td>0</td>\n",
       "      <td>1</td>\n",
       "      <td>0</td>\n",
       "      <td>...</td>\n",
       "      <td>0</td>\n",
       "      <td>0</td>\n",
       "      <td>0</td>\n",
       "      <td>0</td>\n",
       "      <td>0</td>\n",
       "      <td>0</td>\n",
       "      <td>0</td>\n",
       "      <td>0</td>\n",
       "      <td>0</td>\n",
       "      <td>0</td>\n",
       "    </tr>\n",
       "    <tr>\n",
       "      <th>5</th>\n",
       "      <td>0</td>\n",
       "      <td>0</td>\n",
       "      <td>0</td>\n",
       "      <td>0</td>\n",
       "      <td>0</td>\n",
       "      <td>0</td>\n",
       "      <td>0</td>\n",
       "      <td>0</td>\n",
       "      <td>1</td>\n",
       "      <td>0</td>\n",
       "      <td>...</td>\n",
       "      <td>0</td>\n",
       "      <td>0</td>\n",
       "      <td>0</td>\n",
       "      <td>0</td>\n",
       "      <td>0</td>\n",
       "      <td>0</td>\n",
       "      <td>0</td>\n",
       "      <td>0</td>\n",
       "      <td>0</td>\n",
       "      <td>0</td>\n",
       "    </tr>\n",
       "    <tr>\n",
       "      <th>6</th>\n",
       "      <td>0</td>\n",
       "      <td>0</td>\n",
       "      <td>0</td>\n",
       "      <td>0</td>\n",
       "      <td>0</td>\n",
       "      <td>0</td>\n",
       "      <td>0</td>\n",
       "      <td>0</td>\n",
       "      <td>1</td>\n",
       "      <td>0</td>\n",
       "      <td>...</td>\n",
       "      <td>0</td>\n",
       "      <td>0</td>\n",
       "      <td>0</td>\n",
       "      <td>0</td>\n",
       "      <td>0</td>\n",
       "      <td>0</td>\n",
       "      <td>0</td>\n",
       "      <td>0</td>\n",
       "      <td>0</td>\n",
       "      <td>0</td>\n",
       "    </tr>\n",
       "    <tr>\n",
       "      <th>7</th>\n",
       "      <td>0</td>\n",
       "      <td>0</td>\n",
       "      <td>0</td>\n",
       "      <td>0</td>\n",
       "      <td>0</td>\n",
       "      <td>0</td>\n",
       "      <td>0</td>\n",
       "      <td>0</td>\n",
       "      <td>1</td>\n",
       "      <td>0</td>\n",
       "      <td>...</td>\n",
       "      <td>0</td>\n",
       "      <td>0</td>\n",
       "      <td>0</td>\n",
       "      <td>0</td>\n",
       "      <td>0</td>\n",
       "      <td>0</td>\n",
       "      <td>0</td>\n",
       "      <td>0</td>\n",
       "      <td>0</td>\n",
       "      <td>0</td>\n",
       "    </tr>\n",
       "    <tr>\n",
       "      <th>8</th>\n",
       "      <td>0</td>\n",
       "      <td>0</td>\n",
       "      <td>0</td>\n",
       "      <td>0</td>\n",
       "      <td>0</td>\n",
       "      <td>0</td>\n",
       "      <td>0</td>\n",
       "      <td>0</td>\n",
       "      <td>1</td>\n",
       "      <td>0</td>\n",
       "      <td>...</td>\n",
       "      <td>0</td>\n",
       "      <td>0</td>\n",
       "      <td>0</td>\n",
       "      <td>0</td>\n",
       "      <td>1</td>\n",
       "      <td>0</td>\n",
       "      <td>0</td>\n",
       "      <td>0</td>\n",
       "      <td>0</td>\n",
       "      <td>0</td>\n",
       "    </tr>\n",
       "  </tbody>\n",
       "</table>\n",
       "<p>9 rows × 1595 columns</p>\n",
       "</div>"
      ],
      "text/plain": [
       "          TARGET-20-PABLDZ-04A-02D.Relapse.A42746  \\\n",
       "position                                            \n",
       "0                                               0   \n",
       "1                                               0   \n",
       "2                                               0   \n",
       "3                                               0   \n",
       "4                                               0   \n",
       "5                                               0   \n",
       "6                                               0   \n",
       "7                                               0   \n",
       "8                                               0   \n",
       "\n",
       "          TARGET-20-PABLDZ-09A-02D.Primary.A41853  \\\n",
       "position                                            \n",
       "0                                               0   \n",
       "1                                               0   \n",
       "2                                               0   \n",
       "3                                               0   \n",
       "4                                               0   \n",
       "5                                               0   \n",
       "6                                               0   \n",
       "7                                               0   \n",
       "8                                               0   \n",
       "\n",
       "          TARGET-20-PADYIR-04A-02D.Relapse.A42733  \\\n",
       "position                                            \n",
       "0                                               0   \n",
       "1                                               0   \n",
       "2                                               0   \n",
       "3                                               0   \n",
       "4                                               0   \n",
       "5                                               0   \n",
       "6                                               0   \n",
       "7                                               0   \n",
       "8                                               0   \n",
       "\n",
       "          TARGET-20-PADYIR-09A-01D.Primary.A41847  \\\n",
       "position                                            \n",
       "0                                               0   \n",
       "1                                               0   \n",
       "2                                               0   \n",
       "3                                               0   \n",
       "4                                               0   \n",
       "5                                               0   \n",
       "6                                               0   \n",
       "7                                               0   \n",
       "8                                               0   \n",
       "\n",
       "          TARGET-20-PADYIR-14A-01D.Remission.A42640  \\\n",
       "position                                              \n",
       "0                                                 0   \n",
       "1                                                 0   \n",
       "2                                                 0   \n",
       "3                                                 0   \n",
       "4                                                 0   \n",
       "5                                                 0   \n",
       "6                                                 0   \n",
       "7                                                 0   \n",
       "8                                                 0   \n",
       "\n",
       "          TARGET-20-PADZCG-04A-02D.Relapse.A42732  \\\n",
       "position                                            \n",
       "0                                               0   \n",
       "1                                               0   \n",
       "2                                               0   \n",
       "3                                               0   \n",
       "4                                               0   \n",
       "5                                               0   \n",
       "6                                               0   \n",
       "7                                               0   \n",
       "8                                               0   \n",
       "\n",
       "          TARGET-20-PADZCG-14A-01D.Remission.A42641  \\\n",
       "position                                              \n",
       "0                                                 0   \n",
       "1                                                 0   \n",
       "2                                                 0   \n",
       "3                                                 0   \n",
       "4                                                 0   \n",
       "5                                                 0   \n",
       "6                                                 0   \n",
       "7                                                 0   \n",
       "8                                                 0   \n",
       "\n",
       "          TARGET-20-PAEAKL-09A-02D.Primary.A41899  \\\n",
       "position                                            \n",
       "0                                               0   \n",
       "1                                               0   \n",
       "2                                               0   \n",
       "3                                               0   \n",
       "4                                               0   \n",
       "5                                               0   \n",
       "6                                               0   \n",
       "7                                               0   \n",
       "8                                               0   \n",
       "\n",
       "          TARGET-20-PAECCE-04A-02D.Relapse.A42731  \\\n",
       "position                                            \n",
       "0                                               1   \n",
       "1                                               1   \n",
       "2                                               1   \n",
       "3                                               1   \n",
       "4                                               1   \n",
       "5                                               1   \n",
       "6                                               1   \n",
       "7                                               1   \n",
       "8                                               1   \n",
       "\n",
       "          TARGET-20-PAECCE-09A-01D.Primary.A41849  \\\n",
       "position                                            \n",
       "0                                               0   \n",
       "1                                               0   \n",
       "2                                               0   \n",
       "3                                               0   \n",
       "4                                               0   \n",
       "5                                               0   \n",
       "6                                               0   \n",
       "7                                               0   \n",
       "8                                               0   \n",
       "\n",
       "                            ...                      \\\n",
       "position                    ...                       \n",
       "0                           ...                       \n",
       "1                           ...                       \n",
       "2                           ...                       \n",
       "3                           ...                       \n",
       "4                           ...                       \n",
       "5                           ...                       \n",
       "6                           ...                       \n",
       "7                           ...                       \n",
       "8                           ...                       \n",
       "\n",
       "          TARGET-20-PATMFM-14A-01D.Remission.A42593  \\\n",
       "position                                              \n",
       "0                                                 0   \n",
       "1                                                 0   \n",
       "2                                                 0   \n",
       "3                                                 0   \n",
       "4                                                 0   \n",
       "5                                                 0   \n",
       "6                                                 0   \n",
       "7                                                 0   \n",
       "8                                                 0   \n",
       "\n",
       "          TARGET-20-PATMFW-04A-01D.Relapse.A42219  \\\n",
       "position                                            \n",
       "0                                               0   \n",
       "1                                               0   \n",
       "2                                               0   \n",
       "3                                               0   \n",
       "4                                               0   \n",
       "5                                               0   \n",
       "6                                               0   \n",
       "7                                               0   \n",
       "8                                               0   \n",
       "\n",
       "          TARGET-20-PATMFW-09A-01D.Primary.A33343  \\\n",
       "position                                            \n",
       "0                                               0   \n",
       "1                                               0   \n",
       "2                                               0   \n",
       "3                                               0   \n",
       "4                                               0   \n",
       "5                                               0   \n",
       "6                                               0   \n",
       "7                                               0   \n",
       "8                                               0   \n",
       "\n",
       "          TARGET-20-PATMFW-14A-01D.Remission.A42941  \\\n",
       "position                                              \n",
       "0                                                 0   \n",
       "1                                                 0   \n",
       "2                                                 0   \n",
       "3                                                 0   \n",
       "4                                                 0   \n",
       "5                                                 0   \n",
       "6                                                 0   \n",
       "7                                                 0   \n",
       "8                                                 0   \n",
       "\n",
       "          TARGET-20-PATMIK-09A-01D.Primary.A33350  \\\n",
       "position                                            \n",
       "0                                               0   \n",
       "1                                               0   \n",
       "2                                               0   \n",
       "3                                               0   \n",
       "4                                               0   \n",
       "5                                               0   \n",
       "6                                               0   \n",
       "7                                               0   \n",
       "8                                               1   \n",
       "\n",
       "          TARGET-20-PATMIK-10A-01D.Remission.A41657  \\\n",
       "position                                              \n",
       "0                                                 0   \n",
       "1                                                 0   \n",
       "2                                                 0   \n",
       "3                                                 0   \n",
       "4                                                 0   \n",
       "5                                                 0   \n",
       "6                                                 0   \n",
       "7                                                 0   \n",
       "8                                                 0   \n",
       "\n",
       "          TARGET-20-PATMMC-09A-01D.Primary.A33351  \\\n",
       "position                                            \n",
       "0                                               0   \n",
       "1                                               0   \n",
       "2                                               0   \n",
       "3                                               0   \n",
       "4                                               0   \n",
       "5                                               0   \n",
       "6                                               0   \n",
       "7                                               0   \n",
       "8                                               0   \n",
       "\n",
       "          TARGET-20-PATMNT-09A-01D.Primary.A41717  \\\n",
       "position                                            \n",
       "0                                               0   \n",
       "1                                               0   \n",
       "2                                               0   \n",
       "3                                               0   \n",
       "4                                               0   \n",
       "5                                               0   \n",
       "6                                               0   \n",
       "7                                               0   \n",
       "8                                               0   \n",
       "\n",
       "          TARGET-20-PATMNY-09A-01D.Primary.A33352  \\\n",
       "position                                            \n",
       "0                                               0   \n",
       "1                                               0   \n",
       "2                                               0   \n",
       "3                                               0   \n",
       "4                                               0   \n",
       "5                                               0   \n",
       "6                                               0   \n",
       "7                                               0   \n",
       "8                                               0   \n",
       "\n",
       "          TARGET-20-PATMNY-10A-01D.Remission.A41656  \n",
       "position                                             \n",
       "0                                                 0  \n",
       "1                                                 0  \n",
       "2                                                 0  \n",
       "3                                                 0  \n",
       "4                                                 0  \n",
       "5                                                 0  \n",
       "6                                                 0  \n",
       "7                                                 0  \n",
       "8                                                 0  \n",
       "\n",
       "[9 rows x 1595 columns]"
      ]
     },
     "execution_count": 181,
     "metadata": {},
     "output_type": "execute_result"
    }
   ],
   "source": [
    "df\n"
   ]
  },
  {
   "cell_type": "code",
   "execution_count": 141,
   "metadata": {
    "collapsed": false
   },
   "outputs": [],
   "source": [
    "  df = pd.read_csv('/home/szong/projects/development/coverage/coverage.txt.test',\n",
    "                   sep='\\t',\n",
    "                   index_col='position',\n",
    "                   #usecols=['coverage'], \n",
    "                   na_values=['nan'])"
   ]
  },
  {
   "cell_type": "code",
   "execution_count": 144,
   "metadata": {
    "collapsed": false
   },
   "outputs": [
    {
     "data": {
      "text/html": [
       "<div>\n",
       "<table border=\"1\" class=\"dataframe\">\n",
       "  <thead>\n",
       "    <tr style=\"text-align: right;\">\n",
       "      <th></th>\n",
       "      <th>TARGET-20-PABLDZ-04A-02D.Relapse.A42746</th>\n",
       "      <th>TARGET-20-PABLDZ-09A-02D.Primary.A41853</th>\n",
       "      <th>TARGET-20-PADYIR-04A-02D.Relapse.A42733</th>\n",
       "      <th>TARGET-20-PADYIR-09A-01D.Primary.A41847</th>\n",
       "      <th>TARGET-20-PADYIR-14A-01D.Remission.A42640</th>\n",
       "      <th>TARGET-20-PADZCG-04A-02D.Relapse.A42732</th>\n",
       "      <th>TARGET-20-PADZCG-14A-01D.Remission.A42641</th>\n",
       "      <th>TARGET-20-PAEAKL-09A-02D.Primary.A41899</th>\n",
       "      <th>TARGET-20-PAECCE-04A-02D.Relapse.A42731</th>\n",
       "      <th>TARGET-20-PAECCE-09A-01D.Primary.A41849</th>\n",
       "      <th>...</th>\n",
       "      <th>TARGET-20-PATMFM-14A-01D.Remission.A42593</th>\n",
       "      <th>TARGET-20-PATMFW-04A-01D.Relapse.A42219</th>\n",
       "      <th>TARGET-20-PATMFW-09A-01D.Primary.A33343</th>\n",
       "      <th>TARGET-20-PATMFW-14A-01D.Remission.A42941</th>\n",
       "      <th>TARGET-20-PATMIK-09A-01D.Primary.A33350</th>\n",
       "      <th>TARGET-20-PATMIK-10A-01D.Remission.A41657</th>\n",
       "      <th>TARGET-20-PATMMC-09A-01D.Primary.A33351</th>\n",
       "      <th>TARGET-20-PATMNT-09A-01D.Primary.A41717</th>\n",
       "      <th>TARGET-20-PATMNY-09A-01D.Primary.A33352</th>\n",
       "      <th>TARGET-20-PATMNY-10A-01D.Remission.A41656</th>\n",
       "    </tr>\n",
       "    <tr>\n",
       "      <th>position</th>\n",
       "      <th></th>\n",
       "      <th></th>\n",
       "      <th></th>\n",
       "      <th></th>\n",
       "      <th></th>\n",
       "      <th></th>\n",
       "      <th></th>\n",
       "      <th></th>\n",
       "      <th></th>\n",
       "      <th></th>\n",
       "      <th></th>\n",
       "      <th></th>\n",
       "      <th></th>\n",
       "      <th></th>\n",
       "      <th></th>\n",
       "      <th></th>\n",
       "      <th></th>\n",
       "      <th></th>\n",
       "      <th></th>\n",
       "      <th></th>\n",
       "      <th></th>\n",
       "    </tr>\n",
       "  </thead>\n",
       "  <tbody>\n",
       "    <tr>\n",
       "      <th>0</th>\n",
       "      <td>0</td>\n",
       "      <td>0</td>\n",
       "      <td>0</td>\n",
       "      <td>0</td>\n",
       "      <td>0</td>\n",
       "      <td>0</td>\n",
       "      <td>0</td>\n",
       "      <td>0</td>\n",
       "      <td>1</td>\n",
       "      <td>0</td>\n",
       "      <td>...</td>\n",
       "      <td>0</td>\n",
       "      <td>0</td>\n",
       "      <td>0</td>\n",
       "      <td>0</td>\n",
       "      <td>0</td>\n",
       "      <td>0</td>\n",
       "      <td>0</td>\n",
       "      <td>0</td>\n",
       "      <td>0</td>\n",
       "      <td>0</td>\n",
       "    </tr>\n",
       "    <tr>\n",
       "      <th>1</th>\n",
       "      <td>0</td>\n",
       "      <td>0</td>\n",
       "      <td>0</td>\n",
       "      <td>0</td>\n",
       "      <td>0</td>\n",
       "      <td>0</td>\n",
       "      <td>0</td>\n",
       "      <td>0</td>\n",
       "      <td>1</td>\n",
       "      <td>0</td>\n",
       "      <td>...</td>\n",
       "      <td>0</td>\n",
       "      <td>0</td>\n",
       "      <td>0</td>\n",
       "      <td>0</td>\n",
       "      <td>0</td>\n",
       "      <td>0</td>\n",
       "      <td>0</td>\n",
       "      <td>0</td>\n",
       "      <td>0</td>\n",
       "      <td>0</td>\n",
       "    </tr>\n",
       "    <tr>\n",
       "      <th>2</th>\n",
       "      <td>0</td>\n",
       "      <td>0</td>\n",
       "      <td>0</td>\n",
       "      <td>0</td>\n",
       "      <td>0</td>\n",
       "      <td>0</td>\n",
       "      <td>0</td>\n",
       "      <td>0</td>\n",
       "      <td>1</td>\n",
       "      <td>0</td>\n",
       "      <td>...</td>\n",
       "      <td>0</td>\n",
       "      <td>0</td>\n",
       "      <td>0</td>\n",
       "      <td>0</td>\n",
       "      <td>0</td>\n",
       "      <td>0</td>\n",
       "      <td>0</td>\n",
       "      <td>0</td>\n",
       "      <td>0</td>\n",
       "      <td>0</td>\n",
       "    </tr>\n",
       "    <tr>\n",
       "      <th>3</th>\n",
       "      <td>0</td>\n",
       "      <td>0</td>\n",
       "      <td>0</td>\n",
       "      <td>0</td>\n",
       "      <td>0</td>\n",
       "      <td>0</td>\n",
       "      <td>0</td>\n",
       "      <td>0</td>\n",
       "      <td>1</td>\n",
       "      <td>0</td>\n",
       "      <td>...</td>\n",
       "      <td>0</td>\n",
       "      <td>0</td>\n",
       "      <td>0</td>\n",
       "      <td>0</td>\n",
       "      <td>0</td>\n",
       "      <td>0</td>\n",
       "      <td>0</td>\n",
       "      <td>0</td>\n",
       "      <td>0</td>\n",
       "      <td>0</td>\n",
       "    </tr>\n",
       "    <tr>\n",
       "      <th>4</th>\n",
       "      <td>0</td>\n",
       "      <td>0</td>\n",
       "      <td>0</td>\n",
       "      <td>0</td>\n",
       "      <td>0</td>\n",
       "      <td>0</td>\n",
       "      <td>0</td>\n",
       "      <td>0</td>\n",
       "      <td>1</td>\n",
       "      <td>0</td>\n",
       "      <td>...</td>\n",
       "      <td>0</td>\n",
       "      <td>0</td>\n",
       "      <td>0</td>\n",
       "      <td>0</td>\n",
       "      <td>0</td>\n",
       "      <td>0</td>\n",
       "      <td>0</td>\n",
       "      <td>0</td>\n",
       "      <td>0</td>\n",
       "      <td>0</td>\n",
       "    </tr>\n",
       "  </tbody>\n",
       "</table>\n",
       "<p>5 rows × 1595 columns</p>\n",
       "</div>"
      ],
      "text/plain": [
       "          TARGET-20-PABLDZ-04A-02D.Relapse.A42746  \\\n",
       "position                                            \n",
       "0                                               0   \n",
       "1                                               0   \n",
       "2                                               0   \n",
       "3                                               0   \n",
       "4                                               0   \n",
       "\n",
       "          TARGET-20-PABLDZ-09A-02D.Primary.A41853  \\\n",
       "position                                            \n",
       "0                                               0   \n",
       "1                                               0   \n",
       "2                                               0   \n",
       "3                                               0   \n",
       "4                                               0   \n",
       "\n",
       "          TARGET-20-PADYIR-04A-02D.Relapse.A42733  \\\n",
       "position                                            \n",
       "0                                               0   \n",
       "1                                               0   \n",
       "2                                               0   \n",
       "3                                               0   \n",
       "4                                               0   \n",
       "\n",
       "          TARGET-20-PADYIR-09A-01D.Primary.A41847  \\\n",
       "position                                            \n",
       "0                                               0   \n",
       "1                                               0   \n",
       "2                                               0   \n",
       "3                                               0   \n",
       "4                                               0   \n",
       "\n",
       "          TARGET-20-PADYIR-14A-01D.Remission.A42640  \\\n",
       "position                                              \n",
       "0                                                 0   \n",
       "1                                                 0   \n",
       "2                                                 0   \n",
       "3                                                 0   \n",
       "4                                                 0   \n",
       "\n",
       "          TARGET-20-PADZCG-04A-02D.Relapse.A42732  \\\n",
       "position                                            \n",
       "0                                               0   \n",
       "1                                               0   \n",
       "2                                               0   \n",
       "3                                               0   \n",
       "4                                               0   \n",
       "\n",
       "          TARGET-20-PADZCG-14A-01D.Remission.A42641  \\\n",
       "position                                              \n",
       "0                                                 0   \n",
       "1                                                 0   \n",
       "2                                                 0   \n",
       "3                                                 0   \n",
       "4                                                 0   \n",
       "\n",
       "          TARGET-20-PAEAKL-09A-02D.Primary.A41899  \\\n",
       "position                                            \n",
       "0                                               0   \n",
       "1                                               0   \n",
       "2                                               0   \n",
       "3                                               0   \n",
       "4                                               0   \n",
       "\n",
       "          TARGET-20-PAECCE-04A-02D.Relapse.A42731  \\\n",
       "position                                            \n",
       "0                                               1   \n",
       "1                                               1   \n",
       "2                                               1   \n",
       "3                                               1   \n",
       "4                                               1   \n",
       "\n",
       "          TARGET-20-PAECCE-09A-01D.Primary.A41849  \\\n",
       "position                                            \n",
       "0                                               0   \n",
       "1                                               0   \n",
       "2                                               0   \n",
       "3                                               0   \n",
       "4                                               0   \n",
       "\n",
       "                            ...                      \\\n",
       "position                    ...                       \n",
       "0                           ...                       \n",
       "1                           ...                       \n",
       "2                           ...                       \n",
       "3                           ...                       \n",
       "4                           ...                       \n",
       "\n",
       "          TARGET-20-PATMFM-14A-01D.Remission.A42593  \\\n",
       "position                                              \n",
       "0                                                 0   \n",
       "1                                                 0   \n",
       "2                                                 0   \n",
       "3                                                 0   \n",
       "4                                                 0   \n",
       "\n",
       "          TARGET-20-PATMFW-04A-01D.Relapse.A42219  \\\n",
       "position                                            \n",
       "0                                               0   \n",
       "1                                               0   \n",
       "2                                               0   \n",
       "3                                               0   \n",
       "4                                               0   \n",
       "\n",
       "          TARGET-20-PATMFW-09A-01D.Primary.A33343  \\\n",
       "position                                            \n",
       "0                                               0   \n",
       "1                                               0   \n",
       "2                                               0   \n",
       "3                                               0   \n",
       "4                                               0   \n",
       "\n",
       "          TARGET-20-PATMFW-14A-01D.Remission.A42941  \\\n",
       "position                                              \n",
       "0                                                 0   \n",
       "1                                                 0   \n",
       "2                                                 0   \n",
       "3                                                 0   \n",
       "4                                                 0   \n",
       "\n",
       "          TARGET-20-PATMIK-09A-01D.Primary.A33350  \\\n",
       "position                                            \n",
       "0                                               0   \n",
       "1                                               0   \n",
       "2                                               0   \n",
       "3                                               0   \n",
       "4                                               0   \n",
       "\n",
       "          TARGET-20-PATMIK-10A-01D.Remission.A41657  \\\n",
       "position                                              \n",
       "0                                                 0   \n",
       "1                                                 0   \n",
       "2                                                 0   \n",
       "3                                                 0   \n",
       "4                                                 0   \n",
       "\n",
       "          TARGET-20-PATMMC-09A-01D.Primary.A33351  \\\n",
       "position                                            \n",
       "0                                               0   \n",
       "1                                               0   \n",
       "2                                               0   \n",
       "3                                               0   \n",
       "4                                               0   \n",
       "\n",
       "          TARGET-20-PATMNT-09A-01D.Primary.A41717  \\\n",
       "position                                            \n",
       "0                                               0   \n",
       "1                                               0   \n",
       "2                                               0   \n",
       "3                                               0   \n",
       "4                                               0   \n",
       "\n",
       "          TARGET-20-PATMNY-09A-01D.Primary.A33352  \\\n",
       "position                                            \n",
       "0                                               0   \n",
       "1                                               0   \n",
       "2                                               0   \n",
       "3                                               0   \n",
       "4                                               0   \n",
       "\n",
       "          TARGET-20-PATMNY-10A-01D.Remission.A41656  \n",
       "position                                             \n",
       "0                                                 0  \n",
       "1                                                 0  \n",
       "2                                                 0  \n",
       "3                                                 0  \n",
       "4                                                 0  \n",
       "\n",
       "[5 rows x 1595 columns]"
      ]
     },
     "execution_count": 144,
     "metadata": {},
     "output_type": "execute_result"
    }
   ],
   "source": [
    "df.head()"
   ]
  },
  {
   "cell_type": "code",
   "execution_count": 142,
   "metadata": {
    "collapsed": false
   },
   "outputs": [],
   "source": [
    "cov = df.mean()"
   ]
  },
  {
   "cell_type": "code",
   "execution_count": 143,
   "metadata": {
    "collapsed": false
   },
   "outputs": [
    {
     "data": {
      "text/plain": [
       "TARGET-20-PABLDZ-04A-02D.Relapse.A42746      0.0\n",
       "TARGET-20-PABLDZ-09A-02D.Primary.A41853      0.0\n",
       "TARGET-20-PADYIR-04A-02D.Relapse.A42733      0.0\n",
       "TARGET-20-PADYIR-09A-01D.Primary.A41847      0.0\n",
       "TARGET-20-PADYIR-14A-01D.Remission.A42640    0.0\n",
       "dtype: float64"
      ]
     },
     "execution_count": 143,
     "metadata": {},
     "output_type": "execute_result"
    }
   ],
   "source": [
    "cov.head()"
   ]
  },
  {
   "cell_type": "code",
   "execution_count": 44,
   "metadata": {
    "collapsed": false
   },
   "outputs": [
    {
     "data": {
      "text/plain": [
       "pandas.core.series.Series"
      ]
     },
     "execution_count": 44,
     "metadata": {},
     "output_type": "execute_result"
    }
   ],
   "source": [
    "type(cov)"
   ]
  },
  {
   "cell_type": "code",
   "execution_count": 117,
   "metadata": {
    "collapsed": false
   },
   "outputs": [],
   "source": []
  },
  {
   "cell_type": "code",
   "execution_count": 145,
   "metadata": {
    "collapsed": false
   },
   "outputs": [
    {
     "data": {
      "text/html": [
       "<div>\n",
       "<table border=\"1\" class=\"dataframe\">\n",
       "  <thead>\n",
       "    <tr style=\"text-align: right;\">\n",
       "      <th></th>\n",
       "      <th>reads</th>\n",
       "    </tr>\n",
       "    <tr>\n",
       "      <th>library</th>\n",
       "      <th></th>\n",
       "    </tr>\n",
       "  </thead>\n",
       "  <tbody>\n",
       "    <tr>\n",
       "      <th>TARGET-20-PARDMG-09A-01D.Primary.A31187</th>\n",
       "      <td>3.60823</td>\n",
       "    </tr>\n",
       "    <tr>\n",
       "      <th>TARGET-20-PARBFZ-03A-01D.Primary.A31188</th>\n",
       "      <td>4.66950</td>\n",
       "    </tr>\n",
       "    <tr>\n",
       "      <th>TARGET-20-PASWAT-09A-01D.Primary.A31189</th>\n",
       "      <td>3.38369</td>\n",
       "    </tr>\n",
       "    <tr>\n",
       "      <th>TARGET-20-PASWLN-09A-01D.Primary.A31190</th>\n",
       "      <td>3.16828</td>\n",
       "    </tr>\n",
       "    <tr>\n",
       "      <th>TARGET-20-PASYWA-09A-01D.Primary.A31191</th>\n",
       "      <td>2.66403</td>\n",
       "    </tr>\n",
       "  </tbody>\n",
       "</table>\n",
       "</div>"
      ],
      "text/plain": [
       "                                           reads\n",
       "library                                         \n",
       "TARGET-20-PARDMG-09A-01D.Primary.A31187  3.60823\n",
       "TARGET-20-PARBFZ-03A-01D.Primary.A31188  4.66950\n",
       "TARGET-20-PASWAT-09A-01D.Primary.A31189  3.38369\n",
       "TARGET-20-PASWLN-09A-01D.Primary.A31190  3.16828\n",
       "TARGET-20-PASYWA-09A-01D.Primary.A31191  2.66403"
      ]
     },
     "execution_count": 145,
     "metadata": {},
     "output_type": "execute_result"
    }
   ],
   "source": [
    "reads_df.head()"
   ]
  },
  {
   "cell_type": "code",
   "execution_count": 61,
   "metadata": {
    "collapsed": false
   },
   "outputs": [],
   "source": [
    "# type(reads_df.reads)"
   ]
  },
  {
   "cell_type": "code",
   "execution_count": 62,
   "metadata": {
    "collapsed": false
   },
   "outputs": [],
   "source": [
    "# cov.to_frame(name='coverage')"
   ]
  },
  {
   "cell_type": "code",
   "execution_count": 146,
   "metadata": {
    "collapsed": true
   },
   "outputs": [],
   "source": [
    "df1 = cov.to_frame(name='coverage')"
   ]
  },
  {
   "cell_type": "code",
   "execution_count": 147,
   "metadata": {
    "collapsed": false
   },
   "outputs": [
    {
     "data": {
      "text/html": [
       "<div>\n",
       "<table border=\"1\" class=\"dataframe\">\n",
       "  <thead>\n",
       "    <tr style=\"text-align: right;\">\n",
       "      <th></th>\n",
       "      <th>coverage</th>\n",
       "    </tr>\n",
       "  </thead>\n",
       "  <tbody>\n",
       "    <tr>\n",
       "      <th>TARGET-20-PABLDZ-04A-02D.Relapse.A42746</th>\n",
       "      <td>0.0</td>\n",
       "    </tr>\n",
       "    <tr>\n",
       "      <th>TARGET-20-PABLDZ-09A-02D.Primary.A41853</th>\n",
       "      <td>0.0</td>\n",
       "    </tr>\n",
       "  </tbody>\n",
       "</table>\n",
       "</div>"
      ],
      "text/plain": [
       "                                         coverage\n",
       "TARGET-20-PABLDZ-04A-02D.Relapse.A42746       0.0\n",
       "TARGET-20-PABLDZ-09A-02D.Primary.A41853       0.0"
      ]
     },
     "execution_count": 147,
     "metadata": {},
     "output_type": "execute_result"
    }
   ],
   "source": [
    "df1.head(2)"
   ]
  },
  {
   "cell_type": "code",
   "execution_count": 148,
   "metadata": {
    "collapsed": true
   },
   "outputs": [],
   "source": [
    "merged = df1.merge(reads_df, left_index=True, right_index=True)"
   ]
  },
  {
   "cell_type": "code",
   "execution_count": 150,
   "metadata": {
    "collapsed": false
   },
   "outputs": [
    {
     "data": {
      "text/html": [
       "<div>\n",
       "<table border=\"1\" class=\"dataframe\">\n",
       "  <thead>\n",
       "    <tr style=\"text-align: right;\">\n",
       "      <th></th>\n",
       "      <th>coverage</th>\n",
       "      <th>reads</th>\n",
       "    </tr>\n",
       "  </thead>\n",
       "  <tbody>\n",
       "    <tr>\n",
       "      <th>TARGET-20-PALGKX-14A-01D.Remission.A42950</th>\n",
       "      <td>0.0</td>\n",
       "      <td>1.50877</td>\n",
       "    </tr>\n",
       "    <tr>\n",
       "      <th>TARGET-20-PAMYAS-14A-01D.Remission.A42951</th>\n",
       "      <td>0.0</td>\n",
       "      <td>1.74318</td>\n",
       "    </tr>\n",
       "    <tr>\n",
       "      <th>TARGET-20-PAMYGX-14A-01D.Remission.A42952</th>\n",
       "      <td>0.0</td>\n",
       "      <td>2.13056</td>\n",
       "    </tr>\n",
       "    <tr>\n",
       "      <th>TARGET-20-PANGTF-14A-01D.Remission.A42953</th>\n",
       "      <td>0.0</td>\n",
       "      <td>2.22172</td>\n",
       "    </tr>\n",
       "    <tr>\n",
       "      <th>TARGET-20-PANHYK-14A-01D.Remission.A42954</th>\n",
       "      <td>0.0</td>\n",
       "      <td>3.36592</td>\n",
       "    </tr>\n",
       "  </tbody>\n",
       "</table>\n",
       "</div>"
      ],
      "text/plain": [
       "                                           coverage    reads\n",
       "TARGET-20-PALGKX-14A-01D.Remission.A42950       0.0  1.50877\n",
       "TARGET-20-PAMYAS-14A-01D.Remission.A42951       0.0  1.74318\n",
       "TARGET-20-PAMYGX-14A-01D.Remission.A42952       0.0  2.13056\n",
       "TARGET-20-PANGTF-14A-01D.Remission.A42953       0.0  2.22172\n",
       "TARGET-20-PANHYK-14A-01D.Remission.A42954       0.0  3.36592"
      ]
     },
     "execution_count": 150,
     "metadata": {},
     "output_type": "execute_result"
    }
   ],
   "source": [
    "merged.tail()"
   ]
  },
  {
   "cell_type": "code",
   "execution_count": 151,
   "metadata": {
    "collapsed": false
   },
   "outputs": [],
   "source": [
    "s = merged.coverage / merged.reads"
   ]
  },
  {
   "cell_type": "code",
   "execution_count": 152,
   "metadata": {
    "collapsed": false
   },
   "outputs": [
    {
     "data": {
      "text/plain": [
       "TARGET-20-PALGKX-14A-01D.Remission.A42950    0.0\n",
       "TARGET-20-PAMYAS-14A-01D.Remission.A42951    0.0\n",
       "TARGET-20-PAMYGX-14A-01D.Remission.A42952    0.0\n",
       "TARGET-20-PANGTF-14A-01D.Remission.A42953    0.0\n",
       "TARGET-20-PANHYK-14A-01D.Remission.A42954    0.0\n",
       "dtype: float64"
      ]
     },
     "execution_count": 152,
     "metadata": {},
     "output_type": "execute_result"
    }
   ],
   "source": [
    "s.tail()"
   ]
  },
  {
   "cell_type": "code",
   "execution_count": 153,
   "metadata": {
    "collapsed": false
   },
   "outputs": [
    {
     "data": {
      "text/plain": [
       "TARGET-20-PABLDZ-04A-02D.Relapse.A42746    0.0\n",
       "dtype: float64"
      ]
     },
     "execution_count": 153,
     "metadata": {},
     "output_type": "execute_result"
    }
   ],
   "source": [
    "s[s.index == 'TARGET-20-PABLDZ-04A-02D.Relapse.A42746']"
   ]
  },
  {
   "cell_type": "code",
   "execution_count": 154,
   "metadata": {
    "collapsed": false
   },
   "outputs": [],
   "source": [
    "joined = df1.join(reads_df)"
   ]
  },
  {
   "cell_type": "code",
   "execution_count": 155,
   "metadata": {
    "collapsed": false
   },
   "outputs": [
    {
     "data": {
      "text/html": [
       "<div>\n",
       "<table border=\"1\" class=\"dataframe\">\n",
       "  <thead>\n",
       "    <tr style=\"text-align: right;\">\n",
       "      <th></th>\n",
       "      <th>coverage</th>\n",
       "      <th>reads</th>\n",
       "    </tr>\n",
       "  </thead>\n",
       "  <tbody>\n",
       "    <tr>\n",
       "      <th>TARGET-20-PABLDZ-04A-02D.Relapse.A42746</th>\n",
       "      <td>0.0</td>\n",
       "      <td>2.37463</td>\n",
       "    </tr>\n",
       "    <tr>\n",
       "      <th>TARGET-20-PABLDZ-09A-02D.Primary.A41853</th>\n",
       "      <td>0.0</td>\n",
       "      <td>2.15473</td>\n",
       "    </tr>\n",
       "    <tr>\n",
       "      <th>TARGET-20-PADYIR-04A-02D.Relapse.A42733</th>\n",
       "      <td>0.0</td>\n",
       "      <td>1.73801</td>\n",
       "    </tr>\n",
       "    <tr>\n",
       "      <th>TARGET-20-PADYIR-09A-01D.Primary.A41847</th>\n",
       "      <td>0.0</td>\n",
       "      <td>2.29661</td>\n",
       "    </tr>\n",
       "    <tr>\n",
       "      <th>TARGET-20-PADYIR-14A-01D.Remission.A42640</th>\n",
       "      <td>0.0</td>\n",
       "      <td>1.25490</td>\n",
       "    </tr>\n",
       "  </tbody>\n",
       "</table>\n",
       "</div>"
      ],
      "text/plain": [
       "                                           coverage    reads\n",
       "TARGET-20-PABLDZ-04A-02D.Relapse.A42746         0.0  2.37463\n",
       "TARGET-20-PABLDZ-09A-02D.Primary.A41853         0.0  2.15473\n",
       "TARGET-20-PADYIR-04A-02D.Relapse.A42733         0.0  1.73801\n",
       "TARGET-20-PADYIR-09A-01D.Primary.A41847         0.0  2.29661\n",
       "TARGET-20-PADYIR-14A-01D.Remission.A42640       0.0  1.25490"
      ]
     },
     "execution_count": 155,
     "metadata": {},
     "output_type": "execute_result"
    }
   ],
   "source": [
    "joined.head()"
   ]
  },
  {
   "cell_type": "code",
   "execution_count": null,
   "metadata": {
    "collapsed": true
   },
   "outputs": [],
   "source": []
  },
  {
   "cell_type": "code",
   "execution_count": 156,
   "metadata": {
    "collapsed": true
   },
   "outputs": [],
   "source": [
    "df1.join?"
   ]
  },
  {
   "cell_type": "code",
   "execution_count": 137,
   "metadata": {
    "collapsed": false
   },
   "outputs": [],
   "source": [
    "'''parse coverage data frame, calculate mean, and normalize coverage'''\n",
    "import os\n",
    "import re\n",
    "import datetime\n",
    "import tempfile\n",
    " \n",
    "import numpy as np\n",
    "import pandas as pd\n",
    "#import scipy.optimize as spo\n",
    "import matplotlib.pyplot as plt\n",
    "\n",
    "\n",
    "def plot_data(df, title=\"normalized coverage\"):\n",
    "    \"\"\"Plot coverage with a custom title and meaningful axis labels.\"\"\"\n",
    "    ax = df.plot(title=title, fontsize=12)\n",
    "    ax.set_xlabel(\"patient\")\n",
    "    ax.set_ylabel(\"normalized coverage\")\n",
    "    plt.tick_params(axis='x', labelbottom='off') #suppress x axis tick labels\n",
    "    #plt.show()\n",
    "    plt.savefig('foo.png')\n",
    "    \n",
    "def write_tsv(df, outfile):\n",
    "    df.to_csv(outfile, sep='\\t', encoding='utf-8')    \n",
    "    \n"
   ]
  },
  {
   "cell_type": "code",
   "execution_count": 183,
   "metadata": {
    "collapsed": false
   },
   "outputs": [
    {
     "data": {
      "text/plain": [
       "u'/home/szong/projects/development/coverage'"
      ]
     },
     "execution_count": 183,
     "metadata": {},
     "output_type": "execute_result"
    }
   ],
   "source": [
    "pwd\n"
   ]
  },
  {
   "cell_type": "code",
   "execution_count": 185,
   "metadata": {
    "collapsed": false
   },
   "outputs": [
    {
     "data": {
      "text/html": [
       "<div>\n",
       "<table border=\"1\" class=\"dataframe\">\n",
       "  <thead>\n",
       "    <tr style=\"text-align: right;\">\n",
       "      <th></th>\n",
       "      <th>reads</th>\n",
       "    </tr>\n",
       "    <tr>\n",
       "      <th>library</th>\n",
       "      <th></th>\n",
       "    </tr>\n",
       "  </thead>\n",
       "  <tbody>\n",
       "    <tr>\n",
       "      <th>TARGET-20-PARDMG-09A-01D.Primary.A31187</th>\n",
       "      <td>3.60823</td>\n",
       "    </tr>\n",
       "    <tr>\n",
       "      <th>TARGET-20-PARBFZ-03A-01D.Primary.A31188</th>\n",
       "      <td>4.66950</td>\n",
       "    </tr>\n",
       "    <tr>\n",
       "      <th>TARGET-20-PASWAT-09A-01D.Primary.A31189</th>\n",
       "      <td>3.38369</td>\n",
       "    </tr>\n",
       "    <tr>\n",
       "      <th>TARGET-20-PASWLN-09A-01D.Primary.A31190</th>\n",
       "      <td>3.16828</td>\n",
       "    </tr>\n",
       "    <tr>\n",
       "      <th>TARGET-20-PASYWA-09A-01D.Primary.A31191</th>\n",
       "      <td>2.66403</td>\n",
       "    </tr>\n",
       "  </tbody>\n",
       "</table>\n",
       "</div>"
      ],
      "text/plain": [
       "                                           reads\n",
       "library                                         \n",
       "TARGET-20-PARDMG-09A-01D.Primary.A31187  3.60823\n",
       "TARGET-20-PARBFZ-03A-01D.Primary.A31188  4.66950\n",
       "TARGET-20-PASWAT-09A-01D.Primary.A31189  3.38369\n",
       "TARGET-20-PASWLN-09A-01D.Primary.A31190  3.16828\n",
       "TARGET-20-PASYWA-09A-01D.Primary.A31191  2.66403"
      ]
     },
     "execution_count": 185,
     "metadata": {},
     "output_type": "execute_result"
    }
   ],
   "source": [
    "reads_df = pd.read_csv('/home/szong/projects/development/coverage/bamstats_summary.txt',\n",
    "               sep='\\t',\n",
    "               index_col='library',\n",
    "               na_values=['nan'])\n",
    "reads_df.head()"
   ]
  },
  {
   "cell_type": "code",
   "execution_count": 187,
   "metadata": {
    "collapsed": false
   },
   "outputs": [
    {
     "data": {
      "text/html": [
       "<div>\n",
       "<table border=\"1\" class=\"dataframe\">\n",
       "  <thead>\n",
       "    <tr style=\"text-align: right;\">\n",
       "      <th></th>\n",
       "      <th>0</th>\n",
       "      <th>1</th>\n",
       "      <th>2</th>\n",
       "      <th>3</th>\n",
       "    </tr>\n",
       "  </thead>\n",
       "  <tbody>\n",
       "    <tr>\n",
       "      <th>0</th>\n",
       "      <td>11</td>\n",
       "      <td>32409302</td>\n",
       "      <td>32409542</td>\n",
       "      <td>WT1_EXON_1</td>\n",
       "    </tr>\n",
       "    <tr>\n",
       "      <th>1</th>\n",
       "      <td>11</td>\n",
       "      <td>32409564</td>\n",
       "      <td>32410764</td>\n",
       "      <td>WT1_EXON_2</td>\n",
       "    </tr>\n",
       "    <tr>\n",
       "      <th>2</th>\n",
       "      <td>11</td>\n",
       "      <td>32413473</td>\n",
       "      <td>32413653</td>\n",
       "      <td>WT1_EXON_3</td>\n",
       "    </tr>\n",
       "    <tr>\n",
       "      <th>3</th>\n",
       "      <td>11</td>\n",
       "      <td>32414166</td>\n",
       "      <td>32414346</td>\n",
       "      <td>WT1_EXON_4</td>\n",
       "    </tr>\n",
       "    <tr>\n",
       "      <th>4</th>\n",
       "      <td>11</td>\n",
       "      <td>32417757</td>\n",
       "      <td>32417997</td>\n",
       "      <td>WT1_EXON_5</td>\n",
       "    </tr>\n",
       "  </tbody>\n",
       "</table>\n",
       "</div>"
      ],
      "text/plain": [
       "    0         1         2           3\n",
       "0  11  32409302  32409542  WT1_EXON_1\n",
       "1  11  32409564  32410764  WT1_EXON_2\n",
       "2  11  32413473  32413653  WT1_EXON_3\n",
       "3  11  32414166  32414346  WT1_EXON_4\n",
       "4  11  32417757  32417997  WT1_EXON_5"
      ]
     },
     "execution_count": 187,
     "metadata": {},
     "output_type": "execute_result"
    }
   ],
   "source": [
    "\n",
    "exon_df = pd.read_csv('/home/szong/projects/development/coverage/WT1_intervals.txt',\n",
    "               sep='\\t',\n",
    "               header=None,\n",
    "               #index_col='library',\n",
    "               #usecols=['coverage'], \n",
    "               na_values=['nan'])\n",
    "exon_df.head()"
   ]
  },
  {
   "cell_type": "code",
   "execution_count": 140,
   "metadata": {
    "collapsed": false
   },
   "outputs": [
    {
     "data": {
      "text/plain": [
       "TARGET-20-PASZAI-09A-01D.Primary.A41464       92.778287\n",
       "TARGET-20-PARNIN-03A-01D.Primary.A41932      100.901586\n",
       "TARGET-20-PARAFA-09A-01D.Primary.A41908      189.182051\n",
       "TARGET-20-PATISD-14A-01D.Remission.A42294    267.185129\n",
       "TARGET-20-PASUUP-09A-01D.Primary.A41834      279.650166\n",
       "dtype: float64"
      ]
     },
     "execution_count": 140,
     "metadata": {},
     "output_type": "execute_result"
    }
   ],
   "source": [
    "    \n",
    "cov_df = pd.read_csv('/home/szong/projects/development/coverage/coverage.txt',\n",
    "               sep='\\t',\n",
    "               index_col='position',\n",
    "               #usecols=['coverage'], \n",
    "               na_values=['nan'])\n",
    "\n",
    "\n",
    "\n",
    "# integer can be column index\n",
    "exon_bases = int((exon_df[2]-exon_df[1]).sum())\n",
    "cov = df.mean()\n",
    "all_pileup_positions = 49862\n",
    "\n",
    "normalized = all_pileup_positions*float(reads_df.mean()) * (cov / reads_df.reads)/exon_bases\n",
    "\n",
    "write_tsv(normalized.sort_values(), 'normalized_coverage.txt')\n",
    "\n",
    "plot_data(normalized.sort_values())\n",
    "normalized.sort_values().head()\n",
    "\n"
   ]
  },
  {
   "cell_type": "code",
   "execution_count": 120,
   "metadata": {
    "collapsed": false
   },
   "outputs": [
    {
     "data": {
      "image/png": "[encoded data removed]",
      "text/plain": [
       "<matplotlib.figure.Figure at 0x7f7c5bcbb390>"
      ]
     },
     "metadata": {},
     "output_type": "display_data"
    }
   ],
   "source": []
  },
  {
   "cell_type": "code",
   "execution_count": 104,
   "metadata": {
    "collapsed": true
   },
   "outputs": [],
   "source": []
  },
  {
   "cell_type": "code",
   "execution_count": null,
   "metadata": {
    "collapsed": true
   },
   "outputs": [],
   "source": []
  },
  {
   "cell_type": "code",
   "execution_count": 109,
   "metadata": {
    "collapsed": true
   },
   "outputs": [],
   "source": []
  },
  {
   "cell_type": "code",
   "execution_count": 114,
   "metadata": {
    "collapsed": false
   },
   "outputs": [
    {
     "data": {
      "text/plain": [
       "3900"
      ]
     },
     "execution_count": 114,
     "metadata": {},
     "output_type": "execute_result"
    }
   ],
   "source": []
  },
  {
   "cell_type": "code",
   "execution_count": 47,
   "metadata": {
    "collapsed": false
   },
   "outputs": [
    {
     "data": {
      "text/plain": [
       "reads    1.963289\n",
       "dtype: float64"
      ]
     },
     "execution_count": 47,
     "metadata": {},
     "output_type": "execute_result"
    }
   ],
   "source": [
    "reads_df.mean()"
   ]
  },
  {
   "cell_type": "code",
   "execution_count": 48,
   "metadata": {
    "collapsed": false
   },
   "outputs": [
    {
     "data": {
      "text/plain": [
       "pandas.core.frame.DataFrame"
      ]
     },
     "execution_count": 48,
     "metadata": {},
     "output_type": "execute_result"
    }
   ],
   "source": [
    "type(reads_df)"
   ]
  },
  {
   "cell_type": "code",
   "execution_count": 54,
   "metadata": {
    "collapsed": false
   },
   "outputs": [
    {
     "data": {
      "text/plain": [
       "library\n",
       "TARGET-20-PARDMG-09A-01D.Primary.A31187    3.60823\n",
       "TARGET-20-PARBFZ-03A-01D.Primary.A31188    4.66950\n",
       "TARGET-20-PASWAT-09A-01D.Primary.A31189    3.38369\n",
       "TARGET-20-PASWLN-09A-01D.Primary.A31190    3.16828\n",
       "TARGET-20-PASYWA-09A-01D.Primary.A31191    2.66403\n",
       "Name: reads, dtype: float64"
      ]
     },
     "execution_count": 54,
     "metadata": {},
     "output_type": "execute_result"
    }
   ],
   "source": [
    "# access columns\n",
    "reads_df['reads'].head()"
   ]
  },
  {
   "cell_type": "code",
   "execution_count": null,
   "metadata": {
    "collapsed": true
   },
   "outputs": [],
   "source": []
  },
  {
   "cell_type": "code",
   "execution_count": 56,
   "metadata": {
    "collapsed": false
   },
   "outputs": [],
   "source": [
    "#  access df rows by index label\n",
    "read = reads_df.loc[['TARGET-20-PARBFZ-03A-01D.Primary.A31188']]"
   ]
  },
  {
   "cell_type": "code",
   "execution_count": 51,
   "metadata": {
    "collapsed": false
   },
   "outputs": [
    {
     "data": {
      "text/html": [
       "<div>\n",
       "<table border=\"1\" class=\"dataframe\">\n",
       "  <thead>\n",
       "    <tr style=\"text-align: right;\">\n",
       "      <th></th>\n",
       "      <th>reads</th>\n",
       "    </tr>\n",
       "    <tr>\n",
       "      <th>library</th>\n",
       "      <th></th>\n",
       "    </tr>\n",
       "  </thead>\n",
       "  <tbody>\n",
       "    <tr>\n",
       "      <th>TARGET-20-PARBFZ-03A-01D_Primary_A31188</th>\n",
       "      <td>4.6695</td>\n",
       "    </tr>\n",
       "  </tbody>\n",
       "</table>\n",
       "</div>"
      ],
      "text/plain": [
       "                                          reads\n",
       "library                                        \n",
       "TARGET-20-PARBFZ-03A-01D_Primary_A31188  4.6695"
      ]
     },
     "execution_count": 51,
     "metadata": {},
     "output_type": "execute_result"
    }
   ],
   "source": [
    "type(read)\n",
    "read"
   ]
  },
  {
   "cell_type": "code",
   "execution_count": 2,
   "metadata": {
    "collapsed": false
   },
   "outputs": [],
   "source": [
    "import os\n",
    "import re\n",
    "import datetime\n",
    "import tempfile\n",
    " \n",
    "import numpy as np\n",
    "import pandas as pd\n",
    "#import scipy.optimize as spo\n",
    "import matplotlib.pyplot as plt\n",
    "\n",
    " \n",
    "def library_to_path(library):\n",
    "    return os.path.join('/home/szong/projects/development/coverage/data', '{0}.exon.coverage.txt.header'.format(library))\n",
    "\n",
    "\n",
    "def library_list(infile):\n",
    "    libraries = []\n",
    "    with open(infile, 'r') as fh:\n",
    "        for line in fh:\n",
    "           libraries.append(line.strip()) \n",
    "    #print libraries\n",
    "    return libraries\n",
    "\n",
    "\n",
    "def get_data(libraries):\n",
    "    for library in libraries:\n",
    "        if library == libraries[0]:\n",
    "            df = pd.read_csv(library_to_path(library), \n",
    "                                  sep='\\t',\n",
    "                                  #index_col='position',\n",
    "                                  usecols=['coverage'], \n",
    "                                  na_values=['nan'])\n",
    "            df = df.rename(columns={'coverage': library})\n",
    "        else:    \n",
    "            df_temp = pd.read_csv(library_to_path(library), \n",
    "                                  sep='\\t',\n",
    "                                  #index_col='position',\n",
    "                                  usecols=['coverage'], \n",
    "                                  na_values=['nan'])\n",
    "            df_temp = df_temp.rename(columns={'coverage': library})\n",
    "            df = df.join(df_temp)\n",
    "    #print df.head()\n",
    "      \n",
    "    return df\n",
    "\n",
    "\n",
    "def write_tsv(df, outfile):\n",
    "    df.to_csv(outfile, sep='\\t', encoding='utf-8')\n",
    "\n",
    "    \n",
    "def plot_data(df, title=\"bedcoverage\"):\n",
    "    \"\"\"Plot coverage with a custom title and meaningful axis labels.\"\"\"\n",
    "    ax = df.plot(title=title, fontsize=12)\n",
    "    ax.set_xlabel(\"position\")\n",
    "    ax.set_ylabel(\"coverage\")\n",
    "   \n",
    "    plt.show()\n",
    "    \n",
    "    \n",
    "   \n"
   ]
  },
  {
   "cell_type": "code",
   "execution_count": 11,
   "metadata": {
    "collapsed": false
   },
   "outputs": [],
   "source": [
    "infile = '/home/szong/projects/development/coverage/library_list.txt'\n",
    "outfile = '/home/szong/projects/development/coverage/coverage.txt'\n",
    "libraries = library_list(infile)\n",
    "df = get_data(libraries)\n",
    "write_tsv(df, outfile)\n",
    "\n",
    "#plot_data(df)"
   ]
  },
  {
   "cell_type": "code",
   "execution_count": 6,
   "metadata": {
    "collapsed": false
   },
   "outputs": [
    {
     "data": {
      "text/plain": [
       "['TARGET-20-PABLDZ-04A-02D.Relapse.A42746',\n",
       " 'TARGET-20-PABLDZ-09A-02D.Primary.A41853',\n",
       " 'TARGET-20-PADYIR-04A-02D.Relapse.A42733']"
      ]
     },
     "execution_count": 6,
     "metadata": {},
     "output_type": "execute_result"
    }
   ],
   "source": [
    "libraries\n"
   ]
  },
  {
   "cell_type": "code",
   "execution_count": 10,
   "metadata": {
    "collapsed": false
   },
   "outputs": [
    {
     "name": "stdout",
     "output_type": "stream",
     "text": [
      "coverage.txt\n",
      "\tTARGET-20-PABLDZ-04A-02D.Relapse.A42746\tTARGET-20-PABLDZ-09A-02D.Primary.A41853\tTARGET-20-PADYIR-04A-02D.Relapse.A42733\n",
      "0\t0\t0\t0\n",
      "1\t0\t0\t0\n",
      "2\t0\t0\t0\n",
      "3\t0\t0\t0\n",
      "4\t0\t0\t0\n",
      "5\t0\t0\t0\n",
      "6\t0\t0\t0\n",
      "7\t0\t0\t0\n",
      "8\t0\t0\t0\n"
     ]
    }
   ],
   "source": [
    "!ls coverage.txt\n",
    "!head coverage.txt\n",
    "\n"
   ]
  },
  {
   "cell_type": "code",
   "execution_count": 12,
   "metadata": {
    "collapsed": false
   },
   "outputs": [
    {
     "data": {
      "text/plain": [
       "pandas.core.series.Series"
      ]
     },
     "execution_count": 12,
     "metadata": {},
     "output_type": "execute_result"
    }
   ],
   "source": [
    "df_mean = df.mean().sort_values()\n",
    "df_mean\n",
    "type(df_mean)"
   ]
  },
  {
   "cell_type": "code",
   "execution_count": 13,
   "metadata": {
    "collapsed": false
   },
   "outputs": [
    {
     "data": {
      "image/png": "[encoded data removed]",
      "text/plain": [
       "<matplotlib.figure.Figure at 0x7f038fc1ffd0>"
      ]
     },
     "metadata": {},
     "output_type": "display_data"
    }
   ],
   "source": [
    "plot_data(df_mean)"
   ]
  },
  {
   "cell_type": "code",
   "execution_count": 15,
   "metadata": {
    "collapsed": false
   },
   "outputs": [
    {
     "ename": "NameError",
     "evalue": "name 'aa' is not defined",
     "output_type": "error",
     "traceback": [
      "\u001b[0;31m---------------------------------------------------------------------------\u001b[0m",
      "\u001b[0;31mNameError\u001b[0m                                 Traceback (most recent call last)",
      "\u001b[0;32m<ipython-input-15-586dce9c6f33>\u001b[0m in \u001b[0;36m<module>\u001b[0;34m()\u001b[0m\n\u001b[0;32m----> 1\u001b[0;31m \u001b[0mdf_mean\u001b[0m \u001b[0;34m>\u001b[0m \u001b[0maa\u001b[0m\u001b[0;34m.\u001b[0m\u001b[0mtmp\u001b[0m\u001b[0;34m\u001b[0m\u001b[0m\n\u001b[0m",
      "\u001b[0;31mNameError\u001b[0m: name 'aa' is not defined"
     ]
    }
   ],
   "source": [
    "df_mean > aa.tmp"
   ]
  },
  {
   "cell_type": "code",
   "execution_count": null,
   "metadata": {
    "collapsed": true
   },
   "outputs": [],
   "source": [
    "fdkfjdfj"
   ]
  },
  {
   "cell_type": "code",
   "execution_count": null,
   "metadata": {
    "collapsed": true
   },
   "outputs": [],
   "source": [
    "#     adkfjdf"
   ]
  }
 ],
 "metadata": {
  "kernelspec": {
   "display_name": "Python 2",
   "language": "python",
   "name": "python2"
  },
  "language_info": {
   "codemirror_mode": {
    "name": "ipython",
    "version": 2
   },
   "file_extension": ".py",
   "mimetype": "text/x-python",
   "name": "python",
   "nbconvert_exporter": "python",
   "pygments_lexer": "ipython2",
   "version": "2.7.12"
  }
 },
 "nbformat": 4,
 "nbformat_minor": 0
}
